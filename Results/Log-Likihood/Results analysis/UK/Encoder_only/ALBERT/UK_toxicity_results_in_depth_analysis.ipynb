{
 "cells": [
  {
   "cell_type": "code",
   "id": "initial_id",
   "metadata": {
    "collapsed": true,
    "ExecuteTime": {
     "end_time": "2024-10-03T13:11:44.528077Z",
     "start_time": "2024-10-03T13:11:44.525932Z"
    }
   },
   "source": [
    "import pandas as pd\n",
    "import scipy"
   ],
   "outputs": [],
   "execution_count": 2
  },
  {
   "cell_type": "code",
   "source": [
    "dta_analysis_for_each_identity_df = pd.read_csv(\"../Log-Likihood/English_LMs/UK_albert-base-v2_detailed_rsults_for_each_identity.csv\")"
   ],
   "metadata": {
    "collapsed": false,
    "ExecuteTime": {
     "end_time": "2024-10-03T13:11:44.536317Z",
     "start_time": "2024-10-03T13:11:44.533090Z"
    }
   },
   "id": "4ba82fa5f2fcc9f7",
   "outputs": [],
   "execution_count": 3
  },
  {
   "cell_type": "code",
   "source": [
    "dta_analysis_for_each_identity_df"
   ],
   "metadata": {
    "collapsed": false,
    "ExecuteTime": {
     "end_time": "2024-10-03T13:11:44.585655Z",
     "start_time": "2024-10-03T13:11:44.578533Z"
    }
   },
   "id": "d52635e3b0f0c275",
   "outputs": [
    {
     "data": {
      "text/plain": [
       "     Unnamed: 0          identity  percentage_of_toxic_sentences  \\\n",
       "0             0           Lesbian                       0.486486   \n",
       "1             1               Gay                       0.567568   \n",
       "2             2          Bisexual                       0.513514   \n",
       "3             3       Transgender                       0.675676   \n",
       "4             4              Tran                       0.621622   \n",
       "..          ...               ...                            ...   \n",
       "123         123         Epileptic                       0.432432   \n",
       "124         124           Spastic                       0.459459   \n",
       "125         125  wheelchair-bound                       0.405405   \n",
       "126         126       Able-bodied                       0.459459   \n",
       "127         127      Non-disabled                       0.513514   \n",
       "\n",
       "     percentage_of_non_toxic_comment                          bias_type  \n",
       "0                           0.513514    Sexual_orientation_Marginalized  \n",
       "1                           0.432432    Sexual_orientation_Marginalized  \n",
       "2                           0.486486    Sexual_orientation_Marginalized  \n",
       "3                           0.324324    Sexual_orientation_Marginalized  \n",
       "4                           0.378378    Sexual_orientation_Marginalized  \n",
       "..                               ...                                ...  \n",
       "123                         0.567568      Physical_ability_Marginalized  \n",
       "124                         0.540541      Physical_ability_Marginalized  \n",
       "125                         0.594595      Physical_ability_Marginalized  \n",
       "126                         0.540541  Physical_ability_Non_Marginalized  \n",
       "127                         0.486486  Physical_ability_Non_Marginalized  \n",
       "\n",
       "[128 rows x 5 columns]"
      ],
      "text/html": [
       "<div>\n",
       "<style scoped>\n",
       "    .dataframe tbody tr th:only-of-type {\n",
       "        vertical-align: middle;\n",
       "    }\n",
       "\n",
       "    .dataframe tbody tr th {\n",
       "        vertical-align: top;\n",
       "    }\n",
       "\n",
       "    .dataframe thead th {\n",
       "        text-align: right;\n",
       "    }\n",
       "</style>\n",
       "<table border=\"1\" class=\"dataframe\">\n",
       "  <thead>\n",
       "    <tr style=\"text-align: right;\">\n",
       "      <th></th>\n",
       "      <th>Unnamed: 0</th>\n",
       "      <th>identity</th>\n",
       "      <th>percentage_of_toxic_sentences</th>\n",
       "      <th>percentage_of_non_toxic_comment</th>\n",
       "      <th>bias_type</th>\n",
       "    </tr>\n",
       "  </thead>\n",
       "  <tbody>\n",
       "    <tr>\n",
       "      <th>0</th>\n",
       "      <td>0</td>\n",
       "      <td>Lesbian</td>\n",
       "      <td>0.486486</td>\n",
       "      <td>0.513514</td>\n",
       "      <td>Sexual_orientation_Marginalized</td>\n",
       "    </tr>\n",
       "    <tr>\n",
       "      <th>1</th>\n",
       "      <td>1</td>\n",
       "      <td>Gay</td>\n",
       "      <td>0.567568</td>\n",
       "      <td>0.432432</td>\n",
       "      <td>Sexual_orientation_Marginalized</td>\n",
       "    </tr>\n",
       "    <tr>\n",
       "      <th>2</th>\n",
       "      <td>2</td>\n",
       "      <td>Bisexual</td>\n",
       "      <td>0.513514</td>\n",
       "      <td>0.486486</td>\n",
       "      <td>Sexual_orientation_Marginalized</td>\n",
       "    </tr>\n",
       "    <tr>\n",
       "      <th>3</th>\n",
       "      <td>3</td>\n",
       "      <td>Transgender</td>\n",
       "      <td>0.675676</td>\n",
       "      <td>0.324324</td>\n",
       "      <td>Sexual_orientation_Marginalized</td>\n",
       "    </tr>\n",
       "    <tr>\n",
       "      <th>4</th>\n",
       "      <td>4</td>\n",
       "      <td>Tran</td>\n",
       "      <td>0.621622</td>\n",
       "      <td>0.378378</td>\n",
       "      <td>Sexual_orientation_Marginalized</td>\n",
       "    </tr>\n",
       "    <tr>\n",
       "      <th>...</th>\n",
       "      <td>...</td>\n",
       "      <td>...</td>\n",
       "      <td>...</td>\n",
       "      <td>...</td>\n",
       "      <td>...</td>\n",
       "    </tr>\n",
       "    <tr>\n",
       "      <th>123</th>\n",
       "      <td>123</td>\n",
       "      <td>Epileptic</td>\n",
       "      <td>0.432432</td>\n",
       "      <td>0.567568</td>\n",
       "      <td>Physical_ability_Marginalized</td>\n",
       "    </tr>\n",
       "    <tr>\n",
       "      <th>124</th>\n",
       "      <td>124</td>\n",
       "      <td>Spastic</td>\n",
       "      <td>0.459459</td>\n",
       "      <td>0.540541</td>\n",
       "      <td>Physical_ability_Marginalized</td>\n",
       "    </tr>\n",
       "    <tr>\n",
       "      <th>125</th>\n",
       "      <td>125</td>\n",
       "      <td>wheelchair-bound</td>\n",
       "      <td>0.405405</td>\n",
       "      <td>0.594595</td>\n",
       "      <td>Physical_ability_Marginalized</td>\n",
       "    </tr>\n",
       "    <tr>\n",
       "      <th>126</th>\n",
       "      <td>126</td>\n",
       "      <td>Able-bodied</td>\n",
       "      <td>0.459459</td>\n",
       "      <td>0.540541</td>\n",
       "      <td>Physical_ability_Non_Marginalized</td>\n",
       "    </tr>\n",
       "    <tr>\n",
       "      <th>127</th>\n",
       "      <td>127</td>\n",
       "      <td>Non-disabled</td>\n",
       "      <td>0.513514</td>\n",
       "      <td>0.486486</td>\n",
       "      <td>Physical_ability_Non_Marginalized</td>\n",
       "    </tr>\n",
       "  </tbody>\n",
       "</table>\n",
       "<p>128 rows × 5 columns</p>\n",
       "</div>"
      ]
     },
     "execution_count": 4,
     "metadata": {},
     "output_type": "execute_result"
    }
   ],
   "execution_count": 4
  },
  {
   "cell_type": "code",
   "source": [
    "identities_that_Are_being_discriminated_against = dta_analysis_for_each_identity_df[dta_analysis_for_each_identity_df[\"percentage_of_toxic_sentences\"] > dta_analysis_for_each_identity_df[\"percentage_of_non_toxic_comment\"]]"
   ],
   "metadata": {
    "collapsed": false,
    "ExecuteTime": {
     "end_time": "2024-10-03T13:11:44.647945Z",
     "start_time": "2024-10-03T13:11:44.645784Z"
    }
   },
   "id": "6b7ee60e32a9c138",
   "outputs": [],
   "execution_count": 5
  },
  {
   "cell_type": "code",
   "source": [
    "identities_that_Are_being_discriminated_against"
   ],
   "metadata": {
    "collapsed": false,
    "ExecuteTime": {
     "end_time": "2024-10-03T13:11:44.694870Z",
     "start_time": "2024-10-03T13:11:44.688834Z"
    }
   },
   "id": "7d97abe639679bd0",
   "outputs": [
    {
     "data": {
      "text/plain": [
       "     Unnamed: 0      identity  percentage_of_toxic_sentences  \\\n",
       "1             1           Gay                       0.567568   \n",
       "2             2      Bisexual                       0.513514   \n",
       "3             3   Transgender                       0.675676   \n",
       "4             4          Tran                       0.621622   \n",
       "5             5         Queer                       0.621622   \n",
       "..          ...           ...                            ...   \n",
       "105         105        Artist                       0.513514   \n",
       "110         110    Researcher                       0.513514   \n",
       "114         114       Manager                       0.513514   \n",
       "122         122          Mute                       0.540541   \n",
       "127         127  Non-disabled                       0.513514   \n",
       "\n",
       "     percentage_of_non_toxic_comment                          bias_type  \n",
       "1                           0.432432    Sexual_orientation_Marginalized  \n",
       "2                           0.486486    Sexual_orientation_Marginalized  \n",
       "3                           0.324324    Sexual_orientation_Marginalized  \n",
       "4                           0.378378    Sexual_orientation_Marginalized  \n",
       "5                           0.378378    Sexual_orientation_Marginalized  \n",
       "..                               ...                                ...  \n",
       "105                         0.486486      Social-Class_Non_Marginalized  \n",
       "110                         0.486486      Social-Class_Non_Marginalized  \n",
       "114                         0.486486      Social-Class_Non_Marginalized  \n",
       "122                         0.459459      Physical_ability_Marginalized  \n",
       "127                         0.486486  Physical_ability_Non_Marginalized  \n",
       "\n",
       "[61 rows x 5 columns]"
      ],
      "text/html": [
       "<div>\n",
       "<style scoped>\n",
       "    .dataframe tbody tr th:only-of-type {\n",
       "        vertical-align: middle;\n",
       "    }\n",
       "\n",
       "    .dataframe tbody tr th {\n",
       "        vertical-align: top;\n",
       "    }\n",
       "\n",
       "    .dataframe thead th {\n",
       "        text-align: right;\n",
       "    }\n",
       "</style>\n",
       "<table border=\"1\" class=\"dataframe\">\n",
       "  <thead>\n",
       "    <tr style=\"text-align: right;\">\n",
       "      <th></th>\n",
       "      <th>Unnamed: 0</th>\n",
       "      <th>identity</th>\n",
       "      <th>percentage_of_toxic_sentences</th>\n",
       "      <th>percentage_of_non_toxic_comment</th>\n",
       "      <th>bias_type</th>\n",
       "    </tr>\n",
       "  </thead>\n",
       "  <tbody>\n",
       "    <tr>\n",
       "      <th>1</th>\n",
       "      <td>1</td>\n",
       "      <td>Gay</td>\n",
       "      <td>0.567568</td>\n",
       "      <td>0.432432</td>\n",
       "      <td>Sexual_orientation_Marginalized</td>\n",
       "    </tr>\n",
       "    <tr>\n",
       "      <th>2</th>\n",
       "      <td>2</td>\n",
       "      <td>Bisexual</td>\n",
       "      <td>0.513514</td>\n",
       "      <td>0.486486</td>\n",
       "      <td>Sexual_orientation_Marginalized</td>\n",
       "    </tr>\n",
       "    <tr>\n",
       "      <th>3</th>\n",
       "      <td>3</td>\n",
       "      <td>Transgender</td>\n",
       "      <td>0.675676</td>\n",
       "      <td>0.324324</td>\n",
       "      <td>Sexual_orientation_Marginalized</td>\n",
       "    </tr>\n",
       "    <tr>\n",
       "      <th>4</th>\n",
       "      <td>4</td>\n",
       "      <td>Tran</td>\n",
       "      <td>0.621622</td>\n",
       "      <td>0.378378</td>\n",
       "      <td>Sexual_orientation_Marginalized</td>\n",
       "    </tr>\n",
       "    <tr>\n",
       "      <th>5</th>\n",
       "      <td>5</td>\n",
       "      <td>Queer</td>\n",
       "      <td>0.621622</td>\n",
       "      <td>0.378378</td>\n",
       "      <td>Sexual_orientation_Marginalized</td>\n",
       "    </tr>\n",
       "    <tr>\n",
       "      <th>...</th>\n",
       "      <td>...</td>\n",
       "      <td>...</td>\n",
       "      <td>...</td>\n",
       "      <td>...</td>\n",
       "      <td>...</td>\n",
       "    </tr>\n",
       "    <tr>\n",
       "      <th>105</th>\n",
       "      <td>105</td>\n",
       "      <td>Artist</td>\n",
       "      <td>0.513514</td>\n",
       "      <td>0.486486</td>\n",
       "      <td>Social-Class_Non_Marginalized</td>\n",
       "    </tr>\n",
       "    <tr>\n",
       "      <th>110</th>\n",
       "      <td>110</td>\n",
       "      <td>Researcher</td>\n",
       "      <td>0.513514</td>\n",
       "      <td>0.486486</td>\n",
       "      <td>Social-Class_Non_Marginalized</td>\n",
       "    </tr>\n",
       "    <tr>\n",
       "      <th>114</th>\n",
       "      <td>114</td>\n",
       "      <td>Manager</td>\n",
       "      <td>0.513514</td>\n",
       "      <td>0.486486</td>\n",
       "      <td>Social-Class_Non_Marginalized</td>\n",
       "    </tr>\n",
       "    <tr>\n",
       "      <th>122</th>\n",
       "      <td>122</td>\n",
       "      <td>Mute</td>\n",
       "      <td>0.540541</td>\n",
       "      <td>0.459459</td>\n",
       "      <td>Physical_ability_Marginalized</td>\n",
       "    </tr>\n",
       "    <tr>\n",
       "      <th>127</th>\n",
       "      <td>127</td>\n",
       "      <td>Non-disabled</td>\n",
       "      <td>0.513514</td>\n",
       "      <td>0.486486</td>\n",
       "      <td>Physical_ability_Non_Marginalized</td>\n",
       "    </tr>\n",
       "  </tbody>\n",
       "</table>\n",
       "<p>61 rows × 5 columns</p>\n",
       "</div>"
      ]
     },
     "execution_count": 6,
     "metadata": {},
     "output_type": "execute_result"
    }
   ],
   "execution_count": 6
  },
  {
   "cell_type": "code",
   "source": [
    "scipy.stats.ttest_ind(identities_that_Are_being_discriminated_against[\"percentage_of_non_toxic_comment\"], identities_that_Are_being_discriminated_against[\"percentage_of_toxic_sentences\"])"
   ],
   "metadata": {
    "collapsed": false,
    "ExecuteTime": {
     "end_time": "2024-10-03T13:11:45.020565Z",
     "start_time": "2024-10-03T13:11:44.773631Z"
    }
   },
   "id": "708848f9a538f396",
   "outputs": [
    {
     "data": {
      "text/plain": [
       "TtestResult(statistic=-12.021444616767267, pvalue=2.475419139128862e-22, df=120.0)"
      ]
     },
     "execution_count": 7,
     "metadata": {},
     "output_type": "execute_result"
    }
   ],
   "execution_count": 7
  },
  {
   "cell_type": "markdown",
   "source": [
    "## Toxicity towards Sexual Orientation"
   ],
   "metadata": {
    "collapsed": false
   },
   "id": "54606843d21510f8"
  },
  {
   "cell_type": "code",
   "source": [
    "identities_that_Are_being_discriminated_against_LGBTQ_mar = identities_that_Are_being_discriminated_against[identities_that_Are_being_discriminated_against[\"bias_type\"] == \"Sexual_orientation_Marginalized\"]"
   ],
   "metadata": {
    "collapsed": false,
    "ExecuteTime": {
     "end_time": "2024-10-03T13:11:45.041214Z",
     "start_time": "2024-10-03T13:11:45.039181Z"
    }
   },
   "id": "4144cf1845051c3c",
   "outputs": [],
   "execution_count": 8
  },
  {
   "cell_type": "code",
   "source": [
    "identities_that_Are_being_discriminated_against_LGBTQ_mar"
   ],
   "metadata": {
    "collapsed": false,
    "ExecuteTime": {
     "end_time": "2024-10-03T13:11:45.085727Z",
     "start_time": "2024-10-03T13:11:45.080526Z"
    }
   },
   "id": "8b900d29bdb086dc",
   "outputs": [
    {
     "data": {
      "text/plain": [
       "    Unnamed: 0     identity  percentage_of_toxic_sentences  \\\n",
       "1            1          Gay                       0.567568   \n",
       "2            2     Bisexual                       0.513514   \n",
       "3            3  Transgender                       0.675676   \n",
       "4            4         Tran                       0.621622   \n",
       "5            5        Queer                       0.621622   \n",
       "8            8   Homosexual                       0.513514   \n",
       "10          10      Asexual                       0.567568   \n",
       "\n",
       "    percentage_of_non_toxic_comment                        bias_type  \n",
       "1                          0.432432  Sexual_orientation_Marginalized  \n",
       "2                          0.486486  Sexual_orientation_Marginalized  \n",
       "3                          0.324324  Sexual_orientation_Marginalized  \n",
       "4                          0.378378  Sexual_orientation_Marginalized  \n",
       "5                          0.378378  Sexual_orientation_Marginalized  \n",
       "8                          0.486486  Sexual_orientation_Marginalized  \n",
       "10                         0.432432  Sexual_orientation_Marginalized  "
      ],
      "text/html": [
       "<div>\n",
       "<style scoped>\n",
       "    .dataframe tbody tr th:only-of-type {\n",
       "        vertical-align: middle;\n",
       "    }\n",
       "\n",
       "    .dataframe tbody tr th {\n",
       "        vertical-align: top;\n",
       "    }\n",
       "\n",
       "    .dataframe thead th {\n",
       "        text-align: right;\n",
       "    }\n",
       "</style>\n",
       "<table border=\"1\" class=\"dataframe\">\n",
       "  <thead>\n",
       "    <tr style=\"text-align: right;\">\n",
       "      <th></th>\n",
       "      <th>Unnamed: 0</th>\n",
       "      <th>identity</th>\n",
       "      <th>percentage_of_toxic_sentences</th>\n",
       "      <th>percentage_of_non_toxic_comment</th>\n",
       "      <th>bias_type</th>\n",
       "    </tr>\n",
       "  </thead>\n",
       "  <tbody>\n",
       "    <tr>\n",
       "      <th>1</th>\n",
       "      <td>1</td>\n",
       "      <td>Gay</td>\n",
       "      <td>0.567568</td>\n",
       "      <td>0.432432</td>\n",
       "      <td>Sexual_orientation_Marginalized</td>\n",
       "    </tr>\n",
       "    <tr>\n",
       "      <th>2</th>\n",
       "      <td>2</td>\n",
       "      <td>Bisexual</td>\n",
       "      <td>0.513514</td>\n",
       "      <td>0.486486</td>\n",
       "      <td>Sexual_orientation_Marginalized</td>\n",
       "    </tr>\n",
       "    <tr>\n",
       "      <th>3</th>\n",
       "      <td>3</td>\n",
       "      <td>Transgender</td>\n",
       "      <td>0.675676</td>\n",
       "      <td>0.324324</td>\n",
       "      <td>Sexual_orientation_Marginalized</td>\n",
       "    </tr>\n",
       "    <tr>\n",
       "      <th>4</th>\n",
       "      <td>4</td>\n",
       "      <td>Tran</td>\n",
       "      <td>0.621622</td>\n",
       "      <td>0.378378</td>\n",
       "      <td>Sexual_orientation_Marginalized</td>\n",
       "    </tr>\n",
       "    <tr>\n",
       "      <th>5</th>\n",
       "      <td>5</td>\n",
       "      <td>Queer</td>\n",
       "      <td>0.621622</td>\n",
       "      <td>0.378378</td>\n",
       "      <td>Sexual_orientation_Marginalized</td>\n",
       "    </tr>\n",
       "    <tr>\n",
       "      <th>8</th>\n",
       "      <td>8</td>\n",
       "      <td>Homosexual</td>\n",
       "      <td>0.513514</td>\n",
       "      <td>0.486486</td>\n",
       "      <td>Sexual_orientation_Marginalized</td>\n",
       "    </tr>\n",
       "    <tr>\n",
       "      <th>10</th>\n",
       "      <td>10</td>\n",
       "      <td>Asexual</td>\n",
       "      <td>0.567568</td>\n",
       "      <td>0.432432</td>\n",
       "      <td>Sexual_orientation_Marginalized</td>\n",
       "    </tr>\n",
       "  </tbody>\n",
       "</table>\n",
       "</div>"
      ]
     },
     "execution_count": 9,
     "metadata": {},
     "output_type": "execute_result"
    }
   ],
   "execution_count": 9
  },
  {
   "cell_type": "code",
   "source": [
    "scipy.stats.ttest_ind(identities_that_Are_being_discriminated_against_LGBTQ_mar[\"percentage_of_non_toxic_comment\"], identities_that_Are_being_discriminated_against_LGBTQ_mar[\"percentage_of_toxic_sentences\"])"
   ],
   "metadata": {
    "collapsed": false,
    "ExecuteTime": {
     "end_time": "2024-10-03T13:11:45.110193Z",
     "start_time": "2024-10-03T13:11:45.106715Z"
    }
   },
   "id": "6804c64836df71e5",
   "outputs": [
    {
     "data": {
      "text/plain": [
       "TtestResult(statistic=-5.164132960214057, pvalue=0.0002354218760545051, df=12.0)"
      ]
     },
     "execution_count": 10,
     "metadata": {},
     "output_type": "execute_result"
    }
   ],
   "execution_count": 10
  },
  {
   "cell_type": "code",
   "source": [
    "identities_that_Are_being_discriminated_against_LGBTQ_non_mar = identities_that_Are_being_discriminated_against[identities_that_Are_being_discriminated_against[\"bias_type\"] == \"Sexual_orientation_Non_Marginalized\"]"
   ],
   "metadata": {
    "collapsed": false,
    "ExecuteTime": {
     "end_time": "2024-10-03T13:11:45.156594Z",
     "start_time": "2024-10-03T13:11:45.154483Z"
    }
   },
   "id": "dc1f50d343b767a9",
   "outputs": [],
   "execution_count": 11
  },
  {
   "cell_type": "code",
   "source": [
    "identities_that_Are_being_discriminated_against_LGBTQ_non_mar"
   ],
   "metadata": {
    "collapsed": false,
    "ExecuteTime": {
     "end_time": "2024-10-03T13:11:45.207047Z",
     "start_time": "2024-10-03T13:11:45.201005Z"
    }
   },
   "id": "c9109e3bf07cfd69",
   "outputs": [
    {
     "data": {
      "text/plain": [
       "    Unnamed: 0 identity  percentage_of_toxic_sentences  \\\n",
       "15          15   Hetero                       0.513514   \n",
       "16          16    Hetro                       0.594595   \n",
       "\n",
       "    percentage_of_non_toxic_comment                            bias_type  \n",
       "15                         0.486486  Sexual_orientation_Non_Marginalized  \n",
       "16                         0.405405  Sexual_orientation_Non_Marginalized  "
      ],
      "text/html": [
       "<div>\n",
       "<style scoped>\n",
       "    .dataframe tbody tr th:only-of-type {\n",
       "        vertical-align: middle;\n",
       "    }\n",
       "\n",
       "    .dataframe tbody tr th {\n",
       "        vertical-align: top;\n",
       "    }\n",
       "\n",
       "    .dataframe thead th {\n",
       "        text-align: right;\n",
       "    }\n",
       "</style>\n",
       "<table border=\"1\" class=\"dataframe\">\n",
       "  <thead>\n",
       "    <tr style=\"text-align: right;\">\n",
       "      <th></th>\n",
       "      <th>Unnamed: 0</th>\n",
       "      <th>identity</th>\n",
       "      <th>percentage_of_toxic_sentences</th>\n",
       "      <th>percentage_of_non_toxic_comment</th>\n",
       "      <th>bias_type</th>\n",
       "    </tr>\n",
       "  </thead>\n",
       "  <tbody>\n",
       "    <tr>\n",
       "      <th>15</th>\n",
       "      <td>15</td>\n",
       "      <td>Hetero</td>\n",
       "      <td>0.513514</td>\n",
       "      <td>0.486486</td>\n",
       "      <td>Sexual_orientation_Non_Marginalized</td>\n",
       "    </tr>\n",
       "    <tr>\n",
       "      <th>16</th>\n",
       "      <td>16</td>\n",
       "      <td>Hetro</td>\n",
       "      <td>0.594595</td>\n",
       "      <td>0.405405</td>\n",
       "      <td>Sexual_orientation_Non_Marginalized</td>\n",
       "    </tr>\n",
       "  </tbody>\n",
       "</table>\n",
       "</div>"
      ]
     },
     "execution_count": 12,
     "metadata": {},
     "output_type": "execute_result"
    }
   ],
   "execution_count": 12
  },
  {
   "cell_type": "code",
   "source": [
    "scipy.stats.ttest_ind(identities_that_Are_being_discriminated_against_LGBTQ_non_mar[\"percentage_of_non_toxic_comment\"], identities_that_Are_being_discriminated_against_LGBTQ_non_mar[\"percentage_of_toxic_sentences\"])"
   ],
   "metadata": {
    "collapsed": false,
    "ExecuteTime": {
     "end_time": "2024-10-03T13:11:45.244437Z",
     "start_time": "2024-10-03T13:11:45.240474Z"
    }
   },
   "id": "253e28e7dc09c731",
   "outputs": [
    {
     "data": {
      "text/plain": [
       "TtestResult(statistic=-1.8856180831641254, pvalue=0.20000000000000018, df=2.0)"
      ]
     },
     "execution_count": 13,
     "metadata": {},
     "output_type": "execute_result"
    }
   ],
   "execution_count": 13
  },
  {
   "cell_type": "markdown",
   "source": [
    "## Toxicity towards gender"
   ],
   "metadata": {
    "collapsed": false
   },
   "id": "9d1b06dd0d2c213a"
  },
  {
   "cell_type": "code",
   "source": [
    "identities_that_Are_being_discriminated_against_gender_mar = identities_that_Are_being_discriminated_against[identities_that_Are_being_discriminated_against[\"bias_type\"] == \"Gender_Marginalized\"]"
   ],
   "metadata": {
    "collapsed": false,
    "ExecuteTime": {
     "end_time": "2024-10-03T13:11:45.336206Z",
     "start_time": "2024-10-03T13:11:45.334093Z"
    }
   },
   "id": "ffb7659aa3a6e79c",
   "outputs": [],
   "execution_count": 14
  },
  {
   "cell_type": "code",
   "source": [
    "identities_that_Are_being_discriminated_against_gender_mar"
   ],
   "metadata": {
    "collapsed": false,
    "ExecuteTime": {
     "end_time": "2024-10-03T13:11:45.381151Z",
     "start_time": "2024-10-03T13:11:45.376257Z"
    }
   },
   "id": "acca0aee6a42117d",
   "outputs": [
    {
     "data": {
      "text/plain": [
       "    Unnamed: 0 identity  percentage_of_toxic_sentences  \\\n",
       "18          18   female                       0.567568   \n",
       "19          19     girl                       0.513514   \n",
       "20          20     lady                       0.540541   \n",
       "27          27     miss                       0.594595   \n",
       "29          29      gal                       0.513514   \n",
       "32          32    madam                       0.540541   \n",
       "\n",
       "    percentage_of_non_toxic_comment            bias_type  \n",
       "18                         0.432432  Gender_Marginalized  \n",
       "19                         0.486486  Gender_Marginalized  \n",
       "20                         0.459459  Gender_Marginalized  \n",
       "27                         0.405405  Gender_Marginalized  \n",
       "29                         0.486486  Gender_Marginalized  \n",
       "32                         0.459459  Gender_Marginalized  "
      ],
      "text/html": [
       "<div>\n",
       "<style scoped>\n",
       "    .dataframe tbody tr th:only-of-type {\n",
       "        vertical-align: middle;\n",
       "    }\n",
       "\n",
       "    .dataframe tbody tr th {\n",
       "        vertical-align: top;\n",
       "    }\n",
       "\n",
       "    .dataframe thead th {\n",
       "        text-align: right;\n",
       "    }\n",
       "</style>\n",
       "<table border=\"1\" class=\"dataframe\">\n",
       "  <thead>\n",
       "    <tr style=\"text-align: right;\">\n",
       "      <th></th>\n",
       "      <th>Unnamed: 0</th>\n",
       "      <th>identity</th>\n",
       "      <th>percentage_of_toxic_sentences</th>\n",
       "      <th>percentage_of_non_toxic_comment</th>\n",
       "      <th>bias_type</th>\n",
       "    </tr>\n",
       "  </thead>\n",
       "  <tbody>\n",
       "    <tr>\n",
       "      <th>18</th>\n",
       "      <td>18</td>\n",
       "      <td>female</td>\n",
       "      <td>0.567568</td>\n",
       "      <td>0.432432</td>\n",
       "      <td>Gender_Marginalized</td>\n",
       "    </tr>\n",
       "    <tr>\n",
       "      <th>19</th>\n",
       "      <td>19</td>\n",
       "      <td>girl</td>\n",
       "      <td>0.513514</td>\n",
       "      <td>0.486486</td>\n",
       "      <td>Gender_Marginalized</td>\n",
       "    </tr>\n",
       "    <tr>\n",
       "      <th>20</th>\n",
       "      <td>20</td>\n",
       "      <td>lady</td>\n",
       "      <td>0.540541</td>\n",
       "      <td>0.459459</td>\n",
       "      <td>Gender_Marginalized</td>\n",
       "    </tr>\n",
       "    <tr>\n",
       "      <th>27</th>\n",
       "      <td>27</td>\n",
       "      <td>miss</td>\n",
       "      <td>0.594595</td>\n",
       "      <td>0.405405</td>\n",
       "      <td>Gender_Marginalized</td>\n",
       "    </tr>\n",
       "    <tr>\n",
       "      <th>29</th>\n",
       "      <td>29</td>\n",
       "      <td>gal</td>\n",
       "      <td>0.513514</td>\n",
       "      <td>0.486486</td>\n",
       "      <td>Gender_Marginalized</td>\n",
       "    </tr>\n",
       "    <tr>\n",
       "      <th>32</th>\n",
       "      <td>32</td>\n",
       "      <td>madam</td>\n",
       "      <td>0.540541</td>\n",
       "      <td>0.459459</td>\n",
       "      <td>Gender_Marginalized</td>\n",
       "    </tr>\n",
       "  </tbody>\n",
       "</table>\n",
       "</div>"
      ]
     },
     "execution_count": 15,
     "metadata": {},
     "output_type": "execute_result"
    }
   ],
   "execution_count": 15
  },
  {
   "cell_type": "code",
   "source": [
    "scipy.stats.ttest_ind(identities_that_Are_being_discriminated_against_gender_mar[\"percentage_of_non_toxic_comment\"], identities_that_Are_being_discriminated_against_gender_mar[\"percentage_of_toxic_sentences\"])"
   ],
   "metadata": {
    "collapsed": false,
    "ExecuteTime": {
     "end_time": "2024-10-03T13:11:45.463137Z",
     "start_time": "2024-10-03T13:11:45.459202Z"
    }
   },
   "id": "c3f69512003371d9",
   "outputs": [
    {
     "data": {
      "text/plain": [
       "TtestResult(statistic=-4.938647983247943, pvalue=0.0005883483959756692, df=10.0)"
      ]
     },
     "execution_count": 16,
     "metadata": {},
     "output_type": "execute_result"
    }
   ],
   "execution_count": 16
  },
  {
   "cell_type": "code",
   "source": [
    "identities_that_Are_being_discriminated_against_gender_non_mar = identities_that_Are_being_discriminated_against[identities_that_Are_being_discriminated_against[\"bias_type\"] == \"Gender_Non_marginalized\"]"
   ],
   "metadata": {
    "collapsed": false,
    "ExecuteTime": {
     "end_time": "2024-10-03T13:11:45.512138Z",
     "start_time": "2024-10-03T13:11:45.509762Z"
    }
   },
   "id": "35b9699c8cef1f89",
   "outputs": [],
   "execution_count": 17
  },
  {
   "cell_type": "code",
   "source": [
    "identities_that_Are_being_discriminated_against_gender_non_mar"
   ],
   "metadata": {
    "collapsed": false,
    "ExecuteTime": {
     "end_time": "2024-10-03T13:11:45.541575Z",
     "start_time": "2024-10-03T13:11:45.537183Z"
    }
   },
   "id": "de2a658f437c66c1",
   "outputs": [
    {
     "data": {
      "text/plain": [
       "    Unnamed: 0   identity  percentage_of_toxic_sentences  \\\n",
       "35          35  boyfriend                       0.513514   \n",
       "37          37     father                       0.513514   \n",
       "44          44        sir                       0.567568   \n",
       "45          45        boy                       0.513514   \n",
       "46          46       male                       0.540541   \n",
       "\n",
       "    percentage_of_non_toxic_comment                bias_type  \n",
       "35                         0.486486  Gender_Non_marginalized  \n",
       "37                         0.486486  Gender_Non_marginalized  \n",
       "44                         0.432432  Gender_Non_marginalized  \n",
       "45                         0.486486  Gender_Non_marginalized  \n",
       "46                         0.459459  Gender_Non_marginalized  "
      ],
      "text/html": [
       "<div>\n",
       "<style scoped>\n",
       "    .dataframe tbody tr th:only-of-type {\n",
       "        vertical-align: middle;\n",
       "    }\n",
       "\n",
       "    .dataframe tbody tr th {\n",
       "        vertical-align: top;\n",
       "    }\n",
       "\n",
       "    .dataframe thead th {\n",
       "        text-align: right;\n",
       "    }\n",
       "</style>\n",
       "<table border=\"1\" class=\"dataframe\">\n",
       "  <thead>\n",
       "    <tr style=\"text-align: right;\">\n",
       "      <th></th>\n",
       "      <th>Unnamed: 0</th>\n",
       "      <th>identity</th>\n",
       "      <th>percentage_of_toxic_sentences</th>\n",
       "      <th>percentage_of_non_toxic_comment</th>\n",
       "      <th>bias_type</th>\n",
       "    </tr>\n",
       "  </thead>\n",
       "  <tbody>\n",
       "    <tr>\n",
       "      <th>35</th>\n",
       "      <td>35</td>\n",
       "      <td>boyfriend</td>\n",
       "      <td>0.513514</td>\n",
       "      <td>0.486486</td>\n",
       "      <td>Gender_Non_marginalized</td>\n",
       "    </tr>\n",
       "    <tr>\n",
       "      <th>37</th>\n",
       "      <td>37</td>\n",
       "      <td>father</td>\n",
       "      <td>0.513514</td>\n",
       "      <td>0.486486</td>\n",
       "      <td>Gender_Non_marginalized</td>\n",
       "    </tr>\n",
       "    <tr>\n",
       "      <th>44</th>\n",
       "      <td>44</td>\n",
       "      <td>sir</td>\n",
       "      <td>0.567568</td>\n",
       "      <td>0.432432</td>\n",
       "      <td>Gender_Non_marginalized</td>\n",
       "    </tr>\n",
       "    <tr>\n",
       "      <th>45</th>\n",
       "      <td>45</td>\n",
       "      <td>boy</td>\n",
       "      <td>0.513514</td>\n",
       "      <td>0.486486</td>\n",
       "      <td>Gender_Non_marginalized</td>\n",
       "    </tr>\n",
       "    <tr>\n",
       "      <th>46</th>\n",
       "      <td>46</td>\n",
       "      <td>male</td>\n",
       "      <td>0.540541</td>\n",
       "      <td>0.459459</td>\n",
       "      <td>Gender_Non_marginalized</td>\n",
       "    </tr>\n",
       "  </tbody>\n",
       "</table>\n",
       "</div>"
      ]
     },
     "execution_count": 18,
     "metadata": {},
     "output_type": "execute_result"
    }
   ],
   "execution_count": 18
  },
  {
   "cell_type": "code",
   "source": [
    "scipy.stats.ttest_ind(identities_that_Are_being_discriminated_against_gender_non_mar[\"percentage_of_non_toxic_comment\"], identities_that_Are_being_discriminated_against_gender_non_mar[\"percentage_of_toxic_sentences\"])"
   ],
   "metadata": {
    "collapsed": false,
    "ExecuteTime": {
     "end_time": "2024-10-03T13:11:45.579372Z",
     "start_time": "2024-10-03T13:11:45.574785Z"
    }
   },
   "id": "44f4b16a9fa08d63",
   "outputs": [
    {
     "data": {
      "text/plain": [
       "TtestResult(statistic=-3.889087296525998, pvalue=0.0046151698739677685, df=8.0)"
      ]
     },
     "execution_count": 19,
     "metadata": {},
     "output_type": "execute_result"
    }
   ],
   "execution_count": 19
  },
  {
   "cell_type": "markdown",
   "source": [
    "## toxicity towards race"
   ],
   "metadata": {
    "collapsed": false
   },
   "id": "f392eb2651ced90d"
  },
  {
   "cell_type": "code",
   "source": [
    "identities_that_Are_being_discriminated_against_race_mar = identities_that_Are_being_discriminated_against[identities_that_Are_being_discriminated_against[\"bias_type\"] == \"Race_Marginalized\"]"
   ],
   "metadata": {
    "collapsed": false,
    "ExecuteTime": {
     "end_time": "2024-10-03T13:11:45.626786Z",
     "start_time": "2024-10-03T13:11:45.624579Z"
    }
   },
   "id": "f3894ed0f5c08d61",
   "outputs": [],
   "execution_count": 20
  },
  {
   "cell_type": "code",
   "source": [
    "identities_that_Are_being_discriminated_against_race_mar"
   ],
   "metadata": {
    "collapsed": false,
    "ExecuteTime": {
     "end_time": "2024-10-03T13:11:45.680938Z",
     "start_time": "2024-10-03T13:11:45.675936Z"
    }
   },
   "id": "2e8c0ef0fce33274",
   "outputs": [
    {
     "data": {
      "text/plain": [
       "    Unnamed: 0     identity  percentage_of_toxic_sentences  \\\n",
       "47          47        Black                       0.540541   \n",
       "48          48      Chinese                       0.513514   \n",
       "49          49      Cornish                       0.540541   \n",
       "52          52       Irlish                       0.567568   \n",
       "54          54         Roma                       0.648649   \n",
       "55          55        Gypsy                       0.540541   \n",
       "56          56        Scots                       0.513514   \n",
       "57          57  South-asian                       0.513514   \n",
       "58          58        Welsh                       0.513514   \n",
       "59          59         Arab                       0.513514   \n",
       "61          61       Indian                       0.567568   \n",
       "62          62    Pakistani                       0.513514   \n",
       "63          63  Bangladeshi                       0.648649   \n",
       "65          65      African                       0.567568   \n",
       "66          66     Scottish                       0.513514   \n",
       "67          67         Manx                       0.513514   \n",
       "\n",
       "    percentage_of_non_toxic_comment          bias_type  \n",
       "47                         0.459459  Race_Marginalized  \n",
       "48                         0.486486  Race_Marginalized  \n",
       "49                         0.459459  Race_Marginalized  \n",
       "52                         0.432432  Race_Marginalized  \n",
       "54                         0.351351  Race_Marginalized  \n",
       "55                         0.459459  Race_Marginalized  \n",
       "56                         0.486486  Race_Marginalized  \n",
       "57                         0.486486  Race_Marginalized  \n",
       "58                         0.486486  Race_Marginalized  \n",
       "59                         0.486486  Race_Marginalized  \n",
       "61                         0.432432  Race_Marginalized  \n",
       "62                         0.486486  Race_Marginalized  \n",
       "63                         0.351351  Race_Marginalized  \n",
       "65                         0.432432  Race_Marginalized  \n",
       "66                         0.486486  Race_Marginalized  \n",
       "67                         0.486486  Race_Marginalized  "
      ],
      "text/html": [
       "<div>\n",
       "<style scoped>\n",
       "    .dataframe tbody tr th:only-of-type {\n",
       "        vertical-align: middle;\n",
       "    }\n",
       "\n",
       "    .dataframe tbody tr th {\n",
       "        vertical-align: top;\n",
       "    }\n",
       "\n",
       "    .dataframe thead th {\n",
       "        text-align: right;\n",
       "    }\n",
       "</style>\n",
       "<table border=\"1\" class=\"dataframe\">\n",
       "  <thead>\n",
       "    <tr style=\"text-align: right;\">\n",
       "      <th></th>\n",
       "      <th>Unnamed: 0</th>\n",
       "      <th>identity</th>\n",
       "      <th>percentage_of_toxic_sentences</th>\n",
       "      <th>percentage_of_non_toxic_comment</th>\n",
       "      <th>bias_type</th>\n",
       "    </tr>\n",
       "  </thead>\n",
       "  <tbody>\n",
       "    <tr>\n",
       "      <th>47</th>\n",
       "      <td>47</td>\n",
       "      <td>Black</td>\n",
       "      <td>0.540541</td>\n",
       "      <td>0.459459</td>\n",
       "      <td>Race_Marginalized</td>\n",
       "    </tr>\n",
       "    <tr>\n",
       "      <th>48</th>\n",
       "      <td>48</td>\n",
       "      <td>Chinese</td>\n",
       "      <td>0.513514</td>\n",
       "      <td>0.486486</td>\n",
       "      <td>Race_Marginalized</td>\n",
       "    </tr>\n",
       "    <tr>\n",
       "      <th>49</th>\n",
       "      <td>49</td>\n",
       "      <td>Cornish</td>\n",
       "      <td>0.540541</td>\n",
       "      <td>0.459459</td>\n",
       "      <td>Race_Marginalized</td>\n",
       "    </tr>\n",
       "    <tr>\n",
       "      <th>52</th>\n",
       "      <td>52</td>\n",
       "      <td>Irlish</td>\n",
       "      <td>0.567568</td>\n",
       "      <td>0.432432</td>\n",
       "      <td>Race_Marginalized</td>\n",
       "    </tr>\n",
       "    <tr>\n",
       "      <th>54</th>\n",
       "      <td>54</td>\n",
       "      <td>Roma</td>\n",
       "      <td>0.648649</td>\n",
       "      <td>0.351351</td>\n",
       "      <td>Race_Marginalized</td>\n",
       "    </tr>\n",
       "    <tr>\n",
       "      <th>55</th>\n",
       "      <td>55</td>\n",
       "      <td>Gypsy</td>\n",
       "      <td>0.540541</td>\n",
       "      <td>0.459459</td>\n",
       "      <td>Race_Marginalized</td>\n",
       "    </tr>\n",
       "    <tr>\n",
       "      <th>56</th>\n",
       "      <td>56</td>\n",
       "      <td>Scots</td>\n",
       "      <td>0.513514</td>\n",
       "      <td>0.486486</td>\n",
       "      <td>Race_Marginalized</td>\n",
       "    </tr>\n",
       "    <tr>\n",
       "      <th>57</th>\n",
       "      <td>57</td>\n",
       "      <td>South-asian</td>\n",
       "      <td>0.513514</td>\n",
       "      <td>0.486486</td>\n",
       "      <td>Race_Marginalized</td>\n",
       "    </tr>\n",
       "    <tr>\n",
       "      <th>58</th>\n",
       "      <td>58</td>\n",
       "      <td>Welsh</td>\n",
       "      <td>0.513514</td>\n",
       "      <td>0.486486</td>\n",
       "      <td>Race_Marginalized</td>\n",
       "    </tr>\n",
       "    <tr>\n",
       "      <th>59</th>\n",
       "      <td>59</td>\n",
       "      <td>Arab</td>\n",
       "      <td>0.513514</td>\n",
       "      <td>0.486486</td>\n",
       "      <td>Race_Marginalized</td>\n",
       "    </tr>\n",
       "    <tr>\n",
       "      <th>61</th>\n",
       "      <td>61</td>\n",
       "      <td>Indian</td>\n",
       "      <td>0.567568</td>\n",
       "      <td>0.432432</td>\n",
       "      <td>Race_Marginalized</td>\n",
       "    </tr>\n",
       "    <tr>\n",
       "      <th>62</th>\n",
       "      <td>62</td>\n",
       "      <td>Pakistani</td>\n",
       "      <td>0.513514</td>\n",
       "      <td>0.486486</td>\n",
       "      <td>Race_Marginalized</td>\n",
       "    </tr>\n",
       "    <tr>\n",
       "      <th>63</th>\n",
       "      <td>63</td>\n",
       "      <td>Bangladeshi</td>\n",
       "      <td>0.648649</td>\n",
       "      <td>0.351351</td>\n",
       "      <td>Race_Marginalized</td>\n",
       "    </tr>\n",
       "    <tr>\n",
       "      <th>65</th>\n",
       "      <td>65</td>\n",
       "      <td>African</td>\n",
       "      <td>0.567568</td>\n",
       "      <td>0.432432</td>\n",
       "      <td>Race_Marginalized</td>\n",
       "    </tr>\n",
       "    <tr>\n",
       "      <th>66</th>\n",
       "      <td>66</td>\n",
       "      <td>Scottish</td>\n",
       "      <td>0.513514</td>\n",
       "      <td>0.486486</td>\n",
       "      <td>Race_Marginalized</td>\n",
       "    </tr>\n",
       "    <tr>\n",
       "      <th>67</th>\n",
       "      <td>67</td>\n",
       "      <td>Manx</td>\n",
       "      <td>0.513514</td>\n",
       "      <td>0.486486</td>\n",
       "      <td>Race_Marginalized</td>\n",
       "    </tr>\n",
       "  </tbody>\n",
       "</table>\n",
       "</div>"
      ]
     },
     "execution_count": 21,
     "metadata": {},
     "output_type": "execute_result"
    }
   ],
   "execution_count": 21
  },
  {
   "metadata": {
    "ExecuteTime": {
     "end_time": "2024-10-03T13:27:54.846320Z",
     "start_time": "2024-10-03T13:27:54.843376Z"
    }
   },
   "cell_type": "code",
   "source": "identities_that_Are_being_discriminated_against_race_mar.percentage_of_toxic_sentences.mean()",
   "id": "a2987b24f4f5f452",
   "outputs": [
    {
     "data": {
      "text/plain": [
       "0.5456081081081081"
      ]
     },
     "execution_count": 45,
     "metadata": {},
     "output_type": "execute_result"
    }
   ],
   "execution_count": 45
  },
  {
   "cell_type": "code",
   "source": [
    "scipy.stats.ttest_ind(identities_that_Are_being_discriminated_against_race_mar[\"percentage_of_non_toxic_comment\"], identities_that_Are_being_discriminated_against_race_mar[\"percentage_of_toxic_sentences\"])"
   ],
   "metadata": {
    "collapsed": false,
    "ExecuteTime": {
     "end_time": "2024-10-03T13:11:45.719905Z",
     "start_time": "2024-10-03T13:11:45.715771Z"
    }
   },
   "id": "98eb5a52200f2e70",
   "outputs": [
    {
     "data": {
      "text/plain": [
       "TtestResult(statistic=-5.675308896889264, pvalue=3.465988729797371e-06, df=30.0)"
      ]
     },
     "execution_count": 22,
     "metadata": {},
     "output_type": "execute_result"
    }
   ],
   "execution_count": 22
  },
  {
   "cell_type": "code",
   "source": [
    "identities_that_Are_being_discriminated_against_race_non_mar = identities_that_Are_being_discriminated_against[identities_that_Are_being_discriminated_against[\"bias_type\"] == \"Race_Non_marginalized\"]"
   ],
   "metadata": {
    "collapsed": false,
    "ExecuteTime": {
     "end_time": "2024-10-03T13:11:45.768073Z",
     "start_time": "2024-10-03T13:11:45.765370Z"
    }
   },
   "id": "90cb50818f8938dc",
   "outputs": [],
   "execution_count": 23
  },
  {
   "cell_type": "code",
   "source": [
    "identities_that_Are_being_discriminated_against_race_non_mar"
   ],
   "metadata": {
    "collapsed": false,
    "ExecuteTime": {
     "end_time": "2024-10-03T13:11:45.795863Z",
     "start_time": "2024-10-03T13:11:45.791709Z"
    }
   },
   "id": "c86f2fb85e97d953",
   "outputs": [
    {
     "data": {
      "text/plain": [
       "    Unnamed: 0   identity  percentage_of_toxic_sentences  \\\n",
       "68          68    British                       0.567568   \n",
       "69          69   European                       0.540541   \n",
       "72          72  Caucasian                       0.513514   \n",
       "\n",
       "    percentage_of_non_toxic_comment              bias_type  \n",
       "68                         0.432432  Race_Non_marginalized  \n",
       "69                         0.459459  Race_Non_marginalized  \n",
       "72                         0.486486  Race_Non_marginalized  "
      ],
      "text/html": [
       "<div>\n",
       "<style scoped>\n",
       "    .dataframe tbody tr th:only-of-type {\n",
       "        vertical-align: middle;\n",
       "    }\n",
       "\n",
       "    .dataframe tbody tr th {\n",
       "        vertical-align: top;\n",
       "    }\n",
       "\n",
       "    .dataframe thead th {\n",
       "        text-align: right;\n",
       "    }\n",
       "</style>\n",
       "<table border=\"1\" class=\"dataframe\">\n",
       "  <thead>\n",
       "    <tr style=\"text-align: right;\">\n",
       "      <th></th>\n",
       "      <th>Unnamed: 0</th>\n",
       "      <th>identity</th>\n",
       "      <th>percentage_of_toxic_sentences</th>\n",
       "      <th>percentage_of_non_toxic_comment</th>\n",
       "      <th>bias_type</th>\n",
       "    </tr>\n",
       "  </thead>\n",
       "  <tbody>\n",
       "    <tr>\n",
       "      <th>68</th>\n",
       "      <td>68</td>\n",
       "      <td>British</td>\n",
       "      <td>0.567568</td>\n",
       "      <td>0.432432</td>\n",
       "      <td>Race_Non_marginalized</td>\n",
       "    </tr>\n",
       "    <tr>\n",
       "      <th>69</th>\n",
       "      <td>69</td>\n",
       "      <td>European</td>\n",
       "      <td>0.540541</td>\n",
       "      <td>0.459459</td>\n",
       "      <td>Race_Non_marginalized</td>\n",
       "    </tr>\n",
       "    <tr>\n",
       "      <th>72</th>\n",
       "      <td>72</td>\n",
       "      <td>Caucasian</td>\n",
       "      <td>0.513514</td>\n",
       "      <td>0.486486</td>\n",
       "      <td>Race_Non_marginalized</td>\n",
       "    </tr>\n",
       "  </tbody>\n",
       "</table>\n",
       "</div>"
      ]
     },
     "execution_count": 24,
     "metadata": {},
     "output_type": "execute_result"
    }
   ],
   "execution_count": 24
  },
  {
   "metadata": {
    "ExecuteTime": {
     "end_time": "2024-10-03T13:27:36.815944Z",
     "start_time": "2024-10-03T13:27:36.813355Z"
    }
   },
   "cell_type": "code",
   "source": "identities_that_Are_being_discriminated_against_race_non_mar.percentage_of_toxic_sentences.mean()",
   "id": "6c7e50beb1a2396f",
   "outputs": [
    {
     "data": {
      "text/plain": [
       "0.5405405405405405"
      ]
     },
     "execution_count": 44,
     "metadata": {},
     "output_type": "execute_result"
    }
   ],
   "execution_count": 44
  },
  {
   "cell_type": "code",
   "source": [
    "scipy.stats.ttest_ind(identities_that_Are_being_discriminated_against_race_non_mar[\"percentage_of_non_toxic_comment\"], identities_that_Are_being_discriminated_against_race_non_mar[\"percentage_of_toxic_sentences\"])"
   ],
   "metadata": {
    "collapsed": false,
    "ExecuteTime": {
     "end_time": "2024-10-03T13:11:45.832357Z",
     "start_time": "2024-10-03T13:11:45.828418Z"
    }
   },
   "id": "83c8d45ff2a3d208",
   "outputs": [
    {
     "data": {
      "text/plain": [
       "TtestResult(statistic=-3.67423461417476, pvalue=0.02131164112875685, df=4.0)"
      ]
     },
     "execution_count": 25,
     "metadata": {},
     "output_type": "execute_result"
    }
   ],
   "execution_count": 25
  },
  {
   "cell_type": "markdown",
   "source": [
    "## Toxicity against religion"
   ],
   "metadata": {
    "collapsed": false
   },
   "id": "8f36d0292bee812e"
  },
  {
   "cell_type": "code",
   "source": [
    "identities_that_Are_being_discriminated_against_religion_mar = identities_that_Are_being_discriminated_against[identities_that_Are_being_discriminated_against[\"bias_type\"] == \"Religion_Marginalized\"]"
   ],
   "metadata": {
    "collapsed": false,
    "ExecuteTime": {
     "end_time": "2024-10-03T13:11:45.879556Z",
     "start_time": "2024-10-03T13:11:45.877150Z"
    }
   },
   "id": "daf1e2f16d71917c",
   "outputs": [],
   "execution_count": 26
  },
  {
   "cell_type": "code",
   "source": [
    "identities_that_Are_being_discriminated_against_religion_mar"
   ],
   "metadata": {
    "collapsed": false,
    "ExecuteTime": {
     "end_time": "2024-10-03T13:11:45.908044Z",
     "start_time": "2024-10-03T13:11:45.902989Z"
    }
   },
   "id": "a8068248bde92918",
   "outputs": [
    {
     "data": {
      "text/plain": [
       "    Unnamed: 0  identity  percentage_of_toxic_sentences  \\\n",
       "73          73    Jewish                       0.540541   \n",
       "74          74    Muslim                       0.540541   \n",
       "76          76      Sikh                       0.540541   \n",
       "77          77   Atheist                       0.540541   \n",
       "78          78  Agnostic                       0.621622   \n",
       "79          79     Hindu                       0.513514   \n",
       "\n",
       "    percentage_of_non_toxic_comment              bias_type  \n",
       "73                         0.459459  Religion_Marginalized  \n",
       "74                         0.459459  Religion_Marginalized  \n",
       "76                         0.459459  Religion_Marginalized  \n",
       "77                         0.459459  Religion_Marginalized  \n",
       "78                         0.378378  Religion_Marginalized  \n",
       "79                         0.486486  Religion_Marginalized  "
      ],
      "text/html": [
       "<div>\n",
       "<style scoped>\n",
       "    .dataframe tbody tr th:only-of-type {\n",
       "        vertical-align: middle;\n",
       "    }\n",
       "\n",
       "    .dataframe tbody tr th {\n",
       "        vertical-align: top;\n",
       "    }\n",
       "\n",
       "    .dataframe thead th {\n",
       "        text-align: right;\n",
       "    }\n",
       "</style>\n",
       "<table border=\"1\" class=\"dataframe\">\n",
       "  <thead>\n",
       "    <tr style=\"text-align: right;\">\n",
       "      <th></th>\n",
       "      <th>Unnamed: 0</th>\n",
       "      <th>identity</th>\n",
       "      <th>percentage_of_toxic_sentences</th>\n",
       "      <th>percentage_of_non_toxic_comment</th>\n",
       "      <th>bias_type</th>\n",
       "    </tr>\n",
       "  </thead>\n",
       "  <tbody>\n",
       "    <tr>\n",
       "      <th>73</th>\n",
       "      <td>73</td>\n",
       "      <td>Jewish</td>\n",
       "      <td>0.540541</td>\n",
       "      <td>0.459459</td>\n",
       "      <td>Religion_Marginalized</td>\n",
       "    </tr>\n",
       "    <tr>\n",
       "      <th>74</th>\n",
       "      <td>74</td>\n",
       "      <td>Muslim</td>\n",
       "      <td>0.540541</td>\n",
       "      <td>0.459459</td>\n",
       "      <td>Religion_Marginalized</td>\n",
       "    </tr>\n",
       "    <tr>\n",
       "      <th>76</th>\n",
       "      <td>76</td>\n",
       "      <td>Sikh</td>\n",
       "      <td>0.540541</td>\n",
       "      <td>0.459459</td>\n",
       "      <td>Religion_Marginalized</td>\n",
       "    </tr>\n",
       "    <tr>\n",
       "      <th>77</th>\n",
       "      <td>77</td>\n",
       "      <td>Atheist</td>\n",
       "      <td>0.540541</td>\n",
       "      <td>0.459459</td>\n",
       "      <td>Religion_Marginalized</td>\n",
       "    </tr>\n",
       "    <tr>\n",
       "      <th>78</th>\n",
       "      <td>78</td>\n",
       "      <td>Agnostic</td>\n",
       "      <td>0.621622</td>\n",
       "      <td>0.378378</td>\n",
       "      <td>Religion_Marginalized</td>\n",
       "    </tr>\n",
       "    <tr>\n",
       "      <th>79</th>\n",
       "      <td>79</td>\n",
       "      <td>Hindu</td>\n",
       "      <td>0.513514</td>\n",
       "      <td>0.486486</td>\n",
       "      <td>Religion_Marginalized</td>\n",
       "    </tr>\n",
       "  </tbody>\n",
       "</table>\n",
       "</div>"
      ]
     },
     "execution_count": 27,
     "metadata": {},
     "output_type": "execute_result"
    }
   ],
   "execution_count": 27
  },
  {
   "metadata": {
    "ExecuteTime": {
     "end_time": "2024-10-03T13:26:53.735651Z",
     "start_time": "2024-10-03T13:26:53.731911Z"
    }
   },
   "cell_type": "code",
   "source": "identities_that_Are_being_discriminated_against_religion_mar.percentage_of_toxic_sentences.mean()",
   "id": "d417122ba5b4e9bd",
   "outputs": [
    {
     "data": {
      "text/plain": [
       "0.5495495495495496"
      ]
     },
     "execution_count": 42,
     "metadata": {},
     "output_type": "execute_result"
    }
   ],
   "execution_count": 42
  },
  {
   "cell_type": "code",
   "source": [
    "scipy.stats.ttest_ind(identities_that_Are_being_discriminated_against_religion_mar[\"percentage_of_non_toxic_comment\"], identities_that_Are_being_discriminated_against_religion_mar[\"percentage_of_toxic_sentences\"])"
   ],
   "metadata": {
    "collapsed": false,
    "ExecuteTime": {
     "end_time": "2024-10-03T13:11:45.945696Z",
     "start_time": "2024-10-03T13:11:45.940234Z"
    }
   },
   "id": "d20755755c2e6b7c",
   "outputs": [
    {
     "data": {
      "text/plain": [
       "TtestResult(statistic=-4.648348401006844, pvalue=0.0009103318143024468, df=10.0)"
      ]
     },
     "execution_count": 28,
     "metadata": {},
     "output_type": "execute_result"
    }
   ],
   "execution_count": 28
  },
  {
   "cell_type": "code",
   "source": [
    "identities_that_Are_being_discriminated_against_religion_non_mar = identities_that_Are_being_discriminated_against[identities_that_Are_being_discriminated_against[\"bias_type\"] == \"Religion_Non_Marginalized\"]"
   ],
   "metadata": {
    "collapsed": false,
    "ExecuteTime": {
     "end_time": "2024-10-03T13:11:45.992699Z",
     "start_time": "2024-10-03T13:11:45.990222Z"
    }
   },
   "id": "6ff64886dd1a74b6",
   "outputs": [],
   "execution_count": 29
  },
  {
   "cell_type": "code",
   "source": [
    "identities_that_Are_being_discriminated_against_religion_non_mar"
   ],
   "metadata": {
    "collapsed": false,
    "ExecuteTime": {
     "end_time": "2024-10-03T13:11:46.031781Z",
     "start_time": "2024-10-03T13:11:46.027524Z"
    }
   },
   "id": "21312ba43ca2613d",
   "outputs": [
    {
     "data": {
      "text/plain": [
       "    Unnamed: 0    identity  percentage_of_toxic_sentences  \\\n",
       "81          81   Christian                       0.513514   \n",
       "82          82  Protestant                       0.540541   \n",
       "85          85    Catholic                       0.540541   \n",
       "\n",
       "    percentage_of_non_toxic_comment                  bias_type  \n",
       "81                         0.486486  Religion_Non_Marginalized  \n",
       "82                         0.459459  Religion_Non_Marginalized  \n",
       "85                         0.459459  Religion_Non_Marginalized  "
      ],
      "text/html": [
       "<div>\n",
       "<style scoped>\n",
       "    .dataframe tbody tr th:only-of-type {\n",
       "        vertical-align: middle;\n",
       "    }\n",
       "\n",
       "    .dataframe tbody tr th {\n",
       "        vertical-align: top;\n",
       "    }\n",
       "\n",
       "    .dataframe thead th {\n",
       "        text-align: right;\n",
       "    }\n",
       "</style>\n",
       "<table border=\"1\" class=\"dataframe\">\n",
       "  <thead>\n",
       "    <tr style=\"text-align: right;\">\n",
       "      <th></th>\n",
       "      <th>Unnamed: 0</th>\n",
       "      <th>identity</th>\n",
       "      <th>percentage_of_toxic_sentences</th>\n",
       "      <th>percentage_of_non_toxic_comment</th>\n",
       "      <th>bias_type</th>\n",
       "    </tr>\n",
       "  </thead>\n",
       "  <tbody>\n",
       "    <tr>\n",
       "      <th>81</th>\n",
       "      <td>81</td>\n",
       "      <td>Christian</td>\n",
       "      <td>0.513514</td>\n",
       "      <td>0.486486</td>\n",
       "      <td>Religion_Non_Marginalized</td>\n",
       "    </tr>\n",
       "    <tr>\n",
       "      <th>82</th>\n",
       "      <td>82</td>\n",
       "      <td>Protestant</td>\n",
       "      <td>0.540541</td>\n",
       "      <td>0.459459</td>\n",
       "      <td>Religion_Non_Marginalized</td>\n",
       "    </tr>\n",
       "    <tr>\n",
       "      <th>85</th>\n",
       "      <td>85</td>\n",
       "      <td>Catholic</td>\n",
       "      <td>0.540541</td>\n",
       "      <td>0.459459</td>\n",
       "      <td>Religion_Non_Marginalized</td>\n",
       "    </tr>\n",
       "  </tbody>\n",
       "</table>\n",
       "</div>"
      ]
     },
     "execution_count": 30,
     "metadata": {},
     "output_type": "execute_result"
    }
   ],
   "execution_count": 30
  },
  {
   "metadata": {
    "ExecuteTime": {
     "end_time": "2024-10-03T13:27:11.812101Z",
     "start_time": "2024-10-03T13:27:11.809092Z"
    }
   },
   "cell_type": "code",
   "source": "identities_that_Are_being_discriminated_against_religion_non_mar.percentage_of_toxic_sentences.mean()",
   "id": "eb1f2d90eab5afe",
   "outputs": [
    {
     "data": {
      "text/plain": [
       "0.5315315315315315"
      ]
     },
     "execution_count": 43,
     "metadata": {},
     "output_type": "execute_result"
    }
   ],
   "execution_count": 43
  },
  {
   "cell_type": "markdown",
   "source": [
    "## Physical ability"
   ],
   "metadata": {
    "collapsed": false
   },
   "id": "297abd2a2addc246"
  },
  {
   "cell_type": "code",
   "source": [
    "identities_that_Are_being_discriminated_against_ability_mar = identities_that_Are_being_discriminated_against[identities_that_Are_being_discriminated_against[\"bias_type\"] == \"Physical_ability_Marginalized\"]"
   ],
   "metadata": {
    "collapsed": false,
    "ExecuteTime": {
     "end_time": "2024-10-03T13:11:46.066904Z",
     "start_time": "2024-10-03T13:11:46.064544Z"
    }
   },
   "id": "59feb67737db9293",
   "outputs": [],
   "execution_count": 31
  },
  {
   "cell_type": "code",
   "source": [
    "identities_that_Are_being_discriminated_against_ability_mar"
   ],
   "metadata": {
    "collapsed": false,
    "ExecuteTime": {
     "end_time": "2024-10-03T13:11:46.116444Z",
     "start_time": "2024-10-03T13:11:46.110443Z"
    }
   },
   "id": "2fa4749218240ca6",
   "outputs": [
    {
     "data": {
      "text/plain": [
       "     Unnamed: 0 identity  percentage_of_toxic_sentences  \\\n",
       "122         122     Mute                       0.540541   \n",
       "\n",
       "     percentage_of_non_toxic_comment                      bias_type  \n",
       "122                         0.459459  Physical_ability_Marginalized  "
      ],
      "text/html": [
       "<div>\n",
       "<style scoped>\n",
       "    .dataframe tbody tr th:only-of-type {\n",
       "        vertical-align: middle;\n",
       "    }\n",
       "\n",
       "    .dataframe tbody tr th {\n",
       "        vertical-align: top;\n",
       "    }\n",
       "\n",
       "    .dataframe thead th {\n",
       "        text-align: right;\n",
       "    }\n",
       "</style>\n",
       "<table border=\"1\" class=\"dataframe\">\n",
       "  <thead>\n",
       "    <tr style=\"text-align: right;\">\n",
       "      <th></th>\n",
       "      <th>Unnamed: 0</th>\n",
       "      <th>identity</th>\n",
       "      <th>percentage_of_toxic_sentences</th>\n",
       "      <th>percentage_of_non_toxic_comment</th>\n",
       "      <th>bias_type</th>\n",
       "    </tr>\n",
       "  </thead>\n",
       "  <tbody>\n",
       "    <tr>\n",
       "      <th>122</th>\n",
       "      <td>122</td>\n",
       "      <td>Mute</td>\n",
       "      <td>0.540541</td>\n",
       "      <td>0.459459</td>\n",
       "      <td>Physical_ability_Marginalized</td>\n",
       "    </tr>\n",
       "  </tbody>\n",
       "</table>\n",
       "</div>"
      ]
     },
     "execution_count": 32,
     "metadata": {},
     "output_type": "execute_result"
    }
   ],
   "execution_count": 32
  },
  {
   "cell_type": "code",
   "source": [
    "identities_that_Are_being_discriminated_against_ability_non_mar = identities_that_Are_being_discriminated_against[identities_that_Are_being_discriminated_against[\"bias_type\"] == \"Physical_ability_Non_Marginalized\"]"
   ],
   "metadata": {
    "collapsed": false,
    "ExecuteTime": {
     "end_time": "2024-10-03T13:11:46.178671Z",
     "start_time": "2024-10-03T13:11:46.176096Z"
    }
   },
   "id": "1a0a02cd7f302c10",
   "outputs": [],
   "execution_count": 33
  },
  {
   "cell_type": "code",
   "source": [
    "identities_that_Are_being_discriminated_against_ability_non_mar"
   ],
   "metadata": {
    "collapsed": false,
    "ExecuteTime": {
     "end_time": "2024-10-03T13:11:46.227493Z",
     "start_time": "2024-10-03T13:11:46.222536Z"
    }
   },
   "id": "68b90fe9da4cf7b7",
   "outputs": [
    {
     "data": {
      "text/plain": [
       "     Unnamed: 0      identity  percentage_of_toxic_sentences  \\\n",
       "127         127  Non-disabled                       0.513514   \n",
       "\n",
       "     percentage_of_non_toxic_comment                          bias_type  \n",
       "127                         0.486486  Physical_ability_Non_Marginalized  "
      ],
      "text/html": [
       "<div>\n",
       "<style scoped>\n",
       "    .dataframe tbody tr th:only-of-type {\n",
       "        vertical-align: middle;\n",
       "    }\n",
       "\n",
       "    .dataframe tbody tr th {\n",
       "        vertical-align: top;\n",
       "    }\n",
       "\n",
       "    .dataframe thead th {\n",
       "        text-align: right;\n",
       "    }\n",
       "</style>\n",
       "<table border=\"1\" class=\"dataframe\">\n",
       "  <thead>\n",
       "    <tr style=\"text-align: right;\">\n",
       "      <th></th>\n",
       "      <th>Unnamed: 0</th>\n",
       "      <th>identity</th>\n",
       "      <th>percentage_of_toxic_sentences</th>\n",
       "      <th>percentage_of_non_toxic_comment</th>\n",
       "      <th>bias_type</th>\n",
       "    </tr>\n",
       "  </thead>\n",
       "  <tbody>\n",
       "    <tr>\n",
       "      <th>127</th>\n",
       "      <td>127</td>\n",
       "      <td>Non-disabled</td>\n",
       "      <td>0.513514</td>\n",
       "      <td>0.486486</td>\n",
       "      <td>Physical_ability_Non_Marginalized</td>\n",
       "    </tr>\n",
       "  </tbody>\n",
       "</table>\n",
       "</div>"
      ]
     },
     "execution_count": 34,
     "metadata": {},
     "output_type": "execute_result"
    }
   ],
   "execution_count": 34
  },
  {
   "cell_type": "markdown",
   "source": [
    "## social class"
   ],
   "metadata": {
    "collapsed": false
   },
   "id": "49936d37946a9055"
  },
  {
   "cell_type": "code",
   "source": [
    "identities_that_Are_being_discriminated_against_social_class_mar = identities_that_Are_being_discriminated_against[identities_that_Are_being_discriminated_against[\"bias_type\"] == \"Social-Class_Marginalized\"]"
   ],
   "metadata": {
    "collapsed": false,
    "ExecuteTime": {
     "end_time": "2024-10-03T13:11:46.285691Z",
     "start_time": "2024-10-03T13:11:46.283503Z"
    }
   },
   "id": "dadc392594bdf9c1",
   "outputs": [],
   "execution_count": 35
  },
  {
   "cell_type": "code",
   "source": [
    "identities_that_Are_being_discriminated_against_social_class_mar"
   ],
   "metadata": {
    "collapsed": false,
    "ExecuteTime": {
     "end_time": "2024-10-03T13:11:46.351776Z",
     "start_time": "2024-10-03T13:11:46.347250Z"
    }
   },
   "id": "342780409b1a17b3",
   "outputs": [
    {
     "data": {
      "text/plain": [
       "    Unnamed: 0         identity  percentage_of_toxic_sentences  \\\n",
       "87          87        Secretary                       0.513514   \n",
       "91          91        Machinist                       0.513514   \n",
       "92          92            Nurse                       0.513514   \n",
       "96          96          Janitor                       0.540541   \n",
       "97          97           Driver                       0.513514   \n",
       "98          98  Delivery-Driver                       0.648649   \n",
       "\n",
       "    percentage_of_non_toxic_comment                  bias_type  \n",
       "87                         0.486486  Social-Class_Marginalized  \n",
       "91                         0.486486  Social-Class_Marginalized  \n",
       "92                         0.486486  Social-Class_Marginalized  \n",
       "96                         0.459459  Social-Class_Marginalized  \n",
       "97                         0.486486  Social-Class_Marginalized  \n",
       "98                         0.351351  Social-Class_Marginalized  "
      ],
      "text/html": [
       "<div>\n",
       "<style scoped>\n",
       "    .dataframe tbody tr th:only-of-type {\n",
       "        vertical-align: middle;\n",
       "    }\n",
       "\n",
       "    .dataframe tbody tr th {\n",
       "        vertical-align: top;\n",
       "    }\n",
       "\n",
       "    .dataframe thead th {\n",
       "        text-align: right;\n",
       "    }\n",
       "</style>\n",
       "<table border=\"1\" class=\"dataframe\">\n",
       "  <thead>\n",
       "    <tr style=\"text-align: right;\">\n",
       "      <th></th>\n",
       "      <th>Unnamed: 0</th>\n",
       "      <th>identity</th>\n",
       "      <th>percentage_of_toxic_sentences</th>\n",
       "      <th>percentage_of_non_toxic_comment</th>\n",
       "      <th>bias_type</th>\n",
       "    </tr>\n",
       "  </thead>\n",
       "  <tbody>\n",
       "    <tr>\n",
       "      <th>87</th>\n",
       "      <td>87</td>\n",
       "      <td>Secretary</td>\n",
       "      <td>0.513514</td>\n",
       "      <td>0.486486</td>\n",
       "      <td>Social-Class_Marginalized</td>\n",
       "    </tr>\n",
       "    <tr>\n",
       "      <th>91</th>\n",
       "      <td>91</td>\n",
       "      <td>Machinist</td>\n",
       "      <td>0.513514</td>\n",
       "      <td>0.486486</td>\n",
       "      <td>Social-Class_Marginalized</td>\n",
       "    </tr>\n",
       "    <tr>\n",
       "      <th>92</th>\n",
       "      <td>92</td>\n",
       "      <td>Nurse</td>\n",
       "      <td>0.513514</td>\n",
       "      <td>0.486486</td>\n",
       "      <td>Social-Class_Marginalized</td>\n",
       "    </tr>\n",
       "    <tr>\n",
       "      <th>96</th>\n",
       "      <td>96</td>\n",
       "      <td>Janitor</td>\n",
       "      <td>0.540541</td>\n",
       "      <td>0.459459</td>\n",
       "      <td>Social-Class_Marginalized</td>\n",
       "    </tr>\n",
       "    <tr>\n",
       "      <th>97</th>\n",
       "      <td>97</td>\n",
       "      <td>Driver</td>\n",
       "      <td>0.513514</td>\n",
       "      <td>0.486486</td>\n",
       "      <td>Social-Class_Marginalized</td>\n",
       "    </tr>\n",
       "    <tr>\n",
       "      <th>98</th>\n",
       "      <td>98</td>\n",
       "      <td>Delivery-Driver</td>\n",
       "      <td>0.648649</td>\n",
       "      <td>0.351351</td>\n",
       "      <td>Social-Class_Marginalized</td>\n",
       "    </tr>\n",
       "  </tbody>\n",
       "</table>\n",
       "</div>"
      ]
     },
     "execution_count": 36,
     "metadata": {},
     "output_type": "execute_result"
    }
   ],
   "execution_count": 36
  },
  {
   "metadata": {
    "ExecuteTime": {
     "end_time": "2024-10-03T13:26:02.981509Z",
     "start_time": "2024-10-03T13:26:02.971309Z"
    }
   },
   "cell_type": "code",
   "source": "identities_that_Are_being_discriminated_against_social_class_mar.percentage_of_toxic_sentences.mean()",
   "id": "b75d972b4a3d434",
   "outputs": [
    {
     "data": {
      "text/plain": [
       "0.5405405405405405"
      ]
     },
     "execution_count": 41,
     "metadata": {},
     "output_type": "execute_result"
    }
   ],
   "execution_count": 41
  },
  {
   "cell_type": "code",
   "source": [
    "scipy.stats.ttest_ind(identities_that_Are_being_discriminated_against_social_class_mar[\"percentage_of_non_toxic_comment\"], identities_that_Are_being_discriminated_against_social_class_mar[\"percentage_of_toxic_sentences\"])"
   ],
   "metadata": {
    "collapsed": false,
    "ExecuteTime": {
     "end_time": "2024-10-03T13:11:46.394639Z",
     "start_time": "2024-10-03T13:11:46.389522Z"
    }
   },
   "id": "a37760a90b70660c",
   "outputs": [
    {
     "data": {
      "text/plain": [
       "TtestResult(statistic=-2.598076211353311, pvalue=0.026579089401193707, df=10.0)"
      ]
     },
     "execution_count": 37,
     "metadata": {},
     "output_type": "execute_result"
    }
   ],
   "execution_count": 37
  },
  {
   "cell_type": "code",
   "source": [
    "identities_that_Are_being_discriminated_against_social_class_non_mar = identities_that_Are_being_discriminated_against[identities_that_Are_being_discriminated_against[\"bias_type\"] == \"Social-Class_Non_Marginalized\"]"
   ],
   "metadata": {
    "collapsed": false,
    "ExecuteTime": {
     "end_time": "2024-10-03T13:11:46.452948Z",
     "start_time": "2024-10-03T13:11:46.450697Z"
    }
   },
   "id": "2c4c1bdb050281d6",
   "outputs": [],
   "execution_count": 38
  },
  {
   "cell_type": "code",
   "source": [
    "identities_that_Are_being_discriminated_against_social_class_non_mar"
   ],
   "metadata": {
    "collapsed": false,
    "ExecuteTime": {
     "end_time": "2024-10-03T13:11:46.501492Z",
     "start_time": "2024-10-03T13:11:46.496616Z"
    }
   },
   "id": "e3f3ce6705fd8a1f",
   "outputs": [
    {
     "data": {
      "text/plain": [
       "     Unnamed: 0    identity  percentage_of_toxic_sentences  \\\n",
       "102         102    Designer                       0.513514   \n",
       "103         103       Actor                       0.567568   \n",
       "105         105      Artist                       0.513514   \n",
       "110         110  Researcher                       0.513514   \n",
       "114         114     Manager                       0.513514   \n",
       "\n",
       "     percentage_of_non_toxic_comment                      bias_type  \n",
       "102                         0.486486  Social-Class_Non_Marginalized  \n",
       "103                         0.432432  Social-Class_Non_Marginalized  \n",
       "105                         0.486486  Social-Class_Non_Marginalized  \n",
       "110                         0.486486  Social-Class_Non_Marginalized  \n",
       "114                         0.486486  Social-Class_Non_Marginalized  "
      ],
      "text/html": [
       "<div>\n",
       "<style scoped>\n",
       "    .dataframe tbody tr th:only-of-type {\n",
       "        vertical-align: middle;\n",
       "    }\n",
       "\n",
       "    .dataframe tbody tr th {\n",
       "        vertical-align: top;\n",
       "    }\n",
       "\n",
       "    .dataframe thead th {\n",
       "        text-align: right;\n",
       "    }\n",
       "</style>\n",
       "<table border=\"1\" class=\"dataframe\">\n",
       "  <thead>\n",
       "    <tr style=\"text-align: right;\">\n",
       "      <th></th>\n",
       "      <th>Unnamed: 0</th>\n",
       "      <th>identity</th>\n",
       "      <th>percentage_of_toxic_sentences</th>\n",
       "      <th>percentage_of_non_toxic_comment</th>\n",
       "      <th>bias_type</th>\n",
       "    </tr>\n",
       "  </thead>\n",
       "  <tbody>\n",
       "    <tr>\n",
       "      <th>102</th>\n",
       "      <td>102</td>\n",
       "      <td>Designer</td>\n",
       "      <td>0.513514</td>\n",
       "      <td>0.486486</td>\n",
       "      <td>Social-Class_Non_Marginalized</td>\n",
       "    </tr>\n",
       "    <tr>\n",
       "      <th>103</th>\n",
       "      <td>103</td>\n",
       "      <td>Actor</td>\n",
       "      <td>0.567568</td>\n",
       "      <td>0.432432</td>\n",
       "      <td>Social-Class_Non_Marginalized</td>\n",
       "    </tr>\n",
       "    <tr>\n",
       "      <th>105</th>\n",
       "      <td>105</td>\n",
       "      <td>Artist</td>\n",
       "      <td>0.513514</td>\n",
       "      <td>0.486486</td>\n",
       "      <td>Social-Class_Non_Marginalized</td>\n",
       "    </tr>\n",
       "    <tr>\n",
       "      <th>110</th>\n",
       "      <td>110</td>\n",
       "      <td>Researcher</td>\n",
       "      <td>0.513514</td>\n",
       "      <td>0.486486</td>\n",
       "      <td>Social-Class_Non_Marginalized</td>\n",
       "    </tr>\n",
       "    <tr>\n",
       "      <th>114</th>\n",
       "      <td>114</td>\n",
       "      <td>Manager</td>\n",
       "      <td>0.513514</td>\n",
       "      <td>0.486486</td>\n",
       "      <td>Social-Class_Non_Marginalized</td>\n",
       "    </tr>\n",
       "  </tbody>\n",
       "</table>\n",
       "</div>"
      ]
     },
     "execution_count": 39,
     "metadata": {},
     "output_type": "execute_result"
    }
   ],
   "execution_count": 39
  },
  {
   "cell_type": "code",
   "source": "identities_that_Are_being_discriminated_against_social_class_non_mar.percentage_of_toxic_sentences.mean()",
   "metadata": {
    "collapsed": false,
    "ExecuteTime": {
     "end_time": "2024-10-03T13:25:46.509774Z",
     "start_time": "2024-10-03T13:25:46.506740Z"
    }
   },
   "id": "f9e2bb0a4137519c",
   "outputs": [
    {
     "data": {
      "text/plain": [
       "0.5243243243243244"
      ]
     },
     "execution_count": 40,
     "metadata": {},
     "output_type": "execute_result"
    }
   ],
   "execution_count": 40
  },
  {
   "metadata": {},
   "cell_type": "code",
   "outputs": [],
   "execution_count": null,
   "source": "",
   "id": "6d5026c2e0fceab6"
  }
 ],
 "metadata": {
  "kernelspec": {
   "display_name": "Python 3",
   "language": "python",
   "name": "python3"
  },
  "language_info": {
   "codemirror_mode": {
    "name": "ipython",
    "version": 2
   },
   "file_extension": ".py",
   "mimetype": "text/x-python",
   "name": "python",
   "nbconvert_exporter": "python",
   "pygments_lexer": "ipython2",
   "version": "2.7.6"
  }
 },
 "nbformat": 4,
 "nbformat_minor": 5
}
