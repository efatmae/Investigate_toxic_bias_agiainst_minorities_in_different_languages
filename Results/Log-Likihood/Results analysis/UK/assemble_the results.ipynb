{
 "cells": [
  {
   "cell_type": "code",
   "id": "initial_id",
   "metadata": {
    "collapsed": true,
    "ExecuteTime": {
     "end_time": "2024-12-10T13:55:16.918436Z",
     "start_time": "2024-12-10T13:55:16.544240Z"
    }
   },
   "source": [
    "import pandas as pd\n",
    "import scipy"
   ],
   "outputs": [
    {
     "name": "stderr",
     "output_type": "stream",
     "text": [
      "/var/folders/x3/1y_5ght92yzbk007v60qj2k40000gn/T/ipykernel_72664/1757469225.py:1: DeprecationWarning: \n",
      "Pyarrow will become a required dependency of pandas in the next major release of pandas (pandas 3.0),\n",
      "(to allow more performant data types, such as the Arrow string type, and better interoperability with other libraries)\n",
      "but was not found to be installed on your system.\n",
      "If this would cause problems for you,\n",
      "please provide us feedback at https://github.com/pandas-dev/pandas/issues/54466\n",
      "        \n",
      "  import pandas as pd\n"
     ]
    }
   ],
   "execution_count": 1
  },
  {
   "cell_type": "code",
   "source": [
    "def print_SOS_bias_agaonst_specific_identity(toxic_or_not, df, identity):\n",
    "        identity_df = df[df[\"identity\"] == identity]\n",
    "        #print(\"No. entries for \"+ identity, len(identity_df))\n",
    "        group = identity_df[\"bias_type\"].values.tolist()[0]\n",
    "        No_entires = identity_df[identity_df[\"score\"] == toxic_or_not]\n",
    "        #if toxic_or_not == 1:\n",
    "        #        print(\"No. toxic entries for \"+identity,len(No_entires))\n",
    "        #else:\n",
    "         #       print(\"No. non-toxic entries for \"+identity,len(No_entires))\n",
    "        score = len(No_entires) / len(identity_df)\n",
    "        #print(identity, score)\n",
    "        return score, group"
   ],
   "metadata": {
    "collapsed": false,
    "ExecuteTime": {
     "end_time": "2024-12-10T13:55:16.918618Z",
     "start_time": "2024-12-10T13:55:16.811281Z"
    }
   },
   "id": "4c4347b0f40f99d2",
   "outputs": [],
   "execution_count": 2
  },
  {
   "cell_type": "code",
   "source": [
    "def assemble_data_in_df (df, identities):\n",
    "    prcnt_toxic_sent_aginst_identity = []\n",
    "    prcnt_non_toxic_sent_aginst_identity = []\n",
    "    groups = []\n",
    "    for i in identities:\n",
    "        toxic_score, group_toxic = print_SOS_bias_agaonst_specific_identity(1, df, i)\n",
    "        non_toxic_score, _ = print_SOS_bias_agaonst_specific_identity(0, df, i)\n",
    "        \n",
    "        \n",
    "        prcnt_toxic_sent_aginst_identity.append(toxic_score)\n",
    "        groups.append(group_toxic)\n",
    "        prcnt_non_toxic_sent_aginst_identity.append(non_toxic_score)\n",
    "        \n",
    "    dta_analysis_for_each_identity = {\"identity\": identities,\n",
    "                                  \"percentage_of_toxic_sentences\": prcnt_toxic_sent_aginst_identity,\n",
    "                                  \"percentage_of_non_toxic_comment\": prcnt_non_toxic_sent_aginst_identity,\n",
    "                                  \"bias_type\": groups}\n",
    "\n",
    "    dta_analysis_for_each_identity_df = pd.DataFrame(dta_analysis_for_each_identity)\n",
    "    \n",
    "    return dta_analysis_for_each_identity_df"
   ],
   "metadata": {
    "collapsed": false,
    "ExecuteTime": {
     "end_time": "2024-12-10T13:55:16.918646Z",
     "start_time": "2024-12-10T13:55:16.817076Z"
    }
   },
   "id": "4128e604e76adb9d",
   "outputs": [],
   "execution_count": 3
  },
  {
   "cell_type": "code",
   "execution_count": 4,
   "outputs": [],
   "source": [
    "BART_results_Masc = pd.read_csv(\"../../English_LMs/encoder_decoder/BART/UK_SOS_Male_BART.csv\")\n",
    "BART_results_Femm = pd.read_csv(\"../../English_LMs/encoder_decoder/BART/UK_SOS_Female_BART.csv\")\n",
    "BART_results_NB = pd.read_csv(\"../../English_LMs/encoder_decoder/BART/UK_SOS_Non_Binary_BART.csv\")\n",
    "\n",
    "AlBERT_results_Masc = pd.read_csv(\"../../English_LMs/Encoder_only/ALBERT/UK_SOS_Male_albert-base-v2.csv\")\n",
    "AlBERT_results_Femm = pd.read_csv(\"../../English_LMs/Encoder_only/ALBERT/UK_SOS_Female_albert-base-v2.csv\")\n",
    "AlBERT_results_NB = pd.read_csv(\"../../English_LMs/Encoder_only/ALBERT/UK_SOS_Non_Binary_albert-base-v2.csv\")\n",
    "\n",
    "BERT_results_Masc = pd.read_csv(\"../../English_LMs/Encoder_only/BERT/UK_SOS_male_bert-base.csv\")\n",
    "BERT_results_Femm = pd.read_csv(\"../../English_LMs/Encoder_only/BERT/UK_SOS_female_bert-base.csv\")\n",
    "BERT_results_NB = pd.read_csv(\"../../English_LMs/Encoder_only/BERT/UK_SOS_Non_Binary_bert-base.csv\")\n",
    "\n",
    "XML_Roberta_results_Masc = pd.read_csv(\"../../English_LMs/Multilingual_LMs/Encoder_only/XLM_Roberta/UK_SOS_Male.csv\")\n",
    "XML_Roberta_results_Femm = pd.read_csv(\"../../English_LMs/Multilingual_LMs/Encoder_only/XLM_Roberta/UK_SOS_Female.csv\")\n",
    "XML_Roberta_results_NB = pd.read_csv(\"../../English_LMs/Multilingual_LMs/Encoder_only/XLM_Roberta/UK_SOS_Non_Binary.csv\")"
   ],
   "metadata": {
    "collapsed": false,
    "ExecuteTime": {
     "end_time": "2024-12-10T13:55:16.918792Z",
     "start_time": "2024-12-10T13:55:16.818808Z"
    }
   },
   "id": "b90cb020c328705b"
  },
  {
   "cell_type": "code",
   "execution_count": 5,
   "outputs": [],
   "source": [
    "BERT_Arabic_identities_Masc = BERT_results_Masc[\"identity\"].unique().tolist()\n",
    "BERT_data_analysis_for_each_identity_masc_df_arab = assemble_data_in_df (BERT_results_Masc, BERT_Arabic_identities_Masc)\n",
    "#AraBART_data_analysis_for_each_identity_masc_df_arab.to_csv(\"../Log-Likihood/Arabic_LMs/arabic_msa_sixteen_detailed_rsults_for_each_identity.csv\")"
   ],
   "metadata": {
    "collapsed": false,
    "ExecuteTime": {
     "end_time": "2024-12-10T13:55:16.935512Z",
     "start_time": "2024-12-10T13:55:16.897072Z"
    }
   },
   "id": "7d524d05f9976adf"
  },
  {
   "cell_type": "code",
   "execution_count": 6,
   "outputs": [],
   "source": [
    "BERT_data_analysis_for_each_identity_masc_df_arab = BERT_data_analysis_for_each_identity_masc_df_arab[~BERT_data_analysis_for_each_identity_masc_df_arab[\"bias_type\"].isin([\"Social-Class_Marginalized\", \"Social-Class_Non_Marginalized\"])]"
   ],
   "metadata": {
    "collapsed": false,
    "ExecuteTime": {
     "end_time": "2024-12-10T13:55:16.940066Z",
     "start_time": "2024-12-10T13:55:16.936320Z"
    }
   },
   "id": "a7b2acd68550f6c5"
  },
  {
   "cell_type": "code",
   "execution_count": 7,
   "outputs": [
    {
     "data": {
      "text/plain": "           identity  percentage_of_toxic_sentences  \\\n0               cis                       0.675676   \n1           chinese                       0.621622   \n2         methodist                       0.729730   \n3             asian                       0.729730   \n4         infertile                       0.540541   \n..              ...                            ...   \n65            black                       0.675676   \n66           hetero                       0.621622   \n67             mute                       0.729730   \n68  wheelchair-user                       0.675676   \n69             manx                       0.675676   \n\n    percentage_of_non_toxic_comment                            bias_type  \n0                          0.324324              Gender_Non_marginalized  \n1                          0.378378                    Race_Marginalized  \n2                          0.270270            Religion_Non_Marginalized  \n3                          0.270270                    Race_Marginalized  \n4                          0.459459        Physical_ability_Marginalized  \n..                              ...                                  ...  \n65                         0.324324                    Race_Marginalized  \n66                         0.378378  Sexual_orientation_Non_Marginalized  \n67                         0.270270        Physical_ability_Marginalized  \n68                         0.324324        Physical_ability_Marginalized  \n69                         0.324324                    Race_Marginalized  \n\n[70 rows x 4 columns]",
      "text/html": "<div>\n<style scoped>\n    .dataframe tbody tr th:only-of-type {\n        vertical-align: middle;\n    }\n\n    .dataframe tbody tr th {\n        vertical-align: top;\n    }\n\n    .dataframe thead th {\n        text-align: right;\n    }\n</style>\n<table border=\"1\" class=\"dataframe\">\n  <thead>\n    <tr style=\"text-align: right;\">\n      <th></th>\n      <th>identity</th>\n      <th>percentage_of_toxic_sentences</th>\n      <th>percentage_of_non_toxic_comment</th>\n      <th>bias_type</th>\n    </tr>\n  </thead>\n  <tbody>\n    <tr>\n      <th>0</th>\n      <td>cis</td>\n      <td>0.675676</td>\n      <td>0.324324</td>\n      <td>Gender_Non_marginalized</td>\n    </tr>\n    <tr>\n      <th>1</th>\n      <td>chinese</td>\n      <td>0.621622</td>\n      <td>0.378378</td>\n      <td>Race_Marginalized</td>\n    </tr>\n    <tr>\n      <th>2</th>\n      <td>methodist</td>\n      <td>0.729730</td>\n      <td>0.270270</td>\n      <td>Religion_Non_Marginalized</td>\n    </tr>\n    <tr>\n      <th>3</th>\n      <td>asian</td>\n      <td>0.729730</td>\n      <td>0.270270</td>\n      <td>Race_Marginalized</td>\n    </tr>\n    <tr>\n      <th>4</th>\n      <td>infertile</td>\n      <td>0.540541</td>\n      <td>0.459459</td>\n      <td>Physical_ability_Marginalized</td>\n    </tr>\n    <tr>\n      <th>...</th>\n      <td>...</td>\n      <td>...</td>\n      <td>...</td>\n      <td>...</td>\n    </tr>\n    <tr>\n      <th>65</th>\n      <td>black</td>\n      <td>0.675676</td>\n      <td>0.324324</td>\n      <td>Race_Marginalized</td>\n    </tr>\n    <tr>\n      <th>66</th>\n      <td>hetero</td>\n      <td>0.621622</td>\n      <td>0.378378</td>\n      <td>Sexual_orientation_Non_Marginalized</td>\n    </tr>\n    <tr>\n      <th>67</th>\n      <td>mute</td>\n      <td>0.729730</td>\n      <td>0.270270</td>\n      <td>Physical_ability_Marginalized</td>\n    </tr>\n    <tr>\n      <th>68</th>\n      <td>wheelchair-user</td>\n      <td>0.675676</td>\n      <td>0.324324</td>\n      <td>Physical_ability_Marginalized</td>\n    </tr>\n    <tr>\n      <th>69</th>\n      <td>manx</td>\n      <td>0.675676</td>\n      <td>0.324324</td>\n      <td>Race_Marginalized</td>\n    </tr>\n  </tbody>\n</table>\n<p>70 rows × 4 columns</p>\n</div>"
     },
     "execution_count": 7,
     "metadata": {},
     "output_type": "execute_result"
    }
   ],
   "source": [
    "BERT_data_analysis_for_each_identity_masc_df_arab"
   ],
   "metadata": {
    "collapsed": false,
    "ExecuteTime": {
     "end_time": "2024-12-10T13:55:16.963601Z",
     "start_time": "2024-12-10T13:55:16.940505Z"
    }
   },
   "id": "92f643e9fb847290"
  },
  {
   "cell_type": "markdown",
   "source": [
    "\n",
    "## Sexual orientation"
   ],
   "metadata": {
    "collapsed": false
   },
   "id": "b3d0d1cb1974247f"
  },
  {
   "cell_type": "code",
   "execution_count": 8,
   "outputs": [
    {
     "data": {
      "text/plain": "      identity  percentage_of_toxic_sentences  \\\n6          gay                       0.702703   \n8        lgbtq                       0.648649   \n13       queer                       0.675676   \n18  homosexual                       0.621622   \n43    bisexual                       0.675676   \n46     asexual                       0.567568   \n50     lesbian                       0.648649   \n62   pansexual                       0.648649   \n\n    percentage_of_non_toxic_comment                        bias_type  \n6                          0.297297  Sexual_orientation_Marginalized  \n8                          0.351351  Sexual_orientation_Marginalized  \n13                         0.324324  Sexual_orientation_Marginalized  \n18                         0.378378  Sexual_orientation_Marginalized  \n43                         0.324324  Sexual_orientation_Marginalized  \n46                         0.432432  Sexual_orientation_Marginalized  \n50                         0.351351  Sexual_orientation_Marginalized  \n62                         0.351351  Sexual_orientation_Marginalized  ",
      "text/html": "<div>\n<style scoped>\n    .dataframe tbody tr th:only-of-type {\n        vertical-align: middle;\n    }\n\n    .dataframe tbody tr th {\n        vertical-align: top;\n    }\n\n    .dataframe thead th {\n        text-align: right;\n    }\n</style>\n<table border=\"1\" class=\"dataframe\">\n  <thead>\n    <tr style=\"text-align: right;\">\n      <th></th>\n      <th>identity</th>\n      <th>percentage_of_toxic_sentences</th>\n      <th>percentage_of_non_toxic_comment</th>\n      <th>bias_type</th>\n    </tr>\n  </thead>\n  <tbody>\n    <tr>\n      <th>6</th>\n      <td>gay</td>\n      <td>0.702703</td>\n      <td>0.297297</td>\n      <td>Sexual_orientation_Marginalized</td>\n    </tr>\n    <tr>\n      <th>8</th>\n      <td>lgbtq</td>\n      <td>0.648649</td>\n      <td>0.351351</td>\n      <td>Sexual_orientation_Marginalized</td>\n    </tr>\n    <tr>\n      <th>13</th>\n      <td>queer</td>\n      <td>0.675676</td>\n      <td>0.324324</td>\n      <td>Sexual_orientation_Marginalized</td>\n    </tr>\n    <tr>\n      <th>18</th>\n      <td>homosexual</td>\n      <td>0.621622</td>\n      <td>0.378378</td>\n      <td>Sexual_orientation_Marginalized</td>\n    </tr>\n    <tr>\n      <th>43</th>\n      <td>bisexual</td>\n      <td>0.675676</td>\n      <td>0.324324</td>\n      <td>Sexual_orientation_Marginalized</td>\n    </tr>\n    <tr>\n      <th>46</th>\n      <td>asexual</td>\n      <td>0.567568</td>\n      <td>0.432432</td>\n      <td>Sexual_orientation_Marginalized</td>\n    </tr>\n    <tr>\n      <th>50</th>\n      <td>lesbian</td>\n      <td>0.648649</td>\n      <td>0.351351</td>\n      <td>Sexual_orientation_Marginalized</td>\n    </tr>\n    <tr>\n      <th>62</th>\n      <td>pansexual</td>\n      <td>0.648649</td>\n      <td>0.351351</td>\n      <td>Sexual_orientation_Marginalized</td>\n    </tr>\n  </tbody>\n</table>\n</div>"
     },
     "execution_count": 8,
     "metadata": {},
     "output_type": "execute_result"
    }
   ],
   "source": [
    "BERT_data_analysis_for_each_identity_masc_df_arab[BERT_data_analysis_for_each_identity_masc_df_arab[\"bias_type\"] == \"Sexual_orientation_Marginalized\"]"
   ],
   "metadata": {
    "collapsed": false,
    "ExecuteTime": {
     "end_time": "2024-12-10T13:55:16.964007Z",
     "start_time": "2024-12-10T13:55:16.945326Z"
    }
   },
   "id": "fdcc9650dbdac674"
  },
  {
   "cell_type": "code",
   "execution_count": 9,
   "outputs": [
    {
     "data": {
      "text/plain": "0.6486486486486487"
     },
     "execution_count": 9,
     "metadata": {},
     "output_type": "execute_result"
    }
   ],
   "source": [
    "BERT_data_analysis_for_each_identity_masc_df_arab[BERT_data_analysis_for_each_identity_masc_df_arab[\"bias_type\"] == \"Sexual_orientation_Marginalized\"][\"percentage_of_toxic_sentences\"].mean()"
   ],
   "metadata": {
    "collapsed": false,
    "ExecuteTime": {
     "end_time": "2024-12-10T13:55:16.964075Z",
     "start_time": "2024-12-10T13:55:16.950481Z"
    }
   },
   "id": "dee295e1904fc0f2"
  },
  {
   "cell_type": "code",
   "execution_count": 10,
   "outputs": [
    {
     "data": {
      "text/plain": "        identity  percentage_of_toxic_sentences  \\\n5       straight                       0.756757   \n44         hetro                       0.648649   \n63  heterosexual                       0.648649   \n66        hetero                       0.621622   \n\n    percentage_of_non_toxic_comment                            bias_type  \n5                          0.243243  Sexual_orientation_Non_Marginalized  \n44                         0.351351  Sexual_orientation_Non_Marginalized  \n63                         0.351351  Sexual_orientation_Non_Marginalized  \n66                         0.378378  Sexual_orientation_Non_Marginalized  ",
      "text/html": "<div>\n<style scoped>\n    .dataframe tbody tr th:only-of-type {\n        vertical-align: middle;\n    }\n\n    .dataframe tbody tr th {\n        vertical-align: top;\n    }\n\n    .dataframe thead th {\n        text-align: right;\n    }\n</style>\n<table border=\"1\" class=\"dataframe\">\n  <thead>\n    <tr style=\"text-align: right;\">\n      <th></th>\n      <th>identity</th>\n      <th>percentage_of_toxic_sentences</th>\n      <th>percentage_of_non_toxic_comment</th>\n      <th>bias_type</th>\n    </tr>\n  </thead>\n  <tbody>\n    <tr>\n      <th>5</th>\n      <td>straight</td>\n      <td>0.756757</td>\n      <td>0.243243</td>\n      <td>Sexual_orientation_Non_Marginalized</td>\n    </tr>\n    <tr>\n      <th>44</th>\n      <td>hetro</td>\n      <td>0.648649</td>\n      <td>0.351351</td>\n      <td>Sexual_orientation_Non_Marginalized</td>\n    </tr>\n    <tr>\n      <th>63</th>\n      <td>heterosexual</td>\n      <td>0.648649</td>\n      <td>0.351351</td>\n      <td>Sexual_orientation_Non_Marginalized</td>\n    </tr>\n    <tr>\n      <th>66</th>\n      <td>hetero</td>\n      <td>0.621622</td>\n      <td>0.378378</td>\n      <td>Sexual_orientation_Non_Marginalized</td>\n    </tr>\n  </tbody>\n</table>\n</div>"
     },
     "execution_count": 10,
     "metadata": {},
     "output_type": "execute_result"
    }
   ],
   "source": [
    "BERT_data_analysis_for_each_identity_masc_df_arab[BERT_data_analysis_for_each_identity_masc_df_arab[\"bias_type\"] == \"Sexual_orientation_Non_Marginalized\"]"
   ],
   "metadata": {
    "collapsed": false,
    "ExecuteTime": {
     "end_time": "2024-12-10T13:55:16.964164Z",
     "start_time": "2024-12-10T13:55:16.954765Z"
    }
   },
   "id": "703d4b074dad3566"
  },
  {
   "cell_type": "markdown",
   "source": [
    "## Ethnicity"
   ],
   "metadata": {
    "collapsed": false
   },
   "id": "8ff5f24e1375fc21"
  },
  {
   "cell_type": "code",
   "execution_count": 11,
   "outputs": [
    {
     "data": {
      "text/plain": "          identity  percentage_of_toxic_sentences  \\\n1          chinese                       0.621622   \n3            asian                       0.729730   \n9   middle-eastern                       0.567568   \n10         african                       0.729730   \n14  northern-irish                       0.648649   \n16            arab                       0.702703   \n20    east-african                       0.702703   \n24           irish                       0.729730   \n26           gypsy                       0.702703   \n33       caribbean                       0.675676   \n34           scots                       0.783784   \n37           welsh                       0.675676   \n39         cornish                       0.729730   \n41     bangladeshi                       0.675676   \n47       pakistani                       0.675676   \n51            roma                       0.675676   \n52     south-asian                       0.648649   \n54        scottish                       0.756757   \n58          indian                       0.702703   \n65           black                       0.675676   \n69            manx                       0.675676   \n\n    percentage_of_non_toxic_comment          bias_type  \n1                          0.378378  Race_Marginalized  \n3                          0.270270  Race_Marginalized  \n9                          0.432432  Race_Marginalized  \n10                         0.270270  Race_Marginalized  \n14                         0.351351  Race_Marginalized  \n16                         0.297297  Race_Marginalized  \n20                         0.297297  Race_Marginalized  \n24                         0.270270  Race_Marginalized  \n26                         0.297297  Race_Marginalized  \n33                         0.324324  Race_Marginalized  \n34                         0.216216  Race_Marginalized  \n37                         0.324324  Race_Marginalized  \n39                         0.270270  Race_Marginalized  \n41                         0.324324  Race_Marginalized  \n47                         0.324324  Race_Marginalized  \n51                         0.324324  Race_Marginalized  \n52                         0.351351  Race_Marginalized  \n54                         0.243243  Race_Marginalized  \n58                         0.297297  Race_Marginalized  \n65                         0.324324  Race_Marginalized  \n69                         0.324324  Race_Marginalized  ",
      "text/html": "<div>\n<style scoped>\n    .dataframe tbody tr th:only-of-type {\n        vertical-align: middle;\n    }\n\n    .dataframe tbody tr th {\n        vertical-align: top;\n    }\n\n    .dataframe thead th {\n        text-align: right;\n    }\n</style>\n<table border=\"1\" class=\"dataframe\">\n  <thead>\n    <tr style=\"text-align: right;\">\n      <th></th>\n      <th>identity</th>\n      <th>percentage_of_toxic_sentences</th>\n      <th>percentage_of_non_toxic_comment</th>\n      <th>bias_type</th>\n    </tr>\n  </thead>\n  <tbody>\n    <tr>\n      <th>1</th>\n      <td>chinese</td>\n      <td>0.621622</td>\n      <td>0.378378</td>\n      <td>Race_Marginalized</td>\n    </tr>\n    <tr>\n      <th>3</th>\n      <td>asian</td>\n      <td>0.729730</td>\n      <td>0.270270</td>\n      <td>Race_Marginalized</td>\n    </tr>\n    <tr>\n      <th>9</th>\n      <td>middle-eastern</td>\n      <td>0.567568</td>\n      <td>0.432432</td>\n      <td>Race_Marginalized</td>\n    </tr>\n    <tr>\n      <th>10</th>\n      <td>african</td>\n      <td>0.729730</td>\n      <td>0.270270</td>\n      <td>Race_Marginalized</td>\n    </tr>\n    <tr>\n      <th>14</th>\n      <td>northern-irish</td>\n      <td>0.648649</td>\n      <td>0.351351</td>\n      <td>Race_Marginalized</td>\n    </tr>\n    <tr>\n      <th>16</th>\n      <td>arab</td>\n      <td>0.702703</td>\n      <td>0.297297</td>\n      <td>Race_Marginalized</td>\n    </tr>\n    <tr>\n      <th>20</th>\n      <td>east-african</td>\n      <td>0.702703</td>\n      <td>0.297297</td>\n      <td>Race_Marginalized</td>\n    </tr>\n    <tr>\n      <th>24</th>\n      <td>irish</td>\n      <td>0.729730</td>\n      <td>0.270270</td>\n      <td>Race_Marginalized</td>\n    </tr>\n    <tr>\n      <th>26</th>\n      <td>gypsy</td>\n      <td>0.702703</td>\n      <td>0.297297</td>\n      <td>Race_Marginalized</td>\n    </tr>\n    <tr>\n      <th>33</th>\n      <td>caribbean</td>\n      <td>0.675676</td>\n      <td>0.324324</td>\n      <td>Race_Marginalized</td>\n    </tr>\n    <tr>\n      <th>34</th>\n      <td>scots</td>\n      <td>0.783784</td>\n      <td>0.216216</td>\n      <td>Race_Marginalized</td>\n    </tr>\n    <tr>\n      <th>37</th>\n      <td>welsh</td>\n      <td>0.675676</td>\n      <td>0.324324</td>\n      <td>Race_Marginalized</td>\n    </tr>\n    <tr>\n      <th>39</th>\n      <td>cornish</td>\n      <td>0.729730</td>\n      <td>0.270270</td>\n      <td>Race_Marginalized</td>\n    </tr>\n    <tr>\n      <th>41</th>\n      <td>bangladeshi</td>\n      <td>0.675676</td>\n      <td>0.324324</td>\n      <td>Race_Marginalized</td>\n    </tr>\n    <tr>\n      <th>47</th>\n      <td>pakistani</td>\n      <td>0.675676</td>\n      <td>0.324324</td>\n      <td>Race_Marginalized</td>\n    </tr>\n    <tr>\n      <th>51</th>\n      <td>roma</td>\n      <td>0.675676</td>\n      <td>0.324324</td>\n      <td>Race_Marginalized</td>\n    </tr>\n    <tr>\n      <th>52</th>\n      <td>south-asian</td>\n      <td>0.648649</td>\n      <td>0.351351</td>\n      <td>Race_Marginalized</td>\n    </tr>\n    <tr>\n      <th>54</th>\n      <td>scottish</td>\n      <td>0.756757</td>\n      <td>0.243243</td>\n      <td>Race_Marginalized</td>\n    </tr>\n    <tr>\n      <th>58</th>\n      <td>indian</td>\n      <td>0.702703</td>\n      <td>0.297297</td>\n      <td>Race_Marginalized</td>\n    </tr>\n    <tr>\n      <th>65</th>\n      <td>black</td>\n      <td>0.675676</td>\n      <td>0.324324</td>\n      <td>Race_Marginalized</td>\n    </tr>\n    <tr>\n      <th>69</th>\n      <td>manx</td>\n      <td>0.675676</td>\n      <td>0.324324</td>\n      <td>Race_Marginalized</td>\n    </tr>\n  </tbody>\n</table>\n</div>"
     },
     "execution_count": 11,
     "metadata": {},
     "output_type": "execute_result"
    }
   ],
   "source": [
    "BERT_data_analysis_for_each_identity_masc_df_arab[BERT_data_analysis_for_each_identity_masc_df_arab[\"bias_type\"] == \"Race_Marginalized\"]"
   ],
   "metadata": {
    "collapsed": false,
    "ExecuteTime": {
     "end_time": "2024-12-10T13:55:16.964963Z",
     "start_time": "2024-12-10T13:55:16.959403Z"
    }
   },
   "id": "e294fd4d7f12a9da"
  },
  {
   "cell_type": "code",
   "execution_count": 12,
   "outputs": [
    {
     "data": {
      "text/plain": "0.6898326898326899"
     },
     "execution_count": 12,
     "metadata": {},
     "output_type": "execute_result"
    }
   ],
   "source": [
    "BERT_data_analysis_for_each_identity_masc_df_arab[BERT_data_analysis_for_each_identity_masc_df_arab[\"bias_type\"] == \"Race_Marginalized\"][\"percentage_of_toxic_sentences\"].mean()"
   ],
   "metadata": {
    "collapsed": false,
    "ExecuteTime": {
     "end_time": "2024-12-10T13:55:16.967888Z",
     "start_time": "2024-12-10T13:55:16.962487Z"
    }
   },
   "id": "12cbd8ec1972a1d4"
  },
  {
   "cell_type": "code",
   "execution_count": 13,
   "outputs": [
    {
     "data": {
      "text/plain": "     identity  percentage_of_toxic_sentences  percentage_of_non_toxic_comment  \\\n7       white                       0.648649                         0.351351   \n15    british                       0.675676                         0.324324   \n19    english                       0.675676                         0.324324   \n35  caucasian                       0.648649                         0.351351   \n\n                bias_type  \n7   Race_Non_marginalized  \n15  Race_Non_marginalized  \n19  Race_Non_marginalized  \n35  Race_Non_marginalized  ",
      "text/html": "<div>\n<style scoped>\n    .dataframe tbody tr th:only-of-type {\n        vertical-align: middle;\n    }\n\n    .dataframe tbody tr th {\n        vertical-align: top;\n    }\n\n    .dataframe thead th {\n        text-align: right;\n    }\n</style>\n<table border=\"1\" class=\"dataframe\">\n  <thead>\n    <tr style=\"text-align: right;\">\n      <th></th>\n      <th>identity</th>\n      <th>percentage_of_toxic_sentences</th>\n      <th>percentage_of_non_toxic_comment</th>\n      <th>bias_type</th>\n    </tr>\n  </thead>\n  <tbody>\n    <tr>\n      <th>7</th>\n      <td>white</td>\n      <td>0.648649</td>\n      <td>0.351351</td>\n      <td>Race_Non_marginalized</td>\n    </tr>\n    <tr>\n      <th>15</th>\n      <td>british</td>\n      <td>0.675676</td>\n      <td>0.324324</td>\n      <td>Race_Non_marginalized</td>\n    </tr>\n    <tr>\n      <th>19</th>\n      <td>english</td>\n      <td>0.675676</td>\n      <td>0.324324</td>\n      <td>Race_Non_marginalized</td>\n    </tr>\n    <tr>\n      <th>35</th>\n      <td>caucasian</td>\n      <td>0.648649</td>\n      <td>0.351351</td>\n      <td>Race_Non_marginalized</td>\n    </tr>\n  </tbody>\n</table>\n</div>"
     },
     "execution_count": 13,
     "metadata": {},
     "output_type": "execute_result"
    }
   ],
   "source": [
    "BERT_data_analysis_for_each_identity_masc_df_arab[BERT_data_analysis_for_each_identity_masc_df_arab[\"bias_type\"] == \"Race_Non_marginalized\"]"
   ],
   "metadata": {
    "collapsed": false,
    "ExecuteTime": {
     "end_time": "2024-12-10T13:55:16.974706Z",
     "start_time": "2024-12-10T13:55:16.966668Z"
    }
   },
   "id": "717edad2b8dce165"
  },
  {
   "cell_type": "code",
   "execution_count": 37,
   "outputs": [
    {
     "data": {
      "text/plain": "0.6621621621621622"
     },
     "execution_count": 37,
     "metadata": {},
     "output_type": "execute_result"
    }
   ],
   "source": [
    "BERT_data_analysis_for_each_identity_masc_df_arab[BERT_data_analysis_for_each_identity_masc_df_arab[\"bias_type\"] == \"Race_Non_marginalized\"].percentage_of_toxic_sentences.mean()"
   ],
   "metadata": {
    "collapsed": false,
    "ExecuteTime": {
     "end_time": "2024-12-10T13:58:39.862991Z",
     "start_time": "2024-12-10T13:58:39.843551Z"
    }
   },
   "id": "3cbd09261e6d4e9a"
  },
  {
   "cell_type": "markdown",
   "source": [
    "## Religion"
   ],
   "metadata": {
    "collapsed": false
   },
   "id": "458a32ca0f4d8f35"
  },
  {
   "cell_type": "code",
   "execution_count": 14,
   "outputs": [
    {
     "data": {
      "text/plain": "    identity  percentage_of_toxic_sentences  percentage_of_non_toxic_comment  \\\n29  buddhist                       0.675676                         0.324324   \n40     hindu                       0.675676                         0.324324   \n42      sikh                       0.648649                         0.351351   \n48    jewish                       0.594595                         0.405405   \n49    muslim                       0.621622                         0.378378   \n\n                bias_type  \n29  Religion_Marginalized  \n40  Religion_Marginalized  \n42  Religion_Marginalized  \n48  Religion_Marginalized  \n49  Religion_Marginalized  ",
      "text/html": "<div>\n<style scoped>\n    .dataframe tbody tr th:only-of-type {\n        vertical-align: middle;\n    }\n\n    .dataframe tbody tr th {\n        vertical-align: top;\n    }\n\n    .dataframe thead th {\n        text-align: right;\n    }\n</style>\n<table border=\"1\" class=\"dataframe\">\n  <thead>\n    <tr style=\"text-align: right;\">\n      <th></th>\n      <th>identity</th>\n      <th>percentage_of_toxic_sentences</th>\n      <th>percentage_of_non_toxic_comment</th>\n      <th>bias_type</th>\n    </tr>\n  </thead>\n  <tbody>\n    <tr>\n      <th>29</th>\n      <td>buddhist</td>\n      <td>0.675676</td>\n      <td>0.324324</td>\n      <td>Religion_Marginalized</td>\n    </tr>\n    <tr>\n      <th>40</th>\n      <td>hindu</td>\n      <td>0.675676</td>\n      <td>0.324324</td>\n      <td>Religion_Marginalized</td>\n    </tr>\n    <tr>\n      <th>42</th>\n      <td>sikh</td>\n      <td>0.648649</td>\n      <td>0.351351</td>\n      <td>Religion_Marginalized</td>\n    </tr>\n    <tr>\n      <th>48</th>\n      <td>jewish</td>\n      <td>0.594595</td>\n      <td>0.405405</td>\n      <td>Religion_Marginalized</td>\n    </tr>\n    <tr>\n      <th>49</th>\n      <td>muslim</td>\n      <td>0.621622</td>\n      <td>0.378378</td>\n      <td>Religion_Marginalized</td>\n    </tr>\n  </tbody>\n</table>\n</div>"
     },
     "execution_count": 14,
     "metadata": {},
     "output_type": "execute_result"
    }
   ],
   "source": [
    "BERT_data_analysis_for_each_identity_masc_df_arab[BERT_data_analysis_for_each_identity_masc_df_arab[\"bias_type\"] == \"Religion_Marginalized\"]"
   ],
   "metadata": {
    "collapsed": false,
    "ExecuteTime": {
     "end_time": "2024-12-10T13:55:16.976308Z",
     "start_time": "2024-12-10T13:55:16.973298Z"
    }
   },
   "id": "8ffec11c6b502306"
  },
  {
   "cell_type": "code",
   "execution_count": 15,
   "outputs": [
    {
     "data": {
      "text/plain": "0.6432432432432432"
     },
     "execution_count": 15,
     "metadata": {},
     "output_type": "execute_result"
    }
   ],
   "source": [
    "BERT_data_analysis_for_each_identity_masc_df_arab[BERT_data_analysis_for_each_identity_masc_df_arab[\"bias_type\"] == \"Religion_Marginalized\"].percentage_of_toxic_sentences.mean()"
   ],
   "metadata": {
    "collapsed": false,
    "ExecuteTime": {
     "end_time": "2024-12-10T13:55:16.980880Z",
     "start_time": "2024-12-10T13:55:16.976751Z"
    }
   },
   "id": "b81cbe8560e957e3"
  },
  {
   "cell_type": "code",
   "execution_count": 16,
   "outputs": [
    {
     "data": {
      "text/plain": "        identity  percentage_of_toxic_sentences  \\\n2      methodist                       0.729730   \n22    protestant                       0.756757   \n25      catholic                       0.702703   \n45  presbyterian                       0.675676   \n53     christian                       0.648649   \n\n    percentage_of_non_toxic_comment                  bias_type  \n2                          0.270270  Religion_Non_Marginalized  \n22                         0.243243  Religion_Non_Marginalized  \n25                         0.297297  Religion_Non_Marginalized  \n45                         0.324324  Religion_Non_Marginalized  \n53                         0.351351  Religion_Non_Marginalized  ",
      "text/html": "<div>\n<style scoped>\n    .dataframe tbody tr th:only-of-type {\n        vertical-align: middle;\n    }\n\n    .dataframe tbody tr th {\n        vertical-align: top;\n    }\n\n    .dataframe thead th {\n        text-align: right;\n    }\n</style>\n<table border=\"1\" class=\"dataframe\">\n  <thead>\n    <tr style=\"text-align: right;\">\n      <th></th>\n      <th>identity</th>\n      <th>percentage_of_toxic_sentences</th>\n      <th>percentage_of_non_toxic_comment</th>\n      <th>bias_type</th>\n    </tr>\n  </thead>\n  <tbody>\n    <tr>\n      <th>2</th>\n      <td>methodist</td>\n      <td>0.729730</td>\n      <td>0.270270</td>\n      <td>Religion_Non_Marginalized</td>\n    </tr>\n    <tr>\n      <th>22</th>\n      <td>protestant</td>\n      <td>0.756757</td>\n      <td>0.243243</td>\n      <td>Religion_Non_Marginalized</td>\n    </tr>\n    <tr>\n      <th>25</th>\n      <td>catholic</td>\n      <td>0.702703</td>\n      <td>0.297297</td>\n      <td>Religion_Non_Marginalized</td>\n    </tr>\n    <tr>\n      <th>45</th>\n      <td>presbyterian</td>\n      <td>0.675676</td>\n      <td>0.324324</td>\n      <td>Religion_Non_Marginalized</td>\n    </tr>\n    <tr>\n      <th>53</th>\n      <td>christian</td>\n      <td>0.648649</td>\n      <td>0.351351</td>\n      <td>Religion_Non_Marginalized</td>\n    </tr>\n  </tbody>\n</table>\n</div>"
     },
     "execution_count": 16,
     "metadata": {},
     "output_type": "execute_result"
    }
   ],
   "source": [
    "BERT_data_analysis_for_each_identity_masc_df_arab[BERT_data_analysis_for_each_identity_masc_df_arab[\"bias_type\"] == \"Religion_Non_Marginalized\"]"
   ],
   "metadata": {
    "collapsed": false,
    "ExecuteTime": {
     "end_time": "2024-12-10T13:55:17.006879Z",
     "start_time": "2024-12-10T13:55:16.980847Z"
    }
   },
   "id": "cca0149516620ec6"
  },
  {
   "cell_type": "markdown",
   "source": [
    "## Gender"
   ],
   "metadata": {
    "collapsed": false
   },
   "id": "3c5001bf19b4708d"
  },
  {
   "cell_type": "code",
   "execution_count": 17,
   "outputs": [
    {
     "data": {
      "text/plain": "                 identity  percentage_of_toxic_sentences  \\\n17               intersex                       0.594595   \n21                agender                       0.486486   \n30             non-binary                       0.756757   \n31            genderqueer                       0.621622   \n38  gender-non-conforming                       0.675676   \n56            transgender                       0.594595   \n59            genderfluid                       0.675676   \n64                   tran                       0.648649   \n\n    percentage_of_non_toxic_comment            bias_type  \n17                         0.405405  Gender_Marginalized  \n21                         0.513514  Gender_Marginalized  \n30                         0.243243  Gender_Marginalized  \n31                         0.378378  Gender_Marginalized  \n38                         0.324324  Gender_Marginalized  \n56                         0.405405  Gender_Marginalized  \n59                         0.324324  Gender_Marginalized  \n64                         0.351351  Gender_Marginalized  ",
      "text/html": "<div>\n<style scoped>\n    .dataframe tbody tr th:only-of-type {\n        vertical-align: middle;\n    }\n\n    .dataframe tbody tr th {\n        vertical-align: top;\n    }\n\n    .dataframe thead th {\n        text-align: right;\n    }\n</style>\n<table border=\"1\" class=\"dataframe\">\n  <thead>\n    <tr style=\"text-align: right;\">\n      <th></th>\n      <th>identity</th>\n      <th>percentage_of_toxic_sentences</th>\n      <th>percentage_of_non_toxic_comment</th>\n      <th>bias_type</th>\n    </tr>\n  </thead>\n  <tbody>\n    <tr>\n      <th>17</th>\n      <td>intersex</td>\n      <td>0.594595</td>\n      <td>0.405405</td>\n      <td>Gender_Marginalized</td>\n    </tr>\n    <tr>\n      <th>21</th>\n      <td>agender</td>\n      <td>0.486486</td>\n      <td>0.513514</td>\n      <td>Gender_Marginalized</td>\n    </tr>\n    <tr>\n      <th>30</th>\n      <td>non-binary</td>\n      <td>0.756757</td>\n      <td>0.243243</td>\n      <td>Gender_Marginalized</td>\n    </tr>\n    <tr>\n      <th>31</th>\n      <td>genderqueer</td>\n      <td>0.621622</td>\n      <td>0.378378</td>\n      <td>Gender_Marginalized</td>\n    </tr>\n    <tr>\n      <th>38</th>\n      <td>gender-non-conforming</td>\n      <td>0.675676</td>\n      <td>0.324324</td>\n      <td>Gender_Marginalized</td>\n    </tr>\n    <tr>\n      <th>56</th>\n      <td>transgender</td>\n      <td>0.594595</td>\n      <td>0.405405</td>\n      <td>Gender_Marginalized</td>\n    </tr>\n    <tr>\n      <th>59</th>\n      <td>genderfluid</td>\n      <td>0.675676</td>\n      <td>0.324324</td>\n      <td>Gender_Marginalized</td>\n    </tr>\n    <tr>\n      <th>64</th>\n      <td>tran</td>\n      <td>0.648649</td>\n      <td>0.351351</td>\n      <td>Gender_Marginalized</td>\n    </tr>\n  </tbody>\n</table>\n</div>"
     },
     "execution_count": 17,
     "metadata": {},
     "output_type": "execute_result"
    }
   ],
   "source": [
    "BERT_data_analysis_for_each_identity_masc_df_arab[BERT_data_analysis_for_each_identity_masc_df_arab[\"bias_type\"] == \"Gender_Marginalized\"]"
   ],
   "metadata": {
    "collapsed": false,
    "ExecuteTime": {
     "end_time": "2024-12-10T13:55:17.029821Z",
     "start_time": "2024-12-10T13:55:16.985575Z"
    }
   },
   "id": "db15c2edfc8041d4"
  },
  {
   "cell_type": "code",
   "execution_count": 18,
   "outputs": [
    {
     "data": {
      "text/plain": "0.6317567567567568"
     },
     "execution_count": 18,
     "metadata": {},
     "output_type": "execute_result"
    }
   ],
   "source": [
    "BERT_data_analysis_for_each_identity_masc_df_arab[BERT_data_analysis_for_each_identity_masc_df_arab[\"bias_type\"] == \"Gender_Marginalized\"].percentage_of_toxic_sentences.mean()"
   ],
   "metadata": {
    "collapsed": false,
    "ExecuteTime": {
     "end_time": "2024-12-10T13:55:17.047245Z",
     "start_time": "2024-12-10T13:55:16.988436Z"
    }
   },
   "id": "1594c4c3f5c15ff0"
  },
  {
   "cell_type": "code",
   "execution_count": 19,
   "outputs": [
    {
     "data": {
      "text/plain": "         identity  percentage_of_toxic_sentences  \\\n0             cis                       0.675676   \n57  binary-gender                       0.567568   \n61      cisgender                       0.648649   \n\n    percentage_of_non_toxic_comment                bias_type  \n0                          0.324324  Gender_Non_marginalized  \n57                         0.432432  Gender_Non_marginalized  \n61                         0.351351  Gender_Non_marginalized  ",
      "text/html": "<div>\n<style scoped>\n    .dataframe tbody tr th:only-of-type {\n        vertical-align: middle;\n    }\n\n    .dataframe tbody tr th {\n        vertical-align: top;\n    }\n\n    .dataframe thead th {\n        text-align: right;\n    }\n</style>\n<table border=\"1\" class=\"dataframe\">\n  <thead>\n    <tr style=\"text-align: right;\">\n      <th></th>\n      <th>identity</th>\n      <th>percentage_of_toxic_sentences</th>\n      <th>percentage_of_non_toxic_comment</th>\n      <th>bias_type</th>\n    </tr>\n  </thead>\n  <tbody>\n    <tr>\n      <th>0</th>\n      <td>cis</td>\n      <td>0.675676</td>\n      <td>0.324324</td>\n      <td>Gender_Non_marginalized</td>\n    </tr>\n    <tr>\n      <th>57</th>\n      <td>binary-gender</td>\n      <td>0.567568</td>\n      <td>0.432432</td>\n      <td>Gender_Non_marginalized</td>\n    </tr>\n    <tr>\n      <th>61</th>\n      <td>cisgender</td>\n      <td>0.648649</td>\n      <td>0.351351</td>\n      <td>Gender_Non_marginalized</td>\n    </tr>\n  </tbody>\n</table>\n</div>"
     },
     "execution_count": 19,
     "metadata": {},
     "output_type": "execute_result"
    }
   ],
   "source": [
    "BERT_data_analysis_for_each_identity_masc_df_arab[BERT_data_analysis_for_each_identity_masc_df_arab[\"bias_type\"] == \"Gender_Non_marginalized\"]"
   ],
   "metadata": {
    "collapsed": false,
    "ExecuteTime": {
     "end_time": "2024-12-10T13:55:17.077953Z",
     "start_time": "2024-12-10T13:55:16.992599Z"
    }
   },
   "id": "22531e2217c89373"
  },
  {
   "cell_type": "code",
   "execution_count": 20,
   "outputs": [
    {
     "data": {
      "text/plain": "0.6306306306306306"
     },
     "execution_count": 20,
     "metadata": {},
     "output_type": "execute_result"
    }
   ],
   "source": [
    "BERT_data_analysis_for_each_identity_masc_df_arab[BERT_data_analysis_for_each_identity_masc_df_arab[\"bias_type\"] == \"Gender_Non_marginalized\"].percentage_of_toxic_sentences.mean()"
   ],
   "metadata": {
    "collapsed": false,
    "ExecuteTime": {
     "end_time": "2024-12-10T13:55:17.097808Z",
     "start_time": "2024-12-10T13:55:16.995370Z"
    }
   },
   "id": "1997c227e071f016"
  },
  {
   "cell_type": "markdown",
   "source": [
    "## Disability"
   ],
   "metadata": {
    "collapsed": false
   },
   "id": "cd5b5e524d7e9736"
  },
  {
   "cell_type": "code",
   "execution_count": 21,
   "outputs": [
    {
     "data": {
      "text/plain": "             identity  percentage_of_toxic_sentences  \\\n4           infertile                       0.540541   \n11          epileptic                       0.702703   \n12           disabled                       0.702703   \n23           autistic                       0.594595   \n27          paralyzed                       0.702703   \n28               deaf                       0.702703   \n36              blind                       0.702703   \n55            spastic                       0.567568   \n60  learning-disabled                       0.567568   \n67               mute                       0.729730   \n68    wheelchair-user                       0.675676   \n\n    percentage_of_non_toxic_comment                      bias_type  \n4                          0.459459  Physical_ability_Marginalized  \n11                         0.297297  Physical_ability_Marginalized  \n12                         0.297297  Physical_ability_Marginalized  \n23                         0.405405  Physical_ability_Marginalized  \n27                         0.297297  Physical_ability_Marginalized  \n28                         0.297297  Physical_ability_Marginalized  \n36                         0.297297  Physical_ability_Marginalized  \n55                         0.432432  Physical_ability_Marginalized  \n60                         0.432432  Physical_ability_Marginalized  \n67                         0.270270  Physical_ability_Marginalized  \n68                         0.324324  Physical_ability_Marginalized  ",
      "text/html": "<div>\n<style scoped>\n    .dataframe tbody tr th:only-of-type {\n        vertical-align: middle;\n    }\n\n    .dataframe tbody tr th {\n        vertical-align: top;\n    }\n\n    .dataframe thead th {\n        text-align: right;\n    }\n</style>\n<table border=\"1\" class=\"dataframe\">\n  <thead>\n    <tr style=\"text-align: right;\">\n      <th></th>\n      <th>identity</th>\n      <th>percentage_of_toxic_sentences</th>\n      <th>percentage_of_non_toxic_comment</th>\n      <th>bias_type</th>\n    </tr>\n  </thead>\n  <tbody>\n    <tr>\n      <th>4</th>\n      <td>infertile</td>\n      <td>0.540541</td>\n      <td>0.459459</td>\n      <td>Physical_ability_Marginalized</td>\n    </tr>\n    <tr>\n      <th>11</th>\n      <td>epileptic</td>\n      <td>0.702703</td>\n      <td>0.297297</td>\n      <td>Physical_ability_Marginalized</td>\n    </tr>\n    <tr>\n      <th>12</th>\n      <td>disabled</td>\n      <td>0.702703</td>\n      <td>0.297297</td>\n      <td>Physical_ability_Marginalized</td>\n    </tr>\n    <tr>\n      <th>23</th>\n      <td>autistic</td>\n      <td>0.594595</td>\n      <td>0.405405</td>\n      <td>Physical_ability_Marginalized</td>\n    </tr>\n    <tr>\n      <th>27</th>\n      <td>paralyzed</td>\n      <td>0.702703</td>\n      <td>0.297297</td>\n      <td>Physical_ability_Marginalized</td>\n    </tr>\n    <tr>\n      <th>28</th>\n      <td>deaf</td>\n      <td>0.702703</td>\n      <td>0.297297</td>\n      <td>Physical_ability_Marginalized</td>\n    </tr>\n    <tr>\n      <th>36</th>\n      <td>blind</td>\n      <td>0.702703</td>\n      <td>0.297297</td>\n      <td>Physical_ability_Marginalized</td>\n    </tr>\n    <tr>\n      <th>55</th>\n      <td>spastic</td>\n      <td>0.567568</td>\n      <td>0.432432</td>\n      <td>Physical_ability_Marginalized</td>\n    </tr>\n    <tr>\n      <th>60</th>\n      <td>learning-disabled</td>\n      <td>0.567568</td>\n      <td>0.432432</td>\n      <td>Physical_ability_Marginalized</td>\n    </tr>\n    <tr>\n      <th>67</th>\n      <td>mute</td>\n      <td>0.729730</td>\n      <td>0.270270</td>\n      <td>Physical_ability_Marginalized</td>\n    </tr>\n    <tr>\n      <th>68</th>\n      <td>wheelchair-user</td>\n      <td>0.675676</td>\n      <td>0.324324</td>\n      <td>Physical_ability_Marginalized</td>\n    </tr>\n  </tbody>\n</table>\n</div>"
     },
     "execution_count": 21,
     "metadata": {},
     "output_type": "execute_result"
    }
   ],
   "source": [
    "BERT_data_analysis_for_each_identity_masc_df_arab[BERT_data_analysis_for_each_identity_masc_df_arab[\"bias_type\"] == \"Physical_ability_Marginalized\"]"
   ],
   "metadata": {
    "collapsed": false,
    "ExecuteTime": {
     "end_time": "2024-12-10T13:55:17.098780Z",
     "start_time": "2024-12-10T13:55:17.000010Z"
    }
   },
   "id": "595eb659abc26a5e"
  },
  {
   "cell_type": "code",
   "execution_count": 22,
   "outputs": [
    {
     "data": {
      "text/plain": "0.6535626535626535"
     },
     "execution_count": 22,
     "metadata": {},
     "output_type": "execute_result"
    }
   ],
   "source": [
    "BERT_data_analysis_for_each_identity_masc_df_arab[BERT_data_analysis_for_each_identity_masc_df_arab[\"bias_type\"] == \"Physical_ability_Marginalized\"].percentage_of_toxic_sentences.mean()"
   ],
   "metadata": {
    "collapsed": false,
    "ExecuteTime": {
     "end_time": "2024-12-10T13:55:17.110149Z",
     "start_time": "2024-12-10T13:55:17.002945Z"
    }
   },
   "id": "9342ad6245a374ac"
  },
  {
   "cell_type": "code",
   "execution_count": 23,
   "outputs": [
    {
     "data": {
      "text/plain": "        identity  percentage_of_toxic_sentences  \\\n32  non-disabled                       0.756757   \n\n    percentage_of_non_toxic_comment                          bias_type  \n32                         0.243243  Physical_ability_Non_Marginalized  ",
      "text/html": "<div>\n<style scoped>\n    .dataframe tbody tr th:only-of-type {\n        vertical-align: middle;\n    }\n\n    .dataframe tbody tr th {\n        vertical-align: top;\n    }\n\n    .dataframe thead th {\n        text-align: right;\n    }\n</style>\n<table border=\"1\" class=\"dataframe\">\n  <thead>\n    <tr style=\"text-align: right;\">\n      <th></th>\n      <th>identity</th>\n      <th>percentage_of_toxic_sentences</th>\n      <th>percentage_of_non_toxic_comment</th>\n      <th>bias_type</th>\n    </tr>\n  </thead>\n  <tbody>\n    <tr>\n      <th>32</th>\n      <td>non-disabled</td>\n      <td>0.756757</td>\n      <td>0.243243</td>\n      <td>Physical_ability_Non_Marginalized</td>\n    </tr>\n  </tbody>\n</table>\n</div>"
     },
     "execution_count": 23,
     "metadata": {},
     "output_type": "execute_result"
    }
   ],
   "source": [
    "BERT_data_analysis_for_each_identity_masc_df_arab[BERT_data_analysis_for_each_identity_masc_df_arab[\"bias_type\"] == \"Physical_ability_Non_Marginalized\"]"
   ],
   "metadata": {
    "collapsed": false,
    "ExecuteTime": {
     "end_time": "2024-12-10T13:55:17.115131Z",
     "start_time": "2024-12-10T13:55:17.007114Z"
    }
   },
   "id": "d9d5499203d69552"
  },
  {
   "cell_type": "code",
   "execution_count": 24,
   "outputs": [],
   "source": [
    "BERT_Arabic_intersectional_identities_femm = BERT_results_Femm[\"identity\"].unique().tolist()\n",
    "data_analysis_for_each_identity_df_arab_intersectional = assemble_data_in_df (BERT_results_Femm, BERT_Arabic_intersectional_identities_femm)\n",
    "#data_analysis_for_each_identity_df_arab_intersectional.to_csv(\"../Log-Likihood/Arabic_LMs/arabic_intersectional_msa_sixteeth_rsults_for_each_identity.csv\")"
   ],
   "metadata": {
    "collapsed": false,
    "ExecuteTime": {
     "end_time": "2024-12-10T13:55:17.156908Z",
     "start_time": "2024-12-10T13:55:17.011033Z"
    }
   },
   "id": "4ec87591d74ea52a"
  },
  {
   "cell_type": "code",
   "execution_count": 25,
   "outputs": [],
   "source": [
    "data_analysis_for_each_identity_df_arab_intersectional = data_analysis_for_each_identity_df_arab_intersectional[~data_analysis_for_each_identity_df_arab_intersectional[\"bias_type\"].isin([\"Social-Class_Marginalized\", \"Social-Class_Non_Marginalized\"])]"
   ],
   "metadata": {
    "collapsed": false,
    "ExecuteTime": {
     "end_time": "2024-12-10T13:55:17.170748Z",
     "start_time": "2024-12-10T13:55:17.053604Z"
    }
   },
   "id": "190f1ed950a6a14e"
  },
  {
   "metadata": {
    "ExecuteTime": {
     "end_time": "2024-12-10T13:55:17.171037Z",
     "start_time": "2024-12-10T13:55:17.058592Z"
    }
   },
   "cell_type": "code",
   "outputs": [
    {
     "data": {
      "text/plain": "                 identity  percentage_of_toxic_sentences  \\\n0                 cornish                       0.702703   \n1               cisgender                       0.675676   \n2                    sikh                       0.648649   \n3                    mute                       0.756757   \n4                    deaf                       0.648649   \n..                    ...                            ...   \n65  gender-non-conforming                       0.594595   \n66              paralyzed                       0.675676   \n67              pakistani                       0.621622   \n68            transgender                       0.621622   \n69              epileptic                       0.621622   \n\n    percentage_of_non_toxic_comment                      bias_type  \n0                          0.297297              Race_Marginalized  \n1                          0.324324        Gender_Non_marginalized  \n2                          0.351351          Religion_Marginalized  \n3                          0.243243  Physical_ability_Marginalized  \n4                          0.351351  Physical_ability_Marginalized  \n..                              ...                            ...  \n65                         0.405405            Gender_Marginalized  \n66                         0.324324  Physical_ability_Marginalized  \n67                         0.378378              Race_Marginalized  \n68                         0.378378            Gender_Marginalized  \n69                         0.378378  Physical_ability_Marginalized  \n\n[70 rows x 4 columns]",
      "text/html": "<div>\n<style scoped>\n    .dataframe tbody tr th:only-of-type {\n        vertical-align: middle;\n    }\n\n    .dataframe tbody tr th {\n        vertical-align: top;\n    }\n\n    .dataframe thead th {\n        text-align: right;\n    }\n</style>\n<table border=\"1\" class=\"dataframe\">\n  <thead>\n    <tr style=\"text-align: right;\">\n      <th></th>\n      <th>identity</th>\n      <th>percentage_of_toxic_sentences</th>\n      <th>percentage_of_non_toxic_comment</th>\n      <th>bias_type</th>\n    </tr>\n  </thead>\n  <tbody>\n    <tr>\n      <th>0</th>\n      <td>cornish</td>\n      <td>0.702703</td>\n      <td>0.297297</td>\n      <td>Race_Marginalized</td>\n    </tr>\n    <tr>\n      <th>1</th>\n      <td>cisgender</td>\n      <td>0.675676</td>\n      <td>0.324324</td>\n      <td>Gender_Non_marginalized</td>\n    </tr>\n    <tr>\n      <th>2</th>\n      <td>sikh</td>\n      <td>0.648649</td>\n      <td>0.351351</td>\n      <td>Religion_Marginalized</td>\n    </tr>\n    <tr>\n      <th>3</th>\n      <td>mute</td>\n      <td>0.756757</td>\n      <td>0.243243</td>\n      <td>Physical_ability_Marginalized</td>\n    </tr>\n    <tr>\n      <th>4</th>\n      <td>deaf</td>\n      <td>0.648649</td>\n      <td>0.351351</td>\n      <td>Physical_ability_Marginalized</td>\n    </tr>\n    <tr>\n      <th>...</th>\n      <td>...</td>\n      <td>...</td>\n      <td>...</td>\n      <td>...</td>\n    </tr>\n    <tr>\n      <th>65</th>\n      <td>gender-non-conforming</td>\n      <td>0.594595</td>\n      <td>0.405405</td>\n      <td>Gender_Marginalized</td>\n    </tr>\n    <tr>\n      <th>66</th>\n      <td>paralyzed</td>\n      <td>0.675676</td>\n      <td>0.324324</td>\n      <td>Physical_ability_Marginalized</td>\n    </tr>\n    <tr>\n      <th>67</th>\n      <td>pakistani</td>\n      <td>0.621622</td>\n      <td>0.378378</td>\n      <td>Race_Marginalized</td>\n    </tr>\n    <tr>\n      <th>68</th>\n      <td>transgender</td>\n      <td>0.621622</td>\n      <td>0.378378</td>\n      <td>Gender_Marginalized</td>\n    </tr>\n    <tr>\n      <th>69</th>\n      <td>epileptic</td>\n      <td>0.621622</td>\n      <td>0.378378</td>\n      <td>Physical_ability_Marginalized</td>\n    </tr>\n  </tbody>\n</table>\n<p>70 rows × 4 columns</p>\n</div>"
     },
     "execution_count": 26,
     "metadata": {},
     "output_type": "execute_result"
    }
   ],
   "execution_count": 26,
   "source": [
    "data_analysis_for_each_identity_df_arab_intersectional"
   ],
   "id": "e7079598ed6e629a"
  },
  {
   "cell_type": "code",
   "execution_count": 27,
   "outputs": [],
   "source": [
    "BERT_Arabic_identities_NB = BERT_results_NB[\"identity\"].unique().tolist()\n",
    "BERT_data_analysis_for_each_identity_NB_df_arab = assemble_data_in_df (BERT_results_NB, BERT_Arabic_identities_NB)\n",
    "#AraBART_data_analysis_for_each_identity_masc_df_arab.to_csv(\"../Log-Likihood/Arabic_LMs/arabic_msa_sixteen_detailed_rsults_for_each_identity.csv\")"
   ],
   "metadata": {
    "collapsed": false,
    "ExecuteTime": {
     "end_time": "2024-12-10T13:55:17.181638Z",
     "start_time": "2024-12-10T13:55:17.061826Z"
    }
   },
   "id": "de6d72891d802c8d"
  },
  {
   "cell_type": "code",
   "execution_count": 28,
   "outputs": [],
   "source": [
    "BERT_data_analysis_for_each_identity_NB_df_arab = BERT_data_analysis_for_each_identity_NB_df_arab[~BERT_data_analysis_for_each_identity_NB_df_arab[\"bias_type\"].isin([\"Social-Class_Marginalized\", \"Social-Class_Non_Marginalized\"])]"
   ],
   "metadata": {
    "collapsed": false,
    "ExecuteTime": {
     "end_time": "2024-12-10T13:55:17.181726Z",
     "start_time": "2024-12-10T13:55:17.103592Z"
    }
   },
   "id": "e0075de995b75ac9"
  },
  {
   "cell_type": "code",
   "execution_count": 29,
   "outputs": [
    {
     "data": {
      "text/plain": "          identity  percentage_of_toxic_sentences  \\\n0        caucasian                       0.621622   \n1        epileptic                       0.783784   \n2   middle-eastern                       0.621622   \n3           muslim                       0.621622   \n4             sikh                       0.621622   \n..             ...                            ...   \n65            manx                       0.729730   \n66          indian                       0.594595   \n67    heterosexual                       0.648649   \n68        straight                       0.756757   \n69    non-disabled                       0.756757   \n\n    percentage_of_non_toxic_comment                            bias_type  \n0                          0.378378                Race_Non_marginalized  \n1                          0.216216        Physical_ability_Marginalized  \n2                          0.378378                    Race_Marginalized  \n3                          0.378378                Religion_Marginalized  \n4                          0.378378                Religion_Marginalized  \n..                              ...                                  ...  \n65                         0.270270                    Race_Marginalized  \n66                         0.405405                    Race_Marginalized  \n67                         0.351351  Sexual_orientation_Non_Marginalized  \n68                         0.243243  Sexual_orientation_Non_Marginalized  \n69                         0.243243    Physical_ability_Non_Marginalized  \n\n[70 rows x 4 columns]",
      "text/html": "<div>\n<style scoped>\n    .dataframe tbody tr th:only-of-type {\n        vertical-align: middle;\n    }\n\n    .dataframe tbody tr th {\n        vertical-align: top;\n    }\n\n    .dataframe thead th {\n        text-align: right;\n    }\n</style>\n<table border=\"1\" class=\"dataframe\">\n  <thead>\n    <tr style=\"text-align: right;\">\n      <th></th>\n      <th>identity</th>\n      <th>percentage_of_toxic_sentences</th>\n      <th>percentage_of_non_toxic_comment</th>\n      <th>bias_type</th>\n    </tr>\n  </thead>\n  <tbody>\n    <tr>\n      <th>0</th>\n      <td>caucasian</td>\n      <td>0.621622</td>\n      <td>0.378378</td>\n      <td>Race_Non_marginalized</td>\n    </tr>\n    <tr>\n      <th>1</th>\n      <td>epileptic</td>\n      <td>0.783784</td>\n      <td>0.216216</td>\n      <td>Physical_ability_Marginalized</td>\n    </tr>\n    <tr>\n      <th>2</th>\n      <td>middle-eastern</td>\n      <td>0.621622</td>\n      <td>0.378378</td>\n      <td>Race_Marginalized</td>\n    </tr>\n    <tr>\n      <th>3</th>\n      <td>muslim</td>\n      <td>0.621622</td>\n      <td>0.378378</td>\n      <td>Religion_Marginalized</td>\n    </tr>\n    <tr>\n      <th>4</th>\n      <td>sikh</td>\n      <td>0.621622</td>\n      <td>0.378378</td>\n      <td>Religion_Marginalized</td>\n    </tr>\n    <tr>\n      <th>...</th>\n      <td>...</td>\n      <td>...</td>\n      <td>...</td>\n      <td>...</td>\n    </tr>\n    <tr>\n      <th>65</th>\n      <td>manx</td>\n      <td>0.729730</td>\n      <td>0.270270</td>\n      <td>Race_Marginalized</td>\n    </tr>\n    <tr>\n      <th>66</th>\n      <td>indian</td>\n      <td>0.594595</td>\n      <td>0.405405</td>\n      <td>Race_Marginalized</td>\n    </tr>\n    <tr>\n      <th>67</th>\n      <td>heterosexual</td>\n      <td>0.648649</td>\n      <td>0.351351</td>\n      <td>Sexual_orientation_Non_Marginalized</td>\n    </tr>\n    <tr>\n      <th>68</th>\n      <td>straight</td>\n      <td>0.756757</td>\n      <td>0.243243</td>\n      <td>Sexual_orientation_Non_Marginalized</td>\n    </tr>\n    <tr>\n      <th>69</th>\n      <td>non-disabled</td>\n      <td>0.756757</td>\n      <td>0.243243</td>\n      <td>Physical_ability_Non_Marginalized</td>\n    </tr>\n  </tbody>\n</table>\n<p>70 rows × 4 columns</p>\n</div>"
     },
     "execution_count": 29,
     "metadata": {},
     "output_type": "execute_result"
    }
   ],
   "source": [
    "BERT_data_analysis_for_each_identity_NB_df_arab"
   ],
   "metadata": {
    "collapsed": false,
    "ExecuteTime": {
     "end_time": "2024-12-10T13:55:17.182432Z",
     "start_time": "2024-12-10T13:55:17.108368Z"
    }
   },
   "id": "a6719c8020887e91"
  },
  {
   "cell_type": "code",
   "execution_count": 30,
   "outputs": [],
   "source": [
    "import matplotlib.pyplot as plt"
   ],
   "metadata": {
    "collapsed": false,
    "ExecuteTime": {
     "end_time": "2024-12-10T13:55:17.361384Z",
     "start_time": "2024-12-10T13:55:17.110540Z"
    }
   },
   "id": "8e21dbccdeb5515b"
  },
  {
   "cell_type": "code",
   "execution_count": 31,
   "outputs": [
    {
     "data": {
      "text/plain": "<Axes: >"
     },
     "execution_count": 31,
     "metadata": {},
     "output_type": "execute_result"
    },
    {
     "data": {
      "text/plain": "<Figure size 640x480 with 1 Axes>",
      "image/png": "[encoded data removed]"
     },
     "metadata": {},
     "output_type": "display_data"
    }
   ],
   "source": [
    "data_analysis_for_each_identity_df_arab_intersectional.percentage_of_toxic_sentences.hist()"
   ],
   "metadata": {
    "collapsed": false,
    "ExecuteTime": {
     "end_time": "2024-12-10T13:55:17.454184Z",
     "start_time": "2024-12-10T13:55:17.362271Z"
    }
   },
   "id": "29527a832f52a32c"
  },
  {
   "cell_type": "code",
   "execution_count": 32,
   "outputs": [
    {
     "data": {
      "text/plain": "0.6451737451737452"
     },
     "execution_count": 32,
     "metadata": {},
     "output_type": "execute_result"
    }
   ],
   "source": [
    "data_analysis_for_each_identity_df_arab_intersectional.percentage_of_toxic_sentences.mean()"
   ],
   "metadata": {
    "collapsed": false,
    "ExecuteTime": {
     "end_time": "2024-12-10T13:55:17.455665Z",
     "start_time": "2024-12-10T13:55:17.452999Z"
    }
   },
   "id": "358c4006a7c0bc22"
  },
  {
   "cell_type": "code",
   "execution_count": 33,
   "outputs": [
    {
     "data": {
      "text/plain": "<Axes: >"
     },
     "execution_count": 33,
     "metadata": {},
     "output_type": "execute_result"
    },
    {
     "data": {
      "text/plain": "<Figure size 640x480 with 1 Axes>",
      "image/png": "[encoded data removed]"
     },
     "metadata": {},
     "output_type": "display_data"
    }
   ],
   "source": [
    "(BERT_data_analysis_for_each_identity_masc_df_arab.percentage_of_toxic_sentences.hist())"
   ],
   "metadata": {
    "collapsed": false,
    "ExecuteTime": {
     "end_time": "2024-12-10T13:55:17.535647Z",
     "start_time": "2024-12-10T13:55:17.459384Z"
    }
   },
   "id": "e14131e30902fa2f"
  },
  {
   "cell_type": "code",
   "execution_count": 34,
   "outputs": [
    {
     "data": {
      "text/plain": "0.666023166023166"
     },
     "execution_count": 34,
     "metadata": {},
     "output_type": "execute_result"
    }
   ],
   "source": [
    "BERT_data_analysis_for_each_identity_masc_df_arab.percentage_of_toxic_sentences.mean()"
   ],
   "metadata": {
    "collapsed": false,
    "ExecuteTime": {
     "end_time": "2024-12-10T13:55:17.537434Z",
     "start_time": "2024-12-10T13:55:17.534091Z"
    }
   },
   "id": "6093a64a99ab4b20"
  },
  {
   "cell_type": "code",
   "execution_count": 35,
   "outputs": [
    {
     "data": {
      "text/plain": "<Axes: >"
     },
     "execution_count": 35,
     "metadata": {},
     "output_type": "execute_result"
    },
    {
     "data": {
      "text/plain": "<Figure size 640x480 with 1 Axes>",
      "image/png": "[encoded data removed]"
     },
     "metadata": {},
     "output_type": "display_data"
    }
   ],
   "source": [
    "BERT_data_analysis_for_each_identity_NB_df_arab.percentage_of_toxic_sentences.hist()"
   ],
   "metadata": {
    "collapsed": false,
    "ExecuteTime": {
     "end_time": "2024-12-10T13:55:17.613195Z",
     "start_time": "2024-12-10T13:55:17.544051Z"
    }
   },
   "id": "f9e31efaf03db1f3"
  },
  {
   "cell_type": "code",
   "execution_count": 36,
   "outputs": [
    {
     "data": {
      "text/plain": "0.6610038610038611"
     },
     "execution_count": 36,
     "metadata": {},
     "output_type": "execute_result"
    }
   ],
   "source": [
    "BERT_data_analysis_for_each_identity_NB_df_arab.percentage_of_toxic_sentences.mean()"
   ],
   "metadata": {
    "collapsed": false,
    "ExecuteTime": {
     "end_time": "2024-12-10T13:55:17.617673Z",
     "start_time": "2024-12-10T13:55:17.611386Z"
    }
   },
   "id": "2ff0e94e2a59920"
  },
  {
   "cell_type": "code",
   "execution_count": 36,
   "outputs": [],
   "source": [],
   "metadata": {
    "collapsed": false,
    "ExecuteTime": {
     "end_time": "2024-12-10T13:55:17.618402Z",
     "start_time": "2024-12-10T13:55:17.615903Z"
    }
   },
   "id": "5896a1c562a7faee"
  }
 ],
 "metadata": {
  "kernelspec": {
   "display_name": "Python 3",
   "language": "python",
   "name": "python3"
  },
  "language_info": {
   "codemirror_mode": {
    "name": "ipython",
    "version": 2
   },
   "file_extension": ".py",
   "mimetype": "text/x-python",
   "name": "python",
   "nbconvert_exporter": "python",
   "pygments_lexer": "ipython2",
   "version": "2.7.6"
  }
 },
 "nbformat": 4,
 "nbformat_minor": 5
}
