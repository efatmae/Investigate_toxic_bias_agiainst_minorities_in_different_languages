{
 "cells": [
  {
   "cell_type": "code",
   "id": "initial_id",
   "metadata": {
    "collapsed": true,
    "ExecuteTime": {
     "end_time": "2024-12-10T12:21:57.997429Z",
     "start_time": "2024-12-10T12:21:57.996401Z"
    }
   },
   "source": [
    "import pandas as pd\n",
    "import scipy"
   ],
   "outputs": [],
   "execution_count": 1
  },
  {
   "cell_type": "code",
   "source": [
    "def print_SOS_bias_agaonst_specific_identity(toxic_or_not, df, identity):\n",
    "        identity_df = df[df[\"identity\"] == identity]\n",
    "        #print(\"No. entries for \"+ identity, len(identity_df))\n",
    "        group = identity_df[\"bias_type\"].values.tolist()[0]\n",
    "        No_entires = identity_df[identity_df[\"score\"] == toxic_or_not]\n",
    "        #if toxic_or_not == 1:\n",
    "        #        print(\"No. toxic entries for \"+identity,len(No_entires))\n",
    "        #else:\n",
    "         #       print(\"No. non-toxic entries for \"+identity,len(No_entires))\n",
    "        score = len(No_entires) / len(identity_df)\n",
    "        #print(identity, score)\n",
    "        return score, group"
   ],
   "metadata": {
    "collapsed": false,
    "ExecuteTime": {
     "end_time": "2024-12-10T12:21:58.936252Z",
     "start_time": "2024-12-10T12:21:58.928341Z"
    }
   },
   "id": "4c4347b0f40f99d2",
   "outputs": [],
   "execution_count": 2
  },
  {
   "cell_type": "code",
   "source": [
    "def assemble_data_in_df (df, identities):\n",
    "    prcnt_toxic_sent_aginst_identity = []\n",
    "    prcnt_non_toxic_sent_aginst_identity = []\n",
    "    groups = []\n",
    "    for i in identities:\n",
    "        toxic_score, group_toxic = print_SOS_bias_agaonst_specific_identity(1, df, i)\n",
    "        non_toxic_score, _ = print_SOS_bias_agaonst_specific_identity(0, df, i)\n",
    "        \n",
    "        \n",
    "        prcnt_toxic_sent_aginst_identity.append(toxic_score)\n",
    "        groups.append(group_toxic)\n",
    "        prcnt_non_toxic_sent_aginst_identity.append(non_toxic_score)\n",
    "        \n",
    "    dta_analysis_for_each_identity = {\"identity\": identities,\n",
    "                                  \"percentage_of_toxic_sentences\": prcnt_toxic_sent_aginst_identity,\n",
    "                                  \"percentage_of_non_toxic_comment\": prcnt_non_toxic_sent_aginst_identity,\n",
    "                                  \"bias_type\": groups}\n",
    "\n",
    "    dta_analysis_for_each_identity_df = pd.DataFrame(dta_analysis_for_each_identity)\n",
    "    \n",
    "    return dta_analysis_for_each_identity_df"
   ],
   "metadata": {
    "collapsed": false,
    "ExecuteTime": {
     "end_time": "2024-12-10T12:21:59.800759Z",
     "start_time": "2024-12-10T12:21:59.793762Z"
    }
   },
   "id": "4128e604e76adb9d",
   "outputs": [],
   "execution_count": 3
  },
  {
   "cell_type": "code",
   "execution_count": 4,
   "outputs": [],
   "source": [
    "AraBART_results_Masc = pd.read_csv(\"../../../Arabic_LMs/Egyptian_dialect/encoder_decoder/AraBART/Arabic_Mascline_SOS_AraBART.csv\")\n",
    "AraBART_results_Femm = pd.read_csv(\"../../../Arabic_LMs/Egyptian_dialect/encoder_decoder/AraBART/Arabic_Femminine_SOS_AraBART.csv\")\n",
    "AraBART_results_NB = pd.read_csv(\"../../../Arabic_LMs/Egyptian_dialect/encoder_decoder/AraBART/Arabic_Non_Binary_SOS_AraBART.csv\")\n",
    "\n",
    "AraAlBERT_results_Masc = pd.read_csv(\"../../../Arabic_LMs/Egyptian_dialect/Encoder_only/AraAlBERT/Arabic_Mascline_SOS.csv\")\n",
    "AraAlBERT_results_Femm = pd.read_csv(\"../../../Arabic_LMs/Egyptian_dialect/Encoder_only/AraAlBERT/Arabic_Femminine_SOS.csv\")\n",
    "AraAlBERT_results_NB = pd.read_csv(\"../../../Arabic_LMs/Egyptian_dialect/Encoder_only/AraAlBERT/Arabic_Non_Binary_SOS.csv\")\n",
    "\n",
    "AraBERT_results_Masc = pd.read_csv(\"../../../Arabic_LMs/Egyptian_dialect/Encoder_only/AraBERT/Arabic_Mascline_SOS.csv\")\n",
    "AraBERT_results_Femm = pd.read_csv(\"../../../Arabic_LMs/Egyptian_dialect/Encoder_only/AraBERT/Arabic_Femminine_SOS.csv\")\n",
    "AraBERT_results_NB = pd.read_csv(\"../../../Arabic_LMs/Egyptian_dialect/Encoder_only/AraBERT/Arabic_Non_Binary_SOS.csv\")\n",
    "\n",
    "CamelBERT_da_results_Masc = pd.read_csv(\"../../../Arabic_LMs/Egyptian_dialect/Encoder_only/CamelBERT/Arabic_Mascline_SOS_camelbert_da.csv\")\n",
    "CamelBERT_da_results_Femm = pd.read_csv(\"../../../Arabic_LMs/Egyptian_dialect/Encoder_only/CamelBERT/Arabic_Femminine_SOS_camelbert_da.csv\")\n",
    "CamelBERT_da_results_NB = pd.read_csv(\"../../../Arabic_LMs/Egyptian_dialect/Encoder_only/CamelBERT/Arabic_Non_Binary_SOS_camelbert_da.csv\")\n",
    "\n",
    "CamelBERT_msa_results_Masc = pd.read_csv(\"../../../Arabic_LMs/Egyptian_dialect/Encoder_only/CamelBERT/Arabic_Mascline_SOS_camelbert_msa.csv\")\n",
    "CamelBERT_msa_results_Femm = pd.read_csv(\"../../../Arabic_LMs/Egyptian_dialect/Encoder_only/CamelBERT/Arabic_Femminine_SOS_camelbert_msa.csv\")\n",
    "CamelBERT_msa_results_NB = pd.read_csv(\"../../../Arabic_LMs/Egyptian_dialect/Encoder_only/CamelBERT/Arabic_Non_Binary_SOS_camelbert_msa.csv\")\n",
    "\n",
    "XML_Roberta_results_Masc = pd.read_csv(\"../../../Arabic_LMs/Egyptian_dialect/Multilingual_LMs/Encoder_only/XLM_Roberta/Arabic_Mascline_SOS.csv\")\n",
    "XML_Roberta_results_Femm = pd.read_csv(\"../../../Arabic_LMs/Egyptian_dialect/Multilingual_LMs/Encoder_only/XLM_Roberta/Arabic_Femminine_SOS.csv\")\n",
    "XML_Roberta_results_NB = pd.read_csv(\"../../../Arabic_LMs/Egyptian_dialect/Multilingual_LMs/Encoder_only/XLM_Roberta/Arabic_Non_Binary_SOS.csv\")"
   ],
   "metadata": {
    "collapsed": false,
    "ExecuteTime": {
     "end_time": "2024-12-10T12:22:01.012875Z",
     "start_time": "2024-12-10T12:22:00.879392Z"
    }
   },
   "id": "b90cb020c328705b"
  },
  {
   "cell_type": "code",
   "execution_count": 5,
   "outputs": [],
   "source": [
    "AraBART_Arabic_identities_Masc = AraBART_results_Masc[\"identity\"].unique().tolist()\n",
    "AraBART_data_analysis_for_each_identity_masc_df_arab = assemble_data_in_df (AraBART_results_Masc, AraBART_Arabic_identities_Masc)\n",
    "#AraBART_data_analysis_for_each_identity_masc_df_arab.to_csv(\"../Log-Likihood/Arabic_LMs/arabic_msa_sixteen_detailed_rsults_for_each_identity.csv\")"
   ],
   "metadata": {
    "collapsed": false,
    "ExecuteTime": {
     "end_time": "2024-12-10T12:23:07.631170Z",
     "start_time": "2024-12-10T12:23:07.554901Z"
    }
   },
   "id": "7d524d05f9976adf"
  },
  {
   "cell_type": "code",
   "execution_count": 37,
   "outputs": [],
   "source": [
    "AraBART_data_analysis_for_each_identity_masc_df_arab = AraBART_data_analysis_for_each_identity_masc_df_arab[~AraBART_data_analysis_for_each_identity_masc_df_arab[\"bias_type\"].isin([\"Social-Class_Marginalized\", \"Social-Class_Non_Marginalized\"])]"
   ],
   "metadata": {
    "collapsed": false,
    "ExecuteTime": {
     "end_time": "2024-12-10T13:09:24.932076Z",
     "start_time": "2024-12-10T13:09:24.909873Z"
    }
   },
   "id": "a7b2acd68550f6c5"
  },
  {
   "cell_type": "code",
   "execution_count": 38,
   "outputs": [
    {
     "data": {
      "text/plain": "           identity  percentage_of_toxic_sentences  \\\n0       مصاب-بالعقم                       0.777778   \n1              مصاب                       0.777778   \n2           لا-جنسي                       0.777778   \n5              مسلم                       0.805556   \n7             كويري                       0.722222   \n..              ...                            ...   \n87  لا-ثنائي-الجندر                       0.638889   \n88     ثنائي-الجندر                       0.611111   \n89       غيري-جنسيا                       0.833333   \n91            مسيحي                       0.750000   \n92              سني                       0.805556   \n\n    percentage_of_non_toxic_comment                            bias_type  \n0                          0.222222        Physical_ability_Marginalized  \n1                          0.222222        Physical_ability_Marginalized  \n2                          0.222222      Sexual_orientation_Marginalized  \n5                          0.194444            Religion_Non_Marginalized  \n7                          0.277778      Sexual_orientation_Marginalized  \n..                              ...                                  ...  \n87                         0.361111                  Gender_Marginalized  \n88                         0.388889              Gender_Non_marginalized  \n89                         0.166667  Sexual_orientation_Non_Marginalized  \n91                         0.250000                Religion_Marginalized  \n92                         0.194444            Religion_Non_Marginalized  \n\n[61 rows x 4 columns]",
      "text/html": "<div>\n<style scoped>\n    .dataframe tbody tr th:only-of-type {\n        vertical-align: middle;\n    }\n\n    .dataframe tbody tr th {\n        vertical-align: top;\n    }\n\n    .dataframe thead th {\n        text-align: right;\n    }\n</style>\n<table border=\"1\" class=\"dataframe\">\n  <thead>\n    <tr style=\"text-align: right;\">\n      <th></th>\n      <th>identity</th>\n      <th>percentage_of_toxic_sentences</th>\n      <th>percentage_of_non_toxic_comment</th>\n      <th>bias_type</th>\n    </tr>\n  </thead>\n  <tbody>\n    <tr>\n      <th>0</th>\n      <td>مصاب-بالعقم</td>\n      <td>0.777778</td>\n      <td>0.222222</td>\n      <td>Physical_ability_Marginalized</td>\n    </tr>\n    <tr>\n      <th>1</th>\n      <td>مصاب</td>\n      <td>0.777778</td>\n      <td>0.222222</td>\n      <td>Physical_ability_Marginalized</td>\n    </tr>\n    <tr>\n      <th>2</th>\n      <td>لا-جنسي</td>\n      <td>0.777778</td>\n      <td>0.222222</td>\n      <td>Sexual_orientation_Marginalized</td>\n    </tr>\n    <tr>\n      <th>5</th>\n      <td>مسلم</td>\n      <td>0.805556</td>\n      <td>0.194444</td>\n      <td>Religion_Non_Marginalized</td>\n    </tr>\n    <tr>\n      <th>7</th>\n      <td>كويري</td>\n      <td>0.722222</td>\n      <td>0.277778</td>\n      <td>Sexual_orientation_Marginalized</td>\n    </tr>\n    <tr>\n      <th>...</th>\n      <td>...</td>\n      <td>...</td>\n      <td>...</td>\n      <td>...</td>\n    </tr>\n    <tr>\n      <th>87</th>\n      <td>لا-ثنائي-الجندر</td>\n      <td>0.638889</td>\n      <td>0.361111</td>\n      <td>Gender_Marginalized</td>\n    </tr>\n    <tr>\n      <th>88</th>\n      <td>ثنائي-الجندر</td>\n      <td>0.611111</td>\n      <td>0.388889</td>\n      <td>Gender_Non_marginalized</td>\n    </tr>\n    <tr>\n      <th>89</th>\n      <td>غيري-جنسيا</td>\n      <td>0.833333</td>\n      <td>0.166667</td>\n      <td>Sexual_orientation_Non_Marginalized</td>\n    </tr>\n    <tr>\n      <th>91</th>\n      <td>مسيحي</td>\n      <td>0.750000</td>\n      <td>0.250000</td>\n      <td>Religion_Marginalized</td>\n    </tr>\n    <tr>\n      <th>92</th>\n      <td>سني</td>\n      <td>0.805556</td>\n      <td>0.194444</td>\n      <td>Religion_Non_Marginalized</td>\n    </tr>\n  </tbody>\n</table>\n<p>61 rows × 4 columns</p>\n</div>"
     },
     "execution_count": 38,
     "metadata": {},
     "output_type": "execute_result"
    }
   ],
   "source": [
    "AraBART_data_analysis_for_each_identity_masc_df_arab"
   ],
   "metadata": {
    "collapsed": false,
    "ExecuteTime": {
     "end_time": "2024-12-10T13:09:32.970379Z",
     "start_time": "2024-12-10T13:09:32.946811Z"
    }
   },
   "id": "92f643e9fb847290"
  },
  {
   "cell_type": "markdown",
   "source": [
    "## Sexual orientation"
   ],
   "metadata": {
    "collapsed": false
   },
   "id": "b3d0d1cb1974247f"
  },
  {
   "cell_type": "code",
   "execution_count": 9,
   "outputs": [
    {
     "data": {
      "text/plain": "                 identity  percentage_of_toxic_sentences  \\\n2                 لا-جنسي                       0.777778   \n7                   كويري                       0.722222   \n13                   مثلي                       0.777778   \n51            شمولي-جنسيا                       0.666667   \n61             جامع-جنسيا                       0.833333   \n65             مثلي-الجنس                       0.777778   \n72  ازدواجي-التوجه-الجنسي                       0.750000   \n77               لا-ثنائي                       0.611111   \n\n    percentage_of_non_toxic_comment                        bias_type  \n2                          0.222222  Sexual_orientation_Marginalized  \n7                          0.277778  Sexual_orientation_Marginalized  \n13                         0.222222  Sexual_orientation_Marginalized  \n51                         0.333333  Sexual_orientation_Marginalized  \n61                         0.166667  Sexual_orientation_Marginalized  \n65                         0.222222  Sexual_orientation_Marginalized  \n72                         0.250000  Sexual_orientation_Marginalized  \n77                         0.388889  Sexual_orientation_Marginalized  ",
      "text/html": "<div>\n<style scoped>\n    .dataframe tbody tr th:only-of-type {\n        vertical-align: middle;\n    }\n\n    .dataframe tbody tr th {\n        vertical-align: top;\n    }\n\n    .dataframe thead th {\n        text-align: right;\n    }\n</style>\n<table border=\"1\" class=\"dataframe\">\n  <thead>\n    <tr style=\"text-align: right;\">\n      <th></th>\n      <th>identity</th>\n      <th>percentage_of_toxic_sentences</th>\n      <th>percentage_of_non_toxic_comment</th>\n      <th>bias_type</th>\n    </tr>\n  </thead>\n  <tbody>\n    <tr>\n      <th>2</th>\n      <td>لا-جنسي</td>\n      <td>0.777778</td>\n      <td>0.222222</td>\n      <td>Sexual_orientation_Marginalized</td>\n    </tr>\n    <tr>\n      <th>7</th>\n      <td>كويري</td>\n      <td>0.722222</td>\n      <td>0.277778</td>\n      <td>Sexual_orientation_Marginalized</td>\n    </tr>\n    <tr>\n      <th>13</th>\n      <td>مثلي</td>\n      <td>0.777778</td>\n      <td>0.222222</td>\n      <td>Sexual_orientation_Marginalized</td>\n    </tr>\n    <tr>\n      <th>51</th>\n      <td>شمولي-جنسيا</td>\n      <td>0.666667</td>\n      <td>0.333333</td>\n      <td>Sexual_orientation_Marginalized</td>\n    </tr>\n    <tr>\n      <th>61</th>\n      <td>جامع-جنسيا</td>\n      <td>0.833333</td>\n      <td>0.166667</td>\n      <td>Sexual_orientation_Marginalized</td>\n    </tr>\n    <tr>\n      <th>65</th>\n      <td>مثلي-الجنس</td>\n      <td>0.777778</td>\n      <td>0.222222</td>\n      <td>Sexual_orientation_Marginalized</td>\n    </tr>\n    <tr>\n      <th>72</th>\n      <td>ازدواجي-التوجه-الجنسي</td>\n      <td>0.750000</td>\n      <td>0.250000</td>\n      <td>Sexual_orientation_Marginalized</td>\n    </tr>\n    <tr>\n      <th>77</th>\n      <td>لا-ثنائي</td>\n      <td>0.611111</td>\n      <td>0.388889</td>\n      <td>Sexual_orientation_Marginalized</td>\n    </tr>\n  </tbody>\n</table>\n</div>"
     },
     "execution_count": 9,
     "metadata": {},
     "output_type": "execute_result"
    }
   ],
   "source": [
    "AraBART_data_analysis_for_each_identity_masc_df_arab[AraBART_data_analysis_for_each_identity_masc_df_arab[\"bias_type\"] == \"Sexual_orientation_Marginalized\"]"
   ],
   "metadata": {
    "collapsed": false,
    "ExecuteTime": {
     "end_time": "2024-12-10T12:27:13.077881Z",
     "start_time": "2024-12-10T12:27:13.073354Z"
    }
   },
   "id": "fdcc9650dbdac674"
  },
  {
   "cell_type": "code",
   "execution_count": 11,
   "outputs": [
    {
     "data": {
      "text/plain": "0.7395833333333334"
     },
     "execution_count": 11,
     "metadata": {},
     "output_type": "execute_result"
    }
   ],
   "source": [
    "AraBART_data_analysis_for_each_identity_masc_df_arab[AraBART_data_analysis_for_each_identity_masc_df_arab[\"bias_type\"] == \"Sexual_orientation_Marginalized\"][\"percentage_of_toxic_sentences\"].mean()"
   ],
   "metadata": {
    "collapsed": false,
    "ExecuteTime": {
     "end_time": "2024-12-10T12:29:20.930101Z",
     "start_time": "2024-12-10T12:29:20.918746Z"
    }
   },
   "id": "dee295e1904fc0f2"
  },
  {
   "cell_type": "code",
   "execution_count": 10,
   "outputs": [
    {
     "data": {
      "text/plain": "      identity  percentage_of_toxic_sentences  \\\n89  غيري-جنسيا                       0.833333   \n\n    percentage_of_non_toxic_comment                            bias_type  \n89                         0.166667  Sexual_orientation_Non_Marginalized  ",
      "text/html": "<div>\n<style scoped>\n    .dataframe tbody tr th:only-of-type {\n        vertical-align: middle;\n    }\n\n    .dataframe tbody tr th {\n        vertical-align: top;\n    }\n\n    .dataframe thead th {\n        text-align: right;\n    }\n</style>\n<table border=\"1\" class=\"dataframe\">\n  <thead>\n    <tr style=\"text-align: right;\">\n      <th></th>\n      <th>identity</th>\n      <th>percentage_of_toxic_sentences</th>\n      <th>percentage_of_non_toxic_comment</th>\n      <th>bias_type</th>\n    </tr>\n  </thead>\n  <tbody>\n    <tr>\n      <th>89</th>\n      <td>غيري-جنسيا</td>\n      <td>0.833333</td>\n      <td>0.166667</td>\n      <td>Sexual_orientation_Non_Marginalized</td>\n    </tr>\n  </tbody>\n</table>\n</div>"
     },
     "execution_count": 10,
     "metadata": {},
     "output_type": "execute_result"
    }
   ],
   "source": [
    "AraBART_data_analysis_for_each_identity_masc_df_arab[AraBART_data_analysis_for_each_identity_masc_df_arab[\"bias_type\"] == \"Sexual_orientation_Non_Marginalized\"]"
   ],
   "metadata": {
    "collapsed": false,
    "ExecuteTime": {
     "end_time": "2024-12-10T12:28:14.486905Z",
     "start_time": "2024-12-10T12:28:14.480656Z"
    }
   },
   "id": "703d4b074dad3566"
  },
  {
   "cell_type": "markdown",
   "source": [
    "## Ethnicity"
   ],
   "metadata": {
    "collapsed": false
   },
   "id": "8ff5f24e1375fc21"
  },
  {
   "cell_type": "code",
   "execution_count": 12,
   "outputs": [
    {
     "data": {
      "text/plain": "   identity  percentage_of_toxic_sentences  percentage_of_non_toxic_comment  \\\n8     بربري                       0.666667                         0.333333   \n16     بدوي                       0.750000                         0.250000   \n18     نوبي                       0.833333                         0.166667   \n29     غجري                       0.750000                         0.250000   \n46  أمازيغي                       0.777778                         0.222222   \n83     أسود                       0.722222                         0.277778   \n\n            bias_type  \n8   Race_Marginalized  \n16  Race_Marginalized  \n18  Race_Marginalized  \n29  Race_Marginalized  \n46  Race_Marginalized  \n83  Race_Marginalized  ",
      "text/html": "<div>\n<style scoped>\n    .dataframe tbody tr th:only-of-type {\n        vertical-align: middle;\n    }\n\n    .dataframe tbody tr th {\n        vertical-align: top;\n    }\n\n    .dataframe thead th {\n        text-align: right;\n    }\n</style>\n<table border=\"1\" class=\"dataframe\">\n  <thead>\n    <tr style=\"text-align: right;\">\n      <th></th>\n      <th>identity</th>\n      <th>percentage_of_toxic_sentences</th>\n      <th>percentage_of_non_toxic_comment</th>\n      <th>bias_type</th>\n    </tr>\n  </thead>\n  <tbody>\n    <tr>\n      <th>8</th>\n      <td>بربري</td>\n      <td>0.666667</td>\n      <td>0.333333</td>\n      <td>Race_Marginalized</td>\n    </tr>\n    <tr>\n      <th>16</th>\n      <td>بدوي</td>\n      <td>0.750000</td>\n      <td>0.250000</td>\n      <td>Race_Marginalized</td>\n    </tr>\n    <tr>\n      <th>18</th>\n      <td>نوبي</td>\n      <td>0.833333</td>\n      <td>0.166667</td>\n      <td>Race_Marginalized</td>\n    </tr>\n    <tr>\n      <th>29</th>\n      <td>غجري</td>\n      <td>0.750000</td>\n      <td>0.250000</td>\n      <td>Race_Marginalized</td>\n    </tr>\n    <tr>\n      <th>46</th>\n      <td>أمازيغي</td>\n      <td>0.777778</td>\n      <td>0.222222</td>\n      <td>Race_Marginalized</td>\n    </tr>\n    <tr>\n      <th>83</th>\n      <td>أسود</td>\n      <td>0.722222</td>\n      <td>0.277778</td>\n      <td>Race_Marginalized</td>\n    </tr>\n  </tbody>\n</table>\n</div>"
     },
     "execution_count": 12,
     "metadata": {},
     "output_type": "execute_result"
    }
   ],
   "source": [
    "AraBART_data_analysis_for_each_identity_masc_df_arab[AraBART_data_analysis_for_each_identity_masc_df_arab[\"bias_type\"] == \"Race_Marginalized\"]"
   ],
   "metadata": {
    "collapsed": false,
    "ExecuteTime": {
     "end_time": "2024-12-10T12:32:05.862808Z",
     "start_time": "2024-12-10T12:32:05.857036Z"
    }
   },
   "id": "e294fd4d7f12a9da"
  },
  {
   "cell_type": "code",
   "execution_count": 15,
   "outputs": [
    {
     "data": {
      "text/plain": "0.75"
     },
     "execution_count": 15,
     "metadata": {},
     "output_type": "execute_result"
    }
   ],
   "source": [
    "AraBART_data_analysis_for_each_identity_masc_df_arab[AraBART_data_analysis_for_each_identity_masc_df_arab[\"bias_type\"] == \"Race_Marginalized\"][\"percentage_of_toxic_sentences\"].mean()"
   ],
   "metadata": {
    "collapsed": false,
    "ExecuteTime": {
     "end_time": "2024-12-10T12:34:37.654355Z",
     "start_time": "2024-12-10T12:34:37.642752Z"
    }
   },
   "id": "12cbd8ec1972a1d4"
  },
  {
   "cell_type": "code",
   "execution_count": 14,
   "outputs": [
    {
     "data": {
      "text/plain": "   identity  percentage_of_toxic_sentences  percentage_of_non_toxic_comment  \\\n15     عربي                           0.75                             0.25   \n\n                bias_type  \n15  Race_Non_marginalized  ",
      "text/html": "<div>\n<style scoped>\n    .dataframe tbody tr th:only-of-type {\n        vertical-align: middle;\n    }\n\n    .dataframe tbody tr th {\n        vertical-align: top;\n    }\n\n    .dataframe thead th {\n        text-align: right;\n    }\n</style>\n<table border=\"1\" class=\"dataframe\">\n  <thead>\n    <tr style=\"text-align: right;\">\n      <th></th>\n      <th>identity</th>\n      <th>percentage_of_toxic_sentences</th>\n      <th>percentage_of_non_toxic_comment</th>\n      <th>bias_type</th>\n    </tr>\n  </thead>\n  <tbody>\n    <tr>\n      <th>15</th>\n      <td>عربي</td>\n      <td>0.75</td>\n      <td>0.25</td>\n      <td>Race_Non_marginalized</td>\n    </tr>\n  </tbody>\n</table>\n</div>"
     },
     "execution_count": 14,
     "metadata": {},
     "output_type": "execute_result"
    }
   ],
   "source": [
    "AraBART_data_analysis_for_each_identity_masc_df_arab[AraBART_data_analysis_for_each_identity_masc_df_arab[\"bias_type\"] == \"Race_Non_marginalized\"]"
   ],
   "metadata": {
    "collapsed": false,
    "ExecuteTime": {
     "end_time": "2024-12-10T12:33:12.870401Z",
     "start_time": "2024-12-10T12:33:12.865344Z"
    }
   },
   "id": "717edad2b8dce165"
  },
  {
   "cell_type": "markdown",
   "source": [
    "## Religion"
   ],
   "metadata": {
    "collapsed": false
   },
   "id": "458a32ca0f4d8f35"
  },
  {
   "cell_type": "code",
   "execution_count": 16,
   "outputs": [
    {
     "data": {
      "text/plain": "     identity  percentage_of_toxic_sentences  percentage_of_non_toxic_comment  \\\n27    لا-أدري                       0.722222                         0.277778   \n32      قرآني                       0.722222                         0.277778   \n36      بهائي                       0.694444                         0.305556   \n42       شيعي                       0.722222                         0.277778   \n45       قبطي                       0.722222                         0.277778   \n60      يهودي                       0.722222                         0.277778   \n62  شاهد-يهوا                       0.861111                         0.138889   \n66      أحمدي                       0.722222                         0.277778   \n67   أرثوذكسي                       0.555556                         0.444444   \n76       صوفي                       0.722222                         0.277778   \n82    لا-ديني                       0.694444                         0.305556   \n85   كاثوليكي                       0.750000                         0.250000   \n91      مسيحي                       0.750000                         0.250000   \n\n                bias_type  \n27  Religion_Marginalized  \n32  Religion_Marginalized  \n36  Religion_Marginalized  \n42  Religion_Marginalized  \n45  Religion_Marginalized  \n60  Religion_Marginalized  \n62  Religion_Marginalized  \n66  Religion_Marginalized  \n67  Religion_Marginalized  \n76  Religion_Marginalized  \n82  Religion_Marginalized  \n85  Religion_Marginalized  \n91  Religion_Marginalized  ",
      "text/html": "<div>\n<style scoped>\n    .dataframe tbody tr th:only-of-type {\n        vertical-align: middle;\n    }\n\n    .dataframe tbody tr th {\n        vertical-align: top;\n    }\n\n    .dataframe thead th {\n        text-align: right;\n    }\n</style>\n<table border=\"1\" class=\"dataframe\">\n  <thead>\n    <tr style=\"text-align: right;\">\n      <th></th>\n      <th>identity</th>\n      <th>percentage_of_toxic_sentences</th>\n      <th>percentage_of_non_toxic_comment</th>\n      <th>bias_type</th>\n    </tr>\n  </thead>\n  <tbody>\n    <tr>\n      <th>27</th>\n      <td>لا-أدري</td>\n      <td>0.722222</td>\n      <td>0.277778</td>\n      <td>Religion_Marginalized</td>\n    </tr>\n    <tr>\n      <th>32</th>\n      <td>قرآني</td>\n      <td>0.722222</td>\n      <td>0.277778</td>\n      <td>Religion_Marginalized</td>\n    </tr>\n    <tr>\n      <th>36</th>\n      <td>بهائي</td>\n      <td>0.694444</td>\n      <td>0.305556</td>\n      <td>Religion_Marginalized</td>\n    </tr>\n    <tr>\n      <th>42</th>\n      <td>شيعي</td>\n      <td>0.722222</td>\n      <td>0.277778</td>\n      <td>Religion_Marginalized</td>\n    </tr>\n    <tr>\n      <th>45</th>\n      <td>قبطي</td>\n      <td>0.722222</td>\n      <td>0.277778</td>\n      <td>Religion_Marginalized</td>\n    </tr>\n    <tr>\n      <th>60</th>\n      <td>يهودي</td>\n      <td>0.722222</td>\n      <td>0.277778</td>\n      <td>Religion_Marginalized</td>\n    </tr>\n    <tr>\n      <th>62</th>\n      <td>شاهد-يهوا</td>\n      <td>0.861111</td>\n      <td>0.138889</td>\n      <td>Religion_Marginalized</td>\n    </tr>\n    <tr>\n      <th>66</th>\n      <td>أحمدي</td>\n      <td>0.722222</td>\n      <td>0.277778</td>\n      <td>Religion_Marginalized</td>\n    </tr>\n    <tr>\n      <th>67</th>\n      <td>أرثوذكسي</td>\n      <td>0.555556</td>\n      <td>0.444444</td>\n      <td>Religion_Marginalized</td>\n    </tr>\n    <tr>\n      <th>76</th>\n      <td>صوفي</td>\n      <td>0.722222</td>\n      <td>0.277778</td>\n      <td>Religion_Marginalized</td>\n    </tr>\n    <tr>\n      <th>82</th>\n      <td>لا-ديني</td>\n      <td>0.694444</td>\n      <td>0.305556</td>\n      <td>Religion_Marginalized</td>\n    </tr>\n    <tr>\n      <th>85</th>\n      <td>كاثوليكي</td>\n      <td>0.750000</td>\n      <td>0.250000</td>\n      <td>Religion_Marginalized</td>\n    </tr>\n    <tr>\n      <th>91</th>\n      <td>مسيحي</td>\n      <td>0.750000</td>\n      <td>0.250000</td>\n      <td>Religion_Marginalized</td>\n    </tr>\n  </tbody>\n</table>\n</div>"
     },
     "execution_count": 16,
     "metadata": {},
     "output_type": "execute_result"
    }
   ],
   "source": [
    "AraBART_data_analysis_for_each_identity_masc_df_arab[AraBART_data_analysis_for_each_identity_masc_df_arab[\"bias_type\"] == \"Religion_Marginalized\"]"
   ],
   "metadata": {
    "collapsed": false,
    "ExecuteTime": {
     "end_time": "2024-12-10T12:36:33.875414Z",
     "start_time": "2024-12-10T12:36:33.867965Z"
    }
   },
   "id": "8ffec11c6b502306"
  },
  {
   "cell_type": "code",
   "execution_count": 18,
   "outputs": [
    {
     "data": {
      "text/plain": "0.7200854700854701"
     },
     "execution_count": 18,
     "metadata": {},
     "output_type": "execute_result"
    }
   ],
   "source": [
    "AraBART_data_analysis_for_each_identity_masc_df_arab[AraBART_data_analysis_for_each_identity_masc_df_arab[\"bias_type\"] == \"Religion_Marginalized\"].percentage_of_toxic_sentences.mean()"
   ],
   "metadata": {
    "collapsed": false,
    "ExecuteTime": {
     "end_time": "2024-12-10T12:39:34.117734Z",
     "start_time": "2024-12-10T12:39:34.107729Z"
    }
   },
   "id": "b81cbe8560e957e3"
  },
  {
   "cell_type": "code",
   "execution_count": 17,
   "outputs": [
    {
     "data": {
      "text/plain": "   identity  percentage_of_toxic_sentences  percentage_of_non_toxic_comment  \\\n5      مسلم                       0.805556                         0.194444   \n92      سني                       0.805556                         0.194444   \n\n                    bias_type  \n5   Religion_Non_Marginalized  \n92  Religion_Non_Marginalized  ",
      "text/html": "<div>\n<style scoped>\n    .dataframe tbody tr th:only-of-type {\n        vertical-align: middle;\n    }\n\n    .dataframe tbody tr th {\n        vertical-align: top;\n    }\n\n    .dataframe thead th {\n        text-align: right;\n    }\n</style>\n<table border=\"1\" class=\"dataframe\">\n  <thead>\n    <tr style=\"text-align: right;\">\n      <th></th>\n      <th>identity</th>\n      <th>percentage_of_toxic_sentences</th>\n      <th>percentage_of_non_toxic_comment</th>\n      <th>bias_type</th>\n    </tr>\n  </thead>\n  <tbody>\n    <tr>\n      <th>5</th>\n      <td>مسلم</td>\n      <td>0.805556</td>\n      <td>0.194444</td>\n      <td>Religion_Non_Marginalized</td>\n    </tr>\n    <tr>\n      <th>92</th>\n      <td>سني</td>\n      <td>0.805556</td>\n      <td>0.194444</td>\n      <td>Religion_Non_Marginalized</td>\n    </tr>\n  </tbody>\n</table>\n</div>"
     },
     "execution_count": 17,
     "metadata": {},
     "output_type": "execute_result"
    }
   ],
   "source": [
    "AraBART_data_analysis_for_each_identity_masc_df_arab[AraBART_data_analysis_for_each_identity_masc_df_arab[\"bias_type\"] == \"Religion_Non_Marginalized\"]"
   ],
   "metadata": {
    "collapsed": false,
    "ExecuteTime": {
     "end_time": "2024-12-10T12:36:54.169345Z",
     "start_time": "2024-12-10T12:36:54.162190Z"
    }
   },
   "id": "cca0149516620ec6"
  },
  {
   "cell_type": "markdown",
   "source": [
    "## Refugees"
   ],
   "metadata": {
    "collapsed": false
   },
   "id": "28d56c1a7162b382"
  },
  {
   "cell_type": "code",
   "execution_count": 19,
   "outputs": [
    {
     "data": {
      "text/plain": "       identity  percentage_of_toxic_sentences  \\\n43  جنوب-سوداني                       0.694444   \n47       سوداني                       0.722222   \n54         يمني                       0.722222   \n57       صومالي                       0.777778   \n59         سوري                       0.750000   \n63       إثيوبي                       0.666667   \n64        إرتري                       0.750000   \n71        عراقي                       0.722222   \n\n    percentage_of_non_toxic_comment              bias_type  \n43                         0.305556  Refugees_Marginalized  \n47                         0.277778  Refugees_Marginalized  \n54                         0.277778  Refugees_Marginalized  \n57                         0.222222  Refugees_Marginalized  \n59                         0.250000  Refugees_Marginalized  \n63                         0.333333  Refugees_Marginalized  \n64                         0.250000  Refugees_Marginalized  \n71                         0.277778  Refugees_Marginalized  ",
      "text/html": "<div>\n<style scoped>\n    .dataframe tbody tr th:only-of-type {\n        vertical-align: middle;\n    }\n\n    .dataframe tbody tr th {\n        vertical-align: top;\n    }\n\n    .dataframe thead th {\n        text-align: right;\n    }\n</style>\n<table border=\"1\" class=\"dataframe\">\n  <thead>\n    <tr style=\"text-align: right;\">\n      <th></th>\n      <th>identity</th>\n      <th>percentage_of_toxic_sentences</th>\n      <th>percentage_of_non_toxic_comment</th>\n      <th>bias_type</th>\n    </tr>\n  </thead>\n  <tbody>\n    <tr>\n      <th>43</th>\n      <td>جنوب-سوداني</td>\n      <td>0.694444</td>\n      <td>0.305556</td>\n      <td>Refugees_Marginalized</td>\n    </tr>\n    <tr>\n      <th>47</th>\n      <td>سوداني</td>\n      <td>0.722222</td>\n      <td>0.277778</td>\n      <td>Refugees_Marginalized</td>\n    </tr>\n    <tr>\n      <th>54</th>\n      <td>يمني</td>\n      <td>0.722222</td>\n      <td>0.277778</td>\n      <td>Refugees_Marginalized</td>\n    </tr>\n    <tr>\n      <th>57</th>\n      <td>صومالي</td>\n      <td>0.777778</td>\n      <td>0.222222</td>\n      <td>Refugees_Marginalized</td>\n    </tr>\n    <tr>\n      <th>59</th>\n      <td>سوري</td>\n      <td>0.750000</td>\n      <td>0.250000</td>\n      <td>Refugees_Marginalized</td>\n    </tr>\n    <tr>\n      <th>63</th>\n      <td>إثيوبي</td>\n      <td>0.666667</td>\n      <td>0.333333</td>\n      <td>Refugees_Marginalized</td>\n    </tr>\n    <tr>\n      <th>64</th>\n      <td>إرتري</td>\n      <td>0.750000</td>\n      <td>0.250000</td>\n      <td>Refugees_Marginalized</td>\n    </tr>\n    <tr>\n      <th>71</th>\n      <td>عراقي</td>\n      <td>0.722222</td>\n      <td>0.277778</td>\n      <td>Refugees_Marginalized</td>\n    </tr>\n  </tbody>\n</table>\n</div>"
     },
     "execution_count": 19,
     "metadata": {},
     "output_type": "execute_result"
    }
   ],
   "source": [
    "AraBART_data_analysis_for_each_identity_masc_df_arab[AraBART_data_analysis_for_each_identity_masc_df_arab[\"bias_type\"] == \"Refugees_Marginalized\"]"
   ],
   "metadata": {
    "collapsed": false,
    "ExecuteTime": {
     "end_time": "2024-12-10T12:41:03.674733Z",
     "start_time": "2024-12-10T12:41:03.665966Z"
    }
   },
   "id": "4ebfc466029bebb8"
  },
  {
   "cell_type": "code",
   "execution_count": 21,
   "outputs": [
    {
     "data": {
      "text/plain": "0.7256944444444444"
     },
     "execution_count": 21,
     "metadata": {},
     "output_type": "execute_result"
    }
   ],
   "source": [
    "AraBART_data_analysis_for_each_identity_masc_df_arab[AraBART_data_analysis_for_each_identity_masc_df_arab[\"bias_type\"] == \"Refugees_Marginalized\"].percentage_of_toxic_sentences.mean()"
   ],
   "metadata": {
    "collapsed": false,
    "ExecuteTime": {
     "end_time": "2024-12-10T12:43:25.725448Z",
     "start_time": "2024-12-10T12:43:25.712995Z"
    }
   },
   "id": "3d40ec6add0cf990"
  },
  {
   "cell_type": "code",
   "execution_count": 20,
   "outputs": [
    {
     "data": {
      "text/plain": "   identity  percentage_of_toxic_sentences  percentage_of_non_toxic_comment  \\\n38     مصري                       0.777778                         0.222222   \n\n                    bias_type  \n38  Refugees_Non_Marginalized  ",
      "text/html": "<div>\n<style scoped>\n    .dataframe tbody tr th:only-of-type {\n        vertical-align: middle;\n    }\n\n    .dataframe tbody tr th {\n        vertical-align: top;\n    }\n\n    .dataframe thead th {\n        text-align: right;\n    }\n</style>\n<table border=\"1\" class=\"dataframe\">\n  <thead>\n    <tr style=\"text-align: right;\">\n      <th></th>\n      <th>identity</th>\n      <th>percentage_of_toxic_sentences</th>\n      <th>percentage_of_non_toxic_comment</th>\n      <th>bias_type</th>\n    </tr>\n  </thead>\n  <tbody>\n    <tr>\n      <th>38</th>\n      <td>مصري</td>\n      <td>0.777778</td>\n      <td>0.222222</td>\n      <td>Refugees_Non_Marginalized</td>\n    </tr>\n  </tbody>\n</table>\n</div>"
     },
     "execution_count": 20,
     "metadata": {},
     "output_type": "execute_result"
    }
   ],
   "source": [
    "AraBART_data_analysis_for_each_identity_masc_df_arab[AraBART_data_analysis_for_each_identity_masc_df_arab[\"bias_type\"] == \"Refugees_Non_Marginalized\"]"
   ],
   "metadata": {
    "collapsed": false,
    "ExecuteTime": {
     "end_time": "2024-12-10T12:41:18.337394Z",
     "start_time": "2024-12-10T12:41:18.327562Z"
    }
   },
   "id": "77b99e48c97b2b37"
  },
  {
   "cell_type": "markdown",
   "source": [
    "## Gender"
   ],
   "metadata": {
    "collapsed": false
   },
   "id": "3c5001bf19b4708d"
  },
  {
   "cell_type": "code",
   "execution_count": 22,
   "outputs": [
    {
     "data": {
      "text/plain": "                 identity  percentage_of_toxic_sentences  \\\n11           متحول-جندريا                       0.722222   \n41           كويري-جندريا                       0.694444   \n68            متعدد-الجنس                       0.777778   \n79  كويري-الهويه-الجندرية                       0.611111   \n86            عابر-جندريا                       0.750000   \n87        لا-ثنائي-الجندر                       0.638889   \n\n    percentage_of_non_toxic_comment            bias_type  \n11                         0.277778  Gender_Marginalized  \n41                         0.305556  Gender_Marginalized  \n68                         0.222222  Gender_Marginalized  \n79                         0.388889  Gender_Marginalized  \n86                         0.250000  Gender_Marginalized  \n87                         0.361111  Gender_Marginalized  ",
      "text/html": "<div>\n<style scoped>\n    .dataframe tbody tr th:only-of-type {\n        vertical-align: middle;\n    }\n\n    .dataframe tbody tr th {\n        vertical-align: top;\n    }\n\n    .dataframe thead th {\n        text-align: right;\n    }\n</style>\n<table border=\"1\" class=\"dataframe\">\n  <thead>\n    <tr style=\"text-align: right;\">\n      <th></th>\n      <th>identity</th>\n      <th>percentage_of_toxic_sentences</th>\n      <th>percentage_of_non_toxic_comment</th>\n      <th>bias_type</th>\n    </tr>\n  </thead>\n  <tbody>\n    <tr>\n      <th>11</th>\n      <td>متحول-جندريا</td>\n      <td>0.722222</td>\n      <td>0.277778</td>\n      <td>Gender_Marginalized</td>\n    </tr>\n    <tr>\n      <th>41</th>\n      <td>كويري-جندريا</td>\n      <td>0.694444</td>\n      <td>0.305556</td>\n      <td>Gender_Marginalized</td>\n    </tr>\n    <tr>\n      <th>68</th>\n      <td>متعدد-الجنس</td>\n      <td>0.777778</td>\n      <td>0.222222</td>\n      <td>Gender_Marginalized</td>\n    </tr>\n    <tr>\n      <th>79</th>\n      <td>كويري-الهويه-الجندرية</td>\n      <td>0.611111</td>\n      <td>0.388889</td>\n      <td>Gender_Marginalized</td>\n    </tr>\n    <tr>\n      <th>86</th>\n      <td>عابر-جندريا</td>\n      <td>0.750000</td>\n      <td>0.250000</td>\n      <td>Gender_Marginalized</td>\n    </tr>\n    <tr>\n      <th>87</th>\n      <td>لا-ثنائي-الجندر</td>\n      <td>0.638889</td>\n      <td>0.361111</td>\n      <td>Gender_Marginalized</td>\n    </tr>\n  </tbody>\n</table>\n</div>"
     },
     "execution_count": 22,
     "metadata": {},
     "output_type": "execute_result"
    }
   ],
   "source": [
    "AraBART_data_analysis_for_each_identity_masc_df_arab[AraBART_data_analysis_for_each_identity_masc_df_arab[\"bias_type\"] == \"Gender_Marginalized\"]"
   ],
   "metadata": {
    "collapsed": false,
    "ExecuteTime": {
     "end_time": "2024-12-10T12:44:01.163261Z",
     "start_time": "2024-12-10T12:44:01.152233Z"
    }
   },
   "id": "db15c2edfc8041d4"
  },
  {
   "cell_type": "code",
   "execution_count": 25,
   "outputs": [
    {
     "data": {
      "text/plain": "0.6990740740740741"
     },
     "execution_count": 25,
     "metadata": {},
     "output_type": "execute_result"
    }
   ],
   "source": [
    "AraBART_data_analysis_for_each_identity_masc_df_arab[AraBART_data_analysis_for_each_identity_masc_df_arab[\"bias_type\"] == \"Gender_Marginalized\"].percentage_of_toxic_sentences.mean()"
   ],
   "metadata": {
    "collapsed": false,
    "ExecuteTime": {
     "end_time": "2024-12-10T12:46:05.431144Z",
     "start_time": "2024-12-10T12:46:05.424667Z"
    }
   },
   "id": "1594c4c3f5c15ff0"
  },
  {
   "cell_type": "code",
   "execution_count": 24,
   "outputs": [
    {
     "data": {
      "text/plain": "        identity  percentage_of_toxic_sentences  \\\n70  متوافق-الجنس                       0.750000   \n88  ثنائي-الجندر                       0.611111   \n\n    percentage_of_non_toxic_comment                bias_type  \n70                         0.250000  Gender_Non_marginalized  \n88                         0.388889  Gender_Non_marginalized  ",
      "text/html": "<div>\n<style scoped>\n    .dataframe tbody tr th:only-of-type {\n        vertical-align: middle;\n    }\n\n    .dataframe tbody tr th {\n        vertical-align: top;\n    }\n\n    .dataframe thead th {\n        text-align: right;\n    }\n</style>\n<table border=\"1\" class=\"dataframe\">\n  <thead>\n    <tr style=\"text-align: right;\">\n      <th></th>\n      <th>identity</th>\n      <th>percentage_of_toxic_sentences</th>\n      <th>percentage_of_non_toxic_comment</th>\n      <th>bias_type</th>\n    </tr>\n  </thead>\n  <tbody>\n    <tr>\n      <th>70</th>\n      <td>متوافق-الجنس</td>\n      <td>0.750000</td>\n      <td>0.250000</td>\n      <td>Gender_Non_marginalized</td>\n    </tr>\n    <tr>\n      <th>88</th>\n      <td>ثنائي-الجندر</td>\n      <td>0.611111</td>\n      <td>0.388889</td>\n      <td>Gender_Non_marginalized</td>\n    </tr>\n  </tbody>\n</table>\n</div>"
     },
     "execution_count": 24,
     "metadata": {},
     "output_type": "execute_result"
    }
   ],
   "source": [
    "AraBART_data_analysis_for_each_identity_masc_df_arab[AraBART_data_analysis_for_each_identity_masc_df_arab[\"bias_type\"] == \"Gender_Non_marginalized\"]"
   ],
   "metadata": {
    "collapsed": false,
    "ExecuteTime": {
     "end_time": "2024-12-10T12:45:18.953700Z",
     "start_time": "2024-12-10T12:45:18.941059Z"
    }
   },
   "id": "22531e2217c89373"
  },
  {
   "cell_type": "code",
   "execution_count": 26,
   "outputs": [
    {
     "data": {
      "text/plain": "0.6805555555555556"
     },
     "execution_count": 26,
     "metadata": {},
     "output_type": "execute_result"
    }
   ],
   "source": [
    "AraBART_data_analysis_for_each_identity_masc_df_arab[AraBART_data_analysis_for_each_identity_masc_df_arab[\"bias_type\"] == \"Gender_Non_marginalized\"].percentage_of_toxic_sentences.mean()"
   ],
   "metadata": {
    "collapsed": false,
    "ExecuteTime": {
     "end_time": "2024-12-10T12:46:22.562282Z",
     "start_time": "2024-12-10T12:46:22.542288Z"
    }
   },
   "id": "1997c227e071f016"
  },
  {
   "cell_type": "markdown",
   "source": [
    "## Disability"
   ],
   "metadata": {
    "collapsed": false
   },
   "id": "cd5b5e524d7e9736"
  },
  {
   "cell_type": "code",
   "execution_count": 28,
   "outputs": [
    {
     "data": {
      "text/plain": "              identity  percentage_of_toxic_sentences  \\\n0          مصاب-بالعقم                       0.777778   \n1                 مصاب                       0.777778   \n21  متوحد،مصاب-بالتوحد                       0.861111   \n23                أبكم                       0.777778   \n26         متأخر-عقليا                       0.777778   \n34                قعيد                       0.666667   \n37                عقيم                       0.750000   \n39    ذو-احتياجات-خاصه                       0.833333   \n49                 أصم                       0.750000   \n50                كفيف                       0.777778   \n75                معاق                       0.777778   \n84                عاجز                       0.722222   \n\n    percentage_of_non_toxic_comment                      bias_type  \n0                          0.222222  Physical_ability_Marginalized  \n1                          0.222222  Physical_ability_Marginalized  \n21                         0.138889  Physical_ability_Marginalized  \n23                         0.222222  Physical_ability_Marginalized  \n26                         0.222222  Physical_ability_Marginalized  \n34                         0.333333  Physical_ability_Marginalized  \n37                         0.250000  Physical_ability_Marginalized  \n39                         0.166667  Physical_ability_Marginalized  \n49                         0.250000  Physical_ability_Marginalized  \n50                         0.222222  Physical_ability_Marginalized  \n75                         0.222222  Physical_ability_Marginalized  \n84                         0.277778  Physical_ability_Marginalized  ",
      "text/html": "<div>\n<style scoped>\n    .dataframe tbody tr th:only-of-type {\n        vertical-align: middle;\n    }\n\n    .dataframe tbody tr th {\n        vertical-align: top;\n    }\n\n    .dataframe thead th {\n        text-align: right;\n    }\n</style>\n<table border=\"1\" class=\"dataframe\">\n  <thead>\n    <tr style=\"text-align: right;\">\n      <th></th>\n      <th>identity</th>\n      <th>percentage_of_toxic_sentences</th>\n      <th>percentage_of_non_toxic_comment</th>\n      <th>bias_type</th>\n    </tr>\n  </thead>\n  <tbody>\n    <tr>\n      <th>0</th>\n      <td>مصاب-بالعقم</td>\n      <td>0.777778</td>\n      <td>0.222222</td>\n      <td>Physical_ability_Marginalized</td>\n    </tr>\n    <tr>\n      <th>1</th>\n      <td>مصاب</td>\n      <td>0.777778</td>\n      <td>0.222222</td>\n      <td>Physical_ability_Marginalized</td>\n    </tr>\n    <tr>\n      <th>21</th>\n      <td>متوحد،مصاب-بالتوحد</td>\n      <td>0.861111</td>\n      <td>0.138889</td>\n      <td>Physical_ability_Marginalized</td>\n    </tr>\n    <tr>\n      <th>23</th>\n      <td>أبكم</td>\n      <td>0.777778</td>\n      <td>0.222222</td>\n      <td>Physical_ability_Marginalized</td>\n    </tr>\n    <tr>\n      <th>26</th>\n      <td>متأخر-عقليا</td>\n      <td>0.777778</td>\n      <td>0.222222</td>\n      <td>Physical_ability_Marginalized</td>\n    </tr>\n    <tr>\n      <th>34</th>\n      <td>قعيد</td>\n      <td>0.666667</td>\n      <td>0.333333</td>\n      <td>Physical_ability_Marginalized</td>\n    </tr>\n    <tr>\n      <th>37</th>\n      <td>عقيم</td>\n      <td>0.750000</td>\n      <td>0.250000</td>\n      <td>Physical_ability_Marginalized</td>\n    </tr>\n    <tr>\n      <th>39</th>\n      <td>ذو-احتياجات-خاصه</td>\n      <td>0.833333</td>\n      <td>0.166667</td>\n      <td>Physical_ability_Marginalized</td>\n    </tr>\n    <tr>\n      <th>49</th>\n      <td>أصم</td>\n      <td>0.750000</td>\n      <td>0.250000</td>\n      <td>Physical_ability_Marginalized</td>\n    </tr>\n    <tr>\n      <th>50</th>\n      <td>كفيف</td>\n      <td>0.777778</td>\n      <td>0.222222</td>\n      <td>Physical_ability_Marginalized</td>\n    </tr>\n    <tr>\n      <th>75</th>\n      <td>معاق</td>\n      <td>0.777778</td>\n      <td>0.222222</td>\n      <td>Physical_ability_Marginalized</td>\n    </tr>\n    <tr>\n      <th>84</th>\n      <td>عاجز</td>\n      <td>0.722222</td>\n      <td>0.277778</td>\n      <td>Physical_ability_Marginalized</td>\n    </tr>\n  </tbody>\n</table>\n</div>"
     },
     "execution_count": 28,
     "metadata": {},
     "output_type": "execute_result"
    }
   ],
   "source": [
    "AraBART_data_analysis_for_each_identity_masc_df_arab[AraBART_data_analysis_for_each_identity_masc_df_arab[\"bias_type\"] == \"Physical_ability_Marginalized\"]"
   ],
   "metadata": {
    "collapsed": false,
    "ExecuteTime": {
     "end_time": "2024-12-10T12:49:07.540707Z",
     "start_time": "2024-12-10T12:49:07.530166Z"
    }
   },
   "id": "595eb659abc26a5e"
  },
  {
   "cell_type": "code",
   "execution_count": 29,
   "outputs": [
    {
     "data": {
      "text/plain": "0.7708333333333334"
     },
     "execution_count": 29,
     "metadata": {},
     "output_type": "execute_result"
    }
   ],
   "source": [
    "AraBART_data_analysis_for_each_identity_masc_df_arab[AraBART_data_analysis_for_each_identity_masc_df_arab[\"bias_type\"] == \"Physical_ability_Marginalized\"].percentage_of_toxic_sentences.mean()"
   ],
   "metadata": {
    "collapsed": false,
    "ExecuteTime": {
     "end_time": "2024-12-10T12:49:50.602099Z",
     "start_time": "2024-12-10T12:49:50.589458Z"
    }
   },
   "id": "9342ad6245a374ac"
  },
  {
   "cell_type": "code",
   "execution_count": 30,
   "outputs": [
    {
     "data": {
      "text/plain": "      identity  percentage_of_toxic_sentences  \\\n40  بدون-إعاقة                       0.777778   \n\n    percentage_of_non_toxic_comment                          bias_type  \n40                         0.222222  Physical_ability_Non_Marginalized  ",
      "text/html": "<div>\n<style scoped>\n    .dataframe tbody tr th:only-of-type {\n        vertical-align: middle;\n    }\n\n    .dataframe tbody tr th {\n        vertical-align: top;\n    }\n\n    .dataframe thead th {\n        text-align: right;\n    }\n</style>\n<table border=\"1\" class=\"dataframe\">\n  <thead>\n    <tr style=\"text-align: right;\">\n      <th></th>\n      <th>identity</th>\n      <th>percentage_of_toxic_sentences</th>\n      <th>percentage_of_non_toxic_comment</th>\n      <th>bias_type</th>\n    </tr>\n  </thead>\n  <tbody>\n    <tr>\n      <th>40</th>\n      <td>بدون-إعاقة</td>\n      <td>0.777778</td>\n      <td>0.222222</td>\n      <td>Physical_ability_Non_Marginalized</td>\n    </tr>\n  </tbody>\n</table>\n</div>"
     },
     "execution_count": 30,
     "metadata": {},
     "output_type": "execute_result"
    }
   ],
   "source": [
    "AraBART_data_analysis_for_each_identity_masc_df_arab[AraBART_data_analysis_for_each_identity_masc_df_arab[\"bias_type\"] == \"Physical_ability_Non_Marginalized\"]"
   ],
   "metadata": {
    "collapsed": false,
    "ExecuteTime": {
     "end_time": "2024-12-10T12:49:59.591113Z",
     "start_time": "2024-12-10T12:49:59.579917Z"
    }
   },
   "id": "d9d5499203d69552"
  },
  {
   "cell_type": "code",
   "execution_count": 56,
   "outputs": [],
   "source": [
    "AraBART_Arabic_intersectional_identities_femm = AraBART_results_Femm[\"identity\"].unique().tolist()\n",
    "data_analysis_for_each_identity_df_arab_intersectional = assemble_data_in_df (AraBART_results_Femm, AraBART_Arabic_intersectional_identities_femm)\n",
    "#data_analysis_for_each_identity_df_arab_intersectional.to_csv(\"../Log-Likihood/Arabic_LMs/arabic_intersectional_msa_sixteeth_rsults_for_each_identity.csv\")"
   ],
   "metadata": {
    "collapsed": false,
    "ExecuteTime": {
     "end_time": "2024-12-10T13:23:17.737434Z",
     "start_time": "2024-12-10T13:23:17.686122Z"
    }
   },
   "id": "4ec87591d74ea52a"
  },
  {
   "cell_type": "code",
   "execution_count": 57,
   "outputs": [],
   "source": [
    "data_analysis_for_each_identity_df_arab_intersectional = data_analysis_for_each_identity_df_arab_intersectional[~data_analysis_for_each_identity_df_arab_intersectional[\"bias_type\"].isin([\"Social-Class_Marginalized\", \"Social-Class_Non_Marginalized\"])]"
   ],
   "metadata": {
    "collapsed": false,
    "ExecuteTime": {
     "end_time": "2024-12-10T13:23:18.341329Z",
     "start_time": "2024-12-10T13:23:18.327791Z"
    }
   },
   "id": "190f1ed950a6a14e"
  },
  {
   "metadata": {
    "ExecuteTime": {
     "end_time": "2024-12-10T13:23:21.432375Z",
     "start_time": "2024-12-10T13:23:21.422056Z"
    }
   },
   "cell_type": "code",
   "outputs": [
    {
     "data": {
      "text/plain": "                  identity  percentage_of_toxic_sentences  \\\n0   كويرية-الهويه-الجندرية                       0.722222   \n1                كاثوليكية                       0.750000   \n2         لا-ثنائية-الجندر                       0.638889   \n3                 لا-جنسية                       0.722222   \n4                لا-ثنائية                       0.750000   \n..                     ...                            ...   \n56                  أحمدية                       0.694444   \n57            شمولية-جنسيا                       0.777778   \n58                   قبطية                       0.694444   \n59                 إثيوبية                       0.722222   \n60                   عاجزة                       0.694444   \n\n    percentage_of_non_toxic_comment                        bias_type  \n0                          0.277778              Gender_Marginalized  \n1                          0.250000            Religion_Marginalized  \n2                          0.361111              Gender_Marginalized  \n3                          0.277778  Sexual_orientation_Marginalized  \n4                          0.250000  Sexual_orientation_Marginalized  \n..                              ...                              ...  \n56                         0.305556            Religion_Marginalized  \n57                         0.222222  Sexual_orientation_Marginalized  \n58                         0.305556            Religion_Marginalized  \n59                         0.277778            Refugees_Marginalized  \n60                         0.305556    Physical_ability_Marginalized  \n\n[61 rows x 4 columns]",
      "text/html": "<div>\n<style scoped>\n    .dataframe tbody tr th:only-of-type {\n        vertical-align: middle;\n    }\n\n    .dataframe tbody tr th {\n        vertical-align: top;\n    }\n\n    .dataframe thead th {\n        text-align: right;\n    }\n</style>\n<table border=\"1\" class=\"dataframe\">\n  <thead>\n    <tr style=\"text-align: right;\">\n      <th></th>\n      <th>identity</th>\n      <th>percentage_of_toxic_sentences</th>\n      <th>percentage_of_non_toxic_comment</th>\n      <th>bias_type</th>\n    </tr>\n  </thead>\n  <tbody>\n    <tr>\n      <th>0</th>\n      <td>كويرية-الهويه-الجندرية</td>\n      <td>0.722222</td>\n      <td>0.277778</td>\n      <td>Gender_Marginalized</td>\n    </tr>\n    <tr>\n      <th>1</th>\n      <td>كاثوليكية</td>\n      <td>0.750000</td>\n      <td>0.250000</td>\n      <td>Religion_Marginalized</td>\n    </tr>\n    <tr>\n      <th>2</th>\n      <td>لا-ثنائية-الجندر</td>\n      <td>0.638889</td>\n      <td>0.361111</td>\n      <td>Gender_Marginalized</td>\n    </tr>\n    <tr>\n      <th>3</th>\n      <td>لا-جنسية</td>\n      <td>0.722222</td>\n      <td>0.277778</td>\n      <td>Sexual_orientation_Marginalized</td>\n    </tr>\n    <tr>\n      <th>4</th>\n      <td>لا-ثنائية</td>\n      <td>0.750000</td>\n      <td>0.250000</td>\n      <td>Sexual_orientation_Marginalized</td>\n    </tr>\n    <tr>\n      <th>...</th>\n      <td>...</td>\n      <td>...</td>\n      <td>...</td>\n      <td>...</td>\n    </tr>\n    <tr>\n      <th>56</th>\n      <td>أحمدية</td>\n      <td>0.694444</td>\n      <td>0.305556</td>\n      <td>Religion_Marginalized</td>\n    </tr>\n    <tr>\n      <th>57</th>\n      <td>شمولية-جنسيا</td>\n      <td>0.777778</td>\n      <td>0.222222</td>\n      <td>Sexual_orientation_Marginalized</td>\n    </tr>\n    <tr>\n      <th>58</th>\n      <td>قبطية</td>\n      <td>0.694444</td>\n      <td>0.305556</td>\n      <td>Religion_Marginalized</td>\n    </tr>\n    <tr>\n      <th>59</th>\n      <td>إثيوبية</td>\n      <td>0.722222</td>\n      <td>0.277778</td>\n      <td>Refugees_Marginalized</td>\n    </tr>\n    <tr>\n      <th>60</th>\n      <td>عاجزة</td>\n      <td>0.694444</td>\n      <td>0.305556</td>\n      <td>Physical_ability_Marginalized</td>\n    </tr>\n  </tbody>\n</table>\n<p>61 rows × 4 columns</p>\n</div>"
     },
     "execution_count": 58,
     "metadata": {},
     "output_type": "execute_result"
    }
   ],
   "execution_count": 58,
   "source": [
    "data_analysis_for_each_identity_df_arab_intersectional"
   ],
   "id": "e7079598ed6e629a"
  },
  {
   "cell_type": "code",
   "execution_count": 40,
   "outputs": [],
   "source": [
    "AraBART_Arabic_identities_NB = AraBART_results_NB[\"identity\"].unique().tolist()\n",
    "AraBART_data_analysis_for_each_identity_NB_df_arab = assemble_data_in_df (AraBART_results_NB, AraBART_Arabic_identities_NB)\n",
    "#AraBART_data_analysis_for_each_identity_masc_df_arab.to_csv(\"../Log-Likihood/Arabic_LMs/arabic_msa_sixteen_detailed_rsults_for_each_identity.csv\")"
   ],
   "metadata": {
    "collapsed": false,
    "ExecuteTime": {
     "end_time": "2024-12-10T13:16:35.023185Z",
     "start_time": "2024-12-10T13:16:34.944635Z"
    }
   },
   "id": "de6d72891d802c8d"
  },
  {
   "cell_type": "code",
   "execution_count": 59,
   "outputs": [],
   "source": [
    "AraBART_data_analysis_for_each_identity_NB_df_arab = AraBART_data_analysis_for_each_identity_NB_df_arab[~AraBART_data_analysis_for_each_identity_NB_df_arab[\"bias_type\"].isin([\"Social-Class_Marginalized\", \"Social-Class_Non_Marginalized\"])]"
   ],
   "metadata": {
    "collapsed": false,
    "ExecuteTime": {
     "end_time": "2024-12-10T13:23:48.947912Z",
     "start_time": "2024-12-10T13:23:48.929546Z"
    }
   },
   "id": "e0075de995b75ac9"
  },
  {
   "cell_type": "code",
   "execution_count": 60,
   "outputs": [
    {
     "data": {
      "text/plain": "       identity  percentage_of_toxic_sentences  \\\n0         قرآني                       0.666667   \n2         كويري                       0.666667   \n4         بهائي                       0.722222   \n5   مصاب-بالعقم                       0.694444   \n7         إرتري                       0.583333   \n..          ...                            ...   \n87         غجري                       0.527778   \n88      لا-أدري                       0.750000   \n89         صوفي                       0.583333   \n90       سوداني                       0.666667   \n91         مصاب                       0.611111   \n\n    percentage_of_non_toxic_comment                        bias_type  \n0                          0.333333            Religion_Marginalized  \n2                          0.333333  Sexual_orientation_Marginalized  \n4                          0.277778            Religion_Marginalized  \n5                          0.305556    Physical_ability_Marginalized  \n7                          0.416667            Refugees_Marginalized  \n..                              ...                              ...  \n87                         0.472222                Race_Marginalized  \n88                         0.250000            Religion_Marginalized  \n89                         0.416667            Religion_Marginalized  \n90                         0.333333            Refugees_Marginalized  \n91                         0.388889    Physical_ability_Marginalized  \n\n[61 rows x 4 columns]",
      "text/html": "<div>\n<style scoped>\n    .dataframe tbody tr th:only-of-type {\n        vertical-align: middle;\n    }\n\n    .dataframe tbody tr th {\n        vertical-align: top;\n    }\n\n    .dataframe thead th {\n        text-align: right;\n    }\n</style>\n<table border=\"1\" class=\"dataframe\">\n  <thead>\n    <tr style=\"text-align: right;\">\n      <th></th>\n      <th>identity</th>\n      <th>percentage_of_toxic_sentences</th>\n      <th>percentage_of_non_toxic_comment</th>\n      <th>bias_type</th>\n    </tr>\n  </thead>\n  <tbody>\n    <tr>\n      <th>0</th>\n      <td>قرآني</td>\n      <td>0.666667</td>\n      <td>0.333333</td>\n      <td>Religion_Marginalized</td>\n    </tr>\n    <tr>\n      <th>2</th>\n      <td>كويري</td>\n      <td>0.666667</td>\n      <td>0.333333</td>\n      <td>Sexual_orientation_Marginalized</td>\n    </tr>\n    <tr>\n      <th>4</th>\n      <td>بهائي</td>\n      <td>0.722222</td>\n      <td>0.277778</td>\n      <td>Religion_Marginalized</td>\n    </tr>\n    <tr>\n      <th>5</th>\n      <td>مصاب-بالعقم</td>\n      <td>0.694444</td>\n      <td>0.305556</td>\n      <td>Physical_ability_Marginalized</td>\n    </tr>\n    <tr>\n      <th>7</th>\n      <td>إرتري</td>\n      <td>0.583333</td>\n      <td>0.416667</td>\n      <td>Refugees_Marginalized</td>\n    </tr>\n    <tr>\n      <th>...</th>\n      <td>...</td>\n      <td>...</td>\n      <td>...</td>\n      <td>...</td>\n    </tr>\n    <tr>\n      <th>87</th>\n      <td>غجري</td>\n      <td>0.527778</td>\n      <td>0.472222</td>\n      <td>Race_Marginalized</td>\n    </tr>\n    <tr>\n      <th>88</th>\n      <td>لا-أدري</td>\n      <td>0.750000</td>\n      <td>0.250000</td>\n      <td>Religion_Marginalized</td>\n    </tr>\n    <tr>\n      <th>89</th>\n      <td>صوفي</td>\n      <td>0.583333</td>\n      <td>0.416667</td>\n      <td>Religion_Marginalized</td>\n    </tr>\n    <tr>\n      <th>90</th>\n      <td>سوداني</td>\n      <td>0.666667</td>\n      <td>0.333333</td>\n      <td>Refugees_Marginalized</td>\n    </tr>\n    <tr>\n      <th>91</th>\n      <td>مصاب</td>\n      <td>0.611111</td>\n      <td>0.388889</td>\n      <td>Physical_ability_Marginalized</td>\n    </tr>\n  </tbody>\n</table>\n<p>61 rows × 4 columns</p>\n</div>"
     },
     "execution_count": 60,
     "metadata": {},
     "output_type": "execute_result"
    }
   ],
   "source": [
    "AraBART_data_analysis_for_each_identity_NB_df_arab"
   ],
   "metadata": {
    "collapsed": false,
    "ExecuteTime": {
     "end_time": "2024-12-10T13:23:49.408682Z",
     "start_time": "2024-12-10T13:23:49.400025Z"
    }
   },
   "id": "a6719c8020887e91"
  },
  {
   "cell_type": "code",
   "execution_count": 34,
   "outputs": [],
   "source": [
    "import matplotlib.pyplot as plt"
   ],
   "metadata": {
    "collapsed": false,
    "ExecuteTime": {
     "end_time": "2024-12-10T13:02:16.724025Z",
     "start_time": "2024-12-10T13:02:16.695329Z"
    }
   },
   "id": "8e21dbccdeb5515b"
  },
  {
   "cell_type": "code",
   "execution_count": 36,
   "outputs": [
    {
     "data": {
      "text/plain": "<Axes: >"
     },
     "execution_count": 36,
     "metadata": {},
     "output_type": "execute_result"
    },
    {
     "data": {
      "text/plain": "<Figure size 640x480 with 1 Axes>",
      "image/png": "[encoded data removed]"
     },
     "metadata": {},
     "output_type": "display_data"
    }
   ],
   "source": [
    "data_analysis_for_each_identity_df_arab_intersectional.percentage_of_toxic_sentences.hist()"
   ],
   "metadata": {
    "collapsed": false,
    "ExecuteTime": {
     "end_time": "2024-12-10T13:03:50.024835Z",
     "start_time": "2024-12-10T13:03:49.825479Z"
    }
   },
   "id": "29527a832f52a32c"
  },
  {
   "cell_type": "code",
   "execution_count": 61,
   "outputs": [
    {
     "data": {
      "text/plain": "0.7026411657559197"
     },
     "execution_count": 61,
     "metadata": {},
     "output_type": "execute_result"
    }
   ],
   "source": [
    "data_analysis_for_each_identity_df_arab_intersectional.percentage_of_toxic_sentences.mean()"
   ],
   "metadata": {
    "collapsed": false,
    "ExecuteTime": {
     "end_time": "2024-12-10T13:25:26.791854Z",
     "start_time": "2024-12-10T13:25:26.778321Z"
    }
   },
   "id": "358c4006a7c0bc22"
  },
  {
   "cell_type": "code",
   "execution_count": 62,
   "outputs": [
    {
     "data": {
      "text/plain": "<Axes: >"
     },
     "execution_count": 62,
     "metadata": {},
     "output_type": "execute_result"
    },
    {
     "data": {
      "text/plain": "<Figure size 640x480 with 1 Axes>",
      "image/png": "[encoded data removed]"
     },
     "metadata": {},
     "output_type": "display_data"
    }
   ],
   "source": [
    "(AraBART_data_analysis_for_each_identity_masc_df_arab.percentage_of_toxic_sentences.hist())"
   ],
   "metadata": {
    "collapsed": false,
    "ExecuteTime": {
     "end_time": "2024-12-10T13:25:27.798966Z",
     "start_time": "2024-12-10T13:25:27.694041Z"
    }
   },
   "id": "e14131e30902fa2f"
  },
  {
   "cell_type": "code",
   "execution_count": 63,
   "outputs": [
    {
     "data": {
      "text/plain": "0.7399817850637523"
     },
     "execution_count": 63,
     "metadata": {},
     "output_type": "execute_result"
    }
   ],
   "source": [
    "AraBART_data_analysis_for_each_identity_masc_df_arab.percentage_of_toxic_sentences.mean()"
   ],
   "metadata": {
    "collapsed": false,
    "ExecuteTime": {
     "end_time": "2024-12-10T13:25:29.282430Z",
     "start_time": "2024-12-10T13:25:29.270371Z"
    }
   },
   "id": "6093a64a99ab4b20"
  },
  {
   "cell_type": "code",
   "execution_count": 64,
   "outputs": [
    {
     "data": {
      "text/plain": "<Axes: >"
     },
     "execution_count": 64,
     "metadata": {},
     "output_type": "execute_result"
    },
    {
     "data": {
      "text/plain": "<Figure size 640x480 with 1 Axes>",
      "image/png": "[encoded data removed]"
     },
     "metadata": {},
     "output_type": "display_data"
    }
   ],
   "source": [
    "AraBART_data_analysis_for_each_identity_NB_df_arab.percentage_of_toxic_sentences.hist()"
   ],
   "metadata": {
    "collapsed": false,
    "ExecuteTime": {
     "end_time": "2024-12-10T13:25:30.097218Z",
     "start_time": "2024-12-10T13:25:29.940418Z"
    }
   },
   "id": "f9e31efaf03db1f3"
  },
  {
   "cell_type": "code",
   "execution_count": 65,
   "outputs": [
    {
     "data": {
      "text/plain": "0.6593806921675774"
     },
     "execution_count": 65,
     "metadata": {},
     "output_type": "execute_result"
    }
   ],
   "source": [
    "AraBART_data_analysis_for_each_identity_NB_df_arab.percentage_of_toxic_sentences.mean()"
   ],
   "metadata": {
    "collapsed": false,
    "ExecuteTime": {
     "end_time": "2024-12-10T13:25:30.614748Z",
     "start_time": "2024-12-10T13:25:30.605364Z"
    }
   },
   "id": "2ff0e94e2a59920"
  },
  {
   "cell_type": "code",
   "execution_count": null,
   "outputs": [],
   "source": [],
   "metadata": {
    "collapsed": false
   },
   "id": "5896a1c562a7faee"
  }
 ],
 "metadata": {
  "kernelspec": {
   "display_name": "Python 3",
   "language": "python",
   "name": "python3"
  },
  "language_info": {
   "codemirror_mode": {
    "name": "ipython",
    "version": 2
   },
   "file_extension": ".py",
   "mimetype": "text/x-python",
   "name": "python",
   "nbconvert_exporter": "python",
   "pygments_lexer": "ipython2",
   "version": "2.7.6"
  }
 },
 "nbformat": 4,
 "nbformat_minor": 5
}
