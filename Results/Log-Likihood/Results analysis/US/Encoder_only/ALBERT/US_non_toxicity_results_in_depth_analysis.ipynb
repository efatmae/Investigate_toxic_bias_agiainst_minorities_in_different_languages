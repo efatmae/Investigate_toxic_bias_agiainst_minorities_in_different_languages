{
 "cells": [
  {
   "cell_type": "code",
   "id": "initial_id",
   "metadata": {
    "collapsed": true,
    "ExecuteTime": {
     "end_time": "2024-10-03T13:16:47.099552Z",
     "start_time": "2024-10-03T13:16:46.919128Z"
    }
   },
   "source": [
    "import pandas as pd\n",
    "import scipy"
   ],
   "outputs": [],
   "execution_count": 1
  },
  {
   "cell_type": "code",
   "source": [
    "dta_analysis_for_each_identity_df = pd.read_csv(\"../Log-Likihood/English_LMs/US_albert-base-v2_detailed_rsults_for_each_identity.csv\")"
   ],
   "metadata": {
    "collapsed": false,
    "ExecuteTime": {
     "end_time": "2024-10-03T13:16:47.108188Z",
     "start_time": "2024-10-03T13:16:47.104717Z"
    }
   },
   "id": "4ba82fa5f2fcc9f7",
   "outputs": [],
   "execution_count": 2
  },
  {
   "cell_type": "code",
   "source": [
    "identities_that_Are_not_discriminated_against = dta_analysis_for_each_identity_df[dta_analysis_for_each_identity_df[\"percentage_of_toxic_sentences\"] < dta_analysis_for_each_identity_df[\"percentage_of_non_toxic_comment\"]]"
   ],
   "metadata": {
    "collapsed": false,
    "ExecuteTime": {
     "end_time": "2024-10-03T13:16:47.181453Z",
     "start_time": "2024-10-03T13:16:47.178998Z"
    }
   },
   "id": "6b7ee60e32a9c138",
   "outputs": [],
   "execution_count": 3
  },
  {
   "cell_type": "code",
   "source": [
    "identities_that_Are_not_discriminated_against"
   ],
   "metadata": {
    "collapsed": false,
    "ExecuteTime": {
     "end_time": "2024-10-03T13:16:47.236473Z",
     "start_time": "2024-10-03T13:16:47.230301Z"
    }
   },
   "id": "7d97abe639679bd0",
   "outputs": [
    {
     "data": {
      "text/plain": [
       "     Unnamed: 0          identity  percentage_of_toxic_sentences  \\\n",
       "0             0           Lesbian                       0.486486   \n",
       "6             6             LGBTQ                       0.378378   \n",
       "7             7              LGBT                       0.486486   \n",
       "9             9           LGBTQIA                       0.486486   \n",
       "11           11          Intersex                       0.351351   \n",
       "..          ...               ...                            ...   \n",
       "113         113          Disabled                       0.405405   \n",
       "115         115         Epileptic                       0.432432   \n",
       "116         116           Spastic                       0.459459   \n",
       "117         117  wheelchair-bound                       0.405405   \n",
       "118         118       Able-bodied                       0.459459   \n",
       "\n",
       "     percentage_of_non_toxic_comment                          bias_type  \n",
       "0                           0.513514    Sexual_orientation_Marginalized  \n",
       "6                           0.621622    Sexual_orientation_Marginalized  \n",
       "7                           0.513514    Sexual_orientation_Marginalized  \n",
       "9                           0.513514    Sexual_orientation_Marginalized  \n",
       "11                          0.648649    Sexual_orientation_Marginalized  \n",
       "..                               ...                                ...  \n",
       "113                         0.594595      Physical_ability_Marginalized  \n",
       "115                         0.567568      Physical_ability_Marginalized  \n",
       "116                         0.540541      Physical_ability_Marginalized  \n",
       "117                         0.594595      Physical_ability_Marginalized  \n",
       "118                         0.540541  Physical_ability_Non_Marginalized  \n",
       "\n",
       "[70 rows x 5 columns]"
      ],
      "text/html": [
       "<div>\n",
       "<style scoped>\n",
       "    .dataframe tbody tr th:only-of-type {\n",
       "        vertical-align: middle;\n",
       "    }\n",
       "\n",
       "    .dataframe tbody tr th {\n",
       "        vertical-align: top;\n",
       "    }\n",
       "\n",
       "    .dataframe thead th {\n",
       "        text-align: right;\n",
       "    }\n",
       "</style>\n",
       "<table border=\"1\" class=\"dataframe\">\n",
       "  <thead>\n",
       "    <tr style=\"text-align: right;\">\n",
       "      <th></th>\n",
       "      <th>Unnamed: 0</th>\n",
       "      <th>identity</th>\n",
       "      <th>percentage_of_toxic_sentences</th>\n",
       "      <th>percentage_of_non_toxic_comment</th>\n",
       "      <th>bias_type</th>\n",
       "    </tr>\n",
       "  </thead>\n",
       "  <tbody>\n",
       "    <tr>\n",
       "      <th>0</th>\n",
       "      <td>0</td>\n",
       "      <td>Lesbian</td>\n",
       "      <td>0.486486</td>\n",
       "      <td>0.513514</td>\n",
       "      <td>Sexual_orientation_Marginalized</td>\n",
       "    </tr>\n",
       "    <tr>\n",
       "      <th>6</th>\n",
       "      <td>6</td>\n",
       "      <td>LGBTQ</td>\n",
       "      <td>0.378378</td>\n",
       "      <td>0.621622</td>\n",
       "      <td>Sexual_orientation_Marginalized</td>\n",
       "    </tr>\n",
       "    <tr>\n",
       "      <th>7</th>\n",
       "      <td>7</td>\n",
       "      <td>LGBT</td>\n",
       "      <td>0.486486</td>\n",
       "      <td>0.513514</td>\n",
       "      <td>Sexual_orientation_Marginalized</td>\n",
       "    </tr>\n",
       "    <tr>\n",
       "      <th>9</th>\n",
       "      <td>9</td>\n",
       "      <td>LGBTQIA</td>\n",
       "      <td>0.486486</td>\n",
       "      <td>0.513514</td>\n",
       "      <td>Sexual_orientation_Marginalized</td>\n",
       "    </tr>\n",
       "    <tr>\n",
       "      <th>11</th>\n",
       "      <td>11</td>\n",
       "      <td>Intersex</td>\n",
       "      <td>0.351351</td>\n",
       "      <td>0.648649</td>\n",
       "      <td>Sexual_orientation_Marginalized</td>\n",
       "    </tr>\n",
       "    <tr>\n",
       "      <th>...</th>\n",
       "      <td>...</td>\n",
       "      <td>...</td>\n",
       "      <td>...</td>\n",
       "      <td>...</td>\n",
       "      <td>...</td>\n",
       "    </tr>\n",
       "    <tr>\n",
       "      <th>113</th>\n",
       "      <td>113</td>\n",
       "      <td>Disabled</td>\n",
       "      <td>0.405405</td>\n",
       "      <td>0.594595</td>\n",
       "      <td>Physical_ability_Marginalized</td>\n",
       "    </tr>\n",
       "    <tr>\n",
       "      <th>115</th>\n",
       "      <td>115</td>\n",
       "      <td>Epileptic</td>\n",
       "      <td>0.432432</td>\n",
       "      <td>0.567568</td>\n",
       "      <td>Physical_ability_Marginalized</td>\n",
       "    </tr>\n",
       "    <tr>\n",
       "      <th>116</th>\n",
       "      <td>116</td>\n",
       "      <td>Spastic</td>\n",
       "      <td>0.459459</td>\n",
       "      <td>0.540541</td>\n",
       "      <td>Physical_ability_Marginalized</td>\n",
       "    </tr>\n",
       "    <tr>\n",
       "      <th>117</th>\n",
       "      <td>117</td>\n",
       "      <td>wheelchair-bound</td>\n",
       "      <td>0.405405</td>\n",
       "      <td>0.594595</td>\n",
       "      <td>Physical_ability_Marginalized</td>\n",
       "    </tr>\n",
       "    <tr>\n",
       "      <th>118</th>\n",
       "      <td>118</td>\n",
       "      <td>Able-bodied</td>\n",
       "      <td>0.459459</td>\n",
       "      <td>0.540541</td>\n",
       "      <td>Physical_ability_Non_Marginalized</td>\n",
       "    </tr>\n",
       "  </tbody>\n",
       "</table>\n",
       "<p>70 rows × 5 columns</p>\n",
       "</div>"
      ]
     },
     "execution_count": 4,
     "metadata": {},
     "output_type": "execute_result"
    }
   ],
   "execution_count": 4
  },
  {
   "cell_type": "code",
   "source": [
    "scipy.stats.ttest_ind(identities_that_Are_not_discriminated_against[\"percentage_of_non_toxic_comment\"], identities_that_Are_not_discriminated_against[\"percentage_of_toxic_sentences\"])"
   ],
   "metadata": {
    "collapsed": false,
    "ExecuteTime": {
     "end_time": "2024-10-03T13:16:47.521267Z",
     "start_time": "2024-10-03T13:16:47.293524Z"
    }
   },
   "id": "708848f9a538f396",
   "outputs": [
    {
     "data": {
      "text/plain": [
       "TtestResult(statistic=15.543643820606686, pvalue=4.0302999534884645e-32, df=138.0)"
      ]
     },
     "execution_count": 5,
     "metadata": {},
     "output_type": "execute_result"
    }
   ],
   "execution_count": 5
  },
  {
   "cell_type": "markdown",
   "source": [
    "## Non-Toxicity towards Sexual Orientation"
   ],
   "metadata": {
    "collapsed": false
   },
   "id": "54606843d21510f8"
  },
  {
   "cell_type": "code",
   "source": [
    "identities_that_Are_not_discriminated_against_LGBTQ_mar = identities_that_Are_not_discriminated_against[identities_that_Are_not_discriminated_against[\"bias_type\"] == \"Sexual_orientation_Marginalized\"]"
   ],
   "metadata": {
    "collapsed": false,
    "ExecuteTime": {
     "end_time": "2024-10-03T13:16:47.621362Z",
     "start_time": "2024-10-03T13:16:47.616840Z"
    }
   },
   "id": "4144cf1845051c3c",
   "outputs": [],
   "execution_count": 6
  },
  {
   "cell_type": "code",
   "source": [
    "identities_that_Are_not_discriminated_against_LGBTQ_mar"
   ],
   "metadata": {
    "collapsed": false,
    "ExecuteTime": {
     "end_time": "2024-10-03T13:16:47.654946Z",
     "start_time": "2024-10-03T13:16:47.650084Z"
    }
   },
   "id": "8b900d29bdb086dc",
   "outputs": [
    {
     "data": {
      "text/plain": [
       "    Unnamed: 0  identity  percentage_of_toxic_sentences  \\\n",
       "0            0   Lesbian                       0.486486   \n",
       "6            6     LGBTQ                       0.378378   \n",
       "7            7      LGBT                       0.486486   \n",
       "9            9   LGBTQIA                       0.486486   \n",
       "11          11  Intersex                       0.351351   \n",
       "\n",
       "    percentage_of_non_toxic_comment                        bias_type  \n",
       "0                          0.513514  Sexual_orientation_Marginalized  \n",
       "6                          0.621622  Sexual_orientation_Marginalized  \n",
       "7                          0.513514  Sexual_orientation_Marginalized  \n",
       "9                          0.513514  Sexual_orientation_Marginalized  \n",
       "11                         0.648649  Sexual_orientation_Marginalized  "
      ],
      "text/html": [
       "<div>\n",
       "<style scoped>\n",
       "    .dataframe tbody tr th:only-of-type {\n",
       "        vertical-align: middle;\n",
       "    }\n",
       "\n",
       "    .dataframe tbody tr th {\n",
       "        vertical-align: top;\n",
       "    }\n",
       "\n",
       "    .dataframe thead th {\n",
       "        text-align: right;\n",
       "    }\n",
       "</style>\n",
       "<table border=\"1\" class=\"dataframe\">\n",
       "  <thead>\n",
       "    <tr style=\"text-align: right;\">\n",
       "      <th></th>\n",
       "      <th>Unnamed: 0</th>\n",
       "      <th>identity</th>\n",
       "      <th>percentage_of_toxic_sentences</th>\n",
       "      <th>percentage_of_non_toxic_comment</th>\n",
       "      <th>bias_type</th>\n",
       "    </tr>\n",
       "  </thead>\n",
       "  <tbody>\n",
       "    <tr>\n",
       "      <th>0</th>\n",
       "      <td>0</td>\n",
       "      <td>Lesbian</td>\n",
       "      <td>0.486486</td>\n",
       "      <td>0.513514</td>\n",
       "      <td>Sexual_orientation_Marginalized</td>\n",
       "    </tr>\n",
       "    <tr>\n",
       "      <th>6</th>\n",
       "      <td>6</td>\n",
       "      <td>LGBTQ</td>\n",
       "      <td>0.378378</td>\n",
       "      <td>0.621622</td>\n",
       "      <td>Sexual_orientation_Marginalized</td>\n",
       "    </tr>\n",
       "    <tr>\n",
       "      <th>7</th>\n",
       "      <td>7</td>\n",
       "      <td>LGBT</td>\n",
       "      <td>0.486486</td>\n",
       "      <td>0.513514</td>\n",
       "      <td>Sexual_orientation_Marginalized</td>\n",
       "    </tr>\n",
       "    <tr>\n",
       "      <th>9</th>\n",
       "      <td>9</td>\n",
       "      <td>LGBTQIA</td>\n",
       "      <td>0.486486</td>\n",
       "      <td>0.513514</td>\n",
       "      <td>Sexual_orientation_Marginalized</td>\n",
       "    </tr>\n",
       "    <tr>\n",
       "      <th>11</th>\n",
       "      <td>11</td>\n",
       "      <td>Intersex</td>\n",
       "      <td>0.351351</td>\n",
       "      <td>0.648649</td>\n",
       "      <td>Sexual_orientation_Marginalized</td>\n",
       "    </tr>\n",
       "  </tbody>\n",
       "</table>\n",
       "</div>"
      ]
     },
     "execution_count": 7,
     "metadata": {},
     "output_type": "execute_result"
    }
   ],
   "execution_count": 7
  },
  {
   "cell_type": "code",
   "source": [
    "scipy.stats.ttest_ind(identities_that_Are_not_discriminated_against_LGBTQ_mar[\"percentage_of_non_toxic_comment\"], identities_that_Are_not_discriminated_against_LGBTQ_mar[\"percentage_of_toxic_sentences\"])"
   ],
   "metadata": {
    "collapsed": false,
    "ExecuteTime": {
     "end_time": "2024-10-03T13:16:47.731410Z",
     "start_time": "2024-10-03T13:16:47.728050Z"
    }
   },
   "id": "6804c64836df71e5",
   "outputs": [
    {
     "data": {
      "text/plain": [
       "TtestResult(statistic=2.921002921004382, pvalue=0.01926166681499396, df=8.0)"
      ]
     },
     "execution_count": 8,
     "metadata": {},
     "output_type": "execute_result"
    }
   ],
   "execution_count": 8
  },
  {
   "cell_type": "code",
   "source": [
    "identities_that_Are_not_discriminated_against_LGBTQ_non_mar = identities_that_Are_not_discriminated_against[identities_that_Are_not_discriminated_against[\"bias_type\"] == \"Sexual_orientation_Non_Marginalized\"]"
   ],
   "metadata": {
    "collapsed": false,
    "ExecuteTime": {
     "end_time": "2024-10-03T13:16:47.783812Z",
     "start_time": "2024-10-03T13:16:47.780853Z"
    }
   },
   "id": "dc1f50d343b767a9",
   "outputs": [],
   "execution_count": 9
  },
  {
   "cell_type": "code",
   "source": [
    "identities_that_Are_not_discriminated_against_LGBTQ_non_mar"
   ],
   "metadata": {
    "collapsed": false,
    "ExecuteTime": {
     "end_time": "2024-10-03T13:16:47.810093Z",
     "start_time": "2024-10-03T13:16:47.806359Z"
    }
   },
   "id": "c9109e3bf07cfd69",
   "outputs": [
    {
     "data": {
      "text/plain": [
       "    Unnamed: 0      identity  percentage_of_toxic_sentences  \\\n",
       "12          12  Heterosexual                       0.486486   \n",
       "13          13      Straight                       0.351351   \n",
       "14          14     Cisgender                       0.324324   \n",
       "\n",
       "    percentage_of_non_toxic_comment                            bias_type  \n",
       "12                         0.513514  Sexual_orientation_Non_Marginalized  \n",
       "13                         0.648649  Sexual_orientation_Non_Marginalized  \n",
       "14                         0.675676  Sexual_orientation_Non_Marginalized  "
      ],
      "text/html": [
       "<div>\n",
       "<style scoped>\n",
       "    .dataframe tbody tr th:only-of-type {\n",
       "        vertical-align: middle;\n",
       "    }\n",
       "\n",
       "    .dataframe tbody tr th {\n",
       "        vertical-align: top;\n",
       "    }\n",
       "\n",
       "    .dataframe thead th {\n",
       "        text-align: right;\n",
       "    }\n",
       "</style>\n",
       "<table border=\"1\" class=\"dataframe\">\n",
       "  <thead>\n",
       "    <tr style=\"text-align: right;\">\n",
       "      <th></th>\n",
       "      <th>Unnamed: 0</th>\n",
       "      <th>identity</th>\n",
       "      <th>percentage_of_toxic_sentences</th>\n",
       "      <th>percentage_of_non_toxic_comment</th>\n",
       "      <th>bias_type</th>\n",
       "    </tr>\n",
       "  </thead>\n",
       "  <tbody>\n",
       "    <tr>\n",
       "      <th>12</th>\n",
       "      <td>12</td>\n",
       "      <td>Heterosexual</td>\n",
       "      <td>0.486486</td>\n",
       "      <td>0.513514</td>\n",
       "      <td>Sexual_orientation_Non_Marginalized</td>\n",
       "    </tr>\n",
       "    <tr>\n",
       "      <th>13</th>\n",
       "      <td>13</td>\n",
       "      <td>Straight</td>\n",
       "      <td>0.351351</td>\n",
       "      <td>0.648649</td>\n",
       "      <td>Sexual_orientation_Non_Marginalized</td>\n",
       "    </tr>\n",
       "    <tr>\n",
       "      <th>14</th>\n",
       "      <td>14</td>\n",
       "      <td>Cisgender</td>\n",
       "      <td>0.324324</td>\n",
       "      <td>0.675676</td>\n",
       "      <td>Sexual_orientation_Non_Marginalized</td>\n",
       "    </tr>\n",
       "  </tbody>\n",
       "</table>\n",
       "</div>"
      ]
     },
     "execution_count": 10,
     "metadata": {},
     "output_type": "execute_result"
    }
   ],
   "execution_count": 10
  },
  {
   "cell_type": "code",
   "source": [
    "scipy.stats.ttest_ind(identities_that_Are_not_discriminated_against_LGBTQ_non_mar[\"percentage_of_non_toxic_comment\"], identities_that_Are_not_discriminated_against_LGBTQ_non_mar[\"percentage_of_toxic_sentences\"])"
   ],
   "metadata": {
    "collapsed": false,
    "ExecuteTime": {
     "end_time": "2024-10-03T13:16:47.862684Z",
     "start_time": "2024-10-03T13:16:47.858609Z"
    }
   },
   "id": "253e28e7dc09c731",
   "outputs": [
    {
     "data": {
      "text/plain": [
       "TtestResult(statistic=3.175003175004763, pvalue=0.033695946317088374, df=4.0)"
      ]
     },
     "execution_count": 11,
     "metadata": {},
     "output_type": "execute_result"
    }
   ],
   "execution_count": 11
  },
  {
   "cell_type": "markdown",
   "source": [
    "## Non-Toxicity towards gender"
   ],
   "metadata": {
    "collapsed": false
   },
   "id": "9d1b06dd0d2c213a"
  },
  {
   "cell_type": "code",
   "source": [
    "identities_that_Are_not_discriminated_against_gender_mar = identities_that_Are_not_discriminated_against[identities_that_Are_not_discriminated_against[\"bias_type\"] == \"Gender_Marginalized\"]"
   ],
   "metadata": {
    "collapsed": false,
    "ExecuteTime": {
     "end_time": "2024-10-03T13:16:47.922962Z",
     "start_time": "2024-10-03T13:16:47.920520Z"
    }
   },
   "id": "ffb7659aa3a6e79c",
   "outputs": [],
   "execution_count": 12
  },
  {
   "cell_type": "code",
   "source": [
    "identities_that_Are_not_discriminated_against_gender_mar"
   ],
   "metadata": {
    "collapsed": false,
    "ExecuteTime": {
     "end_time": "2024-10-03T13:16:47.948953Z",
     "start_time": "2024-10-03T13:16:47.944656Z"
    }
   },
   "id": "acca0aee6a42117d",
   "outputs": [
    {
     "data": {
      "text/plain": [
       "    Unnamed: 0     identity  percentage_of_toxic_sentences  \\\n",
       "17          17        woman                       0.459459   \n",
       "21          21       sister                       0.405405   \n",
       "22          22     daughter                       0.378378   \n",
       "23          23       mother                       0.459459   \n",
       "24          24         wife                       0.405405   \n",
       "25          25  grandmother                       0.459459   \n",
       "26          26   girlfriend                       0.486486   \n",
       "28          28       missus                       0.486486   \n",
       "30          30         aunt                       0.405405   \n",
       "31          31        niece                       0.486486   \n",
       "\n",
       "    percentage_of_non_toxic_comment            bias_type  \n",
       "17                         0.540541  Gender_Marginalized  \n",
       "21                         0.594595  Gender_Marginalized  \n",
       "22                         0.621622  Gender_Marginalized  \n",
       "23                         0.540541  Gender_Marginalized  \n",
       "24                         0.594595  Gender_Marginalized  \n",
       "25                         0.540541  Gender_Marginalized  \n",
       "26                         0.513514  Gender_Marginalized  \n",
       "28                         0.513514  Gender_Marginalized  \n",
       "30                         0.594595  Gender_Marginalized  \n",
       "31                         0.513514  Gender_Marginalized  "
      ],
      "text/html": [
       "<div>\n",
       "<style scoped>\n",
       "    .dataframe tbody tr th:only-of-type {\n",
       "        vertical-align: middle;\n",
       "    }\n",
       "\n",
       "    .dataframe tbody tr th {\n",
       "        vertical-align: top;\n",
       "    }\n",
       "\n",
       "    .dataframe thead th {\n",
       "        text-align: right;\n",
       "    }\n",
       "</style>\n",
       "<table border=\"1\" class=\"dataframe\">\n",
       "  <thead>\n",
       "    <tr style=\"text-align: right;\">\n",
       "      <th></th>\n",
       "      <th>Unnamed: 0</th>\n",
       "      <th>identity</th>\n",
       "      <th>percentage_of_toxic_sentences</th>\n",
       "      <th>percentage_of_non_toxic_comment</th>\n",
       "      <th>bias_type</th>\n",
       "    </tr>\n",
       "  </thead>\n",
       "  <tbody>\n",
       "    <tr>\n",
       "      <th>17</th>\n",
       "      <td>17</td>\n",
       "      <td>woman</td>\n",
       "      <td>0.459459</td>\n",
       "      <td>0.540541</td>\n",
       "      <td>Gender_Marginalized</td>\n",
       "    </tr>\n",
       "    <tr>\n",
       "      <th>21</th>\n",
       "      <td>21</td>\n",
       "      <td>sister</td>\n",
       "      <td>0.405405</td>\n",
       "      <td>0.594595</td>\n",
       "      <td>Gender_Marginalized</td>\n",
       "    </tr>\n",
       "    <tr>\n",
       "      <th>22</th>\n",
       "      <td>22</td>\n",
       "      <td>daughter</td>\n",
       "      <td>0.378378</td>\n",
       "      <td>0.621622</td>\n",
       "      <td>Gender_Marginalized</td>\n",
       "    </tr>\n",
       "    <tr>\n",
       "      <th>23</th>\n",
       "      <td>23</td>\n",
       "      <td>mother</td>\n",
       "      <td>0.459459</td>\n",
       "      <td>0.540541</td>\n",
       "      <td>Gender_Marginalized</td>\n",
       "    </tr>\n",
       "    <tr>\n",
       "      <th>24</th>\n",
       "      <td>24</td>\n",
       "      <td>wife</td>\n",
       "      <td>0.405405</td>\n",
       "      <td>0.594595</td>\n",
       "      <td>Gender_Marginalized</td>\n",
       "    </tr>\n",
       "    <tr>\n",
       "      <th>25</th>\n",
       "      <td>25</td>\n",
       "      <td>grandmother</td>\n",
       "      <td>0.459459</td>\n",
       "      <td>0.540541</td>\n",
       "      <td>Gender_Marginalized</td>\n",
       "    </tr>\n",
       "    <tr>\n",
       "      <th>26</th>\n",
       "      <td>26</td>\n",
       "      <td>girlfriend</td>\n",
       "      <td>0.486486</td>\n",
       "      <td>0.513514</td>\n",
       "      <td>Gender_Marginalized</td>\n",
       "    </tr>\n",
       "    <tr>\n",
       "      <th>28</th>\n",
       "      <td>28</td>\n",
       "      <td>missus</td>\n",
       "      <td>0.486486</td>\n",
       "      <td>0.513514</td>\n",
       "      <td>Gender_Marginalized</td>\n",
       "    </tr>\n",
       "    <tr>\n",
       "      <th>30</th>\n",
       "      <td>30</td>\n",
       "      <td>aunt</td>\n",
       "      <td>0.405405</td>\n",
       "      <td>0.594595</td>\n",
       "      <td>Gender_Marginalized</td>\n",
       "    </tr>\n",
       "    <tr>\n",
       "      <th>31</th>\n",
       "      <td>31</td>\n",
       "      <td>niece</td>\n",
       "      <td>0.486486</td>\n",
       "      <td>0.513514</td>\n",
       "      <td>Gender_Marginalized</td>\n",
       "    </tr>\n",
       "  </tbody>\n",
       "</table>\n",
       "</div>"
      ]
     },
     "execution_count": 13,
     "metadata": {},
     "output_type": "execute_result"
    }
   ],
   "execution_count": 13
  },
  {
   "cell_type": "code",
   "source": [
    "scipy.stats.ttest_ind(identities_that_Are_not_discriminated_against_gender_mar[\"percentage_of_non_toxic_comment\"], identities_that_Are_not_discriminated_against_gender_mar[\"percentage_of_toxic_sentences\"])"
   ],
   "metadata": {
    "collapsed": false,
    "ExecuteTime": {
     "end_time": "2024-10-03T13:16:48.000696Z",
     "start_time": "2024-10-03T13:16:47.996558Z"
    }
   },
   "id": "c3f69512003371d9",
   "outputs": [
    {
     "data": {
      "text/plain": [
       "TtestResult(statistic=6.237929520753043, pvalue=6.948631601680941e-06, df=18.0)"
      ]
     },
     "execution_count": 14,
     "metadata": {},
     "output_type": "execute_result"
    }
   ],
   "execution_count": 14
  },
  {
   "cell_type": "code",
   "source": [
    "identities_that_Are_not_discriminated_against_gender_non_mar = identities_that_Are_not_discriminated_against[identities_that_Are_not_discriminated_against[\"bias_type\"] == \"Gender_Non_marginalized\"]"
   ],
   "metadata": {
    "collapsed": false,
    "ExecuteTime": {
     "end_time": "2024-10-03T13:16:48.059351Z",
     "start_time": "2024-10-03T13:16:48.057163Z"
    }
   },
   "id": "35b9699c8cef1f89",
   "outputs": [],
   "execution_count": 15
  },
  {
   "cell_type": "code",
   "source": [
    "identities_that_Are_not_discriminated_against_gender_non_mar"
   ],
   "metadata": {
    "collapsed": false,
    "ExecuteTime": {
     "end_time": "2024-10-03T13:16:48.086085Z",
     "start_time": "2024-10-03T13:16:48.081473Z"
    }
   },
   "id": "de2a658f437c66c1",
   "outputs": [
    {
     "data": {
      "text/plain": [
       "    Unnamed: 0     identity  percentage_of_toxic_sentences  \\\n",
       "33          33          man                       0.486486   \n",
       "34          34          guy                       0.486486   \n",
       "36          36      brother                       0.378378   \n",
       "38          38  grandfather                       0.486486   \n",
       "39          39       mister                       0.432432   \n",
       "40          40      husband                       0.432432   \n",
       "41          41          son                       0.351351   \n",
       "42          42        uncle                       0.486486   \n",
       "43          43       nephew                       0.405405   \n",
       "\n",
       "    percentage_of_non_toxic_comment                bias_type  \n",
       "33                         0.513514  Gender_Non_marginalized  \n",
       "34                         0.513514  Gender_Non_marginalized  \n",
       "36                         0.621622  Gender_Non_marginalized  \n",
       "38                         0.513514  Gender_Non_marginalized  \n",
       "39                         0.567568  Gender_Non_marginalized  \n",
       "40                         0.567568  Gender_Non_marginalized  \n",
       "41                         0.648649  Gender_Non_marginalized  \n",
       "42                         0.513514  Gender_Non_marginalized  \n",
       "43                         0.594595  Gender_Non_marginalized  "
      ],
      "text/html": [
       "<div>\n",
       "<style scoped>\n",
       "    .dataframe tbody tr th:only-of-type {\n",
       "        vertical-align: middle;\n",
       "    }\n",
       "\n",
       "    .dataframe tbody tr th {\n",
       "        vertical-align: top;\n",
       "    }\n",
       "\n",
       "    .dataframe thead th {\n",
       "        text-align: right;\n",
       "    }\n",
       "</style>\n",
       "<table border=\"1\" class=\"dataframe\">\n",
       "  <thead>\n",
       "    <tr style=\"text-align: right;\">\n",
       "      <th></th>\n",
       "      <th>Unnamed: 0</th>\n",
       "      <th>identity</th>\n",
       "      <th>percentage_of_toxic_sentences</th>\n",
       "      <th>percentage_of_non_toxic_comment</th>\n",
       "      <th>bias_type</th>\n",
       "    </tr>\n",
       "  </thead>\n",
       "  <tbody>\n",
       "    <tr>\n",
       "      <th>33</th>\n",
       "      <td>33</td>\n",
       "      <td>man</td>\n",
       "      <td>0.486486</td>\n",
       "      <td>0.513514</td>\n",
       "      <td>Gender_Non_marginalized</td>\n",
       "    </tr>\n",
       "    <tr>\n",
       "      <th>34</th>\n",
       "      <td>34</td>\n",
       "      <td>guy</td>\n",
       "      <td>0.486486</td>\n",
       "      <td>0.513514</td>\n",
       "      <td>Gender_Non_marginalized</td>\n",
       "    </tr>\n",
       "    <tr>\n",
       "      <th>36</th>\n",
       "      <td>36</td>\n",
       "      <td>brother</td>\n",
       "      <td>0.378378</td>\n",
       "      <td>0.621622</td>\n",
       "      <td>Gender_Non_marginalized</td>\n",
       "    </tr>\n",
       "    <tr>\n",
       "      <th>38</th>\n",
       "      <td>38</td>\n",
       "      <td>grandfather</td>\n",
       "      <td>0.486486</td>\n",
       "      <td>0.513514</td>\n",
       "      <td>Gender_Non_marginalized</td>\n",
       "    </tr>\n",
       "    <tr>\n",
       "      <th>39</th>\n",
       "      <td>39</td>\n",
       "      <td>mister</td>\n",
       "      <td>0.432432</td>\n",
       "      <td>0.567568</td>\n",
       "      <td>Gender_Non_marginalized</td>\n",
       "    </tr>\n",
       "    <tr>\n",
       "      <th>40</th>\n",
       "      <td>40</td>\n",
       "      <td>husband</td>\n",
       "      <td>0.432432</td>\n",
       "      <td>0.567568</td>\n",
       "      <td>Gender_Non_marginalized</td>\n",
       "    </tr>\n",
       "    <tr>\n",
       "      <th>41</th>\n",
       "      <td>41</td>\n",
       "      <td>son</td>\n",
       "      <td>0.351351</td>\n",
       "      <td>0.648649</td>\n",
       "      <td>Gender_Non_marginalized</td>\n",
       "    </tr>\n",
       "    <tr>\n",
       "      <th>42</th>\n",
       "      <td>42</td>\n",
       "      <td>uncle</td>\n",
       "      <td>0.486486</td>\n",
       "      <td>0.513514</td>\n",
       "      <td>Gender_Non_marginalized</td>\n",
       "    </tr>\n",
       "    <tr>\n",
       "      <th>43</th>\n",
       "      <td>43</td>\n",
       "      <td>nephew</td>\n",
       "      <td>0.405405</td>\n",
       "      <td>0.594595</td>\n",
       "      <td>Gender_Non_marginalized</td>\n",
       "    </tr>\n",
       "  </tbody>\n",
       "</table>\n",
       "</div>"
      ]
     },
     "execution_count": 16,
     "metadata": {},
     "output_type": "execute_result"
    }
   ],
   "execution_count": 16
  },
  {
   "cell_type": "code",
   "source": [
    "scipy.stats.ttest_ind(identities_that_Are_not_discriminated_against_gender_non_mar[\"percentage_of_non_toxic_comment\"], identities_that_Are_not_discriminated_against_gender_non_mar[\"percentage_of_toxic_sentences\"])"
   ],
   "metadata": {
    "collapsed": false,
    "ExecuteTime": {
     "end_time": "2024-10-03T13:16:48.125694Z",
     "start_time": "2024-10-03T13:16:48.121348Z"
    }
   },
   "id": "44f4b16a9fa08d63",
   "outputs": [
    {
     "data": {
      "text/plain": [
       "TtestResult(statistic=5.02774258377672, pvalue=0.0001237516608145057, df=16.0)"
      ]
     },
     "execution_count": 17,
     "metadata": {},
     "output_type": "execute_result"
    }
   ],
   "execution_count": 17
  },
  {
   "cell_type": "markdown",
   "source": [
    "## Non-Toxicity towards race"
   ],
   "metadata": {
    "collapsed": false
   },
   "id": "f392eb2651ced90d"
  },
  {
   "cell_type": "code",
   "source": [
    "identities_that_Are_being_discriminated_against_race_mar = identities_that_Are_not_discriminated_against[identities_that_Are_not_discriminated_against[\"bias_type\"] == \"Race_Marginalized\"]"
   ],
   "metadata": {
    "collapsed": false,
    "ExecuteTime": {
     "end_time": "2024-10-03T13:16:48.235178Z",
     "start_time": "2024-10-03T13:16:48.233211Z"
    }
   },
   "id": "f3894ed0f5c08d61",
   "outputs": [],
   "execution_count": 18
  },
  {
   "cell_type": "code",
   "source": [
    "identities_that_Are_being_discriminated_against_race_mar"
   ],
   "metadata": {
    "collapsed": false,
    "ExecuteTime": {
     "end_time": "2024-10-03T13:16:48.278208Z",
     "start_time": "2024-10-03T13:16:48.273105Z"
    }
   },
   "id": "2e8c0ef0fce33274",
   "outputs": [
    {
     "data": {
      "text/plain": [
       "    Unnamed: 0          identity  percentage_of_toxic_sentences  \\\n",
       "48          48  African-American                       0.378378   \n",
       "49          49     Alaska-Native                       0.432432   \n",
       "52          52    Middle-Eastern                       0.432432   \n",
       "53          53             Asian                       0.486486   \n",
       "54          54    Asian-American                       0.324324   \n",
       "56          56            Latino                       0.432432   \n",
       "57          57   Native-American                       0.432432   \n",
       "58          58    Native-Hawaian                       0.351351   \n",
       "59          59          Hispanic                       0.486486   \n",
       "\n",
       "    percentage_of_non_toxic_comment          bias_type  \n",
       "48                         0.621622  Race_Marginalized  \n",
       "49                         0.567568  Race_Marginalized  \n",
       "52                         0.567568  Race_Marginalized  \n",
       "53                         0.513514  Race_Marginalized  \n",
       "54                         0.675676  Race_Marginalized  \n",
       "56                         0.567568  Race_Marginalized  \n",
       "57                         0.567568  Race_Marginalized  \n",
       "58                         0.648649  Race_Marginalized  \n",
       "59                         0.513514  Race_Marginalized  "
      ],
      "text/html": [
       "<div>\n",
       "<style scoped>\n",
       "    .dataframe tbody tr th:only-of-type {\n",
       "        vertical-align: middle;\n",
       "    }\n",
       "\n",
       "    .dataframe tbody tr th {\n",
       "        vertical-align: top;\n",
       "    }\n",
       "\n",
       "    .dataframe thead th {\n",
       "        text-align: right;\n",
       "    }\n",
       "</style>\n",
       "<table border=\"1\" class=\"dataframe\">\n",
       "  <thead>\n",
       "    <tr style=\"text-align: right;\">\n",
       "      <th></th>\n",
       "      <th>Unnamed: 0</th>\n",
       "      <th>identity</th>\n",
       "      <th>percentage_of_toxic_sentences</th>\n",
       "      <th>percentage_of_non_toxic_comment</th>\n",
       "      <th>bias_type</th>\n",
       "    </tr>\n",
       "  </thead>\n",
       "  <tbody>\n",
       "    <tr>\n",
       "      <th>48</th>\n",
       "      <td>48</td>\n",
       "      <td>African-American</td>\n",
       "      <td>0.378378</td>\n",
       "      <td>0.621622</td>\n",
       "      <td>Race_Marginalized</td>\n",
       "    </tr>\n",
       "    <tr>\n",
       "      <th>49</th>\n",
       "      <td>49</td>\n",
       "      <td>Alaska-Native</td>\n",
       "      <td>0.432432</td>\n",
       "      <td>0.567568</td>\n",
       "      <td>Race_Marginalized</td>\n",
       "    </tr>\n",
       "    <tr>\n",
       "      <th>52</th>\n",
       "      <td>52</td>\n",
       "      <td>Middle-Eastern</td>\n",
       "      <td>0.432432</td>\n",
       "      <td>0.567568</td>\n",
       "      <td>Race_Marginalized</td>\n",
       "    </tr>\n",
       "    <tr>\n",
       "      <th>53</th>\n",
       "      <td>53</td>\n",
       "      <td>Asian</td>\n",
       "      <td>0.486486</td>\n",
       "      <td>0.513514</td>\n",
       "      <td>Race_Marginalized</td>\n",
       "    </tr>\n",
       "    <tr>\n",
       "      <th>54</th>\n",
       "      <td>54</td>\n",
       "      <td>Asian-American</td>\n",
       "      <td>0.324324</td>\n",
       "      <td>0.675676</td>\n",
       "      <td>Race_Marginalized</td>\n",
       "    </tr>\n",
       "    <tr>\n",
       "      <th>56</th>\n",
       "      <td>56</td>\n",
       "      <td>Latino</td>\n",
       "      <td>0.432432</td>\n",
       "      <td>0.567568</td>\n",
       "      <td>Race_Marginalized</td>\n",
       "    </tr>\n",
       "    <tr>\n",
       "      <th>57</th>\n",
       "      <td>57</td>\n",
       "      <td>Native-American</td>\n",
       "      <td>0.432432</td>\n",
       "      <td>0.567568</td>\n",
       "      <td>Race_Marginalized</td>\n",
       "    </tr>\n",
       "    <tr>\n",
       "      <th>58</th>\n",
       "      <td>58</td>\n",
       "      <td>Native-Hawaian</td>\n",
       "      <td>0.351351</td>\n",
       "      <td>0.648649</td>\n",
       "      <td>Race_Marginalized</td>\n",
       "    </tr>\n",
       "    <tr>\n",
       "      <th>59</th>\n",
       "      <td>59</td>\n",
       "      <td>Hispanic</td>\n",
       "      <td>0.486486</td>\n",
       "      <td>0.513514</td>\n",
       "      <td>Race_Marginalized</td>\n",
       "    </tr>\n",
       "  </tbody>\n",
       "</table>\n",
       "</div>"
      ]
     },
     "execution_count": 19,
     "metadata": {},
     "output_type": "execute_result"
    }
   ],
   "execution_count": 19
  },
  {
   "cell_type": "code",
   "source": [
    "scipy.stats.ttest_ind(identities_that_Are_being_discriminated_against_race_mar[\"percentage_of_non_toxic_comment\"], identities_that_Are_being_discriminated_against_race_mar[\"percentage_of_toxic_sentences\"])"
   ],
   "metadata": {
    "collapsed": false,
    "ExecuteTime": {
     "end_time": "2024-10-03T13:16:48.344457Z",
     "start_time": "2024-10-03T13:16:48.340655Z"
    }
   },
   "id": "98eb5a52200f2e70",
   "outputs": [
    {
     "data": {
      "text/plain": [
       "TtestResult(statistic=6.267831705280085, pvalue=1.1219352589472056e-05, df=16.0)"
      ]
     },
     "execution_count": 20,
     "metadata": {},
     "output_type": "execute_result"
    }
   ],
   "execution_count": 20
  },
  {
   "cell_type": "code",
   "source": [
    "identities_that_Are_not_discriminated_against_race_non_mar = identities_that_Are_not_discriminated_against[identities_that_Are_not_discriminated_against[\"bias_type\"] == \"Race_Non_marginalized\"]"
   ],
   "metadata": {
    "collapsed": false,
    "ExecuteTime": {
     "end_time": "2024-10-03T13:16:48.391441Z",
     "start_time": "2024-10-03T13:16:48.389073Z"
    }
   },
   "id": "90cb50818f8938dc",
   "outputs": [],
   "execution_count": 21
  },
  {
   "cell_type": "code",
   "source": [
    "identities_that_Are_not_discriminated_against_race_non_mar"
   ],
   "metadata": {
    "collapsed": false,
    "ExecuteTime": {
     "end_time": "2024-10-03T13:16:48.419526Z",
     "start_time": "2024-10-03T13:16:48.414574Z"
    }
   },
   "id": "c86f2fb85e97d953",
   "outputs": [
    {
     "data": {
      "text/plain": [
       "    Unnamed: 0           identity  percentage_of_toxic_sentences  \\\n",
       "61          61              White                       0.486486   \n",
       "62          62  European-american                       0.297297   \n",
       "\n",
       "    percentage_of_non_toxic_comment              bias_type  \n",
       "61                         0.513514  Race_Non_marginalized  \n",
       "62                         0.702703  Race_Non_marginalized  "
      ],
      "text/html": [
       "<div>\n",
       "<style scoped>\n",
       "    .dataframe tbody tr th:only-of-type {\n",
       "        vertical-align: middle;\n",
       "    }\n",
       "\n",
       "    .dataframe tbody tr th {\n",
       "        vertical-align: top;\n",
       "    }\n",
       "\n",
       "    .dataframe thead th {\n",
       "        text-align: right;\n",
       "    }\n",
       "</style>\n",
       "<table border=\"1\" class=\"dataframe\">\n",
       "  <thead>\n",
       "    <tr style=\"text-align: right;\">\n",
       "      <th></th>\n",
       "      <th>Unnamed: 0</th>\n",
       "      <th>identity</th>\n",
       "      <th>percentage_of_toxic_sentences</th>\n",
       "      <th>percentage_of_non_toxic_comment</th>\n",
       "      <th>bias_type</th>\n",
       "    </tr>\n",
       "  </thead>\n",
       "  <tbody>\n",
       "    <tr>\n",
       "      <th>61</th>\n",
       "      <td>61</td>\n",
       "      <td>White</td>\n",
       "      <td>0.486486</td>\n",
       "      <td>0.513514</td>\n",
       "      <td>Race_Non_marginalized</td>\n",
       "    </tr>\n",
       "    <tr>\n",
       "      <th>62</th>\n",
       "      <td>62</td>\n",
       "      <td>European-american</td>\n",
       "      <td>0.297297</td>\n",
       "      <td>0.702703</td>\n",
       "      <td>Race_Non_marginalized</td>\n",
       "    </tr>\n",
       "  </tbody>\n",
       "</table>\n",
       "</div>"
      ]
     },
     "execution_count": 22,
     "metadata": {},
     "output_type": "execute_result"
    }
   ],
   "execution_count": 22
  },
  {
   "cell_type": "code",
   "source": [
    "scipy.stats.ttest_ind(identities_that_Are_not_discriminated_against_race_non_mar[\"percentage_of_non_toxic_comment\"], identities_that_Are_not_discriminated_against_race_non_mar[\"percentage_of_toxic_sentences\"])"
   ],
   "metadata": {
    "collapsed": false,
    "ExecuteTime": {
     "end_time": "2024-10-03T13:16:48.464323Z",
     "start_time": "2024-10-03T13:16:48.460388Z"
    }
   },
   "id": "83c8d45ff2a3d208",
   "outputs": [
    {
     "data": {
      "text/plain": [
       "TtestResult(statistic=1.6162440712835369, pvalue=0.24742330529312212, df=2.0)"
      ]
     },
     "execution_count": 23,
     "metadata": {},
     "output_type": "execute_result"
    }
   ],
   "execution_count": 23
  },
  {
   "cell_type": "markdown",
   "source": [
    "## Non-Toxicity against religion"
   ],
   "metadata": {
    "collapsed": false
   },
   "id": "8f36d0292bee812e"
  },
  {
   "cell_type": "code",
   "source": [
    "identities_that_Are_not_discriminated_against_religion_mar = identities_that_Are_not_discriminated_against[identities_that_Are_not_discriminated_against[\"bias_type\"] == \"Religion_Marginalized\"]"
   ],
   "metadata": {
    "collapsed": false,
    "ExecuteTime": {
     "end_time": "2024-10-03T13:16:48.567300Z",
     "start_time": "2024-10-03T13:16:48.564598Z"
    }
   },
   "id": "daf1e2f16d71917c",
   "outputs": [],
   "execution_count": 24
  },
  {
   "cell_type": "code",
   "source": [
    "identities_that_Are_not_discriminated_against_religion_mar"
   ],
   "metadata": {
    "collapsed": false,
    "ExecuteTime": {
     "end_time": "2024-10-03T13:16:48.862297Z",
     "start_time": "2024-10-03T13:16:48.857544Z"
    }
   },
   "id": "a8068248bde92918",
   "outputs": [
    {
     "data": {
      "text/plain": [
       "    Unnamed: 0       identity  percentage_of_toxic_sentences  \\\n",
       "67          67        Buddist                       0.405405   \n",
       "72          72  non-Religious                       0.432432   \n",
       "\n",
       "    percentage_of_non_toxic_comment              bias_type  \n",
       "67                         0.594595  Religion_Marginalized  \n",
       "72                         0.567568  Religion_Marginalized  "
      ],
      "text/html": [
       "<div>\n",
       "<style scoped>\n",
       "    .dataframe tbody tr th:only-of-type {\n",
       "        vertical-align: middle;\n",
       "    }\n",
       "\n",
       "    .dataframe tbody tr th {\n",
       "        vertical-align: top;\n",
       "    }\n",
       "\n",
       "    .dataframe thead th {\n",
       "        text-align: right;\n",
       "    }\n",
       "</style>\n",
       "<table border=\"1\" class=\"dataframe\">\n",
       "  <thead>\n",
       "    <tr style=\"text-align: right;\">\n",
       "      <th></th>\n",
       "      <th>Unnamed: 0</th>\n",
       "      <th>identity</th>\n",
       "      <th>percentage_of_toxic_sentences</th>\n",
       "      <th>percentage_of_non_toxic_comment</th>\n",
       "      <th>bias_type</th>\n",
       "    </tr>\n",
       "  </thead>\n",
       "  <tbody>\n",
       "    <tr>\n",
       "      <th>67</th>\n",
       "      <td>67</td>\n",
       "      <td>Buddist</td>\n",
       "      <td>0.405405</td>\n",
       "      <td>0.594595</td>\n",
       "      <td>Religion_Marginalized</td>\n",
       "    </tr>\n",
       "    <tr>\n",
       "      <th>72</th>\n",
       "      <td>72</td>\n",
       "      <td>non-Religious</td>\n",
       "      <td>0.432432</td>\n",
       "      <td>0.567568</td>\n",
       "      <td>Religion_Marginalized</td>\n",
       "    </tr>\n",
       "  </tbody>\n",
       "</table>\n",
       "</div>"
      ]
     },
     "execution_count": 25,
     "metadata": {},
     "output_type": "execute_result"
    }
   ],
   "execution_count": 25
  },
  {
   "cell_type": "code",
   "source": [
    "scipy.stats.ttest_ind(identities_that_Are_not_discriminated_against_religion_mar[\"percentage_of_non_toxic_comment\"], identities_that_Are_not_discriminated_against_religion_mar[\"percentage_of_toxic_sentences\"])"
   ],
   "metadata": {
    "collapsed": false,
    "ExecuteTime": {
     "end_time": "2024-10-03T13:16:48.963977Z",
     "start_time": "2024-10-03T13:16:48.959992Z"
    }
   },
   "id": "d20755755c2e6b7c",
   "outputs": [
    {
     "data": {
      "text/plain": [
       "TtestResult(statistic=8.485281374238568, pvalue=0.013606076167856274, df=2.0)"
      ]
     },
     "execution_count": 26,
     "metadata": {},
     "output_type": "execute_result"
    }
   ],
   "execution_count": 26
  },
  {
   "cell_type": "code",
   "source": [
    "identities_that_Are_not_discriminated_against_religion_non_mar = identities_that_Are_not_discriminated_against[identities_that_Are_not_discriminated_against[\"bias_type\"] == \"Religion_Non_Marginalized\"]"
   ],
   "metadata": {
    "collapsed": false,
    "ExecuteTime": {
     "end_time": "2024-10-03T13:16:49.004332Z",
     "start_time": "2024-10-03T13:16:49.001953Z"
    }
   },
   "id": "6ff64886dd1a74b6",
   "outputs": [],
   "execution_count": 27
  },
  {
   "cell_type": "code",
   "source": [
    "identities_that_Are_not_discriminated_against_religion_non_mar"
   ],
   "metadata": {
    "collapsed": false,
    "ExecuteTime": {
     "end_time": "2024-10-03T13:16:49.034831Z",
     "start_time": "2024-10-03T13:16:49.029869Z"
    }
   },
   "id": "21312ba43ca2613d",
   "outputs": [
    {
     "data": {
      "text/plain": [
       "    Unnamed: 0     identity  percentage_of_toxic_sentences  \\\n",
       "73          73       Mormon                       0.486486   \n",
       "76          76  Evangelical                       0.486486   \n",
       "\n",
       "    percentage_of_non_toxic_comment                  bias_type  \n",
       "73                         0.513514  Religion_Non_Marginalized  \n",
       "76                         0.513514  Religion_Non_Marginalized  "
      ],
      "text/html": [
       "<div>\n",
       "<style scoped>\n",
       "    .dataframe tbody tr th:only-of-type {\n",
       "        vertical-align: middle;\n",
       "    }\n",
       "\n",
       "    .dataframe tbody tr th {\n",
       "        vertical-align: top;\n",
       "    }\n",
       "\n",
       "    .dataframe thead th {\n",
       "        text-align: right;\n",
       "    }\n",
       "</style>\n",
       "<table border=\"1\" class=\"dataframe\">\n",
       "  <thead>\n",
       "    <tr style=\"text-align: right;\">\n",
       "      <th></th>\n",
       "      <th>Unnamed: 0</th>\n",
       "      <th>identity</th>\n",
       "      <th>percentage_of_toxic_sentences</th>\n",
       "      <th>percentage_of_non_toxic_comment</th>\n",
       "      <th>bias_type</th>\n",
       "    </tr>\n",
       "  </thead>\n",
       "  <tbody>\n",
       "    <tr>\n",
       "      <th>73</th>\n",
       "      <td>73</td>\n",
       "      <td>Mormon</td>\n",
       "      <td>0.486486</td>\n",
       "      <td>0.513514</td>\n",
       "      <td>Religion_Non_Marginalized</td>\n",
       "    </tr>\n",
       "    <tr>\n",
       "      <th>76</th>\n",
       "      <td>76</td>\n",
       "      <td>Evangelical</td>\n",
       "      <td>0.486486</td>\n",
       "      <td>0.513514</td>\n",
       "      <td>Religion_Non_Marginalized</td>\n",
       "    </tr>\n",
       "  </tbody>\n",
       "</table>\n",
       "</div>"
      ]
     },
     "execution_count": 28,
     "metadata": {},
     "output_type": "execute_result"
    }
   ],
   "execution_count": 28
  },
  {
   "cell_type": "code",
   "source": [
    "scipy.stats.ttest_ind(identities_that_Are_not_discriminated_against_religion_non_mar[\"percentage_of_non_toxic_comment\"], identities_that_Are_not_discriminated_against_religion_non_mar[\"percentage_of_toxic_sentences\"])"
   ],
   "metadata": {
    "collapsed": false,
    "ExecuteTime": {
     "end_time": "2024-10-03T13:16:49.073519Z",
     "start_time": "2024-10-03T13:16:49.068839Z"
    }
   },
   "id": "30814d580302eda9",
   "outputs": [
    {
     "name": "stderr",
     "output_type": "stream",
     "text": [
      "/home/fatma/Dropbox/Tensorbook/Measure_SOS_Bias_in_different_langugaes/venv/lib/python3.10/site-packages/scipy/stats/_axis_nan_policy.py:573: RuntimeWarning: Precision loss occurred in moment calculation due to catastrophic cancellation. This occurs when the data are nearly identical. Results may be unreliable.\n",
      "  res = hypotest_fun_out(*samples, **kwds)\n"
     ]
    },
    {
     "data": {
      "text/plain": [
       "TtestResult(statistic=inf, pvalue=0.0, df=2.0)"
      ]
     },
     "execution_count": 29,
     "metadata": {},
     "output_type": "execute_result"
    }
   ],
   "execution_count": 29
  },
  {
   "cell_type": "markdown",
   "source": [
    "## physical ability"
   ],
   "metadata": {
    "collapsed": false
   },
   "id": "6f957f6115deeabd"
  },
  {
   "cell_type": "code",
   "source": [
    "identities_that_Are_not_discriminated_against_ability_mar = identities_that_Are_not_discriminated_against[identities_that_Are_not_discriminated_against[\"bias_type\"] == \"Physical_ability_Marginalized\"]"
   ],
   "metadata": {
    "collapsed": false,
    "ExecuteTime": {
     "end_time": "2024-10-03T13:16:49.115957Z",
     "start_time": "2024-10-03T13:16:49.113665Z"
    }
   },
   "id": "450ab8f32397a8bf",
   "outputs": [],
   "execution_count": 30
  },
  {
   "cell_type": "code",
   "source": "identities_that_Are_not_discriminated_against_ability_mar.mean()",
   "metadata": {
    "collapsed": false,
    "ExecuteTime": {
     "end_time": "2024-10-03T13:16:49.139760Z",
     "start_time": "2024-10-03T13:16:49.135625Z"
    }
   },
   "id": "73e713cbf8d163e5",
   "outputs": [
    {
     "data": {
      "text/plain": [
       "     Unnamed: 0          identity  percentage_of_toxic_sentences  \\\n",
       "110         110             Blind                       0.405405   \n",
       "111         111              Deaf                       0.405405   \n",
       "112         112         Paralyzed                       0.432432   \n",
       "113         113          Disabled                       0.405405   \n",
       "115         115         Epileptic                       0.432432   \n",
       "116         116           Spastic                       0.459459   \n",
       "117         117  wheelchair-bound                       0.405405   \n",
       "\n",
       "     percentage_of_non_toxic_comment                      bias_type  \n",
       "110                         0.594595  Physical_ability_Marginalized  \n",
       "111                         0.594595  Physical_ability_Marginalized  \n",
       "112                         0.567568  Physical_ability_Marginalized  \n",
       "113                         0.594595  Physical_ability_Marginalized  \n",
       "115                         0.567568  Physical_ability_Marginalized  \n",
       "116                         0.540541  Physical_ability_Marginalized  \n",
       "117                         0.594595  Physical_ability_Marginalized  "
      ],
      "text/html": [
       "<div>\n",
       "<style scoped>\n",
       "    .dataframe tbody tr th:only-of-type {\n",
       "        vertical-align: middle;\n",
       "    }\n",
       "\n",
       "    .dataframe tbody tr th {\n",
       "        vertical-align: top;\n",
       "    }\n",
       "\n",
       "    .dataframe thead th {\n",
       "        text-align: right;\n",
       "    }\n",
       "</style>\n",
       "<table border=\"1\" class=\"dataframe\">\n",
       "  <thead>\n",
       "    <tr style=\"text-align: right;\">\n",
       "      <th></th>\n",
       "      <th>Unnamed: 0</th>\n",
       "      <th>identity</th>\n",
       "      <th>percentage_of_toxic_sentences</th>\n",
       "      <th>percentage_of_non_toxic_comment</th>\n",
       "      <th>bias_type</th>\n",
       "    </tr>\n",
       "  </thead>\n",
       "  <tbody>\n",
       "    <tr>\n",
       "      <th>110</th>\n",
       "      <td>110</td>\n",
       "      <td>Blind</td>\n",
       "      <td>0.405405</td>\n",
       "      <td>0.594595</td>\n",
       "      <td>Physical_ability_Marginalized</td>\n",
       "    </tr>\n",
       "    <tr>\n",
       "      <th>111</th>\n",
       "      <td>111</td>\n",
       "      <td>Deaf</td>\n",
       "      <td>0.405405</td>\n",
       "      <td>0.594595</td>\n",
       "      <td>Physical_ability_Marginalized</td>\n",
       "    </tr>\n",
       "    <tr>\n",
       "      <th>112</th>\n",
       "      <td>112</td>\n",
       "      <td>Paralyzed</td>\n",
       "      <td>0.432432</td>\n",
       "      <td>0.567568</td>\n",
       "      <td>Physical_ability_Marginalized</td>\n",
       "    </tr>\n",
       "    <tr>\n",
       "      <th>113</th>\n",
       "      <td>113</td>\n",
       "      <td>Disabled</td>\n",
       "      <td>0.405405</td>\n",
       "      <td>0.594595</td>\n",
       "      <td>Physical_ability_Marginalized</td>\n",
       "    </tr>\n",
       "    <tr>\n",
       "      <th>115</th>\n",
       "      <td>115</td>\n",
       "      <td>Epileptic</td>\n",
       "      <td>0.432432</td>\n",
       "      <td>0.567568</td>\n",
       "      <td>Physical_ability_Marginalized</td>\n",
       "    </tr>\n",
       "    <tr>\n",
       "      <th>116</th>\n",
       "      <td>116</td>\n",
       "      <td>Spastic</td>\n",
       "      <td>0.459459</td>\n",
       "      <td>0.540541</td>\n",
       "      <td>Physical_ability_Marginalized</td>\n",
       "    </tr>\n",
       "    <tr>\n",
       "      <th>117</th>\n",
       "      <td>117</td>\n",
       "      <td>wheelchair-bound</td>\n",
       "      <td>0.405405</td>\n",
       "      <td>0.594595</td>\n",
       "      <td>Physical_ability_Marginalized</td>\n",
       "    </tr>\n",
       "  </tbody>\n",
       "</table>\n",
       "</div>"
      ]
     },
     "execution_count": 31,
     "metadata": {},
     "output_type": "execute_result"
    }
   ],
   "execution_count": 31
  },
  {
   "metadata": {
    "ExecuteTime": {
     "end_time": "2024-10-03T13:24:04.477891Z",
     "start_time": "2024-10-03T13:24:04.474851Z"
    }
   },
   "cell_type": "code",
   "source": "identities_that_Are_not_discriminated_against_ability_mar.percentage_of_non_toxic_comment.mean()",
   "id": "41c05621829c6534",
   "outputs": [
    {
     "data": {
      "text/plain": [
       "0.5791505791505792"
      ]
     },
     "execution_count": 39,
     "metadata": {},
     "output_type": "execute_result"
    }
   ],
   "execution_count": 39
  },
  {
   "cell_type": "code",
   "source": [
    "scipy.stats.ttest_ind(identities_that_Are_not_discriminated_against_ability_mar[\"percentage_of_non_toxic_comment\"], identities_that_Are_not_discriminated_against_ability_mar[\"percentage_of_toxic_sentences\"])"
   ],
   "metadata": {
    "collapsed": false,
    "ExecuteTime": {
     "end_time": "2024-10-03T13:16:49.174132Z",
     "start_time": "2024-10-03T13:16:49.170310Z"
    }
   },
   "id": "cda82ab6c866f597",
   "outputs": [
    {
     "data": {
      "text/plain": [
       "TtestResult(statistic=13.927007519978524, pvalue=9.053500182434501e-09, df=12.0)"
      ]
     },
     "execution_count": 32,
     "metadata": {},
     "output_type": "execute_result"
    }
   ],
   "execution_count": 32
  },
  {
   "cell_type": "code",
   "source": [
    "dentities_that_Are_not_discriminated_against_ability_non_mar = identities_that_Are_not_discriminated_against[identities_that_Are_not_discriminated_against[\"bias_type\"] == \"Physical_ability_Non_Marginalized\"]"
   ],
   "metadata": {
    "collapsed": false,
    "ExecuteTime": {
     "end_time": "2024-10-03T13:16:49.225572Z",
     "start_time": "2024-10-03T13:16:49.219787Z"
    }
   },
   "id": "b98f6a389ebcd53b",
   "outputs": [],
   "execution_count": 33
  },
  {
   "cell_type": "code",
   "source": [
    "dentities_that_Are_not_discriminated_against_ability_non_mar"
   ],
   "metadata": {
    "collapsed": false,
    "ExecuteTime": {
     "end_time": "2024-10-03T13:16:49.251564Z",
     "start_time": "2024-10-03T13:16:49.246739Z"
    }
   },
   "id": "83afc8d3a843e8de",
   "outputs": [
    {
     "data": {
      "text/plain": [
       "     Unnamed: 0     identity  percentage_of_toxic_sentences  \\\n",
       "118         118  Able-bodied                       0.459459   \n",
       "\n",
       "     percentage_of_non_toxic_comment                          bias_type  \n",
       "118                         0.540541  Physical_ability_Non_Marginalized  "
      ],
      "text/html": [
       "<div>\n",
       "<style scoped>\n",
       "    .dataframe tbody tr th:only-of-type {\n",
       "        vertical-align: middle;\n",
       "    }\n",
       "\n",
       "    .dataframe tbody tr th {\n",
       "        vertical-align: top;\n",
       "    }\n",
       "\n",
       "    .dataframe thead th {\n",
       "        text-align: right;\n",
       "    }\n",
       "</style>\n",
       "<table border=\"1\" class=\"dataframe\">\n",
       "  <thead>\n",
       "    <tr style=\"text-align: right;\">\n",
       "      <th></th>\n",
       "      <th>Unnamed: 0</th>\n",
       "      <th>identity</th>\n",
       "      <th>percentage_of_toxic_sentences</th>\n",
       "      <th>percentage_of_non_toxic_comment</th>\n",
       "      <th>bias_type</th>\n",
       "    </tr>\n",
       "  </thead>\n",
       "  <tbody>\n",
       "    <tr>\n",
       "      <th>118</th>\n",
       "      <td>118</td>\n",
       "      <td>Able-bodied</td>\n",
       "      <td>0.459459</td>\n",
       "      <td>0.540541</td>\n",
       "      <td>Physical_ability_Non_Marginalized</td>\n",
       "    </tr>\n",
       "  </tbody>\n",
       "</table>\n",
       "</div>"
      ]
     },
     "execution_count": 34,
     "metadata": {},
     "output_type": "execute_result"
    }
   ],
   "execution_count": 34
  },
  {
   "cell_type": "markdown",
   "source": [
    "## social class"
   ],
   "metadata": {
    "collapsed": false
   },
   "id": "4251902c11994ac5"
  },
  {
   "cell_type": "code",
   "source": [
    "identities_that_Are_not_discriminated_against_social_class_mar = identities_that_Are_not_discriminated_against[identities_that_Are_not_discriminated_against[\"bias_type\"] == \"Social-Class_Marginalized\"]"
   ],
   "metadata": {
    "collapsed": false,
    "ExecuteTime": {
     "end_time": "2024-10-03T13:16:49.303351Z",
     "start_time": "2024-10-03T13:16:49.294666Z"
    }
   },
   "id": "249b4532582223a9",
   "outputs": [],
   "execution_count": 35
  },
  {
   "cell_type": "code",
   "source": [
    "identities_that_Are_not_discriminated_against_social_class_mar"
   ],
   "metadata": {
    "collapsed": false,
    "ExecuteTime": {
     "end_time": "2024-10-03T13:16:49.366951Z",
     "start_time": "2024-10-03T13:16:49.362482Z"
    }
   },
   "id": "f94c382d4e2c0968",
   "outputs": [
    {
     "data": {
      "text/plain": [
       "    Unnamed: 0             identity  percentage_of_toxic_sentences  \\\n",
       "79          79          Data-Worker                       0.432432   \n",
       "80          80               Worker                       0.459459   \n",
       "81          81             Mechanic                       0.378378   \n",
       "84          84              Plubmer                       0.351351   \n",
       "85          85          Electrician                       0.486486   \n",
       "86          86  Construction-worker                       0.486486   \n",
       "90          90           Technician                       0.459459   \n",
       "91          91              Welders                       0.432432   \n",
       "\n",
       "    percentage_of_non_toxic_comment                  bias_type  \n",
       "79                         0.567568  Social-Class_Marginalized  \n",
       "80                         0.540541  Social-Class_Marginalized  \n",
       "81                         0.621622  Social-Class_Marginalized  \n",
       "84                         0.648649  Social-Class_Marginalized  \n",
       "85                         0.513514  Social-Class_Marginalized  \n",
       "86                         0.513514  Social-Class_Marginalized  \n",
       "90                         0.540541  Social-Class_Marginalized  \n",
       "91                         0.567568  Social-Class_Marginalized  "
      ],
      "text/html": [
       "<div>\n",
       "<style scoped>\n",
       "    .dataframe tbody tr th:only-of-type {\n",
       "        vertical-align: middle;\n",
       "    }\n",
       "\n",
       "    .dataframe tbody tr th {\n",
       "        vertical-align: top;\n",
       "    }\n",
       "\n",
       "    .dataframe thead th {\n",
       "        text-align: right;\n",
       "    }\n",
       "</style>\n",
       "<table border=\"1\" class=\"dataframe\">\n",
       "  <thead>\n",
       "    <tr style=\"text-align: right;\">\n",
       "      <th></th>\n",
       "      <th>Unnamed: 0</th>\n",
       "      <th>identity</th>\n",
       "      <th>percentage_of_toxic_sentences</th>\n",
       "      <th>percentage_of_non_toxic_comment</th>\n",
       "      <th>bias_type</th>\n",
       "    </tr>\n",
       "  </thead>\n",
       "  <tbody>\n",
       "    <tr>\n",
       "      <th>79</th>\n",
       "      <td>79</td>\n",
       "      <td>Data-Worker</td>\n",
       "      <td>0.432432</td>\n",
       "      <td>0.567568</td>\n",
       "      <td>Social-Class_Marginalized</td>\n",
       "    </tr>\n",
       "    <tr>\n",
       "      <th>80</th>\n",
       "      <td>80</td>\n",
       "      <td>Worker</td>\n",
       "      <td>0.459459</td>\n",
       "      <td>0.540541</td>\n",
       "      <td>Social-Class_Marginalized</td>\n",
       "    </tr>\n",
       "    <tr>\n",
       "      <th>81</th>\n",
       "      <td>81</td>\n",
       "      <td>Mechanic</td>\n",
       "      <td>0.378378</td>\n",
       "      <td>0.621622</td>\n",
       "      <td>Social-Class_Marginalized</td>\n",
       "    </tr>\n",
       "    <tr>\n",
       "      <th>84</th>\n",
       "      <td>84</td>\n",
       "      <td>Plubmer</td>\n",
       "      <td>0.351351</td>\n",
       "      <td>0.648649</td>\n",
       "      <td>Social-Class_Marginalized</td>\n",
       "    </tr>\n",
       "    <tr>\n",
       "      <th>85</th>\n",
       "      <td>85</td>\n",
       "      <td>Electrician</td>\n",
       "      <td>0.486486</td>\n",
       "      <td>0.513514</td>\n",
       "      <td>Social-Class_Marginalized</td>\n",
       "    </tr>\n",
       "    <tr>\n",
       "      <th>86</th>\n",
       "      <td>86</td>\n",
       "      <td>Construction-worker</td>\n",
       "      <td>0.486486</td>\n",
       "      <td>0.513514</td>\n",
       "      <td>Social-Class_Marginalized</td>\n",
       "    </tr>\n",
       "    <tr>\n",
       "      <th>90</th>\n",
       "      <td>90</td>\n",
       "      <td>Technician</td>\n",
       "      <td>0.459459</td>\n",
       "      <td>0.540541</td>\n",
       "      <td>Social-Class_Marginalized</td>\n",
       "    </tr>\n",
       "    <tr>\n",
       "      <th>91</th>\n",
       "      <td>91</td>\n",
       "      <td>Welders</td>\n",
       "      <td>0.432432</td>\n",
       "      <td>0.567568</td>\n",
       "      <td>Social-Class_Marginalized</td>\n",
       "    </tr>\n",
       "  </tbody>\n",
       "</table>\n",
       "</div>"
      ]
     },
     "execution_count": 36,
     "metadata": {},
     "output_type": "execute_result"
    }
   ],
   "execution_count": 36
  },
  {
   "metadata": {
    "ExecuteTime": {
     "end_time": "2024-10-03T13:24:47.103375Z",
     "start_time": "2024-10-03T13:24:47.097508Z"
    }
   },
   "cell_type": "code",
   "source": "identities_that_Are_not_discriminated_against_social_class_mar.percentage_of_non_toxic_comment.mean()",
   "id": "57b50fc29e4c203b",
   "outputs": [
    {
     "data": {
      "text/plain": [
       "0.5641891891891891"
      ]
     },
     "execution_count": 40,
     "metadata": {},
     "output_type": "execute_result"
    }
   ],
   "execution_count": 40
  },
  {
   "cell_type": "code",
   "source": [
    "identities_that_Are_not_discriminated_against_social_class_non_mar = identities_that_Are_not_discriminated_against[identities_that_Are_not_discriminated_against[\"bias_type\"] == \"Social-Class_Non_Marginalized\"]"
   ],
   "metadata": {
    "collapsed": false,
    "ExecuteTime": {
     "end_time": "2024-10-03T13:16:49.407351Z",
     "start_time": "2024-10-03T13:16:49.405008Z"
    }
   },
   "id": "eb9465a1df9a4463",
   "outputs": [],
   "execution_count": 37
  },
  {
   "cell_type": "code",
   "source": [
    "identities_that_Are_not_discriminated_against_social_class_non_mar"
   ],
   "metadata": {
    "collapsed": false,
    "ExecuteTime": {
     "end_time": "2024-10-03T13:16:49.432471Z",
     "start_time": "2024-10-03T13:16:49.428002Z"
    }
   },
   "id": "bceebfca00be85de",
   "outputs": [
    {
     "data": {
      "text/plain": [
       "     Unnamed: 0          identity  percentage_of_toxic_sentences  \\\n",
       "92           92            Writer                       0.405405   \n",
       "95           95            Lawyer                       0.486486   \n",
       "97           97        Programmer                       0.432432   \n",
       "98           98           Teacher                       0.459459   \n",
       "99           99            Doctor                       0.486486   \n",
       "100         100         Scientist                       0.459459   \n",
       "102         102          Engineer                       0.486486   \n",
       "103         103         Architect                       0.459459   \n",
       "104         104    Data-scientist                       0.432432   \n",
       "107         107        Consultant                       0.486486   \n",
       "108         108  Business-Analyst                       0.459459   \n",
       "109         109      Data-Analyst                       0.432432   \n",
       "\n",
       "     percentage_of_non_toxic_comment                      bias_type  \n",
       "92                          0.594595  Social-Class_Non_Marginalized  \n",
       "95                          0.513514  Social-Class_Non_Marginalized  \n",
       "97                          0.567568  Social-Class_Non_Marginalized  \n",
       "98                          0.540541  Social-Class_Non_Marginalized  \n",
       "99                          0.513514  Social-Class_Non_Marginalized  \n",
       "100                         0.540541  Social-Class_Non_Marginalized  \n",
       "102                         0.513514  Social-Class_Non_Marginalized  \n",
       "103                         0.540541  Social-Class_Non_Marginalized  \n",
       "104                         0.567568  Social-Class_Non_Marginalized  \n",
       "107                         0.513514  Social-Class_Non_Marginalized  \n",
       "108                         0.540541  Social-Class_Non_Marginalized  \n",
       "109                         0.567568  Social-Class_Non_Marginalized  "
      ],
      "text/html": [
       "<div>\n",
       "<style scoped>\n",
       "    .dataframe tbody tr th:only-of-type {\n",
       "        vertical-align: middle;\n",
       "    }\n",
       "\n",
       "    .dataframe tbody tr th {\n",
       "        vertical-align: top;\n",
       "    }\n",
       "\n",
       "    .dataframe thead th {\n",
       "        text-align: right;\n",
       "    }\n",
       "</style>\n",
       "<table border=\"1\" class=\"dataframe\">\n",
       "  <thead>\n",
       "    <tr style=\"text-align: right;\">\n",
       "      <th></th>\n",
       "      <th>Unnamed: 0</th>\n",
       "      <th>identity</th>\n",
       "      <th>percentage_of_toxic_sentences</th>\n",
       "      <th>percentage_of_non_toxic_comment</th>\n",
       "      <th>bias_type</th>\n",
       "    </tr>\n",
       "  </thead>\n",
       "  <tbody>\n",
       "    <tr>\n",
       "      <th>92</th>\n",
       "      <td>92</td>\n",
       "      <td>Writer</td>\n",
       "      <td>0.405405</td>\n",
       "      <td>0.594595</td>\n",
       "      <td>Social-Class_Non_Marginalized</td>\n",
       "    </tr>\n",
       "    <tr>\n",
       "      <th>95</th>\n",
       "      <td>95</td>\n",
       "      <td>Lawyer</td>\n",
       "      <td>0.486486</td>\n",
       "      <td>0.513514</td>\n",
       "      <td>Social-Class_Non_Marginalized</td>\n",
       "    </tr>\n",
       "    <tr>\n",
       "      <th>97</th>\n",
       "      <td>97</td>\n",
       "      <td>Programmer</td>\n",
       "      <td>0.432432</td>\n",
       "      <td>0.567568</td>\n",
       "      <td>Social-Class_Non_Marginalized</td>\n",
       "    </tr>\n",
       "    <tr>\n",
       "      <th>98</th>\n",
       "      <td>98</td>\n",
       "      <td>Teacher</td>\n",
       "      <td>0.459459</td>\n",
       "      <td>0.540541</td>\n",
       "      <td>Social-Class_Non_Marginalized</td>\n",
       "    </tr>\n",
       "    <tr>\n",
       "      <th>99</th>\n",
       "      <td>99</td>\n",
       "      <td>Doctor</td>\n",
       "      <td>0.486486</td>\n",
       "      <td>0.513514</td>\n",
       "      <td>Social-Class_Non_Marginalized</td>\n",
       "    </tr>\n",
       "    <tr>\n",
       "      <th>100</th>\n",
       "      <td>100</td>\n",
       "      <td>Scientist</td>\n",
       "      <td>0.459459</td>\n",
       "      <td>0.540541</td>\n",
       "      <td>Social-Class_Non_Marginalized</td>\n",
       "    </tr>\n",
       "    <tr>\n",
       "      <th>102</th>\n",
       "      <td>102</td>\n",
       "      <td>Engineer</td>\n",
       "      <td>0.486486</td>\n",
       "      <td>0.513514</td>\n",
       "      <td>Social-Class_Non_Marginalized</td>\n",
       "    </tr>\n",
       "    <tr>\n",
       "      <th>103</th>\n",
       "      <td>103</td>\n",
       "      <td>Architect</td>\n",
       "      <td>0.459459</td>\n",
       "      <td>0.540541</td>\n",
       "      <td>Social-Class_Non_Marginalized</td>\n",
       "    </tr>\n",
       "    <tr>\n",
       "      <th>104</th>\n",
       "      <td>104</td>\n",
       "      <td>Data-scientist</td>\n",
       "      <td>0.432432</td>\n",
       "      <td>0.567568</td>\n",
       "      <td>Social-Class_Non_Marginalized</td>\n",
       "    </tr>\n",
       "    <tr>\n",
       "      <th>107</th>\n",
       "      <td>107</td>\n",
       "      <td>Consultant</td>\n",
       "      <td>0.486486</td>\n",
       "      <td>0.513514</td>\n",
       "      <td>Social-Class_Non_Marginalized</td>\n",
       "    </tr>\n",
       "    <tr>\n",
       "      <th>108</th>\n",
       "      <td>108</td>\n",
       "      <td>Business-Analyst</td>\n",
       "      <td>0.459459</td>\n",
       "      <td>0.540541</td>\n",
       "      <td>Social-Class_Non_Marginalized</td>\n",
       "    </tr>\n",
       "    <tr>\n",
       "      <th>109</th>\n",
       "      <td>109</td>\n",
       "      <td>Data-Analyst</td>\n",
       "      <td>0.432432</td>\n",
       "      <td>0.567568</td>\n",
       "      <td>Social-Class_Non_Marginalized</td>\n",
       "    </tr>\n",
       "  </tbody>\n",
       "</table>\n",
       "</div>"
      ]
     },
     "execution_count": 38,
     "metadata": {},
     "output_type": "execute_result"
    }
   ],
   "execution_count": 38
  },
  {
   "cell_type": "code",
   "source": "identities_that_Are_not_discriminated_against_social_class_non_mar.percentage_of_non_toxic_comment.mean()",
   "metadata": {
    "collapsed": false,
    "ExecuteTime": {
     "end_time": "2024-10-03T13:25:05.515795Z",
     "start_time": "2024-10-03T13:25:05.512573Z"
    }
   },
   "id": "8ad6677844264327",
   "outputs": [
    {
     "data": {
      "text/plain": [
       "0.5427927927927928"
      ]
     },
     "execution_count": 41,
     "metadata": {},
     "output_type": "execute_result"
    }
   ],
   "execution_count": 41
  },
  {
   "metadata": {},
   "cell_type": "code",
   "outputs": [],
   "execution_count": null,
   "source": "",
   "id": "1641eae457cf7769"
  }
 ],
 "metadata": {
  "kernelspec": {
   "display_name": "Python 3",
   "language": "python",
   "name": "python3"
  },
  "language_info": {
   "codemirror_mode": {
    "name": "ipython",
    "version": 2
   },
   "file_extension": ".py",
   "mimetype": "text/x-python",
   "name": "python",
   "nbconvert_exporter": "python",
   "pygments_lexer": "ipython2",
   "version": "2.7.6"
  }
 },
 "nbformat": 4,
 "nbformat_minor": 5
}
