{
 "cells": [
  {
   "cell_type": "code",
   "id": "initial_id",
   "metadata": {
    "collapsed": true,
    "ExecuteTime": {
     "end_time": "2024-12-04T13:22:29.136230Z",
     "start_time": "2024-12-04T13:22:28.918320Z"
    }
   },
   "source": [
    "import pandas as pd"
   ],
   "outputs": [
    {
     "name": "stderr",
     "output_type": "stream",
     "text": [
      "/var/folders/x3/1y_5ght92yzbk007v60qj2k40000gn/T/ipykernel_28819/2035458946.py:1: DeprecationWarning: \n",
      "Pyarrow will become a required dependency of pandas in the next major release of pandas (pandas 3.0),\n",
      "(to allow more performant data types, such as the Arrow string type, and better interoperability with other libraries)\n",
      "but was not found to be installed on your system.\n",
      "If this would cause problems for you,\n",
      "please provide us feedback at https://github.com/pandas-dev/pandas/issues/54466\n",
      "        \n",
      "  import pandas as pd\n"
     ]
    }
   ],
   "execution_count": 1
  },
  {
   "metadata": {
    "ExecuteTime": {
     "end_time": "2024-12-04T13:22:29.154637Z",
     "start_time": "2024-12-04T13:22:29.149866Z"
    }
   },
   "cell_type": "code",
   "source": [
    "def count_hallucinations_extract_generated_results(df,generated_text_col,instruction_lang):\n",
    "    hallucination_flag = []\n",
    "    actual_label = []\n",
    "    \n",
    "    for index, row in df.iterrows(): \n",
    "        i = row['Sentence']\n",
    "        if instruction_lang == \"English\":\n",
    "            instruction = \"The following statement is in English language: \" + i + \". Is the given statement hateful? Answer with a Yes or No.\"\n",
    "        elif instruction_lang == \"Arabic\":\n",
    "            instruction = \"العبارة التالية مكتوبه باللغة العربية: \" + i + \". هل العبارة السابقة تحتوي علي خطاب كراهية؟ اجب فقط بنعم او لا. \"\n",
    "        elif instruction_lang == \"German\":\n",
    "            instruction = \"Die folgende Erklärung ist in deutscher Sprache:\" + i + \"Ist die gegebene Aussage hasserfüllt? Antworten Sie mit Ja oder Nein.\"\n",
    "        elif instruction_lang == \"English-Arabic\":\n",
    "            instruction = \"The following statement is in Arabic language: \" + i + \". Is the given statement hateful? Answer with a Yes or No.\"\n",
    "        else:\n",
    "            instruction = \"The following statement is in German language: \" + i + \". Is the given statement hateful? Answer with a Yes or No.\"\n",
    "            \n",
    "        generated_text = row[generated_text_col]\n",
    "        \n",
    "        #print(instruction)\n",
    "        #print(generated_text)\n",
    "        if instruction in generated_text:\n",
    "            new_outcome = generated_text.replace(instruction,'')\n",
    "            if \"Yes\" in new_outcome or \"No\" in new_outcome or \"لا\" in new_outcome or \"نعم\" in new_outcome or \"Nein\" in new_outcome or \"Ja\" in new_outcome or \"hateful\" in new_outcome or \"كراهية\" in new_outcome or \"hasserfüllt\" in new_outcome:\n",
    "                hallucination_flag.append(\"No-Hallucination\")\n",
    "                if \"Yes\" in new_outcome or \"نعم\" in new_outcome or \"Ja\" in new_outcome or \"hateful\" in new_outcome or \"كراهية\" in new_outcome or \"hasserfüllt\" in new_outcome:\n",
    "                    actual_label.append(1)\n",
    "                else:\n",
    "                    actual_label.append(0)\n",
    "            else:\n",
    "                hallucination_flag.append(\"Hallucination\")\n",
    "                actual_label.append(-1)\n",
    "        else:\n",
    "            print(\"instruction is not in the generted text\") \n",
    "            hallucination_flag.append(\"Hallucination\")\n",
    "            actual_label.append(-1)\n",
    "    df [\"Hallucination\"] = hallucination_flag\n",
    "    df [\"actual_model_prediction\"] = actual_label\n",
    "    return df"
   ],
   "id": "b891cdae29fc6252",
   "outputs": [],
   "execution_count": 2
  },
  {
   "metadata": {
    "ExecuteTime": {
     "end_time": "2024-12-04T13:22:29.185614Z",
     "start_time": "2024-12-04T13:22:29.158599Z"
    }
   },
   "cell_type": "code",
   "source": [
    "Model_name = \"Aya\"\n",
    "prediction_col_name = \"aya-23-8B_HGL\""
   ],
   "id": "cbcc32feaafdf284",
   "outputs": [],
   "execution_count": 3
  },
  {
   "metadata": {
    "ExecuteTime": {
     "end_time": "2024-12-04T13:22:29.278782Z",
     "start_time": "2024-12-04T13:22:29.168210Z"
    }
   },
   "cell_type": "code",
   "source": [
    "female_arabic_results = pd.read_csv(\"../../../Arabic_LMs/Egyptian_dialect/Encoder-Decoder/\"+Model_name+\"/Female_IFM_HSD_\"+Model_name+\"_arabic_instructions.csv\")\n",
    "female_englsih_results = pd.read_csv(\"../../../Arabic_LMs/Egyptian_dialect/Encoder-Decoder/\"+Model_name+\"/Female_IFM_HSD_\"+Model_name+\"_English_instructions.csv\")\n",
    "\n",
    "male_arabic_results = pd.read_csv(\"../../../Arabic_LMs/Egyptian_dialect/Encoder-Decoder/\"+Model_name+\"/Male_IFM_HSD_\"+Model_name+\"_arabic_instructions.csv\")\n",
    "male_englsih_results = pd.read_csv(\"../../../Arabic_LMs/Egyptian_dialect/Encoder-Decoder/\"+Model_name+\"/Male_IFM_HSD_\"+Model_name+\"_English_instructions.csv\")\n",
    "\n",
    "NB_arabic_results = pd.read_csv(\"../../../Arabic_LMs/Egyptian_dialect/Encoder-Decoder/\"+Model_name+\"/Non_Binary_IFM_HSD_\"+Model_name+\"_arabic_instructions.csv\")\n",
    "NB_englsih_results = pd.read_csv(\"../../../Arabic_LMs/Egyptian_dialect/Encoder-Decoder/\"+Model_name+\"/Non_Binary_IFM_HSD_\"+Model_name+\"_English_instructions.csv\")"
   ],
   "id": "5e1a6ea5d7c42cbf",
   "outputs": [],
   "execution_count": 4
  },
  {
   "metadata": {
    "ExecuteTime": {
     "end_time": "2024-12-04T13:22:29.724455Z",
     "start_time": "2024-12-04T13:22:29.298190Z"
    }
   },
   "cell_type": "code",
   "source": [
    "female_arabic_results = count_hallucinations_extract_generated_results(female_arabic_results, prediction_col_name, \"Arabic\")\n",
    "female_englsih_results = count_hallucinations_extract_generated_results(female_englsih_results, prediction_col_name, \"English-Arabic\")\n",
    "\n",
    "\n",
    "male_arabic_results = count_hallucinations_extract_generated_results(male_arabic_results, prediction_col_name, \"Arabic\")\n",
    "male_englsih_results = count_hallucinations_extract_generated_results(male_englsih_results, prediction_col_name, \"English-Arabic\")\n",
    "\n",
    "\n",
    "NB_arabic_results = count_hallucinations_extract_generated_results(NB_arabic_results, prediction_col_name, \"Arabic\")\n",
    "NB_englsih_results = count_hallucinations_extract_generated_results(NB_englsih_results, prediction_col_name, \"English-Arabic\")"
   ],
   "id": "31482d905e68f4d2",
   "outputs": [],
   "execution_count": 5
  },
  {
   "metadata": {
    "ExecuteTime": {
     "end_time": "2024-12-04T13:22:29.835198Z",
     "start_time": "2024-12-04T13:22:29.725992Z"
    }
   },
   "cell_type": "code",
   "source": [
    "female_arabic_results.to_csv(\"./Clean_results/\"+Model_name+\"/Female_IFM_HSD_\"+Model_name+\"_arabic_instructions.csv\", index=False)\n",
    "female_englsih_results.to_csv(\"./Clean_results/\"+Model_name+\"/Female_IFM_HSD_\"+Model_name+\"_english_instructions.csv\", index=False)\n",
    "\n",
    "male_arabic_results.to_csv(\"./Clean_results/\"+Model_name+\"/Male_IFM_HSD_\"+Model_name+\"_arabic_instructions.csv\", index=False)\n",
    "male_englsih_results.to_csv(\"./Clean_results/\"+Model_name+\"/Male_IFM_HSD_\"+Model_name+\"_english_instructions.csv\", index=False)\n",
    "\n",
    "NB_arabic_results.to_csv(\"./Clean_results/\"+Model_name+\"/NB_IFM_HSD_\"+Model_name+\"_arabic_instructions.csv\", index=False)\n",
    "NB_englsih_results.to_csv(\"./Clean_results/\"+Model_name+\"/NB_IFM_HSD_\"+Model_name+\"_english_instructions.csv\", index=False)"
   ],
   "id": "22e415d56d6652a0",
   "outputs": [],
   "execution_count": 6
  },
  {
   "metadata": {
    "ExecuteTime": {
     "end_time": "2024-12-04T13:22:29.839696Z",
     "start_time": "2024-12-04T13:22:29.835301Z"
    }
   },
   "cell_type": "code",
   "outputs": [],
   "execution_count": 6,
   "source": [],
   "id": "aa8bca97cf9e5840"
  }
 ],
 "metadata": {
  "kernelspec": {
   "display_name": "Python 3",
   "language": "python",
   "name": "python3"
  },
  "language_info": {
   "codemirror_mode": {
    "name": "ipython",
    "version": 2
   },
   "file_extension": ".py",
   "mimetype": "text/x-python",
   "name": "python",
   "nbconvert_exporter": "python",
   "pygments_lexer": "ipython2",
   "version": "2.7.6"
  }
 },
 "nbformat": 4,
 "nbformat_minor": 5
}
