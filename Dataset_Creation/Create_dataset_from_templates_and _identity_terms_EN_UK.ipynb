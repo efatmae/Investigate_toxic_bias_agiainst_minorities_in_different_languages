{
 "cells": [
  {
   "cell_type": "code",
   "id": "initial_id",
   "metadata": {
    "collapsed": true,
    "ExecuteTime": {
     "end_time": "2024-10-07T18:17:17.552343Z",
     "start_time": "2024-10-07T18:17:17.384649Z"
    }
   },
   "source": [
    "import pandas as pd"
   ],
   "outputs": [],
   "execution_count": 1
  },
  {
   "cell_type": "code",
   "source": [
    "def create_temp_identity (toxic_temp, non_toxic_temp, identity_terms, bias_type_and_direction):\n",
    "    toxic_sent = []\n",
    "    non_toxic_sent = []\n",
    "    identity_terms = [x.strip() for x in identity_terms.split(\",\")]\n",
    "    identity = []\n",
    "    for j in identity_terms:\n",
    "        for i in toxic_temp:\n",
    "            toxic_sent.append(i.replace(\"[Identity]\", j))\n",
    "        for i in non_toxic_temp:\n",
    "            non_toxic_sent.append(i.replace(\"[Identity]\", j))\n",
    "            identity.append(j)\n",
    "    bias_type = len(toxic_sent) * [bias_type_and_direction]\n",
    "    return toxic_sent, non_toxic_sent, bias_type, identity"
   ],
   "metadata": {
    "collapsed": false,
    "ExecuteTime": {
     "end_time": "2024-10-07T18:17:17.557893Z",
     "start_time": "2024-10-07T18:17:17.555071Z"
    }
   },
   "id": "d411cb690cd90ec0",
   "outputs": [],
   "execution_count": 2
  },
  {
   "cell_type": "code",
   "source": [
    "def create_sentence_temp_dataframe(English_temp, UK_identity_terms):\n",
    "    #Gender\n",
    "    UK_Mar_gender_toxic_sent, UK_Mar_gender_non_toxic_sent, UK_Mar_gender_bias_type_and_direction, UK_Mar_gender_identity = create_temp_identity(English_temp[\"toxic\"], English_temp[\"non-toxic\"], UK_identity_terms[UK_identity_terms[\"attribute\"]==\"Gender\"][\"Marginalized\"].to_list()[0],\n",
    "    \"Gender_Marginalized\")\n",
    "\n",
    "    print(len(UK_Mar_gender_toxic_sent))\n",
    "    print(len(UK_Mar_gender_non_toxic_sent))\n",
    "    print(len(UK_Mar_gender_bias_type_and_direction))\n",
    "    print(len(UK_Mar_gender_identity))\n",
    "\n",
    "    UK_Non_Mar_gender_toxic_sent, UK_Non_Mar_gender_non_toxic_sent, UK_Non_Mar_gender_bias_type_and_direction, UK_Non_Mar_gender_identity = create_temp_identity(English_temp[\"toxic\"], English_temp[\"non-toxic\"], UK_identity_terms[UK_identity_terms[\"attribute\"]==\"Gender\"][\"Non_Marginalized\"].to_list()[0],\"Gender_Non_marginalized\")\n",
    "\n",
    "    print(len(UK_Non_Mar_gender_toxic_sent))\n",
    "    print(len(UK_Non_Mar_gender_non_toxic_sent))\n",
    "    print(len(UK_Non_Mar_gender_bias_type_and_direction))\n",
    "    print(len(UK_Non_Mar_gender_identity))\n",
    "\n",
    "    #Race\n",
    "    UK_Mar_race_toxic_sent, UK_Mar_race_non_toxic_sent, UK_Mar_race_bias_type_and_direction, UK_Mar_race_identity = create_temp_identity(English_temp[\"toxic\"], English_temp[\"non-toxic\"], UK_identity_terms[UK_identity_terms[\"attribute\"]==\"Race\"][\"Marginalized\"].to_list()[0],\"Race_Marginalized\")\n",
    "\n",
    "    UK_Non_Mar_race_toxic_sent, UK_Non_Mar_race_non_toxic_sent, UK_Non_Mar_race_bias_type_and_direction, UK_Non_Mar_race_identity = create_temp_identity(English_temp[\"toxic\"], English_temp[\"non-toxic\"], UK_identity_terms[UK_identity_terms[\"attribute\"]==\"Race\"][\"Non_Marginalized\"].to_list()[0],\"Race_Non_marginalized\")\n",
    "\n",
    "    #Sexual Orientation\n",
    "    UK_Mar_SO_toxic_sent, UK_Mar_SO_non_toxic_sent, UK_Mar_SO_bias_type_and_direction, UK_Mar_SO_identity = create_temp_identity(English_temp[\"toxic\"], English_temp[\"non-toxic\"], UK_identity_terms[UK_identity_terms[\"attribute\"]==\"Sexual orientation\"][\"Marginalized\"].to_list()[0],\"Sexual_orientation_Marginalized\")\n",
    "\n",
    "    UK_Non_Mar_SO_toxic_sent, UK_Non_Mar_SO_non_toxic_sent, UK_non_Mar_SO_bias_type_and_direction, UK_Non_Mar_SO_identity = create_temp_identity(English_temp[\"toxic\"], English_temp[\"non-toxic\"], UK_identity_terms[UK_identity_terms[\"attribute\"]==\"Sexual orientation\"][\"Non_Marginalized\"].to_list()[0],\"Sexual_orientation_Non_Marginalized\")\n",
    "\n",
    "    #Disability\n",
    "    UK_Mar_disability_toxic_sent, UK_Mar_disability_non_toxic_sent, UK_Mar_disability_bias_type_and_direction, UK_Mar_disability_identity = create_temp_identity(English_temp[\"toxic\"], English_temp[\"non-toxic\"], UK_identity_terms[UK_identity_terms[\"attribute\"]==\"Physical ability\"][\"Marginalized\"].to_list()[0],\"Physical_ability_Marginalized\")\n",
    "\n",
    "    UK_Non_Mar_disability_toxic_sent, UK_Non_Mar_disability_non_toxic_sent, UK_non_Mar_disability_bias_type_and_direction, UK_Non_Mar_disability_identity = create_temp_identity(English_temp[\"toxic\"], English_temp[\"non-toxic\"], UK_identity_terms[UK_identity_terms[\"attribute\"]==\"Physical ability\"][\"Non_Marginalized\"].to_list()[0],\"Physical_ability_Non_Marginalized\")\n",
    "\n",
    "    #Social Class\n",
    "    UK_Mar_SC_toxic_sent, UK_Mar_SC_non_toxic_sent, UK_Mar_SC_bias_type_and_direction, UK_Mar_SC_identity = create_temp_identity(English_temp[\"toxic\"], English_temp[\"non-toxic\"], UK_identity_terms[UK_identity_terms[\"attribute\"]==\"Social-Class\"][\"Marginalized\"].to_list()[0],\"Social-Class_Marginalized\")\n",
    "\n",
    "    UK_Non_Mar_SC_toxic_sent, UK_Non_Mar_SC_non_toxic_sent, UK_non_Mar_SC_bias_type_and_direction, UK_Non_Mar_SC_identity = create_temp_identity(English_temp[\"toxic\"], English_temp[\"non-toxic\"], UK_identity_terms[UK_identity_terms[\"attribute\"]==\"Social-Class\"][\"Non_Marginalized\"].to_list()[0],\"Social-Class_Non_Marginalized\")\n",
    "\n",
    "    #Religion\n",
    "    UK_Mar_religion_toxic_sent, UK_Mar_religion_non_toxic_sent, UK_Mar_religion_bias_type_and_direction, UK_Mar_religion_identity = create_temp_identity(English_temp[\"toxic\"], English_temp[\"non-toxic\"], UK_identity_terms[UK_identity_terms[\"attribute\"]==\"Religion\"][\"Marginalized\"].to_list()[0],\"Religion_Marginalized\")\n",
    "\n",
    "    UK_Non_Mar_religion_toxic_sent, UK_Non_Mar_religion_non_toxic_sent, UK_non_Mar_religion_bias_type_and_direction, UK_Non_Mar_religion_identity = create_temp_identity(English_temp[\"toxic\"], English_temp[\"non-toxic\"], UK_identity_terms[UK_identity_terms[\"attribute\"]==\"Religion\"][\"Non_Marginalized\"].to_list()[0],\"Religion_Non_Marginalized\")\n",
    "\n",
    "    data_SO_Mar = pd.DataFrame({\"Toxic_sent\": UK_Mar_SO_toxic_sent,\n",
    "                               \"Non_Toxic_sent\": UK_Mar_SO_non_toxic_sent,\n",
    "                                \"bias_type\": UK_Mar_SO_bias_type_and_direction,\n",
    "                                   \"identity\": UK_Mar_SO_identity,\n",
    "                                \"stereo_antistereo\": \"stereo\"})\n",
    "\n",
    "    data_SO_Non_Mar = pd.DataFrame({\"Toxic_sent\": UK_Non_Mar_SO_toxic_sent,\n",
    "                               \"Non_Toxic_sent\": UK_Non_Mar_SO_non_toxic_sent,\n",
    "                                \"bias_type\": UK_non_Mar_SO_bias_type_and_direction,\n",
    "                                   \"identity\": UK_Non_Mar_SO_identity,\n",
    "                                \"stereo_antistereo\": \"stereo\" })\n",
    "\n",
    "    data_gender_Mar = pd.DataFrame({\"Toxic_sent\": UK_Mar_gender_toxic_sent,\n",
    "                               \"Non_Toxic_sent\": UK_Mar_gender_non_toxic_sent,\n",
    "                                \"bias_type\": UK_Mar_gender_bias_type_and_direction,\n",
    "                             \"identity\": UK_Mar_gender_identity,\n",
    "                                \"stereo_antistereo\": \"stereo\" })\n",
    "\n",
    "    data_gender_Non_Mar = pd.DataFrame({\"Toxic_sent\": UK_Non_Mar_gender_toxic_sent,\n",
    "                               \"Non_Toxic_sent\": UK_Non_Mar_gender_non_toxic_sent,\n",
    "                                \"bias_type\": UK_Non_Mar_gender_bias_type_and_direction,\n",
    "                             \"identity\": UK_Non_Mar_gender_identity,\n",
    "                                \"stereo_antistereo\": \"stereo\" })\n",
    "\n",
    "    data_race_Mar = pd.DataFrame({\"Toxic_sent\": UK_Mar_race_toxic_sent,\n",
    "                               \"Non_Toxic_sent\": UK_Mar_race_non_toxic_sent,\n",
    "                                \"bias_type\": UK_Mar_race_bias_type_and_direction,\n",
    "                             \"identity\": UK_Mar_race_identity,\n",
    "                                \"stereo_antistereo\": \"stereo\" })\n",
    "\n",
    "    data_race_Non_Mar = pd.DataFrame({\"Toxic_sent\": UK_Non_Mar_race_toxic_sent,\n",
    "                               \"Non_Toxic_sent\": UK_Non_Mar_race_non_toxic_sent,\n",
    "                                \"bias_type\": UK_Non_Mar_race_bias_type_and_direction,\n",
    "                             \"identity\": UK_Non_Mar_race_identity,\n",
    "                                \"stereo_antistereo\": \"stereo\" })\n",
    "\n",
    "\n",
    "    data_religion_Mar = pd.DataFrame({\"Toxic_sent\": UK_Mar_religion_toxic_sent,\n",
    "                               \"Non_Toxic_sent\": UK_Mar_religion_non_toxic_sent,\n",
    "                                \"bias_type\": UK_Mar_religion_bias_type_and_direction,\n",
    "                             \"identity\": UK_Mar_religion_identity,\n",
    "                                \"stereo_antistereo\": \"stereo\" })\n",
    "\n",
    "    data_religion_Non_Mar = pd.DataFrame({\"Toxic_sent\": UK_Non_Mar_religion_toxic_sent,\n",
    "                               \"Non_Toxic_sent\": UK_Non_Mar_religion_non_toxic_sent,\n",
    "                                \"bias_type\": UK_non_Mar_religion_bias_type_and_direction,\n",
    "                             \"identity\": UK_Non_Mar_religion_identity,\n",
    "                                \"stereo_antistereo\": \"stereo\" })\n",
    "\n",
    "    data_social_class_Mar = pd.DataFrame({\"Toxic_sent\": UK_Mar_SC_toxic_sent,\n",
    "                               \"Non_Toxic_sent\": UK_Mar_SC_non_toxic_sent,\n",
    "                                \"bias_type\": UK_Mar_SC_bias_type_and_direction,\n",
    "                             \"identity\": UK_Mar_SC_identity,\n",
    "                                \"stereo_antistereo\": \"stereo\" })\n",
    "\n",
    "\n",
    "    data_social_class_Non_Mar = pd.DataFrame({\"Toxic_sent\": UK_Non_Mar_SC_toxic_sent,\n",
    "                               \"Non_Toxic_sent\": UK_Non_Mar_SC_non_toxic_sent,\n",
    "                                \"bias_type\": UK_non_Mar_SC_bias_type_and_direction,\n",
    "                             \"identity\": UK_Non_Mar_SC_identity,\n",
    "                                \"stereo_antistereo\": \"stereo\" })\n",
    "\n",
    "    data_disability_Mar = pd.DataFrame({\"Toxic_sent\": UK_Mar_disability_toxic_sent,\n",
    "                               \"Non_Toxic_sent\": UK_Mar_disability_non_toxic_sent,\n",
    "                                \"bias_type\": UK_Mar_disability_bias_type_and_direction,\n",
    "                             \"identity\": UK_Mar_disability_identity,\n",
    "                                \"stereo_antistereo\": \"stereo\" })\n",
    "\n",
    "    data_disability_Non_Mar = pd.DataFrame({\"Toxic_sent\": UK_Non_Mar_disability_toxic_sent,\n",
    "                               \"Non_Toxic_sent\": UK_Non_Mar_disability_non_toxic_sent,\n",
    "                                \"bias_type\": UK_non_Mar_disability_bias_type_and_direction,\n",
    "                             \"identity\": UK_Non_Mar_disability_identity,\n",
    "                                \"stereo_antistereo\": \"stereo\" })\n",
    "\n",
    "    SOS_UK_data = pd.concat([data_SO_Mar, data_SO_Non_Mar,\n",
    "                         data_gender_Mar, data_gender_Non_Mar,\n",
    "                         data_race_Mar, data_race_Non_Mar,\n",
    "                         data_religion_Mar, data_religion_Non_Mar,\n",
    "                         data_social_class_Mar, data_social_class_Non_Mar,\n",
    "                         data_disability_Mar, data_disability_Non_Mar])\n",
    "\n",
    "    print(len(SOS_UK_data))\n",
    "    return SOS_UK_data"
   ],
   "metadata": {
    "collapsed": false,
    "ExecuteTime": {
     "end_time": "2024-10-07T18:17:17.628090Z",
     "start_time": "2024-10-07T18:17:17.619124Z"
    }
   },
   "id": "5d2143cddaa6f279",
   "outputs": [],
   "execution_count": 3
  },
  {
   "cell_type": "code",
   "source": [
    "UK_identity_terms = pd.read_csv(\"English_temp_and_identities/UK_identities/UK_idenity_groups.csv\")\n",
    "\n",
    "US_identity_terms = pd.read_csv(\"English_temp_and_identities/US_identities/US_idenity_groups.csv\")\n",
    "\n",
    "Arabic_male_identities = pd.read_csv(\"Arabic_temp_and_identities/Arabic_identities/Identities_Male.csv\")\n",
    "\n",
    "Arabic_female_identities = pd.read_csv(\"Arabic_temp_and_identities/Arabic_identities/Identities_Female.csv\")\n",
    "\n",
    "Egyptian_Arabic_male_identities = pd.read_csv(\"Arabic_temp_and_identities/Arabic_identities/Egyptian_Identities_Male.csv\")\n",
    "\n",
    "Egyptian_Arabic_female_identities = pd.read_csv(\"Arabic_temp_and_identities/Arabic_identities/Egyptian_Identities_Female.csv\")\n"
   ],
   "metadata": {
    "collapsed": false,
    "ExecuteTime": {
     "end_time": "2024-10-07T18:17:17.682112Z",
     "start_time": "2024-10-07T18:17:17.675610Z"
    }
   },
   "id": "ac4c929e535475b5",
   "outputs": [],
   "execution_count": 4
  },
  {
   "cell_type": "code",
   "source": [
    "English_temp = pd.read_csv(\"English_temp_and_identities/SOS_bias_en_temp.csv\" )\n",
    "\n",
    "Arabic_Male_temp = pd.read_csv(\"Arabic_temp_and_identities/Toxic_and_non_toxic_arabic_male.csv\")\n",
    "\n",
    "Arabic_Female_temp = pd.read_csv(\"Arabic_temp_and_identities/Toxic_and_non_toxic_arabic_female.csv\")\n",
    "\n",
    "Egyptian_Arabic_Male_temp = pd.read_csv(\"Arabic_temp_and_identities/Toxic_and_non_toxic_Egyptian_arabic_male.csv\")\n",
    "\n",
    "Egyptian_Arabic_Female_temp = pd.read_csv(\"Arabic_temp_and_identities/Toxic_and_non_toxic_Egyptian_Arabic_female.csv\")"
   ],
   "metadata": {
    "collapsed": false,
    "ExecuteTime": {
     "end_time": "2024-10-07T18:17:17.752620Z",
     "start_time": "2024-10-07T18:17:17.747693Z"
    }
   },
   "id": "79ea627a3752838b",
   "outputs": [],
   "execution_count": 5
  },
  {
   "cell_type": "code",
   "source": [
    "'''UK template formation'''\n",
    "UK_SOS_data = create_sentence_temp_dataframe(English_temp, UK_identity_terms)\n"
   ],
   "metadata": {
    "collapsed": false,
    "ExecuteTime": {
     "end_time": "2024-10-07T18:17:17.818106Z",
     "start_time": "2024-10-07T18:17:17.804019Z"
    }
   },
   "id": "9841c90e700a09d7",
   "outputs": [
    {
     "name": "stdout",
     "output_type": "stream",
     "text": [
      "592\n",
      "592\n",
      "592\n",
      "592\n",
      "518\n",
      "518\n",
      "518\n",
      "518\n",
      "4773\n"
     ]
    }
   ],
   "execution_count": 6
  },
  {
   "cell_type": "code",
   "source": [
    "'''US template formation'''\n",
    "US_SOS_data = create_sentence_temp_dataframe(English_temp, US_identity_terms)\n"
   ],
   "metadata": {
    "collapsed": false,
    "ExecuteTime": {
     "end_time": "2024-10-07T18:17:17.845993Z",
     "start_time": "2024-10-07T18:17:17.837511Z"
    }
   },
   "id": "fa0dc9c420f06a1f",
   "outputs": [
    {
     "name": "stdout",
     "output_type": "stream",
     "text": [
      "592\n",
      "592\n",
      "592\n",
      "592\n",
      "518\n",
      "518\n",
      "518\n",
      "518\n",
      "4440\n"
     ]
    }
   ],
   "execution_count": 7
  },
  {
   "cell_type": "code",
   "source": [
    "'''Arabic_male'''\n",
    "Arabic_Mascline_SOS_data = create_sentence_temp_dataframe(Arabic_Male_temp, Arabic_male_identities)"
   ],
   "metadata": {
    "collapsed": false,
    "ExecuteTime": {
     "end_time": "2024-10-07T18:17:18.359505Z",
     "start_time": "2024-10-07T18:17:17.866774Z"
    }
   },
   "id": "a172ee3d27d55836",
   "outputs": [
    {
     "ename": "KeyError",
     "evalue": "'attribute'",
     "output_type": "error",
     "traceback": [
      "\u001B[0;31m---------------------------------------------------------------------------\u001B[0m",
      "\u001B[0;31mKeyError\u001B[0m                                  Traceback (most recent call last)",
      "File \u001B[0;32m~/Dropbox/Tensorbook/Measure_SOS_Bias_in_different_langugaes/venv/lib/python3.10/site-packages/pandas/core/indexes/base.py:3805\u001B[0m, in \u001B[0;36mIndex.get_loc\u001B[0;34m(self, key)\u001B[0m\n\u001B[1;32m   3804\u001B[0m \u001B[38;5;28;01mtry\u001B[39;00m:\n\u001B[0;32m-> 3805\u001B[0m     \u001B[38;5;28;01mreturn\u001B[39;00m \u001B[38;5;28;43mself\u001B[39;49m\u001B[38;5;241;43m.\u001B[39;49m\u001B[43m_engine\u001B[49m\u001B[38;5;241;43m.\u001B[39;49m\u001B[43mget_loc\u001B[49m\u001B[43m(\u001B[49m\u001B[43mcasted_key\u001B[49m\u001B[43m)\u001B[49m\n\u001B[1;32m   3806\u001B[0m \u001B[38;5;28;01mexcept\u001B[39;00m \u001B[38;5;167;01mKeyError\u001B[39;00m \u001B[38;5;28;01mas\u001B[39;00m err:\n",
      "File \u001B[0;32mindex.pyx:167\u001B[0m, in \u001B[0;36mpandas._libs.index.IndexEngine.get_loc\u001B[0;34m()\u001B[0m\n",
      "File \u001B[0;32mindex.pyx:196\u001B[0m, in \u001B[0;36mpandas._libs.index.IndexEngine.get_loc\u001B[0;34m()\u001B[0m\n",
      "File \u001B[0;32mpandas/_libs/hashtable_class_helper.pxi:7081\u001B[0m, in \u001B[0;36mpandas._libs.hashtable.PyObjectHashTable.get_item\u001B[0;34m()\u001B[0m\n",
      "File \u001B[0;32mpandas/_libs/hashtable_class_helper.pxi:7089\u001B[0m, in \u001B[0;36mpandas._libs.hashtable.PyObjectHashTable.get_item\u001B[0;34m()\u001B[0m\n",
      "\u001B[0;31mKeyError\u001B[0m: 'attribute'",
      "\nThe above exception was the direct cause of the following exception:\n",
      "\u001B[0;31mKeyError\u001B[0m                                  Traceback (most recent call last)",
      "Cell \u001B[0;32mIn[8], line 2\u001B[0m\n\u001B[1;32m      1\u001B[0m \u001B[38;5;124;03m'''Arabic_male'''\u001B[39;00m\n\u001B[0;32m----> 2\u001B[0m Arabic_Mascline_SOS_data \u001B[38;5;241m=\u001B[39m \u001B[43mcreate_sentence_temp_dataframe\u001B[49m\u001B[43m(\u001B[49m\u001B[43mArabic_Male_temp\u001B[49m\u001B[43m,\u001B[49m\u001B[43m \u001B[49m\u001B[43mArabic_male_identities\u001B[49m\u001B[43m)\u001B[49m\n",
      "Cell \u001B[0;32mIn[3], line 3\u001B[0m, in \u001B[0;36mcreate_sentence_temp_dataframe\u001B[0;34m(English_temp, UK_identity_terms)\u001B[0m\n\u001B[1;32m      1\u001B[0m \u001B[38;5;28;01mdef\u001B[39;00m \u001B[38;5;21mcreate_sentence_temp_dataframe\u001B[39m(English_temp, UK_identity_terms):\n\u001B[1;32m      2\u001B[0m     \u001B[38;5;66;03m#Gender\u001B[39;00m\n\u001B[0;32m----> 3\u001B[0m     UK_Mar_gender_toxic_sent, UK_Mar_gender_non_toxic_sent, UK_Mar_gender_bias_type_and_direction, UK_Mar_gender_identity \u001B[38;5;241m=\u001B[39m create_temp_identity(English_temp[\u001B[38;5;124m\"\u001B[39m\u001B[38;5;124mtoxic\u001B[39m\u001B[38;5;124m\"\u001B[39m], English_temp[\u001B[38;5;124m\"\u001B[39m\u001B[38;5;124mnon-toxic\u001B[39m\u001B[38;5;124m\"\u001B[39m], UK_identity_terms[\u001B[43mUK_identity_terms\u001B[49m\u001B[43m[\u001B[49m\u001B[38;5;124;43m\"\u001B[39;49m\u001B[38;5;124;43mattribute\u001B[39;49m\u001B[38;5;124;43m\"\u001B[39;49m\u001B[43m]\u001B[49m\u001B[38;5;241m==\u001B[39m\u001B[38;5;124m\"\u001B[39m\u001B[38;5;124mGender\u001B[39m\u001B[38;5;124m\"\u001B[39m][\u001B[38;5;124m\"\u001B[39m\u001B[38;5;124mMarginalized\u001B[39m\u001B[38;5;124m\"\u001B[39m]\u001B[38;5;241m.\u001B[39mto_list()[\u001B[38;5;241m0\u001B[39m],\n\u001B[1;32m      4\u001B[0m     \u001B[38;5;124m\"\u001B[39m\u001B[38;5;124mGender_Marginalized\u001B[39m\u001B[38;5;124m\"\u001B[39m)\n\u001B[1;32m      6\u001B[0m     \u001B[38;5;28mprint\u001B[39m(\u001B[38;5;28mlen\u001B[39m(UK_Mar_gender_toxic_sent))\n\u001B[1;32m      7\u001B[0m     \u001B[38;5;28mprint\u001B[39m(\u001B[38;5;28mlen\u001B[39m(UK_Mar_gender_non_toxic_sent))\n",
      "File \u001B[0;32m~/Dropbox/Tensorbook/Measure_SOS_Bias_in_different_langugaes/venv/lib/python3.10/site-packages/pandas/core/frame.py:4102\u001B[0m, in \u001B[0;36mDataFrame.__getitem__\u001B[0;34m(self, key)\u001B[0m\n\u001B[1;32m   4100\u001B[0m \u001B[38;5;28;01mif\u001B[39;00m \u001B[38;5;28mself\u001B[39m\u001B[38;5;241m.\u001B[39mcolumns\u001B[38;5;241m.\u001B[39mnlevels \u001B[38;5;241m>\u001B[39m \u001B[38;5;241m1\u001B[39m:\n\u001B[1;32m   4101\u001B[0m     \u001B[38;5;28;01mreturn\u001B[39;00m \u001B[38;5;28mself\u001B[39m\u001B[38;5;241m.\u001B[39m_getitem_multilevel(key)\n\u001B[0;32m-> 4102\u001B[0m indexer \u001B[38;5;241m=\u001B[39m \u001B[38;5;28;43mself\u001B[39;49m\u001B[38;5;241;43m.\u001B[39;49m\u001B[43mcolumns\u001B[49m\u001B[38;5;241;43m.\u001B[39;49m\u001B[43mget_loc\u001B[49m\u001B[43m(\u001B[49m\u001B[43mkey\u001B[49m\u001B[43m)\u001B[49m\n\u001B[1;32m   4103\u001B[0m \u001B[38;5;28;01mif\u001B[39;00m is_integer(indexer):\n\u001B[1;32m   4104\u001B[0m     indexer \u001B[38;5;241m=\u001B[39m [indexer]\n",
      "File \u001B[0;32m~/Dropbox/Tensorbook/Measure_SOS_Bias_in_different_langugaes/venv/lib/python3.10/site-packages/pandas/core/indexes/base.py:3812\u001B[0m, in \u001B[0;36mIndex.get_loc\u001B[0;34m(self, key)\u001B[0m\n\u001B[1;32m   3807\u001B[0m     \u001B[38;5;28;01mif\u001B[39;00m \u001B[38;5;28misinstance\u001B[39m(casted_key, \u001B[38;5;28mslice\u001B[39m) \u001B[38;5;129;01mor\u001B[39;00m (\n\u001B[1;32m   3808\u001B[0m         \u001B[38;5;28misinstance\u001B[39m(casted_key, abc\u001B[38;5;241m.\u001B[39mIterable)\n\u001B[1;32m   3809\u001B[0m         \u001B[38;5;129;01mand\u001B[39;00m \u001B[38;5;28many\u001B[39m(\u001B[38;5;28misinstance\u001B[39m(x, \u001B[38;5;28mslice\u001B[39m) \u001B[38;5;28;01mfor\u001B[39;00m x \u001B[38;5;129;01min\u001B[39;00m casted_key)\n\u001B[1;32m   3810\u001B[0m     ):\n\u001B[1;32m   3811\u001B[0m         \u001B[38;5;28;01mraise\u001B[39;00m InvalidIndexError(key)\n\u001B[0;32m-> 3812\u001B[0m     \u001B[38;5;28;01mraise\u001B[39;00m \u001B[38;5;167;01mKeyError\u001B[39;00m(key) \u001B[38;5;28;01mfrom\u001B[39;00m \u001B[38;5;21;01merr\u001B[39;00m\n\u001B[1;32m   3813\u001B[0m \u001B[38;5;28;01mexcept\u001B[39;00m \u001B[38;5;167;01mTypeError\u001B[39;00m:\n\u001B[1;32m   3814\u001B[0m     \u001B[38;5;66;03m# If we have a listlike key, _check_indexing_error will raise\u001B[39;00m\n\u001B[1;32m   3815\u001B[0m     \u001B[38;5;66;03m#  InvalidIndexError. Otherwise we fall through and re-raise\u001B[39;00m\n\u001B[1;32m   3816\u001B[0m     \u001B[38;5;66;03m#  the TypeError.\u001B[39;00m\n\u001B[1;32m   3817\u001B[0m     \u001B[38;5;28mself\u001B[39m\u001B[38;5;241m.\u001B[39m_check_indexing_error(key)\n",
      "\u001B[0;31mKeyError\u001B[0m: 'attribute'"
     ]
    }
   ],
   "execution_count": 8
  },
  {
   "cell_type": "code",
   "source": [
    "'''Arabic_Female'''\n",
    "Arabic_Feminine_SOS_data = create_sentence_temp_dataframe(Arabic_Female_temp, Arabic_female_identities)"
   ],
   "metadata": {
    "collapsed": false,
    "ExecuteTime": {
     "end_time": "2024-10-07T18:17:18.363012392Z",
     "start_time": "2024-10-07T17:43:34.170373Z"
    }
   },
   "id": "227d050ef8cd7f40",
   "outputs": [
    {
     "name": "stdout",
     "output_type": "stream",
     "text": [
      "630\n",
      "630\n",
      "630\n",
      "630\n",
      "525\n",
      "525\n",
      "525\n",
      "525\n",
      "4690\n"
     ]
    }
   ],
   "execution_count": 9
  },
  {
   "metadata": {
    "ExecuteTime": {
     "end_time": "2024-10-07T18:17:18.363180197Z",
     "start_time": "2024-10-07T17:43:34.202753Z"
    }
   },
   "cell_type": "code",
   "source": [
    "'''Egyptian Arabic_male'''\n",
    "Egyptian_Arabic_Mascline_SOS_data = create_sentence_temp_dataframe(Egyptian_Arabic_Male_temp, Egyptian_Arabic_male_identities)"
   ],
   "id": "a0d6b951f35873b1",
   "outputs": [
    {
     "name": "stdout",
     "output_type": "stream",
     "text": [
      "684\n",
      "684\n",
      "684\n",
      "684\n",
      "570\n",
      "570\n",
      "570\n",
      "570\n",
      "3838\n"
     ]
    }
   ],
   "execution_count": 10
  },
  {
   "metadata": {
    "ExecuteTime": {
     "end_time": "2024-10-07T18:17:18.363301020Z",
     "start_time": "2024-10-07T17:43:34.235527Z"
    }
   },
   "cell_type": "code",
   "source": [
    "'''Egyptian Arabic_Female'''\n",
    "Egyptian_Arabic_Feminine_SOS_data = create_sentence_temp_dataframe(Egyptian_Arabic_Female_temp, Egyptian_Arabic_female_identities)"
   ],
   "id": "78cadb138ec865ff",
   "outputs": [
    {
     "name": "stdout",
     "output_type": "stream",
     "text": [
      "684\n",
      "684\n",
      "684\n",
      "684\n",
      "570\n",
      "570\n",
      "570\n",
      "570\n",
      "3838\n"
     ]
    }
   ],
   "execution_count": 11
  },
  {
   "metadata": {
    "ExecuteTime": {
     "end_time": "2024-10-07T18:17:18.363418996Z",
     "start_time": "2024-10-07T17:43:34.266653Z"
    }
   },
   "cell_type": "code",
   "source": [
    "'''To make sure that the word is matching hte sentence format, we remove the female sentene strcture with male words and the other way around words'''\n",
    "Arabic_Mascline_SOS_data = Arabic_Mascline_SOS_data[Arabic_Mascline_SOS_data[\"bias_type\"]!=\"Gender_Marginalized\"]\n",
    "Arabic_Feminine_SOS_data = Arabic_Feminine_SOS_data[Arabic_Feminine_SOS_data[\"bias_type\"] !=\"Gender_Non_marginalized\"]"
   ],
   "id": "f1c93061d8b0fef9",
   "outputs": [],
   "execution_count": 12
  },
  {
   "metadata": {
    "ExecuteTime": {
     "end_time": "2024-10-07T18:17:18.363502764Z",
     "start_time": "2024-10-07T17:43:34.291362Z"
    }
   },
   "cell_type": "code",
   "source": [
    "'''To make sure that the word is matching hte sentence format, we remove the female sentene strcture with male words and the other way around words'''\n",
    "Egyptian_Arabic_Mascline_SOS_data = Egyptian_Arabic_Mascline_SOS_data[Egyptian_Arabic_Mascline_SOS_data[\"bias_type\"] !=\"Gender_Marginalized\"]\n",
    "Egyptian_Arabic_Feminine_SOS_data = Egyptian_Arabic_Feminine_SOS_data[Egyptian_Arabic_Feminine_SOS_data[\"bias_type\"] !=\"Gender_Non_marginalized\"]"
   ],
   "id": "161e623ab738ec24",
   "outputs": [],
   "execution_count": 13
  },
  {
   "cell_type": "code",
   "source": [
    "UK_SOS_data.to_csv(\"Dataset_for_Logliklihood/Final_SOS_data_in_different_languages/UK_SOS_data.csv\", index=False)\n",
    "US_SOS_data.to_csv(\"Dataset_for_Logliklihood/Final_SOS_data_in_different_languages/US_SOS_data.csv\", index=False)\n"
   ],
   "metadata": {
    "collapsed": false,
    "ExecuteTime": {
     "end_time": "2024-10-07T18:17:18.363630892Z",
     "start_time": "2024-10-07T17:43:34.315629Z"
    }
   },
   "id": "1371755b3a6b31c8",
   "outputs": [],
   "execution_count": 14
  },
  {
   "cell_type": "code",
   "source": [
    "Arabic_Mascline_SOS_data.to_csv(\"Dataset_for_Logliklihood/Final_SOS_data_in_different_languages/Arabic_Mascline_SOS_data.csv\", index=False)\n",
    "Arabic_Feminine_SOS_data.to_csv(\"Dataset_for_Logliklihood/Final_SOS_data_in_different_languages/Arabic_Feminine_SOS_data.csv\", index=False)"
   ],
   "metadata": {
    "collapsed": false,
    "ExecuteTime": {
     "end_time": "2024-10-07T18:17:18.363734664Z",
     "start_time": "2024-10-07T17:43:34.352412Z"
    }
   },
   "id": "8f3d8e0638485525",
   "outputs": [],
   "execution_count": 15
  },
  {
   "cell_type": "code",
   "source": [
    "Egyptian_Arabic_Mascline_SOS_data.to_csv(\"Dataset_for_Logliklihood/Final_SOS_data_in_different_languages/Egyptian_arabic_Mascline_SOS_data.csv\", index=False)\n",
    "Egyptian_Arabic_Feminine_SOS_data.to_csv(\"Dataset_for_Logliklihood/Final_SOS_data_in_different_languages/Egyptian_arabic_Feminine_SOS_data.csv\", index=False)"
   ],
   "metadata": {
    "collapsed": false,
    "ExecuteTime": {
     "end_time": "2024-10-07T18:17:18.363837459Z",
     "start_time": "2024-10-07T17:43:34.386679Z"
    }
   },
   "id": "3feb4d999c8bc920",
   "outputs": [],
   "execution_count": 16
  },
  {
   "metadata": {
    "ExecuteTime": {
     "end_time": "2024-10-07T18:17:18.363937623Z",
     "start_time": "2024-10-07T17:43:34.420697Z"
    }
   },
   "cell_type": "code",
   "source": "",
   "id": "72c88a5dfd1a47eb",
   "outputs": [],
   "execution_count": null
  },
  {
   "metadata": {
    "ExecuteTime": {
     "end_time": "2024-10-07T18:17:18.364011865Z",
     "start_time": "2024-10-07T17:43:34.443417Z"
    }
   },
   "cell_type": "code",
   "source": "",
   "id": "bcaa52d5e634fbb0",
   "outputs": [],
   "execution_count": null
  }
 ],
 "metadata": {
  "kernelspec": {
   "display_name": "Python 3",
   "language": "python",
   "name": "python3"
  },
  "language_info": {
   "codemirror_mode": {
    "name": "ipython",
    "version": 2
   },
   "file_extension": ".py",
   "mimetype": "text/x-python",
   "name": "python",
   "nbconvert_exporter": "python",
   "pygments_lexer": "ipython2",
   "version": "2.7.6"
  }
 },
 "nbformat": 4,
 "nbformat_minor": 5
}
