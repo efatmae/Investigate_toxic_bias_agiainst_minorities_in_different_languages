{
 "cells": [
  {
   "cell_type": "code",
   "id": "initial_id",
   "metadata": {
    "collapsed": true,
    "ExecuteTime": {
     "end_time": "2024-12-05T12:14:14.948934Z",
     "start_time": "2024-12-05T12:14:14.666991Z"
    }
   },
   "source": [
    "import pandas as pd"
   ],
   "outputs": [
    {
     "name": "stderr",
     "output_type": "stream",
     "text": [
      "/var/folders/x3/1y_5ght92yzbk007v60qj2k40000gn/T/ipykernel_46089/2035458946.py:1: DeprecationWarning: \n",
      "Pyarrow will become a required dependency of pandas in the next major release of pandas (pandas 3.0),\n",
      "(to allow more performant data types, such as the Arrow string type, and better interoperability with other libraries)\n",
      "but was not found to be installed on your system.\n",
      "If this would cause problems for you,\n",
      "please provide us feedback at https://github.com/pandas-dev/pandas/issues/54466\n",
      "        \n",
      "  import pandas as pd\n"
     ]
    }
   ],
   "execution_count": 1
  },
  {
   "metadata": {
    "ExecuteTime": {
     "end_time": "2024-12-05T12:14:14.954701Z",
     "start_time": "2024-12-05T12:14:14.950702Z"
    }
   },
   "cell_type": "code",
   "source": [
    "def count_hallucinations_extract_generated_results(df,generated_text_col,instruction_lang):\n",
    "    hallucination_flag = []\n",
    "    actual_label = []\n",
    "    for index, row in df.iterrows(): \n",
    "        new_outcome = row[generated_text_col]\n",
    "        if \"Yes\" in new_outcome or \"No\" in new_outcome or \"لا\" in new_outcome or \"نعم\" in new_outcome or \"Nein\" in new_outcome or \"Ja\" in new_outcome or \"hateful\" in new_outcome or \"كراهية\" in new_outcome or \"hasserfüllt\" in new_outcome:\n",
    "            hallucination_flag.append(\"No-Hallucination\")\n",
    "            if \"Yes\" in new_outcome or \"نعم\" in new_outcome or \"Ja\" in new_outcome or \"hateful\" in new_outcome or \"كراهية\" in new_outcome or \"hasserfüllt\" in new_outcome:\n",
    "                actual_label.append(1)\n",
    "            else:\n",
    "                actual_label.append(0)\n",
    "        else:\n",
    "            hallucination_flag.append(\"Hallucination\")\n",
    "            actual_label.append(-1)\n",
    "\n",
    "    df [\"Hallucination\"] = hallucination_flag\n",
    "    df [\"actual_model_prediction\"] = actual_label\n",
    "    return df"
   ],
   "id": "b891cdae29fc6252",
   "outputs": [],
   "execution_count": 2
  },
  {
   "metadata": {
    "ExecuteTime": {
     "end_time": "2024-12-05T12:14:14.958332Z",
     "start_time": "2024-12-05T12:14:14.953812Z"
    }
   },
   "cell_type": "code",
   "source": [
    "Model_name = \"Flan-T5\"\n",
    "prediction_col_name = \"flan-t5-base_HGL\""
   ],
   "id": "cbcc32feaafdf284",
   "outputs": [],
   "execution_count": 3
  },
  {
   "metadata": {
    "ExecuteTime": {
     "end_time": "2024-12-05T12:14:14.981277Z",
     "start_time": "2024-12-05T12:14:14.957933Z"
    }
   },
   "cell_type": "code",
   "source": [
    "female_englsih_results = pd.read_csv(\"../../English_LMs/US/Encoder-Decoder/\"+Model_name+\"/Female_IFM_HSD_\"+Model_name+\"_English_instructions.csv\")\n",
    "\n",
    "male_englsih_results = pd.read_csv(\"../../English_LMs/US/Encoder-Decoder/\"+Model_name+\"/Male_IFM_HSD_\"+Model_name+\"_English_instructions.csv\")\n",
    "\n",
    "NB_englsih_results = pd.read_csv(\"../../English_LMs/US/Encoder-Decoder/\"+Model_name+\"/Non_Binary_IFM_HSD_\"+Model_name+\"_English_instructions.csv\")"
   ],
   "id": "5e1a6ea5d7c42cbf",
   "outputs": [],
   "execution_count": 4
  },
  {
   "metadata": {
    "ExecuteTime": {
     "end_time": "2024-12-05T12:14:15.241073Z",
     "start_time": "2024-12-05T12:14:14.983552Z"
    }
   },
   "cell_type": "code",
   "source": [
    "female_englsih_results = count_hallucinations_extract_generated_results(female_englsih_results, prediction_col_name, \"English\")\n",
    "\n",
    "male_englsih_results = count_hallucinations_extract_generated_results(male_englsih_results, prediction_col_name, \"English\")\n",
    "\n",
    "NB_englsih_results = count_hallucinations_extract_generated_results(NB_englsih_results, prediction_col_name, \"English\")"
   ],
   "id": "31482d905e68f4d2",
   "outputs": [],
   "execution_count": 5
  },
  {
   "metadata": {
    "ExecuteTime": {
     "end_time": "2024-12-05T12:14:15.276553Z",
     "start_time": "2024-12-05T12:14:15.242114Z"
    }
   },
   "cell_type": "code",
   "source": [
    "female_englsih_results.to_csv(\"./Clean_results/\"+Model_name+\"/Female_IFM_HSD_\"+Model_name+\"_english_instructions.csv\", index=False)\n",
    "\n",
    "male_englsih_results.to_csv(\"./Clean_results/\"+Model_name+\"/Male_IFM_HSD_\"+Model_name+\"_english_instructions.csv\", index=False)\n",
    "\n",
    "NB_englsih_results.to_csv(\"./Clean_results/\"+Model_name+\"/NB_IFM_HSD_\"+Model_name+\"_english_instructions.csv\", index=False)"
   ],
   "id": "22e415d56d6652a0",
   "outputs": [],
   "execution_count": 6
  },
  {
   "metadata": {
    "ExecuteTime": {
     "end_time": "2024-12-05T12:14:15.278749Z",
     "start_time": "2024-12-05T12:14:15.276684Z"
    }
   },
   "cell_type": "code",
   "outputs": [],
   "execution_count": 6,
   "source": [],
   "id": "aa8bca97cf9e5840"
  }
 ],
 "metadata": {
  "kernelspec": {
   "display_name": "Python 3",
   "language": "python",
   "name": "python3"
  },
  "language_info": {
   "codemirror_mode": {
    "name": "ipython",
    "version": 2
   },
   "file_extension": ".py",
   "mimetype": "text/x-python",
   "name": "python",
   "nbconvert_exporter": "python",
   "pygments_lexer": "ipython2",
   "version": "2.7.6"
  }
 },
 "nbformat": 4,
 "nbformat_minor": 5
}
