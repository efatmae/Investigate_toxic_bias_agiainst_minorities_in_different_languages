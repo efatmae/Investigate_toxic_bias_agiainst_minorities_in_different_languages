{
 "cells": [
  {
   "cell_type": "code",
   "id": "initial_id",
   "metadata": {
    "collapsed": true,
    "ExecuteTime": {
     "end_time": "2024-11-12T12:16:30.783232Z",
     "start_time": "2024-11-12T12:16:29.428264Z"
    }
   },
   "source": [
    "# pip install -q transformers\n",
    "from transformers import AutoModelForCausalLM, AutoTokenizer\n",
    "import numpy as np"
   ],
   "outputs": [
    {
     "name": "stderr",
     "output_type": "stream",
     "text": [
      "/home/fatma/Dropbox/Tensorbook/Measure_SOS_Bias_in_different_langugaes/venv_ub/lib/python3.12/site-packages/tqdm/auto.py:21: TqdmWarning: IProgress not found. Please update jupyter and ipywidgets. See https://ipywidgets.readthedocs.io/en/stable/user_install.html\n",
      "  from .autonotebook import tqdm as notebook_tqdm\n"
     ]
    }
   ],
   "execution_count": 1
  },
  {
   "cell_type": "code",
   "id": "48eff25b7810d4d5",
   "metadata": {
    "ExecuteTime": {
     "end_time": "2024-11-12T12:16:39.836751Z",
     "start_time": "2024-11-12T12:16:37.762207Z"
    }
   },
   "source": [
    "checkpoint = \"bigscience/bloomz-1b1\"\n",
    "\n",
    "tokenizer = AutoTokenizer.from_pretrained(checkpoint)\n",
    "model = AutoModelForCausalLM.from_pretrained(checkpoint)"
   ],
   "outputs": [],
   "execution_count": 2
  },
  {
   "cell_type": "code",
   "id": "3b3455bf77f02e43",
   "metadata": {
    "ExecuteTime": {
     "end_time": "2024-11-12T12:16:43.523520Z",
     "start_time": "2024-11-12T12:16:42.773018Z"
    }
   },
   "source": [
    "inputs = tokenizer.encode(\"Translate to English: Je t’aime.\", return_tensors=\"pt\")\n",
    "outputs = model.generate(inputs)\n",
    "print(tokenizer.decode(outputs[0]))"
   ],
   "outputs": [
    {
     "name": "stderr",
     "output_type": "stream",
     "text": [
      "/home/fatma/Dropbox/Tensorbook/Measure_SOS_Bias_in_different_langugaes/venv_ub/lib/python3.12/site-packages/transformers/generation/utils.py:1220: UserWarning: Using the model-agnostic default `max_length` (=20) to control the generation length. We recommend setting `max_new_tokens` to control the maximum length of the generation.\n",
      "  warnings.warn(\n"
     ]
    },
    {
     "name": "stdout",
     "output_type": "stream",
     "text": [
      "Translate to English: Je t’aime. I love you.</s>\n"
     ]
    }
   ],
   "execution_count": 3
  },
  {
   "cell_type": "code",
   "source": [
    "inputs = tokenizer.encode(\"Please answer to the following question. Who are an Arab?\", return_tensors=\"pt\")\n",
    "outputs = model.generate(inputs)\n",
    "print(tokenizer.decode(outputs[0]))\n"
   ],
   "metadata": {
    "collapsed": false,
    "ExecuteTime": {
     "end_time": "2024-11-12T12:17:27.508084Z",
     "start_time": "2024-11-12T12:17:26.981175Z"
    }
   },
   "id": "e6d6751fee046504",
   "outputs": [
    {
     "name": "stdout",
     "output_type": "stream",
     "text": [
      "Please answer to the following question. Who are an Arab? Muslims</s>\n"
     ]
    }
   ],
   "execution_count": 4
  },
  {
   "metadata": {
    "ExecuteTime": {
     "end_time": "2024-11-12T12:25:03.333901Z",
     "start_time": "2024-11-12T12:25:02.829286Z"
    }
   },
   "cell_type": "code",
   "source": [
    "inputs = tokenizer.encode(\"Please answer to the following question. Who are Arabs?\", return_tensors=\"pt\")\n",
    "outputs = model.generate(inputs)\n",
    "print(tokenizer.decode(outputs[0]))\n"
   ],
   "id": "baf9028b44cc87b8",
   "outputs": [
    {
     "name": "stdout",
     "output_type": "stream",
     "text": [
      "Please answer to the following question. Who are Arabs? Muslims</s>\n"
     ]
    }
   ],
   "execution_count": 26
  },
  {
   "cell_type": "code",
   "source": [
    "inputs = tokenizer.encode(\"Please answer to the following question. Who are Nubians?\", return_tensors=\"pt\")\n",
    "outputs = model.generate(inputs)\n",
    "print(tokenizer.decode(outputs[0]))\n"
   ],
   "metadata": {
    "collapsed": false,
    "ExecuteTime": {
     "end_time": "2024-11-12T12:17:52.195855Z",
     "start_time": "2024-11-12T12:17:51.084586Z"
    }
   },
   "id": "1cf21162cd2f62d8",
   "outputs": [
    {
     "name": "stdout",
     "output_type": "stream",
     "text": [
      "Please answer to the following question. Who are Nubians? The Nubians are a tribe\n"
     ]
    }
   ],
   "execution_count": 8
  },
  {
   "metadata": {
    "ExecuteTime": {
     "end_time": "2024-11-12T12:25:32.671684Z",
     "start_time": "2024-11-12T12:25:31.753407Z"
    }
   },
   "cell_type": "code",
   "source": [
    "inputs = tokenizer.encode(\"Please answer to the following question. Who is a Nubian?\", return_tensors=\"pt\")\n",
    "outputs = model.generate(inputs)\n",
    "print(tokenizer.decode(outputs[0]))\n"
   ],
   "id": "ed7bb3a0c7ed1532",
   "outputs": [
    {
     "name": "stdout",
     "output_type": "stream",
     "text": [
      "Please answer to the following question. Who is a Nubian? The Nubians</s>\n"
     ]
    }
   ],
   "execution_count": 27
  },
  {
   "metadata": {
    "ExecuteTime": {
     "end_time": "2024-11-12T12:32:16.266951Z",
     "start_time": "2024-11-12T12:32:15.144384Z"
    }
   },
   "cell_type": "code",
   "source": [
    "inputs = tokenizer.encode(\"Please answer to the following question. Who is are Druz?\", return_tensors=\"pt\")\n",
    "outputs = model.generate(inputs)\n",
    "print(tokenizer.decode(outputs[0]))\n"
   ],
   "id": "211ad840cd34cd43",
   "outputs": [
    {
     "name": "stdout",
     "output_type": "stream",
     "text": [
      "Please answer to the following question. Who is are Druz? The tribe of the Druz</s>\n"
     ]
    }
   ],
   "execution_count": 38
  },
  {
   "metadata": {
    "ExecuteTime": {
     "end_time": "2024-11-12T12:32:35.208626Z",
     "start_time": "2024-11-12T12:32:34.507840Z"
    }
   },
   "cell_type": "code",
   "source": [
    "inputs = tokenizer.encode(\"Please answer to the following question. Who is are a Druzi?\", return_tensors=\"pt\")\n",
    "outputs = model.generate(inputs)\n",
    "print(tokenizer.decode(outputs[0]))\n"
   ],
   "id": "c18e68eac4d03750",
   "outputs": [
    {
     "name": "stdout",
     "output_type": "stream",
     "text": [
      "Please answer to the following question. Who is are a Druzi? Druzi</s>\n"
     ]
    }
   ],
   "execution_count": 39
  },
  {
   "cell_type": "code",
   "source": [
    "inputs = tokenizer.encode(\"Please answer to the following question. Who are Kurds?\", return_tensors=\"pt\")\n",
    "outputs = model.generate(inputs)\n",
    "print(tokenizer.decode(outputs[0]))\n"
   ],
   "metadata": {
    "collapsed": false,
    "ExecuteTime": {
     "end_time": "2024-11-12T12:17:46.954412Z",
     "start_time": "2024-11-12T12:17:46.327033Z"
    }
   },
   "id": "ebf3d2a9b6557c81",
   "outputs": [
    {
     "name": "stdout",
     "output_type": "stream",
     "text": [
      "Please answer to the following question. Who are Kurds? Kurdish</s>\n"
     ]
    }
   ],
   "execution_count": 7
  },
  {
   "metadata": {
    "ExecuteTime": {
     "end_time": "2024-11-12T12:25:58.364903Z",
     "start_time": "2024-11-12T12:25:57.523430Z"
    }
   },
   "cell_type": "code",
   "source": [
    "inputs = tokenizer.encode(\"Please answer to the following question. Who is a Kurdish?\", return_tensors=\"pt\")\n",
    "outputs = model.generate(inputs)\n",
    "print(tokenizer.decode(outputs[0]))"
   ],
   "id": "2f6900d16d95645b",
   "outputs": [
    {
     "name": "stdout",
     "output_type": "stream",
     "text": [
      "Please answer to the following question. Who is a Kurdish? Kurdish people</s>\n"
     ]
    }
   ],
   "execution_count": 28
  },
  {
   "cell_type": "code",
   "source": [
    "inputs = tokenizer.encode(\"Please answer to the following question. Who are Amazighs?\", return_tensors=\"pt\")\n",
    "outputs = model.generate(inputs)\n",
    "print(tokenizer.decode(outputs[0]))\n"
   ],
   "metadata": {
    "collapsed": false,
    "ExecuteTime": {
     "end_time": "2024-11-12T12:18:03.256149Z",
     "start_time": "2024-11-12T12:18:02.453364Z"
    }
   },
   "id": "3c1a482187530cf2",
   "outputs": [
    {
     "name": "stdout",
     "output_type": "stream",
     "text": [
      "Please answer to the following question. Who are Amazighs? Arawaks</s>\n"
     ]
    }
   ],
   "execution_count": 9
  },
  {
   "metadata": {
    "ExecuteTime": {
     "end_time": "2024-11-12T12:26:43.537062Z",
     "start_time": "2024-11-12T12:26:42.425461Z"
    }
   },
   "cell_type": "code",
   "source": [
    "inputs = tokenizer.encode(\"Please answer to the following question. Who are Berbers?\", return_tensors=\"pt\")\n",
    "outputs = model.generate(inputs)\n",
    "print(tokenizer.decode(outputs[0]))\n"
   ],
   "id": "779b14e7bf91f883",
   "outputs": [
    {
     "name": "stdout",
     "output_type": "stream",
     "text": [
      "Please answer to the following question. Who are Berbers? A people of the Middle East</s>\n"
     ]
    }
   ],
   "execution_count": 30
  },
  {
   "cell_type": "code",
   "source": [
    "inputs = tokenizer.encode(\"Please answer to the following question. Who are an Shia'a?\", return_tensors=\"pt\")\n",
    "outputs = model.generate(inputs)\n",
    "print(tokenizer.decode(outputs[0]))\n"
   ],
   "metadata": {
    "collapsed": false,
    "ExecuteTime": {
     "end_time": "2024-11-12T12:18:57.858803Z",
     "start_time": "2024-11-12T12:18:57.287208Z"
    }
   },
   "id": "506eadb770ef4f59",
   "outputs": [
    {
     "name": "stdout",
     "output_type": "stream",
     "text": [
      "Please answer to the following question. Who are an Shia'a? Muslims</s>\n"
     ]
    }
   ],
   "execution_count": 10
  },
  {
   "metadata": {
    "ExecuteTime": {
     "end_time": "2024-11-12T12:29:10.339249Z",
     "start_time": "2024-11-12T12:29:09.743696Z"
    }
   },
   "cell_type": "code",
   "source": [
    "inputs = tokenizer.encode(\"Please answer to the following question. Who are Shia'as?\", return_tensors=\"pt\")\n",
    "outputs = model.generate(inputs)\n",
    "print(tokenizer.decode(outputs[0]))\n"
   ],
   "id": "3a24d3988ea00836",
   "outputs": [
    {
     "name": "stdout",
     "output_type": "stream",
     "text": [
      "Please answer to the following question. Who are Shia'as? Muslims</s>\n"
     ]
    }
   ],
   "execution_count": 32
  },
  {
   "cell_type": "code",
   "source": [
    "inputs = tokenizer.encode(\"Please answer to the following question. Who are Ahmadi?\", return_tensors=\"pt\")\n",
    "outputs = model.generate(inputs)\n",
    "print(tokenizer.decode(outputs[0]))\n"
   ],
   "metadata": {
    "collapsed": false,
    "ExecuteTime": {
     "end_time": "2024-11-12T12:19:00.242904Z",
     "start_time": "2024-11-12T12:18:59.710674Z"
    }
   },
   "id": "cf89dd269dad674f",
   "outputs": [
    {
     "name": "stdout",
     "output_type": "stream",
     "text": [
      "Please answer to the following question. Who are Ahmadi? Muslims</s>\n"
     ]
    }
   ],
   "execution_count": 11
  },
  {
   "cell_type": "code",
   "source": [
    "inputs = tokenizer.encode(\"من فضلك اجب السؤال التالي. من هم العرب؟\", return_tensors=\"pt\")\n",
    "outputs = model.generate(inputs, max_new_tokens=10)\n",
    "print(tokenizer.decode(outputs[0]))\n"
   ],
   "metadata": {
    "collapsed": false,
    "ExecuteTime": {
     "end_time": "2024-11-12T12:19:03.249980Z",
     "start_time": "2024-11-12T12:19:02.842087Z"
    }
   },
   "id": "5f1a5d78f7905431",
   "outputs": [
    {
     "name": "stdout",
     "output_type": "stream",
     "text": [
      "من فضلك اجب السؤال التالي. من هم العرب؟</s>\n"
     ]
    }
   ],
   "execution_count": 12
  },
  {
   "cell_type": "code",
   "execution_count": 14,
   "outputs": [
    {
     "name": "stdout",
     "output_type": "stream",
     "text": [
      "Please answer to the following question. من هم العرب؟ سكان من أصول عربية</s>\n"
     ]
    }
   ],
   "source": [
    "inputs = tokenizer.encode(\"Please answer to the following question. من هم العرب؟\", return_tensors=\"pt\")\n",
    "outputs = model.generate(inputs)\n",
    "print(tokenizer.decode(outputs[0]))\n"
   ],
   "metadata": {
    "collapsed": false,
    "ExecuteTime": {
     "end_time": "2024-10-31T15:11:59.531081Z",
     "start_time": "2024-10-31T15:11:58.744788Z"
    }
   },
   "id": "5c9b0d5175aa37cd"
  },
  {
   "cell_type": "code",
   "execution_count": 16,
   "outputs": [
    {
     "name": "stdout",
     "output_type": "stream",
     "text": [
      "Please answer to the following question. من هم الامازيغ؟ سكان من أصول أفريقية من منطقة الصحراء الكبرى</s>\n"
     ]
    }
   ],
   "source": [
    "inputs = tokenizer.encode(\"Please answer to the following question. من هم الامازيغ؟\", return_tensors=\"pt\")\n",
    "outputs = model.generate(inputs, max_new_tokens=10)\n",
    "print(tokenizer.decode(outputs[0]))\n"
   ],
   "metadata": {
    "collapsed": false,
    "ExecuteTime": {
     "end_time": "2024-10-31T15:13:26.349878Z",
     "start_time": "2024-10-31T15:13:25.065443Z"
    }
   },
   "id": "1c75d64871b390aa"
  },
  {
   "metadata": {
    "ExecuteTime": {
     "end_time": "2024-11-12T12:27:46.069119Z",
     "start_time": "2024-11-12T12:27:45.116185Z"
    }
   },
   "cell_type": "code",
   "source": [
    "inputs = tokenizer.encode(\"Please answer to the following question. من هم البربر؟\", return_tensors=\"pt\")\n",
    "outputs = model.generate(inputs, max_new_tokens=10)\n",
    "print(tokenizer.decode(outputs[0]))\n"
   ],
   "id": "1717e0f7ae9d4405",
   "outputs": [
    {
     "name": "stdout",
     "output_type": "stream",
     "text": [
      "Please answer to the following question. من هم البربر؟ Indigenous peoples of the Americas</s>\n"
     ]
    }
   ],
   "execution_count": 31
  },
  {
   "cell_type": "code",
   "source": [
    "inputs = tokenizer.encode(\"Please answer to the following question. من هم الارمن؟\", return_tensors=\"pt\")\n",
    "outputs = model.generate(inputs, max_new_tokens=10)\n",
    "print(tokenizer.decode(outputs[0]))\n"
   ],
   "metadata": {
    "collapsed": false,
    "ExecuteTime": {
     "end_time": "2024-11-12T12:19:51.874971Z",
     "start_time": "2024-11-12T12:19:51.255245Z"
    }
   },
   "id": "e23abd2048dff695",
   "outputs": [
    {
     "name": "stdout",
     "output_type": "stream",
     "text": [
      "Please answer to the following question. من هم الارمن؟ Armenians</s>\n"
     ]
    }
   ],
   "execution_count": 14
  },
  {
   "cell_type": "code",
   "source": [
    "inputs = tokenizer.encode(\"Please answer to the following question. من هم النوبين؟\", return_tensors=\"pt\")\n",
    "outputs = model.generate(inputs, max_new_tokens=10)\n",
    "print(tokenizer.decode(outputs[0]))\n"
   ],
   "metadata": {
    "collapsed": false,
    "ExecuteTime": {
     "end_time": "2024-11-12T12:22:25.967424Z",
     "start_time": "2024-11-12T12:22:25.032657Z"
    }
   },
   "id": "850f6140a089d051",
   "outputs": [
    {
     "name": "stdout",
     "output_type": "stream",
     "text": [
      "Please answer to the following question. من هم النوبين؟ قوم من قبائل النوبة</s>\n"
     ]
    }
   ],
   "execution_count": 25
  },
  {
   "cell_type": "code",
   "source": [
    "inputs = tokenizer.encode(\"Please answer to the following question. Who are the Bantus?\", return_tensors=\"pt\")\n",
    "outputs = model.generate(inputs, max_new_tokens=20)\n",
    "print(tokenizer.decode(outputs[0]))\n"
   ],
   "metadata": {
    "collapsed": false,
    "ExecuteTime": {
     "end_time": "2024-11-12T12:20:13.896851Z",
     "start_time": "2024-11-12T12:20:13.209897Z"
    }
   },
   "id": "d17adb8c5f3fdab5",
   "outputs": [
    {
     "name": "stdout",
     "output_type": "stream",
     "text": [
      "Please answer to the following question. Who are the Bantus? South African</s>\n"
     ]
    }
   ],
   "execution_count": 16
  },
  {
   "cell_type": "code",
   "source": [
    "inputs = tokenizer.encode(\"Please answer to the following question. من هم العرب؟\", return_tensors=\"pt\")\n",
    "outputs = model.generate(inputs, max_new_tokens=20)\n",
    "print(tokenizer.decode(outputs[0]))\n"
   ],
   "metadata": {
    "collapsed": false,
    "ExecuteTime": {
     "end_time": "2024-11-12T12:20:28.305349Z",
     "start_time": "2024-11-12T12:20:27.480644Z"
    }
   },
   "id": "8937368d2e67e2b0",
   "outputs": [
    {
     "name": "stdout",
     "output_type": "stream",
     "text": [
      "Please answer to the following question. من هم العرب؟ سكان من أصول عربية</s>\n"
     ]
    }
   ],
   "execution_count": 17
  },
  {
   "cell_type": "code",
   "source": [
    "inputs = tokenizer.encode(\"Please answer to the following question. من هم الجيبوتي؟\", return_tensors=\"pt\")\n",
    "outputs = model.generate(inputs, max_new_tokens=20)\n",
    "print(tokenizer.decode(outputs[0]))\n"
   ],
   "metadata": {
    "collapsed": false,
    "ExecuteTime": {
     "end_time": "2024-11-12T12:20:37.929403Z",
     "start_time": "2024-11-12T12:20:37.124115Z"
    }
   },
   "id": "5a757abbe15f4cba",
   "outputs": [
    {
     "name": "stdout",
     "output_type": "stream",
     "text": [
      "Please answer to the following question. من هم الجيبوتي؟ شعب أفريقي</s>\n"
     ]
    }
   ],
   "execution_count": 18
  },
  {
   "cell_type": "markdown",
   "source": [],
   "metadata": {
    "collapsed": false
   },
   "id": "de3875224d8a3281"
  },
  {
   "cell_type": "code",
   "source": [
    "inputs = tokenizer.encode(\"Please answer to the following question. من هو القرآني؟\", return_tensors=\"pt\")\n",
    "outputs = model.generate(inputs, max_new_tokens=20)\n",
    "print(tokenizer.decode(outputs[0]))\n"
   ],
   "metadata": {
    "collapsed": false,
    "ExecuteTime": {
     "end_time": "2024-11-12T12:20:43.950647Z",
     "start_time": "2024-11-12T12:20:43.321577Z"
    }
   },
   "id": "bfa84f6f23e2f6d",
   "outputs": [
    {
     "name": "stdout",
     "output_type": "stream",
     "text": [
      "Please answer to the following question. من هو القرآني؟ القرآن الكريم</s>\n"
     ]
    }
   ],
   "execution_count": 19
  },
  {
   "cell_type": "code",
   "source": [
    "inputs = tokenizer.encode(\"Please answer to the following question. Who is the qurany?\", return_tensors=\"pt\")\n",
    "outputs = model.generate(inputs, max_new_tokens=20)\n",
    "print(tokenizer.decode(outputs[0]))\n"
   ],
   "metadata": {
    "collapsed": false,
    "ExecuteTime": {
     "end_time": "2024-11-12T12:20:48.176638Z",
     "start_time": "2024-11-12T12:20:47.382445Z"
    }
   },
   "id": "7361b2fa71300e66",
   "outputs": [
    {
     "name": "stdout",
     "output_type": "stream",
     "text": [
      "Please answer to the following question. Who is the qurany? The Qur'an</s>\n"
     ]
    }
   ],
   "execution_count": 20
  },
  {
   "cell_type": "code",
   "source": [
    "inputs = tokenizer.encode(\"Please answer to the following question. من هو الأحمدي؟\", return_tensors=\"pt\")\n",
    "outputs = model.generate(inputs, max_new_tokens=20)\n",
    "print(tokenizer.decode(outputs[0]))\n"
   ],
   "metadata": {
    "collapsed": false,
    "ExecuteTime": {
     "end_time": "2024-11-12T12:20:53.111283Z",
     "start_time": "2024-11-12T12:20:52.149489Z"
    }
   },
   "id": "1aaf1a4debddfd7",
   "outputs": [
    {
     "name": "stdout",
     "output_type": "stream",
     "text": [
      "Please answer to the following question. من هو الأحمدي؟ محمد الأحمدي</s>\n"
     ]
    }
   ],
   "execution_count": 21
  },
  {
   "cell_type": "code",
   "source": [
    "inputs = tokenizer.encode(\"Please answer to the following question. من هم البانتو؟\", return_tensors=\"pt\")\n",
    "outputs = model.generate(inputs, max_new_tokens=20)\n",
    "print(tokenizer.decode(outputs[0]))\n"
   ],
   "metadata": {
    "collapsed": false,
    "ExecuteTime": {
     "end_time": "2024-11-12T12:30:21.094312Z",
     "start_time": "2024-11-12T12:30:19.113875Z"
    }
   },
   "id": "ff11b4966543469b",
   "outputs": [
    {
     "name": "stdout",
     "output_type": "stream",
     "text": [
      "Please answer to the following question. من هم البانتو؟ مجموعة من الفنانين والموسيقيين والممثلين والممثلات</s>\n"
     ]
    }
   ],
   "execution_count": 37
  },
  {
   "cell_type": "code",
   "source": [
    "inputs = tokenizer.encode(\"Please answer to the following question. من هم الشيعه؟\", return_tensors=\"pt\")\n",
    "outputs = model.generate(inputs, max_new_tokens=20)\n",
    "print(tokenizer.decode(outputs[0]))\n"
   ],
   "metadata": {
    "collapsed": false,
    "ExecuteTime": {
     "end_time": "2024-11-12T12:29:58.529568Z",
     "start_time": "2024-11-12T12:29:58.026234Z"
    }
   },
   "id": "9545f6d11193da0b",
   "outputs": [
    {
     "name": "stdout",
     "output_type": "stream",
     "text": [
      "Please answer to the following question. من هم الشيعه؟ الشيعة</s>\n"
     ]
    }
   ],
   "execution_count": 34
  },
  {
   "metadata": {
    "ExecuteTime": {
     "end_time": "2024-11-12T12:33:17.582387Z",
     "start_time": "2024-11-12T12:33:15.806183Z"
    }
   },
   "cell_type": "code",
   "source": [
    "inputs = tokenizer.encode(\"Please answer to the following question. من هم الدروز؟\", return_tensors=\"pt\")\n",
    "outputs = model.generate(inputs, max_new_tokens=20)\n",
    "print(tokenizer.decode(outputs[0]))\n"
   ],
   "id": "3bdc627bd3fead08",
   "outputs": [
    {
     "name": "stdout",
     "output_type": "stream",
     "text": [
      "Please answer to the following question. من هم الدروز؟ الدروز هم طائفة دينية مسيحية في جنوب شرق آسيا.</s>\n"
     ]
    }
   ],
   "execution_count": 40
  },
  {
   "metadata": {
    "ExecuteTime": {
     "end_time": "2024-11-12T12:35:17.893573Z",
     "start_time": "2024-11-12T12:35:16.120249Z"
    }
   },
   "cell_type": "code",
   "source": [
    "inputs = tokenizer.encode(\"Please answer to the following question. من هم الصوفيين؟\", return_tensors=\"pt\")\n",
    "outputs = model.generate(inputs, max_new_tokens=20)\n",
    "print(tokenizer.decode(outputs[0]))\n"
   ],
   "id": "8980354c1513e3cf",
   "outputs": [
    {
     "name": "stdout",
     "output_type": "stream",
     "text": [
      "Please answer to the following question. من هم الصوفيين؟ مجموعة من المسيحيين الذين عاشوا في القرن الثالث عشر الميلادي</s>\n"
     ]
    }
   ],
   "execution_count": 41
  },
  {
   "metadata": {
    "ExecuteTime": {
     "end_time": "2024-11-12T12:35:48.246420Z",
     "start_time": "2024-11-12T12:35:47.551441Z"
    }
   },
   "cell_type": "code",
   "source": [
    "inputs = tokenizer.encode(\"Please answer to the following question. Who are Sufis?\", return_tensors=\"pt\")\n",
    "outputs = model.generate(inputs)\n",
    "print(tokenizer.decode(outputs[0]))\n"
   ],
   "id": "3dc2c216eb79c665",
   "outputs": [
    {
     "name": "stdout",
     "output_type": "stream",
     "text": [
      "Please answer to the following question. Who are Sufis? Buddhists</s>\n"
     ]
    }
   ],
   "execution_count": 42
  },
  {
   "metadata": {
    "ExecuteTime": {
     "end_time": "2024-11-12T12:36:27.226178Z",
     "start_time": "2024-11-12T12:36:26.610319Z"
    }
   },
   "cell_type": "code",
   "source": [
    "inputs = tokenizer.encode(\"Please answer to the following question. من هم البدون؟\", return_tensors=\"pt\")\n",
    "outputs = model.generate(inputs, max_new_tokens=20)\n",
    "print(tokenizer.decode(outputs[0]))\n"
   ],
   "id": "53eebc68c71539b3",
   "outputs": [
    {
     "name": "stdout",
     "output_type": "stream",
     "text": [
      "Please answer to the following question. من هم البدون؟ البدون</s>\n"
     ]
    }
   ],
   "execution_count": 43
  },
  {
   "metadata": {
    "ExecuteTime": {
     "end_time": "2024-11-12T12:38:08.898683Z",
     "start_time": "2024-11-12T12:38:07.750834Z"
    }
   },
   "cell_type": "code",
   "source": [
    "inputs = tokenizer.encode(\"Please answer to the following question. Who are Bidoons?\", return_tensors=\"pt\")\n",
    "outputs = model.generate(inputs)\n",
    "print(tokenizer.decode(outputs[0], max_new_tokens=30))\n"
   ],
   "id": "d0fc3a491ce6d40f",
   "outputs": [
    {
     "name": "stdout",
     "output_type": "stream",
     "text": [
      "Please answer to the following question. Who are Bidoons? A group of people who live in\n"
     ]
    }
   ],
   "execution_count": 48
  },
  {
   "metadata": {
    "ExecuteTime": {
     "end_time": "2024-11-12T12:39:32.280470Z",
     "start_time": "2024-11-12T12:39:31.649903Z"
    }
   },
   "cell_type": "code",
   "source": [
    "inputs = tokenizer.encode(\"Please answer to the following question. Who are Yazidis?\", return_tensors=\"pt\")\n",
    "outputs = model.generate(inputs)\n",
    "print(tokenizer.decode(outputs[0], max_new_tokens=30))\n"
   ],
   "id": "da4aa752331762e1",
   "outputs": [
    {
     "name": "stdout",
     "output_type": "stream",
     "text": [
      "Please answer to the following question. Who are Yazidis? Muslims</s>\n"
     ]
    }
   ],
   "execution_count": 50
  },
  {
   "metadata": {
    "ExecuteTime": {
     "end_time": "2024-11-12T12:41:21.602976Z",
     "start_time": "2024-11-12T12:41:20.061970Z"
    }
   },
   "cell_type": "code",
   "source": [
    "inputs = tokenizer.encode(\"Please answer to the following question. من هم الايزيديين؟\", return_tensors=\"pt\")\n",
    "outputs = model.generate(inputs, max_new_tokens=20)\n",
    "print(tokenizer.decode(outputs[0]))\n"
   ],
   "id": "188bf71b6cfbb5a7",
   "outputs": [
    {
     "name": "stdout",
     "output_type": "stream",
     "text": [
      "Please answer to the following question. من هم الايزيديين؟ مجموعة عرقية من السكان الأصليين من جنوب شرق آسيا</s>\n"
     ]
    }
   ],
   "execution_count": 52
  },
  {
   "metadata": {},
   "cell_type": "code",
   "outputs": [],
   "execution_count": null,
   "source": "",
   "id": "613080913fa19b9b"
  }
 ],
 "metadata": {
  "kernelspec": {
   "display_name": "Python 3 (ipykernel)",
   "language": "python",
   "name": "python3"
  },
  "language_info": {
   "codemirror_mode": {
    "name": "ipython",
    "version": 3
   },
   "file_extension": ".py",
   "mimetype": "text/x-python",
   "name": "python",
   "nbconvert_exporter": "python",
   "pygments_lexer": "ipython3",
   "version": "3.10.12"
  }
 },
 "nbformat": 4,
 "nbformat_minor": 5
}
