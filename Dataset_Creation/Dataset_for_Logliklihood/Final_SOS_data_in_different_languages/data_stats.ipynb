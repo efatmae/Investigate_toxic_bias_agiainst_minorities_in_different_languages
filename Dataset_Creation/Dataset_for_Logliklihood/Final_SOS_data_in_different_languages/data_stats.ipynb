{
 "cells": [
  {
   "cell_type": "code",
   "execution_count": 1,
   "id": "initial_id",
   "metadata": {
    "collapsed": true,
    "ExecuteTime": {
     "end_time": "2024-12-06T14:42:26.330406Z",
     "start_time": "2024-12-06T14:42:26.086695Z"
    }
   },
   "outputs": [
    {
     "name": "stderr",
     "output_type": "stream",
     "text": [
      "/var/folders/x3/1y_5ght92yzbk007v60qj2k40000gn/T/ipykernel_65984/2035458946.py:1: DeprecationWarning: \n",
      "Pyarrow will become a required dependency of pandas in the next major release of pandas (pandas 3.0),\n",
      "(to allow more performant data types, such as the Arrow string type, and better interoperability with other libraries)\n",
      "but was not found to be installed on your system.\n",
      "If this would cause problems for you,\n",
      "please provide us feedback at https://github.com/pandas-dev/pandas/issues/54466\n",
      "        \n",
      "  import pandas as pd\n"
     ]
    }
   ],
   "source": [
    "import pandas as pd"
   ]
  },
  {
   "cell_type": "code",
   "execution_count": 2,
   "outputs": [],
   "source": [
    "def identity_data (identity_terms):\n",
    "    identity_terms = [x.strip() for x in identity_terms.split(\",\")]\n",
    "    identity_terms = [x.lower() for x in identity_terms]\n",
    "    identity = []\n",
    "    return len(identity_terms)"
   ],
   "metadata": {
    "collapsed": false,
    "ExecuteTime": {
     "end_time": "2024-12-06T14:42:26.367168Z",
     "start_time": "2024-12-06T14:42:26.342370Z"
    }
   },
   "id": "42d17a34aea444bd"
  },
  {
   "cell_type": "code",
   "execution_count": 3,
   "outputs": [],
   "source": [
    "UK_identity_terms = pd.read_csv(\"../../English_temp_and_identities/UK_identities/UK_idenity_groups.csv\")\n",
    "\n",
    "US_identity_terms = pd.read_csv(\"../../English_temp_and_identities/US_identities/US_idenity_groups.csv\")\n",
    "\n",
    "Arabic_male_identities = pd.read_csv(\"../../Arabic_temp_and_identities/Arabic_identities/Arab_Identities_Muschline.csv\")\n",
    "\n",
    "Arabic_female_identities = pd.read_csv(\"../../Arabic_temp_and_identities/Arabic_identities/Arab_Identities_Female.csv\")\n",
    "\n",
    "Egyptian_Arabic_male_identities = pd.read_csv(\"../../Arabic_temp_and_identities/Arabic_identities/Egyptian_Identities_Male.csv\")\n",
    "\n",
    "Egyptian_Arabic_female_identities = pd.read_csv(\"../../Arabic_temp_and_identities/Arabic_identities/Egyptian_Identities_Female.csv\")\n",
    "\n",
    "German_male_identities = pd.read_csv(\"../../German_temp_and_identities/GE_Identities_Male.csv\")\n",
    "German_female_identities = pd.read_csv(\"../../German_temp_and_identities/GE_Identities_female.csv\")\n"
   ],
   "metadata": {
    "collapsed": false,
    "ExecuteTime": {
     "end_time": "2024-12-06T14:42:26.376258Z",
     "start_time": "2024-12-06T14:42:26.368459Z"
    }
   },
   "id": "57b227e88d17499c"
  },
  {
   "cell_type": "code",
   "execution_count": 4,
   "outputs": [],
   "source": [
    "def save_data_stats (dataframe, file_name):\n",
    "    attribute = []\n",
    "    marginalized = []\n",
    "    non_marginalized = []\n",
    "    for index,row in dataframe.iterrows():\n",
    "        attribute.append(row[\"attribute\"])\n",
    "        marginalized.append(identity_data(row[\"Marginalized\"]))\n",
    "        \n",
    "        non_marginalized.append(identity_data(row[\"Non-Marginalized\"]))\n",
    "    data_stats_df = pd.DataFrame({\"attribute\": attribute,\n",
    "                                  \"Marginalized\": marginalized,\n",
    "                                  \"Non-Marginalized\": non_marginalized})\n",
    "    data_stats_df.to_csv(file_name, index=False)\n",
    "    "
   ],
   "metadata": {
    "collapsed": false,
    "ExecuteTime": {
     "end_time": "2024-12-06T14:42:26.379952Z",
     "start_time": "2024-12-06T14:42:26.378338Z"
    }
   },
   "id": "e72ac045bf6c661e"
  },
  {
   "cell_type": "code",
   "execution_count": 5,
   "outputs": [],
   "source": [
    "save_data_stats(UK_identity_terms, \"../UK_identity_terms_stats.csv\")"
   ],
   "metadata": {
    "collapsed": false,
    "ExecuteTime": {
     "end_time": "2024-12-06T14:42:26.386191Z",
     "start_time": "2024-12-06T14:42:26.382906Z"
    }
   },
   "id": "f6c728c001f4de46"
  },
  {
   "cell_type": "code",
   "execution_count": 6,
   "outputs": [],
   "source": [
    "save_data_stats(US_identity_terms, \"../US_identity_terms_stats.csv\")"
   ],
   "metadata": {
    "collapsed": false,
    "ExecuteTime": {
     "end_time": "2024-12-06T14:42:26.391798Z",
     "start_time": "2024-12-06T14:42:26.387681Z"
    }
   },
   "id": "d53b6caa3417b2b6"
  },
  {
   "cell_type": "code",
   "execution_count": 7,
   "outputs": [],
   "source": [
    "save_data_stats(Arabic_male_identities, \"../Arabic_male_identities_stats.csv\")"
   ],
   "metadata": {
    "collapsed": false,
    "ExecuteTime": {
     "end_time": "2024-12-06T14:42:26.394867Z",
     "start_time": "2024-12-06T14:42:26.392352Z"
    }
   },
   "id": "c00bbfb21170d6b0"
  },
  {
   "cell_type": "code",
   "execution_count": 8,
   "outputs": [],
   "source": [
    "save_data_stats(Arabic_female_identities, \"../Arabic_female_identities_stats.csv\")"
   ],
   "metadata": {
    "collapsed": false,
    "ExecuteTime": {
     "end_time": "2024-12-06T14:42:26.399407Z",
     "start_time": "2024-12-06T14:42:26.397456Z"
    }
   },
   "id": "e9804238e16b56ad"
  },
  {
   "cell_type": "code",
   "execution_count": 9,
   "outputs": [],
   "source": [
    "save_data_stats(Egyptian_Arabic_male_identities, \"../Egyptian_Arabic_male_identities_stats.csv\")"
   ],
   "metadata": {
    "collapsed": false,
    "ExecuteTime": {
     "end_time": "2024-12-06T14:42:26.402891Z",
     "start_time": "2024-12-06T14:42:26.400940Z"
    }
   },
   "id": "be61329b757f953f"
  },
  {
   "cell_type": "code",
   "execution_count": 10,
   "outputs": [],
   "source": [
    "save_data_stats(Egyptian_Arabic_female_identities, \"../Egyptian_Arabic_female_identities_stats.csv\")"
   ],
   "metadata": {
    "collapsed": false,
    "ExecuteTime": {
     "end_time": "2024-12-06T14:42:26.406582Z",
     "start_time": "2024-12-06T14:42:26.404452Z"
    }
   },
   "id": "2fbe69922bcef646"
  },
  {
   "cell_type": "code",
   "execution_count": 11,
   "outputs": [],
   "source": [
    "save_data_stats(German_male_identities, \"../German_male_identities_stats.csv\")"
   ],
   "metadata": {
    "collapsed": false,
    "ExecuteTime": {
     "end_time": "2024-12-06T14:42:26.410309Z",
     "start_time": "2024-12-06T14:42:26.408306Z"
    }
   },
   "id": "87f399e05eaa61dd"
  },
  {
   "cell_type": "code",
   "execution_count": 12,
   "outputs": [],
   "source": [
    "save_data_stats(German_female_identities, \"../German_female_identities_stats.csv\")"
   ],
   "metadata": {
    "collapsed": false,
    "ExecuteTime": {
     "end_time": "2024-12-06T14:42:26.416293Z",
     "start_time": "2024-12-06T14:42:26.411577Z"
    }
   },
   "id": "f52a9766c975535e"
  },
  {
   "cell_type": "code",
   "execution_count": 12,
   "outputs": [],
   "source": [],
   "metadata": {
    "collapsed": false,
    "ExecuteTime": {
     "end_time": "2024-12-06T14:42:26.416407Z",
     "start_time": "2024-12-06T14:42:26.414508Z"
    }
   },
   "id": "50919d763194b5"
  }
 ],
 "metadata": {
  "kernelspec": {
   "display_name": "Python 3",
   "language": "python",
   "name": "python3"
  },
  "language_info": {
   "codemirror_mode": {
    "name": "ipython",
    "version": 2
   },
   "file_extension": ".py",
   "mimetype": "text/x-python",
   "name": "python",
   "nbconvert_exporter": "python",
   "pygments_lexer": "ipython2",
   "version": "2.7.6"
  }
 },
 "nbformat": 4,
 "nbformat_minor": 5
}
