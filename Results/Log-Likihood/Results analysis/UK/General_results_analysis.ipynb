{
 "cells": [
  {
   "cell_type": "code",
   "id": "initial_id",
   "metadata": {
    "collapsed": true,
    "ExecuteTime": {
     "end_time": "2024-10-03T13:10:19.402223Z",
     "start_time": "2024-10-03T13:10:19.190092Z"
    }
   },
   "source": [
    "import pandas as pd"
   ],
   "outputs": [],
   "execution_count": 1
  },
  {
   "cell_type": "code",
   "source": [
    "def results_toxic_analysis_full_report (results_df):\n",
    "    \n",
    "    def print_SOS_bias(bias_tpe, df):\n",
    "        '''Total SOS bias scores'''\n",
    "        No_biased_entires = len(df[df[\"score\"] == 1])\n",
    "        SOS_bias_score = No_biased_entires / len(df)\n",
    "        print(bias_tpe, SOS_bias_score)\n",
    "    \n",
    "    def print_bias_scores_for_marginalized_groups():\n",
    "        \n",
    "        sexual_marginalized = results_df[results_df[\"bias_type\"] == \"Sexual_orientation_Marginalized\"]\n",
    "       # print(\"len sexual_marginalized \",len(sexual_marginalized))\n",
    "        print_SOS_bias(\"Bias aginst Sexual_orientation_Marginalized\",sexual_marginalized)\n",
    "        \n",
    "        gender_marginalized = results_df[results_df[\"bias_type\"] == \"Gender_Marginalized\"]\n",
    "        #print(\"len gender_marginalized \",len(gender_marginalized))\n",
    "        print_SOS_bias(\"Bias aginst Gender_Marginalized\",gender_marginalized)\n",
    "    \n",
    "        race_marginalized = results_df[results_df[\"bias_type\"] == \"Race_Marginalized\"]\n",
    "        #print(\"len race_marginalized \",len(race_marginalized))\n",
    "        print_SOS_bias(\"Bias aginst Race_Marginalized\", race_marginalized)\n",
    "        \n",
    "        religion_marginalized = results_df[results_df[\"bias_type\"] == \"Religion_Marginalized\"]\n",
    "        #print(\"len religion_marginalized \",len(religion_marginalized))\n",
    "        print_SOS_bias(\"Bias aginst Religion_orientation_Marginalized\",religion_marginalized)\n",
    "        \n",
    "        social_class_marginalized = results_df[results_df[\"bias_type\"] == \"Social-Class_Marginalized\"]\n",
    "        #print(\"len social_class_marginalized \",len(social_class_marginalized))\n",
    "        print_SOS_bias(\"Bias aginst Social-Class_Marginalized\", social_class_marginalized)\n",
    "        \n",
    "        physical_ability_marginalized = results_df[results_df[\"bias_type\"] == \"Physical_ability_Marginalized\"]\n",
    "       # print(\"len physical_ability_marginalized \",len(physical_ability_marginalized))\n",
    "        print_SOS_bias(\"Bias aginst Physical_ability_Marginalized\", physical_ability_marginalized)\n",
    "        \n",
    "    def print_bias_scores_for_Non_marginalized_groups():    \n",
    "        sexual_Non_marginalized = results_df[results_df[\"bias_type\"] == \"Sexual_orientation_Non_Marginalized\"]\n",
    "        gender_Non_marginalized = results_df[results_df[\"bias_type\"] == \"Gender_Non_marginalized\"]\n",
    "        race_Non_marginalized = results_df[results_df[\"bias_type\"] == \"Race_Non_marginalized\"]\n",
    "        religion_Non_marginalized = results_df[results_df[\"bias_type\"] == \"Religion_Non_Marginalized\"]\n",
    "        social_class_Non_marginalized = results_df[results_df[\"bias_type\"] == \"Social-Class_Non_Marginalized\"]\n",
    "        physical_ability_Non_marginalized = results_df[results_df[\"bias_type\"] == \"Physical_ability_Non_Marginalized\"]\n",
    "        \n",
    "        print_SOS_bias(\"Bias aginst Sexual_orientation_Non_Marginalized\", sexual_Non_marginalized)\n",
    "        print_SOS_bias(\"Bias aginst Gender_Non_Marginalized\", gender_Non_marginalized)\n",
    "        print_SOS_bias(\"Bias aginst Race_Non_Marginalized\", race_Non_marginalized)\n",
    "        print_SOS_bias(\"Bias aginst Religion_Non_Marginalized\", religion_Non_marginalized)\n",
    "        print_SOS_bias(\"Bias aginst Social-Class_Non_Marginalized\", social_class_Non_marginalized)\n",
    "        print_SOS_bias(\"Bias aginst Physical_ability_Non_Marginalized\", physical_ability_Non_marginalized)\n",
    "        \n",
    "    print_SOS_bias(\"total bias\",results_df)\n",
    "    print_bias_scores_for_marginalized_groups()\n",
    "    print_bias_scores_for_Non_marginalized_groups()\n",
    "    "
   ],
   "metadata": {
    "collapsed": false,
    "ExecuteTime": {
     "end_time": "2024-10-03T13:10:22.456968Z",
     "start_time": "2024-10-03T13:10:22.452324Z"
    }
   },
   "id": "e37a9c3dacf2d3d6",
   "outputs": [],
   "execution_count": 3
  },
  {
   "cell_type": "code",
   "source": [
    "def results_non_toxic_analysis_full_report (results_df):\n",
    "    \n",
    "    def print_SOS_bias(bias_tpe, df):\n",
    "        '''Total SOS bias scores'''\n",
    "        No_biased_entires = len(df[df[\"score\"] == 0])\n",
    "        SOS_bias_score = No_biased_entires / len(df)\n",
    "        print(bias_tpe, SOS_bias_score)\n",
    "    \n",
    "    def print_bias_scores_for_marginalized_groups():\n",
    "        \n",
    "        sexual_marginalized = results_df[results_df[\"bias_type\"] == \"Sexual_orientation_Marginalized\"]\n",
    "       # print(\"len sexual_marginalized \",len(sexual_marginalized))\n",
    "        print_SOS_bias(\"Bias aginst Sexual_orientation_Marginalized\",sexual_marginalized)\n",
    "        \n",
    "        gender_marginalized = results_df[results_df[\"bias_type\"] == \"Gender_Marginalized\"]\n",
    "        #print(\"len gender_marginalized \",len(gender_marginalized))\n",
    "        print_SOS_bias(\"Bias aginst Gender_Marginalized\",gender_marginalized)\n",
    "    \n",
    "        race_marginalized = results_df[results_df[\"bias_type\"] == \"Race_Marginalized\"]\n",
    "        #print(\"len race_marginalized \",len(race_marginalized))\n",
    "        print_SOS_bias(\"Bias aginst Race_Marginalized\", race_marginalized)\n",
    "        \n",
    "        religion_marginalized = results_df[results_df[\"bias_type\"] == \"Religion_Marginalized\"]\n",
    "        #print(\"len religion_marginalized \",len(religion_marginalized))\n",
    "        print_SOS_bias(\"Bias aginst Religion_orientation_Marginalized\",religion_marginalized)\n",
    "        \n",
    "        social_class_marginalized = results_df[results_df[\"bias_type\"] == \"Social-Class_Marginalized\"]\n",
    "        #print(\"len social_class_marginalized \",len(social_class_marginalized))\n",
    "        print_SOS_bias(\"Bias aginst Social-Class_Marginalized\", social_class_marginalized)\n",
    "        \n",
    "        physical_ability_marginalized = results_df[results_df[\"bias_type\"] == \"Physical_ability_Marginalized\"]\n",
    "       # print(\"len physical_ability_marginalized \",len(physical_ability_marginalized))\n",
    "        print_SOS_bias(\"Bias aginst Physical_ability_Marginalized\", physical_ability_marginalized)\n",
    "        \n",
    "    def print_bias_scores_for_Non_marginalized_groups():    \n",
    "        sexual_Non_marginalized = results_df[results_df[\"bias_type\"] == \"Sexual_orientation_Non_Marginalized\"]\n",
    "        gender_Non_marginalized = results_df[results_df[\"bias_type\"] == \"Gender_Non_marginalized\"]\n",
    "        race_Non_marginalized = results_df[results_df[\"bias_type\"] == \"Race_Non_marginalized\"]\n",
    "        religion_Non_marginalized = results_df[results_df[\"bias_type\"] == \"Religion_Non_Marginalized\"]\n",
    "        social_class_Non_marginalized = results_df[results_df[\"bias_type\"] == \"Social-Class_Non_Marginalized\"]\n",
    "        physical_ability_Non_marginalized = results_df[results_df[\"bias_type\"] == \"Physical_ability_Non_Marginalized\"]\n",
    "        \n",
    "        print_SOS_bias(\"Bias aginst Sexual_orientation_Non_Marginalized\", sexual_Non_marginalized)\n",
    "        print_SOS_bias(\"Bias aginst Gender_Non_Marginalized\", gender_Non_marginalized)\n",
    "        print_SOS_bias(\"Bias aginst Race_Non_Marginalized\", race_Non_marginalized)\n",
    "        print_SOS_bias(\"Bias aginst Religion_Non_Marginalized\", religion_Non_marginalized)\n",
    "        print_SOS_bias(\"Bias aginst Social-Class_Non_Marginalized\", social_class_Non_marginalized)\n",
    "        print_SOS_bias(\"Bias aginst Physical_ability_Non_Marginalized\", physical_ability_Non_marginalized)\n",
    "        \n",
    "    print_SOS_bias(\"total bias\",results_df)\n",
    "    print_bias_scores_for_marginalized_groups()\n",
    "    print_bias_scores_for_Non_marginalized_groups()\n",
    "    "
   ],
   "metadata": {
    "collapsed": false,
    "ExecuteTime": {
     "end_time": "2024-10-03T13:10:25.785962Z",
     "start_time": "2024-10-03T13:10:25.780004Z"
    }
   },
   "id": "4e6614e27ff52bd9",
   "outputs": [],
   "execution_count": 4
  },
  {
   "cell_type": "markdown",
   "source": [],
   "metadata": {
    "collapsed": false
   },
   "id": "aa571b2b5fde46c5"
  },
  {
   "cell_type": "code",
   "source": [
    "UK_data = pd.read_csv(\"../Log-Likihood/English_LMs/UK_SOS_albert-base-v2.csv\")"
   ],
   "metadata": {
    "collapsed": false,
    "ExecuteTime": {
     "end_time": "2024-10-03T13:10:29.140894Z",
     "start_time": "2024-10-03T13:10:29.132047Z"
    }
   },
   "id": "2c6769131acb0df7",
   "outputs": [],
   "execution_count": 5
  },
  {
   "cell_type": "code",
   "source": [
    "results_toxic_analysis_full_report(UK_data)"
   ],
   "metadata": {
    "collapsed": false,
    "ExecuteTime": {
     "end_time": "2024-10-03T13:10:30.592628Z",
     "start_time": "2024-10-03T13:10:30.581756Z"
    }
   },
   "id": "d10095f07266d068",
   "outputs": [
    {
     "name": "stdout",
     "output_type": "stream",
     "text": [
      "total bias 0.4906767232348628\n",
      "Bias aginst Sexual_orientation_Marginalized 0.5225225225225225\n",
      "Bias aginst Gender_Marginalized 0.4814189189189189\n",
      "Bias aginst Race_Marginalized 0.5196560196560197\n",
      "Bias aginst Religion_orientation_Marginalized 0.5168918918918919\n",
      "Bias aginst Social-Class_Marginalized 0.4806949806949807\n",
      "Bias aginst Physical_ability_Marginalized 0.4358108108108108\n",
      "Bias aginst Sexual_orientation_Non_Marginalized 0.4540540540540541\n",
      "Bias aginst Gender_Non_Marginalized 0.47104247104247104\n",
      "Bias aginst Race_Non_Marginalized 0.518918918918919\n",
      "Bias aginst Religion_Non_Marginalized 0.5\n",
      "Bias aginst Social-Class_Non_Marginalized 0.4769475357710652\n",
      "Bias aginst Physical_ability_Non_Marginalized 0.4864864864864865\n"
     ]
    }
   ],
   "execution_count": 6
  },
  {
   "cell_type": "code",
   "source": [
    "results_non_toxic_analysis_full_report(UK_data)"
   ],
   "metadata": {
    "collapsed": false,
    "ExecuteTime": {
     "end_time": "2024-10-03T13:10:33.657468Z",
     "start_time": "2024-10-03T13:10:33.647930Z"
    }
   },
   "id": "46722487b34bdf16",
   "outputs": [
    {
     "name": "stdout",
     "output_type": "stream",
     "text": [
      "total bias 0.5093232767651372\n",
      "Bias aginst Sexual_orientation_Marginalized 0.4774774774774775\n",
      "Bias aginst Gender_Marginalized 0.518581081081081\n",
      "Bias aginst Race_Marginalized 0.48034398034398035\n",
      "Bias aginst Religion_orientation_Marginalized 0.4831081081081081\n",
      "Bias aginst Social-Class_Marginalized 0.5193050193050193\n",
      "Bias aginst Physical_ability_Marginalized 0.5641891891891891\n",
      "Bias aginst Sexual_orientation_Non_Marginalized 0.5459459459459459\n",
      "Bias aginst Gender_Non_Marginalized 0.528957528957529\n",
      "Bias aginst Race_Non_Marginalized 0.4810810810810811\n",
      "Bias aginst Religion_Non_Marginalized 0.5\n",
      "Bias aginst Social-Class_Non_Marginalized 0.5230524642289348\n",
      "Bias aginst Physical_ability_Non_Marginalized 0.5135135135135135\n"
     ]
    }
   ],
   "execution_count": 7
  },
  {
   "cell_type": "code",
   "source": [
    "US_data = pd.read_csv(\"../Log-Likihood/English_LMs/US_SOS_albert-base-v2.csv\")"
   ],
   "metadata": {
    "collapsed": false,
    "ExecuteTime": {
     "end_time": "2024-10-03T13:10:45.663472Z",
     "start_time": "2024-10-03T13:10:45.655096Z"
    }
   },
   "id": "83b86cac175bb34b",
   "outputs": [],
   "execution_count": 8
  },
  {
   "cell_type": "code",
   "source": [
    "results_toxic_analysis_full_report(US_data)"
   ],
   "metadata": {
    "collapsed": false,
    "ExecuteTime": {
     "end_time": "2024-10-03T13:10:46.925533Z",
     "start_time": "2024-10-03T13:10:46.915826Z"
    }
   },
   "id": "c1175be28fb703d6",
   "outputs": [
    {
     "name": "stdout",
     "output_type": "stream",
     "text": [
      "total bias 0.4817567567567568\n",
      "Bias aginst Sexual_orientation_Marginalized 0.5225225225225225\n",
      "Bias aginst Gender_Marginalized 0.4814189189189189\n",
      "Bias aginst Race_Marginalized 0.47104247104247104\n",
      "Bias aginst Religion_orientation_Marginalized 0.5168918918918919\n",
      "Bias aginst Social-Class_Marginalized 0.4806949806949807\n",
      "Bias aginst Physical_ability_Marginalized 0.4358108108108108\n",
      "Bias aginst Sexual_orientation_Non_Marginalized 0.4540540540540541\n",
      "Bias aginst Gender_Non_Marginalized 0.47104247104247104\n",
      "Bias aginst Race_Non_Marginalized 0.4594594594594595\n",
      "Bias aginst Religion_Non_Marginalized 0.5135135135135135\n",
      "Bias aginst Social-Class_Non_Marginalized 0.4804804804804805\n",
      "Bias aginst Physical_ability_Non_Marginalized 0.4864864864864865\n"
     ]
    }
   ],
   "execution_count": 9
  },
  {
   "cell_type": "code",
   "source": [
    "results_non_toxic_analysis_full_report(US_data)"
   ],
   "metadata": {
    "collapsed": false,
    "ExecuteTime": {
     "end_time": "2024-10-03T13:10:51.680468Z",
     "start_time": "2024-10-03T13:10:51.671246Z"
    }
   },
   "id": "c06d6d8e3aa96be1",
   "outputs": [
    {
     "name": "stdout",
     "output_type": "stream",
     "text": [
      "total bias 0.5182432432432432\n",
      "Bias aginst Sexual_orientation_Marginalized 0.4774774774774775\n",
      "Bias aginst Gender_Marginalized 0.518581081081081\n",
      "Bias aginst Race_Marginalized 0.528957528957529\n",
      "Bias aginst Religion_orientation_Marginalized 0.4831081081081081\n",
      "Bias aginst Social-Class_Marginalized 0.5193050193050193\n",
      "Bias aginst Physical_ability_Marginalized 0.5641891891891891\n",
      "Bias aginst Sexual_orientation_Non_Marginalized 0.5459459459459459\n",
      "Bias aginst Gender_Non_Marginalized 0.528957528957529\n",
      "Bias aginst Race_Non_Marginalized 0.5405405405405406\n",
      "Bias aginst Religion_Non_Marginalized 0.4864864864864865\n",
      "Bias aginst Social-Class_Non_Marginalized 0.5195195195195195\n",
      "Bias aginst Physical_ability_Non_Marginalized 0.5135135135135135\n"
     ]
    }
   ],
   "execution_count": 10
  },
  {
   "cell_type": "code",
   "execution_count": 28,
   "outputs": [],
   "source": [
    "Arabic_data = pd.read_csv(\"../Log-Likihood/Arabic_LMs/Arabic_Mascline_SOS_bert-base-arabic-camelbert-msa-sixteenth.csv\")"
   ],
   "metadata": {
    "collapsed": false,
    "ExecuteTime": {
     "end_time": "2024-10-01T12:04:29.667294Z",
     "start_time": "2024-10-01T12:04:29.634130Z"
    }
   },
   "id": "539d9b8cdd12d8de"
  },
  {
   "cell_type": "code",
   "execution_count": 29,
   "outputs": [
    {
     "name": "stdout",
     "output_type": "stream",
     "text": [
      "total bias 0.6681481481481482\n",
      "Bias aginst Sexual_orientation_Marginalized 0.64\n",
      "Bias aginst Gender_Marginalized 0.638095238095238\n",
      "Bias aginst Race_Marginalized 0.6361904761904762\n",
      "Bias aginst Religion_orientation_Marginalized 0.6533333333333333\n",
      "Bias aginst Social-Class_Marginalized 0.6923076923076923\n",
      "Bias aginst Physical_ability_Marginalized 0.6607142857142857\n",
      "Bias aginst Sexual_orientation_Non_Marginalized 0.7142857142857143\n",
      "Bias aginst Gender_Non_Marginalized 0.6971428571428572\n",
      "Bias aginst Race_Non_Marginalized 0.6658385093167701\n",
      "Bias aginst Religion_Non_Marginalized 0.6857142857142857\n",
      "Bias aginst Social-Class_Non_Marginalized 0.7071428571428572\n",
      "Bias aginst Physical_ability_Non_Marginalized 0.6785714285714286\n"
     ]
    }
   ],
   "source": [
    "results_toxic_analysis_full_report(Arabic_data)"
   ],
   "metadata": {
    "collapsed": false,
    "ExecuteTime": {
     "end_time": "2024-10-01T12:04:41.563263Z",
     "start_time": "2024-10-01T12:04:41.554658Z"
    }
   },
   "id": "f58e4ab0cd6532a4"
  },
  {
   "cell_type": "code",
   "execution_count": 38,
   "outputs": [
    {
     "name": "stdout",
     "output_type": "stream",
     "text": [
      "total bias 0.33185185185185184\n",
      "Bias aginst Sexual_orientation_Marginalized 0.36\n",
      "Bias aginst Gender_Marginalized 0.3619047619047619\n",
      "Bias aginst Race_Marginalized 0.3638095238095238\n",
      "Bias aginst Religion_orientation_Marginalized 0.3466666666666667\n",
      "Bias aginst Social-Class_Marginalized 0.3076923076923077\n",
      "Bias aginst Physical_ability_Marginalized 0.3392857142857143\n",
      "Bias aginst Sexual_orientation_Non_Marginalized 0.2857142857142857\n",
      "Bias aginst Gender_Non_Marginalized 0.3028571428571429\n",
      "Bias aginst Race_Non_Marginalized 0.3341614906832298\n",
      "Bias aginst Religion_Non_Marginalized 0.3142857142857143\n",
      "Bias aginst Social-Class_Non_Marginalized 0.29285714285714287\n",
      "Bias aginst Physical_ability_Non_Marginalized 0.32142857142857145\n"
     ]
    }
   ],
   "source": [
    "results_non_toxic_analysis_full_report(Arabic_data)"
   ],
   "metadata": {
    "collapsed": false,
    "ExecuteTime": {
     "end_time": "2024-10-01T12:16:03.871377Z",
     "start_time": "2024-10-01T12:16:03.856542Z"
    }
   },
   "id": "4ad131001810ce60"
  },
  {
   "cell_type": "code",
   "execution_count": 32,
   "outputs": [],
   "source": [
    "Arabic_intersectionality_data = pd.read_csv(\"../Log-Likihood/Arabic_LMs/Arabic_Femminine_SOS_bert-base-arabic-camelbert-msa-sixteenth.csv\")"
   ],
   "metadata": {
    "collapsed": false,
    "ExecuteTime": {
     "end_time": "2024-10-01T12:06:41.189814Z",
     "start_time": "2024-10-01T12:06:41.173019Z"
    }
   },
   "id": "4f9512173e55ed4b"
  },
  {
   "cell_type": "code",
   "execution_count": 33,
   "outputs": [
    {
     "name": "stdout",
     "output_type": "stream",
     "text": [
      "total bias 0.5561904761904762\n",
      "Bias aginst Sexual_orientation_Marginalized 0.4857142857142857\n",
      "Bias aginst Gender_Marginalized 0.553968253968254\n",
      "Bias aginst Race_Marginalized 0.5295238095238095\n",
      "Bias aginst Religion_orientation_Marginalized 0.5638095238095238\n",
      "Bias aginst Social-Class_Marginalized 0.5516483516483517\n",
      "Bias aginst Physical_ability_Marginalized 0.5321428571428571\n",
      "Bias aginst Sexual_orientation_Non_Marginalized 0.45714285714285713\n",
      "Bias aginst Gender_Non_Marginalized 0.5904761904761905\n",
      "Bias aginst Race_Non_Marginalized 0.5888198757763975\n",
      "Bias aginst Religion_Non_Marginalized 0.5571428571428572\n",
      "Bias aginst Social-Class_Non_Marginalized 0.5357142857142857\n",
      "Bias aginst Physical_ability_Non_Marginalized 0.5785714285714286\n"
     ]
    }
   ],
   "source": [
    "results_toxic_analysis_full_report(Arabic_intersectionality_data)"
   ],
   "metadata": {
    "collapsed": false,
    "ExecuteTime": {
     "end_time": "2024-10-01T12:06:50.468517Z",
     "start_time": "2024-10-01T12:06:50.453009Z"
    }
   },
   "id": "2d291fffa78d1c6e"
  },
  {
   "cell_type": "code",
   "execution_count": 39,
   "outputs": [
    {
     "name": "stdout",
     "output_type": "stream",
     "text": [
      "total bias 0.4438095238095238\n",
      "Bias aginst Sexual_orientation_Marginalized 0.5142857142857142\n",
      "Bias aginst Gender_Marginalized 0.44603174603174606\n",
      "Bias aginst Race_Marginalized 0.4704761904761905\n",
      "Bias aginst Religion_orientation_Marginalized 0.4361904761904762\n",
      "Bias aginst Social-Class_Marginalized 0.44835164835164837\n",
      "Bias aginst Physical_ability_Marginalized 0.46785714285714286\n",
      "Bias aginst Sexual_orientation_Non_Marginalized 0.5428571428571428\n",
      "Bias aginst Gender_Non_Marginalized 0.4095238095238095\n",
      "Bias aginst Race_Non_Marginalized 0.4111801242236025\n",
      "Bias aginst Religion_Non_Marginalized 0.44285714285714284\n",
      "Bias aginst Social-Class_Non_Marginalized 0.4642857142857143\n",
      "Bias aginst Physical_ability_Non_Marginalized 0.42142857142857143\n"
     ]
    }
   ],
   "source": [
    "results_non_toxic_analysis_full_report(Arabic_intersectionality_data)"
   ],
   "metadata": {
    "collapsed": false,
    "ExecuteTime": {
     "end_time": "2024-10-01T12:16:31.308911Z",
     "start_time": "2024-10-01T12:16:31.303916Z"
    }
   },
   "id": "7f8e252ec29c045e"
  },
  {
   "cell_type": "code",
   "source": [
    "Arabic_data_msa = pd.read_csv(\"../Log-Likihood/Arabic_LMs/Arabic_Mascline_SOS_bert-base-arabic-camelbert-msa.csv\")"
   ],
   "metadata": {
    "collapsed": false,
    "ExecuteTime": {
     "end_time": "2024-10-03T13:32:40.883953Z",
     "start_time": "2024-10-03T13:32:40.872097Z"
    }
   },
   "id": "896219d5c6ffb39b",
   "outputs": [],
   "execution_count": 12
  },
  {
   "metadata": {
    "ExecuteTime": {
     "end_time": "2024-10-03T13:32:47.688327Z",
     "start_time": "2024-10-03T13:32:47.677749Z"
    }
   },
   "cell_type": "code",
   "source": [
    "results_toxic_analysis_full_report(Arabic_data_msa)"
   ],
   "id": "da883b851d10ebfd",
   "outputs": [
    {
     "name": "stdout",
     "output_type": "stream",
     "text": [
      "total bias 0.6065608465608465\n",
      "Bias aginst Sexual_orientation_Marginalized 0.5657142857142857\n",
      "Bias aginst Gender_Marginalized 0.5777777777777777\n",
      "Bias aginst Race_Marginalized 0.5980952380952381\n",
      "Bias aginst Religion_orientation_Marginalized 0.5847619047619048\n",
      "Bias aginst Social-Class_Marginalized 0.5868131868131868\n",
      "Bias aginst Physical_ability_Marginalized 0.6035714285714285\n",
      "Bias aginst Sexual_orientation_Non_Marginalized 0.6285714285714286\n",
      "Bias aginst Gender_Non_Marginalized 0.6114285714285714\n",
      "Bias aginst Race_Non_Marginalized 0.6285714285714286\n",
      "Bias aginst Religion_Non_Marginalized 0.7571428571428571\n",
      "Bias aginst Social-Class_Non_Marginalized 0.6660714285714285\n",
      "Bias aginst Physical_ability_Non_Marginalized 0.5071428571428571\n"
     ]
    }
   ],
   "execution_count": 13
  },
  {
   "metadata": {
    "ExecuteTime": {
     "end_time": "2024-10-03T13:33:02.585256Z",
     "start_time": "2024-10-03T13:33:02.575677Z"
    }
   },
   "cell_type": "code",
   "source": [
    "results_non_toxic_analysis_full_report(Arabic_data_msa)"
   ],
   "id": "b5b4bafa1a264f0e",
   "outputs": [
    {
     "name": "stdout",
     "output_type": "stream",
     "text": [
      "total bias 0.3934391534391534\n",
      "Bias aginst Sexual_orientation_Marginalized 0.4342857142857143\n",
      "Bias aginst Gender_Marginalized 0.4222222222222222\n",
      "Bias aginst Race_Marginalized 0.40190476190476193\n",
      "Bias aginst Religion_orientation_Marginalized 0.41523809523809524\n",
      "Bias aginst Social-Class_Marginalized 0.41318681318681316\n",
      "Bias aginst Physical_ability_Marginalized 0.3964285714285714\n",
      "Bias aginst Sexual_orientation_Non_Marginalized 0.37142857142857144\n",
      "Bias aginst Gender_Non_Marginalized 0.38857142857142857\n",
      "Bias aginst Race_Non_Marginalized 0.37142857142857144\n",
      "Bias aginst Religion_Non_Marginalized 0.24285714285714285\n",
      "Bias aginst Social-Class_Non_Marginalized 0.3339285714285714\n",
      "Bias aginst Physical_ability_Non_Marginalized 0.4928571428571429\n"
     ]
    }
   ],
   "execution_count": 14
  },
  {
   "metadata": {
    "ExecuteTime": {
     "end_time": "2024-10-03T13:34:28.252610Z",
     "start_time": "2024-10-03T13:34:28.241980Z"
    }
   },
   "cell_type": "code",
   "source": [
    "Arabic_data_msa_intersectionality = pd.read_csv(\"../Log-Likihood/Arabic_LMs/Arabic_Femminine_SOS_bert-base-arabic-camelbert-msa.csv\")"
   ],
   "id": "39140f9c963e7511",
   "outputs": [],
   "execution_count": 15
  },
  {
   "metadata": {
    "ExecuteTime": {
     "end_time": "2024-10-03T13:34:48.971490Z",
     "start_time": "2024-10-03T13:34:48.961899Z"
    }
   },
   "cell_type": "code",
   "source": [
    "results_toxic_analysis_full_report(Arabic_data_msa_intersectionality)"
   ],
   "id": "23a93c61e4ece889",
   "outputs": [
    {
     "name": "stdout",
     "output_type": "stream",
     "text": [
      "total bias 0.42603174603174604\n",
      "Bias aginst Sexual_orientation_Marginalized 0.3657142857142857\n",
      "Bias aginst Gender_Marginalized 0.4253968253968254\n",
      "Bias aginst Race_Marginalized 0.4228571428571429\n",
      "Bias aginst Religion_orientation_Marginalized 0.4057142857142857\n",
      "Bias aginst Social-Class_Marginalized 0.45054945054945056\n",
      "Bias aginst Physical_ability_Marginalized 0.425\n",
      "Bias aginst Sexual_orientation_Non_Marginalized 0.37142857142857144\n",
      "Bias aginst Gender_Non_Marginalized 0.45714285714285713\n",
      "Bias aginst Race_Non_Marginalized 0.3875776397515528\n",
      "Bias aginst Religion_Non_Marginalized 0.35714285714285715\n",
      "Bias aginst Social-Class_Non_Marginalized 0.48392857142857143\n",
      "Bias aginst Physical_ability_Non_Marginalized 0.4357142857142857\n"
     ]
    }
   ],
   "execution_count": 16
  },
  {
   "metadata": {
    "ExecuteTime": {
     "end_time": "2024-10-03T13:35:10.600504Z",
     "start_time": "2024-10-03T13:35:10.589809Z"
    }
   },
   "cell_type": "code",
   "source": [
    "results_non_toxic_analysis_full_report(Arabic_data_msa_intersectionality)"
   ],
   "id": "6d78910a2443a083",
   "outputs": [
    {
     "name": "stdout",
     "output_type": "stream",
     "text": [
      "total bias 0.573968253968254\n",
      "Bias aginst Sexual_orientation_Marginalized 0.6342857142857142\n",
      "Bias aginst Gender_Marginalized 0.5746031746031746\n",
      "Bias aginst Race_Marginalized 0.5771428571428572\n",
      "Bias aginst Religion_orientation_Marginalized 0.5942857142857143\n",
      "Bias aginst Social-Class_Marginalized 0.5494505494505495\n",
      "Bias aginst Physical_ability_Marginalized 0.575\n",
      "Bias aginst Sexual_orientation_Non_Marginalized 0.6285714285714286\n",
      "Bias aginst Gender_Non_Marginalized 0.5428571428571428\n",
      "Bias aginst Race_Non_Marginalized 0.6124223602484472\n",
      "Bias aginst Religion_Non_Marginalized 0.6428571428571429\n",
      "Bias aginst Social-Class_Non_Marginalized 0.5160714285714286\n",
      "Bias aginst Physical_ability_Non_Marginalized 0.5642857142857143\n"
     ]
    }
   ],
   "execution_count": 17
  },
  {
   "metadata": {},
   "cell_type": "code",
   "outputs": [],
   "execution_count": null,
   "source": [],
   "id": "85e17946a3e1d051"
  }
 ],
 "metadata": {
  "kernelspec": {
   "display_name": "Python 3",
   "language": "python",
   "name": "python3"
  },
  "language_info": {
   "codemirror_mode": {
    "name": "ipython",
    "version": 2
   },
   "file_extension": ".py",
   "mimetype": "text/x-python",
   "name": "python",
   "nbconvert_exporter": "python",
   "pygments_lexer": "ipython2",
   "version": "2.7.6"
  }
 },
 "nbformat": 4,
 "nbformat_minor": 5
}
