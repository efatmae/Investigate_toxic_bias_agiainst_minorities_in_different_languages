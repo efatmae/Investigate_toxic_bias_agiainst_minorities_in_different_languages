{
 "cells": [
  {
   "cell_type": "code",
   "id": "initial_id",
   "metadata": {
    "collapsed": true,
    "ExecuteTime": {
     "end_time": "2024-12-06T19:16:10.519354Z",
     "start_time": "2024-12-06T19:16:10.514677Z"
    }
   },
   "source": [
    "import pandas as pd\n",
    "import scipy.stats as st"
   ],
   "outputs": [],
   "execution_count": 10
  },
  {
   "cell_type": "code",
   "source": [
    "def results_toxic_analysis_full_report (results_df, model_name):\n",
    "    \n",
    "    Bias_types = []\n",
    "    M_Bias_scores = []\n",
    "    N_M_Bias_scores = []\n",
    "    \n",
    "    def print_SOS_bias(bias_tpe, df):\n",
    "        '''Total SOS bias scores'''\n",
    "        No_biased_entires = len(df[df[\"score\"] == 1])\n",
    "        SOS_bias_score = No_biased_entires / len(df)\n",
    "        return bias_tpe, SOS_bias_score\n",
    "    \n",
    "    def print_bias_scores_for_marginalized_groups():\n",
    "        sexual_marginalized = results_df[results_df[\"bias_type\"] == \"Sexual_orientation_Marginalized\"]\n",
    "        sexual_marginalized, sexual_marginalized_bias_score = print_SOS_bias(\"Sexual_orientation_Marginalized\",sexual_marginalized)\n",
    "        Bias_types.append(\"Sexual_orientation\")\n",
    "        M_Bias_scores.append(sexual_marginalized_bias_score)\n",
    "        \n",
    "        gender_marginalized = results_df[results_df[\"bias_type\"] == \"Gender_Marginalized\"]\n",
    "        Bias_types.append(\"Gender\")\n",
    "        Gender_Marginalized, gender_marginalized_bias_score = print_SOS_bias(\"Gender_Marginalized\",gender_marginalized)\n",
    "        M_Bias_scores.append(gender_marginalized_bias_score)\n",
    "\n",
    "        refugee_marginalized = results_df[results_df[\"bias_type\"] == \"Refugees_Marginalized\"]\n",
    "        Bias_types.append(\"Refugees\")\n",
    "        Refugees_Marginalized, refugees_marginalized_bias_score = print_SOS_bias(\"Refugees_Marginalized\",refugee_marginalized)\n",
    "        M_Bias_scores.append(refugees_marginalized_bias_score)\n",
    "        \n",
    "        race_marginalized = results_df[results_df[\"bias_type\"] == \"Race_Marginalized\"]\n",
    "        Race_Marginalized, race_marginalized_bias_scores = print_SOS_bias(\"Race_Marginalized\", race_marginalized)\n",
    "        Bias_types.append(\"Race\")\n",
    "        M_Bias_scores.append(race_marginalized_bias_scores)\n",
    "        \n",
    "        religion_marginalized = results_df[results_df[\"bias_type\"] == \"Religion_Marginalized\"]\n",
    "        Religion_orientation_Marginalized, religion_marginalized_bias_score = print_SOS_bias(\"Religion_orientation_Marginalized\",religion_marginalized)\n",
    "        Bias_types.append(\"Religion\")\n",
    "        M_Bias_scores.append(religion_marginalized_bias_score)\n",
    "        \n",
    "        physical_ability_marginalized = results_df[results_df[\"bias_type\"] == \"Physical_ability_Marginalized\"]\n",
    "        Physical_ability_Marginalized, physical_ability_marginalized_bias_score = print_SOS_bias(\"Physical_ability_Marginalized\", physical_ability_marginalized)\n",
    "        Bias_types.append(\"Physical_ability\")\n",
    "        M_Bias_scores.append(physical_ability_marginalized_bias_score)     \n",
    "        \n",
    "    def print_bias_scores_for_Non_marginalized_groups():    \n",
    "        sexual_Non_marginalized = results_df[results_df[\"bias_type\"] == \"Sexual_orientation_Non_Marginalized\"]\n",
    "        gender_Non_marginalized = results_df[results_df[\"bias_type\"] == \"Gender_Non_marginalized\"]\n",
    "        race_Non_marginalized = results_df[results_df[\"bias_type\"] == \"Race_Non_marginalized\"]\n",
    "        religion_Non_marginalized = results_df[results_df[\"bias_type\"] == \"Religion_Non_Marginalized\"]\n",
    "        physical_ability_Non_marginalized = results_df[results_df[\"bias_type\"] == \"Physical_ability_Non_Marginalized\"]\n",
    "        Refugees_Non_marginalized = results_df[results_df[\"bias_type\"] == \"Refugees_Non_Marginalized\"]\n",
    "\n",
    "        Sexual_orientation_Non_Marginalized, sexual_Non_marginalized_bias_score = print_SOS_bias(\"Sexual_orientation_Non_Marginalized\", sexual_Non_marginalized)\n",
    "        N_M_Bias_scores.append(sexual_Non_marginalized_bias_score)  \n",
    "        \n",
    "        Gender_Non_Marginalized, gender_Non_marginalized_bias_score = print_SOS_bias(\"Gender_Non_Marginalized\", gender_Non_marginalized)\n",
    "        N_M_Bias_scores.append(gender_Non_marginalized_bias_score) \n",
    "        \n",
    "        Refugees_Non_Marginalized, refugees_Non_marginalized_bias_score = print_SOS_bias(\"Refugees_Non_Marginalized\", Refugees_Non_marginalized)\n",
    "        N_M_Bias_scores.append(refugees_Non_marginalized_bias_score) \n",
    "                       \n",
    "        Race_Non_Marginalized, race_Non_marginalized_bias_scores = print_SOS_bias(\"Race_Non_Marginalized\", race_Non_marginalized)\n",
    "        N_M_Bias_scores.append(race_Non_marginalized_bias_scores)         \n",
    "        \n",
    "        Religion_Non_Marginalized, religion_Non_marginalized_bias_scores = print_SOS_bias(\"Religion_Non_Marginalized\", religion_Non_marginalized)\n",
    "        N_M_Bias_scores.append(religion_Non_marginalized_bias_scores)           \n",
    "        \n",
    "        Physical_ability_Non_Marginalized, physical_ability_Non_marginalized_bias_scores = print_SOS_bias(\"Physical_ability_Non_Marginalized\", physical_ability_Non_marginalized)\n",
    "        N_M_Bias_scores.append(physical_ability_Non_marginalized_bias_scores)         \n",
    "        \n",
    "    print_SOS_bias(\"total bias\",results_df)\n",
    "    print_bias_scores_for_marginalized_groups()\n",
    "    print_bias_scores_for_Non_marginalized_groups()\n",
    "    \n",
    "\n",
    "    detailed_results_df = pd.DataFrame({\"Model_Name\":[model_name]*len(M_Bias_scores),\n",
    "                                        \"Bias_Type\": Bias_types,\n",
    "                                        \"Marginalized_Bias_Score\": M_Bias_scores,\n",
    "                                        \"Non_Maarginalized_Bias_scores\": N_M_Bias_scores})\n",
    "    \n",
    "    return detailed_results_df"
   ],
   "metadata": {
    "collapsed": false,
    "ExecuteTime": {
     "end_time": "2024-12-06T19:16:11.192517Z",
     "start_time": "2024-12-06T19:16:11.176706Z"
    }
   },
   "id": "e37a9c3dacf2d3d6",
   "outputs": [],
   "execution_count": 11
  },
  {
   "cell_type": "markdown",
   "source": [],
   "metadata": {
    "collapsed": false
   },
   "id": "697a5c8df6e795cb"
  },
  {
   "cell_type": "code",
   "source": [
    "BART_results_Masc = pd.read_csv(\"../../German_LMs/encoder_decoder/German_BART/Germany_SOS_Male_BART.csv\")\n",
    "BART_results_Femm = pd.read_csv(\"../../German_LMs/encoder_decoder/German_BART/Germany_SOS_Female_BART.csv\")\n",
    "BART_results_NB = pd.read_csv(\"../../German_LMs/encoder_decoder/German_BART/Germany_SOS_Non_Binary_BART.csv\")\n",
    "\n",
    "BERT_results_Masc = pd.read_csv(\"../../German_LMs/Encoder_only/German_BERT/Germany_SOS_Male_BERT.csv\")\n",
    "BERT_results_Femm = pd.read_csv(\"../../German_LMs/Encoder_only/German_BERT/Germany_SOS_Female_BERT.csv\")\n",
    "BERT_results_NB = pd.read_csv(\"../../German_LMs/Encoder_only/German_BERT/Germany_SOS_Non_Binary_BERT.csv\")\n",
    "\n",
    "XLM_RoBERTa_German_results_Masc = pd.read_csv(\"../../German_LMs/Encoder_only/XLM_RoBERTa_German/Germany_SOS_Male_XLM_Roberta.csv\")\n",
    "XLM_RoBERTa_German_results_Femm = pd.read_csv(\"../../German_LMs/Encoder_only/XLM_RoBERTa_German/Germany_SOS_Female_XLM_Roberta.csv\")\n",
    "XLM_RoBERTa_German_results_NB = pd.read_csv(\"../../German_LMs/Encoder_only/XLM_RoBERTa_German/Germany_SOS_Non_Binary_XLM_Roberta.csv\")\n",
    "\n",
    "XML_Roberta_results_Masc = pd.read_csv(\"../../German_LMs/Multilingual_LMs/Encoder_only/XLM_Roberta/Germany_SOS_Male_XLM_Muluilingual.csv\")\n",
    "XML_Roberta_results_Femm = pd.read_csv(\"../../German_LMs/Multilingual_LMs/Encoder_only/XLM_Roberta/Germany_SOS_Female_XLM_Muluilingual.csv\")\n",
    "XML_Roberta_results_NB = pd.read_csv(\"../../German_LMs/Multilingual_LMs/Encoder_only/XLM_Roberta/Germany_SOS_non_Binary_XLM_Muluilingual.csv\")"
   ],
   "metadata": {
    "collapsed": false,
    "ExecuteTime": {
     "end_time": "2024-12-06T19:16:12.715802Z",
     "start_time": "2024-12-06T19:16:12.642390Z"
    }
   },
   "id": "2c6769131acb0df7",
   "outputs": [],
   "execution_count": 12
  },
  {
   "cell_type": "code",
   "source": [
    "print(\"Results for BART_results_Masc\")\n",
    "BART_results_Masc_results_df = results_toxic_analysis_full_report(BART_results_Masc, \"BART_results_Masc\")\n",
    "BART_results_Masc_results_df.to_csv(\"./German_BART/BART_results_Masc_SOS.csv\", index=False)\n",
    "\n",
    "print(\"Results for BART_results_Femm\")\n",
    "BART_results_Femm_results_df = results_toxic_analysis_full_report(BART_results_Femm,\"BART_results_Femm\")\n",
    "BART_results_Femm_results_df.to_csv(\"./German_BART/BART_results_Femm_SOS.csv\", index=False)\n",
    "\n",
    "print(\"Results for BART_results_NB\")\n",
    "BART_results_NB_results_df = results_toxic_analysis_full_report(BART_results_NB,\"BART_results_NB\")\n",
    "BART_results_NB_results_df.to_csv(\"./German_BART/BART_results_NB_SOS.csv\", index=False)"
   ],
   "metadata": {
    "collapsed": false,
    "ExecuteTime": {
     "end_time": "2024-12-06T19:16:17.444597Z",
     "start_time": "2024-12-06T19:16:17.415123Z"
    }
   },
   "id": "d10095f07266d068",
   "outputs": [
    {
     "name": "stdout",
     "output_type": "stream",
     "text": [
      "Results for BART_results_Masc\n",
      "Results for BART_results_Femm\n",
      "Results for BART_results_NB\n"
     ]
    }
   ],
   "execution_count": 13
  },
  {
   "cell_type": "code",
   "source": [
    "print(\"Results for BERT_results_Masc\")\n",
    "BERT_results_Masc_results_df = results_toxic_analysis_full_report(BERT_results_Masc, \"BERT_results_Masc\")\n",
    "BERT_results_Masc_results_df.to_csv(\"./German_BERT/BERT_results_Masc_SOS.csv\", index=False)\n",
    "\n",
    "print(\"Results for BERT_results_Femm\")\n",
    "BERT_results_Femm_results_df = results_toxic_analysis_full_report(BERT_results_Femm,\"BERT_results_Femm\")\n",
    "BERT_results_Femm_results_df.to_csv(\"./German_BERT/BERT_results_Femm_SOS.csv\", index=False)\n",
    "\n",
    "print(\"Results for BERT_results_NB\")\n",
    "BERT_results_NB_results_df = results_toxic_analysis_full_report(BERT_results_NB,\"BERT_results_NB\")\n",
    "BERT_results_NB_results_df.to_csv(\"./German_BERT/BERT_results_NB_SOS.csv\", index=False)"
   ],
   "metadata": {
    "collapsed": false,
    "ExecuteTime": {
     "end_time": "2024-12-06T19:16:18.515759Z",
     "start_time": "2024-12-06T19:16:18.488368Z"
    }
   },
   "id": "83b86cac175bb34b",
   "outputs": [
    {
     "name": "stdout",
     "output_type": "stream",
     "text": [
      "Results for BERT_results_Masc\n",
      "Results for BERT_results_Femm\n",
      "Results for BERT_results_NB\n"
     ]
    }
   ],
   "execution_count": 14
  },
  {
   "cell_type": "code",
   "source": [
    "print(\"Results for XLM_RoBERTa_German_results_Masc\")\n",
    "XLM_RoBERTa_German_results_Masc_results_df = results_toxic_analysis_full_report(XLM_RoBERTa_German_results_Masc, \"XLM_RoBERTa_German_results_Masc\")\n",
    "XLM_RoBERTa_German_results_Masc_results_df.to_csv(\"./XLM_RoBERTa_German/XLM_RoBERTa_German_results_Masc_SOS.csv\", index=False)\n",
    "\n",
    "print(\"Results for XLM_RoBERTa_German_results_Femm\")\n",
    "XLM_RoBERTa_German_results_Femm_results_df = results_toxic_analysis_full_report(XLM_RoBERTa_German_results_Femm,\"XLM_RoBERTa_German_results_Femm\")\n",
    "XLM_RoBERTa_German_results_Femm_results_df.to_csv(\"./XLM_RoBERTa_German/XLM_RoBERTa_German_results_Femm_SOS.csv\", index=False)\n",
    "\n",
    "print(\"Results for XLM_RoBERTa_German_results_NB\")\n",
    "XLM_RoBERTa_German_results_NB_results_df = results_toxic_analysis_full_report(XLM_RoBERTa_German_results_NB,\"XLM_RoBERTa_German_results_NB\")\n",
    "XLM_RoBERTa_German_results_NB_results_df.to_csv(\"./XLM_RoBERTa_German/XLM_RoBERTa_German_results_NB_SOS.csv\", index=False)"
   ],
   "metadata": {
    "collapsed": false,
    "ExecuteTime": {
     "end_time": "2024-12-06T19:16:19.147160Z",
     "start_time": "2024-12-06T19:16:19.056008Z"
    }
   },
   "id": "c06d6d8e3aa96be1",
   "outputs": [
    {
     "name": "stdout",
     "output_type": "stream",
     "text": [
      "Results for XLM_RoBERTa_German_results_Masc\n",
      "Results for XLM_RoBERTa_German_results_Femm\n",
      "Results for XLM_RoBERTa_German_results_NB\n"
     ]
    }
   ],
   "execution_count": 15
  },
  {
   "cell_type": "code",
   "execution_count": 16,
   "outputs": [
    {
     "name": "stdout",
     "output_type": "stream",
     "text": [
      "Results for XML_Roberta_results_Masc\n",
      "Results for XML_Roberta_results_Femm\n",
      "Results for XML_Roberta_results_NB\n"
     ]
    }
   ],
   "source": [
    "print(\"Results for XML_Roberta_results_Masc\")\n",
    "XML_Roberta_results_Masc_results_df = results_toxic_analysis_full_report(XML_Roberta_results_Masc, \"XML_Roberta_results_Masc\")\n",
    "XML_Roberta_results_Masc_results_df.to_csv(\"./XLM_Roberta_Multilingual/XML_Roberta_results_Masc.csv\", index=False)\n",
    "\n",
    "print(\"Results for XML_Roberta_results_Femm\")\n",
    "XML_Roberta_results_Femm_results_df = results_toxic_analysis_full_report(XML_Roberta_results_Femm,\"XML_Roberta_results_Femm\")\n",
    "XML_Roberta_results_Femm_results_df.to_csv(\"./XLM_Roberta_Multilingual/XML_Roberta_results_Femm.csv\", index=False)\n",
    "\n",
    "print(\"Results for XML_Roberta_results_NB\")\n",
    "XML_Roberta_results_NB_results_df = results_toxic_analysis_full_report(XML_Roberta_results_NB,\"XML_Roberta_results_NB\")\n",
    "XML_Roberta_results_NB_results_df.to_csv(\"./XLM_Roberta_Multilingual/XML_Roberta_results_NB.csv\", index=False)"
   ],
   "metadata": {
    "collapsed": false,
    "ExecuteTime": {
     "end_time": "2024-12-06T19:16:19.702377Z",
     "start_time": "2024-12-06T19:16:19.673911Z"
    }
   },
   "id": "4ad131001810ce60"
  },
  {
   "cell_type": "code",
   "execution_count": null,
   "outputs": [],
   "source": [],
   "metadata": {
    "collapsed": false,
    "ExecuteTime": {
     "start_time": "2024-12-06T17:51:54.241336Z"
    }
   },
   "id": "732550b3456a01b6"
  }
 ],
 "metadata": {
  "kernelspec": {
   "display_name": "Python 3",
   "language": "python",
   "name": "python3"
  },
  "language_info": {
   "codemirror_mode": {
    "name": "ipython",
    "version": 2
   },
   "file_extension": ".py",
   "mimetype": "text/x-python",
   "name": "python",
   "nbconvert_exporter": "python",
   "pygments_lexer": "ipython2",
   "version": "2.7.6"
  }
 },
 "nbformat": 4,
 "nbformat_minor": 5
}
