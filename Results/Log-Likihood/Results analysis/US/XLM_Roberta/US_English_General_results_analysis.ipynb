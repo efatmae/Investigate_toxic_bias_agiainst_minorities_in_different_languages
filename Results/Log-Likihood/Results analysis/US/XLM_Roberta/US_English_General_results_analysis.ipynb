{
 "cells": [
  {
   "cell_type": "code",
   "id": "initial_id",
   "metadata": {
    "collapsed": true,
    "ExecuteTime": {
     "end_time": "2024-12-06T15:47:17.065708Z",
     "start_time": "2024-12-06T15:47:16.453816Z"
    }
   },
   "source": [
    "import pandas as pd\n",
    "import scipy.stats as st"
   ],
   "outputs": [
    {
     "name": "stderr",
     "output_type": "stream",
     "text": [
      "/var/folders/x3/1y_5ght92yzbk007v60qj2k40000gn/T/ipykernel_66392/1332252869.py:1: DeprecationWarning: \n",
      "Pyarrow will become a required dependency of pandas in the next major release of pandas (pandas 3.0),\n",
      "(to allow more performant data types, such as the Arrow string type, and better interoperability with other libraries)\n",
      "but was not found to be installed on your system.\n",
      "If this would cause problems for you,\n",
      "please provide us feedback at https://github.com/pandas-dev/pandas/issues/54466\n",
      "        \n",
      "  import pandas as pd\n"
     ]
    }
   ],
   "execution_count": 1
  },
  {
   "cell_type": "code",
   "source": [
    "def results_toxic_analysis_full_report (results_df, model_name):\n",
    "    \n",
    "    Bias_types = []\n",
    "    M_Bias_scores = []\n",
    "    N_M_Bias_scores = []\n",
    "    \n",
    "    def print_SOS_bias(bias_tpe, df):\n",
    "        '''Total SOS bias scores'''\n",
    "        No_biased_entires = len(df[df[\"score\"] == 1])\n",
    "        SOS_bias_score = No_biased_entires / len(df)\n",
    "        return bias_tpe, SOS_bias_score\n",
    "    \n",
    "    def print_bias_scores_for_marginalized_groups():\n",
    "        sexual_marginalized = results_df[results_df[\"bias_type\"] == \"Sexual_orientation_Marginalized\"]\n",
    "        sexual_marginalized, sexual_marginalized_bias_score = print_SOS_bias(\"Sexual_orientation_Marginalized\",sexual_marginalized)\n",
    "        Bias_types.append(\"Sexual_orientation\")\n",
    "        M_Bias_scores.append(sexual_marginalized_bias_score)\n",
    "        \n",
    "        gender_marginalized = results_df[results_df[\"bias_type\"] == \"Gender_Marginalized\"]\n",
    "        Bias_types.append(\"Gender\")\n",
    "        \n",
    "        if len(gender_marginalized) > 0:\n",
    "            Gender_Marginalized, gender_marginalized_bias_score = print_SOS_bias(\"Gender_Marginalized\",gender_marginalized)\n",
    "            M_Bias_scores.append(gender_marginalized_bias_score)\n",
    "            \n",
    "        else:\n",
    "            \n",
    "            M_Bias_scores.append(0)\n",
    "            \n",
    "        race_marginalized = results_df[results_df[\"bias_type\"] == \"Race_Marginalized\"]\n",
    "        Race_Marginalized, race_marginalized_bias_scores = print_SOS_bias(\"Race_Marginalized\", race_marginalized)\n",
    "        Bias_types.append(\"Race\")\n",
    "        M_Bias_scores.append(race_marginalized_bias_scores)\n",
    "        \n",
    "        religion_marginalized = results_df[results_df[\"bias_type\"] == \"Religion_Marginalized\"]\n",
    "        Religion_orientation_Marginalized, religion_marginalized_bias_score = print_SOS_bias(\"Religion_orientation_Marginalized\",religion_marginalized)\n",
    "        Bias_types.append(\"Religion\")\n",
    "        M_Bias_scores.append(religion_marginalized_bias_score)\n",
    "        \n",
    "        physical_ability_marginalized = results_df[results_df[\"bias_type\"] == \"Physical_ability_Marginalized\"]\n",
    "        Physical_ability_Marginalized, physical_ability_marginalized_bias_score = print_SOS_bias(\"Physical_ability_Marginalized\", physical_ability_marginalized)\n",
    "        Bias_types.append(\"Physical_ability\")\n",
    "        M_Bias_scores.append(physical_ability_marginalized_bias_score)     \n",
    "        \n",
    "    def print_bias_scores_for_Non_marginalized_groups():    \n",
    "        sexual_Non_marginalized = results_df[results_df[\"bias_type\"] == \"Sexual_orientation_Non_Marginalized\"]\n",
    "        gender_Non_marginalized = results_df[results_df[\"bias_type\"] == \"Gender_Non_marginalized\"]\n",
    "        race_Non_marginalized = results_df[results_df[\"bias_type\"] == \"Race_Non_marginalized\"]\n",
    "        religion_Non_marginalized = results_df[results_df[\"bias_type\"] == \"Religion_Non_Marginalized\"]\n",
    "        physical_ability_Non_marginalized = results_df[results_df[\"bias_type\"] == \"Physical_ability_Non_Marginalized\"]\n",
    "\n",
    "        Sexual_orientation_Non_Marginalized, sexual_Non_marginalized_bias_score = print_SOS_bias(\"Sexual_orientation_Non_Marginalized\", sexual_Non_marginalized)\n",
    "\n",
    "        N_M_Bias_scores.append(sexual_Non_marginalized_bias_score)  \n",
    "        \n",
    "        if len(gender_Non_marginalized) > 0:\n",
    "            Gender_Non_Marginalized, gender_Non_marginalized_bias_score = print_SOS_bias(\"Gender_Non_Marginalized\", gender_Non_marginalized)\n",
    "\n",
    "            N_M_Bias_scores.append(gender_Non_marginalized_bias_score) \n",
    "            \n",
    "        else:\n",
    "            N_M_Bias_scores.append(0)\n",
    "\n",
    "            \n",
    "        Race_Non_Marginalized, race_Non_marginalized_bias_scores = print_SOS_bias(\"Race_Non_Marginalized\", race_Non_marginalized)\n",
    "\n",
    "        N_M_Bias_scores.append(race_Non_marginalized_bias_scores)         \n",
    "        \n",
    "        Religion_Non_Marginalized, religion_Non_marginalized_bias_scores = print_SOS_bias(\"Religion_Non_Marginalized\", religion_Non_marginalized)\n",
    " \n",
    "        N_M_Bias_scores.append(religion_Non_marginalized_bias_scores)           \n",
    "        \n",
    "        Physical_ability_Non_Marginalized, physical_ability_Non_marginalized_bias_scores = print_SOS_bias(\"Physical_ability_Non_Marginalized\", physical_ability_Non_marginalized)\n",
    "\n",
    "        N_M_Bias_scores.append(physical_ability_Non_marginalized_bias_scores)         \n",
    "        \n",
    "    print_SOS_bias(\"total bias\",results_df)\n",
    "    print_bias_scores_for_marginalized_groups()\n",
    "    print_bias_scores_for_Non_marginalized_groups()\n",
    "    \n",
    "\n",
    "    detailed_results_df = pd.DataFrame({\"Model_Name\":[model_name]*len(M_Bias_scores),\n",
    "                                        \"Bias_Type\": Bias_types,\n",
    "                                        \"Marginalized_Bias_Score\": M_Bias_scores,\n",
    "                                        \"Non_Maarginalized_Bias_scores\": N_M_Bias_scores})\n",
    "    \n",
    "    return detailed_results_df"
   ],
   "metadata": {
    "collapsed": false,
    "ExecuteTime": {
     "end_time": "2024-12-06T15:47:17.073172Z",
     "start_time": "2024-12-06T15:47:17.071491Z"
    }
   },
   "id": "e37a9c3dacf2d3d6",
   "outputs": [],
   "execution_count": 2
  },
  {
   "cell_type": "code",
   "source": [
    "BART_results_Masc = pd.read_csv(\"../../English_LMs/encoder_decoder/BART/US_SOS_Male_BART.csv\")\n",
    "BART_results_Femm = pd.read_csv(\"../../English_LMs/encoder_decoder/BART/US_SOS_Female_BART.csv\")\n",
    "BART_results_NB = pd.read_csv(\"../../English_LMs/encoder_decoder/BART/US_SOS_Non_Binary_BART.csv\")\n",
    "\n",
    "AlBERT_results_Masc = pd.read_csv(\"../../English_LMs/Encoder_only/ALBERT/US_SOS_Male_albert-base-v2.csv\")\n",
    "AlBERT_results_Femm = pd.read_csv(\"../../English_LMs/Encoder_only/ALBERT/US_SOS_Female_albert-base-v2.csv\")\n",
    "AlBERT_results_NB = pd.read_csv(\"../../English_LMs/Encoder_only/ALBERT/US_SOS_Non_Binary_albert-base-v2.csv\")\n",
    "\n",
    "BERT_results_Masc = pd.read_csv(\"../../English_LMs/Encoder_only/BERT/US_SOS_male_bert-base.csv\")\n",
    "BERT_results_Femm = pd.read_csv(\"../../English_LMs/Encoder_only/BERT/US_SOS_female_bert-base.csv\")\n",
    "BERT_results_NB = pd.read_csv(\"../../English_LMs/Encoder_only/BERT/US_SOS_Non_Binary_bert-base.csv\")\n",
    "\n",
    "XML_Roberta_results_Masc = pd.read_csv(\"../../English_LMs/Multilingual_LMs/Encoder_only/XLM_Roberta/US_SOS_Male.csv\")\n",
    "XML_Roberta_results_Femm = pd.read_csv(\"../../English_LMs/Multilingual_LMs/Encoder_only/XLM_Roberta/US_SOS_Female.csv\")\n",
    "XML_Roberta_results_NB = pd.read_csv(\"../../English_LMs/Multilingual_LMs/Encoder_only/XLM_Roberta/US_SOS_Non_Binary.csv\")"
   ],
   "metadata": {
    "collapsed": false,
    "ExecuteTime": {
     "end_time": "2024-12-06T15:49:17.111282Z",
     "start_time": "2024-12-06T15:49:17.017328Z"
    }
   },
   "id": "2c6769131acb0df7",
   "outputs": [
    {
     "ename": "FileNotFoundError",
     "evalue": "[Errno 2] No such file or directory: '../../English_LMs/Encoder_only/BERT/UK_SOS_male_bert-base.csv'",
     "output_type": "error",
     "traceback": [
      "\u001B[0;31m---------------------------------------------------------------------------\u001B[0m",
      "\u001B[0;31mFileNotFoundError\u001B[0m                         Traceback (most recent call last)",
      "Cell \u001B[0;32mIn[5], line 9\u001B[0m\n\u001B[1;32m      6\u001B[0m AlBERT_results_Femm \u001B[38;5;241m=\u001B[39m pd\u001B[38;5;241m.\u001B[39mread_csv(\u001B[38;5;124m\"\u001B[39m\u001B[38;5;124m../../English_LMs/Encoder_only/ALBERT/UK_SOS_Female_albert-base-v2.csv\u001B[39m\u001B[38;5;124m\"\u001B[39m)\n\u001B[1;32m      7\u001B[0m AlBERT_results_NB \u001B[38;5;241m=\u001B[39m pd\u001B[38;5;241m.\u001B[39mread_csv(\u001B[38;5;124m\"\u001B[39m\u001B[38;5;124m../../English_LMs/Encoder_only/ALBERT/UK_SOS_Non_Binary_albert-base-v2.csv\u001B[39m\u001B[38;5;124m\"\u001B[39m)\n\u001B[0;32m----> 9\u001B[0m BERT_results_Masc \u001B[38;5;241m=\u001B[39m \u001B[43mpd\u001B[49m\u001B[38;5;241;43m.\u001B[39;49m\u001B[43mread_csv\u001B[49m\u001B[43m(\u001B[49m\u001B[38;5;124;43m\"\u001B[39;49m\u001B[38;5;124;43m../../English_LMs/Encoder_only/BERT/UK_SOS_male_bert-base.csv\u001B[39;49m\u001B[38;5;124;43m\"\u001B[39;49m\u001B[43m)\u001B[49m\n\u001B[1;32m     10\u001B[0m BERT_results_Femm \u001B[38;5;241m=\u001B[39m pd\u001B[38;5;241m.\u001B[39mread_csv(\u001B[38;5;124m\"\u001B[39m\u001B[38;5;124m../../English_LMs/Encoder_only/BERT/UK_SOS_female_bert-base.csv\u001B[39m\u001B[38;5;124m\"\u001B[39m)\n\u001B[1;32m     11\u001B[0m BERT_results_NB \u001B[38;5;241m=\u001B[39m pd\u001B[38;5;241m.\u001B[39mread_csv(\u001B[38;5;124m\"\u001B[39m\u001B[38;5;124m../../English_LMs/Encoder_only/BERT/UK_SOS_Non_Binary_bert-base.csv\u001B[39m\u001B[38;5;124m\"\u001B[39m)\n",
      "File \u001B[0;32m~/Library/Python/3.9/lib/python/site-packages/pandas/io/parsers/readers.py:1024\u001B[0m, in \u001B[0;36mread_csv\u001B[0;34m(filepath_or_buffer, sep, delimiter, header, names, index_col, usecols, dtype, engine, converters, true_values, false_values, skipinitialspace, skiprows, skipfooter, nrows, na_values, keep_default_na, na_filter, verbose, skip_blank_lines, parse_dates, infer_datetime_format, keep_date_col, date_parser, date_format, dayfirst, cache_dates, iterator, chunksize, compression, thousands, decimal, lineterminator, quotechar, quoting, doublequote, escapechar, comment, encoding, encoding_errors, dialect, on_bad_lines, delim_whitespace, low_memory, memory_map, float_precision, storage_options, dtype_backend)\u001B[0m\n\u001B[1;32m   1011\u001B[0m kwds_defaults \u001B[38;5;241m=\u001B[39m _refine_defaults_read(\n\u001B[1;32m   1012\u001B[0m     dialect,\n\u001B[1;32m   1013\u001B[0m     delimiter,\n\u001B[0;32m   (...)\u001B[0m\n\u001B[1;32m   1020\u001B[0m     dtype_backend\u001B[38;5;241m=\u001B[39mdtype_backend,\n\u001B[1;32m   1021\u001B[0m )\n\u001B[1;32m   1022\u001B[0m kwds\u001B[38;5;241m.\u001B[39mupdate(kwds_defaults)\n\u001B[0;32m-> 1024\u001B[0m \u001B[38;5;28;01mreturn\u001B[39;00m \u001B[43m_read\u001B[49m\u001B[43m(\u001B[49m\u001B[43mfilepath_or_buffer\u001B[49m\u001B[43m,\u001B[49m\u001B[43m \u001B[49m\u001B[43mkwds\u001B[49m\u001B[43m)\u001B[49m\n",
      "File \u001B[0;32m~/Library/Python/3.9/lib/python/site-packages/pandas/io/parsers/readers.py:618\u001B[0m, in \u001B[0;36m_read\u001B[0;34m(filepath_or_buffer, kwds)\u001B[0m\n\u001B[1;32m    615\u001B[0m _validate_names(kwds\u001B[38;5;241m.\u001B[39mget(\u001B[38;5;124m\"\u001B[39m\u001B[38;5;124mnames\u001B[39m\u001B[38;5;124m\"\u001B[39m, \u001B[38;5;28;01mNone\u001B[39;00m))\n\u001B[1;32m    617\u001B[0m \u001B[38;5;66;03m# Create the parser.\u001B[39;00m\n\u001B[0;32m--> 618\u001B[0m parser \u001B[38;5;241m=\u001B[39m \u001B[43mTextFileReader\u001B[49m\u001B[43m(\u001B[49m\u001B[43mfilepath_or_buffer\u001B[49m\u001B[43m,\u001B[49m\u001B[43m \u001B[49m\u001B[38;5;241;43m*\u001B[39;49m\u001B[38;5;241;43m*\u001B[39;49m\u001B[43mkwds\u001B[49m\u001B[43m)\u001B[49m\n\u001B[1;32m    620\u001B[0m \u001B[38;5;28;01mif\u001B[39;00m chunksize \u001B[38;5;129;01mor\u001B[39;00m iterator:\n\u001B[1;32m    621\u001B[0m     \u001B[38;5;28;01mreturn\u001B[39;00m parser\n",
      "File \u001B[0;32m~/Library/Python/3.9/lib/python/site-packages/pandas/io/parsers/readers.py:1618\u001B[0m, in \u001B[0;36mTextFileReader.__init__\u001B[0;34m(self, f, engine, **kwds)\u001B[0m\n\u001B[1;32m   1615\u001B[0m     \u001B[38;5;28mself\u001B[39m\u001B[38;5;241m.\u001B[39moptions[\u001B[38;5;124m\"\u001B[39m\u001B[38;5;124mhas_index_names\u001B[39m\u001B[38;5;124m\"\u001B[39m] \u001B[38;5;241m=\u001B[39m kwds[\u001B[38;5;124m\"\u001B[39m\u001B[38;5;124mhas_index_names\u001B[39m\u001B[38;5;124m\"\u001B[39m]\n\u001B[1;32m   1617\u001B[0m \u001B[38;5;28mself\u001B[39m\u001B[38;5;241m.\u001B[39mhandles: IOHandles \u001B[38;5;241m|\u001B[39m \u001B[38;5;28;01mNone\u001B[39;00m \u001B[38;5;241m=\u001B[39m \u001B[38;5;28;01mNone\u001B[39;00m\n\u001B[0;32m-> 1618\u001B[0m \u001B[38;5;28mself\u001B[39m\u001B[38;5;241m.\u001B[39m_engine \u001B[38;5;241m=\u001B[39m \u001B[38;5;28;43mself\u001B[39;49m\u001B[38;5;241;43m.\u001B[39;49m\u001B[43m_make_engine\u001B[49m\u001B[43m(\u001B[49m\u001B[43mf\u001B[49m\u001B[43m,\u001B[49m\u001B[43m \u001B[49m\u001B[38;5;28;43mself\u001B[39;49m\u001B[38;5;241;43m.\u001B[39;49m\u001B[43mengine\u001B[49m\u001B[43m)\u001B[49m\n",
      "File \u001B[0;32m~/Library/Python/3.9/lib/python/site-packages/pandas/io/parsers/readers.py:1878\u001B[0m, in \u001B[0;36mTextFileReader._make_engine\u001B[0;34m(self, f, engine)\u001B[0m\n\u001B[1;32m   1876\u001B[0m     \u001B[38;5;28;01mif\u001B[39;00m \u001B[38;5;124m\"\u001B[39m\u001B[38;5;124mb\u001B[39m\u001B[38;5;124m\"\u001B[39m \u001B[38;5;129;01mnot\u001B[39;00m \u001B[38;5;129;01min\u001B[39;00m mode:\n\u001B[1;32m   1877\u001B[0m         mode \u001B[38;5;241m+\u001B[39m\u001B[38;5;241m=\u001B[39m \u001B[38;5;124m\"\u001B[39m\u001B[38;5;124mb\u001B[39m\u001B[38;5;124m\"\u001B[39m\n\u001B[0;32m-> 1878\u001B[0m \u001B[38;5;28mself\u001B[39m\u001B[38;5;241m.\u001B[39mhandles \u001B[38;5;241m=\u001B[39m \u001B[43mget_handle\u001B[49m\u001B[43m(\u001B[49m\n\u001B[1;32m   1879\u001B[0m \u001B[43m    \u001B[49m\u001B[43mf\u001B[49m\u001B[43m,\u001B[49m\n\u001B[1;32m   1880\u001B[0m \u001B[43m    \u001B[49m\u001B[43mmode\u001B[49m\u001B[43m,\u001B[49m\n\u001B[1;32m   1881\u001B[0m \u001B[43m    \u001B[49m\u001B[43mencoding\u001B[49m\u001B[38;5;241;43m=\u001B[39;49m\u001B[38;5;28;43mself\u001B[39;49m\u001B[38;5;241;43m.\u001B[39;49m\u001B[43moptions\u001B[49m\u001B[38;5;241;43m.\u001B[39;49m\u001B[43mget\u001B[49m\u001B[43m(\u001B[49m\u001B[38;5;124;43m\"\u001B[39;49m\u001B[38;5;124;43mencoding\u001B[39;49m\u001B[38;5;124;43m\"\u001B[39;49m\u001B[43m,\u001B[49m\u001B[43m \u001B[49m\u001B[38;5;28;43;01mNone\u001B[39;49;00m\u001B[43m)\u001B[49m\u001B[43m,\u001B[49m\n\u001B[1;32m   1882\u001B[0m \u001B[43m    \u001B[49m\u001B[43mcompression\u001B[49m\u001B[38;5;241;43m=\u001B[39;49m\u001B[38;5;28;43mself\u001B[39;49m\u001B[38;5;241;43m.\u001B[39;49m\u001B[43moptions\u001B[49m\u001B[38;5;241;43m.\u001B[39;49m\u001B[43mget\u001B[49m\u001B[43m(\u001B[49m\u001B[38;5;124;43m\"\u001B[39;49m\u001B[38;5;124;43mcompression\u001B[39;49m\u001B[38;5;124;43m\"\u001B[39;49m\u001B[43m,\u001B[49m\u001B[43m \u001B[49m\u001B[38;5;28;43;01mNone\u001B[39;49;00m\u001B[43m)\u001B[49m\u001B[43m,\u001B[49m\n\u001B[1;32m   1883\u001B[0m \u001B[43m    \u001B[49m\u001B[43mmemory_map\u001B[49m\u001B[38;5;241;43m=\u001B[39;49m\u001B[38;5;28;43mself\u001B[39;49m\u001B[38;5;241;43m.\u001B[39;49m\u001B[43moptions\u001B[49m\u001B[38;5;241;43m.\u001B[39;49m\u001B[43mget\u001B[49m\u001B[43m(\u001B[49m\u001B[38;5;124;43m\"\u001B[39;49m\u001B[38;5;124;43mmemory_map\u001B[39;49m\u001B[38;5;124;43m\"\u001B[39;49m\u001B[43m,\u001B[49m\u001B[43m \u001B[49m\u001B[38;5;28;43;01mFalse\u001B[39;49;00m\u001B[43m)\u001B[49m\u001B[43m,\u001B[49m\n\u001B[1;32m   1884\u001B[0m \u001B[43m    \u001B[49m\u001B[43mis_text\u001B[49m\u001B[38;5;241;43m=\u001B[39;49m\u001B[43mis_text\u001B[49m\u001B[43m,\u001B[49m\n\u001B[1;32m   1885\u001B[0m \u001B[43m    \u001B[49m\u001B[43merrors\u001B[49m\u001B[38;5;241;43m=\u001B[39;49m\u001B[38;5;28;43mself\u001B[39;49m\u001B[38;5;241;43m.\u001B[39;49m\u001B[43moptions\u001B[49m\u001B[38;5;241;43m.\u001B[39;49m\u001B[43mget\u001B[49m\u001B[43m(\u001B[49m\u001B[38;5;124;43m\"\u001B[39;49m\u001B[38;5;124;43mencoding_errors\u001B[39;49m\u001B[38;5;124;43m\"\u001B[39;49m\u001B[43m,\u001B[49m\u001B[43m \u001B[49m\u001B[38;5;124;43m\"\u001B[39;49m\u001B[38;5;124;43mstrict\u001B[39;49m\u001B[38;5;124;43m\"\u001B[39;49m\u001B[43m)\u001B[49m\u001B[43m,\u001B[49m\n\u001B[1;32m   1886\u001B[0m \u001B[43m    \u001B[49m\u001B[43mstorage_options\u001B[49m\u001B[38;5;241;43m=\u001B[39;49m\u001B[38;5;28;43mself\u001B[39;49m\u001B[38;5;241;43m.\u001B[39;49m\u001B[43moptions\u001B[49m\u001B[38;5;241;43m.\u001B[39;49m\u001B[43mget\u001B[49m\u001B[43m(\u001B[49m\u001B[38;5;124;43m\"\u001B[39;49m\u001B[38;5;124;43mstorage_options\u001B[39;49m\u001B[38;5;124;43m\"\u001B[39;49m\u001B[43m,\u001B[49m\u001B[43m \u001B[49m\u001B[38;5;28;43;01mNone\u001B[39;49;00m\u001B[43m)\u001B[49m\u001B[43m,\u001B[49m\n\u001B[1;32m   1887\u001B[0m \u001B[43m\u001B[49m\u001B[43m)\u001B[49m\n\u001B[1;32m   1888\u001B[0m \u001B[38;5;28;01massert\u001B[39;00m \u001B[38;5;28mself\u001B[39m\u001B[38;5;241m.\u001B[39mhandles \u001B[38;5;129;01mis\u001B[39;00m \u001B[38;5;129;01mnot\u001B[39;00m \u001B[38;5;28;01mNone\u001B[39;00m\n\u001B[1;32m   1889\u001B[0m f \u001B[38;5;241m=\u001B[39m \u001B[38;5;28mself\u001B[39m\u001B[38;5;241m.\u001B[39mhandles\u001B[38;5;241m.\u001B[39mhandle\n",
      "File \u001B[0;32m~/Library/Python/3.9/lib/python/site-packages/pandas/io/common.py:873\u001B[0m, in \u001B[0;36mget_handle\u001B[0;34m(path_or_buf, mode, encoding, compression, memory_map, is_text, errors, storage_options)\u001B[0m\n\u001B[1;32m    868\u001B[0m \u001B[38;5;28;01melif\u001B[39;00m \u001B[38;5;28misinstance\u001B[39m(handle, \u001B[38;5;28mstr\u001B[39m):\n\u001B[1;32m    869\u001B[0m     \u001B[38;5;66;03m# Check whether the filename is to be opened in binary mode.\u001B[39;00m\n\u001B[1;32m    870\u001B[0m     \u001B[38;5;66;03m# Binary mode does not support 'encoding' and 'newline'.\u001B[39;00m\n\u001B[1;32m    871\u001B[0m     \u001B[38;5;28;01mif\u001B[39;00m ioargs\u001B[38;5;241m.\u001B[39mencoding \u001B[38;5;129;01mand\u001B[39;00m \u001B[38;5;124m\"\u001B[39m\u001B[38;5;124mb\u001B[39m\u001B[38;5;124m\"\u001B[39m \u001B[38;5;129;01mnot\u001B[39;00m \u001B[38;5;129;01min\u001B[39;00m ioargs\u001B[38;5;241m.\u001B[39mmode:\n\u001B[1;32m    872\u001B[0m         \u001B[38;5;66;03m# Encoding\u001B[39;00m\n\u001B[0;32m--> 873\u001B[0m         handle \u001B[38;5;241m=\u001B[39m \u001B[38;5;28;43mopen\u001B[39;49m\u001B[43m(\u001B[49m\n\u001B[1;32m    874\u001B[0m \u001B[43m            \u001B[49m\u001B[43mhandle\u001B[49m\u001B[43m,\u001B[49m\n\u001B[1;32m    875\u001B[0m \u001B[43m            \u001B[49m\u001B[43mioargs\u001B[49m\u001B[38;5;241;43m.\u001B[39;49m\u001B[43mmode\u001B[49m\u001B[43m,\u001B[49m\n\u001B[1;32m    876\u001B[0m \u001B[43m            \u001B[49m\u001B[43mencoding\u001B[49m\u001B[38;5;241;43m=\u001B[39;49m\u001B[43mioargs\u001B[49m\u001B[38;5;241;43m.\u001B[39;49m\u001B[43mencoding\u001B[49m\u001B[43m,\u001B[49m\n\u001B[1;32m    877\u001B[0m \u001B[43m            \u001B[49m\u001B[43merrors\u001B[49m\u001B[38;5;241;43m=\u001B[39;49m\u001B[43merrors\u001B[49m\u001B[43m,\u001B[49m\n\u001B[1;32m    878\u001B[0m \u001B[43m            \u001B[49m\u001B[43mnewline\u001B[49m\u001B[38;5;241;43m=\u001B[39;49m\u001B[38;5;124;43m\"\u001B[39;49m\u001B[38;5;124;43m\"\u001B[39;49m\u001B[43m,\u001B[49m\n\u001B[1;32m    879\u001B[0m \u001B[43m        \u001B[49m\u001B[43m)\u001B[49m\n\u001B[1;32m    880\u001B[0m     \u001B[38;5;28;01melse\u001B[39;00m:\n\u001B[1;32m    881\u001B[0m         \u001B[38;5;66;03m# Binary mode\u001B[39;00m\n\u001B[1;32m    882\u001B[0m         handle \u001B[38;5;241m=\u001B[39m \u001B[38;5;28mopen\u001B[39m(handle, ioargs\u001B[38;5;241m.\u001B[39mmode)\n",
      "\u001B[0;31mFileNotFoundError\u001B[0m: [Errno 2] No such file or directory: '../../English_LMs/Encoder_only/BERT/UK_SOS_male_bert-base.csv'"
     ]
    }
   ],
   "execution_count": 5
  },
  {
   "cell_type": "code",
   "source": [
    "print(\"Results for BART_results_Masc\")\n",
    "BART_results_Masc_results_df = results_toxic_analysis_full_report(BART_results_Masc, \"BART_results_Masc\")\n",
    "BART_results_Masc_results_df.to_csv(\"./BART/AraBART_results_Masc_SOS.csv\", index=False)\n",
    "\n",
    "print(\"Results for BART_results_Femm\")\n",
    "BART_results_Femm_results_df = results_toxic_analysis_full_report(BART_results_Femm,\"BART_results_Femm\")\n",
    "BART_results_Femm_results_df.to_csv(\"./BART/BART_results_Femm_SOS.csv\", index=False)\n",
    "\n",
    "print(\"Results for BART_results_NB\")\n",
    "BART_results_NB_results_df = results_toxic_analysis_full_report(BART_results_NB,\"BART_results_NB\")\n",
    "BART_results_NB_results_df.to_csv(\"./BART/BART_results_NB_SOS.csv\", index=False)"
   ],
   "metadata": {
    "collapsed": false,
    "ExecuteTime": {
     "start_time": "2024-12-06T15:24:22.521748Z"
    }
   },
   "id": "d10095f07266d068",
   "outputs": [],
   "execution_count": null
  },
  {
   "cell_type": "code",
   "source": [
    "print(\"Results for AlBERT_results_Masc\")\n",
    "AlBERT_results_Masc_results_df = results_toxic_analysis_full_report(AlBERT_results_Masc, \"AlBERT_results_Masc\")\n",
    "AlBERT_results_Masc_results_df.to_csv(\"./AlBERT/AlBERT_results_Masc_SOS.csv\", index=False)\n",
    "\n",
    "print(\"Results for AlBERT_results_Femm\")\n",
    "AlBERT_results_Femm_results_df = results_toxic_analysis_full_report(AlBERT_results_Femm,\"AlBERT_results_Femm\")\n",
    "AlBERT_results_Femm_results_df.to_csv(\"./AlBERT/AlBERT_results_Femm_SOS.csv\", index=False)\n",
    "\n",
    "print(\"Results forAlBERT_results_NB\")\n",
    "AlBERT_results_NB_results_df = results_toxic_analysis_full_report(AlBERT_results_NB,\"AlBERT_results_NB\")\n",
    "AlBERT_results_NB_results_df.to_csv(\"./AlBERT/AlBERT_results_NB_SOS.csv\", index=False)"
   ],
   "metadata": {
    "collapsed": false,
    "ExecuteTime": {
     "start_time": "2024-12-06T15:24:22.523337Z"
    }
   },
   "id": "83b86cac175bb34b",
   "outputs": [],
   "execution_count": null
  },
  {
   "cell_type": "code",
   "source": [
    "print(\"Results for BERT_results_Masc\")\n",
    "BERT_results_Masc_results_df = results_toxic_analysis_full_report(BERT_results_Masc, \"BERT_results_Masc\")\n",
    "BERT_results_Masc_results_df.to_csv(\"./BERT/BERT_results_Masc_SOS.csv\", index=False)\n",
    "\n",
    "print(\"Results for BERT_results_Femm\")\n",
    "BERT_results_Femm_results_df = results_toxic_analysis_full_report(BERT_results_Femm,\"BERT_results_Femm\")\n",
    "BERT_results_Femm_results_df.to_csv(\"./BERT/BERT_results_Femm_SOS.csv\", index=False)\n",
    "\n",
    "print(\"Results for BERT_results_NB\")\n",
    "BERT_results_NB_results_df = results_toxic_analysis_full_report(BERT_results_NB,\"BERT_results_NB\")\n",
    "BERT_results_NB_results_df.to_csv(\"./BERT/BERT_results_NB_SOS.csv\", index=False)"
   ],
   "metadata": {
    "collapsed": false,
    "ExecuteTime": {
     "start_time": "2024-12-06T15:24:22.524796Z"
    }
   },
   "id": "c06d6d8e3aa96be1",
   "outputs": [],
   "execution_count": null
  },
  {
   "cell_type": "code",
   "execution_count": null,
   "outputs": [],
   "source": [
    "print(\"Results for XML_Roberta_results_Masc\")\n",
    "XML_Roberta_results_Masc_results_df = results_toxic_analysis_full_report(XML_Roberta_results_Masc, \"XML_Roberta_results_Masc\")\n",
    "XML_Roberta_results_Masc_results_df.to_csv(\"./XLM_Roberta/XML_Roberta_results_Masc.csv\", index=False)\n",
    "\n",
    "print(\"Results for XML_Roberta_results_Femm\")\n",
    "XML_Roberta_results_Femm_results_df = results_toxic_analysis_full_report(XML_Roberta_results_Femm,\"XML_Roberta_results_Femm\")\n",
    "XML_Roberta_results_Femm_results_df.to_csv(\"./XLM_Roberta/XML_Roberta_results_Femm.csv\", index=False)\n",
    "\n",
    "print(\"Results for XML_Roberta_results_NB\")\n",
    "XML_Roberta_results_NB_results_df = results_toxic_analysis_full_report(XML_Roberta_results_NB,\"XML_Roberta_results_NB\")\n",
    "XML_Roberta_results_NB_results_df.to_csv(\"./XLM_Roberta/XML_Roberta_results_NB.csv\", index=False)"
   ],
   "metadata": {
    "collapsed": false,
    "ExecuteTime": {
     "start_time": "2024-12-06T15:24:22.528378Z"
    }
   },
   "id": "4ad131001810ce60"
  },
  {
   "cell_type": "code",
   "execution_count": null,
   "outputs": [],
   "source": [],
   "metadata": {
    "collapsed": false,
    "ExecuteTime": {
     "start_time": "2024-12-06T15:24:22.529478Z"
    }
   },
   "id": "732550b3456a01b6"
  }
 ],
 "metadata": {
  "kernelspec": {
   "display_name": "Python 3",
   "language": "python",
   "name": "python3"
  },
  "language_info": {
   "codemirror_mode": {
    "name": "ipython",
    "version": 2
   },
   "file_extension": ".py",
   "mimetype": "text/x-python",
   "name": "python",
   "nbconvert_exporter": "python",
   "pygments_lexer": "ipython2",
   "version": "2.7.6"
  }
 },
 "nbformat": 4,
 "nbformat_minor": 5
}
