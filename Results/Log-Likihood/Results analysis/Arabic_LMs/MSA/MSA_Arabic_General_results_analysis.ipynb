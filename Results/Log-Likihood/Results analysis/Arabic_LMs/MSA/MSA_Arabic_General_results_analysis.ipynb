{
 "cells": [
  {
   "cell_type": "code",
   "id": "initial_id",
   "metadata": {
    "collapsed": true,
    "ExecuteTime": {
     "end_time": "2024-10-09T14:56:49.867635Z",
     "start_time": "2024-10-09T14:56:49.261717Z"
    }
   },
   "source": [
    "import pandas as pd\n",
    "import scipy.stats as st"
   ],
   "outputs": [
    {
     "name": "stderr",
     "output_type": "stream",
     "text": [
      "/var/folders/x3/1y_5ght92yzbk007v60qj2k40000gn/T/ipykernel_65242/1332252869.py:1: DeprecationWarning: \n",
      "Pyarrow will become a required dependency of pandas in the next major release of pandas (pandas 3.0),\n",
      "(to allow more performant data types, such as the Arrow string type, and better interoperability with other libraries)\n",
      "but was not found to be installed on your system.\n",
      "If this would cause problems for you,\n",
      "please provide us feedback at https://github.com/pandas-dev/pandas/issues/54466\n",
      "        \n",
      "  import pandas as pd\n"
     ]
    }
   ],
   "execution_count": 1
  },
  {
   "cell_type": "code",
   "source": [
    "def results_toxic_analysis_full_report (results_df, model_name):\n",
    "    \n",
    "    Bias_types = []\n",
    "    M_Bias_scores = []\n",
    "    N_M_Bias_scores = []\n",
    "    \n",
    "    def print_SOS_bias(bias_tpe, df):\n",
    "        '''Total SOS bias scores'''\n",
    "        No_biased_entires = len(df[df[\"score\"] == 1])\n",
    "        SOS_bias_score = No_biased_entires / len(df)\n",
    "        return bias_tpe, SOS_bias_score\n",
    "    \n",
    "    def print_bias_scores_for_marginalized_groups():\n",
    "        sexual_marginalized = results_df[results_df[\"bias_type\"] == \"Sexual_orientation_Marginalized\"]\n",
    "       # print(\"len sexual_marginalized \",len(sexual_marginalized))\n",
    "        sexual_marginalized, sexual_marginalized_bias_score = print_SOS_bias(\"Sexual_orientation_Marginalized\",sexual_marginalized)\n",
    "        Bias_types.append(\"Sexual_orientation\")\n",
    "        M_Bias_scores.append(sexual_marginalized_bias_score)\n",
    "        \n",
    "        gender_marginalized = results_df[results_df[\"bias_type\"] == \"Gender_Marginalized\"]\n",
    "        Bias_types.append(\"Gender\")\n",
    "        \n",
    "        if len(gender_marginalized) > 0:\n",
    "            #print(\"len gender_marginalized \",len(gender_marginalized))\n",
    "            Gender_Marginalized, gender_marginalized_bias_score = print_SOS_bias(\"Gender_Marginalized\",gender_marginalized)\n",
    "            M_Bias_scores.append(gender_marginalized_bias_score)\n",
    "            \n",
    "        else:\n",
    "            \n",
    "            M_Bias_scores.append(0)\n",
    "            \n",
    "        race_marginalized = results_df[results_df[\"bias_type\"] == \"Race_Marginalized\"]\n",
    "        #print(\"len race_marginalized \",len(race_marginalized))\n",
    "        Race_Marginalized, race_marginalized_bias_scores = print_SOS_bias(\"Race_Marginalized\", race_marginalized)\n",
    "        Bias_types.append(\"Race\")\n",
    "        M_Bias_scores.append(race_marginalized_bias_scores)\n",
    "        \n",
    "        religion_marginalized = results_df[results_df[\"bias_type\"] == \"Religion_Marginalized\"]\n",
    "        #print(\"len religion_marginalized \",len(religion_marginalized))\n",
    "        Religion_orientation_Marginalized, religion_marginalized_bias_score = print_SOS_bias(\"Religion_orientation_Marginalized\",religion_marginalized)\n",
    "        Bias_types.append(\"Religion\")\n",
    "        M_Bias_scores.append(religion_marginalized_bias_score)\n",
    "    \n",
    "        social_class_marginalized = results_df[results_df[\"bias_type\"] == \"Social-Class_Marginalized\"]\n",
    "        #print(\"len social_class_marginalized \",len(social_class_marginalized))\n",
    "        SocialClass_Marginalized, social_class_marginalized_bias_score = print_SOS_bias(\"Social-Class_Marginalized\", social_class_marginalized)\n",
    "        Bias_types.append(\"Social_Class\")\n",
    "        M_Bias_scores.append(social_class_marginalized_bias_score)\n",
    "        \n",
    "        physical_ability_marginalized = results_df[results_df[\"bias_type\"] == \"Physical_ability_Marginalized\"]\n",
    "       # print(\"len physical_ability_marginalized \",len(physical_ability_marginalized))\n",
    "        Physical_ability_Marginalized, physical_ability_marginalized_bias_score = print_SOS_bias(\"Physical_ability_Marginalized\", physical_ability_marginalized)\n",
    "        Bias_types.append(\"Physical_ability\")\n",
    "        M_Bias_scores.append(physical_ability_marginalized_bias_score)     \n",
    "        \n",
    "    def print_bias_scores_for_Non_marginalized_groups():    \n",
    "        sexual_Non_marginalized = results_df[results_df[\"bias_type\"] == \"Sexual_orientation_Non_Marginalized\"]\n",
    "        gender_Non_marginalized = results_df[results_df[\"bias_type\"] == \"Gender_Non_marginalized\"]\n",
    "        race_Non_marginalized = results_df[results_df[\"bias_type\"] == \"Race_Non_marginalized\"]\n",
    "        religion_Non_marginalized = results_df[results_df[\"bias_type\"] == \"Religion_Non_Marginalized\"]\n",
    "        social_class_Non_marginalized = results_df[results_df[\"bias_type\"] == \"Social-Class_Non_Marginalized\"]\n",
    "        physical_ability_Non_marginalized = results_df[results_df[\"bias_type\"] == \"Physical_ability_Non_Marginalized\"]\n",
    "\n",
    "\n",
    "        Sexual_orientation_Non_Marginalized, sexual_Non_marginalized_bias_score = print_SOS_bias(\"Sexual_orientation_Non_Marginalized\", sexual_Non_marginalized)\n",
    "        #Bias_types.append(Sexual_orientation)\n",
    "        N_M_Bias_scores.append(sexual_Non_marginalized_bias_score)  \n",
    "        \n",
    "        if len(gender_Non_marginalized) > 0:\n",
    "            Gender_Non_Marginalized, gender_Non_marginalized_bias_score = print_SOS_bias(\"Gender_Non_Marginalized\", gender_Non_marginalized)\n",
    "            #N_M_Bias_types.append(Gender_Non_Marginalized)\n",
    "            N_M_Bias_scores.append(gender_Non_marginalized_bias_score) \n",
    "            \n",
    "        else:\n",
    "            N_M_Bias_scores.append(0)\n",
    "\n",
    "            \n",
    "        Race_Non_Marginalized, race_Non_marginalized_bias_scores = print_SOS_bias(\"Race_Non_Marginalized\", race_Non_marginalized)\n",
    "        #N_M_Bias_types.append(Race_Non_Marginalized)\n",
    "        N_M_Bias_scores.append(race_Non_marginalized_bias_scores)         \n",
    "        \n",
    "        Religion_Non_Marginalized, religion_Non_marginalized_bias_scores = print_SOS_bias(\"Religion_Non_Marginalized\", religion_Non_marginalized)\n",
    "        #N_M_Bias_types.append(Religion_Non_Marginalized)\n",
    "        N_M_Bias_scores.append(religion_Non_marginalized_bias_scores)           \n",
    "        \n",
    "        SocialClass_Non_Marginalized, social_class_Non_marginalized_bias_Scores = print_SOS_bias(\"Social-Class_Non_Marginalized\", social_class_Non_marginalized)\n",
    "        #N_M_Bias_types.append(SocialClass_Non_Marginalized)\n",
    "        N_M_Bias_scores.append(social_class_Non_marginalized_bias_Scores) \n",
    "        \n",
    "        Physical_ability_Non_Marginalized, physical_ability_Non_marginalized_bias_scores = print_SOS_bias(\"Physical_ability_Non_Marginalized\", physical_ability_Non_marginalized)\n",
    "        #N_M_Bias_types.append(Physical_ability_Non_Marginalized)\n",
    "        N_M_Bias_scores.append(physical_ability_Non_marginalized_bias_scores)         \n",
    "        \n",
    "    print_SOS_bias(\"total bias\",results_df)\n",
    "    print_bias_scores_for_marginalized_groups()\n",
    "    print_bias_scores_for_Non_marginalized_groups()\n",
    "    \n",
    "\n",
    "    detailed_results_df = pd.DataFrame({\"Model_Name\":[model_name]*len(M_Bias_scores),\n",
    "                                        \"Bias_Type\": Bias_types,\n",
    "                                        \"Marginalized_Bias_Score\": M_Bias_scores,\n",
    "                                        \"Non_Maarginalized_Bias_scores\": N_M_Bias_scores})\n",
    "    \n",
    "    return detailed_results_df"
   ],
   "metadata": {
    "collapsed": false,
    "ExecuteTime": {
     "end_time": "2024-10-09T14:56:49.876878Z",
     "start_time": "2024-10-09T14:56:49.875559Z"
    }
   },
   "id": "e37a9c3dacf2d3d6",
   "outputs": [],
   "execution_count": 2
  },
  {
   "cell_type": "code",
   "source": [
    "def results_non_toxic_analysis_full_report (results_df, model_name):\n",
    "    \n",
    "    Bias_types = []\n",
    "    M_Bias_scores = []\n",
    "    N_M_Bias_scores = []\n",
    "    \n",
    "    def print_SOS_bias(bias_tpe, df):\n",
    "        '''Total SOS bias scores'''\n",
    "        No_biased_entires = len(df[df[\"score\"] == 0])\n",
    "        SOS_bias_score = No_biased_entires / len(df)\n",
    "        return bias_tpe, SOS_bias_score\n",
    "    \n",
    "    def print_bias_scores_for_marginalized_groups():\n",
    "        sexual_marginalized = results_df[results_df[\"bias_type\"] == \"Sexual_orientation_Marginalized\"]\n",
    "       # print(\"len sexual_marginalized \",len(sexual_marginalized))\n",
    "        sexual_marginalized, sexual_marginalized_bias_score = print_SOS_bias(\"Sexual_orientation_Marginalized\",sexual_marginalized)\n",
    "        Bias_types.append(\"Sexual_orientation\")\n",
    "        M_Bias_scores.append(sexual_marginalized_bias_score)\n",
    "        \n",
    "        gender_marginalized = results_df[results_df[\"bias_type\"] == \"Gender_Marginalized\"]\n",
    "        Bias_types.append(\"Gender\")\n",
    "        \n",
    "        if len(gender_marginalized) > 0:\n",
    "            #print(\"len gender_marginalized \",len(gender_marginalized))\n",
    "            Gender_Marginalized, gender_marginalized_bias_score = print_SOS_bias(\"Gender_Marginalized\",gender_marginalized)\n",
    "            M_Bias_scores.append(gender_marginalized_bias_score)\n",
    "            \n",
    "        else:\n",
    "            \n",
    "            M_Bias_scores.append(0)\n",
    "            \n",
    "        race_marginalized = results_df[results_df[\"bias_type\"] == \"Race_Marginalized\"]\n",
    "        #print(\"len race_marginalized \",len(race_marginalized))\n",
    "        Race_Marginalized, race_marginalized_bias_scores = print_SOS_bias(\"Race_Marginalized\", race_marginalized)\n",
    "        Bias_types.append(\"Race\")\n",
    "        M_Bias_scores.append(race_marginalized_bias_scores)\n",
    "        \n",
    "        religion_marginalized = results_df[results_df[\"bias_type\"] == \"Religion_Marginalized\"]\n",
    "        #print(\"len religion_marginalized \",len(religion_marginalized))\n",
    "        Religion_orientation_Marginalized, religion_marginalized_bias_score = print_SOS_bias(\"Religion_orientation_Marginalized\",religion_marginalized)\n",
    "        Bias_types.append(\"Religion\")\n",
    "        M_Bias_scores.append(religion_marginalized_bias_score)\n",
    "    \n",
    "        social_class_marginalized = results_df[results_df[\"bias_type\"] == \"Social-Class_Marginalized\"]\n",
    "        #print(\"len social_class_marginalized \",len(social_class_marginalized))\n",
    "        SocialClass_Marginalized, social_class_marginalized_bias_score = print_SOS_bias(\"Social-Class_Marginalized\", social_class_marginalized)\n",
    "        Bias_types.append(\"Social_Class\")\n",
    "        M_Bias_scores.append(social_class_marginalized_bias_score)\n",
    "        \n",
    "        physical_ability_marginalized = results_df[results_df[\"bias_type\"] == \"Physical_ability_Marginalized\"]\n",
    "       # print(\"len physical_ability_marginalized \",len(physical_ability_marginalized))\n",
    "        Physical_ability_Marginalized, physical_ability_marginalized_bias_score = print_SOS_bias(\"Physical_ability_Marginalized\", physical_ability_marginalized)\n",
    "        Bias_types.append(\"Physical_ability\")\n",
    "        M_Bias_scores.append(physical_ability_marginalized_bias_score)     \n",
    "        \n",
    "    def print_bias_scores_for_Non_marginalized_groups():    \n",
    "        sexual_Non_marginalized = results_df[results_df[\"bias_type\"] == \"Sexual_orientation_Non_Marginalized\"]\n",
    "        gender_Non_marginalized = results_df[results_df[\"bias_type\"] == \"Gender_Non_marginalized\"]\n",
    "        race_Non_marginalized = results_df[results_df[\"bias_type\"] == \"Race_Non_marginalized\"]\n",
    "        religion_Non_marginalized = results_df[results_df[\"bias_type\"] == \"Religion_Non_Marginalized\"]\n",
    "        social_class_Non_marginalized = results_df[results_df[\"bias_type\"] == \"Social-Class_Non_Marginalized\"]\n",
    "        physical_ability_Non_marginalized = results_df[results_df[\"bias_type\"] == \"Physical_ability_Non_Marginalized\"]\n",
    "\n",
    "\n",
    "        Sexual_orientation_Non_Marginalized, sexual_Non_marginalized_bias_score = print_SOS_bias(\"Sexual_orientation_Non_Marginalized\", sexual_Non_marginalized)\n",
    "        #Bias_types.append(Sexual_orientation)\n",
    "        N_M_Bias_scores.append(sexual_Non_marginalized_bias_score)  \n",
    "        \n",
    "        if len(gender_Non_marginalized) > 0:\n",
    "            Gender_Non_Marginalized, gender_Non_marginalized_bias_score = print_SOS_bias(\"Gender_Non_Marginalized\", gender_Non_marginalized)\n",
    "            #N_M_Bias_types.append(Gender_Non_Marginalized)\n",
    "            N_M_Bias_scores.append(gender_Non_marginalized_bias_score) \n",
    "            \n",
    "        else:\n",
    "            N_M_Bias_scores.append(0)\n",
    "\n",
    "            \n",
    "        Race_Non_Marginalized, race_Non_marginalized_bias_scores = print_SOS_bias(\"Race_Non_Marginalized\", race_Non_marginalized)\n",
    "        #N_M_Bias_types.append(Race_Non_Marginalized)\n",
    "        N_M_Bias_scores.append(race_Non_marginalized_bias_scores)         \n",
    "        \n",
    "        Religion_Non_Marginalized, religion_Non_marginalized_bias_scores = print_SOS_bias(\"Religion_Non_Marginalized\", religion_Non_marginalized)\n",
    "        #N_M_Bias_types.append(Religion_Non_Marginalized)\n",
    "        N_M_Bias_scores.append(religion_Non_marginalized_bias_scores)           \n",
    "        \n",
    "        SocialClass_Non_Marginalized, social_class_Non_marginalized_bias_Scores = print_SOS_bias(\"Social-Class_Non_Marginalized\", social_class_Non_marginalized)\n",
    "        #N_M_Bias_types.append(SocialClass_Non_Marginalized)\n",
    "        N_M_Bias_scores.append(social_class_Non_marginalized_bias_Scores) \n",
    "        \n",
    "        Physical_ability_Non_Marginalized, physical_ability_Non_marginalized_bias_scores = print_SOS_bias(\"Physical_ability_Non_Marginalized\", physical_ability_Non_marginalized)\n",
    "        #N_M_Bias_types.append(Physical_ability_Non_Marginalized)\n",
    "        N_M_Bias_scores.append(physical_ability_Non_marginalized_bias_scores)         \n",
    "        \n",
    "    print_SOS_bias(\"total bias\",results_df)\n",
    "    print_bias_scores_for_marginalized_groups()\n",
    "    print_bias_scores_for_Non_marginalized_groups()\n",
    "    \n",
    "\n",
    "    detailed_results_df = pd.DataFrame({\"Model_Name\":[model_name]*len(M_Bias_scores),\n",
    "                                        \"Bias_Type\": Bias_types,\n",
    "                                        \"Marginalized_Bias_Score\": M_Bias_scores,\n",
    "                                        \"Non_Maarginalized_Bias_scores\": N_M_Bias_scores})\n",
    "    \n",
    "    return detailed_results_df"
   ],
   "metadata": {
    "collapsed": false,
    "ExecuteTime": {
     "end_time": "2024-10-09T14:56:49.914614Z",
     "start_time": "2024-10-09T14:56:49.877346Z"
    }
   },
   "id": "4e6614e27ff52bd9",
   "outputs": [],
   "execution_count": 3
  },
  {
   "cell_type": "markdown",
   "source": [],
   "metadata": {
    "collapsed": false
   },
   "id": "aa571b2b5fde46c5"
  },
  {
   "cell_type": "code",
   "source": [
    "AraBART_results_Masc = pd.read_csv(\"../../../Arabic_LMs/MSA/encoder_decoder/AraBART/Arabic_Mascline_SOS_AraBART.csv\")\n",
    "AraBART_results_Femm = pd.read_csv(\"../../../Arabic_LMs/MSA/encoder_decoder/AraBART/Arabic_Femminine_SOS_AraBART.csv\")\n",
    "\n",
    "AraAlBART_results_Masc = pd.read_csv(\"../../../Arabic_LMs/MSA/Encoder_only/AraAlBERT/Arabic_Mascline_SOS.csv\")\n",
    "AraAlBART_results_Femm = pd.read_csv(\"../../../Arabic_LMs/MSA/Encoder_only/AraAlBERT/Arabic_Femminine_SOS.csv\")\n",
    "\n",
    "AraBERT_results_Masc = pd.read_csv(\"../../../Arabic_LMs/MSA/Encoder_only/AraBERT/Arabic_Mascline_SOS.csv\")\n",
    "AraBERT_results_Femm = pd.read_csv(\"../../../Arabic_LMs/MSA/Encoder_only/AraBERT/Arabic_Femminine_SOS.csv\")\n",
    "\n",
    "CamelBERT_da_results_Masc = pd.read_csv(\"../../../Arabic_LMs/MSA/Encoder_only/CamelBERT/Arabic_Mascline_SOS_camelbert_da.csv\")\n",
    "CamelBERT_da_results_Femm = pd.read_csv(\"../../../Arabic_LMs/MSA/Encoder_only/CamelBERT/Arabic_Femminine_SOS_camelbert_da.csv\")\n",
    "CamelBERT_msa_results_Masc = pd.read_csv(\"../../../Arabic_LMs/MSA/Encoder_only/CamelBERT/Arabic_Mascline_SOS_camelbert_msa.csv\")\n",
    "CamelBERT_msa_results_Femm = pd.read_csv(\"../../../Arabic_LMs/MSA/Encoder_only/CamelBERT/Arabic_Femminine_SOS_camelbert_msa.csv\")\n",
    "\n",
    "XML_Roberta_results_Masc = pd.read_csv(\"../../../Arabic_LMs/MSA/Multilingual_LMs/Encoder_only/XLM_Roberta/Arabic_Mascline_SOS.csv\")\n",
    "XML_Roberta_results_Femm = pd.read_csv(\"../../../Arabic_LMs/MSA/Multilingual_LMs/Encoder_only/XLM_Roberta/Arabic_Femminine_SOS.csv\")"
   ],
   "metadata": {
    "collapsed": false,
    "ExecuteTime": {
     "end_time": "2024-10-09T14:56:50.526760Z",
     "start_time": "2024-10-09T14:56:50.429272Z"
    }
   },
   "id": "2c6769131acb0df7",
   "outputs": [],
   "execution_count": 4
  },
  {
   "cell_type": "code",
   "source": [
    "print(\"Results for AraBART_results_Masc\")\n",
    "AraBART_results_Masc_results_df = results_toxic_analysis_full_report(AraBART_results_Masc, \"AraBART_results_Masc\")\n",
    "AraBART_results_Masc_results_df"
   ],
   "metadata": {
    "collapsed": false,
    "ExecuteTime": {
     "end_time": "2024-10-09T14:56:51.625461Z",
     "start_time": "2024-10-09T14:56:51.603583Z"
    }
   },
   "id": "d10095f07266d068",
   "outputs": [
    {
     "name": "stdout",
     "output_type": "stream",
     "text": [
      "Results for AraBART_results_Masc\n"
     ]
    },
    {
     "data": {
      "text/plain": "             Model_Name           Bias_Type  Marginalized_Bias_Score  \\\n0  AraBART_results_Masc  Sexual_orientation                 0.542857   \n1  AraBART_results_Masc              Gender                 0.000000   \n2  AraBART_results_Masc                Race                 0.601905   \n3  AraBART_results_Masc            Religion                 0.589796   \n4  AraBART_results_Masc        Social_Class                 0.562637   \n5  AraBART_results_Masc    Physical_ability                 0.482143   \n\n   Non_Maarginalized_Bias_scores  \n0                       0.628571  \n1                       0.580952  \n2                       0.664596  \n3                       0.771429  \n4                       0.600000  \n5                       0.507143  ",
      "text/html": "<div>\n<style scoped>\n    .dataframe tbody tr th:only-of-type {\n        vertical-align: middle;\n    }\n\n    .dataframe tbody tr th {\n        vertical-align: top;\n    }\n\n    .dataframe thead th {\n        text-align: right;\n    }\n</style>\n<table border=\"1\" class=\"dataframe\">\n  <thead>\n    <tr style=\"text-align: right;\">\n      <th></th>\n      <th>Model_Name</th>\n      <th>Bias_Type</th>\n      <th>Marginalized_Bias_Score</th>\n      <th>Non_Maarginalized_Bias_scores</th>\n    </tr>\n  </thead>\n  <tbody>\n    <tr>\n      <th>0</th>\n      <td>AraBART_results_Masc</td>\n      <td>Sexual_orientation</td>\n      <td>0.542857</td>\n      <td>0.628571</td>\n    </tr>\n    <tr>\n      <th>1</th>\n      <td>AraBART_results_Masc</td>\n      <td>Gender</td>\n      <td>0.000000</td>\n      <td>0.580952</td>\n    </tr>\n    <tr>\n      <th>2</th>\n      <td>AraBART_results_Masc</td>\n      <td>Race</td>\n      <td>0.601905</td>\n      <td>0.664596</td>\n    </tr>\n    <tr>\n      <th>3</th>\n      <td>AraBART_results_Masc</td>\n      <td>Religion</td>\n      <td>0.589796</td>\n      <td>0.771429</td>\n    </tr>\n    <tr>\n      <th>4</th>\n      <td>AraBART_results_Masc</td>\n      <td>Social_Class</td>\n      <td>0.562637</td>\n      <td>0.600000</td>\n    </tr>\n    <tr>\n      <th>5</th>\n      <td>AraBART_results_Masc</td>\n      <td>Physical_ability</td>\n      <td>0.482143</td>\n      <td>0.507143</td>\n    </tr>\n  </tbody>\n</table>\n</div>"
     },
     "execution_count": 5,
     "metadata": {},
     "output_type": "execute_result"
    }
   ],
   "execution_count": 5
  },
  {
   "cell_type": "code",
   "execution_count": 6,
   "outputs": [
    {
     "data": {
      "text/plain": "WilcoxonResult(statistic=0.0, pvalue=0.03125)"
     },
     "execution_count": 6,
     "metadata": {},
     "output_type": "execute_result"
    }
   ],
   "source": [
    "st.wilcoxon(AraBART_results_Masc_results_df.Marginalized_Bias_Score, AraBART_results_Masc_results_df.Non_Maarginalized_Bias_scores)"
   ],
   "metadata": {
    "collapsed": false,
    "ExecuteTime": {
     "end_time": "2024-10-09T14:56:52.273230Z",
     "start_time": "2024-10-09T14:56:52.270506Z"
    }
   },
   "id": "cd513a5073dbfcef"
  },
  {
   "cell_type": "code",
   "source": [
    "print(\"Results for AraBART_results_Femm\")\n",
    "AraBART_results_Femm_results_df = results_toxic_analysis_full_report(AraBART_results_Femm,\"AraBART_results_Femm\")"
   ],
   "metadata": {
    "collapsed": false,
    "ExecuteTime": {
     "end_time": "2024-10-09T14:56:52.475364Z",
     "start_time": "2024-10-09T14:56:52.464382Z"
    }
   },
   "id": "46722487b34bdf16",
   "outputs": [
    {
     "name": "stdout",
     "output_type": "stream",
     "text": [
      "Results for AraBART_results_Femm\n"
     ]
    }
   ],
   "execution_count": 7
  },
  {
   "cell_type": "code",
   "execution_count": 8,
   "outputs": [
    {
     "data": {
      "text/plain": "WilcoxonResult(statistic=9.0, pvalue=0.84375)"
     },
     "execution_count": 8,
     "metadata": {},
     "output_type": "execute_result"
    }
   ],
   "source": [
    "st.wilcoxon(AraBART_results_Femm_results_df.Marginalized_Bias_Score, AraBART_results_Femm_results_df.Non_Maarginalized_Bias_scores)"
   ],
   "metadata": {
    "collapsed": false,
    "ExecuteTime": {
     "end_time": "2024-10-09T14:56:52.647091Z",
     "start_time": "2024-10-09T14:56:52.641983Z"
    }
   },
   "id": "74787925ca7ecbf8"
  },
  {
   "cell_type": "code",
   "source": [
    "print(\"Results for AraAlBART_results_Masc\")\n",
    "results_toxic_analysis_full_report(AraAlBART_results_Masc,\"AraAlBART_results_Masc\")"
   ],
   "metadata": {
    "collapsed": false,
    "ExecuteTime": {
     "end_time": "2024-10-09T14:56:52.807389Z",
     "start_time": "2024-10-09T14:56:52.794305Z"
    }
   },
   "id": "83b86cac175bb34b",
   "outputs": [
    {
     "name": "stdout",
     "output_type": "stream",
     "text": [
      "Results for AraAlBART_results_Masc\n"
     ]
    },
    {
     "data": {
      "text/plain": "               Model_Name           Bias_Type  Marginalized_Bias_Score  \\\n0  AraAlBART_results_Masc  Sexual_orientation                 0.497143   \n1  AraAlBART_results_Masc              Gender                 0.000000   \n2  AraAlBART_results_Masc                Race                 0.417143   \n3  AraAlBART_results_Masc            Religion                 0.416327   \n4  AraAlBART_results_Masc        Social_Class                 0.437363   \n5  AraAlBART_results_Masc    Physical_ability                 0.425000   \n\n   Non_Maarginalized_Bias_scores  \n0                       0.571429  \n1                       0.487619  \n2                       0.427329  \n3                       0.485714  \n4                       0.519643  \n5                       0.478571  ",
      "text/html": "<div>\n<style scoped>\n    .dataframe tbody tr th:only-of-type {\n        vertical-align: middle;\n    }\n\n    .dataframe tbody tr th {\n        vertical-align: top;\n    }\n\n    .dataframe thead th {\n        text-align: right;\n    }\n</style>\n<table border=\"1\" class=\"dataframe\">\n  <thead>\n    <tr style=\"text-align: right;\">\n      <th></th>\n      <th>Model_Name</th>\n      <th>Bias_Type</th>\n      <th>Marginalized_Bias_Score</th>\n      <th>Non_Maarginalized_Bias_scores</th>\n    </tr>\n  </thead>\n  <tbody>\n    <tr>\n      <th>0</th>\n      <td>AraAlBART_results_Masc</td>\n      <td>Sexual_orientation</td>\n      <td>0.497143</td>\n      <td>0.571429</td>\n    </tr>\n    <tr>\n      <th>1</th>\n      <td>AraAlBART_results_Masc</td>\n      <td>Gender</td>\n      <td>0.000000</td>\n      <td>0.487619</td>\n    </tr>\n    <tr>\n      <th>2</th>\n      <td>AraAlBART_results_Masc</td>\n      <td>Race</td>\n      <td>0.417143</td>\n      <td>0.427329</td>\n    </tr>\n    <tr>\n      <th>3</th>\n      <td>AraAlBART_results_Masc</td>\n      <td>Religion</td>\n      <td>0.416327</td>\n      <td>0.485714</td>\n    </tr>\n    <tr>\n      <th>4</th>\n      <td>AraAlBART_results_Masc</td>\n      <td>Social_Class</td>\n      <td>0.437363</td>\n      <td>0.519643</td>\n    </tr>\n    <tr>\n      <th>5</th>\n      <td>AraAlBART_results_Masc</td>\n      <td>Physical_ability</td>\n      <td>0.425000</td>\n      <td>0.478571</td>\n    </tr>\n  </tbody>\n</table>\n</div>"
     },
     "execution_count": 9,
     "metadata": {},
     "output_type": "execute_result"
    }
   ],
   "execution_count": 9
  },
  {
   "cell_type": "code",
   "source": [
    "print(\"Results for AraAlBART_results_Femm\")\n",
    "results_toxic_analysis_full_report(AraAlBART_results_Femm,\"AraAlBART_results_Femm\")"
   ],
   "metadata": {
    "collapsed": false,
    "ExecuteTime": {
     "end_time": "2024-10-09T14:56:52.990263Z",
     "start_time": "2024-10-09T14:56:52.979429Z"
    }
   },
   "id": "c1175be28fb703d6",
   "outputs": [
    {
     "name": "stdout",
     "output_type": "stream",
     "text": [
      "Results for AraAlBART_results_Femm\n"
     ]
    },
    {
     "data": {
      "text/plain": "               Model_Name           Bias_Type  Marginalized_Bias_Score  \\\n0  AraAlBART_results_Femm  Sexual_orientation                 0.411429   \n1  AraAlBART_results_Femm              Gender                 0.512698   \n2  AraAlBART_results_Femm                Race                 0.455238   \n3  AraAlBART_results_Femm            Religion                 0.500000   \n4  AraAlBART_results_Femm        Social_Class                 0.503297   \n5  AraAlBART_results_Femm    Physical_ability                 0.485714   \n\n   Non_Maarginalized_Bias_scores  \n0                       0.600000  \n1                       0.000000  \n2                       0.494410  \n3                       0.542857  \n4                       0.500000  \n5                       0.457143  ",
      "text/html": "<div>\n<style scoped>\n    .dataframe tbody tr th:only-of-type {\n        vertical-align: middle;\n    }\n\n    .dataframe tbody tr th {\n        vertical-align: top;\n    }\n\n    .dataframe thead th {\n        text-align: right;\n    }\n</style>\n<table border=\"1\" class=\"dataframe\">\n  <thead>\n    <tr style=\"text-align: right;\">\n      <th></th>\n      <th>Model_Name</th>\n      <th>Bias_Type</th>\n      <th>Marginalized_Bias_Score</th>\n      <th>Non_Maarginalized_Bias_scores</th>\n    </tr>\n  </thead>\n  <tbody>\n    <tr>\n      <th>0</th>\n      <td>AraAlBART_results_Femm</td>\n      <td>Sexual_orientation</td>\n      <td>0.411429</td>\n      <td>0.600000</td>\n    </tr>\n    <tr>\n      <th>1</th>\n      <td>AraAlBART_results_Femm</td>\n      <td>Gender</td>\n      <td>0.512698</td>\n      <td>0.000000</td>\n    </tr>\n    <tr>\n      <th>2</th>\n      <td>AraAlBART_results_Femm</td>\n      <td>Race</td>\n      <td>0.455238</td>\n      <td>0.494410</td>\n    </tr>\n    <tr>\n      <th>3</th>\n      <td>AraAlBART_results_Femm</td>\n      <td>Religion</td>\n      <td>0.500000</td>\n      <td>0.542857</td>\n    </tr>\n    <tr>\n      <th>4</th>\n      <td>AraAlBART_results_Femm</td>\n      <td>Social_Class</td>\n      <td>0.503297</td>\n      <td>0.500000</td>\n    </tr>\n    <tr>\n      <th>5</th>\n      <td>AraAlBART_results_Femm</td>\n      <td>Physical_ability</td>\n      <td>0.485714</td>\n      <td>0.457143</td>\n    </tr>\n  </tbody>\n</table>\n</div>"
     },
     "execution_count": 10,
     "metadata": {},
     "output_type": "execute_result"
    }
   ],
   "execution_count": 10
  },
  {
   "cell_type": "code",
   "source": [
    "print(\"Results for AraBERT_results_Masc\")\n",
    "results_toxic_analysis_full_report(AraBERT_results_Masc, \"AraBERT_results_Masc\")"
   ],
   "metadata": {
    "collapsed": false,
    "ExecuteTime": {
     "end_time": "2024-10-09T14:56:53.148404Z",
     "start_time": "2024-10-09T14:56:53.138616Z"
    }
   },
   "id": "c06d6d8e3aa96be1",
   "outputs": [
    {
     "name": "stdout",
     "output_type": "stream",
     "text": [
      "Results for AraBERT_results_Masc\n"
     ]
    },
    {
     "data": {
      "text/plain": "             Model_Name           Bias_Type  Marginalized_Bias_Score  \\\n0  AraBERT_results_Masc  Sexual_orientation                 0.548571   \n1  AraBERT_results_Masc              Gender                 0.000000   \n2  AraBERT_results_Masc                Race                 0.601905   \n3  AraBERT_results_Masc            Religion                 0.567347   \n4  AraBERT_results_Masc        Social_Class                 0.619780   \n5  AraBERT_results_Masc    Physical_ability                 0.646429   \n\n   Non_Maarginalized_Bias_scores  \n0                       0.428571  \n1                       0.649524  \n2                       0.621118  \n3                       0.642857  \n4                       0.633929  \n5                       0.707143  ",
      "text/html": "<div>\n<style scoped>\n    .dataframe tbody tr th:only-of-type {\n        vertical-align: middle;\n    }\n\n    .dataframe tbody tr th {\n        vertical-align: top;\n    }\n\n    .dataframe thead th {\n        text-align: right;\n    }\n</style>\n<table border=\"1\" class=\"dataframe\">\n  <thead>\n    <tr style=\"text-align: right;\">\n      <th></th>\n      <th>Model_Name</th>\n      <th>Bias_Type</th>\n      <th>Marginalized_Bias_Score</th>\n      <th>Non_Maarginalized_Bias_scores</th>\n    </tr>\n  </thead>\n  <tbody>\n    <tr>\n      <th>0</th>\n      <td>AraBERT_results_Masc</td>\n      <td>Sexual_orientation</td>\n      <td>0.548571</td>\n      <td>0.428571</td>\n    </tr>\n    <tr>\n      <th>1</th>\n      <td>AraBERT_results_Masc</td>\n      <td>Gender</td>\n      <td>0.000000</td>\n      <td>0.649524</td>\n    </tr>\n    <tr>\n      <th>2</th>\n      <td>AraBERT_results_Masc</td>\n      <td>Race</td>\n      <td>0.601905</td>\n      <td>0.621118</td>\n    </tr>\n    <tr>\n      <th>3</th>\n      <td>AraBERT_results_Masc</td>\n      <td>Religion</td>\n      <td>0.567347</td>\n      <td>0.642857</td>\n    </tr>\n    <tr>\n      <th>4</th>\n      <td>AraBERT_results_Masc</td>\n      <td>Social_Class</td>\n      <td>0.619780</td>\n      <td>0.633929</td>\n    </tr>\n    <tr>\n      <th>5</th>\n      <td>AraBERT_results_Masc</td>\n      <td>Physical_ability</td>\n      <td>0.646429</td>\n      <td>0.707143</td>\n    </tr>\n  </tbody>\n</table>\n</div>"
     },
     "execution_count": 11,
     "metadata": {},
     "output_type": "execute_result"
    }
   ],
   "execution_count": 11
  },
  {
   "cell_type": "code",
   "execution_count": 12,
   "outputs": [
    {
     "name": "stdout",
     "output_type": "stream",
     "text": [
      "Results for AraBERT_results_Femm\n"
     ]
    },
    {
     "data": {
      "text/plain": "             Model_Name           Bias_Type  Marginalized_Bias_Score  \\\n0  AraBERT_results_Femm  Sexual_orientation                 0.457143   \n1  AraBERT_results_Femm              Gender                 0.598413   \n2  AraBERT_results_Femm                Race                 0.596190   \n3  AraBERT_results_Femm            Religion                 0.585714   \n4  AraBERT_results_Femm        Social_Class                 0.637363   \n5  AraBERT_results_Femm    Physical_ability                 0.582143   \n\n   Non_Maarginalized_Bias_scores  \n0                       0.485714  \n1                       0.000000  \n2                       0.621118  \n3                       0.685714  \n4                       0.633929  \n5                       0.628571  ",
      "text/html": "<div>\n<style scoped>\n    .dataframe tbody tr th:only-of-type {\n        vertical-align: middle;\n    }\n\n    .dataframe tbody tr th {\n        vertical-align: top;\n    }\n\n    .dataframe thead th {\n        text-align: right;\n    }\n</style>\n<table border=\"1\" class=\"dataframe\">\n  <thead>\n    <tr style=\"text-align: right;\">\n      <th></th>\n      <th>Model_Name</th>\n      <th>Bias_Type</th>\n      <th>Marginalized_Bias_Score</th>\n      <th>Non_Maarginalized_Bias_scores</th>\n    </tr>\n  </thead>\n  <tbody>\n    <tr>\n      <th>0</th>\n      <td>AraBERT_results_Femm</td>\n      <td>Sexual_orientation</td>\n      <td>0.457143</td>\n      <td>0.485714</td>\n    </tr>\n    <tr>\n      <th>1</th>\n      <td>AraBERT_results_Femm</td>\n      <td>Gender</td>\n      <td>0.598413</td>\n      <td>0.000000</td>\n    </tr>\n    <tr>\n      <th>2</th>\n      <td>AraBERT_results_Femm</td>\n      <td>Race</td>\n      <td>0.596190</td>\n      <td>0.621118</td>\n    </tr>\n    <tr>\n      <th>3</th>\n      <td>AraBERT_results_Femm</td>\n      <td>Religion</td>\n      <td>0.585714</td>\n      <td>0.685714</td>\n    </tr>\n    <tr>\n      <th>4</th>\n      <td>AraBERT_results_Femm</td>\n      <td>Social_Class</td>\n      <td>0.637363</td>\n      <td>0.633929</td>\n    </tr>\n    <tr>\n      <th>5</th>\n      <td>AraBERT_results_Femm</td>\n      <td>Physical_ability</td>\n      <td>0.582143</td>\n      <td>0.628571</td>\n    </tr>\n  </tbody>\n</table>\n</div>"
     },
     "execution_count": 12,
     "metadata": {},
     "output_type": "execute_result"
    }
   ],
   "source": [
    "print(\"Results for AraBERT_results_Femm\")\n",
    "results_toxic_analysis_full_report(AraBERT_results_Femm,\"AraBERT_results_Femm\")"
   ],
   "metadata": {
    "collapsed": false,
    "ExecuteTime": {
     "end_time": "2024-10-09T14:56:53.333675Z",
     "start_time": "2024-10-09T14:56:53.324592Z"
    }
   },
   "id": "539d9b8cdd12d8de"
  },
  {
   "cell_type": "code",
   "execution_count": 13,
   "outputs": [
    {
     "name": "stdout",
     "output_type": "stream",
     "text": [
      "Results for CamelBERT_da_results_Masc\n"
     ]
    },
    {
     "data": {
      "text/plain": "                  Model_Name           Bias_Type  Marginalized_Bias_Score  \\\n0  CamelBERT_da_results_Masc  Sexual_orientation                 0.360000   \n1  CamelBERT_da_results_Masc              Gender                 0.000000   \n2  CamelBERT_da_results_Masc                Race                 0.358095   \n3  CamelBERT_da_results_Masc            Religion                 0.369388   \n4  CamelBERT_da_results_Masc        Social_Class                 0.342857   \n5  CamelBERT_da_results_Masc    Physical_ability                 0.400000   \n\n   Non_Maarginalized_Bias_scores  \n0                       0.314286  \n1                       0.379048  \n2                       0.382609  \n3                       0.328571  \n4                       0.357143  \n5                       0.407143  ",
      "text/html": "<div>\n<style scoped>\n    .dataframe tbody tr th:only-of-type {\n        vertical-align: middle;\n    }\n\n    .dataframe tbody tr th {\n        vertical-align: top;\n    }\n\n    .dataframe thead th {\n        text-align: right;\n    }\n</style>\n<table border=\"1\" class=\"dataframe\">\n  <thead>\n    <tr style=\"text-align: right;\">\n      <th></th>\n      <th>Model_Name</th>\n      <th>Bias_Type</th>\n      <th>Marginalized_Bias_Score</th>\n      <th>Non_Maarginalized_Bias_scores</th>\n    </tr>\n  </thead>\n  <tbody>\n    <tr>\n      <th>0</th>\n      <td>CamelBERT_da_results_Masc</td>\n      <td>Sexual_orientation</td>\n      <td>0.360000</td>\n      <td>0.314286</td>\n    </tr>\n    <tr>\n      <th>1</th>\n      <td>CamelBERT_da_results_Masc</td>\n      <td>Gender</td>\n      <td>0.000000</td>\n      <td>0.379048</td>\n    </tr>\n    <tr>\n      <th>2</th>\n      <td>CamelBERT_da_results_Masc</td>\n      <td>Race</td>\n      <td>0.358095</td>\n      <td>0.382609</td>\n    </tr>\n    <tr>\n      <th>3</th>\n      <td>CamelBERT_da_results_Masc</td>\n      <td>Religion</td>\n      <td>0.369388</td>\n      <td>0.328571</td>\n    </tr>\n    <tr>\n      <th>4</th>\n      <td>CamelBERT_da_results_Masc</td>\n      <td>Social_Class</td>\n      <td>0.342857</td>\n      <td>0.357143</td>\n    </tr>\n    <tr>\n      <th>5</th>\n      <td>CamelBERT_da_results_Masc</td>\n      <td>Physical_ability</td>\n      <td>0.400000</td>\n      <td>0.407143</td>\n    </tr>\n  </tbody>\n</table>\n</div>"
     },
     "execution_count": 13,
     "metadata": {},
     "output_type": "execute_result"
    }
   ],
   "source": [
    "\n",
    "print(\"Results for CamelBERT_da_results_Masc\")\n",
    "results_toxic_analysis_full_report(CamelBERT_da_results_Masc,\"CamelBERT_da_results_Masc\")"
   ],
   "metadata": {
    "collapsed": false,
    "ExecuteTime": {
     "end_time": "2024-10-09T14:56:53.489449Z",
     "start_time": "2024-10-09T14:56:53.479455Z"
    }
   },
   "id": "f58e4ab0cd6532a4"
  },
  {
   "cell_type": "code",
   "execution_count": 14,
   "outputs": [
    {
     "name": "stdout",
     "output_type": "stream",
     "text": [
      "Results for CamelBERT_da_results_Femm\n"
     ]
    },
    {
     "data": {
      "text/plain": "                  Model_Name           Bias_Type  Marginalized_Bias_Score  \\\n0  CamelBERT_da_results_Femm  Sexual_orientation                 0.291429   \n1  CamelBERT_da_results_Femm              Gender                 0.360317   \n2  CamelBERT_da_results_Femm                Race                 0.312381   \n3  CamelBERT_da_results_Femm            Religion                 0.336735   \n4  CamelBERT_da_results_Femm        Social_Class                 0.316484   \n5  CamelBERT_da_results_Femm    Physical_ability                 0.296429   \n\n   Non_Maarginalized_Bias_scores  \n0                       0.285714  \n1                       0.000000  \n2                       0.365217  \n3                       0.342857  \n4                       0.333929  \n5                       0.392857  ",
      "text/html": "<div>\n<style scoped>\n    .dataframe tbody tr th:only-of-type {\n        vertical-align: middle;\n    }\n\n    .dataframe tbody tr th {\n        vertical-align: top;\n    }\n\n    .dataframe thead th {\n        text-align: right;\n    }\n</style>\n<table border=\"1\" class=\"dataframe\">\n  <thead>\n    <tr style=\"text-align: right;\">\n      <th></th>\n      <th>Model_Name</th>\n      <th>Bias_Type</th>\n      <th>Marginalized_Bias_Score</th>\n      <th>Non_Maarginalized_Bias_scores</th>\n    </tr>\n  </thead>\n  <tbody>\n    <tr>\n      <th>0</th>\n      <td>CamelBERT_da_results_Femm</td>\n      <td>Sexual_orientation</td>\n      <td>0.291429</td>\n      <td>0.285714</td>\n    </tr>\n    <tr>\n      <th>1</th>\n      <td>CamelBERT_da_results_Femm</td>\n      <td>Gender</td>\n      <td>0.360317</td>\n      <td>0.000000</td>\n    </tr>\n    <tr>\n      <th>2</th>\n      <td>CamelBERT_da_results_Femm</td>\n      <td>Race</td>\n      <td>0.312381</td>\n      <td>0.365217</td>\n    </tr>\n    <tr>\n      <th>3</th>\n      <td>CamelBERT_da_results_Femm</td>\n      <td>Religion</td>\n      <td>0.336735</td>\n      <td>0.342857</td>\n    </tr>\n    <tr>\n      <th>4</th>\n      <td>CamelBERT_da_results_Femm</td>\n      <td>Social_Class</td>\n      <td>0.316484</td>\n      <td>0.333929</td>\n    </tr>\n    <tr>\n      <th>5</th>\n      <td>CamelBERT_da_results_Femm</td>\n      <td>Physical_ability</td>\n      <td>0.296429</td>\n      <td>0.392857</td>\n    </tr>\n  </tbody>\n</table>\n</div>"
     },
     "execution_count": 14,
     "metadata": {},
     "output_type": "execute_result"
    }
   ],
   "source": [
    "print(\"Results for CamelBERT_da_results_Femm\")\n",
    "results_toxic_analysis_full_report(CamelBERT_da_results_Femm, \"CamelBERT_da_results_Femm\")"
   ],
   "metadata": {
    "collapsed": false,
    "ExecuteTime": {
     "end_time": "2024-10-09T14:56:53.667632Z",
     "start_time": "2024-10-09T14:56:53.657204Z"
    }
   },
   "id": "4ad131001810ce60"
  },
  {
   "cell_type": "code",
   "execution_count": 15,
   "outputs": [
    {
     "name": "stdout",
     "output_type": "stream",
     "text": [
      "Results for CamelBERT_msa_results_Masc\n"
     ]
    },
    {
     "data": {
      "text/plain": "                   Model_Name           Bias_Type  Marginalized_Bias_Score  \\\n0  CamelBERT_msa_results_Masc  Sexual_orientation                 0.554286   \n1  CamelBERT_msa_results_Masc              Gender                 0.000000   \n2  CamelBERT_msa_results_Masc                Race                 0.571429   \n3  CamelBERT_msa_results_Masc            Religion                 0.555102   \n4  CamelBERT_msa_results_Masc        Social_Class                 0.595604   \n5  CamelBERT_msa_results_Masc    Physical_ability                 0.582143   \n\n   Non_Maarginalized_Bias_scores  \n0                       0.657143  \n1                       0.573333  \n2                       0.570186  \n3                       0.671429  \n4                       0.685714  \n5                       0.521429  ",
      "text/html": "<div>\n<style scoped>\n    .dataframe tbody tr th:only-of-type {\n        vertical-align: middle;\n    }\n\n    .dataframe tbody tr th {\n        vertical-align: top;\n    }\n\n    .dataframe thead th {\n        text-align: right;\n    }\n</style>\n<table border=\"1\" class=\"dataframe\">\n  <thead>\n    <tr style=\"text-align: right;\">\n      <th></th>\n      <th>Model_Name</th>\n      <th>Bias_Type</th>\n      <th>Marginalized_Bias_Score</th>\n      <th>Non_Maarginalized_Bias_scores</th>\n    </tr>\n  </thead>\n  <tbody>\n    <tr>\n      <th>0</th>\n      <td>CamelBERT_msa_results_Masc</td>\n      <td>Sexual_orientation</td>\n      <td>0.554286</td>\n      <td>0.657143</td>\n    </tr>\n    <tr>\n      <th>1</th>\n      <td>CamelBERT_msa_results_Masc</td>\n      <td>Gender</td>\n      <td>0.000000</td>\n      <td>0.573333</td>\n    </tr>\n    <tr>\n      <th>2</th>\n      <td>CamelBERT_msa_results_Masc</td>\n      <td>Race</td>\n      <td>0.571429</td>\n      <td>0.570186</td>\n    </tr>\n    <tr>\n      <th>3</th>\n      <td>CamelBERT_msa_results_Masc</td>\n      <td>Religion</td>\n      <td>0.555102</td>\n      <td>0.671429</td>\n    </tr>\n    <tr>\n      <th>4</th>\n      <td>CamelBERT_msa_results_Masc</td>\n      <td>Social_Class</td>\n      <td>0.595604</td>\n      <td>0.685714</td>\n    </tr>\n    <tr>\n      <th>5</th>\n      <td>CamelBERT_msa_results_Masc</td>\n      <td>Physical_ability</td>\n      <td>0.582143</td>\n      <td>0.521429</td>\n    </tr>\n  </tbody>\n</table>\n</div>"
     },
     "execution_count": 15,
     "metadata": {},
     "output_type": "execute_result"
    }
   ],
   "source": [
    "print(\"Results for CamelBERT_msa_results_Masc\")\n",
    "results_toxic_analysis_full_report(CamelBERT_msa_results_Masc, \"CamelBERT_msa_results_Masc\")"
   ],
   "metadata": {
    "collapsed": false,
    "ExecuteTime": {
     "end_time": "2024-10-09T14:56:53.833493Z",
     "start_time": "2024-10-09T14:56:53.824790Z"
    }
   },
   "id": "4f9512173e55ed4b"
  },
  {
   "cell_type": "code",
   "execution_count": 16,
   "outputs": [
    {
     "name": "stdout",
     "output_type": "stream",
     "text": [
      "Results for CamelBERT_msa_results_Femm\n"
     ]
    },
    {
     "data": {
      "text/plain": "                   Model_Name           Bias_Type  Marginalized_Bias_Score  \\\n0  CamelBERT_msa_results_Femm  Sexual_orientation                 0.371429   \n1  CamelBERT_msa_results_Femm              Gender                 0.404762   \n2  CamelBERT_msa_results_Femm                Race                 0.356190   \n3  CamelBERT_msa_results_Femm            Religion                 0.314286   \n4  CamelBERT_msa_results_Femm        Social_Class                 0.437363   \n5  CamelBERT_msa_results_Femm    Physical_ability                 0.357143   \n\n   Non_Maarginalized_Bias_scores  \n0                       0.400000  \n1                       0.000000  \n2                       0.321739  \n3                       0.242857  \n4                       0.521429  \n5                       0.485714  ",
      "text/html": "<div>\n<style scoped>\n    .dataframe tbody tr th:only-of-type {\n        vertical-align: middle;\n    }\n\n    .dataframe tbody tr th {\n        vertical-align: top;\n    }\n\n    .dataframe thead th {\n        text-align: right;\n    }\n</style>\n<table border=\"1\" class=\"dataframe\">\n  <thead>\n    <tr style=\"text-align: right;\">\n      <th></th>\n      <th>Model_Name</th>\n      <th>Bias_Type</th>\n      <th>Marginalized_Bias_Score</th>\n      <th>Non_Maarginalized_Bias_scores</th>\n    </tr>\n  </thead>\n  <tbody>\n    <tr>\n      <th>0</th>\n      <td>CamelBERT_msa_results_Femm</td>\n      <td>Sexual_orientation</td>\n      <td>0.371429</td>\n      <td>0.400000</td>\n    </tr>\n    <tr>\n      <th>1</th>\n      <td>CamelBERT_msa_results_Femm</td>\n      <td>Gender</td>\n      <td>0.404762</td>\n      <td>0.000000</td>\n    </tr>\n    <tr>\n      <th>2</th>\n      <td>CamelBERT_msa_results_Femm</td>\n      <td>Race</td>\n      <td>0.356190</td>\n      <td>0.321739</td>\n    </tr>\n    <tr>\n      <th>3</th>\n      <td>CamelBERT_msa_results_Femm</td>\n      <td>Religion</td>\n      <td>0.314286</td>\n      <td>0.242857</td>\n    </tr>\n    <tr>\n      <th>4</th>\n      <td>CamelBERT_msa_results_Femm</td>\n      <td>Social_Class</td>\n      <td>0.437363</td>\n      <td>0.521429</td>\n    </tr>\n    <tr>\n      <th>5</th>\n      <td>CamelBERT_msa_results_Femm</td>\n      <td>Physical_ability</td>\n      <td>0.357143</td>\n      <td>0.485714</td>\n    </tr>\n  </tbody>\n</table>\n</div>"
     },
     "execution_count": 16,
     "metadata": {},
     "output_type": "execute_result"
    }
   ],
   "source": [
    "print(\"Results for CamelBERT_msa_results_Femm\")\n",
    "results_toxic_analysis_full_report(CamelBERT_msa_results_Femm, \"CamelBERT_msa_results_Femm\")"
   ],
   "metadata": {
    "collapsed": false,
    "ExecuteTime": {
     "end_time": "2024-10-09T14:56:54.004531Z",
     "start_time": "2024-10-09T14:56:53.996449Z"
    }
   },
   "id": "2d291fffa78d1c6e"
  },
  {
   "cell_type": "code",
   "execution_count": 17,
   "outputs": [
    {
     "name": "stdout",
     "output_type": "stream",
     "text": [
      "Results for XML_Roberta_results_Masc\n"
     ]
    },
    {
     "data": {
      "text/plain": "                 Model_Name           Bias_Type  Marginalized_Bias_Score  \\\n0  XML_Roberta_results_Masc  Sexual_orientation                 0.525714   \n1  XML_Roberta_results_Masc              Gender                 0.580952   \n2  XML_Roberta_results_Masc                Race                 0.499048   \n3  XML_Roberta_results_Masc            Religion                 0.527619   \n4  XML_Roberta_results_Masc        Social_Class                 0.595604   \n5  XML_Roberta_results_Masc    Physical_ability                 0.600000   \n\n   Non_Maarginalized_Bias_scores  \n0                       0.457143  \n1                       0.647619  \n2                       0.530435  \n3                       0.485714  \n4                       0.621429  \n5                       0.450000  ",
      "text/html": "<div>\n<style scoped>\n    .dataframe tbody tr th:only-of-type {\n        vertical-align: middle;\n    }\n\n    .dataframe tbody tr th {\n        vertical-align: top;\n    }\n\n    .dataframe thead th {\n        text-align: right;\n    }\n</style>\n<table border=\"1\" class=\"dataframe\">\n  <thead>\n    <tr style=\"text-align: right;\">\n      <th></th>\n      <th>Model_Name</th>\n      <th>Bias_Type</th>\n      <th>Marginalized_Bias_Score</th>\n      <th>Non_Maarginalized_Bias_scores</th>\n    </tr>\n  </thead>\n  <tbody>\n    <tr>\n      <th>0</th>\n      <td>XML_Roberta_results_Masc</td>\n      <td>Sexual_orientation</td>\n      <td>0.525714</td>\n      <td>0.457143</td>\n    </tr>\n    <tr>\n      <th>1</th>\n      <td>XML_Roberta_results_Masc</td>\n      <td>Gender</td>\n      <td>0.580952</td>\n      <td>0.647619</td>\n    </tr>\n    <tr>\n      <th>2</th>\n      <td>XML_Roberta_results_Masc</td>\n      <td>Race</td>\n      <td>0.499048</td>\n      <td>0.530435</td>\n    </tr>\n    <tr>\n      <th>3</th>\n      <td>XML_Roberta_results_Masc</td>\n      <td>Religion</td>\n      <td>0.527619</td>\n      <td>0.485714</td>\n    </tr>\n    <tr>\n      <th>4</th>\n      <td>XML_Roberta_results_Masc</td>\n      <td>Social_Class</td>\n      <td>0.595604</td>\n      <td>0.621429</td>\n    </tr>\n    <tr>\n      <th>5</th>\n      <td>XML_Roberta_results_Masc</td>\n      <td>Physical_ability</td>\n      <td>0.600000</td>\n      <td>0.450000</td>\n    </tr>\n  </tbody>\n</table>\n</div>"
     },
     "execution_count": 17,
     "metadata": {},
     "output_type": "execute_result"
    }
   ],
   "source": [
    "print(\"Results for XML_Roberta_results_Masc\")\n",
    "results_toxic_analysis_full_report(XML_Roberta_results_Masc,\"XML_Roberta_results_Masc\")"
   ],
   "metadata": {
    "collapsed": false,
    "ExecuteTime": {
     "end_time": "2024-10-09T14:56:54.178336Z",
     "start_time": "2024-10-09T14:56:54.169931Z"
    }
   },
   "id": "7f8e252ec29c045e"
  },
  {
   "cell_type": "code",
   "source": [
    "print(\"Results for XML_Roberta_results_Femm\")\n",
    "results_toxic_analysis_full_report(XML_Roberta_results_Femm, \"XML_Roberta_results_Femm\")"
   ],
   "metadata": {
    "collapsed": false,
    "ExecuteTime": {
     "end_time": "2024-10-09T14:56:54.370413Z",
     "start_time": "2024-10-09T14:56:54.359539Z"
    }
   },
   "id": "896219d5c6ffb39b",
   "outputs": [
    {
     "name": "stdout",
     "output_type": "stream",
     "text": [
      "Results for XML_Roberta_results_Femm\n"
     ]
    },
    {
     "data": {
      "text/plain": "                 Model_Name           Bias_Type  Marginalized_Bias_Score  \\\n0  XML_Roberta_results_Femm  Sexual_orientation                 0.474286   \n1  XML_Roberta_results_Femm              Gender                 0.523810   \n2  XML_Roberta_results_Femm                Race                 0.497143   \n3  XML_Roberta_results_Femm            Religion                 0.485714   \n4  XML_Roberta_results_Femm        Social_Class                 0.553846   \n5  XML_Roberta_results_Femm    Physical_ability                 0.485714   \n\n   Non_Maarginalized_Bias_scores  \n0                       0.514286  \n1                       0.531429  \n2                       0.470807  \n3                       0.471429  \n4                       0.537500  \n5                       0.428571  ",
      "text/html": "<div>\n<style scoped>\n    .dataframe tbody tr th:only-of-type {\n        vertical-align: middle;\n    }\n\n    .dataframe tbody tr th {\n        vertical-align: top;\n    }\n\n    .dataframe thead th {\n        text-align: right;\n    }\n</style>\n<table border=\"1\" class=\"dataframe\">\n  <thead>\n    <tr style=\"text-align: right;\">\n      <th></th>\n      <th>Model_Name</th>\n      <th>Bias_Type</th>\n      <th>Marginalized_Bias_Score</th>\n      <th>Non_Maarginalized_Bias_scores</th>\n    </tr>\n  </thead>\n  <tbody>\n    <tr>\n      <th>0</th>\n      <td>XML_Roberta_results_Femm</td>\n      <td>Sexual_orientation</td>\n      <td>0.474286</td>\n      <td>0.514286</td>\n    </tr>\n    <tr>\n      <th>1</th>\n      <td>XML_Roberta_results_Femm</td>\n      <td>Gender</td>\n      <td>0.523810</td>\n      <td>0.531429</td>\n    </tr>\n    <tr>\n      <th>2</th>\n      <td>XML_Roberta_results_Femm</td>\n      <td>Race</td>\n      <td>0.497143</td>\n      <td>0.470807</td>\n    </tr>\n    <tr>\n      <th>3</th>\n      <td>XML_Roberta_results_Femm</td>\n      <td>Religion</td>\n      <td>0.485714</td>\n      <td>0.471429</td>\n    </tr>\n    <tr>\n      <th>4</th>\n      <td>XML_Roberta_results_Femm</td>\n      <td>Social_Class</td>\n      <td>0.553846</td>\n      <td>0.537500</td>\n    </tr>\n    <tr>\n      <th>5</th>\n      <td>XML_Roberta_results_Femm</td>\n      <td>Physical_ability</td>\n      <td>0.485714</td>\n      <td>0.428571</td>\n    </tr>\n  </tbody>\n</table>\n</div>"
     },
     "execution_count": 18,
     "metadata": {},
     "output_type": "execute_result"
    }
   ],
   "execution_count": 18
  },
  {
   "metadata": {
    "ExecuteTime": {
     "end_time": "2024-10-09T14:53:43.719838Z",
     "start_time": "2024-10-09T14:53:43.611305Z"
    }
   },
   "cell_type": "code",
   "outputs": [],
   "execution_count": 17,
   "source": [],
   "id": "85e17946a3e1d051"
  }
 ],
 "metadata": {
  "kernelspec": {
   "display_name": "Python 3",
   "language": "python",
   "name": "python3"
  },
  "language_info": {
   "codemirror_mode": {
    "name": "ipython",
    "version": 2
   },
   "file_extension": ".py",
   "mimetype": "text/x-python",
   "name": "python",
   "nbconvert_exporter": "python",
   "pygments_lexer": "ipython2",
   "version": "2.7.6"
  }
 },
 "nbformat": 4,
 "nbformat_minor": 5
}
