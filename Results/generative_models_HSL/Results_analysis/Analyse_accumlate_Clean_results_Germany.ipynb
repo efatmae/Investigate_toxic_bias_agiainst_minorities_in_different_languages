{
 "cells": [
  {
   "cell_type": "code",
   "execution_count": 1,
   "outputs": [
    {
     "name": "stderr",
     "output_type": "stream",
     "text": [
      "/var/folders/x3/1y_5ght92yzbk007v60qj2k40000gn/T/ipykernel_63793/3291393716.py:1: DeprecationWarning: \n",
      "Pyarrow will become a required dependency of pandas in the next major release of pandas (pandas 3.0),\n",
      "(to allow more performant data types, such as the Arrow string type, and better interoperability with other libraries)\n",
      "but was not found to be installed on your system.\n",
      "If this would cause problems for you,\n",
      "please provide us feedback at https://github.com/pandas-dev/pandas/issues/54466\n",
      "        \n",
      "  import pandas as pd\n"
     ]
    }
   ],
   "source": [
    "import pandas as pd\n",
    "import numpy as np\n",
    "from sklearn.metrics import roc_auc_score\n",
    "import glob"
   ],
   "metadata": {
    "collapsed": false,
    "ExecuteTime": {
     "end_time": "2024-12-05T16:14:08.933404Z",
     "start_time": "2024-12-05T16:14:08.247404Z"
    }
   },
   "id": "298eff40607e5bef"
  },
  {
   "cell_type": "code",
   "execution_count": 2,
   "outputs": [],
   "source": [
    "def analyse_and_filter_hallucination (df):\n",
    "    F1_score = 0\n",
    "    rectified_F1_score = 0\n",
    "    \n",
    "    df = pd.read_csv(df)\n",
    "    hallucinated_data = df[df[\"actual_model_prediction\"] == -1]\n",
    "    no_hallucination = len(hallucinated_data)\n",
    "    clean_data = df[df[\"actual_model_prediction\"] != -1]\n",
    "\n",
    "    if len(clean_data) > 0:\n",
    "        print(len(clean_data))\n",
    "        try:\n",
    "            F1_score = roc_auc_score(clean_data[\"Toxicity_label\"], clean_data[\"actual_model_prediction\"])\n",
    "        except ValueError:\n",
    "            print(\"Small number of clean data and one label is prenset in the y_true\")\n",
    "            F1_score = 0\n",
    "        \n",
    "        rectified_F1_score = (1-(no_hallucination/len(df))) * F1_score\n",
    "    return len(df), no_hallucination, F1_score, rectified_F1_score"
   ],
   "metadata": {
    "collapsed": false,
    "ExecuteTime": {
     "end_time": "2024-12-05T16:14:08.938125Z",
     "start_time": "2024-12-05T16:14:08.935223Z"
    }
   },
   "id": "66cfc0bae37dcd2c"
  },
  {
   "cell_type": "code",
   "execution_count": 3,
   "outputs": [],
   "source": [
    "def collect_results (clean_IFM_results,Language_folder,model_name, langauge):\n",
    "    model_names = []\n",
    "    data_gender = []\n",
    "    data_lang = []\n",
    "    instructions_langs = []\n",
    "    dataset_sizes = []\n",
    "    no_hallucinations = []\n",
    "    F1_scores = []\n",
    "    rectified_F1_scors = []\n",
    "    path = clean_IFM_results+Language_folder+model_name+\"/*.csv\"\n",
    "    for fname in glob.glob(path):\n",
    "        print(fname)\n",
    "        file_name = fname.split(\"/\")[-1]\n",
    "        data_gender_name = file_name.split(\"_\")[0]\n",
    "        model_name = file_name.split(\"_\")[3]\n",
    "        instructions_lang = file_name.split(\"_\")[4]\n",
    "        \n",
    "        df_size, no_hallucination, F1_score, rectified_F1_score = analyse_and_filter_hallucination(fname)\n",
    "        \n",
    "        model_names.append(model_name)\n",
    "        data_gender.append(data_gender_name)\n",
    "        data_lang.append(langauge)\n",
    "        instructions_langs.append(instructions_lang)\n",
    "        dataset_sizes.append(df_size)\n",
    "        no_hallucinations.append(no_hallucination)\n",
    "        F1_scores.append(F1_score)\n",
    "        rectified_F1_scors.append(rectified_F1_score)\n",
    "        \n",
    "        data_summary = pd.DataFrame({\"Model_Name\": model_names,\n",
    "                                     \"Gender\":data_gender,\n",
    "                                     \"Language\": data_lang,\n",
    "                                     \"Instructions_languation\": instructions_langs,\n",
    "                                     \"dataset_size\": dataset_sizes,\n",
    "                                     \"No_Hallucination\": no_hallucinations,\n",
    "                                     \"F1_scores\": F1_scores,\n",
    "                                     \"Rectified_F1_scors\": rectified_F1_scors})\n",
    "    return data_summary\n",
    "        "
   ],
   "metadata": {
    "collapsed": false,
    "ExecuteTime": {
     "end_time": "2024-12-05T16:14:08.942403Z",
     "start_time": "2024-12-05T16:14:08.939680Z"
    }
   },
   "id": "c436ce0e2900c473"
  },
  {
   "cell_type": "code",
   "execution_count": 4,
   "id": "initial_id",
   "metadata": {
    "collapsed": true,
    "ExecuteTime": {
     "end_time": "2024-12-05T16:14:08.946521Z",
     "start_time": "2024-12-05T16:14:08.942186Z"
    }
   },
   "outputs": [],
   "source": [
    "clean_IFM_results = \"../IFM_results_cleaning/\""
   ]
  },
  {
   "cell_type": "code",
   "execution_count": 5,
   "outputs": [],
   "source": [
    "Language_folder = \"Germany/Clean_results/\"\n",
    "data_language = \"German\""
   ],
   "metadata": {
    "collapsed": false,
    "ExecuteTime": {
     "end_time": "2024-12-05T16:14:08.947347Z",
     "start_time": "2024-12-05T16:14:08.944952Z"
    }
   },
   "id": "2d200b14cf498afc"
  },
  {
   "cell_type": "markdown",
   "source": [
    "## Aya"
   ],
   "metadata": {
    "collapsed": false
   },
   "id": "df72e30b11c1a396"
  },
  {
   "cell_type": "code",
   "execution_count": 6,
   "outputs": [
    {
     "name": "stdout",
     "output_type": "stream",
     "text": [
      "../IFM_results_cleaning/Germany/Clean_results/Aya/NB_IFM_HSD_Aya_german_instructions.csv\n",
      "4005\n",
      "../IFM_results_cleaning/Germany/Clean_results/Aya/Male_IFM_HSD_Aya_english_instructions.csv\n",
      "1600\n",
      "../IFM_results_cleaning/Germany/Clean_results/Aya/Female_IFM_HSD_Aya_german_instructions.csv\n",
      "3662\n",
      "../IFM_results_cleaning/Germany/Clean_results/Aya/Male_IFM_HSD_Aya_german_instructions.csv\n",
      "3924\n",
      "../IFM_results_cleaning/Germany/Clean_results/Aya/Female_IFM_HSD_Aya_english_instructions.csv\n",
      "1387\n",
      "../IFM_results_cleaning/Germany/Clean_results/Aya/NB_IFM_HSD_Aya_english_instructions.csv\n",
      "1819\n"
     ]
    }
   ],
   "source": [
    "Model_name = \"Aya\"\n",
    "collect_results_aya = collect_results(clean_IFM_results,Language_folder, Model_name, data_language)\n",
    "collect_results_aya.to_csv(clean_IFM_results+Language_folder+Model_name+\"/results_summary.csv\", index=False)"
   ],
   "metadata": {
    "collapsed": false,
    "ExecuteTime": {
     "end_time": "2024-12-05T16:14:09.033241Z",
     "start_time": "2024-12-05T16:14:08.947766Z"
    }
   },
   "id": "f6121dcf196ff4db"
  },
  {
   "cell_type": "markdown",
   "source": [
    "## Bloomz"
   ],
   "metadata": {
    "collapsed": false
   },
   "id": "938703d686f7bbad"
  },
  {
   "cell_type": "code",
   "execution_count": 7,
   "outputs": [
    {
     "name": "stdout",
     "output_type": "stream",
     "text": [
      "../IFM_results_cleaning/Germany/Clean_results/Bloomz/Female_IFM_HSD_Bloomz_german_instructions.csv\n",
      "4292\n",
      "../IFM_results_cleaning/Germany/Clean_results/Bloomz/Male_IFM_HSD_Bloomz_german_instructions.csv\n",
      "4218\n",
      "../IFM_results_cleaning/Germany/Clean_results/Bloomz/Female_IFM_HSD_Bloomz_english_instructions.csv\n",
      "4292\n",
      "../IFM_results_cleaning/Germany/Clean_results/Bloomz/Male_IFM_HSD_Bloomz_english_instructions.csv\n",
      "4218\n",
      "../IFM_results_cleaning/Germany/Clean_results/Bloomz/NB_IFM_HSD_Bloomz_english_instructions.csv\n",
      "4218\n",
      "../IFM_results_cleaning/Germany/Clean_results/Bloomz/NB_IFM_HSD_Bloomz_german_instructions.csv\n",
      "4218\n"
     ]
    }
   ],
   "source": [
    "Model_name = \"Bloomz\"\n",
    "collect_results_bloomz = collect_results(clean_IFM_results,Language_folder, Model_name, data_language)\n",
    "collect_results_bloomz.to_csv(clean_IFM_results+Language_folder+Model_name+\"/results_summary.csv\", index=False)"
   ],
   "metadata": {
    "collapsed": false,
    "ExecuteTime": {
     "end_time": "2024-12-05T16:14:09.119146Z",
     "start_time": "2024-12-05T16:14:09.030316Z"
    }
   },
   "id": "6618c1adfc3ddbfe"
  },
  {
   "cell_type": "markdown",
   "source": [
    "## Flan-T5"
   ],
   "metadata": {
    "collapsed": false
   },
   "id": "c64583dd31576479"
  },
  {
   "cell_type": "code",
   "execution_count": 8,
   "outputs": [
    {
     "name": "stdout",
     "output_type": "stream",
     "text": [
      "../IFM_results_cleaning/Germany/Clean_results/Flan-T5/Female_IFM_HSD_Flan-T5_german_instructions.csv\n",
      "../IFM_results_cleaning/Germany/Clean_results/Flan-T5/Male_IFM_HSD_Flan-T5_german_instructions.csv\n",
      "../IFM_results_cleaning/Germany/Clean_results/Flan-T5/NB_IFM_HSD_Flan-T5_english_instructions.csv\n",
      "4218\n",
      "../IFM_results_cleaning/Germany/Clean_results/Flan-T5/Female_IFM_HSD_Flan-T5_english_instructions.csv\n",
      "4292\n",
      "../IFM_results_cleaning/Germany/Clean_results/Flan-T5/NB_IFM_HSD_Flan-T5_german_instructions.csv\n",
      "../IFM_results_cleaning/Germany/Clean_results/Flan-T5/Male_IFM_HSD_Flan-T5_english_instructions.csv\n",
      "4218\n"
     ]
    }
   ],
   "source": [
    "Model_name = \"Flan-T5\"\n",
    "collect_results_Flan_T5 = collect_results(clean_IFM_results,Language_folder, Model_name, data_language)\n",
    "collect_results_Flan_T5.to_csv(clean_IFM_results+Language_folder+Model_name+\"/results_summary.csv\", index=False)"
   ],
   "metadata": {
    "collapsed": false,
    "ExecuteTime": {
     "end_time": "2024-12-05T16:14:09.162811Z",
     "start_time": "2024-12-05T16:14:09.115890Z"
    }
   },
   "id": "dd585c25db571ac8"
  },
  {
   "cell_type": "markdown",
   "source": [
    "## InstructLLAMA"
   ],
   "metadata": {
    "collapsed": false
   },
   "id": "eb9b51e8587f5bb5"
  },
  {
   "cell_type": "code",
   "execution_count": 9,
   "outputs": [
    {
     "name": "stdout",
     "output_type": "stream",
     "text": [
      "../IFM_results_cleaning/Germany/Clean_results/InstructLLAMA/NB_IFM_HSD_InstructLLAMA_english_instructions.csv\n",
      "2343\n",
      "../IFM_results_cleaning/Germany/Clean_results/InstructLLAMA/Male_IFM_HSD_InstructLLAMA_german_instructions.csv\n",
      "475\n",
      "../IFM_results_cleaning/Germany/Clean_results/InstructLLAMA/Female_IFM_HSD_InstructLLAMA_german_instructions.csv\n",
      "406\n",
      "../IFM_results_cleaning/Germany/Clean_results/InstructLLAMA/Female_IFM_HSD_InstructLLAMA_english_instructions.csv\n",
      "2410\n",
      "../IFM_results_cleaning/Germany/Clean_results/InstructLLAMA/Male_IFM_HSD_InstructLLAMA_english_instructions.csv\n",
      "2330\n",
      "../IFM_results_cleaning/Germany/Clean_results/InstructLLAMA/NB_IFM_HSD_InstructLLAMA_german_instructions.csv\n",
      "412\n"
     ]
    }
   ],
   "source": [
    "Model_name = \"InstructLLAMA\"\n",
    "collect_results_lama = collect_results(clean_IFM_results,Language_folder, Model_name, data_language)\n",
    "collect_results_lama.to_csv(clean_IFM_results+Language_folder+Model_name+\"/results_summary.csv\", index=False)"
   ],
   "metadata": {
    "collapsed": false,
    "ExecuteTime": {
     "end_time": "2024-12-05T16:14:09.257931Z",
     "start_time": "2024-12-05T16:14:09.160625Z"
    }
   },
   "id": "6949833bffd80251"
  },
  {
   "cell_type": "markdown",
   "source": [
    "## InstructMistral"
   ],
   "metadata": {
    "collapsed": false
   },
   "id": "fd7263ac97d21586"
  },
  {
   "cell_type": "code",
   "execution_count": 10,
   "outputs": [
    {
     "name": "stdout",
     "output_type": "stream",
     "text": [
      "../IFM_results_cleaning/Germany/Clean_results/InstructMistral/NB_IFM_HSD_InstructMistral_english_instructions.csv\n",
      "../IFM_results_cleaning/Germany/Clean_results/InstructMistral/Female_IFM_HSD_InstructMistral_german_instructions.csv\n",
      "12\n",
      "Small number of clean data and one label is prenset in the y_true\n",
      "../IFM_results_cleaning/Germany/Clean_results/InstructMistral/NB_IFM_HSD_InstructMistral_german_instructions.csv\n",
      "4\n",
      "Small number of clean data and one label is prenset in the y_true\n",
      "../IFM_results_cleaning/Germany/Clean_results/InstructMistral/Female_IFM_HSD_InstructMistral_english_instructions.csv\n",
      "../IFM_results_cleaning/Germany/Clean_results/InstructMistral/Male_IFM_HSD_InstructMistral_german_instructions.csv\n",
      "1\n",
      "Small number of clean data and one label is prenset in the y_true\n",
      "../IFM_results_cleaning/Germany/Clean_results/InstructMistral/Male_IFM_HSD_InstructMistral_english_instructions.csv\n"
     ]
    }
   ],
   "source": [
    "Model_name = \"InstructMistral\"\n",
    "collect_results_mistral = collect_results(clean_IFM_results,Language_folder, Model_name, data_language)\n",
    "collect_results_mistral.to_csv(clean_IFM_results+Language_folder+Model_name+\"/results_summary.csv\", index=False)"
   ],
   "metadata": {
    "collapsed": false,
    "ExecuteTime": {
     "end_time": "2024-12-05T16:14:09.345866Z",
     "start_time": "2024-12-05T16:14:09.254987Z"
    }
   },
   "id": "eff72acaa12c1bb6"
  },
  {
   "cell_type": "markdown",
   "source": [
    "## MT0"
   ],
   "metadata": {
    "collapsed": false
   },
   "id": "d94b50e28fe35c6a"
  },
  {
   "cell_type": "code",
   "execution_count": 11,
   "outputs": [
    {
     "name": "stdout",
     "output_type": "stream",
     "text": [
      "../IFM_results_cleaning/Germany/Clean_results/MT0/Male_IFM_HSD_MT0_english_instructions.csv\n",
      "4218\n",
      "../IFM_results_cleaning/Germany/Clean_results/MT0/NB_IFM_HSD_MT0_german_instructions.csv\n",
      "4218\n",
      "../IFM_results_cleaning/Germany/Clean_results/MT0/Female_IFM_HSD_MT0_german_instructions.csv\n",
      "4292\n",
      "../IFM_results_cleaning/Germany/Clean_results/MT0/Female_IFM_HSD_MT0_english_instructions.csv\n",
      "4292\n",
      "../IFM_results_cleaning/Germany/Clean_results/MT0/NB_IFM_HSD_MT0_english_instructions.csv\n",
      "4218\n",
      "../IFM_results_cleaning/Germany/Clean_results/MT0/Male_IFM_HSD_MT0_german_instructions.csv\n",
      "4218\n"
     ]
    }
   ],
   "source": [
    "Model_name = \"MT0\"\n",
    "collect_results_MT0 = collect_results(clean_IFM_results,Language_folder, Model_name, data_language)\n",
    "collect_results_MT0.to_csv(clean_IFM_results+Language_folder+Model_name+\"/results_summary.csv\", index=False)"
   ],
   "metadata": {
    "collapsed": false,
    "ExecuteTime": {
     "end_time": "2024-12-05T16:14:09.392888Z",
     "start_time": "2024-12-05T16:14:09.342856Z"
    }
   },
   "id": "7216656d0f7d6667"
  },
  {
   "cell_type": "code",
   "execution_count": 11,
   "outputs": [],
   "source": [],
   "metadata": {
    "collapsed": false,
    "ExecuteTime": {
     "end_time": "2024-12-05T16:14:09.392979Z",
     "start_time": "2024-12-05T16:14:09.390043Z"
    }
   },
   "id": "1e7c284dac2e642d"
  },
  {
   "cell_type": "code",
   "execution_count": 11,
   "outputs": [],
   "source": [],
   "metadata": {
    "collapsed": false,
    "ExecuteTime": {
     "end_time": "2024-12-05T16:14:09.394085Z",
     "start_time": "2024-12-05T16:14:09.392043Z"
    }
   },
   "id": "d51f1cb5b0bd9e9f"
  }
 ],
 "metadata": {
  "kernelspec": {
   "display_name": "Python 3",
   "language": "python",
   "name": "python3"
  },
  "language_info": {
   "codemirror_mode": {
    "name": "ipython",
    "version": 2
   },
   "file_extension": ".py",
   "mimetype": "text/x-python",
   "name": "python",
   "nbconvert_exporter": "python",
   "pygments_lexer": "ipython2",
   "version": "2.7.6"
  }
 },
 "nbformat": 4,
 "nbformat_minor": 5
}
