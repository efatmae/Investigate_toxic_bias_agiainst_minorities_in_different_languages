{
 "cells": [
  {
   "cell_type": "code",
   "id": "initial_id",
   "metadata": {
    "collapsed": true,
    "ExecuteTime": {
     "end_time": "2024-12-06T17:51:47.067542Z",
     "start_time": "2024-12-06T17:51:47.054365Z"
    }
   },
   "source": [
    "import pandas as pd\n",
    "import scipy.stats as st"
   ],
   "outputs": [],
   "execution_count": 13
  },
  {
   "cell_type": "code",
   "source": [
    "def results_toxic_analysis_full_report (results_df, model_name):\n",
    "    \n",
    "    Bias_types = []\n",
    "    M_Bias_scores = []\n",
    "    N_M_Bias_scores = []\n",
    "    \n",
    "    def print_SOS_bias(bias_tpe, df):\n",
    "        '''Total SOS bias scores'''\n",
    "        No_biased_entires = len(df[df[\"score\"] == 1])\n",
    "        SOS_bias_score = No_biased_entires / len(df)\n",
    "        return bias_tpe, SOS_bias_score\n",
    "    \n",
    "    def print_bias_scores_for_marginalized_groups():\n",
    "        sexual_marginalized = results_df[results_df[\"bias_type\"] == \"Sexual_orientation_Marginalized\"]\n",
    "        sexual_marginalized, sexual_marginalized_bias_score = print_SOS_bias(\"Sexual_orientation_Marginalized\",sexual_marginalized)\n",
    "        Bias_types.append(\"Sexual_orientation\")\n",
    "        M_Bias_scores.append(sexual_marginalized_bias_score)\n",
    "        \n",
    "        gender_marginalized = results_df[results_df[\"bias_type\"] == \"Gender_Marginalized\"]\n",
    "        Bias_types.append(\"Gender\")\n",
    "        \n",
    "        Gender_Marginalized, gender_marginalized_bias_score = print_SOS_bias(\"Gender_Marginalized\",gender_marginalized)\n",
    "        M_Bias_scores.append(gender_marginalized_bias_score)\n",
    "\n",
    "            \n",
    "        race_marginalized = results_df[results_df[\"bias_type\"] == \"Race_Marginalized\"]\n",
    "        Race_Marginalized, race_marginalized_bias_scores = print_SOS_bias(\"Race_Marginalized\", race_marginalized)\n",
    "        Bias_types.append(\"Race\")\n",
    "        M_Bias_scores.append(race_marginalized_bias_scores)\n",
    "        \n",
    "        religion_marginalized = results_df[results_df[\"bias_type\"] == \"Religion_Marginalized\"]\n",
    "        Religion_orientation_Marginalized, religion_marginalized_bias_score = print_SOS_bias(\"Religion_orientation_Marginalized\",religion_marginalized)\n",
    "        Bias_types.append(\"Religion\")\n",
    "        M_Bias_scores.append(religion_marginalized_bias_score)\n",
    "        \n",
    "        physical_ability_marginalized = results_df[results_df[\"bias_type\"] == \"Physical_ability_Marginalized\"]\n",
    "        Physical_ability_Marginalized, physical_ability_marginalized_bias_score = print_SOS_bias(\"Physical_ability_Marginalized\", physical_ability_marginalized)\n",
    "        Bias_types.append(\"Physical_ability\")\n",
    "        M_Bias_scores.append(physical_ability_marginalized_bias_score)     \n",
    "        \n",
    "    def print_bias_scores_for_Non_marginalized_groups():    \n",
    "        sexual_Non_marginalized = results_df[results_df[\"bias_type\"] == \"Sexual_orientation_Non_Marginalized\"]\n",
    "        gender_Non_marginalized = results_df[results_df[\"bias_type\"] == \"Gender_Non_marginalized\"]\n",
    "        race_Non_marginalized = results_df[results_df[\"bias_type\"] == \"Race_Non_marginalized\"]\n",
    "        religion_Non_marginalized = results_df[results_df[\"bias_type\"] == \"Religion_Non_Marginalized\"]\n",
    "        physical_ability_Non_marginalized = results_df[results_df[\"bias_type\"] == \"Physical_ability_Non_Marginalized\"]\n",
    "\n",
    "        Sexual_orientation_Non_Marginalized, sexual_Non_marginalized_bias_score = print_SOS_bias(\"Sexual_orientation_Non_Marginalized\", sexual_Non_marginalized)\n",
    "\n",
    "        N_M_Bias_scores.append(sexual_Non_marginalized_bias_score)  \n",
    "        \n",
    "        Gender_Non_Marginalized, gender_Non_marginalized_bias_score = print_SOS_bias(\"Gender_Non_Marginalized\", gender_Non_marginalized)\n",
    "\n",
    "        N_M_Bias_scores.append(gender_Non_marginalized_bias_score) \n",
    "\n",
    "\n",
    "            \n",
    "        Race_Non_Marginalized, race_Non_marginalized_bias_scores = print_SOS_bias(\"Race_Non_Marginalized\", race_Non_marginalized)\n",
    "\n",
    "        N_M_Bias_scores.append(race_Non_marginalized_bias_scores)         \n",
    "        \n",
    "        Religion_Non_Marginalized, religion_Non_marginalized_bias_scores = print_SOS_bias(\"Religion_Non_Marginalized\", religion_Non_marginalized)\n",
    " \n",
    "        N_M_Bias_scores.append(religion_Non_marginalized_bias_scores)           \n",
    "        \n",
    "        Physical_ability_Non_Marginalized, physical_ability_Non_marginalized_bias_scores = print_SOS_bias(\"Physical_ability_Non_Marginalized\", physical_ability_Non_marginalized)\n",
    "\n",
    "        N_M_Bias_scores.append(physical_ability_Non_marginalized_bias_scores)         \n",
    "        \n",
    "    print_SOS_bias(\"total bias\",results_df)\n",
    "    print_bias_scores_for_marginalized_groups()\n",
    "    print_bias_scores_for_Non_marginalized_groups()\n",
    "    \n",
    "\n",
    "    detailed_results_df = pd.DataFrame({\"Model_Name\":[model_name]*len(M_Bias_scores),\n",
    "                                        \"Bias_Type\": Bias_types,\n",
    "                                        \"Marginalized_Bias_Score\": M_Bias_scores,\n",
    "                                        \"Non_Maarginalized_Bias_scores\": N_M_Bias_scores})\n",
    "    \n",
    "    return detailed_results_df"
   ],
   "metadata": {
    "collapsed": false,
    "ExecuteTime": {
     "end_time": "2024-12-06T17:51:47.077703Z",
     "start_time": "2024-12-06T17:51:47.068584Z"
    }
   },
   "id": "e37a9c3dacf2d3d6",
   "outputs": [],
   "execution_count": 14
  },
  {
   "cell_type": "code",
   "source": [
    "BART_results_Masc = pd.read_csv(\"../../English_LMs/encoder_decoder/BART/UK_SOS_Male_BART.csv\")\n",
    "BART_results_Femm = pd.read_csv(\"../../English_LMs/encoder_decoder/BART/UK_SOS_Female_BART.csv\")\n",
    "BART_results_NB = pd.read_csv(\"../../English_LMs/encoder_decoder/BART/UK_SOS_Non_Binary_BART.csv\")\n",
    "\n",
    "AlBERT_results_Masc = pd.read_csv(\"../../English_LMs/Encoder_only/ALBERT/UK_SOS_Male_albert-base-v2.csv\")\n",
    "AlBERT_results_Femm = pd.read_csv(\"../../English_LMs/Encoder_only/ALBERT/UK_SOS_Female_albert-base-v2.csv\")\n",
    "AlBERT_results_NB = pd.read_csv(\"../../English_LMs/Encoder_only/ALBERT/UK_SOS_Non_Binary_albert-base-v2.csv\")\n",
    "\n",
    "BERT_results_Masc = pd.read_csv(\"../../English_LMs/Encoder_only/BERT/UK_SOS_male_bert-base.csv\")\n",
    "BERT_results_Femm = pd.read_csv(\"../../English_LMs/Encoder_only/BERT/UK_SOS_female_bert-base.csv\")\n",
    "BERT_results_NB = pd.read_csv(\"../../English_LMs/Encoder_only/BERT/UK_SOS_Non_Binary_bert-base.csv\")\n",
    "\n",
    "XML_Roberta_results_Masc = pd.read_csv(\"../../English_LMs/Multilingual_LMs/Encoder_only/XLM_Roberta/UK_SOS_Male.csv\")\n",
    "XML_Roberta_results_Femm = pd.read_csv(\"../../English_LMs/Multilingual_LMs/Encoder_only/XLM_Roberta/UK_SOS_Female.csv\")\n",
    "XML_Roberta_results_NB = pd.read_csv(\"../../English_LMs/Multilingual_LMs/Encoder_only/XLM_Roberta/UK_SOS_Non_Binary.csv\")"
   ],
   "metadata": {
    "collapsed": false,
    "ExecuteTime": {
     "end_time": "2024-12-06T17:51:47.148128Z",
     "start_time": "2024-12-06T17:51:47.073276Z"
    }
   },
   "id": "2c6769131acb0df7",
   "outputs": [],
   "execution_count": 15
  },
  {
   "cell_type": "code",
   "source": [
    "print(\"Results for BART_results_Masc\")\n",
    "BART_results_Masc_results_df = results_toxic_analysis_full_report(BART_results_Masc, \"BART_results_Masc\")\n",
    "BART_results_Masc_results_df.to_csv(\"./BART/BART_results_Masc_SOS.csv\", index=False)\n",
    "\n",
    "print(\"Results for BART_results_Femm\")\n",
    "BART_results_Femm_results_df = results_toxic_analysis_full_report(BART_results_Femm,\"BART_results_Femm\")\n",
    "BART_results_Femm_results_df.to_csv(\"./BART/BART_results_Femm_SOS.csv\", index=False)\n",
    "\n",
    "print(\"Results for BART_results_NB\")\n",
    "BART_results_NB_results_df = results_toxic_analysis_full_report(BART_results_NB,\"BART_results_NB\")\n",
    "BART_results_NB_results_df.to_csv(\"./BART/BART_results_NB_SOS.csv\", index=False)"
   ],
   "metadata": {
    "collapsed": false,
    "ExecuteTime": {
     "end_time": "2024-12-06T17:51:47.168592Z",
     "start_time": "2024-12-06T17:51:47.149051Z"
    }
   },
   "id": "d10095f07266d068",
   "outputs": [
    {
     "name": "stdout",
     "output_type": "stream",
     "text": [
      "Results for BART_results_Masc\n",
      "Results for BART_results_Femm\n",
      "Results for BART_results_NB\n"
     ]
    }
   ],
   "execution_count": 16
  },
  {
   "cell_type": "code",
   "source": [
    "print(\"Results for AlBERT_results_Masc\")\n",
    "AlBERT_results_Masc_results_df = results_toxic_analysis_full_report(AlBERT_results_Masc, \"AlBERT_results_Masc\")\n",
    "AlBERT_results_Masc_results_df.to_csv(\"./AlBERT/AlBERT_results_Masc_SOS.csv\", index=False)\n",
    "\n",
    "print(\"Results for AlBERT_results_Femm\")\n",
    "AlBERT_results_Femm_results_df = results_toxic_analysis_full_report(AlBERT_results_Femm,\"AlBERT_results_Femm\")\n",
    "AlBERT_results_Femm_results_df.to_csv(\"./AlBERT/AlBERT_results_Femm_SOS.csv\", index=False)\n",
    "\n",
    "print(\"Results forAlBERT_results_NB\")\n",
    "AlBERT_results_NB_results_df = results_toxic_analysis_full_report(AlBERT_results_NB,\"AlBERT_results_NB\")\n",
    "AlBERT_results_NB_results_df.to_csv(\"./AlBERT/AlBERT_results_NB_SOS.csv\", index=False)"
   ],
   "metadata": {
    "collapsed": false,
    "ExecuteTime": {
     "end_time": "2024-12-06T17:51:47.187269Z",
     "start_time": "2024-12-06T17:51:47.170908Z"
    }
   },
   "id": "83b86cac175bb34b",
   "outputs": [
    {
     "name": "stdout",
     "output_type": "stream",
     "text": [
      "Results for AlBERT_results_Masc\n",
      "Results for AlBERT_results_Femm\n",
      "Results forAlBERT_results_NB\n"
     ]
    }
   ],
   "execution_count": 17
  },
  {
   "cell_type": "code",
   "source": [
    "print(\"Results for BERT_results_Masc\")\n",
    "BERT_results_Masc_results_df = results_toxic_analysis_full_report(BERT_results_Masc, \"BERT_results_Masc\")\n",
    "BERT_results_Masc_results_df.to_csv(\"./BERT/BERT_results_Masc_SOS.csv\", index=False)\n",
    "\n",
    "print(\"Results for BERT_results_Femm\")\n",
    "BERT_results_Femm_results_df = results_toxic_analysis_full_report(BERT_results_Femm,\"BERT_results_Femm\")\n",
    "BERT_results_Femm_results_df.to_csv(\"./BERT/BERT_results_Femm_SOS.csv\", index=False)\n",
    "\n",
    "print(\"Results for BERT_results_NB\")\n",
    "BERT_results_NB_results_df = results_toxic_analysis_full_report(BERT_results_NB,\"BERT_results_NB\")\n",
    "BERT_results_NB_results_df.to_csv(\"./BERT/BERT_results_NB_SOS.csv\", index=False)"
   ],
   "metadata": {
    "collapsed": false,
    "ExecuteTime": {
     "end_time": "2024-12-06T17:51:47.220635Z",
     "start_time": "2024-12-06T17:51:47.188308Z"
    }
   },
   "id": "c06d6d8e3aa96be1",
   "outputs": [
    {
     "name": "stdout",
     "output_type": "stream",
     "text": [
      "Results for BERT_results_Masc\n",
      "Results for BERT_results_Femm\n",
      "Results for BERT_results_NB\n"
     ]
    }
   ],
   "execution_count": 18
  },
  {
   "cell_type": "code",
   "execution_count": 19,
   "outputs": [
    {
     "name": "stdout",
     "output_type": "stream",
     "text": [
      "Results for XML_Roberta_results_Masc\n",
      "Results for XML_Roberta_results_Femm\n",
      "Results for XML_Roberta_results_NB\n"
     ]
    }
   ],
   "source": [
    "print(\"Results for XML_Roberta_results_Masc\")\n",
    "XML_Roberta_results_Masc_results_df = results_toxic_analysis_full_report(XML_Roberta_results_Masc, \"XML_Roberta_results_Masc\")\n",
    "XML_Roberta_results_Masc_results_df.to_csv(\"./XLM_Roberta/XML_Roberta_results_Masc.csv\", index=False)\n",
    "\n",
    "print(\"Results for XML_Roberta_results_Femm\")\n",
    "XML_Roberta_results_Femm_results_df = results_toxic_analysis_full_report(XML_Roberta_results_Femm,\"XML_Roberta_results_Femm\")\n",
    "XML_Roberta_results_Femm_results_df.to_csv(\"./XLM_Roberta/XML_Roberta_results_Femm.csv\", index=False)\n",
    "\n",
    "print(\"Results for XML_Roberta_results_NB\")\n",
    "XML_Roberta_results_NB_results_df = results_toxic_analysis_full_report(XML_Roberta_results_NB,\"XML_Roberta_results_NB\")\n",
    "XML_Roberta_results_NB_results_df.to_csv(\"./XLM_Roberta/XML_Roberta_results_NB.csv\", index=False)"
   ],
   "metadata": {
    "collapsed": false,
    "ExecuteTime": {
     "end_time": "2024-12-06T17:51:47.227272Z",
     "start_time": "2024-12-06T17:51:47.208775Z"
    }
   },
   "id": "4ad131001810ce60"
  },
  {
   "cell_type": "code",
   "execution_count": 19,
   "outputs": [],
   "source": [],
   "metadata": {
    "collapsed": false,
    "ExecuteTime": {
     "end_time": "2024-12-06T17:51:47.227645Z",
     "start_time": "2024-12-06T17:51:47.225697Z"
    }
   },
   "id": "732550b3456a01b6"
  }
 ],
 "metadata": {
  "kernelspec": {
   "display_name": "Python 3",
   "language": "python",
   "name": "python3"
  },
  "language_info": {
   "codemirror_mode": {
    "name": "ipython",
    "version": 2
   },
   "file_extension": ".py",
   "mimetype": "text/x-python",
   "name": "python",
   "nbconvert_exporter": "python",
   "pygments_lexer": "ipython2",
   "version": "2.7.6"
  }
 },
 "nbformat": 4,
 "nbformat_minor": 5
}
