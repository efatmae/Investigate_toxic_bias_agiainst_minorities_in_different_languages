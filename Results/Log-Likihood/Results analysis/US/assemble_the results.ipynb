{
 "cells": [
  {
   "cell_type": "code",
   "id": "initial_id",
   "metadata": {
    "collapsed": true,
    "ExecuteTime": {
     "end_time": "2024-12-10T13:34:13.163500Z",
     "start_time": "2024-12-10T13:34:13.162153Z"
    }
   },
   "source": [
    "import pandas as pd\n",
    "import scipy"
   ],
   "outputs": [],
   "execution_count": 1
  },
  {
   "cell_type": "code",
   "source": [
    "def print_SOS_bias_agaonst_specific_identity(toxic_or_not, df, identity):\n",
    "        identity_df = df[df[\"identity\"] == identity]\n",
    "        #print(\"No. entries for \"+ identity, len(identity_df))\n",
    "        group = identity_df[\"bias_type\"].values.tolist()[0]\n",
    "        No_entires = identity_df[identity_df[\"score\"] == toxic_or_not]\n",
    "        #if toxic_or_not == 1:\n",
    "        #        print(\"No. toxic entries for \"+identity,len(No_entires))\n",
    "        #else:\n",
    "         #       print(\"No. non-toxic entries for \"+identity,len(No_entires))\n",
    "        score = len(No_entires) / len(identity_df)\n",
    "        #print(identity, score)\n",
    "        return score, group"
   ],
   "metadata": {
    "collapsed": false,
    "ExecuteTime": {
     "end_time": "2024-12-10T13:34:13.168435Z",
     "start_time": "2024-12-10T13:34:13.164540Z"
    }
   },
   "id": "4c4347b0f40f99d2",
   "outputs": [],
   "execution_count": 2
  },
  {
   "cell_type": "code",
   "source": [
    "def assemble_data_in_df (df, identities):\n",
    "    prcnt_toxic_sent_aginst_identity = []\n",
    "    prcnt_non_toxic_sent_aginst_identity = []\n",
    "    groups = []\n",
    "    for i in identities:\n",
    "        toxic_score, group_toxic = print_SOS_bias_agaonst_specific_identity(1, df, i)\n",
    "        non_toxic_score, _ = print_SOS_bias_agaonst_specific_identity(0, df, i)\n",
    "        \n",
    "        \n",
    "        prcnt_toxic_sent_aginst_identity.append(toxic_score)\n",
    "        groups.append(group_toxic)\n",
    "        prcnt_non_toxic_sent_aginst_identity.append(non_toxic_score)\n",
    "        \n",
    "    dta_analysis_for_each_identity = {\"identity\": identities,\n",
    "                                  \"percentage_of_toxic_sentences\": prcnt_toxic_sent_aginst_identity,\n",
    "                                  \"percentage_of_non_toxic_comment\": prcnt_non_toxic_sent_aginst_identity,\n",
    "                                  \"bias_type\": groups}\n",
    "\n",
    "    dta_analysis_for_each_identity_df = pd.DataFrame(dta_analysis_for_each_identity)\n",
    "    \n",
    "    return dta_analysis_for_each_identity_df"
   ],
   "metadata": {
    "collapsed": false,
    "ExecuteTime": {
     "end_time": "2024-12-10T13:34:13.172623Z",
     "start_time": "2024-12-10T13:34:13.168537Z"
    }
   },
   "id": "4128e604e76adb9d",
   "outputs": [],
   "execution_count": 3
  },
  {
   "cell_type": "code",
   "execution_count": 4,
   "outputs": [],
   "source": [
    "BART_results_Masc = pd.read_csv(\"../../English_LMs/encoder_decoder/BART/US_SOS_Male_BART.csv\")\n",
    "BART_results_Femm = pd.read_csv(\"../../English_LMs/encoder_decoder/BART/US_SOS_Female_BART.csv\")\n",
    "BART_results_NB = pd.read_csv(\"../../English_LMs/encoder_decoder/BART/US_SOS_Non_Binary_BART.csv\")\n",
    "\n",
    "AlBERT_results_Masc = pd.read_csv(\"../../English_LMs/Encoder_only/ALBERT/US_SOS_Male_albert-base-v2.csv\")\n",
    "AlBERT_results_Femm = pd.read_csv(\"../../English_LMs/Encoder_only/ALBERT/US_SOS_Female_albert-base-v2.csv\")\n",
    "AlBERT_results_NB = pd.read_csv(\"../../English_LMs/Encoder_only/ALBERT/US_SOS_Non_Binary_albert-base-v2.csv\")\n",
    "\n",
    "BERT_results_Masc = pd.read_csv(\"../../English_LMs/Encoder_only/BERT/US_SOS_male_bert-base.csv\")\n",
    "BERT_results_Femm = pd.read_csv(\"../../English_LMs/Encoder_only/BERT/US_SOS_female_bert-base.csv\")\n",
    "BERT_results_NB = pd.read_csv(\"../../English_LMs/Encoder_only/BERT/US_SOS_Non_Binary_bert-base.csv\")\n",
    "\n",
    "XML_Roberta_results_Masc = pd.read_csv(\"../../English_LMs/Multilingual_LMs/Encoder_only/XLM_Roberta/US_SOS_Male.csv\")\n",
    "XML_Roberta_results_Femm = pd.read_csv(\"../../English_LMs/Multilingual_LMs/Encoder_only/XLM_Roberta/US_SOS_Female.csv\")\n",
    "XML_Roberta_results_NB = pd.read_csv(\"../../English_LMs/Multilingual_LMs/Encoder_only/XLM_Roberta/US_SOS_Non_Binary.csv\")"
   ],
   "metadata": {
    "collapsed": false,
    "ExecuteTime": {
     "end_time": "2024-12-10T13:34:14.387431Z",
     "start_time": "2024-12-10T13:34:14.293350Z"
    }
   },
   "id": "b90cb020c328705b"
  },
  {
   "cell_type": "code",
   "execution_count": 5,
   "outputs": [],
   "source": [
    "BERT_Arabic_identities_Masc = BERT_results_Masc[\"identity\"].unique().tolist()\n",
    "BERT_data_analysis_for_each_identity_masc_df_arab = assemble_data_in_df (BERT_results_Masc, BERT_Arabic_identities_Masc)\n",
    "#AraBART_data_analysis_for_each_identity_masc_df_arab.to_csv(\"../Log-Likihood/Arabic_LMs/arabic_msa_sixteen_detailed_rsults_for_each_identity.csv\")"
   ],
   "metadata": {
    "collapsed": false,
    "ExecuteTime": {
     "end_time": "2024-12-10T13:34:15.157623Z",
     "start_time": "2024-12-10T13:34:15.090937Z"
    }
   },
   "id": "7d524d05f9976adf"
  },
  {
   "cell_type": "code",
   "execution_count": 6,
   "outputs": [],
   "source": [
    "BERT_data_analysis_for_each_identity_masc_df_arab = BERT_data_analysis_for_each_identity_masc_df_arab[~BERT_data_analysis_for_each_identity_masc_df_arab[\"bias_type\"].isin([\"Social-Class_Marginalized\", \"Social-Class_Non_Marginalized\"])]"
   ],
   "metadata": {
    "collapsed": false,
    "ExecuteTime": {
     "end_time": "2024-12-10T13:34:15.933136Z",
     "start_time": "2024-12-10T13:34:15.916837Z"
    }
   },
   "id": "a7b2acd68550f6c5"
  },
  {
   "cell_type": "code",
   "execution_count": 7,
   "outputs": [
    {
     "data": {
      "text/plain": "             identity  percentage_of_toxic_sentences  \\\n0        zoroastrians                       0.675676   \n1   learning-disabled                       0.567568   \n2            agnostic                       0.621622   \n3             taoists                       0.648649   \n4               lgbtq                       0.648649   \n..                ...                            ...   \n69          caucasian                       0.648649   \n70          christian                       0.648649   \n71         homosexual                       0.621622   \n72            african                       0.729730   \n73         confucians                       0.729730   \n\n    percentage_of_non_toxic_comment                        bias_type  \n0                          0.324324            Religion_Marginalized  \n1                          0.432432    Physical_ability_Marginalized  \n2                          0.378378            Religion_Marginalized  \n3                          0.351351            Religion_Marginalized  \n4                          0.351351  Sexual_orientation_Marginalized  \n..                              ...                              ...  \n69                         0.351351            Race_Non_marginalized  \n70                         0.351351        Religion_Non_Marginalized  \n71                         0.378378  Sexual_orientation_Marginalized  \n72                         0.270270                Race_Marginalized  \n73                         0.270270            Religion_Marginalized  \n\n[74 rows x 4 columns]",
      "text/html": "<div>\n<style scoped>\n    .dataframe tbody tr th:only-of-type {\n        vertical-align: middle;\n    }\n\n    .dataframe tbody tr th {\n        vertical-align: top;\n    }\n\n    .dataframe thead th {\n        text-align: right;\n    }\n</style>\n<table border=\"1\" class=\"dataframe\">\n  <thead>\n    <tr style=\"text-align: right;\">\n      <th></th>\n      <th>identity</th>\n      <th>percentage_of_toxic_sentences</th>\n      <th>percentage_of_non_toxic_comment</th>\n      <th>bias_type</th>\n    </tr>\n  </thead>\n  <tbody>\n    <tr>\n      <th>0</th>\n      <td>zoroastrians</td>\n      <td>0.675676</td>\n      <td>0.324324</td>\n      <td>Religion_Marginalized</td>\n    </tr>\n    <tr>\n      <th>1</th>\n      <td>learning-disabled</td>\n      <td>0.567568</td>\n      <td>0.432432</td>\n      <td>Physical_ability_Marginalized</td>\n    </tr>\n    <tr>\n      <th>2</th>\n      <td>agnostic</td>\n      <td>0.621622</td>\n      <td>0.378378</td>\n      <td>Religion_Marginalized</td>\n    </tr>\n    <tr>\n      <th>3</th>\n      <td>taoists</td>\n      <td>0.648649</td>\n      <td>0.351351</td>\n      <td>Religion_Marginalized</td>\n    </tr>\n    <tr>\n      <th>4</th>\n      <td>lgbtq</td>\n      <td>0.648649</td>\n      <td>0.351351</td>\n      <td>Sexual_orientation_Marginalized</td>\n    </tr>\n    <tr>\n      <th>...</th>\n      <td>...</td>\n      <td>...</td>\n      <td>...</td>\n      <td>...</td>\n    </tr>\n    <tr>\n      <th>69</th>\n      <td>caucasian</td>\n      <td>0.648649</td>\n      <td>0.351351</td>\n      <td>Race_Non_marginalized</td>\n    </tr>\n    <tr>\n      <th>70</th>\n      <td>christian</td>\n      <td>0.648649</td>\n      <td>0.351351</td>\n      <td>Religion_Non_Marginalized</td>\n    </tr>\n    <tr>\n      <th>71</th>\n      <td>homosexual</td>\n      <td>0.621622</td>\n      <td>0.378378</td>\n      <td>Sexual_orientation_Marginalized</td>\n    </tr>\n    <tr>\n      <th>72</th>\n      <td>african</td>\n      <td>0.729730</td>\n      <td>0.270270</td>\n      <td>Race_Marginalized</td>\n    </tr>\n    <tr>\n      <th>73</th>\n      <td>confucians</td>\n      <td>0.729730</td>\n      <td>0.270270</td>\n      <td>Religion_Marginalized</td>\n    </tr>\n  </tbody>\n</table>\n<p>74 rows × 4 columns</p>\n</div>"
     },
     "execution_count": 7,
     "metadata": {},
     "output_type": "execute_result"
    }
   ],
   "source": [
    "BERT_data_analysis_for_each_identity_masc_df_arab"
   ],
   "metadata": {
    "collapsed": false,
    "ExecuteTime": {
     "end_time": "2024-12-10T13:34:16.428374Z",
     "start_time": "2024-12-10T13:34:16.407919Z"
    }
   },
   "id": "92f643e9fb847290"
  },
  {
   "cell_type": "markdown",
   "source": [
    "\n",
    "## Sexual orientation"
   ],
   "metadata": {
    "collapsed": false
   },
   "id": "b3d0d1cb1974247f"
  },
  {
   "cell_type": "code",
   "execution_count": 8,
   "outputs": [
    {
     "data": {
      "text/plain": "      identity  percentage_of_toxic_sentences  \\\n4        lgbtq                       0.648649   \n5          gay                       0.702703   \n9      lesbian                       0.648649   \n16   pansexual                       0.648649   \n28     asexual                       0.567568   \n37    bisexual                       0.675676   \n59       queer                       0.675676   \n71  homosexual                       0.621622   \n\n    percentage_of_non_toxic_comment                        bias_type  \n4                          0.351351  Sexual_orientation_Marginalized  \n5                          0.297297  Sexual_orientation_Marginalized  \n9                          0.351351  Sexual_orientation_Marginalized  \n16                         0.351351  Sexual_orientation_Marginalized  \n28                         0.432432  Sexual_orientation_Marginalized  \n37                         0.324324  Sexual_orientation_Marginalized  \n59                         0.324324  Sexual_orientation_Marginalized  \n71                         0.378378  Sexual_orientation_Marginalized  ",
      "text/html": "<div>\n<style scoped>\n    .dataframe tbody tr th:only-of-type {\n        vertical-align: middle;\n    }\n\n    .dataframe tbody tr th {\n        vertical-align: top;\n    }\n\n    .dataframe thead th {\n        text-align: right;\n    }\n</style>\n<table border=\"1\" class=\"dataframe\">\n  <thead>\n    <tr style=\"text-align: right;\">\n      <th></th>\n      <th>identity</th>\n      <th>percentage_of_toxic_sentences</th>\n      <th>percentage_of_non_toxic_comment</th>\n      <th>bias_type</th>\n    </tr>\n  </thead>\n  <tbody>\n    <tr>\n      <th>4</th>\n      <td>lgbtq</td>\n      <td>0.648649</td>\n      <td>0.351351</td>\n      <td>Sexual_orientation_Marginalized</td>\n    </tr>\n    <tr>\n      <th>5</th>\n      <td>gay</td>\n      <td>0.702703</td>\n      <td>0.297297</td>\n      <td>Sexual_orientation_Marginalized</td>\n    </tr>\n    <tr>\n      <th>9</th>\n      <td>lesbian</td>\n      <td>0.648649</td>\n      <td>0.351351</td>\n      <td>Sexual_orientation_Marginalized</td>\n    </tr>\n    <tr>\n      <th>16</th>\n      <td>pansexual</td>\n      <td>0.648649</td>\n      <td>0.351351</td>\n      <td>Sexual_orientation_Marginalized</td>\n    </tr>\n    <tr>\n      <th>28</th>\n      <td>asexual</td>\n      <td>0.567568</td>\n      <td>0.432432</td>\n      <td>Sexual_orientation_Marginalized</td>\n    </tr>\n    <tr>\n      <th>37</th>\n      <td>bisexual</td>\n      <td>0.675676</td>\n      <td>0.324324</td>\n      <td>Sexual_orientation_Marginalized</td>\n    </tr>\n    <tr>\n      <th>59</th>\n      <td>queer</td>\n      <td>0.675676</td>\n      <td>0.324324</td>\n      <td>Sexual_orientation_Marginalized</td>\n    </tr>\n    <tr>\n      <th>71</th>\n      <td>homosexual</td>\n      <td>0.621622</td>\n      <td>0.378378</td>\n      <td>Sexual_orientation_Marginalized</td>\n    </tr>\n  </tbody>\n</table>\n</div>"
     },
     "execution_count": 8,
     "metadata": {},
     "output_type": "execute_result"
    }
   ],
   "source": [
    "BERT_data_analysis_for_each_identity_masc_df_arab[BERT_data_analysis_for_each_identity_masc_df_arab[\"bias_type\"] == \"Sexual_orientation_Marginalized\"]"
   ],
   "metadata": {
    "collapsed": false,
    "ExecuteTime": {
     "end_time": "2024-12-10T13:34:19.653196Z",
     "start_time": "2024-12-10T13:34:19.642034Z"
    }
   },
   "id": "fdcc9650dbdac674"
  },
  {
   "cell_type": "code",
   "execution_count": 9,
   "outputs": [
    {
     "data": {
      "text/plain": "0.6486486486486487"
     },
     "execution_count": 9,
     "metadata": {},
     "output_type": "execute_result"
    }
   ],
   "source": [
    "BERT_data_analysis_for_each_identity_masc_df_arab[BERT_data_analysis_for_each_identity_masc_df_arab[\"bias_type\"] == \"Sexual_orientation_Marginalized\"][\"percentage_of_toxic_sentences\"].mean()"
   ],
   "metadata": {
    "collapsed": false,
    "ExecuteTime": {
     "end_time": "2024-12-10T13:34:20.563098Z",
     "start_time": "2024-12-10T13:34:20.549015Z"
    }
   },
   "id": "dee295e1904fc0f2"
  },
  {
   "cell_type": "code",
   "execution_count": 10,
   "outputs": [
    {
     "data": {
      "text/plain": "        identity  percentage_of_toxic_sentences  \\\n11        hetero                       0.621622   \n23         hetro                       0.648649   \n39      straight                       0.756757   \n62  heterosexual                       0.648649   \n\n    percentage_of_non_toxic_comment                            bias_type  \n11                         0.378378  Sexual_orientation_Non_Marginalized  \n23                         0.351351  Sexual_orientation_Non_Marginalized  \n39                         0.243243  Sexual_orientation_Non_Marginalized  \n62                         0.351351  Sexual_orientation_Non_Marginalized  ",
      "text/html": "<div>\n<style scoped>\n    .dataframe tbody tr th:only-of-type {\n        vertical-align: middle;\n    }\n\n    .dataframe tbody tr th {\n        vertical-align: top;\n    }\n\n    .dataframe thead th {\n        text-align: right;\n    }\n</style>\n<table border=\"1\" class=\"dataframe\">\n  <thead>\n    <tr style=\"text-align: right;\">\n      <th></th>\n      <th>identity</th>\n      <th>percentage_of_toxic_sentences</th>\n      <th>percentage_of_non_toxic_comment</th>\n      <th>bias_type</th>\n    </tr>\n  </thead>\n  <tbody>\n    <tr>\n      <th>11</th>\n      <td>hetero</td>\n      <td>0.621622</td>\n      <td>0.378378</td>\n      <td>Sexual_orientation_Non_Marginalized</td>\n    </tr>\n    <tr>\n      <th>23</th>\n      <td>hetro</td>\n      <td>0.648649</td>\n      <td>0.351351</td>\n      <td>Sexual_orientation_Non_Marginalized</td>\n    </tr>\n    <tr>\n      <th>39</th>\n      <td>straight</td>\n      <td>0.756757</td>\n      <td>0.243243</td>\n      <td>Sexual_orientation_Non_Marginalized</td>\n    </tr>\n    <tr>\n      <th>62</th>\n      <td>heterosexual</td>\n      <td>0.648649</td>\n      <td>0.351351</td>\n      <td>Sexual_orientation_Non_Marginalized</td>\n    </tr>\n  </tbody>\n</table>\n</div>"
     },
     "execution_count": 10,
     "metadata": {},
     "output_type": "execute_result"
    }
   ],
   "source": [
    "BERT_data_analysis_for_each_identity_masc_df_arab[BERT_data_analysis_for_each_identity_masc_df_arab[\"bias_type\"] == \"Sexual_orientation_Non_Marginalized\"]"
   ],
   "metadata": {
    "collapsed": false,
    "ExecuteTime": {
     "end_time": "2024-12-10T13:34:20.909419Z",
     "start_time": "2024-12-10T13:34:20.889127Z"
    }
   },
   "id": "703d4b074dad3566"
  },
  {
   "cell_type": "markdown",
   "source": [
    "## Ethnicity"
   ],
   "metadata": {
    "collapsed": false
   },
   "id": "8ff5f24e1375fc21"
  },
  {
   "cell_type": "code",
   "execution_count": 11,
   "outputs": [
    {
     "data": {
      "text/plain": "             identity  percentage_of_toxic_sentences  \\\n8              latino                       0.783784   \n17               arab                       0.702703   \n20     asian-american                       0.675676   \n21     arabs-american                       0.756757   \n24            haitian                       0.702703   \n27              asian                       0.729730   \n29      alaska-native                       0.729730   \n36     middle-eastern                       0.567568   \n38           hispanic                       0.702703   \n43    native-american                       0.675676   \n46              black                       0.675676   \n51  pacific-islanders                       0.729730   \n52   african-american                       0.621622   \n56     native-hawaian                       0.675676   \n72            african                       0.729730   \n\n    percentage_of_non_toxic_comment          bias_type  \n8                          0.216216  Race_Marginalized  \n17                         0.297297  Race_Marginalized  \n20                         0.324324  Race_Marginalized  \n21                         0.243243  Race_Marginalized  \n24                         0.297297  Race_Marginalized  \n27                         0.270270  Race_Marginalized  \n29                         0.270270  Race_Marginalized  \n36                         0.432432  Race_Marginalized  \n38                         0.297297  Race_Marginalized  \n43                         0.324324  Race_Marginalized  \n46                         0.324324  Race_Marginalized  \n51                         0.270270  Race_Marginalized  \n52                         0.378378  Race_Marginalized  \n56                         0.324324  Race_Marginalized  \n72                         0.270270  Race_Marginalized  ",
      "text/html": "<div>\n<style scoped>\n    .dataframe tbody tr th:only-of-type {\n        vertical-align: middle;\n    }\n\n    .dataframe tbody tr th {\n        vertical-align: top;\n    }\n\n    .dataframe thead th {\n        text-align: right;\n    }\n</style>\n<table border=\"1\" class=\"dataframe\">\n  <thead>\n    <tr style=\"text-align: right;\">\n      <th></th>\n      <th>identity</th>\n      <th>percentage_of_toxic_sentences</th>\n      <th>percentage_of_non_toxic_comment</th>\n      <th>bias_type</th>\n    </tr>\n  </thead>\n  <tbody>\n    <tr>\n      <th>8</th>\n      <td>latino</td>\n      <td>0.783784</td>\n      <td>0.216216</td>\n      <td>Race_Marginalized</td>\n    </tr>\n    <tr>\n      <th>17</th>\n      <td>arab</td>\n      <td>0.702703</td>\n      <td>0.297297</td>\n      <td>Race_Marginalized</td>\n    </tr>\n    <tr>\n      <th>20</th>\n      <td>asian-american</td>\n      <td>0.675676</td>\n      <td>0.324324</td>\n      <td>Race_Marginalized</td>\n    </tr>\n    <tr>\n      <th>21</th>\n      <td>arabs-american</td>\n      <td>0.756757</td>\n      <td>0.243243</td>\n      <td>Race_Marginalized</td>\n    </tr>\n    <tr>\n      <th>24</th>\n      <td>haitian</td>\n      <td>0.702703</td>\n      <td>0.297297</td>\n      <td>Race_Marginalized</td>\n    </tr>\n    <tr>\n      <th>27</th>\n      <td>asian</td>\n      <td>0.729730</td>\n      <td>0.270270</td>\n      <td>Race_Marginalized</td>\n    </tr>\n    <tr>\n      <th>29</th>\n      <td>alaska-native</td>\n      <td>0.729730</td>\n      <td>0.270270</td>\n      <td>Race_Marginalized</td>\n    </tr>\n    <tr>\n      <th>36</th>\n      <td>middle-eastern</td>\n      <td>0.567568</td>\n      <td>0.432432</td>\n      <td>Race_Marginalized</td>\n    </tr>\n    <tr>\n      <th>38</th>\n      <td>hispanic</td>\n      <td>0.702703</td>\n      <td>0.297297</td>\n      <td>Race_Marginalized</td>\n    </tr>\n    <tr>\n      <th>43</th>\n      <td>native-american</td>\n      <td>0.675676</td>\n      <td>0.324324</td>\n      <td>Race_Marginalized</td>\n    </tr>\n    <tr>\n      <th>46</th>\n      <td>black</td>\n      <td>0.675676</td>\n      <td>0.324324</td>\n      <td>Race_Marginalized</td>\n    </tr>\n    <tr>\n      <th>51</th>\n      <td>pacific-islanders</td>\n      <td>0.729730</td>\n      <td>0.270270</td>\n      <td>Race_Marginalized</td>\n    </tr>\n    <tr>\n      <th>52</th>\n      <td>african-american</td>\n      <td>0.621622</td>\n      <td>0.378378</td>\n      <td>Race_Marginalized</td>\n    </tr>\n    <tr>\n      <th>56</th>\n      <td>native-hawaian</td>\n      <td>0.675676</td>\n      <td>0.324324</td>\n      <td>Race_Marginalized</td>\n    </tr>\n    <tr>\n      <th>72</th>\n      <td>african</td>\n      <td>0.729730</td>\n      <td>0.270270</td>\n      <td>Race_Marginalized</td>\n    </tr>\n  </tbody>\n</table>\n</div>"
     },
     "execution_count": 11,
     "metadata": {},
     "output_type": "execute_result"
    }
   ],
   "source": [
    "BERT_data_analysis_for_each_identity_masc_df_arab[BERT_data_analysis_for_each_identity_masc_df_arab[\"bias_type\"] == \"Race_Marginalized\"]"
   ],
   "metadata": {
    "collapsed": false,
    "ExecuteTime": {
     "end_time": "2024-12-10T13:34:21.373898Z",
     "start_time": "2024-12-10T13:34:21.364047Z"
    }
   },
   "id": "e294fd4d7f12a9da"
  },
  {
   "cell_type": "code",
   "execution_count": 12,
   "outputs": [
    {
     "data": {
      "text/plain": "0.6972972972972972"
     },
     "execution_count": 12,
     "metadata": {},
     "output_type": "execute_result"
    }
   ],
   "source": [
    "BERT_data_analysis_for_each_identity_masc_df_arab[BERT_data_analysis_for_each_identity_masc_df_arab[\"bias_type\"] == \"Race_Marginalized\"][\"percentage_of_toxic_sentences\"].mean()"
   ],
   "metadata": {
    "collapsed": false,
    "ExecuteTime": {
     "end_time": "2024-12-10T13:34:21.590427Z",
     "start_time": "2024-12-10T13:34:21.580454Z"
    }
   },
   "id": "12cbd8ec1972a1d4"
  },
  {
   "cell_type": "code",
   "execution_count": 13,
   "outputs": [
    {
     "data": {
      "text/plain": "             identity  percentage_of_toxic_sentences  \\\n35              white                       0.648649   \n42  european-american                       0.648649   \n65           european                       0.756757   \n69          caucasian                       0.648649   \n\n    percentage_of_non_toxic_comment              bias_type  \n35                         0.351351  Race_Non_marginalized  \n42                         0.351351  Race_Non_marginalized  \n65                         0.243243  Race_Non_marginalized  \n69                         0.351351  Race_Non_marginalized  ",
      "text/html": "<div>\n<style scoped>\n    .dataframe tbody tr th:only-of-type {\n        vertical-align: middle;\n    }\n\n    .dataframe tbody tr th {\n        vertical-align: top;\n    }\n\n    .dataframe thead th {\n        text-align: right;\n    }\n</style>\n<table border=\"1\" class=\"dataframe\">\n  <thead>\n    <tr style=\"text-align: right;\">\n      <th></th>\n      <th>identity</th>\n      <th>percentage_of_toxic_sentences</th>\n      <th>percentage_of_non_toxic_comment</th>\n      <th>bias_type</th>\n    </tr>\n  </thead>\n  <tbody>\n    <tr>\n      <th>35</th>\n      <td>white</td>\n      <td>0.648649</td>\n      <td>0.351351</td>\n      <td>Race_Non_marginalized</td>\n    </tr>\n    <tr>\n      <th>42</th>\n      <td>european-american</td>\n      <td>0.648649</td>\n      <td>0.351351</td>\n      <td>Race_Non_marginalized</td>\n    </tr>\n    <tr>\n      <th>65</th>\n      <td>european</td>\n      <td>0.756757</td>\n      <td>0.243243</td>\n      <td>Race_Non_marginalized</td>\n    </tr>\n    <tr>\n      <th>69</th>\n      <td>caucasian</td>\n      <td>0.648649</td>\n      <td>0.351351</td>\n      <td>Race_Non_marginalized</td>\n    </tr>\n  </tbody>\n</table>\n</div>"
     },
     "execution_count": 13,
     "metadata": {},
     "output_type": "execute_result"
    }
   ],
   "source": [
    "BERT_data_analysis_for_each_identity_masc_df_arab[BERT_data_analysis_for_each_identity_masc_df_arab[\"bias_type\"] == \"Race_Non_marginalized\"]"
   ],
   "metadata": {
    "collapsed": false,
    "ExecuteTime": {
     "end_time": "2024-12-10T13:34:21.838447Z",
     "start_time": "2024-12-10T13:34:21.819693Z"
    }
   },
   "id": "717edad2b8dce165"
  },
  {
   "cell_type": "markdown",
   "source": [
    "## Religion"
   ],
   "metadata": {
    "collapsed": false
   },
   "id": "458a32ca0f4d8f35"
  },
  {
   "cell_type": "code",
   "execution_count": 14,
   "outputs": [
    {
     "data": {
      "text/plain": "             identity  percentage_of_toxic_sentences  \\\n0        zoroastrians                       0.675676   \n2            agnostic                       0.621622   \n3             taoists                       0.648649   \n10               sikh                       0.648649   \n22             muslim                       0.621622   \n25           buddhist                       0.675676   \n30  jehovah’s witness                       0.729730   \n34            atheist                       0.675676   \n41           orthodox                       0.621622   \n44             mormon                       0.648649   \n54              druze                       0.729730   \n58             jewish                       0.594595   \n61         unitarians                       0.648649   \n64              hindu                       0.675676   \n67            baha’is                       0.648649   \n73         confucians                       0.729730   \n\n    percentage_of_non_toxic_comment              bias_type  \n0                          0.324324  Religion_Marginalized  \n2                          0.378378  Religion_Marginalized  \n3                          0.351351  Religion_Marginalized  \n10                         0.351351  Religion_Marginalized  \n22                         0.378378  Religion_Marginalized  \n25                         0.324324  Religion_Marginalized  \n30                         0.270270  Religion_Marginalized  \n34                         0.324324  Religion_Marginalized  \n41                         0.378378  Religion_Marginalized  \n44                         0.351351  Religion_Marginalized  \n54                         0.270270  Religion_Marginalized  \n58                         0.405405  Religion_Marginalized  \n61                         0.351351  Religion_Marginalized  \n64                         0.324324  Religion_Marginalized  \n67                         0.351351  Religion_Marginalized  \n73                         0.270270  Religion_Marginalized  ",
      "text/html": "<div>\n<style scoped>\n    .dataframe tbody tr th:only-of-type {\n        vertical-align: middle;\n    }\n\n    .dataframe tbody tr th {\n        vertical-align: top;\n    }\n\n    .dataframe thead th {\n        text-align: right;\n    }\n</style>\n<table border=\"1\" class=\"dataframe\">\n  <thead>\n    <tr style=\"text-align: right;\">\n      <th></th>\n      <th>identity</th>\n      <th>percentage_of_toxic_sentences</th>\n      <th>percentage_of_non_toxic_comment</th>\n      <th>bias_type</th>\n    </tr>\n  </thead>\n  <tbody>\n    <tr>\n      <th>0</th>\n      <td>zoroastrians</td>\n      <td>0.675676</td>\n      <td>0.324324</td>\n      <td>Religion_Marginalized</td>\n    </tr>\n    <tr>\n      <th>2</th>\n      <td>agnostic</td>\n      <td>0.621622</td>\n      <td>0.378378</td>\n      <td>Religion_Marginalized</td>\n    </tr>\n    <tr>\n      <th>3</th>\n      <td>taoists</td>\n      <td>0.648649</td>\n      <td>0.351351</td>\n      <td>Religion_Marginalized</td>\n    </tr>\n    <tr>\n      <th>10</th>\n      <td>sikh</td>\n      <td>0.648649</td>\n      <td>0.351351</td>\n      <td>Religion_Marginalized</td>\n    </tr>\n    <tr>\n      <th>22</th>\n      <td>muslim</td>\n      <td>0.621622</td>\n      <td>0.378378</td>\n      <td>Religion_Marginalized</td>\n    </tr>\n    <tr>\n      <th>25</th>\n      <td>buddhist</td>\n      <td>0.675676</td>\n      <td>0.324324</td>\n      <td>Religion_Marginalized</td>\n    </tr>\n    <tr>\n      <th>30</th>\n      <td>jehovah’s witness</td>\n      <td>0.729730</td>\n      <td>0.270270</td>\n      <td>Religion_Marginalized</td>\n    </tr>\n    <tr>\n      <th>34</th>\n      <td>atheist</td>\n      <td>0.675676</td>\n      <td>0.324324</td>\n      <td>Religion_Marginalized</td>\n    </tr>\n    <tr>\n      <th>41</th>\n      <td>orthodox</td>\n      <td>0.621622</td>\n      <td>0.378378</td>\n      <td>Religion_Marginalized</td>\n    </tr>\n    <tr>\n      <th>44</th>\n      <td>mormon</td>\n      <td>0.648649</td>\n      <td>0.351351</td>\n      <td>Religion_Marginalized</td>\n    </tr>\n    <tr>\n      <th>54</th>\n      <td>druze</td>\n      <td>0.729730</td>\n      <td>0.270270</td>\n      <td>Religion_Marginalized</td>\n    </tr>\n    <tr>\n      <th>58</th>\n      <td>jewish</td>\n      <td>0.594595</td>\n      <td>0.405405</td>\n      <td>Religion_Marginalized</td>\n    </tr>\n    <tr>\n      <th>61</th>\n      <td>unitarians</td>\n      <td>0.648649</td>\n      <td>0.351351</td>\n      <td>Religion_Marginalized</td>\n    </tr>\n    <tr>\n      <th>64</th>\n      <td>hindu</td>\n      <td>0.675676</td>\n      <td>0.324324</td>\n      <td>Religion_Marginalized</td>\n    </tr>\n    <tr>\n      <th>67</th>\n      <td>baha’is</td>\n      <td>0.648649</td>\n      <td>0.351351</td>\n      <td>Religion_Marginalized</td>\n    </tr>\n    <tr>\n      <th>73</th>\n      <td>confucians</td>\n      <td>0.729730</td>\n      <td>0.270270</td>\n      <td>Religion_Marginalized</td>\n    </tr>\n  </tbody>\n</table>\n</div>"
     },
     "execution_count": 14,
     "metadata": {},
     "output_type": "execute_result"
    }
   ],
   "source": [
    "BERT_data_analysis_for_each_identity_masc_df_arab[BERT_data_analysis_for_each_identity_masc_df_arab[\"bias_type\"] == \"Religion_Marginalized\"]"
   ],
   "metadata": {
    "collapsed": false,
    "ExecuteTime": {
     "end_time": "2024-12-10T13:34:22.339704Z",
     "start_time": "2024-12-10T13:34:22.330896Z"
    }
   },
   "id": "8ffec11c6b502306"
  },
  {
   "cell_type": "code",
   "execution_count": 15,
   "outputs": [
    {
     "data": {
      "text/plain": "0.6621621621621622"
     },
     "execution_count": 15,
     "metadata": {},
     "output_type": "execute_result"
    }
   ],
   "source": [
    "BERT_data_analysis_for_each_identity_masc_df_arab[BERT_data_analysis_for_each_identity_masc_df_arab[\"bias_type\"] == \"Religion_Marginalized\"].percentage_of_toxic_sentences.mean()"
   ],
   "metadata": {
    "collapsed": false,
    "ExecuteTime": {
     "end_time": "2024-12-10T13:34:22.718326Z",
     "start_time": "2024-12-10T13:34:22.701751Z"
    }
   },
   "id": "b81cbe8560e957e3"
  },
  {
   "cell_type": "code",
   "execution_count": 16,
   "outputs": [
    {
     "data": {
      "text/plain": "       identity  percentage_of_toxic_sentences  \\\n6    protestant                       0.756757   \n18  evangelical                       0.702703   \n45     catholic                       0.702703   \n70    christian                       0.648649   \n\n    percentage_of_non_toxic_comment                  bias_type  \n6                          0.243243  Religion_Non_Marginalized  \n18                         0.297297  Religion_Non_Marginalized  \n45                         0.297297  Religion_Non_Marginalized  \n70                         0.351351  Religion_Non_Marginalized  ",
      "text/html": "<div>\n<style scoped>\n    .dataframe tbody tr th:only-of-type {\n        vertical-align: middle;\n    }\n\n    .dataframe tbody tr th {\n        vertical-align: top;\n    }\n\n    .dataframe thead th {\n        text-align: right;\n    }\n</style>\n<table border=\"1\" class=\"dataframe\">\n  <thead>\n    <tr style=\"text-align: right;\">\n      <th></th>\n      <th>identity</th>\n      <th>percentage_of_toxic_sentences</th>\n      <th>percentage_of_non_toxic_comment</th>\n      <th>bias_type</th>\n    </tr>\n  </thead>\n  <tbody>\n    <tr>\n      <th>6</th>\n      <td>protestant</td>\n      <td>0.756757</td>\n      <td>0.243243</td>\n      <td>Religion_Non_Marginalized</td>\n    </tr>\n    <tr>\n      <th>18</th>\n      <td>evangelical</td>\n      <td>0.702703</td>\n      <td>0.297297</td>\n      <td>Religion_Non_Marginalized</td>\n    </tr>\n    <tr>\n      <th>45</th>\n      <td>catholic</td>\n      <td>0.702703</td>\n      <td>0.297297</td>\n      <td>Religion_Non_Marginalized</td>\n    </tr>\n    <tr>\n      <th>70</th>\n      <td>christian</td>\n      <td>0.648649</td>\n      <td>0.351351</td>\n      <td>Religion_Non_Marginalized</td>\n    </tr>\n  </tbody>\n</table>\n</div>"
     },
     "execution_count": 16,
     "metadata": {},
     "output_type": "execute_result"
    }
   ],
   "source": [
    "BERT_data_analysis_for_each_identity_masc_df_arab[BERT_data_analysis_for_each_identity_masc_df_arab[\"bias_type\"] == \"Religion_Non_Marginalized\"]"
   ],
   "metadata": {
    "collapsed": false,
    "ExecuteTime": {
     "end_time": "2024-12-10T13:34:23.054833Z",
     "start_time": "2024-12-10T13:34:23.042671Z"
    }
   },
   "id": "cca0149516620ec6"
  },
  {
   "cell_type": "markdown",
   "source": [
    "## Gender"
   ],
   "metadata": {
    "collapsed": false
   },
   "id": "3c5001bf19b4708d"
  },
  {
   "cell_type": "code",
   "execution_count": 17,
   "outputs": [
    {
     "data": {
      "text/plain": "                 identity  percentage_of_toxic_sentences  \\\n7                intersex                       0.594595   \n15            transgender                       0.594595   \n19            genderqueer                       0.621622   \n26            genderfluid                       0.675676   \n31                agender                       0.486486   \n48             non-binary                       0.756757   \n55                   tran                       0.648649   \n66  gender-non-conforming                       0.675676   \n\n    percentage_of_non_toxic_comment            bias_type  \n7                          0.405405  Gender_Marginalized  \n15                         0.405405  Gender_Marginalized  \n19                         0.378378  Gender_Marginalized  \n26                         0.324324  Gender_Marginalized  \n31                         0.513514  Gender_Marginalized  \n48                         0.243243  Gender_Marginalized  \n55                         0.351351  Gender_Marginalized  \n66                         0.324324  Gender_Marginalized  ",
      "text/html": "<div>\n<style scoped>\n    .dataframe tbody tr th:only-of-type {\n        vertical-align: middle;\n    }\n\n    .dataframe tbody tr th {\n        vertical-align: top;\n    }\n\n    .dataframe thead th {\n        text-align: right;\n    }\n</style>\n<table border=\"1\" class=\"dataframe\">\n  <thead>\n    <tr style=\"text-align: right;\">\n      <th></th>\n      <th>identity</th>\n      <th>percentage_of_toxic_sentences</th>\n      <th>percentage_of_non_toxic_comment</th>\n      <th>bias_type</th>\n    </tr>\n  </thead>\n  <tbody>\n    <tr>\n      <th>7</th>\n      <td>intersex</td>\n      <td>0.594595</td>\n      <td>0.405405</td>\n      <td>Gender_Marginalized</td>\n    </tr>\n    <tr>\n      <th>15</th>\n      <td>transgender</td>\n      <td>0.594595</td>\n      <td>0.405405</td>\n      <td>Gender_Marginalized</td>\n    </tr>\n    <tr>\n      <th>19</th>\n      <td>genderqueer</td>\n      <td>0.621622</td>\n      <td>0.378378</td>\n      <td>Gender_Marginalized</td>\n    </tr>\n    <tr>\n      <th>26</th>\n      <td>genderfluid</td>\n      <td>0.675676</td>\n      <td>0.324324</td>\n      <td>Gender_Marginalized</td>\n    </tr>\n    <tr>\n      <th>31</th>\n      <td>agender</td>\n      <td>0.486486</td>\n      <td>0.513514</td>\n      <td>Gender_Marginalized</td>\n    </tr>\n    <tr>\n      <th>48</th>\n      <td>non-binary</td>\n      <td>0.756757</td>\n      <td>0.243243</td>\n      <td>Gender_Marginalized</td>\n    </tr>\n    <tr>\n      <th>55</th>\n      <td>tran</td>\n      <td>0.648649</td>\n      <td>0.351351</td>\n      <td>Gender_Marginalized</td>\n    </tr>\n    <tr>\n      <th>66</th>\n      <td>gender-non-conforming</td>\n      <td>0.675676</td>\n      <td>0.324324</td>\n      <td>Gender_Marginalized</td>\n    </tr>\n  </tbody>\n</table>\n</div>"
     },
     "execution_count": 17,
     "metadata": {},
     "output_type": "execute_result"
    }
   ],
   "source": [
    "BERT_data_analysis_for_each_identity_masc_df_arab[BERT_data_analysis_for_each_identity_masc_df_arab[\"bias_type\"] == \"Gender_Marginalized\"]"
   ],
   "metadata": {
    "collapsed": false,
    "ExecuteTime": {
     "end_time": "2024-12-10T13:34:23.574970Z",
     "start_time": "2024-12-10T13:34:23.565734Z"
    }
   },
   "id": "db15c2edfc8041d4"
  },
  {
   "cell_type": "code",
   "execution_count": 18,
   "outputs": [
    {
     "data": {
      "text/plain": "0.6317567567567568"
     },
     "execution_count": 18,
     "metadata": {},
     "output_type": "execute_result"
    }
   ],
   "source": [
    "BERT_data_analysis_for_each_identity_masc_df_arab[BERT_data_analysis_for_each_identity_masc_df_arab[\"bias_type\"] == \"Gender_Marginalized\"].percentage_of_toxic_sentences.mean()"
   ],
   "metadata": {
    "collapsed": false,
    "ExecuteTime": {
     "end_time": "2024-12-10T13:34:24.008295Z",
     "start_time": "2024-12-10T13:34:23.999260Z"
    }
   },
   "id": "1594c4c3f5c15ff0"
  },
  {
   "cell_type": "code",
   "execution_count": 19,
   "outputs": [
    {
     "data": {
      "text/plain": "         identity  percentage_of_toxic_sentences  \\\n53      cisgender                       0.648649   \n60  binary-gender                       0.567568   \n63            cis                       0.675676   \n\n    percentage_of_non_toxic_comment                bias_type  \n53                         0.351351  Gender_Non_marginalized  \n60                         0.432432  Gender_Non_marginalized  \n63                         0.324324  Gender_Non_marginalized  ",
      "text/html": "<div>\n<style scoped>\n    .dataframe tbody tr th:only-of-type {\n        vertical-align: middle;\n    }\n\n    .dataframe tbody tr th {\n        vertical-align: top;\n    }\n\n    .dataframe thead th {\n        text-align: right;\n    }\n</style>\n<table border=\"1\" class=\"dataframe\">\n  <thead>\n    <tr style=\"text-align: right;\">\n      <th></th>\n      <th>identity</th>\n      <th>percentage_of_toxic_sentences</th>\n      <th>percentage_of_non_toxic_comment</th>\n      <th>bias_type</th>\n    </tr>\n  </thead>\n  <tbody>\n    <tr>\n      <th>53</th>\n      <td>cisgender</td>\n      <td>0.648649</td>\n      <td>0.351351</td>\n      <td>Gender_Non_marginalized</td>\n    </tr>\n    <tr>\n      <th>60</th>\n      <td>binary-gender</td>\n      <td>0.567568</td>\n      <td>0.432432</td>\n      <td>Gender_Non_marginalized</td>\n    </tr>\n    <tr>\n      <th>63</th>\n      <td>cis</td>\n      <td>0.675676</td>\n      <td>0.324324</td>\n      <td>Gender_Non_marginalized</td>\n    </tr>\n  </tbody>\n</table>\n</div>"
     },
     "execution_count": 19,
     "metadata": {},
     "output_type": "execute_result"
    }
   ],
   "source": [
    "BERT_data_analysis_for_each_identity_masc_df_arab[BERT_data_analysis_for_each_identity_masc_df_arab[\"bias_type\"] == \"Gender_Non_marginalized\"]"
   ],
   "metadata": {
    "collapsed": false,
    "ExecuteTime": {
     "end_time": "2024-12-10T13:34:24.377660Z",
     "start_time": "2024-12-10T13:34:24.365837Z"
    }
   },
   "id": "22531e2217c89373"
  },
  {
   "cell_type": "code",
   "execution_count": 20,
   "outputs": [
    {
     "data": {
      "text/plain": "0.6306306306306306"
     },
     "execution_count": 20,
     "metadata": {},
     "output_type": "execute_result"
    }
   ],
   "source": [
    "BERT_data_analysis_for_each_identity_masc_df_arab[BERT_data_analysis_for_each_identity_masc_df_arab[\"bias_type\"] == \"Gender_Non_marginalized\"].percentage_of_toxic_sentences.mean()"
   ],
   "metadata": {
    "collapsed": false,
    "ExecuteTime": {
     "end_time": "2024-12-10T13:34:24.630763Z",
     "start_time": "2024-12-10T13:34:24.614277Z"
    }
   },
   "id": "1997c227e071f016"
  },
  {
   "cell_type": "markdown",
   "source": [
    "## Disability"
   ],
   "metadata": {
    "collapsed": false
   },
   "id": "cd5b5e524d7e9736"
  },
  {
   "cell_type": "code",
   "execution_count": 21,
   "outputs": [
    {
     "data": {
      "text/plain": "             identity  percentage_of_toxic_sentences  \\\n1   learning-disabled                       0.567568   \n12          infertile                       0.540541   \n13    wheelchair-user                       0.675676   \n14          epileptic                       0.702703   \n32          paralyzed                       0.702703   \n33            spastic                       0.567568   \n40           autistic                       0.594595   \n47               deaf                       0.702703   \n49               mute                       0.729730   \n50           disabled                       0.702703   \n68              blind                       0.702703   \n\n    percentage_of_non_toxic_comment                      bias_type  \n1                          0.432432  Physical_ability_Marginalized  \n12                         0.459459  Physical_ability_Marginalized  \n13                         0.324324  Physical_ability_Marginalized  \n14                         0.297297  Physical_ability_Marginalized  \n32                         0.297297  Physical_ability_Marginalized  \n33                         0.432432  Physical_ability_Marginalized  \n40                         0.405405  Physical_ability_Marginalized  \n47                         0.297297  Physical_ability_Marginalized  \n49                         0.270270  Physical_ability_Marginalized  \n50                         0.297297  Physical_ability_Marginalized  \n68                         0.297297  Physical_ability_Marginalized  ",
      "text/html": "<div>\n<style scoped>\n    .dataframe tbody tr th:only-of-type {\n        vertical-align: middle;\n    }\n\n    .dataframe tbody tr th {\n        vertical-align: top;\n    }\n\n    .dataframe thead th {\n        text-align: right;\n    }\n</style>\n<table border=\"1\" class=\"dataframe\">\n  <thead>\n    <tr style=\"text-align: right;\">\n      <th></th>\n      <th>identity</th>\n      <th>percentage_of_toxic_sentences</th>\n      <th>percentage_of_non_toxic_comment</th>\n      <th>bias_type</th>\n    </tr>\n  </thead>\n  <tbody>\n    <tr>\n      <th>1</th>\n      <td>learning-disabled</td>\n      <td>0.567568</td>\n      <td>0.432432</td>\n      <td>Physical_ability_Marginalized</td>\n    </tr>\n    <tr>\n      <th>12</th>\n      <td>infertile</td>\n      <td>0.540541</td>\n      <td>0.459459</td>\n      <td>Physical_ability_Marginalized</td>\n    </tr>\n    <tr>\n      <th>13</th>\n      <td>wheelchair-user</td>\n      <td>0.675676</td>\n      <td>0.324324</td>\n      <td>Physical_ability_Marginalized</td>\n    </tr>\n    <tr>\n      <th>14</th>\n      <td>epileptic</td>\n      <td>0.702703</td>\n      <td>0.297297</td>\n      <td>Physical_ability_Marginalized</td>\n    </tr>\n    <tr>\n      <th>32</th>\n      <td>paralyzed</td>\n      <td>0.702703</td>\n      <td>0.297297</td>\n      <td>Physical_ability_Marginalized</td>\n    </tr>\n    <tr>\n      <th>33</th>\n      <td>spastic</td>\n      <td>0.567568</td>\n      <td>0.432432</td>\n      <td>Physical_ability_Marginalized</td>\n    </tr>\n    <tr>\n      <th>40</th>\n      <td>autistic</td>\n      <td>0.594595</td>\n      <td>0.405405</td>\n      <td>Physical_ability_Marginalized</td>\n    </tr>\n    <tr>\n      <th>47</th>\n      <td>deaf</td>\n      <td>0.702703</td>\n      <td>0.297297</td>\n      <td>Physical_ability_Marginalized</td>\n    </tr>\n    <tr>\n      <th>49</th>\n      <td>mute</td>\n      <td>0.729730</td>\n      <td>0.270270</td>\n      <td>Physical_ability_Marginalized</td>\n    </tr>\n    <tr>\n      <th>50</th>\n      <td>disabled</td>\n      <td>0.702703</td>\n      <td>0.297297</td>\n      <td>Physical_ability_Marginalized</td>\n    </tr>\n    <tr>\n      <th>68</th>\n      <td>blind</td>\n      <td>0.702703</td>\n      <td>0.297297</td>\n      <td>Physical_ability_Marginalized</td>\n    </tr>\n  </tbody>\n</table>\n</div>"
     },
     "execution_count": 21,
     "metadata": {},
     "output_type": "execute_result"
    }
   ],
   "source": [
    "BERT_data_analysis_for_each_identity_masc_df_arab[BERT_data_analysis_for_each_identity_masc_df_arab[\"bias_type\"] == \"Physical_ability_Marginalized\"]"
   ],
   "metadata": {
    "collapsed": false,
    "ExecuteTime": {
     "end_time": "2024-12-10T13:34:25.491840Z",
     "start_time": "2024-12-10T13:34:25.482305Z"
    }
   },
   "id": "595eb659abc26a5e"
  },
  {
   "cell_type": "code",
   "execution_count": 22,
   "outputs": [
    {
     "data": {
      "text/plain": "0.6535626535626536"
     },
     "execution_count": 22,
     "metadata": {},
     "output_type": "execute_result"
    }
   ],
   "source": [
    "BERT_data_analysis_for_each_identity_masc_df_arab[BERT_data_analysis_for_each_identity_masc_df_arab[\"bias_type\"] == \"Physical_ability_Marginalized\"].percentage_of_toxic_sentences.mean()"
   ],
   "metadata": {
    "collapsed": false,
    "ExecuteTime": {
     "end_time": "2024-12-10T13:34:25.847875Z",
     "start_time": "2024-12-10T13:34:25.832141Z"
    }
   },
   "id": "9342ad6245a374ac"
  },
  {
   "cell_type": "code",
   "execution_count": 23,
   "outputs": [
    {
     "data": {
      "text/plain": "        identity  percentage_of_toxic_sentences  \\\n57  non-disabled                       0.756757   \n\n    percentage_of_non_toxic_comment                          bias_type  \n57                         0.243243  Physical_ability_Non_Marginalized  ",
      "text/html": "<div>\n<style scoped>\n    .dataframe tbody tr th:only-of-type {\n        vertical-align: middle;\n    }\n\n    .dataframe tbody tr th {\n        vertical-align: top;\n    }\n\n    .dataframe thead th {\n        text-align: right;\n    }\n</style>\n<table border=\"1\" class=\"dataframe\">\n  <thead>\n    <tr style=\"text-align: right;\">\n      <th></th>\n      <th>identity</th>\n      <th>percentage_of_toxic_sentences</th>\n      <th>percentage_of_non_toxic_comment</th>\n      <th>bias_type</th>\n    </tr>\n  </thead>\n  <tbody>\n    <tr>\n      <th>57</th>\n      <td>non-disabled</td>\n      <td>0.756757</td>\n      <td>0.243243</td>\n      <td>Physical_ability_Non_Marginalized</td>\n    </tr>\n  </tbody>\n</table>\n</div>"
     },
     "execution_count": 23,
     "metadata": {},
     "output_type": "execute_result"
    }
   ],
   "source": [
    "BERT_data_analysis_for_each_identity_masc_df_arab[BERT_data_analysis_for_each_identity_masc_df_arab[\"bias_type\"] == \"Physical_ability_Non_Marginalized\"]"
   ],
   "metadata": {
    "collapsed": false,
    "ExecuteTime": {
     "end_time": "2024-12-10T13:34:26.201363Z",
     "start_time": "2024-12-10T13:34:26.192328Z"
    }
   },
   "id": "d9d5499203d69552"
  },
  {
   "cell_type": "code",
   "execution_count": 24,
   "outputs": [],
   "source": [
    "BERT_Arabic_intersectional_identities_femm = BERT_results_Femm[\"identity\"].unique().tolist()\n",
    "data_analysis_for_each_identity_df_arab_intersectional = assemble_data_in_df (BERT_results_Femm, BERT_Arabic_intersectional_identities_femm)\n",
    "#data_analysis_for_each_identity_df_arab_intersectional.to_csv(\"../Log-Likihood/Arabic_LMs/arabic_intersectional_msa_sixteeth_rsults_for_each_identity.csv\")"
   ],
   "metadata": {
    "collapsed": false,
    "ExecuteTime": {
     "end_time": "2024-12-10T13:34:26.508194Z",
     "start_time": "2024-12-10T13:34:26.455893Z"
    }
   },
   "id": "4ec87591d74ea52a"
  },
  {
   "cell_type": "code",
   "execution_count": 25,
   "outputs": [],
   "source": [
    "data_analysis_for_each_identity_df_arab_intersectional = data_analysis_for_each_identity_df_arab_intersectional[~data_analysis_for_each_identity_df_arab_intersectional[\"bias_type\"].isin([\"Social-Class_Marginalized\", \"Social-Class_Non_Marginalized\"])]"
   ],
   "metadata": {
    "collapsed": false,
    "ExecuteTime": {
     "end_time": "2024-12-10T13:34:26.721684Z",
     "start_time": "2024-12-10T13:34:26.709853Z"
    }
   },
   "id": "190f1ed950a6a14e"
  },
  {
   "metadata": {
    "ExecuteTime": {
     "end_time": "2024-12-10T13:34:26.989142Z",
     "start_time": "2024-12-10T13:34:26.978111Z"
    }
   },
   "cell_type": "code",
   "outputs": [
    {
     "data": {
      "text/plain": "          identity  percentage_of_toxic_sentences  \\\n0          atheist                       0.621622   \n1            lgbtq                       0.621622   \n2   asian-american                       0.621622   \n3             deaf                       0.648649   \n4         catholic                       0.621622   \n..             ...                            ...   \n69       christian                       0.621622   \n70  native-hawaian                       0.675676   \n71            arab                       0.648649   \n72       infertile                       0.594595   \n73        straight                       0.675676   \n\n    percentage_of_non_toxic_comment                            bias_type  \n0                          0.378378                Religion_Marginalized  \n1                          0.378378      Sexual_orientation_Marginalized  \n2                          0.378378                    Race_Marginalized  \n3                          0.351351        Physical_ability_Marginalized  \n4                          0.378378            Religion_Non_Marginalized  \n..                              ...                                  ...  \n69                         0.378378            Religion_Non_Marginalized  \n70                         0.324324                    Race_Marginalized  \n71                         0.351351                    Race_Marginalized  \n72                         0.405405        Physical_ability_Marginalized  \n73                         0.324324  Sexual_orientation_Non_Marginalized  \n\n[74 rows x 4 columns]",
      "text/html": "<div>\n<style scoped>\n    .dataframe tbody tr th:only-of-type {\n        vertical-align: middle;\n    }\n\n    .dataframe tbody tr th {\n        vertical-align: top;\n    }\n\n    .dataframe thead th {\n        text-align: right;\n    }\n</style>\n<table border=\"1\" class=\"dataframe\">\n  <thead>\n    <tr style=\"text-align: right;\">\n      <th></th>\n      <th>identity</th>\n      <th>percentage_of_toxic_sentences</th>\n      <th>percentage_of_non_toxic_comment</th>\n      <th>bias_type</th>\n    </tr>\n  </thead>\n  <tbody>\n    <tr>\n      <th>0</th>\n      <td>atheist</td>\n      <td>0.621622</td>\n      <td>0.378378</td>\n      <td>Religion_Marginalized</td>\n    </tr>\n    <tr>\n      <th>1</th>\n      <td>lgbtq</td>\n      <td>0.621622</td>\n      <td>0.378378</td>\n      <td>Sexual_orientation_Marginalized</td>\n    </tr>\n    <tr>\n      <th>2</th>\n      <td>asian-american</td>\n      <td>0.621622</td>\n      <td>0.378378</td>\n      <td>Race_Marginalized</td>\n    </tr>\n    <tr>\n      <th>3</th>\n      <td>deaf</td>\n      <td>0.648649</td>\n      <td>0.351351</td>\n      <td>Physical_ability_Marginalized</td>\n    </tr>\n    <tr>\n      <th>4</th>\n      <td>catholic</td>\n      <td>0.621622</td>\n      <td>0.378378</td>\n      <td>Religion_Non_Marginalized</td>\n    </tr>\n    <tr>\n      <th>...</th>\n      <td>...</td>\n      <td>...</td>\n      <td>...</td>\n      <td>...</td>\n    </tr>\n    <tr>\n      <th>69</th>\n      <td>christian</td>\n      <td>0.621622</td>\n      <td>0.378378</td>\n      <td>Religion_Non_Marginalized</td>\n    </tr>\n    <tr>\n      <th>70</th>\n      <td>native-hawaian</td>\n      <td>0.675676</td>\n      <td>0.324324</td>\n      <td>Race_Marginalized</td>\n    </tr>\n    <tr>\n      <th>71</th>\n      <td>arab</td>\n      <td>0.648649</td>\n      <td>0.351351</td>\n      <td>Race_Marginalized</td>\n    </tr>\n    <tr>\n      <th>72</th>\n      <td>infertile</td>\n      <td>0.594595</td>\n      <td>0.405405</td>\n      <td>Physical_ability_Marginalized</td>\n    </tr>\n    <tr>\n      <th>73</th>\n      <td>straight</td>\n      <td>0.675676</td>\n      <td>0.324324</td>\n      <td>Sexual_orientation_Non_Marginalized</td>\n    </tr>\n  </tbody>\n</table>\n<p>74 rows × 4 columns</p>\n</div>"
     },
     "execution_count": 26,
     "metadata": {},
     "output_type": "execute_result"
    }
   ],
   "execution_count": 26,
   "source": [
    "data_analysis_for_each_identity_df_arab_intersectional"
   ],
   "id": "e7079598ed6e629a"
  },
  {
   "cell_type": "code",
   "execution_count": 27,
   "outputs": [],
   "source": [
    "BERT_Arabic_identities_NB = BERT_results_NB[\"identity\"].unique().tolist()\n",
    "BERT_data_analysis_for_each_identity_NB_df_arab = assemble_data_in_df (BERT_results_NB, BERT_Arabic_identities_NB)\n",
    "#AraBART_data_analysis_for_each_identity_masc_df_arab.to_csv(\"../Log-Likihood/Arabic_LMs/arabic_msa_sixteen_detailed_rsults_for_each_identity.csv\")"
   ],
   "metadata": {
    "collapsed": false,
    "ExecuteTime": {
     "end_time": "2024-12-10T13:34:27.231140Z",
     "start_time": "2024-12-10T13:34:27.180933Z"
    }
   },
   "id": "de6d72891d802c8d"
  },
  {
   "cell_type": "code",
   "execution_count": 28,
   "outputs": [],
   "source": [
    "BERT_data_analysis_for_each_identity_NB_df_arab = BERT_data_analysis_for_each_identity_NB_df_arab[~BERT_data_analysis_for_each_identity_NB_df_arab[\"bias_type\"].isin([\"Social-Class_Marginalized\", \"Social-Class_Non_Marginalized\"])]"
   ],
   "metadata": {
    "collapsed": false,
    "ExecuteTime": {
     "end_time": "2024-12-10T13:34:27.499726Z",
     "start_time": "2024-12-10T13:34:27.486958Z"
    }
   },
   "id": "e0075de995b75ac9"
  },
  {
   "cell_type": "code",
   "execution_count": 29,
   "outputs": [
    {
     "data": {
      "text/plain": "             identity  percentage_of_toxic_sentences  \\\n0         transgender                       0.621622   \n1   european-american                       0.702703   \n2          confucians                       0.864865   \n3          protestant                       0.540541   \n4                 gay                       0.702703   \n..                ...                            ...   \n69           autistic                       0.675676   \n70          paralyzed                       0.594595   \n71         homosexual                       0.675676   \n72           intersex                       0.702703   \n73             latino                       0.756757   \n\n    percentage_of_non_toxic_comment                        bias_type  \n0                          0.378378              Gender_Marginalized  \n1                          0.297297            Race_Non_marginalized  \n2                          0.135135            Religion_Marginalized  \n3                          0.459459        Religion_Non_Marginalized  \n4                          0.297297  Sexual_orientation_Marginalized  \n..                              ...                              ...  \n69                         0.324324    Physical_ability_Marginalized  \n70                         0.405405    Physical_ability_Marginalized  \n71                         0.324324  Sexual_orientation_Marginalized  \n72                         0.297297              Gender_Marginalized  \n73                         0.243243                Race_Marginalized  \n\n[74 rows x 4 columns]",
      "text/html": "<div>\n<style scoped>\n    .dataframe tbody tr th:only-of-type {\n        vertical-align: middle;\n    }\n\n    .dataframe tbody tr th {\n        vertical-align: top;\n    }\n\n    .dataframe thead th {\n        text-align: right;\n    }\n</style>\n<table border=\"1\" class=\"dataframe\">\n  <thead>\n    <tr style=\"text-align: right;\">\n      <th></th>\n      <th>identity</th>\n      <th>percentage_of_toxic_sentences</th>\n      <th>percentage_of_non_toxic_comment</th>\n      <th>bias_type</th>\n    </tr>\n  </thead>\n  <tbody>\n    <tr>\n      <th>0</th>\n      <td>transgender</td>\n      <td>0.621622</td>\n      <td>0.378378</td>\n      <td>Gender_Marginalized</td>\n    </tr>\n    <tr>\n      <th>1</th>\n      <td>european-american</td>\n      <td>0.702703</td>\n      <td>0.297297</td>\n      <td>Race_Non_marginalized</td>\n    </tr>\n    <tr>\n      <th>2</th>\n      <td>confucians</td>\n      <td>0.864865</td>\n      <td>0.135135</td>\n      <td>Religion_Marginalized</td>\n    </tr>\n    <tr>\n      <th>3</th>\n      <td>protestant</td>\n      <td>0.540541</td>\n      <td>0.459459</td>\n      <td>Religion_Non_Marginalized</td>\n    </tr>\n    <tr>\n      <th>4</th>\n      <td>gay</td>\n      <td>0.702703</td>\n      <td>0.297297</td>\n      <td>Sexual_orientation_Marginalized</td>\n    </tr>\n    <tr>\n      <th>...</th>\n      <td>...</td>\n      <td>...</td>\n      <td>...</td>\n      <td>...</td>\n    </tr>\n    <tr>\n      <th>69</th>\n      <td>autistic</td>\n      <td>0.675676</td>\n      <td>0.324324</td>\n      <td>Physical_ability_Marginalized</td>\n    </tr>\n    <tr>\n      <th>70</th>\n      <td>paralyzed</td>\n      <td>0.594595</td>\n      <td>0.405405</td>\n      <td>Physical_ability_Marginalized</td>\n    </tr>\n    <tr>\n      <th>71</th>\n      <td>homosexual</td>\n      <td>0.675676</td>\n      <td>0.324324</td>\n      <td>Sexual_orientation_Marginalized</td>\n    </tr>\n    <tr>\n      <th>72</th>\n      <td>intersex</td>\n      <td>0.702703</td>\n      <td>0.297297</td>\n      <td>Gender_Marginalized</td>\n    </tr>\n    <tr>\n      <th>73</th>\n      <td>latino</td>\n      <td>0.756757</td>\n      <td>0.243243</td>\n      <td>Race_Marginalized</td>\n    </tr>\n  </tbody>\n</table>\n<p>74 rows × 4 columns</p>\n</div>"
     },
     "execution_count": 29,
     "metadata": {},
     "output_type": "execute_result"
    }
   ],
   "source": [
    "BERT_data_analysis_for_each_identity_NB_df_arab"
   ],
   "metadata": {
    "collapsed": false,
    "ExecuteTime": {
     "end_time": "2024-12-10T13:34:27.778196Z",
     "start_time": "2024-12-10T13:34:27.765975Z"
    }
   },
   "id": "a6719c8020887e91"
  },
  {
   "cell_type": "code",
   "execution_count": 30,
   "outputs": [],
   "source": [
    "import matplotlib.pyplot as plt"
   ],
   "metadata": {
    "collapsed": false,
    "ExecuteTime": {
     "end_time": "2024-12-10T13:34:28.023514Z",
     "start_time": "2024-12-10T13:34:28.010599Z"
    }
   },
   "id": "8e21dbccdeb5515b"
  },
  {
   "cell_type": "code",
   "execution_count": 31,
   "outputs": [
    {
     "data": {
      "text/plain": "<Axes: >"
     },
     "execution_count": 31,
     "metadata": {},
     "output_type": "execute_result"
    },
    {
     "data": {
      "text/plain": "<Figure size 640x480 with 1 Axes>",
      "image/png": "[encoded data removed]"
     },
     "metadata": {},
     "output_type": "display_data"
    }
   ],
   "source": [
    "data_analysis_for_each_identity_df_arab_intersectional.percentage_of_toxic_sentences.hist()"
   ],
   "metadata": {
    "collapsed": false,
    "ExecuteTime": {
     "end_time": "2024-12-10T13:34:28.630673Z",
     "start_time": "2024-12-10T13:34:28.468474Z"
    }
   },
   "id": "29527a832f52a32c"
  },
  {
   "cell_type": "code",
   "execution_count": 32,
   "outputs": [
    {
     "data": {
      "text/plain": "0.6471877282688094"
     },
     "execution_count": 32,
     "metadata": {},
     "output_type": "execute_result"
    }
   ],
   "source": [
    "data_analysis_for_each_identity_df_arab_intersectional.percentage_of_toxic_sentences.mean()"
   ],
   "metadata": {
    "collapsed": false,
    "ExecuteTime": {
     "end_time": "2024-12-10T13:34:28.779720Z",
     "start_time": "2024-12-10T13:34:28.775039Z"
    }
   },
   "id": "358c4006a7c0bc22"
  },
  {
   "cell_type": "code",
   "execution_count": 33,
   "outputs": [
    {
     "data": {
      "text/plain": "<Axes: >"
     },
     "execution_count": 33,
     "metadata": {},
     "output_type": "execute_result"
    },
    {
     "data": {
      "text/plain": "<Figure size 640x480 with 1 Axes>",
      "image/png": "[encoded data removed]"
     },
     "metadata": {},
     "output_type": "display_data"
    }
   ],
   "source": [
    "(BERT_data_analysis_for_each_identity_masc_df_arab.percentage_of_toxic_sentences.hist())"
   ],
   "metadata": {
    "collapsed": false,
    "ExecuteTime": {
     "end_time": "2024-12-10T13:34:29.249610Z",
     "start_time": "2024-12-10T13:34:29.149168Z"
    }
   },
   "id": "e14131e30902fa2f"
  },
  {
   "cell_type": "code",
   "execution_count": 34,
   "outputs": [
    {
     "data": {
      "text/plain": "0.6665449233016799"
     },
     "execution_count": 34,
     "metadata": {},
     "output_type": "execute_result"
    }
   ],
   "source": [
    "BERT_data_analysis_for_each_identity_masc_df_arab.percentage_of_toxic_sentences.mean()"
   ],
   "metadata": {
    "collapsed": false,
    "ExecuteTime": {
     "end_time": "2024-12-10T13:34:29.557616Z",
     "start_time": "2024-12-10T13:34:29.548539Z"
    }
   },
   "id": "6093a64a99ab4b20"
  },
  {
   "cell_type": "code",
   "execution_count": 35,
   "outputs": [
    {
     "data": {
      "text/plain": "<Axes: >"
     },
     "execution_count": 35,
     "metadata": {},
     "output_type": "execute_result"
    },
    {
     "data": {
      "text/plain": "<Figure size 640x480 with 1 Axes>",
      "image/png": "[encoded data removed]"
     },
     "metadata": {},
     "output_type": "display_data"
    }
   ],
   "source": [
    "BERT_data_analysis_for_each_identity_NB_df_arab.percentage_of_toxic_sentences.hist()"
   ],
   "metadata": {
    "collapsed": false,
    "ExecuteTime": {
     "end_time": "2024-12-10T13:34:30.074943Z",
     "start_time": "2024-12-10T13:34:29.971847Z"
    }
   },
   "id": "f9e31efaf03db1f3"
  },
  {
   "cell_type": "code",
   "execution_count": 36,
   "outputs": [
    {
     "data": {
      "text/plain": "0.6742147552958364"
     },
     "execution_count": 36,
     "metadata": {},
     "output_type": "execute_result"
    }
   ],
   "source": [
    "BERT_data_analysis_for_each_identity_NB_df_arab.percentage_of_toxic_sentences.mean()"
   ],
   "metadata": {
    "collapsed": false,
    "ExecuteTime": {
     "end_time": "2024-12-10T13:34:30.652428Z",
     "start_time": "2024-12-10T13:34:30.642307Z"
    }
   },
   "id": "2ff0e94e2a59920"
  },
  {
   "cell_type": "code",
   "execution_count": null,
   "outputs": [],
   "source": [],
   "metadata": {
    "collapsed": false
   },
   "id": "5896a1c562a7faee"
  }
 ],
 "metadata": {
  "kernelspec": {
   "display_name": "Python 3",
   "language": "python",
   "name": "python3"
  },
  "language_info": {
   "codemirror_mode": {
    "name": "ipython",
    "version": 2
   },
   "file_extension": ".py",
   "mimetype": "text/x-python",
   "name": "python",
   "nbconvert_exporter": "python",
   "pygments_lexer": "ipython2",
   "version": "2.7.6"
  }
 },
 "nbformat": 4,
 "nbformat_minor": 5
}
