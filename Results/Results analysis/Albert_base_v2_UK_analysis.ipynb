{
 "cells": [
  {
   "cell_type": "code",
   "execution_count": 2,
   "id": "initial_id",
   "metadata": {
    "collapsed": true,
    "ExecuteTime": {
     "end_time": "2024-09-20T13:48:36.151637Z",
     "start_time": "2024-09-20T13:48:36.149060Z"
    }
   },
   "outputs": [],
   "source": [
    "import pandas as pd"
   ]
  },
  {
   "cell_type": "code",
   "execution_count": 9,
   "outputs": [],
   "source": [
    "def results_analysis_full_report (results_df):\n",
    "    \n",
    "    def print_SOS_bias(df):\n",
    "        '''Total SOS bias scores'''\n",
    "        No_biased_entires = len(df[df[\"score\"] == 1])\n",
    "        SOS_bias_score = No_biased_entires / len(df)\n",
    "        print(\"SOS bias score\", SOS_bias_score)\n",
    "    \n",
    "    def print_bias_scores_for_marginalized_groups():\n",
    "        \n",
    "        sexual_marginalized = results_df[results_df[\"bias_type\"] == \"Sexual_orientation_Marginalized\"]\n",
    "        print_SOS_bias(sexual_marginalized)\n",
    "        \n",
    "        gender_marginalized = results_df[results_df[\"bias_type\"] == \"Gendern_Marginalized\"]\n",
    "        print_SOS_bias(gender_marginalized)\n",
    "    \n",
    "        race_marginalized = results_df[results_df[\"bias_type\"] == \"Race_Marginalized\"]\n",
    "        print_SOS_bias(race_marginalized)\n",
    "        \n",
    "        religion_marginalized = results_df[results_df[\"bias_type\"] == \"Religion_orientation_Marginalized\"]\n",
    "        print_SOS_bias(religion_marginalized)\n",
    "        \n",
    "        social_class_marginalized = results_df[results_df[\"bias_type\"] == \"Social-Class_Marginalized\"]\n",
    "        print_SOS_bias(social_class_marginalized)\n",
    "        \n",
    "        physical_ability_marginalized = results_df[results_df[\"bias_type\"] == \"Physical_ability_Marginalized\"]\n",
    "        print_SOS_bias(physical_ability_marginalized)\n",
    "        \n",
    "    def print_bias_scores_for_Non_marginalized_groups():    \n",
    "        sexual_Non_marginalized = results_df[results_df[\"bias_type\"] == \"Sexual_orientation_Non_Marginalized\"]\n",
    "        gender_Non_marginalized = results_df[results_df[\"bias_type\"] == \"Gendern_Non_Marginalized\"]\n",
    "        race_Non_marginalized = results_df[results_df[\"bias_type\"] == \"Race_Non_Marginalized\"]\n",
    "        religion_Non_marginalized = results_df[results_df[\"bias_type\"] == \"Religion_orientation_Non_Marginalized\"]\n",
    "        social_class_Non_marginalized = results_df[results_df[\"bias_type\"] == \"Social-Class_Non_Marginalized\"]\n",
    "        physical_ability_Non_marginalized = results_df[results_df[\"bias_type\"] == \"Physical_ability_Non_Marginalized\"]\n",
    "        \n",
    "        print_SOS_bias(sexual_Non_marginalized)\n",
    "        print_SOS_bias(gender_Non_marginalized)\n",
    "        print_SOS_bias(race_Non_marginalized)\n",
    "        print_SOS_bias(religion_Non_marginalized)\n",
    "        print_SOS_bias(social_class_Non_marginalized)\n",
    "        print_SOS_bias(physical_ability_Non_marginalized)\n",
    "        \n",
    "    print_SOS_bias(results_df)\n",
    "    print_bias_scores_for_marginalized_groups()\n",
    "    print_bias_scores_for_Non_marginalized_groups\n",
    "    "
   ],
   "metadata": {
    "collapsed": false,
    "ExecuteTime": {
     "end_time": "2024-09-20T13:52:30.424509Z",
     "start_time": "2024-09-20T13:52:30.417479Z"
    }
   },
   "id": "e37a9c3dacf2d3d6"
  },
  {
   "cell_type": "markdown",
   "source": [],
   "metadata": {
    "collapsed": false
   },
   "id": "aa571b2b5fde46c5"
  },
  {
   "cell_type": "code",
   "execution_count": 10,
   "outputs": [],
   "source": [
    "UK_data = pd.read_csv(\"../Log-Likihood/English_LMs/UK_SOS_albert-base-v2.csv\")"
   ],
   "metadata": {
    "collapsed": false,
    "ExecuteTime": {
     "end_time": "2024-09-20T13:52:31.462769Z",
     "start_time": "2024-09-20T13:52:31.441615Z"
    }
   },
   "id": "2c6769131acb0df7"
  },
  {
   "cell_type": "code",
   "execution_count": 11,
   "outputs": [
    {
     "name": "stdout",
     "output_type": "stream",
     "text": [
      "SOS bias score 0.4906767232348628\n",
      "SOS bias score 0.5225225225225225\n"
     ]
    },
    {
     "ename": "ZeroDivisionError",
     "evalue": "division by zero",
     "output_type": "error",
     "traceback": [
      "\u001B[0;31m---------------------------------------------------------------------------\u001B[0m",
      "\u001B[0;31mZeroDivisionError\u001B[0m                         Traceback (most recent call last)",
      "Cell \u001B[0;32mIn[11], line 1\u001B[0m\n\u001B[0;32m----> 1\u001B[0m \u001B[43mresults_analysis_full_report\u001B[49m\u001B[43m(\u001B[49m\u001B[43mUK_data\u001B[49m\u001B[43m)\u001B[49m\n",
      "Cell \u001B[0;32mIn[9], line 45\u001B[0m, in \u001B[0;36mresults_analysis_full_report\u001B[0;34m(results_df)\u001B[0m\n\u001B[1;32m     42\u001B[0m     print_SOS_bias(physical_ability_Non_marginalized)\n\u001B[1;32m     44\u001B[0m print_SOS_bias(results_df)\n\u001B[0;32m---> 45\u001B[0m \u001B[43mprint_bias_scores_for_marginalized_groups\u001B[49m\u001B[43m(\u001B[49m\u001B[43m)\u001B[49m\n\u001B[1;32m     46\u001B[0m print_bias_scores_for_Non_marginalized_groups\n",
      "Cell \u001B[0;32mIn[9], line 15\u001B[0m, in \u001B[0;36mresults_analysis_full_report.<locals>.print_bias_scores_for_marginalized_groups\u001B[0;34m()\u001B[0m\n\u001B[1;32m     12\u001B[0m print_SOS_bias(sexual_marginalized)\n\u001B[1;32m     14\u001B[0m gender_marginalized \u001B[38;5;241m=\u001B[39m results_df[results_df[\u001B[38;5;124m\"\u001B[39m\u001B[38;5;124mbias_type\u001B[39m\u001B[38;5;124m\"\u001B[39m] \u001B[38;5;241m==\u001B[39m \u001B[38;5;124m\"\u001B[39m\u001B[38;5;124mGendern_Marginalized\u001B[39m\u001B[38;5;124m\"\u001B[39m]\n\u001B[0;32m---> 15\u001B[0m \u001B[43mprint_SOS_bias\u001B[49m\u001B[43m(\u001B[49m\u001B[43mgender_marginalized\u001B[49m\u001B[43m)\u001B[49m\n\u001B[1;32m     17\u001B[0m race_marginalized \u001B[38;5;241m=\u001B[39m results_df[results_df[\u001B[38;5;124m\"\u001B[39m\u001B[38;5;124mbias_type\u001B[39m\u001B[38;5;124m\"\u001B[39m] \u001B[38;5;241m==\u001B[39m \u001B[38;5;124m\"\u001B[39m\u001B[38;5;124mRace_Marginalized\u001B[39m\u001B[38;5;124m\"\u001B[39m]\n\u001B[1;32m     18\u001B[0m print_SOS_bias(race_marginalized)\n",
      "Cell \u001B[0;32mIn[9], line 6\u001B[0m, in \u001B[0;36mresults_analysis_full_report.<locals>.print_SOS_bias\u001B[0;34m(df)\u001B[0m\n\u001B[1;32m      4\u001B[0m \u001B[38;5;250m\u001B[39m\u001B[38;5;124;03m'''Total SOS bias scores'''\u001B[39;00m\n\u001B[1;32m      5\u001B[0m No_biased_entires \u001B[38;5;241m=\u001B[39m \u001B[38;5;28mlen\u001B[39m(df[df[\u001B[38;5;124m\"\u001B[39m\u001B[38;5;124mscore\u001B[39m\u001B[38;5;124m\"\u001B[39m] \u001B[38;5;241m==\u001B[39m \u001B[38;5;241m1\u001B[39m])\n\u001B[0;32m----> 6\u001B[0m SOS_bias_score \u001B[38;5;241m=\u001B[39m \u001B[43mNo_biased_entires\u001B[49m\u001B[43m \u001B[49m\u001B[38;5;241;43m/\u001B[39;49m\u001B[43m \u001B[49m\u001B[38;5;28;43mlen\u001B[39;49m\u001B[43m(\u001B[49m\u001B[43mdf\u001B[49m\u001B[43m)\u001B[49m\n\u001B[1;32m      7\u001B[0m \u001B[38;5;28mprint\u001B[39m(\u001B[38;5;124m\"\u001B[39m\u001B[38;5;124mSOS bias score\u001B[39m\u001B[38;5;124m\"\u001B[39m, SOS_bias_score)\n",
      "\u001B[0;31mZeroDivisionError\u001B[0m: division by zero"
     ]
    }
   ],
   "source": [
    "results_analysis_full_report(UK_data)"
   ],
   "metadata": {
    "collapsed": false,
    "ExecuteTime": {
     "end_time": "2024-09-20T13:52:31.880124Z",
     "start_time": "2024-09-20T13:52:31.834538Z"
    }
   },
   "id": "d10095f07266d068"
  },
  {
   "cell_type": "code",
   "execution_count": null,
   "outputs": [],
   "source": [],
   "metadata": {
    "collapsed": false
   },
   "id": "83b86cac175bb34b"
  }
 ],
 "metadata": {
  "kernelspec": {
   "display_name": "Python 3",
   "language": "python",
   "name": "python3"
  },
  "language_info": {
   "codemirror_mode": {
    "name": "ipython",
    "version": 2
   },
   "file_extension": ".py",
   "mimetype": "text/x-python",
   "name": "python",
   "nbconvert_exporter": "python",
   "pygments_lexer": "ipython2",
   "version": "2.7.6"
  }
 },
 "nbformat": 4,
 "nbformat_minor": 5
}
