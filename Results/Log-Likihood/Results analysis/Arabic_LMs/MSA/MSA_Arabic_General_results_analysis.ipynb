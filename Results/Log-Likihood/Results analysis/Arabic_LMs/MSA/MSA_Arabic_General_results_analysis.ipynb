{
 "cells": [
  {
   "cell_type": "code",
   "id": "initial_id",
   "metadata": {
    "collapsed": true,
    "ExecuteTime": {
     "end_time": "2024-12-06T17:34:31.944957Z",
     "start_time": "2024-12-06T17:34:31.383761Z"
    }
   },
   "source": [
    "import pandas as pd\n",
    "import scipy.stats as st"
   ],
   "outputs": [
    {
     "name": "stderr",
     "output_type": "stream",
     "text": [
      "/var/folders/x3/1y_5ght92yzbk007v60qj2k40000gn/T/ipykernel_66700/1332252869.py:1: DeprecationWarning: \n",
      "Pyarrow will become a required dependency of pandas in the next major release of pandas (pandas 3.0),\n",
      "(to allow more performant data types, such as the Arrow string type, and better interoperability with other libraries)\n",
      "but was not found to be installed on your system.\n",
      "If this would cause problems for you,\n",
      "please provide us feedback at https://github.com/pandas-dev/pandas/issues/54466\n",
      "        \n",
      "  import pandas as pd\n"
     ]
    }
   ],
   "execution_count": 1
  },
  {
   "cell_type": "code",
   "source": [
    "def results_toxic_analysis_full_report (results_df, model_name):\n",
    "    \n",
    "    Bias_types = []\n",
    "    M_Bias_scores = []\n",
    "    N_M_Bias_scores = []\n",
    "    \n",
    "    def print_SOS_bias(bias_tpe, df):\n",
    "        '''Total SOS bias scores'''\n",
    "        No_biased_entires = len(df[df[\"score\"] == 1])\n",
    "        SOS_bias_score = No_biased_entires / len(df)\n",
    "        return bias_tpe, SOS_bias_score\n",
    "    \n",
    "    def print_bias_scores_for_marginalized_groups():\n",
    "        sexual_marginalized = results_df[results_df[\"bias_type\"] == \"Sexual_orientation_Marginalized\"]\n",
    "        sexual_marginalized, sexual_marginalized_bias_score = print_SOS_bias(\"Sexual_orientation_Marginalized\",sexual_marginalized)\n",
    "        Bias_types.append(\"Sexual_orientation\")\n",
    "        M_Bias_scores.append(sexual_marginalized_bias_score)\n",
    "        \n",
    "        gender_marginalized = results_df[results_df[\"bias_type\"] == \"Gender_Marginalized\"]\n",
    "        Bias_types.append(\"Gender\")\n",
    "        \n",
    "        Gender_Marginalized, gender_marginalized_bias_score = print_SOS_bias(\"Gender_Marginalized\",gender_marginalized)\n",
    "        M_Bias_scores.append(gender_marginalized_bias_score)\n",
    "            \n",
    "            \n",
    "        race_marginalized = results_df[results_df[\"bias_type\"] == \"Race_Marginalized\"]\n",
    "        Race_Marginalized, race_marginalized_bias_scores = print_SOS_bias(\"Race_Marginalized\", race_marginalized)\n",
    "        Bias_types.append(\"Race\")\n",
    "        M_Bias_scores.append(race_marginalized_bias_scores)\n",
    "        \n",
    "        religion_marginalized = results_df[results_df[\"bias_type\"] == \"Religion_Marginalized\"]\n",
    "        Religion_orientation_Marginalized, religion_marginalized_bias_score = print_SOS_bias(\"Religion_orientation_Marginalized\",religion_marginalized)\n",
    "        Bias_types.append(\"Religion\")\n",
    "        M_Bias_scores.append(religion_marginalized_bias_score)\n",
    "        \n",
    "        physical_ability_marginalized = results_df[results_df[\"bias_type\"] == \"Physical_ability_Marginalized\"]\n",
    "        Physical_ability_Marginalized, physical_ability_marginalized_bias_score = print_SOS_bias(\"Physical_ability_Marginalized\", physical_ability_marginalized)\n",
    "        Bias_types.append(\"Physical_ability\")\n",
    "        M_Bias_scores.append(physical_ability_marginalized_bias_score)     \n",
    "        \n",
    "    def print_bias_scores_for_Non_marginalized_groups():    \n",
    "        sexual_Non_marginalized = results_df[results_df[\"bias_type\"] == \"Sexual_orientation_Non_Marginalized\"]\n",
    "        gender_Non_marginalized = results_df[results_df[\"bias_type\"] == \"Gender_Non_marginalized\"]\n",
    "        race_Non_marginalized = results_df[results_df[\"bias_type\"] == \"Race_Non_marginalized\"]\n",
    "        religion_Non_marginalized = results_df[results_df[\"bias_type\"] == \"Religion_Non_Marginalized\"]\n",
    "        physical_ability_Non_marginalized = results_df[results_df[\"bias_type\"] == \"Physical_ability_Non_Marginalized\"]\n",
    "\n",
    "        Sexual_orientation_Non_Marginalized, sexual_Non_marginalized_bias_score = print_SOS_bias(\"Sexual_orientation_Non_Marginalized\", sexual_Non_marginalized)\n",
    "\n",
    "        N_M_Bias_scores.append(sexual_Non_marginalized_bias_score)  \n",
    "        \n",
    "        Gender_Non_Marginalized, gender_Non_marginalized_bias_score = print_SOS_bias(\"Gender_Non_Marginalized\", gender_Non_marginalized)\n",
    "\n",
    "        N_M_Bias_scores.append(gender_Non_marginalized_bias_score) \n",
    "\n",
    "            \n",
    "        Race_Non_Marginalized, race_Non_marginalized_bias_scores = print_SOS_bias(\"Race_Non_Marginalized\", race_Non_marginalized)\n",
    "\n",
    "        N_M_Bias_scores.append(race_Non_marginalized_bias_scores)         \n",
    "        \n",
    "        Religion_Non_Marginalized, religion_Non_marginalized_bias_scores = print_SOS_bias(\"Religion_Non_Marginalized\", religion_Non_marginalized)\n",
    " \n",
    "        N_M_Bias_scores.append(religion_Non_marginalized_bias_scores)           \n",
    "        \n",
    "        Physical_ability_Non_Marginalized, physical_ability_Non_marginalized_bias_scores = print_SOS_bias(\"Physical_ability_Non_Marginalized\", physical_ability_Non_marginalized)\n",
    "\n",
    "        N_M_Bias_scores.append(physical_ability_Non_marginalized_bias_scores)         \n",
    "        \n",
    "    print_SOS_bias(\"total bias\",results_df)\n",
    "    print_bias_scores_for_marginalized_groups()\n",
    "    print_bias_scores_for_Non_marginalized_groups()\n",
    "    \n",
    "\n",
    "    detailed_results_df = pd.DataFrame({\"Model_Name\":[model_name]*len(M_Bias_scores),\n",
    "                                        \"Bias_Type\": Bias_types,\n",
    "                                        \"Marginalized_Bias_Score\": M_Bias_scores,\n",
    "                                        \"Non_Maarginalized_Bias_scores\": N_M_Bias_scores})\n",
    "    \n",
    "    return detailed_results_df"
   ],
   "metadata": {
    "collapsed": false,
    "ExecuteTime": {
     "end_time": "2024-12-06T17:34:31.952692Z",
     "start_time": "2024-12-06T17:34:31.951445Z"
    }
   },
   "id": "e37a9c3dacf2d3d6",
   "outputs": [],
   "execution_count": 2
  },
  {
   "cell_type": "code",
   "source": [
    "AraBART_results_Masc = pd.read_csv(\"../../../Arabic_LMs/MSA/encoder_decoder/AraBART/Arabic_Mascline_SOS_AraBART.csv\")\n",
    "AraBART_results_Femm = pd.read_csv(\"../../../Arabic_LMs/MSA/encoder_decoder/AraBART/Arabic_Femminine_SOS_AraBART.csv\")\n",
    "AraBART_results_NB = pd.read_csv(\"../../../Arabic_LMs/MSA/encoder_decoder/AraBART/Arabic_Non_Binary_SOS_AraBART.csv\")\n",
    "\n",
    "AraAlBERT_results_Masc = pd.read_csv(\"../../../Arabic_LMs/MSA/Encoder_only/AraAlBERT/Arabic_Mascline_SOS.csv\")\n",
    "AraAlBERT_results_Femm = pd.read_csv(\"../../../Arabic_LMs/MSA/Encoder_only/AraAlBERT/Arabic_Femminine_SOS.csv\")\n",
    "AraAlBERT_results_NB = pd.read_csv(\"../../../Arabic_LMs/MSA/Encoder_only/AraAlBERT/Arabic_Non_Binary_SOS.csv\")\n",
    "\n",
    "AraBERT_results_Masc = pd.read_csv(\"../../../Arabic_LMs/MSA/Encoder_only/AraBERT/Arabic_Mascline_SOS.csv\")\n",
    "AraBERT_results_Femm = pd.read_csv(\"../../../Arabic_LMs/MSA/Encoder_only/AraBERT/Arabic_Femminine_SOS.csv\")\n",
    "AraBERT_results_NB = pd.read_csv(\"../../../Arabic_LMs/Msa/Encoder_only/AraBERT/Arabic_Non_Binary_SOS.csv\")\n",
    "\n",
    "CamelBERT_da_results_Masc = pd.read_csv(\"../../../Arabic_LMs/MSA/Encoder_only/CamelBERT/Arabic_Mascline_SOS_camelbert_da.csv\")\n",
    "CamelBERT_da_results_Femm = pd.read_csv(\"../../../Arabic_LMs/MSA/Encoder_only/CamelBERT/Arabic_Femminine_SOS_camelbert_da.csv\")\n",
    "CamelBERT_da_results_NB = pd.read_csv(\"../../../Arabic_LMs/MSA/Encoder_only/CamelBERT/Arabic_Non_Binary_SOS_camelbert_da.csv\")\n",
    "\n",
    "CamelBERT_msa_results_Masc = pd.read_csv(\"../../../Arabic_LMs/MSa/Encoder_only/CamelBERT/Arabic_Mascline_SOS_camelbert_msa.csv\")\n",
    "CamelBERT_msa_results_Femm = pd.read_csv(\"../../../Arabic_LMs/MSA/Encoder_only/CamelBERT/Arabic_Femminine_SOS_camelbert_msa.csv\")\n",
    "CamelBERT_msa_results_NB = pd.read_csv(\"../../../Arabic_LMs/MSA/Encoder_only/CamelBERT/Arabic_Non_Binary_SOS_camelbert_msa.csv\")\n",
    "\n",
    "XML_Roberta_results_Masc = pd.read_csv(\"../../../Arabic_LMs/MSA/Multilingual_LMs/Encoder_only/XLM_Roberta/Arabic_Mascline_SOS.csv\")\n",
    "XML_Roberta_results_Femm = pd.read_csv(\"../../../Arabic_LMs/MSA/Multilingual_LMs/Encoder_only/XLM_Roberta/Arabic_Femminine_SOS.csv\")\n",
    "XML_Roberta_results_NB = pd.read_csv(\"../../../Arabic_LMs/MSA/Multilingual_LMs/Encoder_only/XLM_Roberta/Arabic_Non_Binary_SOS.csv\")"
   ],
   "metadata": {
    "collapsed": false,
    "ExecuteTime": {
     "end_time": "2024-12-06T17:34:32.089626Z",
     "start_time": "2024-12-06T17:34:31.955136Z"
    }
   },
   "id": "2c6769131acb0df7",
   "outputs": [],
   "execution_count": 3
  },
  {
   "cell_type": "code",
   "source": [
    "print(\"Results for AraBART_results_Masc\")\n",
    "AraBART_results_Masc_results_df = results_toxic_analysis_full_report(AraBART_results_Masc, \"AraBART_results_Masc\")\n",
    "AraBART_results_Masc_results_df.to_csv(\"./AraBART/AraBART_results_Masc_SOS.csv\", index=False)\n",
    "\n",
    "print(\"Results for AraBART_results_Femm\")\n",
    "AraBART_results_Femm_results_df = results_toxic_analysis_full_report(AraBART_results_Femm,\"AraBART_results_Femm\")\n",
    "AraBART_results_Femm_results_df.to_csv(\"./AraBART/AraBART_results_Femm_SOS.csv\", index=False)\n",
    "\n",
    "print(\"Results for AraBART_results_NB\")\n",
    "AraBART_results_NB_results_df = results_toxic_analysis_full_report(AraBART_results_NB,\"AraBART_results_NB\")\n",
    "AraBART_results_NB_results_df.to_csv(\"./AraBART/AraBART_results_NB_SOS.csv\", index=False)"
   ],
   "metadata": {
    "collapsed": false,
    "ExecuteTime": {
     "end_time": "2024-12-06T17:34:32.106672Z",
     "start_time": "2024-12-06T17:34:32.091036Z"
    }
   },
   "id": "d10095f07266d068",
   "outputs": [
    {
     "name": "stdout",
     "output_type": "stream",
     "text": [
      "Results for AraBART_results_Masc\n",
      "Results for AraBART_results_Femm\n",
      "Results for AraBART_results_NB\n"
     ]
    }
   ],
   "execution_count": 4
  },
  {
   "cell_type": "code",
   "source": [
    "print(\"Results for AraAlBERT_results_Masc\")\n",
    "AraAlBERT_results_Masc_results_df = results_toxic_analysis_full_report(AraAlBERT_results_Masc, \"AraAlBERT_results_Masc\")\n",
    "AraAlBERT_results_Masc_results_df.to_csv(\"./AraAlBERT/AraAlBERT_results_Masc_SOS.csv\", index=False)\n",
    "\n",
    "print(\"Results for AraAlBERT_results_Femm\")\n",
    "AraAlBERT_results_Femm_results_df = results_toxic_analysis_full_report(AraAlBERT_results_Femm,\"AraAlBERT_results_Femm\")\n",
    "AraAlBERT_results_Femm_results_df.to_csv(\"./AraAlBERT/AraAlBERT_results_Femm_SOS.csv\", index=False)\n",
    "\n",
    "print(\"Results for AraAlBERT_results_NB\")\n",
    "AraAlBERT_results_NB_results_df = results_toxic_analysis_full_report(AraAlBERT_results_NB,\"AraAlBERT_results_NB\")\n",
    "AraAlBERT_results_NB_results_df.to_csv(\"./AraAlBERT/AraAlBERT_results_NB_SOS.csv\", index=False)"
   ],
   "metadata": {
    "collapsed": false,
    "ExecuteTime": {
     "end_time": "2024-12-06T17:34:32.126679Z",
     "start_time": "2024-12-06T17:34:32.107929Z"
    }
   },
   "id": "83b86cac175bb34b",
   "outputs": [
    {
     "name": "stdout",
     "output_type": "stream",
     "text": [
      "Results for AraAlBERT_results_Masc\n",
      "Results for AraAlBERT_results_Femm\n",
      "Results for AraAlBERT_results_NB\n"
     ]
    }
   ],
   "execution_count": 5
  },
  {
   "cell_type": "code",
   "source": [
    "print(\"Results for AraBERT_results_Masc\")\n",
    "AraBERT_results_Masc_results_df = results_toxic_analysis_full_report(AraBERT_results_Masc, \"AraBERT_results_Masc\")\n",
    "AraBERT_results_Masc_results_df.to_csv(\"./AraBERT/AraBERT_results_Masc_SOS.csv\", index=False)\n",
    "\n",
    "print(\"Results for AraBERT_results_Femm\")\n",
    "AraBERT_results_Femm_results_df = results_toxic_analysis_full_report(AraBERT_results_Femm,\"AraBERT_results_Femm\")\n",
    "AraBERT_results_Femm_results_df.to_csv(\"./AraBERT/AraBERT_results_Femm_SOS.csv\", index=False)\n",
    "\n",
    "print(\"Results for AraBERT_results_NB\")\n",
    "AraBERT_results_NB_results_df = results_toxic_analysis_full_report(AraBERT_results_NB,\"AraBERT_results_NB\")\n",
    "AraBERT_results_NB_results_df.to_csv(\"./AraBERT/AraBERT_results_NB_SOS.csv\", index=False)"
   ],
   "metadata": {
    "collapsed": false,
    "ExecuteTime": {
     "end_time": "2024-12-06T17:34:32.142449Z",
     "start_time": "2024-12-06T17:34:32.125798Z"
    }
   },
   "id": "c06d6d8e3aa96be1",
   "outputs": [
    {
     "name": "stdout",
     "output_type": "stream",
     "text": [
      "Results for AraBERT_results_Masc\n",
      "Results for AraBERT_results_Femm\n",
      "Results for AraBERT_results_NB\n"
     ]
    }
   ],
   "execution_count": 6
  },
  {
   "cell_type": "code",
   "execution_count": 7,
   "outputs": [
    {
     "name": "stdout",
     "output_type": "stream",
     "text": [
      "Results for CamelBERT_msa_results_Masc\n",
      "Results for CamelBERT_msa_results_Femm\n",
      "Results for CamelBERT_msa_results_NB\n"
     ]
    }
   ],
   "source": [
    "print(\"Results for CamelBERT_msa_results_Masc\")\n",
    "CamelBERT_msa_results_Masc_results_df = results_toxic_analysis_full_report(CamelBERT_msa_results_Masc, \"CamelBERT_msa_results_Masc\")\n",
    "CamelBERT_msa_results_Masc_results_df.to_csv(\"./CamelBERT/CamelBERT_msa_results_Masc_SOS.csv\", index=False)\n",
    "\n",
    "print(\"Results for CamelBERT_msa_results_Femm\")\n",
    "CamelBERT_msa_results_Femm_results_df = results_toxic_analysis_full_report(CamelBERT_msa_results_Femm,\"CamelBERT_msa_results_Femm\")\n",
    "CamelBERT_msa_results_Femm_results_df.to_csv(\"./CamelBERT/CamelBERT_msa_results_Femm_SOS.csv\", index=False)\n",
    "\n",
    "print(\"Results for CamelBERT_msa_results_NB\")\n",
    "CamelBERT_msa_results_NB_results_df = results_toxic_analysis_full_report(CamelBERT_msa_results_NB,\"CamelBERT_msa_results_NB\")\n",
    "CamelBERT_msa_results_NB_results_df.to_csv(\"./CamelBERT/CamelBERT_msa_results_NB_SOS.csv\", index=False)"
   ],
   "metadata": {
    "collapsed": false,
    "ExecuteTime": {
     "end_time": "2024-12-06T17:34:32.159148Z",
     "start_time": "2024-12-06T17:34:32.143476Z"
    }
   },
   "id": "539d9b8cdd12d8de"
  },
  {
   "cell_type": "code",
   "execution_count": 8,
   "outputs": [
    {
     "name": "stdout",
     "output_type": "stream",
     "text": [
      "Results for Camel_da_results_Masc\n",
      "Results for CamelBERT_da_results_Femm\n",
      "Results for CamelBERT_da_results_NB\n"
     ]
    }
   ],
   "source": [
    "print(\"Results for Camel_da_results_Masc\")\n",
    "CamelBERT_da_results_Masc_results_df = results_toxic_analysis_full_report(CamelBERT_da_results_Masc, \"CamelBERT_da_results_Masc\")\n",
    "CamelBERT_da_results_Masc_results_df.to_csv(\"./CamelBERT/CamelBERT_da_results_Masc_SOS.csv\", index=False)\n",
    "\n",
    "print(\"Results for CamelBERT_da_results_Femm\")\n",
    "CamelBERT_da_results_Femm_results_df = results_toxic_analysis_full_report(CamelBERT_da_results_Femm,\"CamelBERT_da_results_Femm\")\n",
    "CamelBERT_da_results_Femm_results_df.to_csv(\"./CamelBERT/CamelBERT_da_results_Femm_SOS.csv\", index=False)\n",
    "\n",
    "print(\"Results for CamelBERT_da_results_NB\")\n",
    "CamelBERT_da_results_NB_results_df = results_toxic_analysis_full_report(CamelBERT_da_results_NB,\"CamelBERT_da_results_NB\")\n",
    "CamelBERT_da_results_NB_results_df.to_csv(\"./CamelBERT/CamelBERT_da_results_NB_SOS.csv\", index=False)"
   ],
   "metadata": {
    "collapsed": false,
    "ExecuteTime": {
     "end_time": "2024-12-06T17:34:32.174643Z",
     "start_time": "2024-12-06T17:34:32.160458Z"
    }
   },
   "id": "f58e4ab0cd6532a4"
  },
  {
   "cell_type": "code",
   "execution_count": 11,
   "outputs": [
    {
     "name": "stdout",
     "output_type": "stream",
     "text": [
      "Results for XML_Roberta_results_Masc\n",
      "Results for XML_Roberta_results_Femm\n",
      "Results for XML_Roberta_results_NB\n"
     ]
    }
   ],
   "source": [
    "print(\"Results for XML_Roberta_results_Masc\")\n",
    "XML_Roberta_results_Masc_results_df = results_toxic_analysis_full_report(XML_Roberta_results_Masc, \"XML_Roberta_results_Masc\")\n",
    "XML_Roberta_results_Masc_results_df.to_csv(\"./XLM_Roberta/XML_Roberta_results_Masc_SOS.csv\", index=False)\n",
    "\n",
    "print(\"Results for XML_Roberta_results_Femm\")\n",
    "XML_Roberta_results_Femm_results_df = results_toxic_analysis_full_report(XML_Roberta_results_Femm,\"XML_Roberta_results_Femm\")\n",
    "XML_Roberta_results_Femm_results_df.to_csv(\"./XLM_Roberta/XML_Roberta_results_Femm_SOS.csv\", index=False)\n",
    "\n",
    "print(\"Results for XML_Roberta_results_NB\")\n",
    "XML_Roberta_results_NB_results_df = results_toxic_analysis_full_report(XML_Roberta_results_NB,\"XML_Roberta_results_NB\")\n",
    "XML_Roberta_results_NB_results_df.to_csv(\"./XLM_Roberta/XML_Roberta_results_NB_SOS.csv\", index=False)"
   ],
   "metadata": {
    "collapsed": false,
    "ExecuteTime": {
     "end_time": "2024-12-06T18:26:29.275778Z",
     "start_time": "2024-12-06T18:26:29.252788Z"
    }
   },
   "id": "4ad131001810ce60"
  },
  {
   "cell_type": "code",
   "execution_count": 9,
   "outputs": [],
   "source": [],
   "metadata": {
    "collapsed": false,
    "ExecuteTime": {
     "end_time": "2024-12-06T17:34:32.206745Z",
     "start_time": "2024-12-06T17:34:32.188727Z"
    }
   },
   "id": "732550b3456a01b6"
  }
 ],
 "metadata": {
  "kernelspec": {
   "display_name": "Python 3",
   "language": "python",
   "name": "python3"
  },
  "language_info": {
   "codemirror_mode": {
    "name": "ipython",
    "version": 2
   },
   "file_extension": ".py",
   "mimetype": "text/x-python",
   "name": "python",
   "nbconvert_exporter": "python",
   "pygments_lexer": "ipython2",
   "version": "2.7.6"
  }
 },
 "nbformat": 4,
 "nbformat_minor": 5
}
