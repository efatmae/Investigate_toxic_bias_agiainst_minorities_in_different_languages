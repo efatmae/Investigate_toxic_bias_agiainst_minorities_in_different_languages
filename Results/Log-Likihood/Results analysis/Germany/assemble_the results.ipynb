{
 "cells": [
  {
   "cell_type": "code",
   "id": "initial_id",
   "metadata": {
    "collapsed": true,
    "ExecuteTime": {
     "end_time": "2024-12-10T14:15:45.196829Z",
     "start_time": "2024-12-10T14:15:45.195228Z"
    }
   },
   "source": [
    "import pandas as pd\n",
    "import scipy"
   ],
   "outputs": [],
   "execution_count": 1
  },
  {
   "cell_type": "code",
   "source": [
    "def print_SOS_bias_agaonst_specific_identity(toxic_or_not, df, identity):\n",
    "        identity_df = df[df[\"identity\"] == identity]\n",
    "        #print(\"No. entries for \"+ identity, len(identity_df))\n",
    "        group = identity_df[\"bias_type\"].values.tolist()[0]\n",
    "        No_entires = identity_df[identity_df[\"score\"] == toxic_or_not]\n",
    "        #if toxic_or_not == 1:\n",
    "        #        print(\"No. toxic entries for \"+identity,len(No_entires))\n",
    "        #else:\n",
    "         #       print(\"No. non-toxic entries for \"+identity,len(No_entires))\n",
    "        score = len(No_entires) / len(identity_df)\n",
    "        #print(identity, score)\n",
    "        return score, group"
   ],
   "metadata": {
    "collapsed": false,
    "ExecuteTime": {
     "end_time": "2024-12-10T14:15:45.200011Z",
     "start_time": "2024-12-10T14:15:45.197904Z"
    }
   },
   "id": "4c4347b0f40f99d2",
   "outputs": [],
   "execution_count": 2
  },
  {
   "cell_type": "code",
   "source": [
    "def assemble_data_in_df (df, identities):\n",
    "    prcnt_toxic_sent_aginst_identity = []\n",
    "    prcnt_non_toxic_sent_aginst_identity = []\n",
    "    groups = []\n",
    "    for i in identities:\n",
    "        toxic_score, group_toxic = print_SOS_bias_agaonst_specific_identity(1, df, i)\n",
    "        non_toxic_score, _ = print_SOS_bias_agaonst_specific_identity(0, df, i)\n",
    "        \n",
    "        \n",
    "        prcnt_toxic_sent_aginst_identity.append(toxic_score)\n",
    "        groups.append(group_toxic)\n",
    "        prcnt_non_toxic_sent_aginst_identity.append(non_toxic_score)\n",
    "        \n",
    "    dta_analysis_for_each_identity = {\"identity\": identities,\n",
    "                                  \"percentage_of_toxic_sentences\": prcnt_toxic_sent_aginst_identity,\n",
    "                                  \"percentage_of_non_toxic_comment\": prcnt_non_toxic_sent_aginst_identity,\n",
    "                                  \"bias_type\": groups}\n",
    "\n",
    "    dta_analysis_for_each_identity_df = pd.DataFrame(dta_analysis_for_each_identity)\n",
    "    \n",
    "    return dta_analysis_for_each_identity_df"
   ],
   "metadata": {
    "collapsed": false,
    "ExecuteTime": {
     "end_time": "2024-12-10T14:15:45.203471Z",
     "start_time": "2024-12-10T14:15:45.202210Z"
    }
   },
   "id": "4128e604e76adb9d",
   "outputs": [],
   "execution_count": 3
  },
  {
   "cell_type": "code",
   "execution_count": 4,
   "outputs": [],
   "source": [
    "BART_results_Masc = pd.read_csv(\"../../German_LMs/encoder_decoder/German_BART/Germany_SOS_Male_BART.csv\")\n",
    "BART_results_Femm = pd.read_csv(\"../../German_LMs/encoder_decoder/German_BART/Germany_SOS_Female_BART.csv\")\n",
    "BART_results_NB = pd.read_csv(\"../../German_LMs/encoder_decoder/German_BART/Germany_SOS_Non_Binary_BART.csv\")\n",
    "\n",
    "BERT_results_Masc = pd.read_csv(\"../../German_LMs/Encoder_only/German_BERT/Germany_SOS_Male_BERT.csv\")\n",
    "BERT_results_Femm = pd.read_csv(\"../../German_LMs/Encoder_only/German_BERT/Germany_SOS_Female_BERT.csv\")\n",
    "BERT_results_NB = pd.read_csv(\"../../German_LMs/Encoder_only/German_BERT/Germany_SOS_Non_Binary_BERT.csv\")\n",
    "\n",
    "XLM_RoBERTa_German_results_Masc = pd.read_csv(\"../../German_LMs/Encoder_only/XLM_RoBERTa_German/Germany_SOS_Male_XLM_Roberta.csv\")\n",
    "XLM_RoBERTa_German_results_Femm = pd.read_csv(\"../../German_LMs/Encoder_only/XLM_RoBERTa_German/Germany_SOS_Female_XLM_Roberta.csv\")\n",
    "XLM_RoBERTa_German_results_NB = pd.read_csv(\"../../German_LMs/Encoder_only/XLM_RoBERTa_German/Germany_SOS_Non_Binary_XLM_Roberta.csv\")\n",
    "\n",
    "XML_Roberta_results_Masc = pd.read_csv(\"../../German_LMs/Multilingual_LMs/Encoder_only/XLM_Roberta/Germany_SOS_Male_XLM_Muluilingual.csv\")\n",
    "XML_Roberta_results_Femm = pd.read_csv(\"../../German_LMs/Multilingual_LMs/Encoder_only/XLM_Roberta/Germany_SOS_Female_XLM_Muluilingual.csv\")\n",
    "XML_Roberta_results_NB = pd.read_csv(\"../../German_LMs/Multilingual_LMs/Encoder_only/XLM_Roberta/Germany_SOS_non_Binary_XLM_Muluilingual.csv\")"
   ],
   "metadata": {
    "collapsed": false,
    "ExecuteTime": {
     "end_time": "2024-12-10T14:15:45.254947Z",
     "start_time": "2024-12-10T14:15:45.205402Z"
    }
   },
   "id": "b90cb020c328705b"
  },
  {
   "cell_type": "code",
   "execution_count": 5,
   "outputs": [],
   "source": [
    "BART_Arabic_identities_Masc = BART_results_Masc[\"identity\"].unique().tolist()\n",
    "BART_data_analysis_for_each_identity_masc_df_arab = assemble_data_in_df (BART_results_Masc, BART_Arabic_identities_Masc)\n",
    "#AraBART_data_analysis_for_each_identity_masc_df_arab.to_csv(\"../Log-Likihood/Arabic_LMs/arabic_msa_sixteen_detailed_rsults_for_each_identity.csv\")"
   ],
   "metadata": {
    "collapsed": false,
    "ExecuteTime": {
     "end_time": "2024-12-10T14:15:45.287721Z",
     "start_time": "2024-12-10T14:15:45.256854Z"
    }
   },
   "id": "7d524d05f9976adf"
  },
  {
   "cell_type": "code",
   "execution_count": 6,
   "outputs": [],
   "source": [
    "BART_data_analysis_for_each_identity_masc_df_arab = BART_data_analysis_for_each_identity_masc_df_arab[~BART_data_analysis_for_each_identity_masc_df_arab[\"bias_type\"].isin([\"Social-Class_Marginalized\", \"Social-Class_Non_Marginalized\"])]"
   ],
   "metadata": {
    "collapsed": false,
    "ExecuteTime": {
     "end_time": "2024-12-10T14:15:45.290851Z",
     "start_time": "2024-12-10T14:15:45.289289Z"
    }
   },
   "id": "a7b2acd68550f6c5"
  },
  {
   "cell_type": "code",
   "execution_count": 7,
   "outputs": [
    {
     "data": {
      "text/plain": "                identity  percentage_of_toxic_sentences  \\\n0              deutscher                       0.405405   \n1       protestantischer                       0.567568   \n2                agender                       0.594595   \n3   rollstuhl-gebundener                       0.459459   \n4               gesunder                       0.621622   \n5              jüdischer                       0.594595   \n6           muslimischer                       0.621622   \n7            friesischer                       0.540541   \n8             gehörloser                       0.513514   \n9          genderfluider                       0.621622   \n10         sikhistischer                       0.621622   \n11          ukrainischer                       0.405405   \n12     nicht-behinderter                       0.540541   \n13                weißer                       0.513514   \n14            kurdischer                       0.513514   \n15         evangelikaler                       0.594595   \n16          christlicher                       0.540541   \n17        intersexueller                       0.486486   \n18            sorbischer                       0.567568   \n19         atheistischer                       0.594595   \n20      nicht-religiöser                       0.621622   \n21          agnostischer                       0.567568   \n22               romaner                       0.513514   \n23           bisexueller                       0.459459   \n24           behinderter                       0.486486   \n25         epileptischer                       0.594595   \n26          katholischer                       0.486486   \n27          autistischer                       0.567568   \n28       lernbehinderter                       0.594595   \n29         genderqueerer                       0.567568   \n30        cis-männlicher                       0.540541   \n31            russischer                       0.540541   \n32            sintischer                       0.540541   \n33                 inter                       0.459459   \n34              bigender                       0.621622   \n35             dänischer                       0.486486   \n36             syrischer                       0.594595   \n37                tauber                       0.594595   \n38        hinduistischer                       0.567568   \n39            orthodoxer                       0.459459   \n40          afghanischer                       0.621622   \n41         homosexueller                       0.540541   \n42             gelähmter                       0.540541   \n43              schwuler                       0.567568   \n44        buddhistischer                       0.432432   \n45            männlicher                       0.594595   \n46       heterosexueller                       0.513514   \n47        transsexueller                       0.567568   \n48              lgbtqia+                       0.594595   \n49         nicht-binärer                       0.675676   \n50           taubstummer                       0.540541   \n51               blinder                       0.621622   \n52            türkischer                       0.567568   \n53                 trans                       0.594595   \n54            arabischer                       0.540541   \n55          pansexueller                       0.621622   \n56          kaukasischer                       0.486486   \n\n    percentage_of_non_toxic_comment                            bias_type  \n0                          0.594595            Refugees_Non_Marginalized  \n1                          0.432432            Religion_Non_Marginalized  \n2                          0.405405                  Gender_Marginalized  \n3                          0.540541        Physical_ability_Marginalized  \n4                          0.378378    Physical_ability_Non_Marginalized  \n5                          0.405405                Religion_Marginalized  \n6                          0.378378                Religion_Marginalized  \n7                          0.459459                    Race_Marginalized  \n8                          0.486486        Physical_ability_Marginalized  \n9                          0.378378                  Gender_Marginalized  \n10                         0.378378                Religion_Marginalized  \n11                         0.594595                Refugees_Marginalized  \n12                         0.459459    Physical_ability_Non_Marginalized  \n13                         0.486486                Race_Non_marginalized  \n14                         0.486486                    Race_Marginalized  \n15                         0.405405            Religion_Non_Marginalized  \n16                         0.459459            Religion_Non_Marginalized  \n17                         0.513514                  Gender_Marginalized  \n18                         0.432432                    Race_Marginalized  \n19                         0.405405                Religion_Marginalized  \n20                         0.378378                Religion_Marginalized  \n21                         0.432432                Religion_Marginalized  \n22                         0.486486                    Race_Marginalized  \n23                         0.540541      Sexual_orientation_Marginalized  \n24                         0.513514        Physical_ability_Marginalized  \n25                         0.405405        Physical_ability_Marginalized  \n26                         0.513514            Religion_Non_Marginalized  \n27                         0.432432        Physical_ability_Marginalized  \n28                         0.405405        Physical_ability_Marginalized  \n29                         0.432432                  Gender_Marginalized  \n30                         0.459459              Gender_Non_marginalized  \n31                         0.459459                Refugees_Marginalized  \n32                         0.459459                    Race_Marginalized  \n33                         0.540541                  Gender_Marginalized  \n34                         0.378378                  Gender_Marginalized  \n35                         0.513514                    Race_Marginalized  \n36                         0.405405                Refugees_Marginalized  \n37                         0.405405        Physical_ability_Marginalized  \n38                         0.432432                Religion_Marginalized  \n39                         0.540541                Religion_Marginalized  \n40                         0.378378                Refugees_Marginalized  \n41                         0.459459      Sexual_orientation_Marginalized  \n42                         0.459459        Physical_ability_Marginalized  \n43                         0.432432      Sexual_orientation_Marginalized  \n44                         0.567568                Religion_Marginalized  \n45                         0.405405              Gender_Non_marginalized  \n46                         0.486486  Sexual_orientation_Non_Marginalized  \n47                         0.432432                  Gender_Marginalized  \n48                         0.405405      Sexual_orientation_Marginalized  \n49                         0.324324                  Gender_Marginalized  \n50                         0.459459        Physical_ability_Marginalized  \n51                         0.378378        Physical_ability_Marginalized  \n52                         0.432432                    Race_Marginalized  \n53                         0.405405                  Gender_Marginalized  \n54                         0.459459                Refugees_Marginalized  \n55                         0.378378      Sexual_orientation_Marginalized  \n56                         0.513514                Race_Non_marginalized  ",
      "text/html": "<div>\n<style scoped>\n    .dataframe tbody tr th:only-of-type {\n        vertical-align: middle;\n    }\n\n    .dataframe tbody tr th {\n        vertical-align: top;\n    }\n\n    .dataframe thead th {\n        text-align: right;\n    }\n</style>\n<table border=\"1\" class=\"dataframe\">\n  <thead>\n    <tr style=\"text-align: right;\">\n      <th></th>\n      <th>identity</th>\n      <th>percentage_of_toxic_sentences</th>\n      <th>percentage_of_non_toxic_comment</th>\n      <th>bias_type</th>\n    </tr>\n  </thead>\n  <tbody>\n    <tr>\n      <th>0</th>\n      <td>deutscher</td>\n      <td>0.405405</td>\n      <td>0.594595</td>\n      <td>Refugees_Non_Marginalized</td>\n    </tr>\n    <tr>\n      <th>1</th>\n      <td>protestantischer</td>\n      <td>0.567568</td>\n      <td>0.432432</td>\n      <td>Religion_Non_Marginalized</td>\n    </tr>\n    <tr>\n      <th>2</th>\n      <td>agender</td>\n      <td>0.594595</td>\n      <td>0.405405</td>\n      <td>Gender_Marginalized</td>\n    </tr>\n    <tr>\n      <th>3</th>\n      <td>rollstuhl-gebundener</td>\n      <td>0.459459</td>\n      <td>0.540541</td>\n      <td>Physical_ability_Marginalized</td>\n    </tr>\n    <tr>\n      <th>4</th>\n      <td>gesunder</td>\n      <td>0.621622</td>\n      <td>0.378378</td>\n      <td>Physical_ability_Non_Marginalized</td>\n    </tr>\n    <tr>\n      <th>5</th>\n      <td>jüdischer</td>\n      <td>0.594595</td>\n      <td>0.405405</td>\n      <td>Religion_Marginalized</td>\n    </tr>\n    <tr>\n      <th>6</th>\n      <td>muslimischer</td>\n      <td>0.621622</td>\n      <td>0.378378</td>\n      <td>Religion_Marginalized</td>\n    </tr>\n    <tr>\n      <th>7</th>\n      <td>friesischer</td>\n      <td>0.540541</td>\n      <td>0.459459</td>\n      <td>Race_Marginalized</td>\n    </tr>\n    <tr>\n      <th>8</th>\n      <td>gehörloser</td>\n      <td>0.513514</td>\n      <td>0.486486</td>\n      <td>Physical_ability_Marginalized</td>\n    </tr>\n    <tr>\n      <th>9</th>\n      <td>genderfluider</td>\n      <td>0.621622</td>\n      <td>0.378378</td>\n      <td>Gender_Marginalized</td>\n    </tr>\n    <tr>\n      <th>10</th>\n      <td>sikhistischer</td>\n      <td>0.621622</td>\n      <td>0.378378</td>\n      <td>Religion_Marginalized</td>\n    </tr>\n    <tr>\n      <th>11</th>\n      <td>ukrainischer</td>\n      <td>0.405405</td>\n      <td>0.594595</td>\n      <td>Refugees_Marginalized</td>\n    </tr>\n    <tr>\n      <th>12</th>\n      <td>nicht-behinderter</td>\n      <td>0.540541</td>\n      <td>0.459459</td>\n      <td>Physical_ability_Non_Marginalized</td>\n    </tr>\n    <tr>\n      <th>13</th>\n      <td>weißer</td>\n      <td>0.513514</td>\n      <td>0.486486</td>\n      <td>Race_Non_marginalized</td>\n    </tr>\n    <tr>\n      <th>14</th>\n      <td>kurdischer</td>\n      <td>0.513514</td>\n      <td>0.486486</td>\n      <td>Race_Marginalized</td>\n    </tr>\n    <tr>\n      <th>15</th>\n      <td>evangelikaler</td>\n      <td>0.594595</td>\n      <td>0.405405</td>\n      <td>Religion_Non_Marginalized</td>\n    </tr>\n    <tr>\n      <th>16</th>\n      <td>christlicher</td>\n      <td>0.540541</td>\n      <td>0.459459</td>\n      <td>Religion_Non_Marginalized</td>\n    </tr>\n    <tr>\n      <th>17</th>\n      <td>intersexueller</td>\n      <td>0.486486</td>\n      <td>0.513514</td>\n      <td>Gender_Marginalized</td>\n    </tr>\n    <tr>\n      <th>18</th>\n      <td>sorbischer</td>\n      <td>0.567568</td>\n      <td>0.432432</td>\n      <td>Race_Marginalized</td>\n    </tr>\n    <tr>\n      <th>19</th>\n      <td>atheistischer</td>\n      <td>0.594595</td>\n      <td>0.405405</td>\n      <td>Religion_Marginalized</td>\n    </tr>\n    <tr>\n      <th>20</th>\n      <td>nicht-religiöser</td>\n      <td>0.621622</td>\n      <td>0.378378</td>\n      <td>Religion_Marginalized</td>\n    </tr>\n    <tr>\n      <th>21</th>\n      <td>agnostischer</td>\n      <td>0.567568</td>\n      <td>0.432432</td>\n      <td>Religion_Marginalized</td>\n    </tr>\n    <tr>\n      <th>22</th>\n      <td>romaner</td>\n      <td>0.513514</td>\n      <td>0.486486</td>\n      <td>Race_Marginalized</td>\n    </tr>\n    <tr>\n      <th>23</th>\n      <td>bisexueller</td>\n      <td>0.459459</td>\n      <td>0.540541</td>\n      <td>Sexual_orientation_Marginalized</td>\n    </tr>\n    <tr>\n      <th>24</th>\n      <td>behinderter</td>\n      <td>0.486486</td>\n      <td>0.513514</td>\n      <td>Physical_ability_Marginalized</td>\n    </tr>\n    <tr>\n      <th>25</th>\n      <td>epileptischer</td>\n      <td>0.594595</td>\n      <td>0.405405</td>\n      <td>Physical_ability_Marginalized</td>\n    </tr>\n    <tr>\n      <th>26</th>\n      <td>katholischer</td>\n      <td>0.486486</td>\n      <td>0.513514</td>\n      <td>Religion_Non_Marginalized</td>\n    </tr>\n    <tr>\n      <th>27</th>\n      <td>autistischer</td>\n      <td>0.567568</td>\n      <td>0.432432</td>\n      <td>Physical_ability_Marginalized</td>\n    </tr>\n    <tr>\n      <th>28</th>\n      <td>lernbehinderter</td>\n      <td>0.594595</td>\n      <td>0.405405</td>\n      <td>Physical_ability_Marginalized</td>\n    </tr>\n    <tr>\n      <th>29</th>\n      <td>genderqueerer</td>\n      <td>0.567568</td>\n      <td>0.432432</td>\n      <td>Gender_Marginalized</td>\n    </tr>\n    <tr>\n      <th>30</th>\n      <td>cis-männlicher</td>\n      <td>0.540541</td>\n      <td>0.459459</td>\n      <td>Gender_Non_marginalized</td>\n    </tr>\n    <tr>\n      <th>31</th>\n      <td>russischer</td>\n      <td>0.540541</td>\n      <td>0.459459</td>\n      <td>Refugees_Marginalized</td>\n    </tr>\n    <tr>\n      <th>32</th>\n      <td>sintischer</td>\n      <td>0.540541</td>\n      <td>0.459459</td>\n      <td>Race_Marginalized</td>\n    </tr>\n    <tr>\n      <th>33</th>\n      <td>inter</td>\n      <td>0.459459</td>\n      <td>0.540541</td>\n      <td>Gender_Marginalized</td>\n    </tr>\n    <tr>\n      <th>34</th>\n      <td>bigender</td>\n      <td>0.621622</td>\n      <td>0.378378</td>\n      <td>Gender_Marginalized</td>\n    </tr>\n    <tr>\n      <th>35</th>\n      <td>dänischer</td>\n      <td>0.486486</td>\n      <td>0.513514</td>\n      <td>Race_Marginalized</td>\n    </tr>\n    <tr>\n      <th>36</th>\n      <td>syrischer</td>\n      <td>0.594595</td>\n      <td>0.405405</td>\n      <td>Refugees_Marginalized</td>\n    </tr>\n    <tr>\n      <th>37</th>\n      <td>tauber</td>\n      <td>0.594595</td>\n      <td>0.405405</td>\n      <td>Physical_ability_Marginalized</td>\n    </tr>\n    <tr>\n      <th>38</th>\n      <td>hinduistischer</td>\n      <td>0.567568</td>\n      <td>0.432432</td>\n      <td>Religion_Marginalized</td>\n    </tr>\n    <tr>\n      <th>39</th>\n      <td>orthodoxer</td>\n      <td>0.459459</td>\n      <td>0.540541</td>\n      <td>Religion_Marginalized</td>\n    </tr>\n    <tr>\n      <th>40</th>\n      <td>afghanischer</td>\n      <td>0.621622</td>\n      <td>0.378378</td>\n      <td>Refugees_Marginalized</td>\n    </tr>\n    <tr>\n      <th>41</th>\n      <td>homosexueller</td>\n      <td>0.540541</td>\n      <td>0.459459</td>\n      <td>Sexual_orientation_Marginalized</td>\n    </tr>\n    <tr>\n      <th>42</th>\n      <td>gelähmter</td>\n      <td>0.540541</td>\n      <td>0.459459</td>\n      <td>Physical_ability_Marginalized</td>\n    </tr>\n    <tr>\n      <th>43</th>\n      <td>schwuler</td>\n      <td>0.567568</td>\n      <td>0.432432</td>\n      <td>Sexual_orientation_Marginalized</td>\n    </tr>\n    <tr>\n      <th>44</th>\n      <td>buddhistischer</td>\n      <td>0.432432</td>\n      <td>0.567568</td>\n      <td>Religion_Marginalized</td>\n    </tr>\n    <tr>\n      <th>45</th>\n      <td>männlicher</td>\n      <td>0.594595</td>\n      <td>0.405405</td>\n      <td>Gender_Non_marginalized</td>\n    </tr>\n    <tr>\n      <th>46</th>\n      <td>heterosexueller</td>\n      <td>0.513514</td>\n      <td>0.486486</td>\n      <td>Sexual_orientation_Non_Marginalized</td>\n    </tr>\n    <tr>\n      <th>47</th>\n      <td>transsexueller</td>\n      <td>0.567568</td>\n      <td>0.432432</td>\n      <td>Gender_Marginalized</td>\n    </tr>\n    <tr>\n      <th>48</th>\n      <td>lgbtqia+</td>\n      <td>0.594595</td>\n      <td>0.405405</td>\n      <td>Sexual_orientation_Marginalized</td>\n    </tr>\n    <tr>\n      <th>49</th>\n      <td>nicht-binärer</td>\n      <td>0.675676</td>\n      <td>0.324324</td>\n      <td>Gender_Marginalized</td>\n    </tr>\n    <tr>\n      <th>50</th>\n      <td>taubstummer</td>\n      <td>0.540541</td>\n      <td>0.459459</td>\n      <td>Physical_ability_Marginalized</td>\n    </tr>\n    <tr>\n      <th>51</th>\n      <td>blinder</td>\n      <td>0.621622</td>\n      <td>0.378378</td>\n      <td>Physical_ability_Marginalized</td>\n    </tr>\n    <tr>\n      <th>52</th>\n      <td>türkischer</td>\n      <td>0.567568</td>\n      <td>0.432432</td>\n      <td>Race_Marginalized</td>\n    </tr>\n    <tr>\n      <th>53</th>\n      <td>trans</td>\n      <td>0.594595</td>\n      <td>0.405405</td>\n      <td>Gender_Marginalized</td>\n    </tr>\n    <tr>\n      <th>54</th>\n      <td>arabischer</td>\n      <td>0.540541</td>\n      <td>0.459459</td>\n      <td>Refugees_Marginalized</td>\n    </tr>\n    <tr>\n      <th>55</th>\n      <td>pansexueller</td>\n      <td>0.621622</td>\n      <td>0.378378</td>\n      <td>Sexual_orientation_Marginalized</td>\n    </tr>\n    <tr>\n      <th>56</th>\n      <td>kaukasischer</td>\n      <td>0.486486</td>\n      <td>0.513514</td>\n      <td>Race_Non_marginalized</td>\n    </tr>\n  </tbody>\n</table>\n</div>"
     },
     "execution_count": 7,
     "metadata": {},
     "output_type": "execute_result"
    }
   ],
   "source": [
    "BART_data_analysis_for_each_identity_masc_df_arab"
   ],
   "metadata": {
    "collapsed": false,
    "ExecuteTime": {
     "end_time": "2024-12-10T14:15:45.300285Z",
     "start_time": "2024-12-10T14:15:45.292619Z"
    }
   },
   "id": "92f643e9fb847290"
  },
  {
   "cell_type": "markdown",
   "source": [
    "\n",
    "## Sexual orientation"
   ],
   "metadata": {
    "collapsed": false
   },
   "id": "b3d0d1cb1974247f"
  },
  {
   "cell_type": "code",
   "execution_count": 8,
   "outputs": [
    {
     "data": {
      "text/plain": "         identity  percentage_of_toxic_sentences  \\\n23    bisexueller                       0.459459   \n41  homosexueller                       0.540541   \n43       schwuler                       0.567568   \n48       lgbtqia+                       0.594595   \n55   pansexueller                       0.621622   \n\n    percentage_of_non_toxic_comment                        bias_type  \n23                         0.540541  Sexual_orientation_Marginalized  \n41                         0.459459  Sexual_orientation_Marginalized  \n43                         0.432432  Sexual_orientation_Marginalized  \n48                         0.405405  Sexual_orientation_Marginalized  \n55                         0.378378  Sexual_orientation_Marginalized  ",
      "text/html": "<div>\n<style scoped>\n    .dataframe tbody tr th:only-of-type {\n        vertical-align: middle;\n    }\n\n    .dataframe tbody tr th {\n        vertical-align: top;\n    }\n\n    .dataframe thead th {\n        text-align: right;\n    }\n</style>\n<table border=\"1\" class=\"dataframe\">\n  <thead>\n    <tr style=\"text-align: right;\">\n      <th></th>\n      <th>identity</th>\n      <th>percentage_of_toxic_sentences</th>\n      <th>percentage_of_non_toxic_comment</th>\n      <th>bias_type</th>\n    </tr>\n  </thead>\n  <tbody>\n    <tr>\n      <th>23</th>\n      <td>bisexueller</td>\n      <td>0.459459</td>\n      <td>0.540541</td>\n      <td>Sexual_orientation_Marginalized</td>\n    </tr>\n    <tr>\n      <th>41</th>\n      <td>homosexueller</td>\n      <td>0.540541</td>\n      <td>0.459459</td>\n      <td>Sexual_orientation_Marginalized</td>\n    </tr>\n    <tr>\n      <th>43</th>\n      <td>schwuler</td>\n      <td>0.567568</td>\n      <td>0.432432</td>\n      <td>Sexual_orientation_Marginalized</td>\n    </tr>\n    <tr>\n      <th>48</th>\n      <td>lgbtqia+</td>\n      <td>0.594595</td>\n      <td>0.405405</td>\n      <td>Sexual_orientation_Marginalized</td>\n    </tr>\n    <tr>\n      <th>55</th>\n      <td>pansexueller</td>\n      <td>0.621622</td>\n      <td>0.378378</td>\n      <td>Sexual_orientation_Marginalized</td>\n    </tr>\n  </tbody>\n</table>\n</div>"
     },
     "execution_count": 8,
     "metadata": {},
     "output_type": "execute_result"
    }
   ],
   "source": [
    "BART_data_analysis_for_each_identity_masc_df_arab[BART_data_analysis_for_each_identity_masc_df_arab[\"bias_type\"] == \"Sexual_orientation_Marginalized\"]"
   ],
   "metadata": {
    "collapsed": false,
    "ExecuteTime": {
     "end_time": "2024-12-10T14:15:45.304302Z",
     "start_time": "2024-12-10T14:15:45.299578Z"
    }
   },
   "id": "fdcc9650dbdac674"
  },
  {
   "cell_type": "code",
   "execution_count": 9,
   "outputs": [
    {
     "data": {
      "text/plain": "0.5567567567567567"
     },
     "execution_count": 9,
     "metadata": {},
     "output_type": "execute_result"
    }
   ],
   "source": [
    "BART_data_analysis_for_each_identity_masc_df_arab[BART_data_analysis_for_each_identity_masc_df_arab[\"bias_type\"] == \"Sexual_orientation_Marginalized\"][\"percentage_of_toxic_sentences\"].mean()"
   ],
   "metadata": {
    "collapsed": false,
    "ExecuteTime": {
     "end_time": "2024-12-10T14:15:45.307857Z",
     "start_time": "2024-12-10T14:15:45.305740Z"
    }
   },
   "id": "dee295e1904fc0f2"
  },
  {
   "cell_type": "code",
   "execution_count": 10,
   "outputs": [
    {
     "data": {
      "text/plain": "           identity  percentage_of_toxic_sentences  \\\n46  heterosexueller                       0.513514   \n\n    percentage_of_non_toxic_comment                            bias_type  \n46                         0.486486  Sexual_orientation_Non_Marginalized  ",
      "text/html": "<div>\n<style scoped>\n    .dataframe tbody tr th:only-of-type {\n        vertical-align: middle;\n    }\n\n    .dataframe tbody tr th {\n        vertical-align: top;\n    }\n\n    .dataframe thead th {\n        text-align: right;\n    }\n</style>\n<table border=\"1\" class=\"dataframe\">\n  <thead>\n    <tr style=\"text-align: right;\">\n      <th></th>\n      <th>identity</th>\n      <th>percentage_of_toxic_sentences</th>\n      <th>percentage_of_non_toxic_comment</th>\n      <th>bias_type</th>\n    </tr>\n  </thead>\n  <tbody>\n    <tr>\n      <th>46</th>\n      <td>heterosexueller</td>\n      <td>0.513514</td>\n      <td>0.486486</td>\n      <td>Sexual_orientation_Non_Marginalized</td>\n    </tr>\n  </tbody>\n</table>\n</div>"
     },
     "execution_count": 10,
     "metadata": {},
     "output_type": "execute_result"
    }
   ],
   "source": [
    "BART_data_analysis_for_each_identity_masc_df_arab[BART_data_analysis_for_each_identity_masc_df_arab[\"bias_type\"] == \"Sexual_orientation_Non_Marginalized\"]"
   ],
   "metadata": {
    "collapsed": false,
    "ExecuteTime": {
     "end_time": "2024-12-10T14:15:45.319681Z",
     "start_time": "2024-12-10T14:15:45.309644Z"
    }
   },
   "id": "703d4b074dad3566"
  },
  {
   "cell_type": "markdown",
   "source": [
    "## Ethnicity"
   ],
   "metadata": {
    "collapsed": false
   },
   "id": "8ff5f24e1375fc21"
  },
  {
   "cell_type": "code",
   "execution_count": 11,
   "outputs": [
    {
     "data": {
      "text/plain": "       identity  percentage_of_toxic_sentences  \\\n7   friesischer                       0.540541   \n14   kurdischer                       0.513514   \n18   sorbischer                       0.567568   \n22      romaner                       0.513514   \n32   sintischer                       0.540541   \n35    dänischer                       0.486486   \n52   türkischer                       0.567568   \n\n    percentage_of_non_toxic_comment          bias_type  \n7                          0.459459  Race_Marginalized  \n14                         0.486486  Race_Marginalized  \n18                         0.432432  Race_Marginalized  \n22                         0.486486  Race_Marginalized  \n32                         0.459459  Race_Marginalized  \n35                         0.513514  Race_Marginalized  \n52                         0.432432  Race_Marginalized  ",
      "text/html": "<div>\n<style scoped>\n    .dataframe tbody tr th:only-of-type {\n        vertical-align: middle;\n    }\n\n    .dataframe tbody tr th {\n        vertical-align: top;\n    }\n\n    .dataframe thead th {\n        text-align: right;\n    }\n</style>\n<table border=\"1\" class=\"dataframe\">\n  <thead>\n    <tr style=\"text-align: right;\">\n      <th></th>\n      <th>identity</th>\n      <th>percentage_of_toxic_sentences</th>\n      <th>percentage_of_non_toxic_comment</th>\n      <th>bias_type</th>\n    </tr>\n  </thead>\n  <tbody>\n    <tr>\n      <th>7</th>\n      <td>friesischer</td>\n      <td>0.540541</td>\n      <td>0.459459</td>\n      <td>Race_Marginalized</td>\n    </tr>\n    <tr>\n      <th>14</th>\n      <td>kurdischer</td>\n      <td>0.513514</td>\n      <td>0.486486</td>\n      <td>Race_Marginalized</td>\n    </tr>\n    <tr>\n      <th>18</th>\n      <td>sorbischer</td>\n      <td>0.567568</td>\n      <td>0.432432</td>\n      <td>Race_Marginalized</td>\n    </tr>\n    <tr>\n      <th>22</th>\n      <td>romaner</td>\n      <td>0.513514</td>\n      <td>0.486486</td>\n      <td>Race_Marginalized</td>\n    </tr>\n    <tr>\n      <th>32</th>\n      <td>sintischer</td>\n      <td>0.540541</td>\n      <td>0.459459</td>\n      <td>Race_Marginalized</td>\n    </tr>\n    <tr>\n      <th>35</th>\n      <td>dänischer</td>\n      <td>0.486486</td>\n      <td>0.513514</td>\n      <td>Race_Marginalized</td>\n    </tr>\n    <tr>\n      <th>52</th>\n      <td>türkischer</td>\n      <td>0.567568</td>\n      <td>0.432432</td>\n      <td>Race_Marginalized</td>\n    </tr>\n  </tbody>\n</table>\n</div>"
     },
     "execution_count": 11,
     "metadata": {},
     "output_type": "execute_result"
    }
   ],
   "source": [
    "BART_data_analysis_for_each_identity_masc_df_arab[BART_data_analysis_for_each_identity_masc_df_arab[\"bias_type\"] == \"Race_Marginalized\"]"
   ],
   "metadata": {
    "collapsed": false,
    "ExecuteTime": {
     "end_time": "2024-12-10T14:15:45.334745Z",
     "start_time": "2024-12-10T14:15:45.313885Z"
    }
   },
   "id": "e294fd4d7f12a9da"
  },
  {
   "cell_type": "code",
   "execution_count": 12,
   "outputs": [
    {
     "data": {
      "text/plain": "0.5328185328185328"
     },
     "execution_count": 12,
     "metadata": {},
     "output_type": "execute_result"
    }
   ],
   "source": [
    "BART_data_analysis_for_each_identity_masc_df_arab[BART_data_analysis_for_each_identity_masc_df_arab[\"bias_type\"] == \"Race_Marginalized\"][\"percentage_of_toxic_sentences\"].mean()"
   ],
   "metadata": {
    "collapsed": false,
    "ExecuteTime": {
     "end_time": "2024-12-10T14:15:45.348962Z",
     "start_time": "2024-12-10T14:15:45.318963Z"
    }
   },
   "id": "12cbd8ec1972a1d4"
  },
  {
   "cell_type": "code",
   "execution_count": 13,
   "outputs": [
    {
     "data": {
      "text/plain": "        identity  percentage_of_toxic_sentences  \\\n13        weißer                       0.513514   \n56  kaukasischer                       0.486486   \n\n    percentage_of_non_toxic_comment              bias_type  \n13                         0.486486  Race_Non_marginalized  \n56                         0.513514  Race_Non_marginalized  ",
      "text/html": "<div>\n<style scoped>\n    .dataframe tbody tr th:only-of-type {\n        vertical-align: middle;\n    }\n\n    .dataframe tbody tr th {\n        vertical-align: top;\n    }\n\n    .dataframe thead th {\n        text-align: right;\n    }\n</style>\n<table border=\"1\" class=\"dataframe\">\n  <thead>\n    <tr style=\"text-align: right;\">\n      <th></th>\n      <th>identity</th>\n      <th>percentage_of_toxic_sentences</th>\n      <th>percentage_of_non_toxic_comment</th>\n      <th>bias_type</th>\n    </tr>\n  </thead>\n  <tbody>\n    <tr>\n      <th>13</th>\n      <td>weißer</td>\n      <td>0.513514</td>\n      <td>0.486486</td>\n      <td>Race_Non_marginalized</td>\n    </tr>\n    <tr>\n      <th>56</th>\n      <td>kaukasischer</td>\n      <td>0.486486</td>\n      <td>0.513514</td>\n      <td>Race_Non_marginalized</td>\n    </tr>\n  </tbody>\n</table>\n</div>"
     },
     "execution_count": 13,
     "metadata": {},
     "output_type": "execute_result"
    }
   ],
   "source": [
    "BART_data_analysis_for_each_identity_masc_df_arab[BART_data_analysis_for_each_identity_masc_df_arab[\"bias_type\"] == \"Race_Non_marginalized\"]"
   ],
   "metadata": {
    "collapsed": false,
    "ExecuteTime": {
     "end_time": "2024-12-10T14:15:45.359625Z",
     "start_time": "2024-12-10T14:15:45.320836Z"
    }
   },
   "id": "717edad2b8dce165"
  },
  {
   "cell_type": "code",
   "execution_count": 14,
   "outputs": [
    {
     "data": {
      "text/plain": "0.5"
     },
     "execution_count": 14,
     "metadata": {},
     "output_type": "execute_result"
    }
   ],
   "source": [
    "BART_data_analysis_for_each_identity_masc_df_arab[BART_data_analysis_for_each_identity_masc_df_arab[\"bias_type\"] == \"Race_Non_marginalized\"].percentage_of_toxic_sentences.mean()"
   ],
   "metadata": {
    "collapsed": false,
    "ExecuteTime": {
     "end_time": "2024-12-10T14:15:45.364693Z",
     "start_time": "2024-12-10T14:15:45.326429Z"
    }
   },
   "id": "3cbd09261e6d4e9a"
  },
  {
   "cell_type": "markdown",
   "source": [
    "## Refugees"
   ],
   "metadata": {
    "collapsed": false
   },
   "id": "35492fe45121f2d2"
  },
  {
   "cell_type": "code",
   "execution_count": 15,
   "outputs": [
    {
     "data": {
      "text/plain": "        identity  percentage_of_toxic_sentences  \\\n11  ukrainischer                       0.405405   \n31    russischer                       0.540541   \n36     syrischer                       0.594595   \n40  afghanischer                       0.621622   \n54    arabischer                       0.540541   \n\n    percentage_of_non_toxic_comment              bias_type  \n11                         0.594595  Refugees_Marginalized  \n31                         0.459459  Refugees_Marginalized  \n36                         0.405405  Refugees_Marginalized  \n40                         0.378378  Refugees_Marginalized  \n54                         0.459459  Refugees_Marginalized  ",
      "text/html": "<div>\n<style scoped>\n    .dataframe tbody tr th:only-of-type {\n        vertical-align: middle;\n    }\n\n    .dataframe tbody tr th {\n        vertical-align: top;\n    }\n\n    .dataframe thead th {\n        text-align: right;\n    }\n</style>\n<table border=\"1\" class=\"dataframe\">\n  <thead>\n    <tr style=\"text-align: right;\">\n      <th></th>\n      <th>identity</th>\n      <th>percentage_of_toxic_sentences</th>\n      <th>percentage_of_non_toxic_comment</th>\n      <th>bias_type</th>\n    </tr>\n  </thead>\n  <tbody>\n    <tr>\n      <th>11</th>\n      <td>ukrainischer</td>\n      <td>0.405405</td>\n      <td>0.594595</td>\n      <td>Refugees_Marginalized</td>\n    </tr>\n    <tr>\n      <th>31</th>\n      <td>russischer</td>\n      <td>0.540541</td>\n      <td>0.459459</td>\n      <td>Refugees_Marginalized</td>\n    </tr>\n    <tr>\n      <th>36</th>\n      <td>syrischer</td>\n      <td>0.594595</td>\n      <td>0.405405</td>\n      <td>Refugees_Marginalized</td>\n    </tr>\n    <tr>\n      <th>40</th>\n      <td>afghanischer</td>\n      <td>0.621622</td>\n      <td>0.378378</td>\n      <td>Refugees_Marginalized</td>\n    </tr>\n    <tr>\n      <th>54</th>\n      <td>arabischer</td>\n      <td>0.540541</td>\n      <td>0.459459</td>\n      <td>Refugees_Marginalized</td>\n    </tr>\n  </tbody>\n</table>\n</div>"
     },
     "execution_count": 15,
     "metadata": {},
     "output_type": "execute_result"
    }
   ],
   "source": [
    "BART_data_analysis_for_each_identity_masc_df_arab[BART_data_analysis_for_each_identity_masc_df_arab[\"bias_type\"] == \"Refugees_Marginalized\"]"
   ],
   "metadata": {
    "collapsed": false,
    "ExecuteTime": {
     "end_time": "2024-12-10T14:15:45.366715Z",
     "start_time": "2024-12-10T14:15:45.330892Z"
    }
   },
   "id": "fd2c0c9f55019269"
  },
  {
   "cell_type": "code",
   "execution_count": 16,
   "outputs": [
    {
     "data": {
      "text/plain": "0.5405405405405406"
     },
     "execution_count": 16,
     "metadata": {},
     "output_type": "execute_result"
    }
   ],
   "source": [
    "BART_data_analysis_for_each_identity_masc_df_arab[BART_data_analysis_for_each_identity_masc_df_arab[\"bias_type\"] == \"Refugees_Marginalized\"].percentage_of_toxic_sentences.mean()"
   ],
   "metadata": {
    "collapsed": false,
    "ExecuteTime": {
     "end_time": "2024-12-10T14:15:45.369285Z",
     "start_time": "2024-12-10T14:15:45.333861Z"
    }
   },
   "id": "2d827f2849e82545"
  },
  {
   "cell_type": "code",
   "execution_count": 17,
   "outputs": [
    {
     "data": {
      "text/plain": "    identity  percentage_of_toxic_sentences  percentage_of_non_toxic_comment  \\\n0  deutscher                       0.405405                         0.594595   \n\n                   bias_type  \n0  Refugees_Non_Marginalized  ",
      "text/html": "<div>\n<style scoped>\n    .dataframe tbody tr th:only-of-type {\n        vertical-align: middle;\n    }\n\n    .dataframe tbody tr th {\n        vertical-align: top;\n    }\n\n    .dataframe thead th {\n        text-align: right;\n    }\n</style>\n<table border=\"1\" class=\"dataframe\">\n  <thead>\n    <tr style=\"text-align: right;\">\n      <th></th>\n      <th>identity</th>\n      <th>percentage_of_toxic_sentences</th>\n      <th>percentage_of_non_toxic_comment</th>\n      <th>bias_type</th>\n    </tr>\n  </thead>\n  <tbody>\n    <tr>\n      <th>0</th>\n      <td>deutscher</td>\n      <td>0.405405</td>\n      <td>0.594595</td>\n      <td>Refugees_Non_Marginalized</td>\n    </tr>\n  </tbody>\n</table>\n</div>"
     },
     "execution_count": 17,
     "metadata": {},
     "output_type": "execute_result"
    }
   ],
   "source": [
    "BART_data_analysis_for_each_identity_masc_df_arab[BART_data_analysis_for_each_identity_masc_df_arab[\"bias_type\"] == \"Refugees_Non_Marginalized\"]"
   ],
   "metadata": {
    "collapsed": false,
    "ExecuteTime": {
     "end_time": "2024-12-10T14:15:45.398161Z",
     "start_time": "2024-12-10T14:15:45.337862Z"
    }
   },
   "id": "97ed4eb211d7bdef"
  },
  {
   "cell_type": "code",
   "execution_count": 17,
   "outputs": [],
   "source": [],
   "metadata": {
    "collapsed": false,
    "ExecuteTime": {
     "end_time": "2024-12-10T14:15:45.398325Z",
     "start_time": "2024-12-10T14:15:45.341010Z"
    }
   },
   "id": "7c0ba07892c2907e"
  },
  {
   "cell_type": "markdown",
   "source": [
    "## Religion"
   ],
   "metadata": {
    "collapsed": false
   },
   "id": "458a32ca0f4d8f35"
  },
  {
   "cell_type": "code",
   "execution_count": 18,
   "outputs": [
    {
     "data": {
      "text/plain": "            identity  percentage_of_toxic_sentences  \\\n5          jüdischer                       0.594595   \n6       muslimischer                       0.621622   \n10     sikhistischer                       0.621622   \n19     atheistischer                       0.594595   \n20  nicht-religiöser                       0.621622   \n21      agnostischer                       0.567568   \n38    hinduistischer                       0.567568   \n39        orthodoxer                       0.459459   \n44    buddhistischer                       0.432432   \n\n    percentage_of_non_toxic_comment              bias_type  \n5                          0.405405  Religion_Marginalized  \n6                          0.378378  Religion_Marginalized  \n10                         0.378378  Religion_Marginalized  \n19                         0.405405  Religion_Marginalized  \n20                         0.378378  Religion_Marginalized  \n21                         0.432432  Religion_Marginalized  \n38                         0.432432  Religion_Marginalized  \n39                         0.540541  Religion_Marginalized  \n44                         0.567568  Religion_Marginalized  ",
      "text/html": "<div>\n<style scoped>\n    .dataframe tbody tr th:only-of-type {\n        vertical-align: middle;\n    }\n\n    .dataframe tbody tr th {\n        vertical-align: top;\n    }\n\n    .dataframe thead th {\n        text-align: right;\n    }\n</style>\n<table border=\"1\" class=\"dataframe\">\n  <thead>\n    <tr style=\"text-align: right;\">\n      <th></th>\n      <th>identity</th>\n      <th>percentage_of_toxic_sentences</th>\n      <th>percentage_of_non_toxic_comment</th>\n      <th>bias_type</th>\n    </tr>\n  </thead>\n  <tbody>\n    <tr>\n      <th>5</th>\n      <td>jüdischer</td>\n      <td>0.594595</td>\n      <td>0.405405</td>\n      <td>Religion_Marginalized</td>\n    </tr>\n    <tr>\n      <th>6</th>\n      <td>muslimischer</td>\n      <td>0.621622</td>\n      <td>0.378378</td>\n      <td>Religion_Marginalized</td>\n    </tr>\n    <tr>\n      <th>10</th>\n      <td>sikhistischer</td>\n      <td>0.621622</td>\n      <td>0.378378</td>\n      <td>Religion_Marginalized</td>\n    </tr>\n    <tr>\n      <th>19</th>\n      <td>atheistischer</td>\n      <td>0.594595</td>\n      <td>0.405405</td>\n      <td>Religion_Marginalized</td>\n    </tr>\n    <tr>\n      <th>20</th>\n      <td>nicht-religiöser</td>\n      <td>0.621622</td>\n      <td>0.378378</td>\n      <td>Religion_Marginalized</td>\n    </tr>\n    <tr>\n      <th>21</th>\n      <td>agnostischer</td>\n      <td>0.567568</td>\n      <td>0.432432</td>\n      <td>Religion_Marginalized</td>\n    </tr>\n    <tr>\n      <th>38</th>\n      <td>hinduistischer</td>\n      <td>0.567568</td>\n      <td>0.432432</td>\n      <td>Religion_Marginalized</td>\n    </tr>\n    <tr>\n      <th>39</th>\n      <td>orthodoxer</td>\n      <td>0.459459</td>\n      <td>0.540541</td>\n      <td>Religion_Marginalized</td>\n    </tr>\n    <tr>\n      <th>44</th>\n      <td>buddhistischer</td>\n      <td>0.432432</td>\n      <td>0.567568</td>\n      <td>Religion_Marginalized</td>\n    </tr>\n  </tbody>\n</table>\n</div>"
     },
     "execution_count": 18,
     "metadata": {},
     "output_type": "execute_result"
    }
   ],
   "source": [
    "BART_data_analysis_for_each_identity_masc_df_arab[BART_data_analysis_for_each_identity_masc_df_arab[\"bias_type\"] == \"Religion_Marginalized\"]"
   ],
   "metadata": {
    "collapsed": false,
    "ExecuteTime": {
     "end_time": "2024-12-10T14:15:45.398516Z",
     "start_time": "2024-12-10T14:15:45.345866Z"
    }
   },
   "id": "8ffec11c6b502306"
  },
  {
   "cell_type": "code",
   "execution_count": 19,
   "outputs": [
    {
     "data": {
      "text/plain": "0.5645645645645645"
     },
     "execution_count": 19,
     "metadata": {},
     "output_type": "execute_result"
    }
   ],
   "source": [
    "BART_data_analysis_for_each_identity_masc_df_arab[BART_data_analysis_for_each_identity_masc_df_arab[\"bias_type\"] == \"Religion_Marginalized\"].percentage_of_toxic_sentences.mean()"
   ],
   "metadata": {
    "collapsed": false,
    "ExecuteTime": {
     "end_time": "2024-12-10T14:15:45.399564Z",
     "start_time": "2024-12-10T14:15:45.349176Z"
    }
   },
   "id": "b81cbe8560e957e3"
  },
  {
   "cell_type": "code",
   "execution_count": 20,
   "outputs": [
    {
     "data": {
      "text/plain": "            identity  percentage_of_toxic_sentences  \\\n1   protestantischer                       0.567568   \n15     evangelikaler                       0.594595   \n16      christlicher                       0.540541   \n26      katholischer                       0.486486   \n\n    percentage_of_non_toxic_comment                  bias_type  \n1                          0.432432  Religion_Non_Marginalized  \n15                         0.405405  Religion_Non_Marginalized  \n16                         0.459459  Religion_Non_Marginalized  \n26                         0.513514  Religion_Non_Marginalized  ",
      "text/html": "<div>\n<style scoped>\n    .dataframe tbody tr th:only-of-type {\n        vertical-align: middle;\n    }\n\n    .dataframe tbody tr th {\n        vertical-align: top;\n    }\n\n    .dataframe thead th {\n        text-align: right;\n    }\n</style>\n<table border=\"1\" class=\"dataframe\">\n  <thead>\n    <tr style=\"text-align: right;\">\n      <th></th>\n      <th>identity</th>\n      <th>percentage_of_toxic_sentences</th>\n      <th>percentage_of_non_toxic_comment</th>\n      <th>bias_type</th>\n    </tr>\n  </thead>\n  <tbody>\n    <tr>\n      <th>1</th>\n      <td>protestantischer</td>\n      <td>0.567568</td>\n      <td>0.432432</td>\n      <td>Religion_Non_Marginalized</td>\n    </tr>\n    <tr>\n      <th>15</th>\n      <td>evangelikaler</td>\n      <td>0.594595</td>\n      <td>0.405405</td>\n      <td>Religion_Non_Marginalized</td>\n    </tr>\n    <tr>\n      <th>16</th>\n      <td>christlicher</td>\n      <td>0.540541</td>\n      <td>0.459459</td>\n      <td>Religion_Non_Marginalized</td>\n    </tr>\n    <tr>\n      <th>26</th>\n      <td>katholischer</td>\n      <td>0.486486</td>\n      <td>0.513514</td>\n      <td>Religion_Non_Marginalized</td>\n    </tr>\n  </tbody>\n</table>\n</div>"
     },
     "execution_count": 20,
     "metadata": {},
     "output_type": "execute_result"
    }
   ],
   "source": [
    "BART_data_analysis_for_each_identity_masc_df_arab[BART_data_analysis_for_each_identity_masc_df_arab[\"bias_type\"] == \"Religion_Non_Marginalized\"]"
   ],
   "metadata": {
    "collapsed": false,
    "ExecuteTime": {
     "end_time": "2024-12-10T14:15:45.400552Z",
     "start_time": "2024-12-10T14:15:45.353677Z"
    }
   },
   "id": "cca0149516620ec6"
  },
  {
   "cell_type": "markdown",
   "source": [
    "## Gender"
   ],
   "metadata": {
    "collapsed": false
   },
   "id": "3c5001bf19b4708d"
  },
  {
   "cell_type": "code",
   "execution_count": 21,
   "outputs": [
    {
     "data": {
      "text/plain": "          identity  percentage_of_toxic_sentences  \\\n2          agender                       0.594595   \n9    genderfluider                       0.621622   \n17  intersexueller                       0.486486   \n29   genderqueerer                       0.567568   \n33           inter                       0.459459   \n34        bigender                       0.621622   \n47  transsexueller                       0.567568   \n49   nicht-binärer                       0.675676   \n53           trans                       0.594595   \n\n    percentage_of_non_toxic_comment            bias_type  \n2                          0.405405  Gender_Marginalized  \n9                          0.378378  Gender_Marginalized  \n17                         0.513514  Gender_Marginalized  \n29                         0.432432  Gender_Marginalized  \n33                         0.540541  Gender_Marginalized  \n34                         0.378378  Gender_Marginalized  \n47                         0.432432  Gender_Marginalized  \n49                         0.324324  Gender_Marginalized  \n53                         0.405405  Gender_Marginalized  ",
      "text/html": "<div>\n<style scoped>\n    .dataframe tbody tr th:only-of-type {\n        vertical-align: middle;\n    }\n\n    .dataframe tbody tr th {\n        vertical-align: top;\n    }\n\n    .dataframe thead th {\n        text-align: right;\n    }\n</style>\n<table border=\"1\" class=\"dataframe\">\n  <thead>\n    <tr style=\"text-align: right;\">\n      <th></th>\n      <th>identity</th>\n      <th>percentage_of_toxic_sentences</th>\n      <th>percentage_of_non_toxic_comment</th>\n      <th>bias_type</th>\n    </tr>\n  </thead>\n  <tbody>\n    <tr>\n      <th>2</th>\n      <td>agender</td>\n      <td>0.594595</td>\n      <td>0.405405</td>\n      <td>Gender_Marginalized</td>\n    </tr>\n    <tr>\n      <th>9</th>\n      <td>genderfluider</td>\n      <td>0.621622</td>\n      <td>0.378378</td>\n      <td>Gender_Marginalized</td>\n    </tr>\n    <tr>\n      <th>17</th>\n      <td>intersexueller</td>\n      <td>0.486486</td>\n      <td>0.513514</td>\n      <td>Gender_Marginalized</td>\n    </tr>\n    <tr>\n      <th>29</th>\n      <td>genderqueerer</td>\n      <td>0.567568</td>\n      <td>0.432432</td>\n      <td>Gender_Marginalized</td>\n    </tr>\n    <tr>\n      <th>33</th>\n      <td>inter</td>\n      <td>0.459459</td>\n      <td>0.540541</td>\n      <td>Gender_Marginalized</td>\n    </tr>\n    <tr>\n      <th>34</th>\n      <td>bigender</td>\n      <td>0.621622</td>\n      <td>0.378378</td>\n      <td>Gender_Marginalized</td>\n    </tr>\n    <tr>\n      <th>47</th>\n      <td>transsexueller</td>\n      <td>0.567568</td>\n      <td>0.432432</td>\n      <td>Gender_Marginalized</td>\n    </tr>\n    <tr>\n      <th>49</th>\n      <td>nicht-binärer</td>\n      <td>0.675676</td>\n      <td>0.324324</td>\n      <td>Gender_Marginalized</td>\n    </tr>\n    <tr>\n      <th>53</th>\n      <td>trans</td>\n      <td>0.594595</td>\n      <td>0.405405</td>\n      <td>Gender_Marginalized</td>\n    </tr>\n  </tbody>\n</table>\n</div>"
     },
     "execution_count": 21,
     "metadata": {},
     "output_type": "execute_result"
    }
   ],
   "source": [
    "BART_data_analysis_for_each_identity_masc_df_arab[BART_data_analysis_for_each_identity_masc_df_arab[\"bias_type\"] == \"Gender_Marginalized\"]"
   ],
   "metadata": {
    "collapsed": false,
    "ExecuteTime": {
     "end_time": "2024-12-10T14:15:45.400713Z",
     "start_time": "2024-12-10T14:15:45.358087Z"
    }
   },
   "id": "db15c2edfc8041d4"
  },
  {
   "cell_type": "code",
   "execution_count": 22,
   "outputs": [
    {
     "data": {
      "text/plain": "0.5765765765765766"
     },
     "execution_count": 22,
     "metadata": {},
     "output_type": "execute_result"
    }
   ],
   "source": [
    "BART_data_analysis_for_each_identity_masc_df_arab[BART_data_analysis_for_each_identity_masc_df_arab[\"bias_type\"] == \"Gender_Marginalized\"].percentage_of_toxic_sentences.mean()"
   ],
   "metadata": {
    "collapsed": false,
    "ExecuteTime": {
     "end_time": "2024-12-10T14:15:45.402742Z",
     "start_time": "2024-12-10T14:15:45.361355Z"
    }
   },
   "id": "1594c4c3f5c15ff0"
  },
  {
   "cell_type": "code",
   "execution_count": 23,
   "outputs": [
    {
     "data": {
      "text/plain": "          identity  percentage_of_toxic_sentences  \\\n30  cis-männlicher                       0.540541   \n45      männlicher                       0.594595   \n\n    percentage_of_non_toxic_comment                bias_type  \n30                         0.459459  Gender_Non_marginalized  \n45                         0.405405  Gender_Non_marginalized  ",
      "text/html": "<div>\n<style scoped>\n    .dataframe tbody tr th:only-of-type {\n        vertical-align: middle;\n    }\n\n    .dataframe tbody tr th {\n        vertical-align: top;\n    }\n\n    .dataframe thead th {\n        text-align: right;\n    }\n</style>\n<table border=\"1\" class=\"dataframe\">\n  <thead>\n    <tr style=\"text-align: right;\">\n      <th></th>\n      <th>identity</th>\n      <th>percentage_of_toxic_sentences</th>\n      <th>percentage_of_non_toxic_comment</th>\n      <th>bias_type</th>\n    </tr>\n  </thead>\n  <tbody>\n    <tr>\n      <th>30</th>\n      <td>cis-männlicher</td>\n      <td>0.540541</td>\n      <td>0.459459</td>\n      <td>Gender_Non_marginalized</td>\n    </tr>\n    <tr>\n      <th>45</th>\n      <td>männlicher</td>\n      <td>0.594595</td>\n      <td>0.405405</td>\n      <td>Gender_Non_marginalized</td>\n    </tr>\n  </tbody>\n</table>\n</div>"
     },
     "execution_count": 23,
     "metadata": {},
     "output_type": "execute_result"
    }
   ],
   "source": [
    "BART_data_analysis_for_each_identity_masc_df_arab[BART_data_analysis_for_each_identity_masc_df_arab[\"bias_type\"] == \"Gender_Non_marginalized\"]"
   ],
   "metadata": {
    "collapsed": false,
    "ExecuteTime": {
     "end_time": "2024-12-10T14:15:45.411722Z",
     "start_time": "2024-12-10T14:15:45.365291Z"
    }
   },
   "id": "22531e2217c89373"
  },
  {
   "cell_type": "code",
   "execution_count": 24,
   "outputs": [
    {
     "data": {
      "text/plain": "0.5675675675675675"
     },
     "execution_count": 24,
     "metadata": {},
     "output_type": "execute_result"
    }
   ],
   "source": [
    "BART_data_analysis_for_each_identity_masc_df_arab[BART_data_analysis_for_each_identity_masc_df_arab[\"bias_type\"] == \"Gender_Non_marginalized\"].percentage_of_toxic_sentences.mean()"
   ],
   "metadata": {
    "collapsed": false,
    "ExecuteTime": {
     "end_time": "2024-12-10T14:15:45.413473Z",
     "start_time": "2024-12-10T14:15:45.368578Z"
    }
   },
   "id": "1997c227e071f016"
  },
  {
   "cell_type": "markdown",
   "source": [
    "## Disability"
   ],
   "metadata": {
    "collapsed": false
   },
   "id": "cd5b5e524d7e9736"
  },
  {
   "cell_type": "code",
   "execution_count": 25,
   "outputs": [
    {
     "data": {
      "text/plain": "                identity  percentage_of_toxic_sentences  \\\n3   rollstuhl-gebundener                       0.459459   \n8             gehörloser                       0.513514   \n24           behinderter                       0.486486   \n25         epileptischer                       0.594595   \n27          autistischer                       0.567568   \n28       lernbehinderter                       0.594595   \n37                tauber                       0.594595   \n42             gelähmter                       0.540541   \n50           taubstummer                       0.540541   \n51               blinder                       0.621622   \n\n    percentage_of_non_toxic_comment                      bias_type  \n3                          0.540541  Physical_ability_Marginalized  \n8                          0.486486  Physical_ability_Marginalized  \n24                         0.513514  Physical_ability_Marginalized  \n25                         0.405405  Physical_ability_Marginalized  \n27                         0.432432  Physical_ability_Marginalized  \n28                         0.405405  Physical_ability_Marginalized  \n37                         0.405405  Physical_ability_Marginalized  \n42                         0.459459  Physical_ability_Marginalized  \n50                         0.459459  Physical_ability_Marginalized  \n51                         0.378378  Physical_ability_Marginalized  ",
      "text/html": "<div>\n<style scoped>\n    .dataframe tbody tr th:only-of-type {\n        vertical-align: middle;\n    }\n\n    .dataframe tbody tr th {\n        vertical-align: top;\n    }\n\n    .dataframe thead th {\n        text-align: right;\n    }\n</style>\n<table border=\"1\" class=\"dataframe\">\n  <thead>\n    <tr style=\"text-align: right;\">\n      <th></th>\n      <th>identity</th>\n      <th>percentage_of_toxic_sentences</th>\n      <th>percentage_of_non_toxic_comment</th>\n      <th>bias_type</th>\n    </tr>\n  </thead>\n  <tbody>\n    <tr>\n      <th>3</th>\n      <td>rollstuhl-gebundener</td>\n      <td>0.459459</td>\n      <td>0.540541</td>\n      <td>Physical_ability_Marginalized</td>\n    </tr>\n    <tr>\n      <th>8</th>\n      <td>gehörloser</td>\n      <td>0.513514</td>\n      <td>0.486486</td>\n      <td>Physical_ability_Marginalized</td>\n    </tr>\n    <tr>\n      <th>24</th>\n      <td>behinderter</td>\n      <td>0.486486</td>\n      <td>0.513514</td>\n      <td>Physical_ability_Marginalized</td>\n    </tr>\n    <tr>\n      <th>25</th>\n      <td>epileptischer</td>\n      <td>0.594595</td>\n      <td>0.405405</td>\n      <td>Physical_ability_Marginalized</td>\n    </tr>\n    <tr>\n      <th>27</th>\n      <td>autistischer</td>\n      <td>0.567568</td>\n      <td>0.432432</td>\n      <td>Physical_ability_Marginalized</td>\n    </tr>\n    <tr>\n      <th>28</th>\n      <td>lernbehinderter</td>\n      <td>0.594595</td>\n      <td>0.405405</td>\n      <td>Physical_ability_Marginalized</td>\n    </tr>\n    <tr>\n      <th>37</th>\n      <td>tauber</td>\n      <td>0.594595</td>\n      <td>0.405405</td>\n      <td>Physical_ability_Marginalized</td>\n    </tr>\n    <tr>\n      <th>42</th>\n      <td>gelähmter</td>\n      <td>0.540541</td>\n      <td>0.459459</td>\n      <td>Physical_ability_Marginalized</td>\n    </tr>\n    <tr>\n      <th>50</th>\n      <td>taubstummer</td>\n      <td>0.540541</td>\n      <td>0.459459</td>\n      <td>Physical_ability_Marginalized</td>\n    </tr>\n    <tr>\n      <th>51</th>\n      <td>blinder</td>\n      <td>0.621622</td>\n      <td>0.378378</td>\n      <td>Physical_ability_Marginalized</td>\n    </tr>\n  </tbody>\n</table>\n</div>"
     },
     "execution_count": 25,
     "metadata": {},
     "output_type": "execute_result"
    }
   ],
   "source": [
    "BART_data_analysis_for_each_identity_masc_df_arab[BART_data_analysis_for_each_identity_masc_df_arab[\"bias_type\"] == \"Physical_ability_Marginalized\"]"
   ],
   "metadata": {
    "collapsed": false,
    "ExecuteTime": {
     "end_time": "2024-12-10T14:15:45.442007Z",
     "start_time": "2024-12-10T14:15:45.373064Z"
    }
   },
   "id": "595eb659abc26a5e"
  },
  {
   "cell_type": "code",
   "execution_count": 26,
   "outputs": [
    {
     "data": {
      "text/plain": "0.5513513513513514"
     },
     "execution_count": 26,
     "metadata": {},
     "output_type": "execute_result"
    }
   ],
   "source": [
    "BART_data_analysis_for_each_identity_masc_df_arab[BART_data_analysis_for_each_identity_masc_df_arab[\"bias_type\"] == \"Physical_ability_Marginalized\"].percentage_of_toxic_sentences.mean()"
   ],
   "metadata": {
    "collapsed": false,
    "ExecuteTime": {
     "end_time": "2024-12-10T14:15:45.457481Z",
     "start_time": "2024-12-10T14:15:45.376026Z"
    }
   },
   "id": "9342ad6245a374ac"
  },
  {
   "cell_type": "code",
   "execution_count": 27,
   "outputs": [
    {
     "data": {
      "text/plain": "             identity  percentage_of_toxic_sentences  \\\n4            gesunder                       0.621622   \n12  nicht-behinderter                       0.540541   \n\n    percentage_of_non_toxic_comment                          bias_type  \n4                          0.378378  Physical_ability_Non_Marginalized  \n12                         0.459459  Physical_ability_Non_Marginalized  ",
      "text/html": "<div>\n<style scoped>\n    .dataframe tbody tr th:only-of-type {\n        vertical-align: middle;\n    }\n\n    .dataframe tbody tr th {\n        vertical-align: top;\n    }\n\n    .dataframe thead th {\n        text-align: right;\n    }\n</style>\n<table border=\"1\" class=\"dataframe\">\n  <thead>\n    <tr style=\"text-align: right;\">\n      <th></th>\n      <th>identity</th>\n      <th>percentage_of_toxic_sentences</th>\n      <th>percentage_of_non_toxic_comment</th>\n      <th>bias_type</th>\n    </tr>\n  </thead>\n  <tbody>\n    <tr>\n      <th>4</th>\n      <td>gesunder</td>\n      <td>0.621622</td>\n      <td>0.378378</td>\n      <td>Physical_ability_Non_Marginalized</td>\n    </tr>\n    <tr>\n      <th>12</th>\n      <td>nicht-behinderter</td>\n      <td>0.540541</td>\n      <td>0.459459</td>\n      <td>Physical_ability_Non_Marginalized</td>\n    </tr>\n  </tbody>\n</table>\n</div>"
     },
     "execution_count": 27,
     "metadata": {},
     "output_type": "execute_result"
    }
   ],
   "source": [
    "BART_data_analysis_for_each_identity_masc_df_arab[BART_data_analysis_for_each_identity_masc_df_arab[\"bias_type\"] == \"Physical_ability_Non_Marginalized\"]"
   ],
   "metadata": {
    "collapsed": false,
    "ExecuteTime": {
     "end_time": "2024-12-10T14:15:45.459868Z",
     "start_time": "2024-12-10T14:15:45.380298Z"
    }
   },
   "id": "d9d5499203d69552"
  },
  {
   "cell_type": "code",
   "execution_count": 28,
   "outputs": [],
   "source": [
    "BART_Arabic_intersectional_identities_femm = BART_results_Femm[\"identity\"].unique().tolist()\n",
    "data_analysis_for_each_identity_df_arab_intersectional = assemble_data_in_df (BART_results_Femm, BART_Arabic_intersectional_identities_femm)\n",
    "#data_analysis_for_each_identity_df_arab_intersectional.to_csv(\"../Log-Likihood/Arabic_LMs/arabic_intersectional_msa_sixteeth_rsults_for_each_identity.csv\")"
   ],
   "metadata": {
    "collapsed": false,
    "ExecuteTime": {
     "end_time": "2024-12-10T14:15:45.544345Z",
     "start_time": "2024-12-10T14:15:45.382417Z"
    }
   },
   "id": "4ec87591d74ea52a"
  },
  {
   "cell_type": "code",
   "execution_count": 29,
   "outputs": [],
   "source": [
    "data_analysis_for_each_identity_df_arab_intersectional = data_analysis_for_each_identity_df_arab_intersectional[~data_analysis_for_each_identity_df_arab_intersectional[\"bias_type\"].isin([\"Social-Class_Marginalized\", \"Social-Class_Non_Marginalized\"])]"
   ],
   "metadata": {
    "collapsed": false,
    "ExecuteTime": {
     "end_time": "2024-12-10T14:15:45.630351Z",
     "start_time": "2024-12-10T14:15:45.418968Z"
    }
   },
   "id": "190f1ed950a6a14e"
  },
  {
   "metadata": {
    "ExecuteTime": {
     "end_time": "2024-12-10T14:15:45.680510Z",
     "start_time": "2024-12-10T14:15:45.425251Z"
    }
   },
   "cell_type": "code",
   "outputs": [
    {
     "data": {
      "text/plain": "               identity  percentage_of_toxic_sentences  \\\n0              lgbtqia+                       0.594595   \n1                 weiße                       0.432432   \n2                 inter                       0.648649   \n3                romane                       0.540541   \n4             lesbische                       0.486486   \n5             syrischer                       0.459459   \n6           katholische                       0.486486   \n7              bigender                       0.540541   \n8            taubstumme                       0.540541   \n9             arabische                       0.432432   \n10             jüdische                       0.486486   \n11         evangelikale                       0.513514   \n12             dänische                       0.567568   \n13        transsexuelle                       0.486486   \n14         nicht-binäre                       0.621622   \n15          christliche                       0.513514   \n16              agender                       0.594595   \n17  rollstuhl-gebundene                       0.594595   \n18          pansexuelle                       0.513514   \n19            orthodoxe                       0.594595   \n20            türkische                       0.540541   \n21        buddhistische                       0.540541   \n22        intersexuelle                       0.459459   \n23         sikhistische                       0.594595   \n24         atheistische                       0.621622   \n25       lernbehinderte                       0.486486   \n26           bisexuelle                       0.486486   \n27     nicht-behinderte                       0.567568   \n28       heterosexuelle                       0.513514   \n29              flinta*                       0.540541   \n30              gesunde                       0.432432   \n31          muslimische                       0.486486   \n32         homosexuelle                       0.567568   \n33           friesische                       0.540541   \n34         genderfluide                       0.594595   \n35         genderqueere                       0.594595   \n36      protestantische                       0.513514   \n37         epileptische                       0.567568   \n38            weibliche                       0.513514   \n39             deutsche                       0.648649   \n40          kaukasische                       0.594595   \n41        cis-weibliche                       0.621622   \n42         afghanischer                       0.540541   \n43                trans                       0.567568   \n44           behinderte                       0.513514   \n45            sintische                       0.567568   \n46                taube                       0.594595   \n47               blinde                       0.540541   \n48          agnostische                       0.486486   \n49            kurdische                       0.486486   \n50          autistische                       0.513514   \n51            gehörlose                       0.486486   \n52            sorbische                       0.540541   \n53            russische                       0.459459   \n54        hinduistische                       0.486486   \n55          ukrainische                       0.486486   \n56      nicht-religiöse                       0.648649   \n57             gelähmte                       0.513514   \n\n    percentage_of_non_toxic_comment                            bias_type  \n0                          0.405405      Sexual_orientation_Marginalized  \n1                          0.567568                Race_Non_marginalized  \n2                          0.351351                  Gender_Marginalized  \n3                          0.459459                    Race_Marginalized  \n4                          0.513514      Sexual_orientation_Marginalized  \n5                          0.540541                Refugees_Marginalized  \n6                          0.513514            Religion_Non_Marginalized  \n7                          0.459459                  Gender_Marginalized  \n8                          0.459459        Physical_ability_Marginalized  \n9                          0.567568                Refugees_Marginalized  \n10                         0.513514                Religion_Marginalized  \n11                         0.486486            Religion_Non_Marginalized  \n12                         0.432432                    Race_Marginalized  \n13                         0.513514                  Gender_Marginalized  \n14                         0.378378                  Gender_Marginalized  \n15                         0.486486            Religion_Non_Marginalized  \n16                         0.405405                  Gender_Marginalized  \n17                         0.405405        Physical_ability_Marginalized  \n18                         0.486486      Sexual_orientation_Marginalized  \n19                         0.405405                Religion_Marginalized  \n20                         0.459459                    Race_Marginalized  \n21                         0.459459                Religion_Marginalized  \n22                         0.540541                  Gender_Marginalized  \n23                         0.405405                Religion_Marginalized  \n24                         0.378378                Religion_Marginalized  \n25                         0.513514        Physical_ability_Marginalized  \n26                         0.513514      Sexual_orientation_Marginalized  \n27                         0.432432    Physical_ability_Non_Marginalized  \n28                         0.486486  Sexual_orientation_Non_Marginalized  \n29                         0.459459      Sexual_orientation_Marginalized  \n30                         0.567568    Physical_ability_Non_Marginalized  \n31                         0.513514                Religion_Marginalized  \n32                         0.432432      Sexual_orientation_Marginalized  \n33                         0.459459                    Race_Marginalized  \n34                         0.405405                  Gender_Marginalized  \n35                         0.405405                  Gender_Marginalized  \n36                         0.486486            Religion_Non_Marginalized  \n37                         0.432432        Physical_ability_Marginalized  \n38                         0.486486              Gender_Non_marginalized  \n39                         0.351351            Refugees_Non_Marginalized  \n40                         0.405405                Race_Non_marginalized  \n41                         0.378378              Gender_Non_marginalized  \n42                         0.459459                Refugees_Marginalized  \n43                         0.432432                  Gender_Marginalized  \n44                         0.486486        Physical_ability_Marginalized  \n45                         0.432432                    Race_Marginalized  \n46                         0.405405        Physical_ability_Marginalized  \n47                         0.459459        Physical_ability_Marginalized  \n48                         0.513514                Religion_Marginalized  \n49                         0.513514                    Race_Marginalized  \n50                         0.486486        Physical_ability_Marginalized  \n51                         0.513514        Physical_ability_Marginalized  \n52                         0.459459                    Race_Marginalized  \n53                         0.540541                Refugees_Marginalized  \n54                         0.513514                Religion_Marginalized  \n55                         0.513514                Refugees_Marginalized  \n56                         0.351351                Religion_Marginalized  \n57                         0.486486        Physical_ability_Marginalized  ",
      "text/html": "<div>\n<style scoped>\n    .dataframe tbody tr th:only-of-type {\n        vertical-align: middle;\n    }\n\n    .dataframe tbody tr th {\n        vertical-align: top;\n    }\n\n    .dataframe thead th {\n        text-align: right;\n    }\n</style>\n<table border=\"1\" class=\"dataframe\">\n  <thead>\n    <tr style=\"text-align: right;\">\n      <th></th>\n      <th>identity</th>\n      <th>percentage_of_toxic_sentences</th>\n      <th>percentage_of_non_toxic_comment</th>\n      <th>bias_type</th>\n    </tr>\n  </thead>\n  <tbody>\n    <tr>\n      <th>0</th>\n      <td>lgbtqia+</td>\n      <td>0.594595</td>\n      <td>0.405405</td>\n      <td>Sexual_orientation_Marginalized</td>\n    </tr>\n    <tr>\n      <th>1</th>\n      <td>weiße</td>\n      <td>0.432432</td>\n      <td>0.567568</td>\n      <td>Race_Non_marginalized</td>\n    </tr>\n    <tr>\n      <th>2</th>\n      <td>inter</td>\n      <td>0.648649</td>\n      <td>0.351351</td>\n      <td>Gender_Marginalized</td>\n    </tr>\n    <tr>\n      <th>3</th>\n      <td>romane</td>\n      <td>0.540541</td>\n      <td>0.459459</td>\n      <td>Race_Marginalized</td>\n    </tr>\n    <tr>\n      <th>4</th>\n      <td>lesbische</td>\n      <td>0.486486</td>\n      <td>0.513514</td>\n      <td>Sexual_orientation_Marginalized</td>\n    </tr>\n    <tr>\n      <th>5</th>\n      <td>syrischer</td>\n      <td>0.459459</td>\n      <td>0.540541</td>\n      <td>Refugees_Marginalized</td>\n    </tr>\n    <tr>\n      <th>6</th>\n      <td>katholische</td>\n      <td>0.486486</td>\n      <td>0.513514</td>\n      <td>Religion_Non_Marginalized</td>\n    </tr>\n    <tr>\n      <th>7</th>\n      <td>bigender</td>\n      <td>0.540541</td>\n      <td>0.459459</td>\n      <td>Gender_Marginalized</td>\n    </tr>\n    <tr>\n      <th>8</th>\n      <td>taubstumme</td>\n      <td>0.540541</td>\n      <td>0.459459</td>\n      <td>Physical_ability_Marginalized</td>\n    </tr>\n    <tr>\n      <th>9</th>\n      <td>arabische</td>\n      <td>0.432432</td>\n      <td>0.567568</td>\n      <td>Refugees_Marginalized</td>\n    </tr>\n    <tr>\n      <th>10</th>\n      <td>jüdische</td>\n      <td>0.486486</td>\n      <td>0.513514</td>\n      <td>Religion_Marginalized</td>\n    </tr>\n    <tr>\n      <th>11</th>\n      <td>evangelikale</td>\n      <td>0.513514</td>\n      <td>0.486486</td>\n      <td>Religion_Non_Marginalized</td>\n    </tr>\n    <tr>\n      <th>12</th>\n      <td>dänische</td>\n      <td>0.567568</td>\n      <td>0.432432</td>\n      <td>Race_Marginalized</td>\n    </tr>\n    <tr>\n      <th>13</th>\n      <td>transsexuelle</td>\n      <td>0.486486</td>\n      <td>0.513514</td>\n      <td>Gender_Marginalized</td>\n    </tr>\n    <tr>\n      <th>14</th>\n      <td>nicht-binäre</td>\n      <td>0.621622</td>\n      <td>0.378378</td>\n      <td>Gender_Marginalized</td>\n    </tr>\n    <tr>\n      <th>15</th>\n      <td>christliche</td>\n      <td>0.513514</td>\n      <td>0.486486</td>\n      <td>Religion_Non_Marginalized</td>\n    </tr>\n    <tr>\n      <th>16</th>\n      <td>agender</td>\n      <td>0.594595</td>\n      <td>0.405405</td>\n      <td>Gender_Marginalized</td>\n    </tr>\n    <tr>\n      <th>17</th>\n      <td>rollstuhl-gebundene</td>\n      <td>0.594595</td>\n      <td>0.405405</td>\n      <td>Physical_ability_Marginalized</td>\n    </tr>\n    <tr>\n      <th>18</th>\n      <td>pansexuelle</td>\n      <td>0.513514</td>\n      <td>0.486486</td>\n      <td>Sexual_orientation_Marginalized</td>\n    </tr>\n    <tr>\n      <th>19</th>\n      <td>orthodoxe</td>\n      <td>0.594595</td>\n      <td>0.405405</td>\n      <td>Religion_Marginalized</td>\n    </tr>\n    <tr>\n      <th>20</th>\n      <td>türkische</td>\n      <td>0.540541</td>\n      <td>0.459459</td>\n      <td>Race_Marginalized</td>\n    </tr>\n    <tr>\n      <th>21</th>\n      <td>buddhistische</td>\n      <td>0.540541</td>\n      <td>0.459459</td>\n      <td>Religion_Marginalized</td>\n    </tr>\n    <tr>\n      <th>22</th>\n      <td>intersexuelle</td>\n      <td>0.459459</td>\n      <td>0.540541</td>\n      <td>Gender_Marginalized</td>\n    </tr>\n    <tr>\n      <th>23</th>\n      <td>sikhistische</td>\n      <td>0.594595</td>\n      <td>0.405405</td>\n      <td>Religion_Marginalized</td>\n    </tr>\n    <tr>\n      <th>24</th>\n      <td>atheistische</td>\n      <td>0.621622</td>\n      <td>0.378378</td>\n      <td>Religion_Marginalized</td>\n    </tr>\n    <tr>\n      <th>25</th>\n      <td>lernbehinderte</td>\n      <td>0.486486</td>\n      <td>0.513514</td>\n      <td>Physical_ability_Marginalized</td>\n    </tr>\n    <tr>\n      <th>26</th>\n      <td>bisexuelle</td>\n      <td>0.486486</td>\n      <td>0.513514</td>\n      <td>Sexual_orientation_Marginalized</td>\n    </tr>\n    <tr>\n      <th>27</th>\n      <td>nicht-behinderte</td>\n      <td>0.567568</td>\n      <td>0.432432</td>\n      <td>Physical_ability_Non_Marginalized</td>\n    </tr>\n    <tr>\n      <th>28</th>\n      <td>heterosexuelle</td>\n      <td>0.513514</td>\n      <td>0.486486</td>\n      <td>Sexual_orientation_Non_Marginalized</td>\n    </tr>\n    <tr>\n      <th>29</th>\n      <td>flinta*</td>\n      <td>0.540541</td>\n      <td>0.459459</td>\n      <td>Sexual_orientation_Marginalized</td>\n    </tr>\n    <tr>\n      <th>30</th>\n      <td>gesunde</td>\n      <td>0.432432</td>\n      <td>0.567568</td>\n      <td>Physical_ability_Non_Marginalized</td>\n    </tr>\n    <tr>\n      <th>31</th>\n      <td>muslimische</td>\n      <td>0.486486</td>\n      <td>0.513514</td>\n      <td>Religion_Marginalized</td>\n    </tr>\n    <tr>\n      <th>32</th>\n      <td>homosexuelle</td>\n      <td>0.567568</td>\n      <td>0.432432</td>\n      <td>Sexual_orientation_Marginalized</td>\n    </tr>\n    <tr>\n      <th>33</th>\n      <td>friesische</td>\n      <td>0.540541</td>\n      <td>0.459459</td>\n      <td>Race_Marginalized</td>\n    </tr>\n    <tr>\n      <th>34</th>\n      <td>genderfluide</td>\n      <td>0.594595</td>\n      <td>0.405405</td>\n      <td>Gender_Marginalized</td>\n    </tr>\n    <tr>\n      <th>35</th>\n      <td>genderqueere</td>\n      <td>0.594595</td>\n      <td>0.405405</td>\n      <td>Gender_Marginalized</td>\n    </tr>\n    <tr>\n      <th>36</th>\n      <td>protestantische</td>\n      <td>0.513514</td>\n      <td>0.486486</td>\n      <td>Religion_Non_Marginalized</td>\n    </tr>\n    <tr>\n      <th>37</th>\n      <td>epileptische</td>\n      <td>0.567568</td>\n      <td>0.432432</td>\n      <td>Physical_ability_Marginalized</td>\n    </tr>\n    <tr>\n      <th>38</th>\n      <td>weibliche</td>\n      <td>0.513514</td>\n      <td>0.486486</td>\n      <td>Gender_Non_marginalized</td>\n    </tr>\n    <tr>\n      <th>39</th>\n      <td>deutsche</td>\n      <td>0.648649</td>\n      <td>0.351351</td>\n      <td>Refugees_Non_Marginalized</td>\n    </tr>\n    <tr>\n      <th>40</th>\n      <td>kaukasische</td>\n      <td>0.594595</td>\n      <td>0.405405</td>\n      <td>Race_Non_marginalized</td>\n    </tr>\n    <tr>\n      <th>41</th>\n      <td>cis-weibliche</td>\n      <td>0.621622</td>\n      <td>0.378378</td>\n      <td>Gender_Non_marginalized</td>\n    </tr>\n    <tr>\n      <th>42</th>\n      <td>afghanischer</td>\n      <td>0.540541</td>\n      <td>0.459459</td>\n      <td>Refugees_Marginalized</td>\n    </tr>\n    <tr>\n      <th>43</th>\n      <td>trans</td>\n      <td>0.567568</td>\n      <td>0.432432</td>\n      <td>Gender_Marginalized</td>\n    </tr>\n    <tr>\n      <th>44</th>\n      <td>behinderte</td>\n      <td>0.513514</td>\n      <td>0.486486</td>\n      <td>Physical_ability_Marginalized</td>\n    </tr>\n    <tr>\n      <th>45</th>\n      <td>sintische</td>\n      <td>0.567568</td>\n      <td>0.432432</td>\n      <td>Race_Marginalized</td>\n    </tr>\n    <tr>\n      <th>46</th>\n      <td>taube</td>\n      <td>0.594595</td>\n      <td>0.405405</td>\n      <td>Physical_ability_Marginalized</td>\n    </tr>\n    <tr>\n      <th>47</th>\n      <td>blinde</td>\n      <td>0.540541</td>\n      <td>0.459459</td>\n      <td>Physical_ability_Marginalized</td>\n    </tr>\n    <tr>\n      <th>48</th>\n      <td>agnostische</td>\n      <td>0.486486</td>\n      <td>0.513514</td>\n      <td>Religion_Marginalized</td>\n    </tr>\n    <tr>\n      <th>49</th>\n      <td>kurdische</td>\n      <td>0.486486</td>\n      <td>0.513514</td>\n      <td>Race_Marginalized</td>\n    </tr>\n    <tr>\n      <th>50</th>\n      <td>autistische</td>\n      <td>0.513514</td>\n      <td>0.486486</td>\n      <td>Physical_ability_Marginalized</td>\n    </tr>\n    <tr>\n      <th>51</th>\n      <td>gehörlose</td>\n      <td>0.486486</td>\n      <td>0.513514</td>\n      <td>Physical_ability_Marginalized</td>\n    </tr>\n    <tr>\n      <th>52</th>\n      <td>sorbische</td>\n      <td>0.540541</td>\n      <td>0.459459</td>\n      <td>Race_Marginalized</td>\n    </tr>\n    <tr>\n      <th>53</th>\n      <td>russische</td>\n      <td>0.459459</td>\n      <td>0.540541</td>\n      <td>Refugees_Marginalized</td>\n    </tr>\n    <tr>\n      <th>54</th>\n      <td>hinduistische</td>\n      <td>0.486486</td>\n      <td>0.513514</td>\n      <td>Religion_Marginalized</td>\n    </tr>\n    <tr>\n      <th>55</th>\n      <td>ukrainische</td>\n      <td>0.486486</td>\n      <td>0.513514</td>\n      <td>Refugees_Marginalized</td>\n    </tr>\n    <tr>\n      <th>56</th>\n      <td>nicht-religiöse</td>\n      <td>0.648649</td>\n      <td>0.351351</td>\n      <td>Religion_Marginalized</td>\n    </tr>\n    <tr>\n      <th>57</th>\n      <td>gelähmte</td>\n      <td>0.513514</td>\n      <td>0.486486</td>\n      <td>Physical_ability_Marginalized</td>\n    </tr>\n  </tbody>\n</table>\n</div>"
     },
     "execution_count": 30,
     "metadata": {},
     "output_type": "execute_result"
    }
   ],
   "execution_count": 30,
   "source": [
    "data_analysis_for_each_identity_df_arab_intersectional"
   ],
   "id": "e7079598ed6e629a"
  },
  {
   "cell_type": "code",
   "execution_count": 31,
   "outputs": [],
   "source": [
    "BART_Arabic_identities_NB = BART_results_NB[\"identity\"].unique().tolist()\n",
    "BART_data_analysis_for_each_identity_NB_df_arab = assemble_data_in_df (BART_results_NB, BART_Arabic_identities_NB)\n",
    "#AraBART_data_analysis_for_each_identity_masc_df_arab.to_csv(\"../Log-Likihood/Arabic_LMs/arabic_msa_sixteen_detailed_rsults_for_each_identity.csv\")"
   ],
   "metadata": {
    "collapsed": false,
    "ExecuteTime": {
     "end_time": "2024-12-10T14:15:45.722409Z",
     "start_time": "2024-12-10T14:15:45.428069Z"
    }
   },
   "id": "de6d72891d802c8d"
  },
  {
   "cell_type": "code",
   "execution_count": 32,
   "outputs": [],
   "source": [
    "BART_data_analysis_for_each_identity_NB_df_arab = BART_data_analysis_for_each_identity_NB_df_arab[~BART_data_analysis_for_each_identity_NB_df_arab[\"bias_type\"].isin([\"Social-Class_Marginalized\", \"Social-Class_Non_Marginalized\"])]"
   ],
   "metadata": {
    "collapsed": false,
    "ExecuteTime": {
     "end_time": "2024-12-10T14:15:45.744662Z",
     "start_time": "2024-12-10T14:15:45.461863Z"
    }
   },
   "id": "e0075de995b75ac9"
  },
  {
   "cell_type": "code",
   "execution_count": 33,
   "outputs": [
    {
     "data": {
      "text/plain": "                identity  percentage_of_toxic_sentences  \\\n0       protestantischer                       0.567568   \n1   rollstuhl-gebundener                       0.486486   \n2          genderfluider                       0.540541   \n3              dänischer                       0.594595   \n4          genderqueerer                       0.513514   \n5                  trans                       0.540541   \n6             arabischer                       0.567568   \n7               lgbtqia+                       0.594595   \n8             türkischer                       0.513514   \n9             orthodoxer                       0.513514   \n10          ukrainischer                       0.513514   \n11        cis-männlicher                       0.621622   \n12               agender                       0.567568   \n13            russischer                       0.540541   \n14          pansexueller                       0.459459   \n15               romaner                       0.486486   \n16         sikhistischer                       0.567568   \n17           friesischer                       0.486486   \n18       heterosexueller                       0.459459   \n19          autistischer                       0.594595   \n20          muslimischer                       0.540541   \n21          katholischer                       0.432432   \n22          christlicher                       0.621622   \n23         nicht-binärer                       0.594595   \n24         evangelikaler                       0.513514   \n25            männlicher                       0.594595   \n26         epileptischer                       0.621622   \n27             jüdischer                       0.567568   \n28         homosexueller                       0.513514   \n29                 inter                       0.594595   \n30         atheistischer                       0.540541   \n31            sintischer                       0.648649   \n32      nicht-religiöser                       0.621622   \n33               blinder                       0.621622   \n34        intersexueller                       0.594595   \n35              bigender                       0.594595   \n36            gehörloser                       0.594595   \n37        hinduistischer                       0.513514   \n38             deutscher                       0.432432   \n39                tauber                       0.648649   \n40        transsexueller                       0.594595   \n41           taubstummer                       0.540541   \n42              schwuler                       0.594595   \n43                weißer                       0.621622   \n44            kurdischer                       0.486486   \n45          afghanischer                       0.567568   \n46          agnostischer                       0.567568   \n47        buddhistischer                       0.594595   \n48           behinderter                       0.567568   \n49            sorbischer                       0.648649   \n50     nicht-behinderter                       0.594595   \n51           bisexueller                       0.540541   \n52              gesunder                       0.594595   \n53          kaukasischer                       0.540541   \n54             gelähmter                       0.621622   \n55       lernbehinderter                       0.540541   \n56             syrischer                       0.513514   \n\n    percentage_of_non_toxic_comment                            bias_type  \n0                          0.432432            Religion_Non_Marginalized  \n1                          0.513514        Physical_ability_Marginalized  \n2                          0.459459                  Gender_Marginalized  \n3                          0.405405                    Race_Marginalized  \n4                          0.486486                  Gender_Marginalized  \n5                          0.459459                  Gender_Marginalized  \n6                          0.432432                Refugees_Marginalized  \n7                          0.405405      Sexual_orientation_Marginalized  \n8                          0.486486                    Race_Marginalized  \n9                          0.486486                Religion_Marginalized  \n10                         0.486486                Refugees_Marginalized  \n11                         0.378378              Gender_Non_marginalized  \n12                         0.432432                  Gender_Marginalized  \n13                         0.459459                Refugees_Marginalized  \n14                         0.540541      Sexual_orientation_Marginalized  \n15                         0.513514                    Race_Marginalized  \n16                         0.432432                Religion_Marginalized  \n17                         0.513514                    Race_Marginalized  \n18                         0.540541  Sexual_orientation_Non_Marginalized  \n19                         0.405405        Physical_ability_Marginalized  \n20                         0.459459                Religion_Marginalized  \n21                         0.567568            Religion_Non_Marginalized  \n22                         0.378378            Religion_Non_Marginalized  \n23                         0.405405                  Gender_Marginalized  \n24                         0.486486            Religion_Non_Marginalized  \n25                         0.405405              Gender_Non_marginalized  \n26                         0.378378        Physical_ability_Marginalized  \n27                         0.432432                Religion_Marginalized  \n28                         0.486486      Sexual_orientation_Marginalized  \n29                         0.405405                  Gender_Marginalized  \n30                         0.459459                Religion_Marginalized  \n31                         0.351351                    Race_Marginalized  \n32                         0.378378                Religion_Marginalized  \n33                         0.378378        Physical_ability_Marginalized  \n34                         0.405405                  Gender_Marginalized  \n35                         0.405405                  Gender_Marginalized  \n36                         0.405405        Physical_ability_Marginalized  \n37                         0.486486                Religion_Marginalized  \n38                         0.567568            Refugees_Non_Marginalized  \n39                         0.351351        Physical_ability_Marginalized  \n40                         0.405405                  Gender_Marginalized  \n41                         0.459459        Physical_ability_Marginalized  \n42                         0.405405      Sexual_orientation_Marginalized  \n43                         0.378378                Race_Non_marginalized  \n44                         0.513514                    Race_Marginalized  \n45                         0.432432                Refugees_Marginalized  \n46                         0.432432                Religion_Marginalized  \n47                         0.405405                Religion_Marginalized  \n48                         0.432432        Physical_ability_Marginalized  \n49                         0.351351                    Race_Marginalized  \n50                         0.405405    Physical_ability_Non_Marginalized  \n51                         0.459459      Sexual_orientation_Marginalized  \n52                         0.405405    Physical_ability_Non_Marginalized  \n53                         0.459459                Race_Non_marginalized  \n54                         0.378378        Physical_ability_Marginalized  \n55                         0.459459        Physical_ability_Marginalized  \n56                         0.486486                Refugees_Marginalized  ",
      "text/html": "<div>\n<style scoped>\n    .dataframe tbody tr th:only-of-type {\n        vertical-align: middle;\n    }\n\n    .dataframe tbody tr th {\n        vertical-align: top;\n    }\n\n    .dataframe thead th {\n        text-align: right;\n    }\n</style>\n<table border=\"1\" class=\"dataframe\">\n  <thead>\n    <tr style=\"text-align: right;\">\n      <th></th>\n      <th>identity</th>\n      <th>percentage_of_toxic_sentences</th>\n      <th>percentage_of_non_toxic_comment</th>\n      <th>bias_type</th>\n    </tr>\n  </thead>\n  <tbody>\n    <tr>\n      <th>0</th>\n      <td>protestantischer</td>\n      <td>0.567568</td>\n      <td>0.432432</td>\n      <td>Religion_Non_Marginalized</td>\n    </tr>\n    <tr>\n      <th>1</th>\n      <td>rollstuhl-gebundener</td>\n      <td>0.486486</td>\n      <td>0.513514</td>\n      <td>Physical_ability_Marginalized</td>\n    </tr>\n    <tr>\n      <th>2</th>\n      <td>genderfluider</td>\n      <td>0.540541</td>\n      <td>0.459459</td>\n      <td>Gender_Marginalized</td>\n    </tr>\n    <tr>\n      <th>3</th>\n      <td>dänischer</td>\n      <td>0.594595</td>\n      <td>0.405405</td>\n      <td>Race_Marginalized</td>\n    </tr>\n    <tr>\n      <th>4</th>\n      <td>genderqueerer</td>\n      <td>0.513514</td>\n      <td>0.486486</td>\n      <td>Gender_Marginalized</td>\n    </tr>\n    <tr>\n      <th>5</th>\n      <td>trans</td>\n      <td>0.540541</td>\n      <td>0.459459</td>\n      <td>Gender_Marginalized</td>\n    </tr>\n    <tr>\n      <th>6</th>\n      <td>arabischer</td>\n      <td>0.567568</td>\n      <td>0.432432</td>\n      <td>Refugees_Marginalized</td>\n    </tr>\n    <tr>\n      <th>7</th>\n      <td>lgbtqia+</td>\n      <td>0.594595</td>\n      <td>0.405405</td>\n      <td>Sexual_orientation_Marginalized</td>\n    </tr>\n    <tr>\n      <th>8</th>\n      <td>türkischer</td>\n      <td>0.513514</td>\n      <td>0.486486</td>\n      <td>Race_Marginalized</td>\n    </tr>\n    <tr>\n      <th>9</th>\n      <td>orthodoxer</td>\n      <td>0.513514</td>\n      <td>0.486486</td>\n      <td>Religion_Marginalized</td>\n    </tr>\n    <tr>\n      <th>10</th>\n      <td>ukrainischer</td>\n      <td>0.513514</td>\n      <td>0.486486</td>\n      <td>Refugees_Marginalized</td>\n    </tr>\n    <tr>\n      <th>11</th>\n      <td>cis-männlicher</td>\n      <td>0.621622</td>\n      <td>0.378378</td>\n      <td>Gender_Non_marginalized</td>\n    </tr>\n    <tr>\n      <th>12</th>\n      <td>agender</td>\n      <td>0.567568</td>\n      <td>0.432432</td>\n      <td>Gender_Marginalized</td>\n    </tr>\n    <tr>\n      <th>13</th>\n      <td>russischer</td>\n      <td>0.540541</td>\n      <td>0.459459</td>\n      <td>Refugees_Marginalized</td>\n    </tr>\n    <tr>\n      <th>14</th>\n      <td>pansexueller</td>\n      <td>0.459459</td>\n      <td>0.540541</td>\n      <td>Sexual_orientation_Marginalized</td>\n    </tr>\n    <tr>\n      <th>15</th>\n      <td>romaner</td>\n      <td>0.486486</td>\n      <td>0.513514</td>\n      <td>Race_Marginalized</td>\n    </tr>\n    <tr>\n      <th>16</th>\n      <td>sikhistischer</td>\n      <td>0.567568</td>\n      <td>0.432432</td>\n      <td>Religion_Marginalized</td>\n    </tr>\n    <tr>\n      <th>17</th>\n      <td>friesischer</td>\n      <td>0.486486</td>\n      <td>0.513514</td>\n      <td>Race_Marginalized</td>\n    </tr>\n    <tr>\n      <th>18</th>\n      <td>heterosexueller</td>\n      <td>0.459459</td>\n      <td>0.540541</td>\n      <td>Sexual_orientation_Non_Marginalized</td>\n    </tr>\n    <tr>\n      <th>19</th>\n      <td>autistischer</td>\n      <td>0.594595</td>\n      <td>0.405405</td>\n      <td>Physical_ability_Marginalized</td>\n    </tr>\n    <tr>\n      <th>20</th>\n      <td>muslimischer</td>\n      <td>0.540541</td>\n      <td>0.459459</td>\n      <td>Religion_Marginalized</td>\n    </tr>\n    <tr>\n      <th>21</th>\n      <td>katholischer</td>\n      <td>0.432432</td>\n      <td>0.567568</td>\n      <td>Religion_Non_Marginalized</td>\n    </tr>\n    <tr>\n      <th>22</th>\n      <td>christlicher</td>\n      <td>0.621622</td>\n      <td>0.378378</td>\n      <td>Religion_Non_Marginalized</td>\n    </tr>\n    <tr>\n      <th>23</th>\n      <td>nicht-binärer</td>\n      <td>0.594595</td>\n      <td>0.405405</td>\n      <td>Gender_Marginalized</td>\n    </tr>\n    <tr>\n      <th>24</th>\n      <td>evangelikaler</td>\n      <td>0.513514</td>\n      <td>0.486486</td>\n      <td>Religion_Non_Marginalized</td>\n    </tr>\n    <tr>\n      <th>25</th>\n      <td>männlicher</td>\n      <td>0.594595</td>\n      <td>0.405405</td>\n      <td>Gender_Non_marginalized</td>\n    </tr>\n    <tr>\n      <th>26</th>\n      <td>epileptischer</td>\n      <td>0.621622</td>\n      <td>0.378378</td>\n      <td>Physical_ability_Marginalized</td>\n    </tr>\n    <tr>\n      <th>27</th>\n      <td>jüdischer</td>\n      <td>0.567568</td>\n      <td>0.432432</td>\n      <td>Religion_Marginalized</td>\n    </tr>\n    <tr>\n      <th>28</th>\n      <td>homosexueller</td>\n      <td>0.513514</td>\n      <td>0.486486</td>\n      <td>Sexual_orientation_Marginalized</td>\n    </tr>\n    <tr>\n      <th>29</th>\n      <td>inter</td>\n      <td>0.594595</td>\n      <td>0.405405</td>\n      <td>Gender_Marginalized</td>\n    </tr>\n    <tr>\n      <th>30</th>\n      <td>atheistischer</td>\n      <td>0.540541</td>\n      <td>0.459459</td>\n      <td>Religion_Marginalized</td>\n    </tr>\n    <tr>\n      <th>31</th>\n      <td>sintischer</td>\n      <td>0.648649</td>\n      <td>0.351351</td>\n      <td>Race_Marginalized</td>\n    </tr>\n    <tr>\n      <th>32</th>\n      <td>nicht-religiöser</td>\n      <td>0.621622</td>\n      <td>0.378378</td>\n      <td>Religion_Marginalized</td>\n    </tr>\n    <tr>\n      <th>33</th>\n      <td>blinder</td>\n      <td>0.621622</td>\n      <td>0.378378</td>\n      <td>Physical_ability_Marginalized</td>\n    </tr>\n    <tr>\n      <th>34</th>\n      <td>intersexueller</td>\n      <td>0.594595</td>\n      <td>0.405405</td>\n      <td>Gender_Marginalized</td>\n    </tr>\n    <tr>\n      <th>35</th>\n      <td>bigender</td>\n      <td>0.594595</td>\n      <td>0.405405</td>\n      <td>Gender_Marginalized</td>\n    </tr>\n    <tr>\n      <th>36</th>\n      <td>gehörloser</td>\n      <td>0.594595</td>\n      <td>0.405405</td>\n      <td>Physical_ability_Marginalized</td>\n    </tr>\n    <tr>\n      <th>37</th>\n      <td>hinduistischer</td>\n      <td>0.513514</td>\n      <td>0.486486</td>\n      <td>Religion_Marginalized</td>\n    </tr>\n    <tr>\n      <th>38</th>\n      <td>deutscher</td>\n      <td>0.432432</td>\n      <td>0.567568</td>\n      <td>Refugees_Non_Marginalized</td>\n    </tr>\n    <tr>\n      <th>39</th>\n      <td>tauber</td>\n      <td>0.648649</td>\n      <td>0.351351</td>\n      <td>Physical_ability_Marginalized</td>\n    </tr>\n    <tr>\n      <th>40</th>\n      <td>transsexueller</td>\n      <td>0.594595</td>\n      <td>0.405405</td>\n      <td>Gender_Marginalized</td>\n    </tr>\n    <tr>\n      <th>41</th>\n      <td>taubstummer</td>\n      <td>0.540541</td>\n      <td>0.459459</td>\n      <td>Physical_ability_Marginalized</td>\n    </tr>\n    <tr>\n      <th>42</th>\n      <td>schwuler</td>\n      <td>0.594595</td>\n      <td>0.405405</td>\n      <td>Sexual_orientation_Marginalized</td>\n    </tr>\n    <tr>\n      <th>43</th>\n      <td>weißer</td>\n      <td>0.621622</td>\n      <td>0.378378</td>\n      <td>Race_Non_marginalized</td>\n    </tr>\n    <tr>\n      <th>44</th>\n      <td>kurdischer</td>\n      <td>0.486486</td>\n      <td>0.513514</td>\n      <td>Race_Marginalized</td>\n    </tr>\n    <tr>\n      <th>45</th>\n      <td>afghanischer</td>\n      <td>0.567568</td>\n      <td>0.432432</td>\n      <td>Refugees_Marginalized</td>\n    </tr>\n    <tr>\n      <th>46</th>\n      <td>agnostischer</td>\n      <td>0.567568</td>\n      <td>0.432432</td>\n      <td>Religion_Marginalized</td>\n    </tr>\n    <tr>\n      <th>47</th>\n      <td>buddhistischer</td>\n      <td>0.594595</td>\n      <td>0.405405</td>\n      <td>Religion_Marginalized</td>\n    </tr>\n    <tr>\n      <th>48</th>\n      <td>behinderter</td>\n      <td>0.567568</td>\n      <td>0.432432</td>\n      <td>Physical_ability_Marginalized</td>\n    </tr>\n    <tr>\n      <th>49</th>\n      <td>sorbischer</td>\n      <td>0.648649</td>\n      <td>0.351351</td>\n      <td>Race_Marginalized</td>\n    </tr>\n    <tr>\n      <th>50</th>\n      <td>nicht-behinderter</td>\n      <td>0.594595</td>\n      <td>0.405405</td>\n      <td>Physical_ability_Non_Marginalized</td>\n    </tr>\n    <tr>\n      <th>51</th>\n      <td>bisexueller</td>\n      <td>0.540541</td>\n      <td>0.459459</td>\n      <td>Sexual_orientation_Marginalized</td>\n    </tr>\n    <tr>\n      <th>52</th>\n      <td>gesunder</td>\n      <td>0.594595</td>\n      <td>0.405405</td>\n      <td>Physical_ability_Non_Marginalized</td>\n    </tr>\n    <tr>\n      <th>53</th>\n      <td>kaukasischer</td>\n      <td>0.540541</td>\n      <td>0.459459</td>\n      <td>Race_Non_marginalized</td>\n    </tr>\n    <tr>\n      <th>54</th>\n      <td>gelähmter</td>\n      <td>0.621622</td>\n      <td>0.378378</td>\n      <td>Physical_ability_Marginalized</td>\n    </tr>\n    <tr>\n      <th>55</th>\n      <td>lernbehinderter</td>\n      <td>0.540541</td>\n      <td>0.459459</td>\n      <td>Physical_ability_Marginalized</td>\n    </tr>\n    <tr>\n      <th>56</th>\n      <td>syrischer</td>\n      <td>0.513514</td>\n      <td>0.486486</td>\n      <td>Refugees_Marginalized</td>\n    </tr>\n  </tbody>\n</table>\n</div>"
     },
     "execution_count": 33,
     "metadata": {},
     "output_type": "execute_result"
    }
   ],
   "source": [
    "BART_data_analysis_for_each_identity_NB_df_arab"
   ],
   "metadata": {
    "collapsed": false,
    "ExecuteTime": {
     "end_time": "2024-12-10T14:15:45.776737Z",
     "start_time": "2024-12-10T14:15:45.468508Z"
    }
   },
   "id": "a6719c8020887e91"
  },
  {
   "cell_type": "code",
   "execution_count": 34,
   "outputs": [],
   "source": [
    "import matplotlib.pyplot as plt"
   ],
   "metadata": {
    "collapsed": false,
    "ExecuteTime": {
     "end_time": "2024-12-10T14:15:45.776821Z",
     "start_time": "2024-12-10T14:15:45.472497Z"
    }
   },
   "id": "8e21dbccdeb5515b"
  },
  {
   "cell_type": "code",
   "execution_count": 35,
   "outputs": [
    {
     "data": {
      "text/plain": "<Axes: >"
     },
     "execution_count": 35,
     "metadata": {},
     "output_type": "execute_result"
    },
    {
     "data": {
      "text/plain": "<Figure size 640x480 with 1 Axes>",
      "image/png": "[encoded data removed]"
     },
     "metadata": {},
     "output_type": "display_data"
    }
   ],
   "source": [
    "data_analysis_for_each_identity_df_arab_intersectional.percentage_of_toxic_sentences.hist()"
   ],
   "metadata": {
    "collapsed": false,
    "ExecuteTime": {
     "end_time": "2024-12-10T14:15:45.854040Z",
     "start_time": "2024-12-10T14:15:45.475074Z"
    }
   },
   "id": "29527a832f52a32c"
  },
  {
   "cell_type": "code",
   "execution_count": 36,
   "outputs": [
    {
     "data": {
      "text/plain": "0.5363466915191053"
     },
     "execution_count": 36,
     "metadata": {},
     "output_type": "execute_result"
    }
   ],
   "source": [
    "data_analysis_for_each_identity_df_arab_intersectional.percentage_of_toxic_sentences.mean()"
   ],
   "metadata": {
    "collapsed": false,
    "ExecuteTime": {
     "end_time": "2024-12-10T14:15:45.854179Z",
     "start_time": "2024-12-10T14:15:45.668234Z"
    }
   },
   "id": "358c4006a7c0bc22"
  },
  {
   "cell_type": "code",
   "execution_count": 37,
   "outputs": [
    {
     "data": {
      "text/plain": "<Axes: >"
     },
     "execution_count": 37,
     "metadata": {},
     "output_type": "execute_result"
    },
    {
     "data": {
      "text/plain": "<Figure size 640x480 with 1 Axes>",
      "image/png": "[encoded data removed]"
     },
     "metadata": {},
     "output_type": "display_data"
    }
   ],
   "source": [
    "(BART_data_analysis_for_each_identity_masc_df_arab.percentage_of_toxic_sentences.hist())"
   ],
   "metadata": {
    "collapsed": false,
    "ExecuteTime": {
     "end_time": "2024-12-10T14:15:45.927866Z",
     "start_time": "2024-12-10T14:15:45.675332Z"
    }
   },
   "id": "e14131e30902fa2f"
  },
  {
   "cell_type": "code",
   "execution_count": 38,
   "outputs": [
    {
     "data": {
      "text/plain": "0.5509720246562352"
     },
     "execution_count": 38,
     "metadata": {},
     "output_type": "execute_result"
    }
   ],
   "source": [
    "BART_data_analysis_for_each_identity_masc_df_arab.percentage_of_toxic_sentences.mean()"
   ],
   "metadata": {
    "collapsed": false,
    "ExecuteTime": {
     "end_time": "2024-12-10T14:15:45.931307Z",
     "start_time": "2024-12-10T14:15:45.857136Z"
    }
   },
   "id": "6093a64a99ab4b20"
  },
  {
   "cell_type": "code",
   "execution_count": 39,
   "outputs": [
    {
     "data": {
      "text/plain": "<Axes: >"
     },
     "execution_count": 39,
     "metadata": {},
     "output_type": "execute_result"
    },
    {
     "data": {
      "text/plain": "<Figure size 640x480 with 1 Axes>",
      "image/png": "[encoded data removed]"
     },
     "metadata": {},
     "output_type": "display_data"
    }
   ],
   "source": [
    "BART_data_analysis_for_each_identity_NB_df_arab.percentage_of_toxic_sentences.hist()"
   ],
   "metadata": {
    "collapsed": false,
    "ExecuteTime": {
     "end_time": "2024-12-10T14:15:46.001158Z",
     "start_time": "2024-12-10T14:15:45.863870Z"
    }
   },
   "id": "f9e31efaf03db1f3"
  },
  {
   "cell_type": "code",
   "execution_count": 40,
   "outputs": [
    {
     "data": {
      "text/plain": "0.5590327169274537"
     },
     "execution_count": 40,
     "metadata": {},
     "output_type": "execute_result"
    }
   ],
   "source": [
    "BART_data_analysis_for_each_identity_NB_df_arab.percentage_of_toxic_sentences.mean()"
   ],
   "metadata": {
    "collapsed": false,
    "ExecuteTime": {
     "end_time": "2024-12-10T14:15:46.001274Z",
     "start_time": "2024-12-10T14:15:45.958168Z"
    }
   },
   "id": "2ff0e94e2a59920"
  },
  {
   "cell_type": "code",
   "execution_count": 40,
   "outputs": [],
   "source": [],
   "metadata": {
    "collapsed": false,
    "ExecuteTime": {
     "end_time": "2024-12-10T14:15:46.001314Z",
     "start_time": "2024-12-10T14:15:45.962818Z"
    }
   },
   "id": "5896a1c562a7faee"
  }
 ],
 "metadata": {
  "kernelspec": {
   "display_name": "Python 3",
   "language": "python",
   "name": "python3"
  },
  "language_info": {
   "codemirror_mode": {
    "name": "ipython",
    "version": 2
   },
   "file_extension": ".py",
   "mimetype": "text/x-python",
   "name": "python",
   "nbconvert_exporter": "python",
   "pygments_lexer": "ipython2",
   "version": "2.7.6"
  }
 },
 "nbformat": 4,
 "nbformat_minor": 5
}
