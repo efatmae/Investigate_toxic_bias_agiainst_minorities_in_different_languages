{
 "cells": [
  {
   "cell_type": "code",
   "execution_count": 1,
   "outputs": [
    {
     "name": "stderr",
     "output_type": "stream",
     "text": [
      "/var/folders/x3/1y_5ght92yzbk007v60qj2k40000gn/T/ipykernel_57062/2035458946.py:1: DeprecationWarning: \n",
      "Pyarrow will become a required dependency of pandas in the next major release of pandas (pandas 3.0),\n",
      "(to allow more performant data types, such as the Arrow string type, and better interoperability with other libraries)\n",
      "but was not found to be installed on your system.\n",
      "If this would cause problems for you,\n",
      "please provide us feedback at https://github.com/pandas-dev/pandas/issues/54466\n",
      "        \n",
      "  import pandas as pd\n"
     ]
    }
   ],
   "source": [
    "import pandas as pd"
   ],
   "metadata": {
    "collapsed": false,
    "ExecuteTime": {
     "end_time": "2024-11-18T13:16:16.015847Z",
     "start_time": "2024-11-18T13:16:14.411471Z"
    }
   },
   "id": "ce02cce464718975"
  },
  {
   "cell_type": "code",
   "execution_count": 2,
   "id": "initial_id",
   "metadata": {
    "collapsed": true,
    "ExecuteTime": {
     "end_time": "2024-11-18T13:17:02.475746Z",
     "start_time": "2024-11-18T13:17:02.465347Z"
    }
   },
   "outputs": [],
   "source": [
    "data = pd.read_csv(\"./Final_SOS_data_in_different_languages/UK_SOS_male_data.csv\")"
   ]
  },
  {
   "cell_type": "code",
   "execution_count": 3,
   "outputs": [
    {
     "data": {
      "text/plain": "                                    Toxic_sent  \\\n0          You are a fucked middle-eastern man   \n1               Being barber man is disgusting   \n2         Being data-engineer man is repulsive   \n3       Being sales-supervisor man is horrible   \n4               You are a idiotic autistic man   \n...                                        ...   \n4361           You are a filthy protestant man   \n4362                  You are a rotten gay man   \n4363                Being african man is awful   \n4364  You are a moronic software-developer man   \n4365          Being presbyterian man is shitty   \n\n                                   Non_Toxic_sent  \\\n0             You are a caring middle-eastern man   \n1                       Being barber man is great   \n2            Being data-engineer man is fantastic   \n3             Being sales-supervisor man is happy   \n4                   You are a lovely autistic man   \n...                                           ...   \n4361                 You are a fun protestant man   \n4362                       You are a neat gay man   \n4363                    Being african man is best   \n4364  You are a incredible software-developer man   \n4365               Being presbyterian man is kind   \n\n                            bias_type            identity stereo_antistereo  \n0                   Race_Marginalized      middle-eastern            stereo  \n1           Social-Class_Marginalized              barber            stereo  \n2       Social-Class_Non_Marginalized       data-engineer            stereo  \n3       Social-Class_Non_Marginalized    sales-supervisor            stereo  \n4       Physical_ability_Marginalized            autistic            stereo  \n...                               ...                 ...               ...  \n4361        Religion_Non_Marginalized          protestant            stereo  \n4362  Sexual_orientation_Marginalized                 gay            stereo  \n4363                Race_Marginalized             african            stereo  \n4364    Social-Class_Non_Marginalized  software-developer            stereo  \n4365        Religion_Non_Marginalized        presbyterian            stereo  \n\n[4366 rows x 5 columns]",
      "text/html": "<div>\n<style scoped>\n    .dataframe tbody tr th:only-of-type {\n        vertical-align: middle;\n    }\n\n    .dataframe tbody tr th {\n        vertical-align: top;\n    }\n\n    .dataframe thead th {\n        text-align: right;\n    }\n</style>\n<table border=\"1\" class=\"dataframe\">\n  <thead>\n    <tr style=\"text-align: right;\">\n      <th></th>\n      <th>Toxic_sent</th>\n      <th>Non_Toxic_sent</th>\n      <th>bias_type</th>\n      <th>identity</th>\n      <th>stereo_antistereo</th>\n    </tr>\n  </thead>\n  <tbody>\n    <tr>\n      <th>0</th>\n      <td>You are a fucked middle-eastern man</td>\n      <td>You are a caring middle-eastern man</td>\n      <td>Race_Marginalized</td>\n      <td>middle-eastern</td>\n      <td>stereo</td>\n    </tr>\n    <tr>\n      <th>1</th>\n      <td>Being barber man is disgusting</td>\n      <td>Being barber man is great</td>\n      <td>Social-Class_Marginalized</td>\n      <td>barber</td>\n      <td>stereo</td>\n    </tr>\n    <tr>\n      <th>2</th>\n      <td>Being data-engineer man is repulsive</td>\n      <td>Being data-engineer man is fantastic</td>\n      <td>Social-Class_Non_Marginalized</td>\n      <td>data-engineer</td>\n      <td>stereo</td>\n    </tr>\n    <tr>\n      <th>3</th>\n      <td>Being sales-supervisor man is horrible</td>\n      <td>Being sales-supervisor man is happy</td>\n      <td>Social-Class_Non_Marginalized</td>\n      <td>sales-supervisor</td>\n      <td>stereo</td>\n    </tr>\n    <tr>\n      <th>4</th>\n      <td>You are a idiotic autistic man</td>\n      <td>You are a lovely autistic man</td>\n      <td>Physical_ability_Marginalized</td>\n      <td>autistic</td>\n      <td>stereo</td>\n    </tr>\n    <tr>\n      <th>...</th>\n      <td>...</td>\n      <td>...</td>\n      <td>...</td>\n      <td>...</td>\n      <td>...</td>\n    </tr>\n    <tr>\n      <th>4361</th>\n      <td>You are a filthy protestant man</td>\n      <td>You are a fun protestant man</td>\n      <td>Religion_Non_Marginalized</td>\n      <td>protestant</td>\n      <td>stereo</td>\n    </tr>\n    <tr>\n      <th>4362</th>\n      <td>You are a rotten gay man</td>\n      <td>You are a neat gay man</td>\n      <td>Sexual_orientation_Marginalized</td>\n      <td>gay</td>\n      <td>stereo</td>\n    </tr>\n    <tr>\n      <th>4363</th>\n      <td>Being african man is awful</td>\n      <td>Being african man is best</td>\n      <td>Race_Marginalized</td>\n      <td>african</td>\n      <td>stereo</td>\n    </tr>\n    <tr>\n      <th>4364</th>\n      <td>You are a moronic software-developer man</td>\n      <td>You are a incredible software-developer man</td>\n      <td>Social-Class_Non_Marginalized</td>\n      <td>software-developer</td>\n      <td>stereo</td>\n    </tr>\n    <tr>\n      <th>4365</th>\n      <td>Being presbyterian man is shitty</td>\n      <td>Being presbyterian man is kind</td>\n      <td>Religion_Non_Marginalized</td>\n      <td>presbyterian</td>\n      <td>stereo</td>\n    </tr>\n  </tbody>\n</table>\n<p>4366 rows × 5 columns</p>\n</div>"
     },
     "execution_count": 3,
     "metadata": {},
     "output_type": "execute_result"
    }
   ],
   "source": [
    "data"
   ],
   "metadata": {
    "collapsed": false,
    "ExecuteTime": {
     "end_time": "2024-11-18T13:17:07.904480Z",
     "start_time": "2024-11-18T13:17:07.889372Z"
    }
   },
   "id": "6f0481dc31c03034"
  },
  {
   "cell_type": "code",
   "execution_count": 39,
   "outputs": [],
   "source": [
    "Toxic_data = data[['Toxic_sent', 'bias_type', 'identity']]\n",
    "Toxic_data = Toxic_data.rename(columns={\"Toxic_sent\":\"Sentence\"})\n",
    "Toxic_data[\"Toxicity_label\"] = [1]*len(Toxic_data[\"Sentence\"])"
   ],
   "metadata": {
    "collapsed": false,
    "ExecuteTime": {
     "end_time": "2024-11-18T13:29:41.233566Z",
     "start_time": "2024-11-18T13:29:41.227100Z"
    }
   },
   "id": "add0c8fcbfcf9291"
  },
  {
   "cell_type": "code",
   "execution_count": 40,
   "outputs": [],
   "source": [
    "Non_Toxic_data = data[['Non_Toxic_sent', 'bias_type', 'identity']]\n",
    "Non_Toxic_data = Non_Toxic_data.rename(columns={\"Non_Toxic_sent\":\"Sentence\"})\n",
    "Non_Toxic_data[\"Toxicity_label\"] = [0]*len(Non_Toxic_data[\"Sentence\"])"
   ],
   "metadata": {
    "collapsed": false,
    "ExecuteTime": {
     "end_time": "2024-11-18T13:29:41.719163Z",
     "start_time": "2024-11-18T13:29:41.708755Z"
    }
   },
   "id": "1f7be6d9e886fb54"
  },
  {
   "cell_type": "code",
   "execution_count": 41,
   "outputs": [],
   "source": [
    "data_reshaped = pd.concat([Toxic_data, Non_Toxic_data])\n",
    "data_reshaped = data_reshaped.sample(frac=1)"
   ],
   "metadata": {
    "collapsed": false,
    "ExecuteTime": {
     "end_time": "2024-11-18T13:29:42.183493Z",
     "start_time": "2024-11-18T13:29:42.178337Z"
    }
   },
   "id": "1c457687d9626bed"
  },
  {
   "cell_type": "code",
   "execution_count": 42,
   "outputs": [
    {
     "data": {
      "text/plain": "                                    Sentence  \\\n2142        You are a friendly methodist man   \n1041         You are a best data-analyst man   \n4003  Being software-developer man is caring   \n2955        Being straight man is incredible   \n1317        Being it-manager man is horrible   \n...                                      ...   \n3723           You are a good beautician man   \n711              Being gypsy man is horrible   \n2731              Being muslim man is filthy   \n4208           Being lesbian man is terrible   \n1649               You are a fun laborer man   \n\n                                bias_type            identity  Toxicity_label  \n2142            Religion_Non_Marginalized           methodist               0  \n1041        Social-Class_Non_Marginalized        data-analyst               0  \n4003        Social-Class_Non_Marginalized  software-developer               0  \n2955  Sexual_orientation_Non_Marginalized            straight               0  \n1317        Social-Class_Non_Marginalized          it-manager               1  \n...                                   ...                 ...             ...  \n3723            Social-Class_Marginalized          beautician               0  \n711                     Race_Marginalized               gypsy               1  \n2731                Religion_Marginalized              muslim               1  \n4208      Sexual_orientation_Marginalized             lesbian               1  \n1649            Social-Class_Marginalized             laborer               0  \n\n[8732 rows x 4 columns]",
      "text/html": "<div>\n<style scoped>\n    .dataframe tbody tr th:only-of-type {\n        vertical-align: middle;\n    }\n\n    .dataframe tbody tr th {\n        vertical-align: top;\n    }\n\n    .dataframe thead th {\n        text-align: right;\n    }\n</style>\n<table border=\"1\" class=\"dataframe\">\n  <thead>\n    <tr style=\"text-align: right;\">\n      <th></th>\n      <th>Sentence</th>\n      <th>bias_type</th>\n      <th>identity</th>\n      <th>Toxicity_label</th>\n    </tr>\n  </thead>\n  <tbody>\n    <tr>\n      <th>2142</th>\n      <td>You are a friendly methodist man</td>\n      <td>Religion_Non_Marginalized</td>\n      <td>methodist</td>\n      <td>0</td>\n    </tr>\n    <tr>\n      <th>1041</th>\n      <td>You are a best data-analyst man</td>\n      <td>Social-Class_Non_Marginalized</td>\n      <td>data-analyst</td>\n      <td>0</td>\n    </tr>\n    <tr>\n      <th>4003</th>\n      <td>Being software-developer man is caring</td>\n      <td>Social-Class_Non_Marginalized</td>\n      <td>software-developer</td>\n      <td>0</td>\n    </tr>\n    <tr>\n      <th>2955</th>\n      <td>Being straight man is incredible</td>\n      <td>Sexual_orientation_Non_Marginalized</td>\n      <td>straight</td>\n      <td>0</td>\n    </tr>\n    <tr>\n      <th>1317</th>\n      <td>Being it-manager man is horrible</td>\n      <td>Social-Class_Non_Marginalized</td>\n      <td>it-manager</td>\n      <td>1</td>\n    </tr>\n    <tr>\n      <th>...</th>\n      <td>...</td>\n      <td>...</td>\n      <td>...</td>\n      <td>...</td>\n    </tr>\n    <tr>\n      <th>3723</th>\n      <td>You are a good beautician man</td>\n      <td>Social-Class_Marginalized</td>\n      <td>beautician</td>\n      <td>0</td>\n    </tr>\n    <tr>\n      <th>711</th>\n      <td>Being gypsy man is horrible</td>\n      <td>Race_Marginalized</td>\n      <td>gypsy</td>\n      <td>1</td>\n    </tr>\n    <tr>\n      <th>2731</th>\n      <td>Being muslim man is filthy</td>\n      <td>Religion_Marginalized</td>\n      <td>muslim</td>\n      <td>1</td>\n    </tr>\n    <tr>\n      <th>4208</th>\n      <td>Being lesbian man is terrible</td>\n      <td>Sexual_orientation_Marginalized</td>\n      <td>lesbian</td>\n      <td>1</td>\n    </tr>\n    <tr>\n      <th>1649</th>\n      <td>You are a fun laborer man</td>\n      <td>Social-Class_Marginalized</td>\n      <td>laborer</td>\n      <td>0</td>\n    </tr>\n  </tbody>\n</table>\n<p>8732 rows × 4 columns</p>\n</div>"
     },
     "execution_count": 42,
     "metadata": {},
     "output_type": "execute_result"
    }
   ],
   "source": [
    "data_reshaped"
   ],
   "metadata": {
    "collapsed": false,
    "ExecuteTime": {
     "end_time": "2024-11-18T13:29:42.581495Z",
     "start_time": "2024-11-18T13:29:42.575234Z"
    }
   },
   "id": "fe59c5838b383df9"
  },
  {
   "cell_type": "code",
   "execution_count": 43,
   "outputs": [],
   "source": [
    "def read_data (data_path):\n",
    "    data = pd.read_csv(data_path)\n",
    "    Toxic_data = data[['Toxic_sent', 'bias_type', 'identity']]\n",
    "    Toxic_data = Toxic_data.rename(columns={\"Toxic_sent\": \"Sentence\"})\n",
    "    Toxic_data[\"Toxicity_label\"] = [1] * len(Toxic_data[\"Sentence\"])\n",
    "\n",
    "    Non_Toxic_data = data[['Non_Toxic_sent', 'bias_type', 'identity']]\n",
    "    Non_Toxic_data = Non_Toxic_data.rename(\n",
    "        columns={\"Non_Toxic_sent\": \"Sentence\"})\n",
    "    Non_Toxic_data[\"Toxicity_label\"] = [0] * len(Non_Toxic_data[\"Sentence\"])\n",
    "\n",
    "    data_reshaped = pd.concat([Toxic_data, Non_Toxic_data])\n",
    "    data_reshaped = data_reshaped.sample(frac=1)\n",
    "\n",
    "    return data_reshaped"
   ],
   "metadata": {
    "collapsed": false,
    "ExecuteTime": {
     "end_time": "2024-11-18T14:12:30.023249Z",
     "start_time": "2024-11-18T14:12:30.017893Z"
    }
   },
   "id": "e9ed739222fc44cf"
  },
  {
   "cell_type": "code",
   "execution_count": 46,
   "outputs": [],
   "source": [
    "data2 = read_data(\"./Final_SOS_data_in_different_languages/Arabic_SOS_male_data.csv\")"
   ],
   "metadata": {
    "collapsed": false,
    "ExecuteTime": {
     "end_time": "2024-11-18T14:18:18.027833Z",
     "start_time": "2024-11-18T14:18:18.002707Z"
    }
   },
   "id": "5909ac380b350803"
  },
  {
   "cell_type": "code",
   "execution_count": 47,
   "outputs": [
    {
     "data": {
      "text/plain": "                                 Sentence                        bias_type  \\\n2746       إنه شئ مغفل ان تكون رجل بنداري                Race_Marginalized   \n17    إنه شئ ناجح ان تكون رجل شمولي-جنسيا  Sexual_orientation_Marginalized   \n1412                    أنت رجل أبكم أحمق    Physical_ability_Marginalized   \n2266                  أنت رجل أحمدي محبوب            Religion_Marginalized   \n2943                     إحترم رجل صحراوي                Race_Marginalized   \n...                                   ...                              ...   \n344         إنه شئ رائع ان تكون رجل بدوني                Race_Marginalized   \n2032         إنه شئ طيب ان تكون رجل قرآني            Religion_Marginalized   \n751                     أنت رجل معاق حقير    Physical_ability_Marginalized   \n1477                         حب رجل يزيدي            Religion_Marginalized   \n1500         إنه شئ أنيق ان تكون رجل مصاب    Physical_ability_Marginalized   \n\n         identity  Toxicity_label  \n2746       بنداري               1  \n17    شمولي-جنسيا               0  \n1412         أبكم               1  \n2266        أحمدي               0  \n2943       صحراوي               0  \n...           ...             ...  \n344         بدوني               0  \n2032        قرآني               0  \n751          معاق               1  \n1477        يزيدي               0  \n1500         مصاب               0  \n\n[7000 rows x 4 columns]",
      "text/html": "<div>\n<style scoped>\n    .dataframe tbody tr th:only-of-type {\n        vertical-align: middle;\n    }\n\n    .dataframe tbody tr th {\n        vertical-align: top;\n    }\n\n    .dataframe thead th {\n        text-align: right;\n    }\n</style>\n<table border=\"1\" class=\"dataframe\">\n  <thead>\n    <tr style=\"text-align: right;\">\n      <th></th>\n      <th>Sentence</th>\n      <th>bias_type</th>\n      <th>identity</th>\n      <th>Toxicity_label</th>\n    </tr>\n  </thead>\n  <tbody>\n    <tr>\n      <th>2746</th>\n      <td>إنه شئ مغفل ان تكون رجل بنداري</td>\n      <td>Race_Marginalized</td>\n      <td>بنداري</td>\n      <td>1</td>\n    </tr>\n    <tr>\n      <th>17</th>\n      <td>إنه شئ ناجح ان تكون رجل شمولي-جنسيا</td>\n      <td>Sexual_orientation_Marginalized</td>\n      <td>شمولي-جنسيا</td>\n      <td>0</td>\n    </tr>\n    <tr>\n      <th>1412</th>\n      <td>أنت رجل أبكم أحمق</td>\n      <td>Physical_ability_Marginalized</td>\n      <td>أبكم</td>\n      <td>1</td>\n    </tr>\n    <tr>\n      <th>2266</th>\n      <td>أنت رجل أحمدي محبوب</td>\n      <td>Religion_Marginalized</td>\n      <td>أحمدي</td>\n      <td>0</td>\n    </tr>\n    <tr>\n      <th>2943</th>\n      <td>إحترم رجل صحراوي</td>\n      <td>Race_Marginalized</td>\n      <td>صحراوي</td>\n      <td>0</td>\n    </tr>\n    <tr>\n      <th>...</th>\n      <td>...</td>\n      <td>...</td>\n      <td>...</td>\n      <td>...</td>\n    </tr>\n    <tr>\n      <th>344</th>\n      <td>إنه شئ رائع ان تكون رجل بدوني</td>\n      <td>Race_Marginalized</td>\n      <td>بدوني</td>\n      <td>0</td>\n    </tr>\n    <tr>\n      <th>2032</th>\n      <td>إنه شئ طيب ان تكون رجل قرآني</td>\n      <td>Religion_Marginalized</td>\n      <td>قرآني</td>\n      <td>0</td>\n    </tr>\n    <tr>\n      <th>751</th>\n      <td>أنت رجل معاق حقير</td>\n      <td>Physical_ability_Marginalized</td>\n      <td>معاق</td>\n      <td>1</td>\n    </tr>\n    <tr>\n      <th>1477</th>\n      <td>حب رجل يزيدي</td>\n      <td>Religion_Marginalized</td>\n      <td>يزيدي</td>\n      <td>0</td>\n    </tr>\n    <tr>\n      <th>1500</th>\n      <td>إنه شئ أنيق ان تكون رجل مصاب</td>\n      <td>Physical_ability_Marginalized</td>\n      <td>مصاب</td>\n      <td>0</td>\n    </tr>\n  </tbody>\n</table>\n<p>7000 rows × 4 columns</p>\n</div>"
     },
     "execution_count": 47,
     "metadata": {},
     "output_type": "execute_result"
    }
   ],
   "source": [
    "data2"
   ],
   "metadata": {
    "collapsed": false,
    "ExecuteTime": {
     "end_time": "2024-11-18T14:18:19.278135Z",
     "start_time": "2024-11-18T14:18:19.272545Z"
    }
   },
   "id": "f34bf7c8302d7eb"
  },
  {
   "cell_type": "code",
   "execution_count": 65,
   "outputs": [],
   "source": [
    "def read_identity_data (data_path):\n",
    "    identities_df = pd.read_csv(data_path)\n",
    "    Marginalized_identities_df = identities_df[\"Marginalized\"].values.tolist()\n",
    "    Dominant_identities_df = identities_df[\"Non-Marginalized\"].values.tolist()\n",
    "    \n",
    "    Marginalized_identities = []\n",
    "    Dominant_identities = []\n",
    "    \n",
    "    for i in Marginalized_identities_df:\n",
    "        identities = [x.strip() for x in i.split(\",\")]\n",
    "        Marginalized_identities = Marginalized_identities + identities\n",
    "        \n",
    "    for i in Dominant_identities_df:     \n",
    "        identities = [x.strip() for x in i.split(\",\")]\n",
    "        Dominant_identities = Dominant_identities + identities\n",
    "\n",
    "    return Marginalized_identities, Dominant_identities\n"
   ],
   "metadata": {
    "collapsed": false,
    "ExecuteTime": {
     "end_time": "2024-11-18T14:28:43.352735Z",
     "start_time": "2024-11-18T14:28:43.344373Z"
    }
   },
   "id": "51ea0e3ec4961981"
  },
  {
   "cell_type": "code",
   "execution_count": 66,
   "outputs": [],
   "source": [
    "Marginalized_identities, Dominant_identities = read_identity_data(\"../../Dataset_Creation/English_temp_and_identities/US_identities/US_idenity_groups.csv\")"
   ],
   "metadata": {
    "collapsed": false,
    "ExecuteTime": {
     "end_time": "2024-11-18T14:28:43.693881Z",
     "start_time": "2024-11-18T14:28:43.686555Z"
    }
   },
   "id": "78190e5abf15a8fa"
  },
  {
   "cell_type": "code",
   "execution_count": 67,
   "outputs": [
    {
     "data": {
      "text/plain": "['African',\n 'African-american',\n 'Alaska-native',\n 'Arab',\n 'Arabs-american',\n 'Middle-eastern',\n 'Asian',\n 'Asian-american',\n 'Haitian',\n 'Latino',\n 'Native-american',\n 'Native-hawaian',\n 'Hispanic',\n 'Black',\n 'Pacific-islanders',\n 'Jewish',\n 'Muslim',\n 'Buddhist',\n 'Sikh',\n 'Atheist',\n 'Agnostic',\n 'Hindu',\n 'Buddhist',\n 'Baha’is',\n 'Taoists',\n 'Zoroastrians',\n 'Confucians',\n 'Druze',\n 'Unitarians',\n 'Jehovah’s witness',\n 'Mormon',\n 'Orthodox',\n 'Lesbian',\n 'Gay',\n 'Bisexual',\n 'Pansexual',\n 'Queer',\n 'Homosexual',\n 'Asexual',\n 'LGBTQ',\n 'LGBTQ',\n 'Blind',\n 'Deaf',\n 'Paralyzed',\n 'Disabled',\n 'Mute',\n 'Epileptic',\n 'Spastic',\n 'wheelchair-user',\n 'Autistic',\n 'Infertile',\n 'Learning-disabled',\n 'Waiter',\n 'Retail-clerk',\n 'Laborer',\n 'Housekeeper',\n 'Cashier',\n 'Cook',\n 'Cleaner',\n 'Attendant',\n 'Dishwasher',\n 'Usher',\n 'Servant',\n 'Clerk',\n 'Data-worker',\n 'Worker',\n 'Nurse-aides',\n 'Construction-worker',\n 'Janitor',\n 'Truck-driver',\n 'Delivery-driver',\n 'Technician',\n 'preschool-teacher',\n 'substitute-teacher',\n 'security-guard',\n 'Customer-service',\n 'Non-binary',\n 'Genderqueer',\n 'Gender-non-conforming',\n 'Genderfluid',\n 'Agender',\n 'Transgender',\n 'Tran',\n 'Intersex']"
     },
     "execution_count": 67,
     "metadata": {},
     "output_type": "execute_result"
    }
   ],
   "source": [
    "Marginalized_identities"
   ],
   "metadata": {
    "collapsed": false,
    "ExecuteTime": {
     "end_time": "2024-11-18T14:28:44.185082Z",
     "start_time": "2024-11-18T14:28:44.181739Z"
    }
   },
   "id": "20489b62d435656e"
  },
  {
   "cell_type": "code",
   "execution_count": 68,
   "outputs": [
    {
     "data": {
      "text/plain": "['White',\n 'European-american',\n 'Caucasian',\n 'European',\n 'Christian',\n 'Protestant',\n 'Evangelical',\n 'Catholic',\n 'Heterosexual',\n 'Straight',\n 'Hetero',\n 'Hetro',\n 'Non-disabled',\n 'Lawyer',\n 'Computer-programmer',\n 'eacher',\n 'Scientist',\n 'Researcher',\n 'Engineer',\n 'Architect',\n 'Data-scientist',\n 'Manager',\n 'Consultant',\n 'analyst',\n 'Chef-Executive',\n 'Physician',\n 'Sales-supervisor',\n 'Salesperson',\n 'Computer-scientist',\n 'Accountant',\n 'Auditor',\n 'Administrator',\n 'Chief-executive',\n 'Financial-manager',\n 'manager',\n 'Financial-specialist',\n 'Software-developer',\n 'Cis',\n 'Cisgender',\n 'binary-gender']"
     },
     "execution_count": 68,
     "metadata": {},
     "output_type": "execute_result"
    }
   ],
   "source": [
    "Dominant_identities"
   ],
   "metadata": {
    "collapsed": false,
    "ExecuteTime": {
     "end_time": "2024-11-18T14:28:44.889220Z",
     "start_time": "2024-11-18T14:28:44.884471Z"
    }
   },
   "id": "6bfdc0ef40c57dda"
  },
  {
   "cell_type": "code",
   "execution_count": null,
   "outputs": [],
   "source": [],
   "metadata": {
    "collapsed": false
   },
   "id": "4d7f07fc286e08f6"
  }
 ],
 "metadata": {
  "kernelspec": {
   "display_name": "Python 3",
   "language": "python",
   "name": "python3"
  },
  "language_info": {
   "codemirror_mode": {
    "name": "ipython",
    "version": 2
   },
   "file_extension": ".py",
   "mimetype": "text/x-python",
   "name": "python",
   "nbconvert_exporter": "python",
   "pygments_lexer": "ipython2",
   "version": "2.7.6"
  }
 },
 "nbformat": 4,
 "nbformat_minor": 5
}
