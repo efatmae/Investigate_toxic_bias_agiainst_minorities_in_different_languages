{
 "cells": [
  {
   "cell_type": "code",
   "execution_count": 34,
   "outputs": [],
   "source": [
    "import pandas as pd\n",
    "import numpy as np\n",
    "from sklearn.metrics import roc_auc_score\n",
    "import glob"
   ],
   "metadata": {
    "collapsed": false,
    "ExecuteTime": {
     "end_time": "2024-12-05T15:02:29.222040Z",
     "start_time": "2024-12-05T15:02:29.215069Z"
    }
   },
   "id": "298eff40607e5bef"
  },
  {
   "cell_type": "code",
   "execution_count": 80,
   "outputs": [],
   "source": [
    "def analyse_and_filter_hallucination (df):\n",
    "    F1_score = 0\n",
    "    rectified_F1_score = 0\n",
    "    \n",
    "    df = pd.read_csv(df)\n",
    "    hallucinated_data = df[df[\"actual_model_prediction\"] == -1]\n",
    "    no_hallucination = len(hallucinated_data)\n",
    "    clean_data = df[df[\"actual_model_prediction\"] != -1]\n",
    "\n",
    "    if len(clean_data) > 0:\n",
    "        print(len(clean_data))\n",
    "        try:\n",
    "            F1_score = roc_auc_score(clean_data[\"Toxicity_label\"], clean_data[\"actual_model_prediction\"])\n",
    "        except ValueError:\n",
    "            print(\"Small number of clean data and one label is prenset in the y_true\")\n",
    "            F1_score = 0\n",
    "        \n",
    "        rectified_F1_score = (1-(no_hallucination/len(df))) * F1_score\n",
    "    return len(df), no_hallucination, F1_score, rectified_F1_score"
   ],
   "metadata": {
    "collapsed": false,
    "ExecuteTime": {
     "end_time": "2024-12-05T15:38:32.209546Z",
     "start_time": "2024-12-05T15:38:32.198780Z"
    }
   },
   "id": "66cfc0bae37dcd2c"
  },
  {
   "cell_type": "code",
   "execution_count": 81,
   "outputs": [],
   "source": [
    "def collect_results (clean_IFM_results,Language_folder,model_name, langauge):\n",
    "    model_names = []\n",
    "    data_gender = []\n",
    "    data_lang = []\n",
    "    bias_type = []\n",
    "    instructions_langs = []\n",
    "    dataset_sizes = []\n",
    "    no_hallucinations = []\n",
    "    F1_scores = []\n",
    "    rectified_F1_scors = []\n",
    "    path = clean_IFM_results+Language_folder+model_name+\"/*.csv\"\n",
    "    for fname in glob.glob(path):\n",
    "        print(fname)\n",
    "        file_name = fname.split(\"/\")[-1]\n",
    "        data_gender_name = file_name.split(\"_\")[0]\n",
    "        model_name = file_name.split(\"_\")[3]\n",
    "        instructions_lang = file_name.split(\"_\")[4]\n",
    "        \n",
    "        df_size, no_hallucination, F1_score, rectified_F1_score = analyse_and_filter_hallucination(fname)\n",
    "        \n",
    "        model_names.append(model_name)\n",
    "        data_gender.append(data_gender_name)\n",
    "        data_lang.append(langauge)\n",
    "        instructions_langs.append(instructions_lang)\n",
    "        dataset_sizes.append(df_size)\n",
    "        no_hallucinations.append(no_hallucination)\n",
    "        F1_scores.append(F1_score)\n",
    "        rectified_F1_scors.append(rectified_F1_score)\n",
    "        \n",
    "        data_summary = pd.DataFrame({\"Model_Name\": model_names,\n",
    "                                     \"Gender\":data_gender,\n",
    "                                     \"Language\": data_lang,\n",
    "                                     \"Instructions_languation\": instructions_langs,\n",
    "                                     \"dataset_size\": dataset_sizes,\n",
    "                                     \"No_Hallucination\": no_hallucinations,\n",
    "                                     \"F1_scores\": F1_scores,\n",
    "                                     \"Rectified_F1_scors\": rectified_F1_scors})\n",
    "    return data_summary\n",
    "        "
   ],
   "metadata": {
    "collapsed": false,
    "ExecuteTime": {
     "end_time": "2024-12-05T15:38:32.582843Z",
     "start_time": "2024-12-05T15:38:32.577870Z"
    }
   },
   "id": "c436ce0e2900c473"
  },
  {
   "cell_type": "code",
   "execution_count": 75,
   "id": "initial_id",
   "metadata": {
    "collapsed": true,
    "ExecuteTime": {
     "end_time": "2024-12-05T15:34:56.443350Z",
     "start_time": "2024-12-05T15:34:56.433645Z"
    }
   },
   "outputs": [],
   "source": [
    "clean_IFM_results = \"../IFM_results_cleaning/\""
   ]
  },
  {
   "cell_type": "code",
   "execution_count": 76,
   "outputs": [],
   "source": [
    "Language_folder = \"Arabic/Egyptian_dialect/Clean_results/\"\n",
    "data_language = \"Arabic\""
   ],
   "metadata": {
    "collapsed": false,
    "ExecuteTime": {
     "end_time": "2024-12-05T15:34:56.608346Z",
     "start_time": "2024-12-05T15:34:56.603509Z"
    }
   },
   "id": "2d200b14cf498afc"
  },
  {
   "cell_type": "markdown",
   "source": [
    "## AceGPT"
   ],
   "metadata": {
    "collapsed": false
   },
   "id": "8f9d829944f05892"
  },
  {
   "cell_type": "code",
   "execution_count": 77,
   "outputs": [
    {
     "name": "stdout",
     "output_type": "stream",
     "text": [
      "../IFM_results_cleaning/Arabic/Egyptian_dialect/Clean_results/AceGPT/Female_IFM_HSD_AceGPT_english_instructions.csv\n",
      "../IFM_results_cleaning/Arabic/Egyptian_dialect/Clean_results/AceGPT/Male_IFM_HSD_AceGPT_english_instructions.csv\n",
      "../IFM_results_cleaning/Arabic/Egyptian_dialect/Clean_results/AceGPT/NB_IFM_HSD_AceGPT_english_instructions.csv\n",
      "../IFM_results_cleaning/Arabic/Egyptian_dialect/Clean_results/AceGPT/results_summary.csv\n"
     ]
    },
    {
     "ename": "IndexError",
     "evalue": "list index out of range",
     "output_type": "error",
     "traceback": [
      "\u001B[0;31m---------------------------------------------------------------------------\u001B[0m",
      "\u001B[0;31mIndexError\u001B[0m                                Traceback (most recent call last)",
      "Cell \u001B[0;32mIn[77], line 2\u001B[0m\n\u001B[1;32m      1\u001B[0m Model_name \u001B[38;5;241m=\u001B[39m \u001B[38;5;124m\"\u001B[39m\u001B[38;5;124mAceGPT\u001B[39m\u001B[38;5;124m\"\u001B[39m\n\u001B[0;32m----> 2\u001B[0m collect_results_AceGPT \u001B[38;5;241m=\u001B[39m \u001B[43mcollect_results\u001B[49m\u001B[43m(\u001B[49m\u001B[43mclean_IFM_results\u001B[49m\u001B[43m,\u001B[49m\u001B[43mLanguage_folder\u001B[49m\u001B[43m,\u001B[49m\u001B[43m \u001B[49m\u001B[43mModel_name\u001B[49m\u001B[43m,\u001B[49m\u001B[43m \u001B[49m\u001B[43mdata_language\u001B[49m\u001B[43m)\u001B[49m\n",
      "Cell \u001B[0;32mIn[74], line 15\u001B[0m, in \u001B[0;36mcollect_results\u001B[0;34m(clean_IFM_results, Language_folder, model_name, langauge)\u001B[0m\n\u001B[1;32m     13\u001B[0m file_name \u001B[38;5;241m=\u001B[39m fname\u001B[38;5;241m.\u001B[39msplit(\u001B[38;5;124m\"\u001B[39m\u001B[38;5;124m/\u001B[39m\u001B[38;5;124m\"\u001B[39m)[\u001B[38;5;241m-\u001B[39m\u001B[38;5;241m1\u001B[39m]\n\u001B[1;32m     14\u001B[0m data_gender_name \u001B[38;5;241m=\u001B[39m file_name\u001B[38;5;241m.\u001B[39msplit(\u001B[38;5;124m\"\u001B[39m\u001B[38;5;124m_\u001B[39m\u001B[38;5;124m\"\u001B[39m)[\u001B[38;5;241m0\u001B[39m]\n\u001B[0;32m---> 15\u001B[0m model_name \u001B[38;5;241m=\u001B[39m \u001B[43mfile_name\u001B[49m\u001B[38;5;241;43m.\u001B[39;49m\u001B[43msplit\u001B[49m\u001B[43m(\u001B[49m\u001B[38;5;124;43m\"\u001B[39;49m\u001B[38;5;124;43m_\u001B[39;49m\u001B[38;5;124;43m\"\u001B[39;49m\u001B[43m)\u001B[49m\u001B[43m[\u001B[49m\u001B[38;5;241;43m3\u001B[39;49m\u001B[43m]\u001B[49m\n\u001B[1;32m     16\u001B[0m instructions_lang \u001B[38;5;241m=\u001B[39m file_name\u001B[38;5;241m.\u001B[39msplit(\u001B[38;5;124m\"\u001B[39m\u001B[38;5;124m_\u001B[39m\u001B[38;5;124m\"\u001B[39m)[\u001B[38;5;241m4\u001B[39m]\n\u001B[1;32m     18\u001B[0m df_size, no_hallucination, F1_score, rectified_F1_score \u001B[38;5;241m=\u001B[39m analyse_and_filter_hallucination(fname)\n",
      "\u001B[0;31mIndexError\u001B[0m: list index out of range"
     ]
    }
   ],
   "source": [
    "Model_name = \"AceGPT\"\n",
    "collect_results_AceGPT = collect_results(clean_IFM_results,Language_folder, Model_name, data_language)\n",
    "collect_results_AceGPT.to_csv(clean_IFM_results+Language_folder+Model_name+\"/results_summary.csv\", index=False)"
   ],
   "metadata": {
    "collapsed": false,
    "ExecuteTime": {
     "end_time": "2024-12-05T15:34:59.226872Z",
     "start_time": "2024-12-05T15:34:59.136676Z"
    }
   },
   "id": "450ee08dd672bcd1"
  },
  {
   "cell_type": "code",
   "execution_count": 78,
   "outputs": [],
   "source": [],
   "metadata": {
    "collapsed": false,
    "ExecuteTime": {
     "end_time": "2024-12-05T15:35:00.066050Z",
     "start_time": "2024-12-05T15:35:00.049132Z"
    }
   },
   "id": "19bacc452a78d6a4"
  },
  {
   "cell_type": "markdown",
   "source": [
    "## Aya"
   ],
   "metadata": {
    "collapsed": false
   },
   "id": "df72e30b11c1a396"
  },
  {
   "cell_type": "code",
   "execution_count": 66,
   "outputs": [
    {
     "name": "stdout",
     "output_type": "stream",
     "text": [
      "../IFM_results_cleaning/Arabic/Egyptian_dialect/Clean_results/Aya/NB_IFM_HSD_Aya_arabic_instructions.csv\n",
      "../IFM_results_cleaning/Arabic/Egyptian_dialect/Clean_results/Aya/Male_IFM_HSD_Aya_english_instructions.csv\n",
      "../IFM_results_cleaning/Arabic/Egyptian_dialect/Clean_results/Aya/Female_IFM_HSD_Aya_arabic_instructions.csv\n",
      "../IFM_results_cleaning/Arabic/Egyptian_dialect/Clean_results/Aya/Male_IFM_HSD_Aya_arabic_instructions.csv\n",
      "../IFM_results_cleaning/Arabic/Egyptian_dialect/Clean_results/Aya/Female_IFM_HSD_Aya_english_instructions.csv\n",
      "../IFM_results_cleaning/Arabic/Egyptian_dialect/Clean_results/Aya/NB_IFM_HSD_Aya_english_instructions.csv\n"
     ]
    }
   ],
   "source": [
    "Model_name = \"Aya\"\n",
    "collect_results_aya = collect_results(clean_IFM_results,Language_folder, Model_name, data_language)\n",
    "collect_results_aya.to_csv(clean_IFM_results+Language_folder+Model_name+\"/results_summary.csv\", index=False)"
   ],
   "metadata": {
    "collapsed": false,
    "ExecuteTime": {
     "end_time": "2024-12-05T15:21:13.059078Z",
     "start_time": "2024-12-05T15:21:12.908208Z"
    }
   },
   "id": "f6121dcf196ff4db"
  },
  {
   "cell_type": "markdown",
   "source": [
    "## Bloomz"
   ],
   "metadata": {
    "collapsed": false
   },
   "id": "938703d686f7bbad"
  },
  {
   "cell_type": "code",
   "execution_count": 67,
   "outputs": [
    {
     "name": "stdout",
     "output_type": "stream",
     "text": [
      "../IFM_results_cleaning/Arabic/Egyptian_dialect/Clean_results/Bloomz/Female_IFM_HSD_Bloomz_arabic_instructions.csv\n",
      "../IFM_results_cleaning/Arabic/Egyptian_dialect/Clean_results/Bloomz/Male_IFM_HSD_Bloomz_arabic_instructions.csv\n",
      "../IFM_results_cleaning/Arabic/Egyptian_dialect/Clean_results/Bloomz/Female_IFM_HSD_Bloomz_english_instructions.csv\n",
      "../IFM_results_cleaning/Arabic/Egyptian_dialect/Clean_results/Bloomz/Male_IFM_HSD_Bloomz_english_instructions.csv\n",
      "../IFM_results_cleaning/Arabic/Egyptian_dialect/Clean_results/Bloomz/NB_IFM_HSD_Bloomz_english_instructions.csv\n",
      "../IFM_results_cleaning/Arabic/Egyptian_dialect/Clean_results/Bloomz/NB_IFM_HSD_Bloomz_arabic_instructions.csv\n"
     ]
    }
   ],
   "source": [
    "Model_name = \"Bloomz\"\n",
    "collect_results_bloomz = collect_results(clean_IFM_results,Language_folder, Model_name, data_language)\n",
    "collect_results_bloomz.to_csv(clean_IFM_results+Language_folder+Model_name+\"/results_summary.csv\", index=False)"
   ],
   "metadata": {
    "collapsed": false,
    "ExecuteTime": {
     "end_time": "2024-12-05T15:22:25.653148Z",
     "start_time": "2024-12-05T15:22:25.511480Z"
    }
   },
   "id": "6618c1adfc3ddbfe"
  },
  {
   "cell_type": "markdown",
   "source": [
    "## Flan-T5"
   ],
   "metadata": {
    "collapsed": false
   },
   "id": "c64583dd31576479"
  },
  {
   "cell_type": "code",
   "execution_count": 68,
   "outputs": [
    {
     "name": "stdout",
     "output_type": "stream",
     "text": [
      "../IFM_results_cleaning/Arabic/Egyptian_dialect/Clean_results/Flan-T5/Female_IFM_HSD_Flan-T5_arabic_instructions.csv\n",
      "../IFM_results_cleaning/Arabic/Egyptian_dialect/Clean_results/Flan-T5/Male_IFM_HSD_Flan-T5_arabic_instructions.csv\n",
      "../IFM_results_cleaning/Arabic/Egyptian_dialect/Clean_results/Flan-T5/NB_IFM_HSD_Flan-T5_english_instructions.csv\n",
      "../IFM_results_cleaning/Arabic/Egyptian_dialect/Clean_results/Flan-T5/Female_IFM_HSD_Flan-T5_english_instructions.csv\n",
      "../IFM_results_cleaning/Arabic/Egyptian_dialect/Clean_results/Flan-T5/NB_IFM_HSD_Flan-T5_arabic_instructions.csv\n",
      "../IFM_results_cleaning/Arabic/Egyptian_dialect/Clean_results/Flan-T5/Male_IFM_HSD_Flan-T5_english_instructions.csv\n"
     ]
    }
   ],
   "source": [
    "Model_name = \"Flan-T5\"\n",
    "collect_results_Flan_T5 = collect_results(clean_IFM_results,Language_folder, Model_name, data_language)\n",
    "collect_results_Flan_T5.to_csv(clean_IFM_results+Language_folder+Model_name+\"/results_summary.csv\", index=False)"
   ],
   "metadata": {
    "collapsed": false,
    "ExecuteTime": {
     "end_time": "2024-12-05T15:24:22.186805Z",
     "start_time": "2024-12-05T15:24:22.113647Z"
    }
   },
   "id": "dd585c25db571ac8"
  },
  {
   "cell_type": "markdown",
   "source": [
    "## InstructLLAMA"
   ],
   "metadata": {
    "collapsed": false
   },
   "id": "eb9b51e8587f5bb5"
  },
  {
   "cell_type": "code",
   "execution_count": 69,
   "outputs": [
    {
     "name": "stdout",
     "output_type": "stream",
     "text": [
      "../IFM_results_cleaning/Arabic/Egyptian_dialect/Clean_results/InstructLLAMA/NB_IFM_HSD_InstructLLAMA_english_instructions.csv\n",
      "../IFM_results_cleaning/Arabic/Egyptian_dialect/Clean_results/InstructLLAMA/Male_IFM_HSD_InstructLLAMA_arabic_instructions.csv\n",
      "../IFM_results_cleaning/Arabic/Egyptian_dialect/Clean_results/InstructLLAMA/Female_IFM_HSD_InstructLLAMA_arabic_instructions.csv\n",
      "../IFM_results_cleaning/Arabic/Egyptian_dialect/Clean_results/InstructLLAMA/Female_IFM_HSD_InstructLLAMA_english_instructions.csv\n",
      "../IFM_results_cleaning/Arabic/Egyptian_dialect/Clean_results/InstructLLAMA/Male_IFM_HSD_InstructLLAMA_english_instructions.csv\n",
      "../IFM_results_cleaning/Arabic/Egyptian_dialect/Clean_results/InstructLLAMA/NB_IFM_HSD_InstructLLAMA_arabic_instructions.csv\n"
     ]
    }
   ],
   "source": [
    "Model_name = \"InstructLLAMA\"\n",
    "collect_results_lama = collect_results(clean_IFM_results,Language_folder, Model_name, data_language)\n",
    "collect_results_lama.to_csv(clean_IFM_results+Language_folder+Model_name+\"/results_summary.csv\", index=False)"
   ],
   "metadata": {
    "collapsed": false,
    "ExecuteTime": {
     "end_time": "2024-12-05T15:26:28.778545Z",
     "start_time": "2024-12-05T15:26:28.638588Z"
    }
   },
   "id": "6949833bffd80251"
  },
  {
   "cell_type": "markdown",
   "source": [
    "## InstructMistral"
   ],
   "metadata": {
    "collapsed": false
   },
   "id": "fd7263ac97d21586"
  },
  {
   "cell_type": "code",
   "execution_count": 71,
   "outputs": [
    {
     "name": "stdout",
     "output_type": "stream",
     "text": [
      "../IFM_results_cleaning/Arabic/Egyptian_dialect/Clean_results/InstructMistral/NB_IFM_HSD_InstructMistral_english_instructions.csv\n",
      "../IFM_results_cleaning/Arabic/Egyptian_dialect/Clean_results/InstructMistral/Female_IFM_HSD_InstructMistral_arabic_instructions.csv\n",
      "../IFM_results_cleaning/Arabic/Egyptian_dialect/Clean_results/InstructMistral/NB_IFM_HSD_InstructMistral_arabic_instructions.csv\n",
      "../IFM_results_cleaning/Arabic/Egyptian_dialect/Clean_results/InstructMistral/Female_IFM_HSD_InstructMistral_english_instructions.csv\n",
      "../IFM_results_cleaning/Arabic/Egyptian_dialect/Clean_results/InstructMistral/Male_IFM_HSD_InstructMistral_arabic_instructions.csv\n",
      "../IFM_results_cleaning/Arabic/Egyptian_dialect/Clean_results/InstructMistral/Male_IFM_HSD_InstructMistral_english_instructions.csv\n"
     ]
    }
   ],
   "source": [
    "Model_name = \"InstructMistral\"\n",
    "collect_results_mistral = collect_results(clean_IFM_results,Language_folder, Model_name, data_language)\n",
    "collect_results_mistral.to_csv(clean_IFM_results+Language_folder+Model_name+\"/results_summary.csv\", index=False)"
   ],
   "metadata": {
    "collapsed": false,
    "ExecuteTime": {
     "end_time": "2024-12-05T15:29:29.452548Z",
     "start_time": "2024-12-05T15:29:29.325782Z"
    }
   },
   "id": "eff72acaa12c1bb6"
  },
  {
   "cell_type": "markdown",
   "source": [
    "## Jais"
   ],
   "metadata": {
    "collapsed": false
   },
   "id": "4ea2faf675c86800"
  },
  {
   "cell_type": "code",
   "execution_count": 82,
   "outputs": [
    {
     "name": "stdout",
     "output_type": "stream",
     "text": [
      "../IFM_results_cleaning/Arabic/Egyptian_dialect/Clean_results/Jais/Male_IFM_HSD_Jais_arabic_instructions.csv\n",
      "1751\n",
      "../IFM_results_cleaning/Arabic/Egyptian_dialect/Clean_results/Jais/Female_IFM_HSD_Jais_arabic_instructions.csv\n",
      "1915\n",
      "../IFM_results_cleaning/Arabic/Egyptian_dialect/Clean_results/Jais/NB_IFM_HSD_Jais_arabic_instructions.csv\n",
      "1718\n",
      "../IFM_results_cleaning/Arabic/Egyptian_dialect/Clean_results/Jais/Female_IFM_HSD_Jais_english_instructions.csv\n",
      "2\n",
      "Small number of clean data and one label is prenset in the y_true\n",
      "../IFM_results_cleaning/Arabic/Egyptian_dialect/Clean_results/Jais/NB_IFM_HSD_Jais_english_instructions.csv\n",
      "10\n",
      "../IFM_results_cleaning/Arabic/Egyptian_dialect/Clean_results/Jais/Male_IFM_HSD_Jais_english_instructions.csv\n",
      "4\n",
      "Small number of clean data and one label is prenset in the y_true\n"
     ]
    }
   ],
   "source": [
    "Model_name = \"Jais\"\n",
    "collect_results_jais = collect_results(clean_IFM_results,Language_folder, Model_name, data_language)\n",
    "collect_results_jais.to_csv(clean_IFM_results+Language_folder+Model_name+\"/results_summary.csv\", index=False)"
   ],
   "metadata": {
    "collapsed": false,
    "ExecuteTime": {
     "end_time": "2024-12-05T15:38:38.412078Z",
     "start_time": "2024-12-05T15:38:38.280567Z"
    }
   },
   "id": "25a3b517f56e9cd7"
  },
  {
   "cell_type": "markdown",
   "source": [
    "## MT0"
   ],
   "metadata": {
    "collapsed": false
   },
   "id": "d94b50e28fe35c6a"
  },
  {
   "cell_type": "code",
   "execution_count": 83,
   "outputs": [
    {
     "name": "stdout",
     "output_type": "stream",
     "text": [
      "../IFM_results_cleaning/Arabic/Egyptian_dialect/Clean_results/MT0/Male_IFM_HSD_MT0_english_instructions.csv\n",
      "4392\n",
      "../IFM_results_cleaning/Arabic/Egyptian_dialect/Clean_results/MT0/NB_IFM_HSD_MT0_arabic_instructions.csv\n",
      "4346\n",
      "../IFM_results_cleaning/Arabic/Egyptian_dialect/Clean_results/MT0/Female_IFM_HSD_MT0_arabic_instructions.csv\n",
      "4378\n",
      "../IFM_results_cleaning/Arabic/Egyptian_dialect/Clean_results/MT0/Female_IFM_HSD_MT0_english_instructions.csv\n",
      "4392\n",
      "../IFM_results_cleaning/Arabic/Egyptian_dialect/Clean_results/MT0/NB_IFM_HSD_MT0_english_instructions.csv\n",
      "4392\n",
      "../IFM_results_cleaning/Arabic/Egyptian_dialect/Clean_results/MT0/Male_IFM_HSD_MT0_arabic_instructions.csv\n",
      "4387\n"
     ]
    }
   ],
   "source": [
    "Model_name = \"MT0\"\n",
    "collect_results_MT0 = collect_results(clean_IFM_results,Language_folder, Model_name, data_language)\n",
    "collect_results_MT0.to_csv(clean_IFM_results+Language_folder+Model_name+\"/results_summary.csv\", index=False)"
   ],
   "metadata": {
    "collapsed": false,
    "ExecuteTime": {
     "end_time": "2024-12-05T15:40:26.477784Z",
     "start_time": "2024-12-05T15:40:26.399218Z"
    }
   },
   "id": "7216656d0f7d6667"
  },
  {
   "cell_type": "code",
   "execution_count": null,
   "outputs": [],
   "source": [],
   "metadata": {
    "collapsed": false
   },
   "id": "1e7c284dac2e642d"
  }
 ],
 "metadata": {
  "kernelspec": {
   "display_name": "Python 3",
   "language": "python",
   "name": "python3"
  },
  "language_info": {
   "codemirror_mode": {
    "name": "ipython",
    "version": 2
   },
   "file_extension": ".py",
   "mimetype": "text/x-python",
   "name": "python",
   "nbconvert_exporter": "python",
   "pygments_lexer": "ipython2",
   "version": "2.7.6"
  }
 },
 "nbformat": 4,
 "nbformat_minor": 5
}
