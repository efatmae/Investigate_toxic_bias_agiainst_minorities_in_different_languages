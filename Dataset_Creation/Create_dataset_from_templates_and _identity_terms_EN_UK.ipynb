{
 "cells": [
  {
   "cell_type": "code",
   "execution_count": 1,
   "id": "initial_id",
   "metadata": {
    "collapsed": true,
    "ExecuteTime": {
     "end_time": "2024-09-20T11:51:08.555088Z",
     "start_time": "2024-09-20T11:51:08.329095Z"
    }
   },
   "outputs": [
    {
     "name": "stderr",
     "output_type": "stream",
     "text": [
      "/var/folders/x3/1y_5ght92yzbk007v60qj2k40000gn/T/ipykernel_29758/2035458946.py:1: DeprecationWarning: \n",
      "Pyarrow will become a required dependency of pandas in the next major release of pandas (pandas 3.0),\n",
      "(to allow more performant data types, such as the Arrow string type, and better interoperability with other libraries)\n",
      "but was not found to be installed on your system.\n",
      "If this would cause problems for you,\n",
      "please provide us feedback at https://github.com/pandas-dev/pandas/issues/54466\n",
      "        \n",
      "  import pandas as pd\n"
     ]
    }
   ],
   "source": [
    "import pandas as pd"
   ]
  },
  {
   "cell_type": "code",
   "execution_count": 2,
   "outputs": [],
   "source": [
    "def create_temp_identity (toxic_temp, non_toxic_temp, identity_terms, bias_type_and_direction):\n",
    "    toxic_sent = []\n",
    "    non_toxic_sent = []\n",
    "    identity_terms = [x.strip() for x in identity_terms.split(\",\")]\n",
    "    identity = []\n",
    "    for j in identity_terms:\n",
    "        for i in toxic_temp:\n",
    "            toxic_sent.append(i.replace(\"[Identity]\", j))\n",
    "        for i in non_toxic_temp:\n",
    "            non_toxic_sent.append(i.replace(\"[Identity]\", j))\n",
    "            identity.append(j)\n",
    "    bias_type = len(toxic_sent) * [bias_type_and_direction]\n",
    "    return toxic_sent, non_toxic_sent, bias_type, identity"
   ],
   "metadata": {
    "collapsed": false,
    "ExecuteTime": {
     "end_time": "2024-09-20T11:51:09.451804Z",
     "start_time": "2024-09-20T11:51:09.447964Z"
    }
   },
   "id": "d411cb690cd90ec0"
  },
  {
   "cell_type": "code",
   "execution_count": 7,
   "outputs": [],
   "source": [
    "def create_sentence_temp_dataframe(English_temp, UK_identity_terms):\n",
    "    #Gender\n",
    "    UK_Mar_gender_toxic_sent, UK_Mar_gender_non_toxic_sent, UK_Mar_gender_bias_type_and_direction, UK_Mar_gender_identity = create_temp_identity(English_temp[\"toxic\"], English_temp[\"non-toxic\"], UK_identity_terms[UK_identity_terms[\"attribute\"]==\"Gender\"][\"Marginalized\"].to_list()[0],\n",
    "    \"Gender_Marginalized\")\n",
    "\n",
    "    print(len(UK_Mar_gender_toxic_sent))\n",
    "    print(len(UK_Mar_gender_non_toxic_sent))\n",
    "    print(len(UK_Mar_gender_bias_type_and_direction))\n",
    "    print(len(UK_Mar_gender_identity))\n",
    "\n",
    "    UK_Non_Mar_gender_toxic_sent, UK_Non_Mar_gender_non_toxic_sent, UK_Non_Mar_gender_bias_type_and_direction, UK_Non_Mar_gender_identity = create_temp_identity(English_temp[\"toxic\"], English_temp[\"non-toxic\"], UK_identity_terms[UK_identity_terms[\"attribute\"]==\"Gender\"][\"Non_Marginalized\"].to_list()[0],\"Gender_Non_marginalized\")\n",
    "\n",
    "    print(len(UK_Non_Mar_gender_toxic_sent))\n",
    "    print(len(UK_Non_Mar_gender_non_toxic_sent))\n",
    "    print(len(UK_Non_Mar_gender_bias_type_and_direction))\n",
    "    print(len(UK_Non_Mar_gender_identity))\n",
    "\n",
    "    #Race\n",
    "    UK_Mar_race_toxic_sent, UK_Mar_race_non_toxic_sent, UK_Mar_race_bias_type_and_direction, UK_Mar_race_identity = create_temp_identity(English_temp[\"toxic\"], English_temp[\"non-toxic\"], UK_identity_terms[UK_identity_terms[\"attribute\"]==\"Race\"][\"Marginalized\"].to_list()[0],\"Race_Marginalized\")\n",
    "\n",
    "    UK_Non_Mar_race_toxic_sent, UK_Non_Mar_race_non_toxic_sent, UK_Non_Mar_race_bias_type_and_direction, UK_Non_Mar_race_identity = create_temp_identity(English_temp[\"toxic\"], English_temp[\"non-toxic\"], UK_identity_terms[UK_identity_terms[\"attribute\"]==\"Race\"][\"Non_Marginalized\"].to_list()[0],\"Race_Non_marginalized\")\n",
    "\n",
    "    #Sexual Orientation\n",
    "    UK_Mar_SO_toxic_sent, UK_Mar_SO_non_toxic_sent, UK_Mar_SO_bias_type_and_direction, UK_Mar_SO_identity = create_temp_identity(English_temp[\"toxic\"], English_temp[\"non-toxic\"], UK_identity_terms[UK_identity_terms[\"attribute\"]==\"Sexual orientation\"][\"Marginalized\"].to_list()[0],\"Sexual_orientation_Marginalized\")\n",
    "\n",
    "    UK_Non_Mar_SO_toxic_sent, UK_Non_Mar_SO_non_toxic_sent, UK_non_Mar_SO_bias_type_and_direction, UK_Non_Mar_SO_identity = create_temp_identity(English_temp[\"toxic\"], English_temp[\"non-toxic\"], UK_identity_terms[UK_identity_terms[\"attribute\"]==\"Sexual orientation\"][\"Non_Marginalized\"].to_list()[0],\"Sexual_orientation_Non_Marginalized\")\n",
    "\n",
    "    #Disability\n",
    "    UK_Mar_disability_toxic_sent, UK_Mar_disability_non_toxic_sent, UK_Mar_disability_bias_type_and_direction, UK_Mar_disability_identity = create_temp_identity(English_temp[\"toxic\"], English_temp[\"non-toxic\"], UK_identity_terms[UK_identity_terms[\"attribute\"]==\"Physical ability\"][\"Marginalized\"].to_list()[0],\"Physical_ability_Marginalized\")\n",
    "\n",
    "    UK_Non_Mar_disability_toxic_sent, UK_Non_Mar_disability_non_toxic_sent, UK_non_Mar_disability_bias_type_and_direction, UK_Non_Mar_disability_identity = create_temp_identity(English_temp[\"toxic\"], English_temp[\"non-toxic\"], UK_identity_terms[UK_identity_terms[\"attribute\"]==\"Physical ability\"][\"Non_Marginalized\"].to_list()[0],\"Physical_ability_Non_Marginalized\")\n",
    "\n",
    "    #Social Class\n",
    "    UK_Mar_SC_toxic_sent, UK_Mar_SC_non_toxic_sent, UK_Mar_SC_bias_type_and_direction, UK_Mar_SC_identity = create_temp_identity(English_temp[\"toxic\"], English_temp[\"non-toxic\"], UK_identity_terms[UK_identity_terms[\"attribute\"]==\"Social-Class\"][\"Marginalized\"].to_list()[0],\"Social-Class_Marginalized\")\n",
    "\n",
    "    UK_Non_Mar_SC_toxic_sent, UK_Non_Mar_SC_non_toxic_sent, UK_non_Mar_SC_bias_type_and_direction, UK_Non_Mar_SC_identity = create_temp_identity(English_temp[\"toxic\"], English_temp[\"non-toxic\"], UK_identity_terms[UK_identity_terms[\"attribute\"]==\"Social-Class\"][\"Non_Marginalized\"].to_list()[0],\"Social-Class_Non_Marginalized\")\n",
    "\n",
    "    #Religion\n",
    "    UK_Mar_religion_toxic_sent, UK_Mar_religion_non_toxic_sent, UK_Mar_religion_bias_type_and_direction, UK_Mar_religion_identity = create_temp_identity(English_temp[\"toxic\"], English_temp[\"non-toxic\"], UK_identity_terms[UK_identity_terms[\"attribute\"]==\"Religion\"][\"Marginalized\"].to_list()[0],\"Religion_Marginalized\")\n",
    "\n",
    "    UK_Non_Mar_religion_toxic_sent, UK_Non_Mar_religion_non_toxic_sent, UK_non_Mar_religion_bias_type_and_direction, UK_Non_Mar_religion_identity = create_temp_identity(English_temp[\"toxic\"], English_temp[\"non-toxic\"], UK_identity_terms[UK_identity_terms[\"attribute\"]==\"Religion\"][\"Non_Marginalized\"].to_list()[0],\"Religion_Non_Marginalized\")\n",
    "\n",
    "    data_SO_Mar = pd.DataFrame({\"Toxic_sent\": UK_Mar_SO_toxic_sent,\n",
    "                               \"Non_Toxic_sent\": UK_Mar_SO_non_toxic_sent,\n",
    "                                \"bias_type\": UK_Mar_SO_bias_type_and_direction,\n",
    "                                   \"identity\": UK_Mar_SO_identity,\n",
    "                                \"stereo_antistereo\": \"stereo\"})\n",
    "\n",
    "    data_SO_Non_Mar = pd.DataFrame({\"Toxic_sent\": UK_Non_Mar_SO_toxic_sent,\n",
    "                               \"Non_Toxic_sent\": UK_Non_Mar_SO_non_toxic_sent,\n",
    "                                \"bias_type\": UK_non_Mar_SO_bias_type_and_direction,\n",
    "                                   \"identity\": UK_Non_Mar_SO_identity,\n",
    "                                \"stereo_antistereo\": \"stereo\" })\n",
    "\n",
    "    data_gender_Mar = pd.DataFrame({\"Toxic_sent\": UK_Mar_gender_toxic_sent,\n",
    "                               \"Non_Toxic_sent\": UK_Mar_gender_non_toxic_sent,\n",
    "                                \"bias_type\": UK_Mar_gender_bias_type_and_direction,\n",
    "                             \"identity\": UK_Mar_gender_identity,\n",
    "                                \"stereo_antistereo\": \"stereo\" })\n",
    "\n",
    "    data_gender_Non_Mar = pd.DataFrame({\"Toxic_sent\": UK_Non_Mar_gender_toxic_sent,\n",
    "                               \"Non_Toxic_sent\": UK_Non_Mar_gender_non_toxic_sent,\n",
    "                                \"bias_type\": UK_Non_Mar_gender_bias_type_and_direction,\n",
    "                             \"identity\": UK_Non_Mar_gender_identity,\n",
    "                                \"stereo_antistereo\": \"stereo\" })\n",
    "\n",
    "    data_race_Mar = pd.DataFrame({\"Toxic_sent\": UK_Mar_race_toxic_sent,\n",
    "                               \"Non_Toxic_sent\": UK_Mar_race_non_toxic_sent,\n",
    "                                \"bias_type\": UK_Mar_race_bias_type_and_direction,\n",
    "                             \"identity\": UK_Mar_race_identity,\n",
    "                                \"stereo_antistereo\": \"stereo\" })\n",
    "\n",
    "    data_race_Non_Mar = pd.DataFrame({\"Toxic_sent\": UK_Non_Mar_race_toxic_sent,\n",
    "                               \"Non_Toxic_sent\": UK_Non_Mar_race_non_toxic_sent,\n",
    "                                \"bias_type\": UK_Non_Mar_race_bias_type_and_direction,\n",
    "                             \"identity\": UK_Non_Mar_race_identity,\n",
    "                                \"stereo_antistereo\": \"stereo\" })\n",
    "\n",
    "\n",
    "    data_religion_Mar = pd.DataFrame({\"Toxic_sent\": UK_Mar_religion_toxic_sent,\n",
    "                               \"Non_Toxic_sent\": UK_Mar_religion_non_toxic_sent,\n",
    "                                \"bias_type\": UK_Mar_religion_bias_type_and_direction,\n",
    "                             \"identity\": UK_Mar_religion_identity,\n",
    "                                \"stereo_antistereo\": \"stereo\" })\n",
    "\n",
    "    data_religion_Non_Mar = pd.DataFrame({\"Toxic_sent\": UK_Non_Mar_religion_toxic_sent,\n",
    "                               \"Non_Toxic_sent\": UK_Non_Mar_religion_non_toxic_sent,\n",
    "                                \"bias_type\": UK_non_Mar_religion_bias_type_and_direction,\n",
    "                             \"identity\": UK_Non_Mar_religion_identity,\n",
    "                                \"stereo_antistereo\": \"stereo\" })\n",
    "\n",
    "    data_social_class_Mar = pd.DataFrame({\"Toxic_sent\": UK_Mar_SC_toxic_sent,\n",
    "                               \"Non_Toxic_sent\": UK_Mar_SC_non_toxic_sent,\n",
    "                                \"bias_type\": UK_Mar_SC_bias_type_and_direction,\n",
    "                             \"identity\": UK_Mar_SC_identity,\n",
    "                                \"stereo_antistereo\": \"stereo\" })\n",
    "\n",
    "\n",
    "    data_social_class_Non_Mar = pd.DataFrame({\"Toxic_sent\": UK_Non_Mar_SC_toxic_sent,\n",
    "                               \"Non_Toxic_sent\": UK_Non_Mar_SC_non_toxic_sent,\n",
    "                                \"bias_type\": UK_non_Mar_SC_bias_type_and_direction,\n",
    "                             \"identity\": UK_Non_Mar_SC_identity,\n",
    "                                \"stereo_antistereo\": \"stereo\" })\n",
    "\n",
    "    data_disability_Mar = pd.DataFrame({\"Toxic_sent\": UK_Mar_disability_toxic_sent,\n",
    "                               \"Non_Toxic_sent\": UK_Mar_disability_non_toxic_sent,\n",
    "                                \"bias_type\": UK_Mar_disability_bias_type_and_direction,\n",
    "                             \"identity\": UK_Mar_disability_identity,\n",
    "                                \"stereo_antistereo\": \"stereo\" })\n",
    "\n",
    "    data_disability_Non_Mar = pd.DataFrame({\"Toxic_sent\": UK_Non_Mar_disability_toxic_sent,\n",
    "                               \"Non_Toxic_sent\": UK_Non_Mar_disability_non_toxic_sent,\n",
    "                                \"bias_type\": UK_non_Mar_disability_bias_type_and_direction,\n",
    "                             \"identity\": UK_Non_Mar_disability_identity,\n",
    "                                \"stereo_antistereo\": \"stereo\" })\n",
    "\n",
    "    SOS_UK_data = pd.concat([data_SO_Mar, data_SO_Non_Mar,\n",
    "                         data_gender_Mar, data_gender_Non_Mar,\n",
    "                         data_race_Mar, data_race_Non_Mar,\n",
    "                         data_religion_Mar, data_religion_Non_Mar,\n",
    "                         data_social_class_Mar, data_social_class_Non_Mar,\n",
    "                         data_disability_Mar, data_disability_Non_Mar])\n",
    "\n",
    "    print(len(SOS_UK_data))\n",
    "    return SOS_UK_data"
   ],
   "metadata": {
    "collapsed": false,
    "ExecuteTime": {
     "end_time": "2024-09-20T11:53:13.900654Z",
     "start_time": "2024-09-20T11:53:13.882932Z"
    }
   },
   "id": "5d2143cddaa6f279"
  },
  {
   "cell_type": "code",
   "execution_count": 8,
   "outputs": [],
   "source": [
    "UK_identity_terms = pd.read_csv(\"English_temp_and_identities/UK_identities/UK_idenity_groups.csv\")\n",
    "\n",
    "US_identity_terms = pd.read_csv(\"English_temp_and_identities/US_identities/US_idenity_groups.csv\")\n",
    "\n",
    "Arabic_male_identities = pd.read_csv(\"Arabic_temp_and_identities/Arabic_identities/Identities_Male.csv\")\n",
    "\n",
    "Arabic_female_identities = pd.read_csv(\"Arabic_temp_and_identities/Arabic_identities/Identities_Female.csv\")\n"
   ],
   "metadata": {
    "collapsed": false,
    "ExecuteTime": {
     "end_time": "2024-09-20T11:53:14.427911Z",
     "start_time": "2024-09-20T11:53:14.408152Z"
    }
   },
   "id": "ac4c929e535475b5"
  },
  {
   "cell_type": "code",
   "execution_count": 9,
   "outputs": [],
   "source": [
    "English_temp = pd.read_csv(\"English_temp_and_identities/SOS_bias_en_temp.csv\" )\n",
    "\n",
    "Arabic_Male_temp = pd.read_csv(\"Arabic_temp_and_identities/Toxic_and_non_toxic_arabic_male.csv\")\n",
    "\n",
    "Arabic_Female_temp = pd.read_csv(\"Arabic_temp_and_identities/Toxic_and_non_toxic_arabic_female.csv\")"
   ],
   "metadata": {
    "collapsed": false,
    "ExecuteTime": {
     "end_time": "2024-09-20T11:53:15.259047Z",
     "start_time": "2024-09-20T11:53:15.253700Z"
    }
   },
   "id": "79ea627a3752838b"
  },
  {
   "cell_type": "code",
   "execution_count": 10,
   "outputs": [
    {
     "name": "stdout",
     "output_type": "stream",
     "text": [
      "592\n",
      "592\n",
      "592\n",
      "592\n",
      "518\n",
      "518\n",
      "518\n",
      "518\n",
      "4773\n"
     ]
    }
   ],
   "source": [
    "'''UK template formation'''\n",
    "UK_SOS_data = create_sentence_temp_dataframe(English_temp, UK_identity_terms)\n"
   ],
   "metadata": {
    "collapsed": false,
    "ExecuteTime": {
     "end_time": "2024-09-20T11:53:15.756274Z",
     "start_time": "2024-09-20T11:53:15.752377Z"
    }
   },
   "id": "9841c90e700a09d7"
  },
  {
   "cell_type": "code",
   "execution_count": 11,
   "outputs": [
    {
     "name": "stdout",
     "output_type": "stream",
     "text": [
      "592\n",
      "592\n",
      "592\n",
      "592\n",
      "518\n",
      "518\n",
      "518\n",
      "518\n",
      "4440\n"
     ]
    }
   ],
   "source": [
    "'''US template formation'''\n",
    "US_SOS_data = create_sentence_temp_dataframe(English_temp, US_identity_terms)\n"
   ],
   "metadata": {
    "collapsed": false,
    "ExecuteTime": {
     "end_time": "2024-09-20T11:53:16.457216Z",
     "start_time": "2024-09-20T11:53:16.451288Z"
    }
   },
   "id": "fa0dc9c420f06a1f"
  },
  {
   "cell_type": "code",
   "execution_count": 12,
   "outputs": [
    {
     "name": "stdout",
     "output_type": "stream",
     "text": [
      "630\n",
      "630\n",
      "630\n",
      "630\n",
      "525\n",
      "525\n",
      "525\n",
      "525\n",
      "4725\n"
     ]
    }
   ],
   "source": [
    "'''Arabic_male'''\n",
    "Arabic_Mascline_SOS_data = create_sentence_temp_dataframe(Arabic_Male_temp, Arabic_male_identities)\n"
   ],
   "metadata": {
    "collapsed": false,
    "ExecuteTime": {
     "end_time": "2024-09-20T11:53:17.042715Z",
     "start_time": "2024-09-20T11:53:17.035588Z"
    }
   },
   "id": "a172ee3d27d55836"
  },
  {
   "cell_type": "code",
   "execution_count": 13,
   "outputs": [
    {
     "name": "stdout",
     "output_type": "stream",
     "text": [
      "630\n",
      "630\n",
      "630\n",
      "630\n",
      "525\n",
      "525\n",
      "525\n",
      "525\n",
      "4725\n"
     ]
    }
   ],
   "source": [
    "'''Arabic_Female'''\n",
    "Arabic_Feminine_SOS_data = create_sentence_temp_dataframe(Arabic_Female_temp, Arabic_female_identities)"
   ],
   "metadata": {
    "collapsed": false,
    "ExecuteTime": {
     "end_time": "2024-09-20T11:53:17.580806Z",
     "start_time": "2024-09-20T11:53:17.571837Z"
    }
   },
   "id": "227d050ef8cd7f40"
  },
  {
   "cell_type": "code",
   "execution_count": 14,
   "outputs": [],
   "source": [
    "UK_SOS_data.to_csv(\"SOS_data_in_different_languages/UK_SOS_data.csv\", index=False)\n",
    "US_SOS_data.to_csv(\"SOS_data_in_different_languages/US_SOS_data.csv\", index=False)\n",
    "Arabic_Mascline_SOS_data.to_csv(\"SOS_data_in_different_languages/Arabic_Mascline_SOS_data.csv\", index=False)\n",
    "Arabic_Feminine_SOS_data.to_csv(\"SOS_data_in_different_languages/Arabic_Feminine_SOS_data.csv\", index=False)"
   ],
   "metadata": {
    "collapsed": false,
    "ExecuteTime": {
     "end_time": "2024-09-20T11:53:18.480363Z",
     "start_time": "2024-09-20T11:53:18.430742Z"
    }
   },
   "id": "1371755b3a6b31c8"
  },
  {
   "cell_type": "code",
   "execution_count": 145,
   "outputs": [],
   "source": [],
   "metadata": {
    "collapsed": false,
    "ExecuteTime": {
     "end_time": "2024-09-18T15:04:07.096966Z",
     "start_time": "2024-09-18T15:04:07.088749Z"
    }
   },
   "id": "8f3d8e0638485525"
  },
  {
   "cell_type": "code",
   "execution_count": null,
   "outputs": [],
   "source": [],
   "metadata": {
    "collapsed": false
   },
   "id": "3feb4d999c8bc920"
  }
 ],
 "metadata": {
  "kernelspec": {
   "display_name": "Python 3",
   "language": "python",
   "name": "python3"
  },
  "language_info": {
   "codemirror_mode": {
    "name": "ipython",
    "version": 2
   },
   "file_extension": ".py",
   "mimetype": "text/x-python",
   "name": "python",
   "nbconvert_exporter": "python",
   "pygments_lexer": "ipython2",
   "version": "2.7.6"
  }
 },
 "nbformat": 4,
 "nbformat_minor": 5
}
