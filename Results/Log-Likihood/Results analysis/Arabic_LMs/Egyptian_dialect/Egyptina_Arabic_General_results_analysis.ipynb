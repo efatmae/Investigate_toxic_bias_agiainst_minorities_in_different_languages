{
 "cells": [
  {
   "cell_type": "code",
   "id": "initial_id",
   "metadata": {
    "collapsed": true,
    "jupyter": {
     "is_executing": true
    },
    "ExecuteTime": {
     "end_time": "2024-12-06T19:13:27.432335Z",
     "start_time": "2024-12-06T19:13:27.428508Z"
    }
   },
   "source": [
    "import pandas as pd\n",
    "import scipy.stats as st"
   ],
   "outputs": [],
   "execution_count": 11
  },
  {
   "cell_type": "code",
   "source": [
    "def results_toxic_analysis_full_report (results_df, model_name):\n",
    "    \n",
    "    Bias_types = []\n",
    "    M_Bias_scores = []\n",
    "    N_M_Bias_scores = []\n",
    "    \n",
    "    def print_SOS_bias(bias_tpe, df):\n",
    "        '''Total SOS bias scores'''\n",
    "        No_biased_entires = len(df[df[\"score\"] == 1])\n",
    "        SOS_bias_score = No_biased_entires / len(df)\n",
    "        return bias_tpe, SOS_bias_score\n",
    "    \n",
    "    def print_bias_scores_for_marginalized_groups():\n",
    "        sexual_marginalized = results_df[results_df[\"bias_type\"] == \"Sexual_orientation_Marginalized\"]\n",
    "        sexual_marginalized, sexual_marginalized_bias_score = print_SOS_bias(\"Sexual_orientation_Marginalized\",sexual_marginalized)\n",
    "        Bias_types.append(\"Sexual_orientation\")\n",
    "        M_Bias_scores.append(sexual_marginalized_bias_score)\n",
    "        \n",
    "        gender_marginalized = results_df[results_df[\"bias_type\"] == \"Gender_Marginalized\"]\n",
    "        Bias_types.append(\"Gender\")\n",
    "        Gender_Marginalized, gender_marginalized_bias_score = print_SOS_bias(\"Gender_Marginalized\",gender_marginalized)\n",
    "        M_Bias_scores.append(gender_marginalized_bias_score)\n",
    "\n",
    "        refugee_marginalized = results_df[results_df[\"bias_type\"] == \"Refugees_Marginalized\"]\n",
    "        Bias_types.append(\"Refugees\")\n",
    "        Refugees_Marginalized, refugees_marginalized_bias_score = print_SOS_bias(\"Refugees_Marginalized\",refugee_marginalized)\n",
    "        M_Bias_scores.append(refugees_marginalized_bias_score)\n",
    "        \n",
    "        race_marginalized = results_df[results_df[\"bias_type\"] == \"Race_Marginalized\"]\n",
    "        Race_Marginalized, race_marginalized_bias_scores = print_SOS_bias(\"Race_Marginalized\", race_marginalized)\n",
    "        Bias_types.append(\"Race\")\n",
    "        M_Bias_scores.append(race_marginalized_bias_scores)\n",
    "        \n",
    "        religion_marginalized = results_df[results_df[\"bias_type\"] == \"Religion_Marginalized\"]\n",
    "        Religion_orientation_Marginalized, religion_marginalized_bias_score = print_SOS_bias(\"Religion_orientation_Marginalized\",religion_marginalized)\n",
    "        Bias_types.append(\"Religion\")\n",
    "        M_Bias_scores.append(religion_marginalized_bias_score)\n",
    "        \n",
    "        physical_ability_marginalized = results_df[results_df[\"bias_type\"] == \"Physical_ability_Marginalized\"]\n",
    "        Physical_ability_Marginalized, physical_ability_marginalized_bias_score = print_SOS_bias(\"Physical_ability_Marginalized\", physical_ability_marginalized)\n",
    "        Bias_types.append(\"Physical_ability\")\n",
    "        M_Bias_scores.append(physical_ability_marginalized_bias_score)     \n",
    "        \n",
    "    def print_bias_scores_for_Non_marginalized_groups():    \n",
    "        sexual_Non_marginalized = results_df[results_df[\"bias_type\"] == \"Sexual_orientation_Non_Marginalized\"]\n",
    "        gender_Non_marginalized = results_df[results_df[\"bias_type\"] == \"Gender_Non_marginalized\"]\n",
    "        race_Non_marginalized = results_df[results_df[\"bias_type\"] == \"Race_Non_marginalized\"]\n",
    "        religion_Non_marginalized = results_df[results_df[\"bias_type\"] == \"Religion_Non_Marginalized\"]\n",
    "        physical_ability_Non_marginalized = results_df[results_df[\"bias_type\"] == \"Physical_ability_Non_Marginalized\"]\n",
    "        Refugees_Non_marginalized = results_df[results_df[\"bias_type\"] == \"Refugees_Non_Marginalized\"]\n",
    "\n",
    "        Sexual_orientation_Non_Marginalized, sexual_Non_marginalized_bias_score = print_SOS_bias(\"Sexual_orientation_Non_Marginalized\", sexual_Non_marginalized)\n",
    "        N_M_Bias_scores.append(sexual_Non_marginalized_bias_score)  \n",
    "        \n",
    "        Gender_Non_Marginalized, gender_Non_marginalized_bias_score = print_SOS_bias(\"Gender_Non_Marginalized\", gender_Non_marginalized)\n",
    "        N_M_Bias_scores.append(gender_Non_marginalized_bias_score) \n",
    "        \n",
    "        Refugees_Non_Marginalized, refugees_Non_marginalized_bias_score = print_SOS_bias(\"Refugees_Non_Marginalized\", Refugees_Non_marginalized)\n",
    "        N_M_Bias_scores.append(refugees_Non_marginalized_bias_score) \n",
    "                       \n",
    "        Race_Non_Marginalized, race_Non_marginalized_bias_scores = print_SOS_bias(\"Race_Non_Marginalized\", race_Non_marginalized)\n",
    "        N_M_Bias_scores.append(race_Non_marginalized_bias_scores)         \n",
    "        \n",
    "        Religion_Non_Marginalized, religion_Non_marginalized_bias_scores = print_SOS_bias(\"Religion_Non_Marginalized\", religion_Non_marginalized)\n",
    "        N_M_Bias_scores.append(religion_Non_marginalized_bias_scores)           \n",
    "        \n",
    "        Physical_ability_Non_Marginalized, physical_ability_Non_marginalized_bias_scores = print_SOS_bias(\"Physical_ability_Non_Marginalized\", physical_ability_Non_marginalized)\n",
    "        N_M_Bias_scores.append(physical_ability_Non_marginalized_bias_scores)         \n",
    "        \n",
    "    print_SOS_bias(\"total bias\",results_df)\n",
    "    print_bias_scores_for_marginalized_groups()\n",
    "    print_bias_scores_for_Non_marginalized_groups()\n",
    "    \n",
    "\n",
    "    detailed_results_df = pd.DataFrame({\"Model_Name\":[model_name]*len(M_Bias_scores),\n",
    "                                        \"Bias_Type\": Bias_types,\n",
    "                                        \"Marginalized_Bias_Score\": M_Bias_scores,\n",
    "                                        \"Non_Maarginalized_Bias_scores\": N_M_Bias_scores})\n",
    "    \n",
    "    return detailed_results_df"
   ],
   "metadata": {
    "collapsed": false,
    "ExecuteTime": {
     "end_time": "2024-12-06T19:20:52.536194Z",
     "start_time": "2024-12-06T19:20:52.528411Z"
    }
   },
   "id": "e37a9c3dacf2d3d6",
   "outputs": [],
   "execution_count": 20
  },
  {
   "cell_type": "code",
   "source": [
    "AraBART_results_Masc = pd.read_csv(\"../../../Arabic_LMs/Egyptian_dialect/encoder_decoder/AraBART/Arabic_Mascline_SOS_AraBART.csv\")\n",
    "AraBART_results_Femm = pd.read_csv(\"../../../Arabic_LMs/Egyptian_dialect/encoder_decoder/AraBART/Arabic_Femminine_SOS_AraBART.csv\")\n",
    "AraBART_results_NB = pd.read_csv(\"../../../Arabic_LMs/Egyptian_dialect/encoder_decoder/AraBART/Arabic_Non_Binary_SOS_AraBART.csv\")\n",
    "\n",
    "AraAlBERT_results_Masc = pd.read_csv(\"../../../Arabic_LMs/Egyptian_dialect/Encoder_only/AraAlBERT/Arabic_Mascline_SOS.csv\")\n",
    "AraAlBERT_results_Femm = pd.read_csv(\"../../../Arabic_LMs/Egyptian_dialect/Encoder_only/AraAlBERT/Arabic_Femminine_SOS.csv\")\n",
    "AraAlBERT_results_NB = pd.read_csv(\"../../../Arabic_LMs/Egyptian_dialect/Encoder_only/AraAlBERT/Arabic_Non_Binary_SOS.csv\")\n",
    "\n",
    "AraBERT_results_Masc = pd.read_csv(\"../../../Arabic_LMs/Egyptian_dialect/Encoder_only/AraBERT/Arabic_Mascline_SOS.csv\")\n",
    "AraBERT_results_Femm = pd.read_csv(\"../../../Arabic_LMs/Egyptian_dialect/Encoder_only/AraBERT/Arabic_Femminine_SOS.csv\")\n",
    "AraBERT_results_NB = pd.read_csv(\"../../../Arabic_LMs/Egyptian_dialect/Encoder_only/AraBERT/Arabic_Non_Binary_SOS.csv\")\n",
    "\n",
    "CamelBERT_da_results_Masc = pd.read_csv(\"../../../Arabic_LMs/Egyptian_dialect/Encoder_only/CamelBERT/Arabic_Mascline_SOS_camelbert_da.csv\")\n",
    "CamelBERT_da_results_Femm = pd.read_csv(\"../../../Arabic_LMs/Egyptian_dialect/Encoder_only/CamelBERT/Arabic_Femminine_SOS_camelbert_da.csv\")\n",
    "CamelBERT_da_results_NB = pd.read_csv(\"../../../Arabic_LMs/Egyptian_dialect/Encoder_only/CamelBERT/Arabic_Non_Binary_SOS_camelbert_da.csv\")\n",
    "\n",
    "CamelBERT_msa_results_Masc = pd.read_csv(\"../../../Arabic_LMs/Egyptian_dialect/Encoder_only/CamelBERT/Arabic_Mascline_SOS_camelbert_msa.csv\")\n",
    "CamelBERT_msa_results_Femm = pd.read_csv(\"../../../Arabic_LMs/Egyptian_dialect/Encoder_only/CamelBERT/Arabic_Femminine_SOS_camelbert_msa.csv\")\n",
    "CamelBERT_msa_results_NB = pd.read_csv(\"../../../Arabic_LMs/Egyptian_dialect/Encoder_only/CamelBERT/Arabic_Non_Binary_SOS_camelbert_msa.csv\")\n",
    "\n",
    "XML_Roberta_results_Masc = pd.read_csv(\"../../../Arabic_LMs/Egyptian_dialect/Multilingual_LMs/Encoder_only/XLM_Roberta/Arabic_Mascline_SOS.csv\")\n",
    "XML_Roberta_results_Femm = pd.read_csv(\"../../../Arabic_LMs/Egyptian_dialect/Multilingual_LMs/Encoder_only/XLM_Roberta/Arabic_Femminine_SOS.csv\")\n",
    "XML_Roberta_results_NB = pd.read_csv(\"../../../Arabic_LMs/Egyptian_dialect/Multilingual_LMs/Encoder_only/XLM_Roberta/Arabic_Non_Binary_SOS.csv\")"
   ],
   "metadata": {
    "collapsed": false,
    "ExecuteTime": {
     "end_time": "2024-12-06T19:20:53.026909Z",
     "start_time": "2024-12-06T19:20:52.880729Z"
    }
   },
   "id": "2c6769131acb0df7",
   "outputs": [],
   "execution_count": 21
  },
  {
   "cell_type": "code",
   "source": [
    "print(\"Results for AraBART_results_Masc\")\n",
    "AraBART_results_Masc_results_df = results_toxic_analysis_full_report(AraBART_results_Masc, \"AraBART_results_Masc\")\n",
    "AraBART_results_Masc_results_df.to_csv(\"./AraBART/AraBART_results_Masc_SOS.csv\", index=False)\n",
    "\n",
    "print(\"Results for AraBART_results_Femm\")\n",
    "AraBART_results_Femm_results_df = results_toxic_analysis_full_report(AraBART_results_Femm,\"AraBART_results_Femm\")\n",
    "AraBART_results_Femm_results_df.to_csv(\"./AraBART/AraBART_results_Femm_SOS.csv\", index=False)\n",
    "\n",
    "print(\"Results for AraBART_results_NB\")\n",
    "AraBART_results_NB_results_df = results_toxic_analysis_full_report(AraBART_results_NB,\"AraBART_results_NB\")\n",
    "AraBART_results_NB_results_df.to_csv(\"./AraBART/AraBART_results_NB_SOS.csv\", index=False)"
   ],
   "metadata": {
    "collapsed": false,
    "ExecuteTime": {
     "end_time": "2024-12-06T19:20:53.576930Z",
     "start_time": "2024-12-06T19:20:53.547316Z"
    }
   },
   "id": "d10095f07266d068",
   "outputs": [
    {
     "name": "stdout",
     "output_type": "stream",
     "text": [
      "Results for AraBART_results_Masc\n",
      "Results for AraBART_results_Femm\n",
      "Results for AraBART_results_NB\n"
     ]
    }
   ],
   "execution_count": 22
  },
  {
   "cell_type": "code",
   "source": [
    "print(\"Results for AraAlBERT_results_Masc\")\n",
    "AraAlBERT_results_Masc_results_df = results_toxic_analysis_full_report(AraAlBERT_results_Masc, \"AraAlBERT_results_Masc\")\n",
    "AraAlBERT_results_Masc_results_df.to_csv(\"./AraAlBERT/AraAlBERT_results_Masc_SOS.csv\", index=False)\n",
    "\n",
    "print(\"Results for AraAlBERT_results_Femm\")\n",
    "AraAlBERT_results_Femm_results_df = results_toxic_analysis_full_report(AraAlBERT_results_Femm,\"AraAlBERT_results_Femm\")\n",
    "AraAlBERT_results_Femm_results_df.to_csv(\"./AraAlBERT/AraAlBERT_results_Femm_SOS.csv\", index=False)\n",
    "\n",
    "print(\"Results for AraAlBERT_results_NB\")\n",
    "AraAlBERT_results_NB_results_df = results_toxic_analysis_full_report(AraAlBERT_results_NB,\"AraAlBERT_results_NB\")\n",
    "AraAlBERT_results_NB_results_df.to_csv(\"./AraAlBERT/AraAlBERT_results_NB_SOS.csv\", index=False)"
   ],
   "metadata": {
    "collapsed": false,
    "ExecuteTime": {
     "end_time": "2024-12-06T19:20:54.093714Z",
     "start_time": "2024-12-06T19:20:54.068472Z"
    }
   },
   "id": "83b86cac175bb34b",
   "outputs": [
    {
     "name": "stdout",
     "output_type": "stream",
     "text": [
      "Results for AraAlBERT_results_Masc\n",
      "Results for AraAlBERT_results_Femm\n",
      "Results for AraAlBERT_results_NB\n"
     ]
    }
   ],
   "execution_count": 23
  },
  {
   "cell_type": "code",
   "source": [
    "print(\"Results for AraBERT_results_Masc\")\n",
    "AraBERT_results_Masc_results_df = results_toxic_analysis_full_report(AraBERT_results_Masc, \"AraBERT_results_Masc\")\n",
    "AraBERT_results_Masc_results_df.to_csv(\"./AraBERT/AraBERT_results_Masc_SOS.csv\", index=False)\n",
    "\n",
    "print(\"Results for AraBERT_results_Femm\")\n",
    "AraBERT_results_Femm_results_df = results_toxic_analysis_full_report(AraBERT_results_Femm,\"AraBERT_results_Femm\")\n",
    "AraBERT_results_Femm_results_df.to_csv(\"./AraBERT/AraBERT_results_Femm_SOS.csv\", index=False)\n",
    "\n",
    "print(\"Results for AraBERT_results_NB\")\n",
    "AraBERT_results_NB_results_df = results_toxic_analysis_full_report(AraBERT_results_NB,\"AraBERT_results_NB\")\n",
    "AraBERT_results_NB_results_df.to_csv(\"./AraBERT/AraBERT_results_NB_SOS.csv\", index=False)"
   ],
   "metadata": {
    "collapsed": false,
    "ExecuteTime": {
     "end_time": "2024-12-06T19:20:54.571354Z",
     "start_time": "2024-12-06T19:20:54.556124Z"
    }
   },
   "id": "c06d6d8e3aa96be1",
   "outputs": [
    {
     "name": "stdout",
     "output_type": "stream",
     "text": [
      "Results for AraBERT_results_Masc\n",
      "Results for AraBERT_results_Femm\n",
      "Results for AraBERT_results_NB\n"
     ]
    }
   ],
   "execution_count": 24
  },
  {
   "cell_type": "code",
   "execution_count": 25,
   "outputs": [
    {
     "name": "stdout",
     "output_type": "stream",
     "text": [
      "Results for CamelBERT_msa_results_Masc\n",
      "Results for CamelBERT_msa_results_Femm\n",
      "Results for CamelBERT_msa_results_NB\n"
     ]
    }
   ],
   "source": [
    "print(\"Results for CamelBERT_msa_results_Masc\")\n",
    "CamelBERT_msa_results_Masc_results_df = results_toxic_analysis_full_report(CamelBERT_msa_results_Masc, \"CamelBERT_msa_results_Masc\")\n",
    "CamelBERT_msa_results_Masc_results_df.to_csv(\"./CamelBERT/CamelBERT_msa_results_Masc_SOS.csv\", index=False)\n",
    "\n",
    "print(\"Results for CamelBERT_msa_results_Femm\")\n",
    "CamelBERT_msa_results_Femm_results_df = results_toxic_analysis_full_report(CamelBERT_msa_results_Femm,\"CamelBERT_msa_results_Femm\")\n",
    "CamelBERT_msa_results_Femm_results_df.to_csv(\"./CamelBERT/CamelBERT_msa_results_Femm_SOS.csv\", index=False)\n",
    "\n",
    "print(\"Results for CamelBERT_msa_results_NB\")\n",
    "CamelBERT_msa_results_NB_results_df = results_toxic_analysis_full_report(CamelBERT_msa_results_NB,\"CamelBERT_msa_results_NB\")\n",
    "CamelBERT_msa_results_NB_results_df.to_csv(\"./CamelBERT/CamelBERT_msa_results_NB_SOS.csv\", index=False)"
   ],
   "metadata": {
    "collapsed": false,
    "ExecuteTime": {
     "end_time": "2024-12-06T19:20:55.893700Z",
     "start_time": "2024-12-06T19:20:55.860415Z"
    }
   },
   "id": "539d9b8cdd12d8de"
  },
  {
   "cell_type": "code",
   "execution_count": 26,
   "outputs": [
    {
     "name": "stdout",
     "output_type": "stream",
     "text": [
      "Results for Camel_da_results_Masc\n",
      "Results for CamelBERT_da_results_Femm\n",
      "Results for CamelBERT_da_results_NB\n"
     ]
    }
   ],
   "source": [
    "print(\"Results for Camel_da_results_Masc\")\n",
    "CamelBERT_da_results_Masc_results_df = results_toxic_analysis_full_report(CamelBERT_da_results_Masc, \"CamelBERT_da_results_Masc\")\n",
    "CamelBERT_da_results_Masc_results_df.to_csv(\"./CamelBERT/CamelBERT_da_results_Masc_SOS.csv\", index=False)\n",
    "\n",
    "print(\"Results for CamelBERT_da_results_Femm\")\n",
    "CamelBERT_da_results_Femm_results_df = results_toxic_analysis_full_report(CamelBERT_da_results_Femm,\"CamelBERT_da_results_Femm\")\n",
    "CamelBERT_da_results_Femm_results_df.to_csv(\"./CamelBERT/CamelBERT_da_results_Femm_SOS.csv\", index=False)\n",
    "\n",
    "print(\"Results for CamelBERT_da_results_NB\")\n",
    "CamelBERT_da_results_NB_results_df = results_toxic_analysis_full_report(CamelBERT_da_results_NB,\"CamelBERT_da_results_NB\")\n",
    "CamelBERT_da_results_NB_results_df.to_csv(\"./CamelBERT/CamelBERT_da_results_NB_SOS.csv\", index=False)"
   ],
   "metadata": {
    "collapsed": false,
    "ExecuteTime": {
     "end_time": "2024-12-06T19:20:56.340303Z",
     "start_time": "2024-12-06T19:20:56.317521Z"
    }
   },
   "id": "f58e4ab0cd6532a4"
  },
  {
   "cell_type": "code",
   "execution_count": 27,
   "outputs": [
    {
     "name": "stdout",
     "output_type": "stream",
     "text": [
      "Results for XML_Roberta_results_Masc\n",
      "Results for XML_Roberta_results_Femm\n",
      "Results for XML_Roberta_results_NB\n"
     ]
    }
   ],
   "source": [
    "print(\"Results for XML_Roberta_results_Masc\")\n",
    "XML_Roberta_results_Masc_results_df = results_toxic_analysis_full_report(XML_Roberta_results_Masc, \"XML_Roberta_results_Masc\")\n",
    "XML_Roberta_results_Masc_results_df.to_csv(\"./XLM_Roberta/XML_Roberta_results_Masc_SOS.csv\", index=False)\n",
    "\n",
    "print(\"Results for XML_Roberta_results_Femm\")\n",
    "XML_Roberta_results_Femm_results_df = results_toxic_analysis_full_report(XML_Roberta_results_Femm,\"XML_Roberta_results_Femm\")\n",
    "XML_Roberta_results_Femm_results_df.to_csv(\"./XLM_Roberta/XML_Roberta_results_Femm_SOS.csv\", index=False)\n",
    "\n",
    "print(\"Results for XML_Roberta_results_NB\")\n",
    "XML_Roberta_results_NB_results_df = results_toxic_analysis_full_report(XML_Roberta_results_NB,\"XML_Roberta_results_NB\")\n",
    "XML_Roberta_results_NB_results_df.to_csv(\"./XLM_Roberta/XML_Roberta_results_NB_SOS.csv\", index=False)"
   ],
   "metadata": {
    "collapsed": false,
    "ExecuteTime": {
     "end_time": "2024-12-06T19:20:56.762393Z",
     "start_time": "2024-12-06T19:20:56.739854Z"
    }
   },
   "id": "4ad131001810ce60"
  },
  {
   "cell_type": "code",
   "execution_count": 9,
   "outputs": [],
   "source": [],
   "metadata": {
    "collapsed": false,
    "ExecuteTime": {
     "end_time": "2024-12-06T17:34:12.219806Z",
     "start_time": "2024-12-06T17:34:12.217621Z"
    }
   },
   "id": "732550b3456a01b6"
  }
 ],
 "metadata": {
  "kernelspec": {
   "display_name": "Python 3",
   "language": "python",
   "name": "python3"
  },
  "language_info": {
   "codemirror_mode": {
    "name": "ipython",
    "version": 2
   },
   "file_extension": ".py",
   "mimetype": "text/x-python",
   "name": "python",
   "nbconvert_exporter": "python",
   "pygments_lexer": "ipython2",
   "version": "2.7.6"
  }
 },
 "nbformat": 4,
 "nbformat_minor": 5
}
