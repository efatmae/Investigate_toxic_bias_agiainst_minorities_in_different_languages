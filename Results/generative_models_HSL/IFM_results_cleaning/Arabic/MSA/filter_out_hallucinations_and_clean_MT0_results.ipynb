{
 "cells": [
  {
   "cell_type": "code",
   "id": "initial_id",
   "metadata": {
    "collapsed": true,
    "ExecuteTime": {
     "end_time": "2024-12-05T11:59:52.589125Z",
     "start_time": "2024-12-05T11:59:52.566956Z"
    }
   },
   "source": [
    "import pandas as pd"
   ],
   "outputs": [],
   "execution_count": 12
  },
  {
   "metadata": {
    "ExecuteTime": {
     "end_time": "2024-12-05T11:59:52.595891Z",
     "start_time": "2024-12-05T11:59:52.573293Z"
    }
   },
   "cell_type": "code",
   "source": [
    "def count_hallucinations_extract_generated_results(df,generated_text_col,instruction_lang):\n",
    "    hallucination_flag = []\n",
    "    actual_label = []\n",
    "    for index, row in df.iterrows(): \n",
    "        new_outcome = row[generated_text_col]\n",
    "        \n",
    "        if \"Yes\" in new_outcome or \"No\" in new_outcome or \"لا\" in new_outcome or \"نعم\" in new_outcome or \"Nein\" in new_outcome or \"Ja\" in new_outcome or \"hateful\" in new_outcome or \"كراهية\" in new_outcome or \"hasserfüllt\" in new_outcome:\n",
    "            hallucination_flag.append(\"No-Hallucination\")\n",
    "            if \"Yes\" in new_outcome or \"نعم\" in new_outcome or \"Ja\" in new_outcome or \"hateful\" in new_outcome or \"كراهية\" in new_outcome or \"hasserfüllt\" in new_outcome:\n",
    "                actual_label.append(1)\n",
    "            else:\n",
    "                actual_label.append(0)\n",
    "        else:\n",
    "            hallucination_flag.append(\"Hallucination\")\n",
    "            actual_label.append(-1)\n",
    "\n",
    "    df [\"Hallucination\"] = hallucination_flag\n",
    "    df [\"actual_model_prediction\"] = actual_label\n",
    "    return df"
   ],
   "id": "b891cdae29fc6252",
   "outputs": [],
   "execution_count": 13
  },
  {
   "metadata": {
    "ExecuteTime": {
     "end_time": "2024-12-05T11:59:52.596053Z",
     "start_time": "2024-12-05T11:59:52.576128Z"
    }
   },
   "cell_type": "code",
   "source": [
    "Model_name = \"MT0\"\n",
    "prediction_col_name = \"mt0-base_HGL\""
   ],
   "id": "cbcc32feaafdf284",
   "outputs": [],
   "execution_count": 14
  },
  {
   "metadata": {
    "ExecuteTime": {
     "end_time": "2024-12-05T11:59:52.635002Z",
     "start_time": "2024-12-05T11:59:52.581684Z"
    }
   },
   "cell_type": "code",
   "source": [
    "female_arabic_results = pd.read_csv(\"../../../Arabic_LMs/MSA/Encoder-Decoder/\"+Model_name+\"/Female_IFM_HSD_\"+Model_name+\"_arabic_instructions.csv\")\n",
    "female_englsih_results = pd.read_csv(\"../../../Arabic_LMs/MSA/Encoder-Decoder/\"+Model_name+\"/Female_IFM_HSD_\"+Model_name+\"_English_instructions.csv\")\n",
    "\n",
    "male_arabic_results = pd.read_csv(\"../../../Arabic_LMs/MSA/Encoder-Decoder/\"+Model_name+\"/Male_IFM_HSD_\"+Model_name+\"_arabic_instructions.csv\")\n",
    "male_englsih_results = pd.read_csv(\"../../../Arabic_LMs/MSA/Encoder-Decoder/\"+Model_name+\"/Male_IFM_HSD_\"+Model_name+\"_English_instructions.csv\")\n",
    "\n",
    "NB_arabic_results = pd.read_csv(\"../../../Arabic_LMs/MSA/Encoder-Decoder/\"+Model_name+\"/Non_Binary_IFM_HSD_\"+Model_name+\"_arabic_instructions.csv\")\n",
    "NB_englsih_results = pd.read_csv(\"../../../Arabic_LMs/MSA/Encoder-Decoder/\"+Model_name+\"/Non_Binary_IFM_HSD_\"+Model_name+\"_English_instructions.csv\")"
   ],
   "id": "5e1a6ea5d7c42cbf",
   "outputs": [],
   "execution_count": 15
  },
  {
   "metadata": {
    "ExecuteTime": {
     "end_time": "2024-12-05T11:59:53.043046Z",
     "start_time": "2024-12-05T11:59:52.673094Z"
    }
   },
   "cell_type": "code",
   "source": [
    "female_arabic_results = count_hallucinations_extract_generated_results(female_arabic_results, prediction_col_name, \"Arabic\")\n",
    "female_englsih_results = count_hallucinations_extract_generated_results(female_englsih_results, prediction_col_name, \"English-Arabic\")\n",
    "\n",
    "\n",
    "male_arabic_results = count_hallucinations_extract_generated_results(male_arabic_results, prediction_col_name, \"Arabic\")\n",
    "male_englsih_results = count_hallucinations_extract_generated_results(male_englsih_results, prediction_col_name, \"English-Arabic\")\n",
    "\n",
    "\n",
    "NB_arabic_results = count_hallucinations_extract_generated_results(NB_arabic_results, prediction_col_name, \"Arabic\")\n",
    "NB_englsih_results = count_hallucinations_extract_generated_results(NB_englsih_results, prediction_col_name, \"English-Arabic\")"
   ],
   "id": "31482d905e68f4d2",
   "outputs": [],
   "execution_count": 16
  },
  {
   "metadata": {
    "ExecuteTime": {
     "end_time": "2024-12-05T11:59:53.101815Z",
     "start_time": "2024-12-05T11:59:53.044277Z"
    }
   },
   "cell_type": "code",
   "source": [
    "female_arabic_results.to_csv(\"./Clean_results/\"+Model_name+\"/Female_IFM_HSD_\"+Model_name+\"_arabic_instructions.csv\", index=False)\n",
    "female_englsih_results.to_csv(\"./Clean_results/\"+Model_name+\"/Female_IFM_HSD_\"+Model_name+\"_english_instructions.csv\", index=False)\n",
    "\n",
    "male_arabic_results.to_csv(\"./Clean_results/\"+Model_name+\"/Male_IFM_HSD_\"+Model_name+\"_arabic_instructions.csv\", index=False)\n",
    "male_englsih_results.to_csv(\"./Clean_results/\"+Model_name+\"/Male_IFM_HSD_\"+Model_name+\"_english_instructions.csv\", index=False)\n",
    "\n",
    "NB_arabic_results.to_csv(\"./Clean_results/\"+Model_name+\"/NB_IFM_HSD_\"+Model_name+\"_arabic_instructions.csv\", index=False)\n",
    "NB_englsih_results.to_csv(\"./Clean_results/\"+Model_name+\"/NB_IFM_HSD_\"+Model_name+\"_english_instructions.csv\", index=False)"
   ],
   "id": "22e415d56d6652a0",
   "outputs": [],
   "execution_count": 17
  },
  {
   "metadata": {
    "ExecuteTime": {
     "end_time": "2024-12-05T11:59:53.105200Z",
     "start_time": "2024-12-05T11:59:53.102203Z"
    }
   },
   "cell_type": "code",
   "outputs": [],
   "execution_count": 17,
   "source": [],
   "id": "aa8bca97cf9e5840"
  }
 ],
 "metadata": {
  "kernelspec": {
   "display_name": "Python 3",
   "language": "python",
   "name": "python3"
  },
  "language_info": {
   "codemirror_mode": {
    "name": "ipython",
    "version": 2
   },
   "file_extension": ".py",
   "mimetype": "text/x-python",
   "name": "python",
   "nbconvert_exporter": "python",
   "pygments_lexer": "ipython2",
   "version": "2.7.6"
  }
 },
 "nbformat": 4,
 "nbformat_minor": 5
}
