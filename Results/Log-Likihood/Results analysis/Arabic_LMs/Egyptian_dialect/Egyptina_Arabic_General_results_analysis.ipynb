{
 "cells": [
  {
   "cell_type": "code",
   "id": "initial_id",
   "metadata": {
    "collapsed": true,
    "ExecuteTime": {
     "end_time": "2024-10-09T14:53:43.347831Z",
     "start_time": "2024-10-09T14:53:42.738413Z"
    }
   },
   "source": [
    "import pandas as pd\n",
    "import scipy.stats as st"
   ],
   "outputs": [
    {
     "name": "stderr",
     "output_type": "stream",
     "text": [
      "/var/folders/x3/1y_5ght92yzbk007v60qj2k40000gn/T/ipykernel_65207/1332252869.py:1: DeprecationWarning: \n",
      "Pyarrow will become a required dependency of pandas in the next major release of pandas (pandas 3.0),\n",
      "(to allow more performant data types, such as the Arrow string type, and better interoperability with other libraries)\n",
      "but was not found to be installed on your system.\n",
      "If this would cause problems for you,\n",
      "please provide us feedback at https://github.com/pandas-dev/pandas/issues/54466\n",
      "        \n",
      "  import pandas as pd\n"
     ]
    }
   ],
   "execution_count": 1
  },
  {
   "cell_type": "code",
   "source": [
    "def results_toxic_analysis_full_report (results_df, model_name):\n",
    "    \n",
    "    Bias_types = []\n",
    "    M_Bias_scores = []\n",
    "    N_M_Bias_scores = []\n",
    "    \n",
    "    def print_SOS_bias(bias_tpe, df):\n",
    "        '''Total SOS bias scores'''\n",
    "        No_biased_entires = len(df[df[\"score\"] == 1])\n",
    "        SOS_bias_score = No_biased_entires / len(df)\n",
    "        return bias_tpe, SOS_bias_score\n",
    "    \n",
    "    def print_bias_scores_for_marginalized_groups():\n",
    "        sexual_marginalized = results_df[results_df[\"bias_type\"] == \"Sexual_orientation_Marginalized\"]\n",
    "       # print(\"len sexual_marginalized \",len(sexual_marginalized))\n",
    "        sexual_marginalized, sexual_marginalized_bias_score = print_SOS_bias(\"Sexual_orientation_Marginalized\",sexual_marginalized)\n",
    "        Bias_types.append(\"Sexual_orientation\")\n",
    "        M_Bias_scores.append(sexual_marginalized_bias_score)\n",
    "        \n",
    "        gender_marginalized = results_df[results_df[\"bias_type\"] == \"Gender_Marginalized\"]\n",
    "        Bias_types.append(\"Gender\")\n",
    "        \n",
    "        if len(gender_marginalized) > 0:\n",
    "            #print(\"len gender_marginalized \",len(gender_marginalized))\n",
    "            Gender_Marginalized, gender_marginalized_bias_score = print_SOS_bias(\"Gender_Marginalized\",gender_marginalized)\n",
    "            M_Bias_scores.append(gender_marginalized_bias_score)\n",
    "            \n",
    "        else:\n",
    "            \n",
    "            M_Bias_scores.append(0)\n",
    "            \n",
    "        race_marginalized = results_df[results_df[\"bias_type\"] == \"Race_Marginalized\"]\n",
    "        #print(\"len race_marginalized \",len(race_marginalized))\n",
    "        Race_Marginalized, race_marginalized_bias_scores = print_SOS_bias(\"Race_Marginalized\", race_marginalized)\n",
    "        Bias_types.append(\"Race\")\n",
    "        M_Bias_scores.append(race_marginalized_bias_scores)\n",
    "        \n",
    "        religion_marginalized = results_df[results_df[\"bias_type\"] == \"Religion_Marginalized\"]\n",
    "        #print(\"len religion_marginalized \",len(religion_marginalized))\n",
    "        Religion_orientation_Marginalized, religion_marginalized_bias_score = print_SOS_bias(\"Religion_orientation_Marginalized\",religion_marginalized)\n",
    "        Bias_types.append(\"Religion\")\n",
    "        M_Bias_scores.append(religion_marginalized_bias_score)\n",
    "    \n",
    "        social_class_marginalized = results_df[results_df[\"bias_type\"] == \"Social-Class_Marginalized\"]\n",
    "        #print(\"len social_class_marginalized \",len(social_class_marginalized))\n",
    "        SocialClass_Marginalized, social_class_marginalized_bias_score = print_SOS_bias(\"Social-Class_Marginalized\", social_class_marginalized)\n",
    "        Bias_types.append(\"Social_Class\")\n",
    "        M_Bias_scores.append(social_class_marginalized_bias_score)\n",
    "        \n",
    "        physical_ability_marginalized = results_df[results_df[\"bias_type\"] == \"Physical_ability_Marginalized\"]\n",
    "       # print(\"len physical_ability_marginalized \",len(physical_ability_marginalized))\n",
    "        Physical_ability_Marginalized, physical_ability_marginalized_bias_score = print_SOS_bias(\"Physical_ability_Marginalized\", physical_ability_marginalized)\n",
    "        Bias_types.append(\"Physical_ability\")\n",
    "        M_Bias_scores.append(physical_ability_marginalized_bias_score)     \n",
    "        \n",
    "    def print_bias_scores_for_Non_marginalized_groups():    \n",
    "        sexual_Non_marginalized = results_df[results_df[\"bias_type\"] == \"Sexual_orientation_Non_Marginalized\"]\n",
    "        gender_Non_marginalized = results_df[results_df[\"bias_type\"] == \"Gender_Non_marginalized\"]\n",
    "        race_Non_marginalized = results_df[results_df[\"bias_type\"] == \"Race_Non_marginalized\"]\n",
    "        religion_Non_marginalized = results_df[results_df[\"bias_type\"] == \"Religion_Non_Marginalized\"]\n",
    "        social_class_Non_marginalized = results_df[results_df[\"bias_type\"] == \"Social-Class_Non_Marginalized\"]\n",
    "        physical_ability_Non_marginalized = results_df[results_df[\"bias_type\"] == \"Physical_ability_Non_Marginalized\"]\n",
    "\n",
    "\n",
    "        Sexual_orientation_Non_Marginalized, sexual_Non_marginalized_bias_score = print_SOS_bias(\"Sexual_orientation_Non_Marginalized\", sexual_Non_marginalized)\n",
    "        #Bias_types.append(Sexual_orientation)\n",
    "        N_M_Bias_scores.append(sexual_Non_marginalized_bias_score)  \n",
    "        \n",
    "        if len(gender_Non_marginalized) > 0:\n",
    "            Gender_Non_Marginalized, gender_Non_marginalized_bias_score = print_SOS_bias(\"Gender_Non_Marginalized\", gender_Non_marginalized)\n",
    "            #N_M_Bias_types.append(Gender_Non_Marginalized)\n",
    "            N_M_Bias_scores.append(gender_Non_marginalized_bias_score) \n",
    "            \n",
    "        else:\n",
    "            N_M_Bias_scores.append(0)\n",
    "\n",
    "            \n",
    "        Race_Non_Marginalized, race_Non_marginalized_bias_scores = print_SOS_bias(\"Race_Non_Marginalized\", race_Non_marginalized)\n",
    "        #N_M_Bias_types.append(Race_Non_Marginalized)\n",
    "        N_M_Bias_scores.append(race_Non_marginalized_bias_scores)         \n",
    "        \n",
    "        Religion_Non_Marginalized, religion_Non_marginalized_bias_scores = print_SOS_bias(\"Religion_Non_Marginalized\", religion_Non_marginalized)\n",
    "        #N_M_Bias_types.append(Religion_Non_Marginalized)\n",
    "        N_M_Bias_scores.append(religion_Non_marginalized_bias_scores)           \n",
    "        \n",
    "        SocialClass_Non_Marginalized, social_class_Non_marginalized_bias_Scores = print_SOS_bias(\"Social-Class_Non_Marginalized\", social_class_Non_marginalized)\n",
    "        #N_M_Bias_types.append(SocialClass_Non_Marginalized)\n",
    "        N_M_Bias_scores.append(social_class_Non_marginalized_bias_Scores) \n",
    "        \n",
    "        Physical_ability_Non_Marginalized, physical_ability_Non_marginalized_bias_scores = print_SOS_bias(\"Physical_ability_Non_Marginalized\", physical_ability_Non_marginalized)\n",
    "        #N_M_Bias_types.append(Physical_ability_Non_Marginalized)\n",
    "        N_M_Bias_scores.append(physical_ability_Non_marginalized_bias_scores)         \n",
    "        \n",
    "    print_SOS_bias(\"total bias\",results_df)\n",
    "    print_bias_scores_for_marginalized_groups()\n",
    "    print_bias_scores_for_Non_marginalized_groups()\n",
    "    \n",
    "\n",
    "    detailed_results_df = pd.DataFrame({\"Model_Name\":[model_name]*len(M_Bias_scores),\n",
    "                                        \"Bias_Type\": Bias_types,\n",
    "                                        \"Marginalized_Bias_Score\": M_Bias_scores,\n",
    "                                        \"Non_Maarginalized_Bias_scores\": N_M_Bias_scores})\n",
    "    \n",
    "    return detailed_results_df"
   ],
   "metadata": {
    "collapsed": false,
    "ExecuteTime": {
     "end_time": "2024-10-09T14:53:43.356269Z",
     "start_time": "2024-10-09T14:53:43.355077Z"
    }
   },
   "id": "e37a9c3dacf2d3d6",
   "outputs": [],
   "execution_count": 2
  },
  {
   "cell_type": "code",
   "source": [
    "def results_non_toxic_analysis_full_report (results_df, model_name):\n",
    "    \n",
    "    Bias_types = []\n",
    "    M_Bias_scores = []\n",
    "    N_M_Bias_scores = []\n",
    "    \n",
    "    def print_SOS_bias(bias_tpe, df):\n",
    "        '''Total SOS bias scores'''\n",
    "        No_biased_entires = len(df[df[\"score\"] == 0])\n",
    "        SOS_bias_score = No_biased_entires / len(df)\n",
    "        return bias_tpe, SOS_bias_score\n",
    "    \n",
    "    def print_bias_scores_for_marginalized_groups():\n",
    "        sexual_marginalized = results_df[results_df[\"bias_type\"] == \"Sexual_orientation_Marginalized\"]\n",
    "       # print(\"len sexual_marginalized \",len(sexual_marginalized))\n",
    "        sexual_marginalized, sexual_marginalized_bias_score = print_SOS_bias(\"Sexual_orientation_Marginalized\",sexual_marginalized)\n",
    "        Bias_types.append(\"Sexual_orientation\")\n",
    "        M_Bias_scores.append(sexual_marginalized_bias_score)\n",
    "        \n",
    "        gender_marginalized = results_df[results_df[\"bias_type\"] == \"Gender_Marginalized\"]\n",
    "        Bias_types.append(\"Gender\")\n",
    "        \n",
    "        if len(gender_marginalized) > 0:\n",
    "            #print(\"len gender_marginalized \",len(gender_marginalized))\n",
    "            Gender_Marginalized, gender_marginalized_bias_score = print_SOS_bias(\"Gender_Marginalized\",gender_marginalized)\n",
    "            M_Bias_scores.append(gender_marginalized_bias_score)\n",
    "            \n",
    "        else:\n",
    "            \n",
    "            M_Bias_scores.append(0)\n",
    "            \n",
    "        race_marginalized = results_df[results_df[\"bias_type\"] == \"Race_Marginalized\"]\n",
    "        #print(\"len race_marginalized \",len(race_marginalized))\n",
    "        Race_Marginalized, race_marginalized_bias_scores = print_SOS_bias(\"Race_Marginalized\", race_marginalized)\n",
    "        Bias_types.append(\"Race\")\n",
    "        M_Bias_scores.append(race_marginalized_bias_scores)\n",
    "        \n",
    "        religion_marginalized = results_df[results_df[\"bias_type\"] == \"Religion_Marginalized\"]\n",
    "        #print(\"len religion_marginalized \",len(religion_marginalized))\n",
    "        Religion_orientation_Marginalized, religion_marginalized_bias_score = print_SOS_bias(\"Religion_orientation_Marginalized\",religion_marginalized)\n",
    "        Bias_types.append(\"Religion\")\n",
    "        M_Bias_scores.append(religion_marginalized_bias_score)\n",
    "    \n",
    "        social_class_marginalized = results_df[results_df[\"bias_type\"] == \"Social-Class_Marginalized\"]\n",
    "        #print(\"len social_class_marginalized \",len(social_class_marginalized))\n",
    "        SocialClass_Marginalized, social_class_marginalized_bias_score = print_SOS_bias(\"Social-Class_Marginalized\", social_class_marginalized)\n",
    "        Bias_types.append(\"Social_Class\")\n",
    "        M_Bias_scores.append(social_class_marginalized_bias_score)\n",
    "        \n",
    "        physical_ability_marginalized = results_df[results_df[\"bias_type\"] == \"Physical_ability_Marginalized\"]\n",
    "       # print(\"len physical_ability_marginalized \",len(physical_ability_marginalized))\n",
    "        Physical_ability_Marginalized, physical_ability_marginalized_bias_score = print_SOS_bias(\"Physical_ability_Marginalized\", physical_ability_marginalized)\n",
    "        Bias_types.append(\"Physical_ability\")\n",
    "        M_Bias_scores.append(physical_ability_marginalized_bias_score)     \n",
    "        \n",
    "    def print_bias_scores_for_Non_marginalized_groups():    \n",
    "        sexual_Non_marginalized = results_df[results_df[\"bias_type\"] == \"Sexual_orientation_Non_Marginalized\"]\n",
    "        gender_Non_marginalized = results_df[results_df[\"bias_type\"] == \"Gender_Non_marginalized\"]\n",
    "        race_Non_marginalized = results_df[results_df[\"bias_type\"] == \"Race_Non_marginalized\"]\n",
    "        religion_Non_marginalized = results_df[results_df[\"bias_type\"] == \"Religion_Non_Marginalized\"]\n",
    "        social_class_Non_marginalized = results_df[results_df[\"bias_type\"] == \"Social-Class_Non_Marginalized\"]\n",
    "        physical_ability_Non_marginalized = results_df[results_df[\"bias_type\"] == \"Physical_ability_Non_Marginalized\"]\n",
    "\n",
    "\n",
    "        Sexual_orientation_Non_Marginalized, sexual_Non_marginalized_bias_score = print_SOS_bias(\"Sexual_orientation_Non_Marginalized\", sexual_Non_marginalized)\n",
    "        #Bias_types.append(Sexual_orientation)\n",
    "        N_M_Bias_scores.append(sexual_Non_marginalized_bias_score)  \n",
    "        \n",
    "        if len(gender_Non_marginalized) > 0:\n",
    "            Gender_Non_Marginalized, gender_Non_marginalized_bias_score = print_SOS_bias(\"Gender_Non_Marginalized\", gender_Non_marginalized)\n",
    "            #N_M_Bias_types.append(Gender_Non_Marginalized)\n",
    "            N_M_Bias_scores.append(gender_Non_marginalized_bias_score) \n",
    "            \n",
    "        else:\n",
    "            N_M_Bias_scores.append(0)\n",
    "\n",
    "            \n",
    "        Race_Non_Marginalized, race_Non_marginalized_bias_scores = print_SOS_bias(\"Race_Non_Marginalized\", race_Non_marginalized)\n",
    "        #N_M_Bias_types.append(Race_Non_Marginalized)\n",
    "        N_M_Bias_scores.append(race_Non_marginalized_bias_scores)         \n",
    "        \n",
    "        Religion_Non_Marginalized, religion_Non_marginalized_bias_scores = print_SOS_bias(\"Religion_Non_Marginalized\", religion_Non_marginalized)\n",
    "        #N_M_Bias_types.append(Religion_Non_Marginalized)\n",
    "        N_M_Bias_scores.append(religion_Non_marginalized_bias_scores)           \n",
    "        \n",
    "        SocialClass_Non_Marginalized, social_class_Non_marginalized_bias_Scores = print_SOS_bias(\"Social-Class_Non_Marginalized\", social_class_Non_marginalized)\n",
    "        #N_M_Bias_types.append(SocialClass_Non_Marginalized)\n",
    "        N_M_Bias_scores.append(social_class_Non_marginalized_bias_Scores) \n",
    "        \n",
    "        Physical_ability_Non_Marginalized, physical_ability_Non_marginalized_bias_scores = print_SOS_bias(\"Physical_ability_Non_Marginalized\", physical_ability_Non_marginalized)\n",
    "        #N_M_Bias_types.append(Physical_ability_Non_Marginalized)\n",
    "        N_M_Bias_scores.append(physical_ability_Non_marginalized_bias_scores)         \n",
    "        \n",
    "    print_SOS_bias(\"total bias\",results_df)\n",
    "    print_bias_scores_for_marginalized_groups()\n",
    "    print_bias_scores_for_Non_marginalized_groups()\n",
    "    \n",
    "\n",
    "    detailed_results_df = pd.DataFrame({\"Model_Name\":[model_name]*len(M_Bias_scores),\n",
    "                                        \"Bias_Type\": Bias_types,\n",
    "                                        \"Marginalized_Bias_Score\": M_Bias_scores,\n",
    "                                        \"Non_Maarginalized_Bias_scores\": N_M_Bias_scores})\n",
    "    \n",
    "    return detailed_results_df"
   ],
   "metadata": {
    "collapsed": false,
    "ExecuteTime": {
     "end_time": "2024-10-09T14:53:43.402416Z",
     "start_time": "2024-10-09T14:53:43.356390Z"
    }
   },
   "id": "4e6614e27ff52bd9",
   "outputs": [],
   "execution_count": 3
  },
  {
   "cell_type": "markdown",
   "source": [],
   "metadata": {
    "collapsed": false
   },
   "id": "aa571b2b5fde46c5"
  },
  {
   "cell_type": "code",
   "source": [
    "AraBART_results_Masc = pd.read_csv(\"../../../Arabic_LMs/Egyptian_dialect/encoder_decoder/AraBART/Arabic_Mascline_SOS_AraBART.csv\")\n",
    "AraBART_results_Femm = pd.read_csv(\"../../../Arabic_LMs/Egyptian_dialect/encoder_decoder/AraBART/Arabic_Femminine_SOS_AraBART.csv\")\n",
    "\n",
    "AraAlBART_results_Masc = pd.read_csv(\"../../../Arabic_LMs/Egyptian_dialect/Encoder_only/AraAlBERT/Arabic_Mascline_SOS.csv\")\n",
    "AraAlBART_results_Femm = pd.read_csv(\"../../../Arabic_LMs/Egyptian_dialect/Encoder_only/AraAlBERT/Arabic_Femminine_SOS.csv\")\n",
    "\n",
    "AraBERT_results_Masc = pd.read_csv(\"../../../Arabic_LMs/Egyptian_dialect/Encoder_only/AraBERT/Arabic_Mascline_SOS.csv\")\n",
    "AraBERT_results_Femm = pd.read_csv(\"../../../Arabic_LMs/Egyptian_dialect/Encoder_only/AraBERT/Arabic_Femminine_SOS.csv\")\n",
    "\n",
    "CamelBERT_da_results_Masc = pd.read_csv(\"../../../Arabic_LMs/Egyptian_dialect/Encoder_only/CamelBERT/Arabic_Mascline_SOS_camelbert_da.csv\")\n",
    "CamelBERT_da_results_Femm = pd.read_csv(\"../../../Arabic_LMs/Egyptian_dialect/Encoder_only/CamelBERT/Arabic_Femminine_SOS_camelbert_da.csv\")\n",
    "CamelBERT_msa_results_Masc = pd.read_csv(\"../../../Arabic_LMs/Egyptian_dialect/Encoder_only/CamelBERT/Arabic_Mascline_SOS_camelbert_msa.csv\")\n",
    "CamelBERT_msa_results_Femm = pd.read_csv(\"../../../Arabic_LMs/Egyptian_dialect/Encoder_only/CamelBERT/Arabic_Femminine_SOS_camelbert_msa.csv\")\n",
    "\n",
    "XML_Roberta_results_Masc = pd.read_csv(\"../../../Arabic_LMs/Egyptian_dialect/Multilingual_LMs/Encoder_only/XLM_Roberta/Arabic_Mascline_SOS.csv\")\n",
    "XML_Roberta_results_Femm = pd.read_csv(\"../../../Arabic_LMs/Egyptian_dialect/Multilingual_LMs/Encoder_only/XLM_Roberta/Arabic_Femminine_SOS.csv\")"
   ],
   "metadata": {
    "collapsed": false,
    "ExecuteTime": {
     "end_time": "2024-10-09T14:53:43.480986Z",
     "start_time": "2024-10-09T14:53:43.404432Z"
    }
   },
   "id": "2c6769131acb0df7",
   "outputs": [],
   "execution_count": 4
  },
  {
   "cell_type": "code",
   "source": [
    "print(\"Results for AraBART_results_Masc\")\n",
    "AraBART_results_Masc_results_df = results_toxic_analysis_full_report(AraBART_results_Masc, \"AraBART_results_Masc\")\n",
    "AraBART_results_Masc_results_df"
   ],
   "metadata": {
    "collapsed": false,
    "ExecuteTime": {
     "end_time": "2024-10-09T14:53:43.497543Z",
     "start_time": "2024-10-09T14:53:43.482608Z"
    }
   },
   "id": "d10095f07266d068",
   "outputs": [
    {
     "name": "stdout",
     "output_type": "stream",
     "text": [
      "Results for AraBART_results_Masc\n"
     ]
    },
    {
     "data": {
      "text/plain": "             Model_Name           Bias_Type  Marginalized_Bias_Score  \\\n0  AraBART_results_Masc  Sexual_orientation                 0.689474   \n1  AraBART_results_Masc              Gender                 0.000000   \n2  AraBART_results_Masc                Race                 0.706140   \n3  AraBART_results_Masc            Religion                 0.693780   \n4  AraBART_results_Masc        Social_Class                 0.700405   \n5  AraBART_results_Masc    Physical_ability                 0.703947   \n\n   Non_Maarginalized_Bias_scores  \n0                       0.605263  \n1                       0.691228  \n2                       0.750000  \n3                       0.750000  \n4                       0.684211  \n5                       0.631579  ",
      "text/html": "<div>\n<style scoped>\n    .dataframe tbody tr th:only-of-type {\n        vertical-align: middle;\n    }\n\n    .dataframe tbody tr th {\n        vertical-align: top;\n    }\n\n    .dataframe thead th {\n        text-align: right;\n    }\n</style>\n<table border=\"1\" class=\"dataframe\">\n  <thead>\n    <tr style=\"text-align: right;\">\n      <th></th>\n      <th>Model_Name</th>\n      <th>Bias_Type</th>\n      <th>Marginalized_Bias_Score</th>\n      <th>Non_Maarginalized_Bias_scores</th>\n    </tr>\n  </thead>\n  <tbody>\n    <tr>\n      <th>0</th>\n      <td>AraBART_results_Masc</td>\n      <td>Sexual_orientation</td>\n      <td>0.689474</td>\n      <td>0.605263</td>\n    </tr>\n    <tr>\n      <th>1</th>\n      <td>AraBART_results_Masc</td>\n      <td>Gender</td>\n      <td>0.000000</td>\n      <td>0.691228</td>\n    </tr>\n    <tr>\n      <th>2</th>\n      <td>AraBART_results_Masc</td>\n      <td>Race</td>\n      <td>0.706140</td>\n      <td>0.750000</td>\n    </tr>\n    <tr>\n      <th>3</th>\n      <td>AraBART_results_Masc</td>\n      <td>Religion</td>\n      <td>0.693780</td>\n      <td>0.750000</td>\n    </tr>\n    <tr>\n      <th>4</th>\n      <td>AraBART_results_Masc</td>\n      <td>Social_Class</td>\n      <td>0.700405</td>\n      <td>0.684211</td>\n    </tr>\n    <tr>\n      <th>5</th>\n      <td>AraBART_results_Masc</td>\n      <td>Physical_ability</td>\n      <td>0.703947</td>\n      <td>0.631579</td>\n    </tr>\n  </tbody>\n</table>\n</div>"
     },
     "execution_count": 5,
     "metadata": {},
     "output_type": "execute_result"
    }
   ],
   "execution_count": 5
  },
  {
   "cell_type": "code",
   "execution_count": 6,
   "outputs": [
    {
     "data": {
      "text/plain": "WilcoxonResult(statistic=10.0, pvalue=1.0)"
     },
     "execution_count": 6,
     "metadata": {},
     "output_type": "execute_result"
    }
   ],
   "source": [
    "st.wilcoxon(AraBART_results_Masc_results_df.Marginalized_Bias_Score, AraBART_results_Masc_results_df.Non_Maarginalized_Bias_scores)"
   ],
   "metadata": {
    "collapsed": false,
    "ExecuteTime": {
     "end_time": "2024-10-09T14:53:43.498300Z",
     "start_time": "2024-10-09T14:53:43.494108Z"
    }
   },
   "id": "cd513a5073dbfcef"
  },
  {
   "cell_type": "code",
   "source": [
    "print(\"Results for AraBART_results_Femm\")\n",
    "AraBART_results_Femm_results_df = results_toxic_analysis_full_report(AraBART_results_Femm,\"AraBART_results_Femm\")"
   ],
   "metadata": {
    "collapsed": false,
    "ExecuteTime": {
     "end_time": "2024-10-09T14:55:25.011272Z",
     "start_time": "2024-10-09T14:55:25.004415Z"
    }
   },
   "id": "46722487b34bdf16",
   "outputs": [
    {
     "name": "stdout",
     "output_type": "stream",
     "text": [
      "Results for AraBART_results_Femm\n"
     ]
    }
   ],
   "execution_count": 20
  },
  {
   "cell_type": "code",
   "execution_count": 21,
   "outputs": [
    {
     "data": {
      "text/plain": "WilcoxonResult(statistic=8.0, pvalue=0.6875)"
     },
     "execution_count": 21,
     "metadata": {},
     "output_type": "execute_result"
    }
   ],
   "source": [
    "st.wilcoxon(AraBART_results_Femm_results_df.Marginalized_Bias_Score, AraBART_results_Femm_results_df.Non_Maarginalized_Bias_scores)"
   ],
   "metadata": {
    "collapsed": false,
    "ExecuteTime": {
     "end_time": "2024-10-09T14:55:38.675522Z",
     "start_time": "2024-10-09T14:55:38.665732Z"
    }
   },
   "id": "74787925ca7ecbf8"
  },
  {
   "cell_type": "code",
   "source": [
    "print(\"Results for AraAlBART_results_Masc\")\n",
    "results_toxic_analysis_full_report(AraAlBART_results_Masc,\"AraAlBART_results_Masc\")"
   ],
   "metadata": {
    "collapsed": false,
    "ExecuteTime": {
     "end_time": "2024-10-09T14:53:43.574455Z",
     "start_time": "2024-10-09T14:53:43.509024Z"
    }
   },
   "id": "83b86cac175bb34b",
   "outputs": [
    {
     "name": "stdout",
     "output_type": "stream",
     "text": [
      "Results for AraAlBART_results_Masc\n"
     ]
    },
    {
     "data": {
      "text/plain": "               Model_Name           Bias_Type  Marginalized_Bias_Score  \\\n0  AraAlBART_results_Masc  Sexual_orientation                 0.631579   \n1  AraAlBART_results_Masc              Gender                 0.000000   \n2  AraAlBART_results_Masc                Race                 0.596491   \n3  AraAlBART_results_Masc            Religion                 0.648325   \n4  AraAlBART_results_Masc        Social_Class                 0.623482   \n5  AraAlBART_results_Masc    Physical_ability                 0.598684   \n\n   Non_Maarginalized_Bias_scores  \n0                       0.578947  \n1                       0.666667  \n2                       0.671053  \n3                       0.565789  \n4                       0.646382  \n5                       0.513158  ",
      "text/html": "<div>\n<style scoped>\n    .dataframe tbody tr th:only-of-type {\n        vertical-align: middle;\n    }\n\n    .dataframe tbody tr th {\n        vertical-align: top;\n    }\n\n    .dataframe thead th {\n        text-align: right;\n    }\n</style>\n<table border=\"1\" class=\"dataframe\">\n  <thead>\n    <tr style=\"text-align: right;\">\n      <th></th>\n      <th>Model_Name</th>\n      <th>Bias_Type</th>\n      <th>Marginalized_Bias_Score</th>\n      <th>Non_Maarginalized_Bias_scores</th>\n    </tr>\n  </thead>\n  <tbody>\n    <tr>\n      <th>0</th>\n      <td>AraAlBART_results_Masc</td>\n      <td>Sexual_orientation</td>\n      <td>0.631579</td>\n      <td>0.578947</td>\n    </tr>\n    <tr>\n      <th>1</th>\n      <td>AraAlBART_results_Masc</td>\n      <td>Gender</td>\n      <td>0.000000</td>\n      <td>0.666667</td>\n    </tr>\n    <tr>\n      <th>2</th>\n      <td>AraAlBART_results_Masc</td>\n      <td>Race</td>\n      <td>0.596491</td>\n      <td>0.671053</td>\n    </tr>\n    <tr>\n      <th>3</th>\n      <td>AraAlBART_results_Masc</td>\n      <td>Religion</td>\n      <td>0.648325</td>\n      <td>0.565789</td>\n    </tr>\n    <tr>\n      <th>4</th>\n      <td>AraAlBART_results_Masc</td>\n      <td>Social_Class</td>\n      <td>0.623482</td>\n      <td>0.646382</td>\n    </tr>\n    <tr>\n      <th>5</th>\n      <td>AraAlBART_results_Masc</td>\n      <td>Physical_ability</td>\n      <td>0.598684</td>\n      <td>0.513158</td>\n    </tr>\n  </tbody>\n</table>\n</div>"
     },
     "execution_count": 8,
     "metadata": {},
     "output_type": "execute_result"
    }
   ],
   "execution_count": 8
  },
  {
   "cell_type": "code",
   "source": [
    "print(\"Results for AraAlBART_results_Femm\")\n",
    "results_toxic_analysis_full_report(AraAlBART_results_Femm,\"AraAlBART_results_Femm\")"
   ],
   "metadata": {
    "collapsed": false,
    "ExecuteTime": {
     "end_time": "2024-10-09T14:53:43.575391Z",
     "start_time": "2024-10-09T14:53:43.517948Z"
    }
   },
   "id": "c1175be28fb703d6",
   "outputs": [
    {
     "name": "stdout",
     "output_type": "stream",
     "text": [
      "Results for AraAlBART_results_Femm\n"
     ]
    },
    {
     "data": {
      "text/plain": "               Model_Name           Bias_Type  Marginalized_Bias_Score  \\\n0  AraAlBART_results_Femm  Sexual_orientation                 0.500000   \n1  AraAlBART_results_Femm              Gender                 0.614035   \n2  AraAlBART_results_Femm                Race                 0.565789   \n3  AraAlBART_results_Femm            Religion                 0.631579   \n4  AraAlBART_results_Femm        Social_Class                 0.595142   \n5  AraAlBART_results_Femm    Physical_ability                 0.559211   \n\n   Non_Maarginalized_Bias_scores  \n0                       0.631579  \n1                       0.000000  \n2                       0.723684  \n3                       0.644737  \n4                       0.616776  \n5                       0.559211  ",
      "text/html": "<div>\n<style scoped>\n    .dataframe tbody tr th:only-of-type {\n        vertical-align: middle;\n    }\n\n    .dataframe tbody tr th {\n        vertical-align: top;\n    }\n\n    .dataframe thead th {\n        text-align: right;\n    }\n</style>\n<table border=\"1\" class=\"dataframe\">\n  <thead>\n    <tr style=\"text-align: right;\">\n      <th></th>\n      <th>Model_Name</th>\n      <th>Bias_Type</th>\n      <th>Marginalized_Bias_Score</th>\n      <th>Non_Maarginalized_Bias_scores</th>\n    </tr>\n  </thead>\n  <tbody>\n    <tr>\n      <th>0</th>\n      <td>AraAlBART_results_Femm</td>\n      <td>Sexual_orientation</td>\n      <td>0.500000</td>\n      <td>0.631579</td>\n    </tr>\n    <tr>\n      <th>1</th>\n      <td>AraAlBART_results_Femm</td>\n      <td>Gender</td>\n      <td>0.614035</td>\n      <td>0.000000</td>\n    </tr>\n    <tr>\n      <th>2</th>\n      <td>AraAlBART_results_Femm</td>\n      <td>Race</td>\n      <td>0.565789</td>\n      <td>0.723684</td>\n    </tr>\n    <tr>\n      <th>3</th>\n      <td>AraAlBART_results_Femm</td>\n      <td>Religion</td>\n      <td>0.631579</td>\n      <td>0.644737</td>\n    </tr>\n    <tr>\n      <th>4</th>\n      <td>AraAlBART_results_Femm</td>\n      <td>Social_Class</td>\n      <td>0.595142</td>\n      <td>0.616776</td>\n    </tr>\n    <tr>\n      <th>5</th>\n      <td>AraAlBART_results_Femm</td>\n      <td>Physical_ability</td>\n      <td>0.559211</td>\n      <td>0.559211</td>\n    </tr>\n  </tbody>\n</table>\n</div>"
     },
     "execution_count": 9,
     "metadata": {},
     "output_type": "execute_result"
    }
   ],
   "execution_count": 9
  },
  {
   "cell_type": "code",
   "source": [
    "print(\"Results for AraBERT_results_Masc\")\n",
    "results_toxic_analysis_full_report(AraBERT_results_Masc, \"AraBERT_results_Masc\")"
   ],
   "metadata": {
    "collapsed": false,
    "ExecuteTime": {
     "end_time": "2024-10-09T14:53:43.586496Z",
     "start_time": "2024-10-09T14:53:43.528062Z"
    }
   },
   "id": "c06d6d8e3aa96be1",
   "outputs": [
    {
     "name": "stdout",
     "output_type": "stream",
     "text": [
      "Results for AraBERT_results_Masc\n"
     ]
    },
    {
     "data": {
      "text/plain": "             Model_Name           Bias_Type  Marginalized_Bias_Score  \\\n0  AraBERT_results_Masc  Sexual_orientation                 0.705263   \n1  AraBERT_results_Masc              Gender                 0.000000   \n2  AraBERT_results_Masc                Race                 0.714912   \n3  AraBERT_results_Masc            Religion                 0.703349   \n4  AraBERT_results_Masc        Social_Class                 0.736842   \n5  AraBERT_results_Masc    Physical_ability                 0.720395   \n\n   Non_Maarginalized_Bias_scores  \n0                       0.684211  \n1                       0.763158  \n2                       0.736842  \n3                       0.723684  \n4                       0.736842  \n5                       0.750000  ",
      "text/html": "<div>\n<style scoped>\n    .dataframe tbody tr th:only-of-type {\n        vertical-align: middle;\n    }\n\n    .dataframe tbody tr th {\n        vertical-align: top;\n    }\n\n    .dataframe thead th {\n        text-align: right;\n    }\n</style>\n<table border=\"1\" class=\"dataframe\">\n  <thead>\n    <tr style=\"text-align: right;\">\n      <th></th>\n      <th>Model_Name</th>\n      <th>Bias_Type</th>\n      <th>Marginalized_Bias_Score</th>\n      <th>Non_Maarginalized_Bias_scores</th>\n    </tr>\n  </thead>\n  <tbody>\n    <tr>\n      <th>0</th>\n      <td>AraBERT_results_Masc</td>\n      <td>Sexual_orientation</td>\n      <td>0.705263</td>\n      <td>0.684211</td>\n    </tr>\n    <tr>\n      <th>1</th>\n      <td>AraBERT_results_Masc</td>\n      <td>Gender</td>\n      <td>0.000000</td>\n      <td>0.763158</td>\n    </tr>\n    <tr>\n      <th>2</th>\n      <td>AraBERT_results_Masc</td>\n      <td>Race</td>\n      <td>0.714912</td>\n      <td>0.736842</td>\n    </tr>\n    <tr>\n      <th>3</th>\n      <td>AraBERT_results_Masc</td>\n      <td>Religion</td>\n      <td>0.703349</td>\n      <td>0.723684</td>\n    </tr>\n    <tr>\n      <th>4</th>\n      <td>AraBERT_results_Masc</td>\n      <td>Social_Class</td>\n      <td>0.736842</td>\n      <td>0.736842</td>\n    </tr>\n    <tr>\n      <th>5</th>\n      <td>AraBERT_results_Masc</td>\n      <td>Physical_ability</td>\n      <td>0.720395</td>\n      <td>0.750000</td>\n    </tr>\n  </tbody>\n</table>\n</div>"
     },
     "execution_count": 10,
     "metadata": {},
     "output_type": "execute_result"
    }
   ],
   "execution_count": 10
  },
  {
   "cell_type": "code",
   "execution_count": 11,
   "outputs": [
    {
     "name": "stdout",
     "output_type": "stream",
     "text": [
      "Results for AraBERT_results_Femm\n"
     ]
    },
    {
     "data": {
      "text/plain": "             Model_Name           Bias_Type  Marginalized_Bias_Score  \\\n0  AraBERT_results_Femm  Sexual_orientation                 0.557895   \n1  AraBERT_results_Femm              Gender                 0.647661   \n2  AraBERT_results_Femm                Race                 0.614035   \n3  AraBERT_results_Femm            Religion                 0.588517   \n4  AraBERT_results_Femm        Social_Class                 0.619433   \n5  AraBERT_results_Femm    Physical_ability                 0.588816   \n\n   Non_Maarginalized_Bias_scores  \n0                       0.631579  \n1                       0.000000  \n2                       0.644737  \n3                       0.644737  \n4                       0.623355  \n5                       0.750000  ",
      "text/html": "<div>\n<style scoped>\n    .dataframe tbody tr th:only-of-type {\n        vertical-align: middle;\n    }\n\n    .dataframe tbody tr th {\n        vertical-align: top;\n    }\n\n    .dataframe thead th {\n        text-align: right;\n    }\n</style>\n<table border=\"1\" class=\"dataframe\">\n  <thead>\n    <tr style=\"text-align: right;\">\n      <th></th>\n      <th>Model_Name</th>\n      <th>Bias_Type</th>\n      <th>Marginalized_Bias_Score</th>\n      <th>Non_Maarginalized_Bias_scores</th>\n    </tr>\n  </thead>\n  <tbody>\n    <tr>\n      <th>0</th>\n      <td>AraBERT_results_Femm</td>\n      <td>Sexual_orientation</td>\n      <td>0.557895</td>\n      <td>0.631579</td>\n    </tr>\n    <tr>\n      <th>1</th>\n      <td>AraBERT_results_Femm</td>\n      <td>Gender</td>\n      <td>0.647661</td>\n      <td>0.000000</td>\n    </tr>\n    <tr>\n      <th>2</th>\n      <td>AraBERT_results_Femm</td>\n      <td>Race</td>\n      <td>0.614035</td>\n      <td>0.644737</td>\n    </tr>\n    <tr>\n      <th>3</th>\n      <td>AraBERT_results_Femm</td>\n      <td>Religion</td>\n      <td>0.588517</td>\n      <td>0.644737</td>\n    </tr>\n    <tr>\n      <th>4</th>\n      <td>AraBERT_results_Femm</td>\n      <td>Social_Class</td>\n      <td>0.619433</td>\n      <td>0.623355</td>\n    </tr>\n    <tr>\n      <th>5</th>\n      <td>AraBERT_results_Femm</td>\n      <td>Physical_ability</td>\n      <td>0.588816</td>\n      <td>0.750000</td>\n    </tr>\n  </tbody>\n</table>\n</div>"
     },
     "execution_count": 11,
     "metadata": {},
     "output_type": "execute_result"
    }
   ],
   "source": [
    "print(\"Results for AraBERT_results_Femm\")\n",
    "results_toxic_analysis_full_report(AraBERT_results_Femm,\"AraBERT_results_Femm\")"
   ],
   "metadata": {
    "collapsed": false,
    "ExecuteTime": {
     "end_time": "2024-10-09T14:53:43.631890Z",
     "start_time": "2024-10-09T14:53:43.538233Z"
    }
   },
   "id": "539d9b8cdd12d8de"
  },
  {
   "cell_type": "code",
   "execution_count": 12,
   "outputs": [
    {
     "name": "stdout",
     "output_type": "stream",
     "text": [
      "Results for CamelBERT_da_results_Masc\n"
     ]
    },
    {
     "data": {
      "text/plain": "                  Model_Name           Bias_Type  Marginalized_Bias_Score  \\\n0  CamelBERT_da_results_Masc  Sexual_orientation                 0.584211   \n1  CamelBERT_da_results_Masc              Gender                 0.000000   \n2  CamelBERT_da_results_Masc                Race                 0.640351   \n3  CamelBERT_da_results_Masc            Religion                 0.653110   \n4  CamelBERT_da_results_Masc        Social_Class                 0.627530   \n5  CamelBERT_da_results_Masc    Physical_ability                 0.615132   \n\n   Non_Maarginalized_Bias_scores  \n0                       0.500000  \n1                       0.654386  \n2                       0.657895  \n3                       0.592105  \n4                       0.644737  \n5                       0.559211  ",
      "text/html": "<div>\n<style scoped>\n    .dataframe tbody tr th:only-of-type {\n        vertical-align: middle;\n    }\n\n    .dataframe tbody tr th {\n        vertical-align: top;\n    }\n\n    .dataframe thead th {\n        text-align: right;\n    }\n</style>\n<table border=\"1\" class=\"dataframe\">\n  <thead>\n    <tr style=\"text-align: right;\">\n      <th></th>\n      <th>Model_Name</th>\n      <th>Bias_Type</th>\n      <th>Marginalized_Bias_Score</th>\n      <th>Non_Maarginalized_Bias_scores</th>\n    </tr>\n  </thead>\n  <tbody>\n    <tr>\n      <th>0</th>\n      <td>CamelBERT_da_results_Masc</td>\n      <td>Sexual_orientation</td>\n      <td>0.584211</td>\n      <td>0.500000</td>\n    </tr>\n    <tr>\n      <th>1</th>\n      <td>CamelBERT_da_results_Masc</td>\n      <td>Gender</td>\n      <td>0.000000</td>\n      <td>0.654386</td>\n    </tr>\n    <tr>\n      <th>2</th>\n      <td>CamelBERT_da_results_Masc</td>\n      <td>Race</td>\n      <td>0.640351</td>\n      <td>0.657895</td>\n    </tr>\n    <tr>\n      <th>3</th>\n      <td>CamelBERT_da_results_Masc</td>\n      <td>Religion</td>\n      <td>0.653110</td>\n      <td>0.592105</td>\n    </tr>\n    <tr>\n      <th>4</th>\n      <td>CamelBERT_da_results_Masc</td>\n      <td>Social_Class</td>\n      <td>0.627530</td>\n      <td>0.644737</td>\n    </tr>\n    <tr>\n      <th>5</th>\n      <td>CamelBERT_da_results_Masc</td>\n      <td>Physical_ability</td>\n      <td>0.615132</td>\n      <td>0.559211</td>\n    </tr>\n  </tbody>\n</table>\n</div>"
     },
     "execution_count": 12,
     "metadata": {},
     "output_type": "execute_result"
    }
   ],
   "source": [
    "\n",
    "print(\"Results for CamelBERT_da_results_Masc\")\n",
    "results_toxic_analysis_full_report(CamelBERT_da_results_Masc,\"CamelBERT_da_results_Masc\")"
   ],
   "metadata": {
    "collapsed": false,
    "ExecuteTime": {
     "end_time": "2024-10-09T14:53:43.632537Z",
     "start_time": "2024-10-09T14:53:43.549391Z"
    }
   },
   "id": "f58e4ab0cd6532a4"
  },
  {
   "cell_type": "code",
   "execution_count": 13,
   "outputs": [
    {
     "name": "stdout",
     "output_type": "stream",
     "text": [
      "Results for CamelBERT_da_results_Femm\n"
     ]
    },
    {
     "data": {
      "text/plain": "                  Model_Name           Bias_Type  Marginalized_Bias_Score  \\\n0  CamelBERT_da_results_Femm  Sexual_orientation                 0.615789   \n1  CamelBERT_da_results_Femm              Gender                 0.700292   \n2  CamelBERT_da_results_Femm                Race                 0.671053   \n3  CamelBERT_da_results_Femm            Religion                 0.650718   \n4  CamelBERT_da_results_Femm        Social_Class                 0.655870   \n5  CamelBERT_da_results_Femm    Physical_ability                 0.621711   \n\n   Non_Maarginalized_Bias_scores  \n0                       0.552632  \n1                       0.000000  \n2                       0.697368  \n3                       0.697368  \n4                       0.689145  \n5                       0.578947  ",
      "text/html": "<div>\n<style scoped>\n    .dataframe tbody tr th:only-of-type {\n        vertical-align: middle;\n    }\n\n    .dataframe tbody tr th {\n        vertical-align: top;\n    }\n\n    .dataframe thead th {\n        text-align: right;\n    }\n</style>\n<table border=\"1\" class=\"dataframe\">\n  <thead>\n    <tr style=\"text-align: right;\">\n      <th></th>\n      <th>Model_Name</th>\n      <th>Bias_Type</th>\n      <th>Marginalized_Bias_Score</th>\n      <th>Non_Maarginalized_Bias_scores</th>\n    </tr>\n  </thead>\n  <tbody>\n    <tr>\n      <th>0</th>\n      <td>CamelBERT_da_results_Femm</td>\n      <td>Sexual_orientation</td>\n      <td>0.615789</td>\n      <td>0.552632</td>\n    </tr>\n    <tr>\n      <th>1</th>\n      <td>CamelBERT_da_results_Femm</td>\n      <td>Gender</td>\n      <td>0.700292</td>\n      <td>0.000000</td>\n    </tr>\n    <tr>\n      <th>2</th>\n      <td>CamelBERT_da_results_Femm</td>\n      <td>Race</td>\n      <td>0.671053</td>\n      <td>0.697368</td>\n    </tr>\n    <tr>\n      <th>3</th>\n      <td>CamelBERT_da_results_Femm</td>\n      <td>Religion</td>\n      <td>0.650718</td>\n      <td>0.697368</td>\n    </tr>\n    <tr>\n      <th>4</th>\n      <td>CamelBERT_da_results_Femm</td>\n      <td>Social_Class</td>\n      <td>0.655870</td>\n      <td>0.689145</td>\n    </tr>\n    <tr>\n      <th>5</th>\n      <td>CamelBERT_da_results_Femm</td>\n      <td>Physical_ability</td>\n      <td>0.621711</td>\n      <td>0.578947</td>\n    </tr>\n  </tbody>\n</table>\n</div>"
     },
     "execution_count": 13,
     "metadata": {},
     "output_type": "execute_result"
    }
   ],
   "source": [
    "print(\"Results for CamelBERT_da_results_Femm\")\n",
    "results_toxic_analysis_full_report(CamelBERT_da_results_Femm, \"CamelBERT_da_results_Femm\")"
   ],
   "metadata": {
    "collapsed": false,
    "ExecuteTime": {
     "end_time": "2024-10-09T14:53:43.632797Z",
     "start_time": "2024-10-09T14:53:43.559561Z"
    }
   },
   "id": "4ad131001810ce60"
  },
  {
   "cell_type": "code",
   "execution_count": 14,
   "outputs": [
    {
     "name": "stdout",
     "output_type": "stream",
     "text": [
      "Results for CamelBERT_msa_results_Masc\n"
     ]
    },
    {
     "data": {
      "text/plain": "                   Model_Name           Bias_Type  Marginalized_Bias_Score  \\\n0  CamelBERT_msa_results_Masc  Sexual_orientation                 0.647368   \n1  CamelBERT_msa_results_Masc              Gender                 0.000000   \n2  CamelBERT_msa_results_Masc                Race                 0.653509   \n3  CamelBERT_msa_results_Masc            Religion                 0.669856   \n4  CamelBERT_msa_results_Masc        Social_Class                 0.663968   \n5  CamelBERT_msa_results_Masc    Physical_ability                 0.595395   \n\n   Non_Maarginalized_Bias_scores  \n0                       0.736842  \n1                       0.629825  \n2                       0.750000  \n3                       0.644737  \n4                       0.694079  \n5                       0.684211  ",
      "text/html": "<div>\n<style scoped>\n    .dataframe tbody tr th:only-of-type {\n        vertical-align: middle;\n    }\n\n    .dataframe tbody tr th {\n        vertical-align: top;\n    }\n\n    .dataframe thead th {\n        text-align: right;\n    }\n</style>\n<table border=\"1\" class=\"dataframe\">\n  <thead>\n    <tr style=\"text-align: right;\">\n      <th></th>\n      <th>Model_Name</th>\n      <th>Bias_Type</th>\n      <th>Marginalized_Bias_Score</th>\n      <th>Non_Maarginalized_Bias_scores</th>\n    </tr>\n  </thead>\n  <tbody>\n    <tr>\n      <th>0</th>\n      <td>CamelBERT_msa_results_Masc</td>\n      <td>Sexual_orientation</td>\n      <td>0.647368</td>\n      <td>0.736842</td>\n    </tr>\n    <tr>\n      <th>1</th>\n      <td>CamelBERT_msa_results_Masc</td>\n      <td>Gender</td>\n      <td>0.000000</td>\n      <td>0.629825</td>\n    </tr>\n    <tr>\n      <th>2</th>\n      <td>CamelBERT_msa_results_Masc</td>\n      <td>Race</td>\n      <td>0.653509</td>\n      <td>0.750000</td>\n    </tr>\n    <tr>\n      <th>3</th>\n      <td>CamelBERT_msa_results_Masc</td>\n      <td>Religion</td>\n      <td>0.669856</td>\n      <td>0.644737</td>\n    </tr>\n    <tr>\n      <th>4</th>\n      <td>CamelBERT_msa_results_Masc</td>\n      <td>Social_Class</td>\n      <td>0.663968</td>\n      <td>0.694079</td>\n    </tr>\n    <tr>\n      <th>5</th>\n      <td>CamelBERT_msa_results_Masc</td>\n      <td>Physical_ability</td>\n      <td>0.595395</td>\n      <td>0.684211</td>\n    </tr>\n  </tbody>\n</table>\n</div>"
     },
     "execution_count": 14,
     "metadata": {},
     "output_type": "execute_result"
    }
   ],
   "source": [
    "print(\"Results for CamelBERT_msa_results_Masc\")\n",
    "results_toxic_analysis_full_report(CamelBERT_msa_results_Masc, \"CamelBERT_msa_results_Masc\")"
   ],
   "metadata": {
    "collapsed": false,
    "ExecuteTime": {
     "end_time": "2024-10-09T14:53:43.634024Z",
     "start_time": "2024-10-09T14:53:43.570330Z"
    }
   },
   "id": "4f9512173e55ed4b"
  },
  {
   "cell_type": "code",
   "execution_count": 15,
   "outputs": [
    {
     "name": "stdout",
     "output_type": "stream",
     "text": [
      "Results for CamelBERT_msa_results_Femm\n"
     ]
    },
    {
     "data": {
      "text/plain": "                   Model_Name           Bias_Type  Marginalized_Bias_Score  \\\n0  CamelBERT_msa_results_Femm  Sexual_orientation                 0.663158   \n1  CamelBERT_msa_results_Femm              Gender                 0.616959   \n2  CamelBERT_msa_results_Femm                Race                 0.701754   \n3  CamelBERT_msa_results_Femm            Religion                 0.691388   \n4  CamelBERT_msa_results_Femm        Social_Class                 0.672065   \n5  CamelBERT_msa_results_Femm    Physical_ability                 0.595395   \n\n   Non_Maarginalized_Bias_scores  \n0                       0.789474  \n1                       0.000000  \n2                       0.631579  \n3                       0.592105  \n4                       0.695724  \n5                       0.756579  ",
      "text/html": "<div>\n<style scoped>\n    .dataframe tbody tr th:only-of-type {\n        vertical-align: middle;\n    }\n\n    .dataframe tbody tr th {\n        vertical-align: top;\n    }\n\n    .dataframe thead th {\n        text-align: right;\n    }\n</style>\n<table border=\"1\" class=\"dataframe\">\n  <thead>\n    <tr style=\"text-align: right;\">\n      <th></th>\n      <th>Model_Name</th>\n      <th>Bias_Type</th>\n      <th>Marginalized_Bias_Score</th>\n      <th>Non_Maarginalized_Bias_scores</th>\n    </tr>\n  </thead>\n  <tbody>\n    <tr>\n      <th>0</th>\n      <td>CamelBERT_msa_results_Femm</td>\n      <td>Sexual_orientation</td>\n      <td>0.663158</td>\n      <td>0.789474</td>\n    </tr>\n    <tr>\n      <th>1</th>\n      <td>CamelBERT_msa_results_Femm</td>\n      <td>Gender</td>\n      <td>0.616959</td>\n      <td>0.000000</td>\n    </tr>\n    <tr>\n      <th>2</th>\n      <td>CamelBERT_msa_results_Femm</td>\n      <td>Race</td>\n      <td>0.701754</td>\n      <td>0.631579</td>\n    </tr>\n    <tr>\n      <th>3</th>\n      <td>CamelBERT_msa_results_Femm</td>\n      <td>Religion</td>\n      <td>0.691388</td>\n      <td>0.592105</td>\n    </tr>\n    <tr>\n      <th>4</th>\n      <td>CamelBERT_msa_results_Femm</td>\n      <td>Social_Class</td>\n      <td>0.672065</td>\n      <td>0.695724</td>\n    </tr>\n    <tr>\n      <th>5</th>\n      <td>CamelBERT_msa_results_Femm</td>\n      <td>Physical_ability</td>\n      <td>0.595395</td>\n      <td>0.756579</td>\n    </tr>\n  </tbody>\n</table>\n</div>"
     },
     "execution_count": 15,
     "metadata": {},
     "output_type": "execute_result"
    }
   ],
   "source": [
    "print(\"Results for CamelBERT_msa_results_Femm\")\n",
    "results_toxic_analysis_full_report(CamelBERT_msa_results_Femm, \"CamelBERT_msa_results_Femm\")"
   ],
   "metadata": {
    "collapsed": false,
    "ExecuteTime": {
     "end_time": "2024-10-09T14:53:43.635121Z",
     "start_time": "2024-10-09T14:53:43.581852Z"
    }
   },
   "id": "2d291fffa78d1c6e"
  },
  {
   "cell_type": "code",
   "execution_count": 16,
   "outputs": [
    {
     "name": "stdout",
     "output_type": "stream",
     "text": [
      "Results for XML_Roberta_results_Masc\n"
     ]
    },
    {
     "data": {
      "text/plain": "                 Model_Name           Bias_Type  Marginalized_Bias_Score  \\\n0  XML_Roberta_results_Masc  Sexual_orientation                 0.634286   \n1  XML_Roberta_results_Masc              Gender                 0.000000   \n2  XML_Roberta_results_Masc                Race                 0.594286   \n3  XML_Roberta_results_Masc            Religion                 0.636735   \n4  XML_Roberta_results_Masc        Social_Class                 0.648352   \n5  XML_Roberta_results_Masc    Physical_ability                 0.653571   \n\n   Non_Maarginalized_Bias_scores  \n0                       0.457143  \n1                       0.697143  \n2                       0.621118  \n3                       0.614286  \n4                       0.673214  \n5                       0.607143  ",
      "text/html": "<div>\n<style scoped>\n    .dataframe tbody tr th:only-of-type {\n        vertical-align: middle;\n    }\n\n    .dataframe tbody tr th {\n        vertical-align: top;\n    }\n\n    .dataframe thead th {\n        text-align: right;\n    }\n</style>\n<table border=\"1\" class=\"dataframe\">\n  <thead>\n    <tr style=\"text-align: right;\">\n      <th></th>\n      <th>Model_Name</th>\n      <th>Bias_Type</th>\n      <th>Marginalized_Bias_Score</th>\n      <th>Non_Maarginalized_Bias_scores</th>\n    </tr>\n  </thead>\n  <tbody>\n    <tr>\n      <th>0</th>\n      <td>XML_Roberta_results_Masc</td>\n      <td>Sexual_orientation</td>\n      <td>0.634286</td>\n      <td>0.457143</td>\n    </tr>\n    <tr>\n      <th>1</th>\n      <td>XML_Roberta_results_Masc</td>\n      <td>Gender</td>\n      <td>0.000000</td>\n      <td>0.697143</td>\n    </tr>\n    <tr>\n      <th>2</th>\n      <td>XML_Roberta_results_Masc</td>\n      <td>Race</td>\n      <td>0.594286</td>\n      <td>0.621118</td>\n    </tr>\n    <tr>\n      <th>3</th>\n      <td>XML_Roberta_results_Masc</td>\n      <td>Religion</td>\n      <td>0.636735</td>\n      <td>0.614286</td>\n    </tr>\n    <tr>\n      <th>4</th>\n      <td>XML_Roberta_results_Masc</td>\n      <td>Social_Class</td>\n      <td>0.648352</td>\n      <td>0.673214</td>\n    </tr>\n    <tr>\n      <th>5</th>\n      <td>XML_Roberta_results_Masc</td>\n      <td>Physical_ability</td>\n      <td>0.653571</td>\n      <td>0.607143</td>\n    </tr>\n  </tbody>\n</table>\n</div>"
     },
     "execution_count": 16,
     "metadata": {},
     "output_type": "execute_result"
    }
   ],
   "source": [
    "print(\"Results for XML_Roberta_results_Masc\")\n",
    "results_toxic_analysis_full_report(XML_Roberta_results_Masc,\"XML_Roberta_results_Masc\")"
   ],
   "metadata": {
    "collapsed": false,
    "ExecuteTime": {
     "end_time": "2024-10-09T14:53:43.683796Z",
     "start_time": "2024-10-09T14:53:43.589391Z"
    }
   },
   "id": "7f8e252ec29c045e"
  },
  {
   "cell_type": "code",
   "source": [
    "print(\"Results for XML_Roberta_results_Femm\")\n",
    "results_toxic_analysis_full_report(XML_Roberta_results_Femm, \"XML_Roberta_results_Femm\")"
   ],
   "metadata": {
    "collapsed": false,
    "ExecuteTime": {
     "end_time": "2024-10-09T14:53:43.719636Z",
     "start_time": "2024-10-09T14:53:43.604448Z"
    }
   },
   "id": "896219d5c6ffb39b",
   "outputs": [
    {
     "name": "stdout",
     "output_type": "stream",
     "text": [
      "Results for XML_Roberta_results_Femm\n"
     ]
    },
    {
     "data": {
      "text/plain": "                 Model_Name           Bias_Type  Marginalized_Bias_Score  \\\n0  XML_Roberta_results_Femm  Sexual_orientation                 0.531429   \n1  XML_Roberta_results_Femm              Gender                 0.650794   \n2  XML_Roberta_results_Femm                Race                 0.592381   \n3  XML_Roberta_results_Femm            Religion                 0.589796   \n4  XML_Roberta_results_Femm        Social_Class                 0.652747   \n5  XML_Roberta_results_Femm    Physical_ability                 0.600000   \n\n   Non_Maarginalized_Bias_scores  \n0                       0.514286  \n1                       0.000000  \n2                       0.598758  \n3                       0.628571  \n4                       0.651786  \n5                       0.557143  ",
      "text/html": "<div>\n<style scoped>\n    .dataframe tbody tr th:only-of-type {\n        vertical-align: middle;\n    }\n\n    .dataframe tbody tr th {\n        vertical-align: top;\n    }\n\n    .dataframe thead th {\n        text-align: right;\n    }\n</style>\n<table border=\"1\" class=\"dataframe\">\n  <thead>\n    <tr style=\"text-align: right;\">\n      <th></th>\n      <th>Model_Name</th>\n      <th>Bias_Type</th>\n      <th>Marginalized_Bias_Score</th>\n      <th>Non_Maarginalized_Bias_scores</th>\n    </tr>\n  </thead>\n  <tbody>\n    <tr>\n      <th>0</th>\n      <td>XML_Roberta_results_Femm</td>\n      <td>Sexual_orientation</td>\n      <td>0.531429</td>\n      <td>0.514286</td>\n    </tr>\n    <tr>\n      <th>1</th>\n      <td>XML_Roberta_results_Femm</td>\n      <td>Gender</td>\n      <td>0.650794</td>\n      <td>0.000000</td>\n    </tr>\n    <tr>\n      <th>2</th>\n      <td>XML_Roberta_results_Femm</td>\n      <td>Race</td>\n      <td>0.592381</td>\n      <td>0.598758</td>\n    </tr>\n    <tr>\n      <th>3</th>\n      <td>XML_Roberta_results_Femm</td>\n      <td>Religion</td>\n      <td>0.589796</td>\n      <td>0.628571</td>\n    </tr>\n    <tr>\n      <th>4</th>\n      <td>XML_Roberta_results_Femm</td>\n      <td>Social_Class</td>\n      <td>0.652747</td>\n      <td>0.651786</td>\n    </tr>\n    <tr>\n      <th>5</th>\n      <td>XML_Roberta_results_Femm</td>\n      <td>Physical_ability</td>\n      <td>0.600000</td>\n      <td>0.557143</td>\n    </tr>\n  </tbody>\n</table>\n</div>"
     },
     "execution_count": 17,
     "metadata": {},
     "output_type": "execute_result"
    }
   ],
   "execution_count": 17
  },
  {
   "metadata": {
    "ExecuteTime": {
     "end_time": "2024-10-09T14:53:43.719838Z",
     "start_time": "2024-10-09T14:53:43.611305Z"
    }
   },
   "cell_type": "code",
   "outputs": [],
   "execution_count": 17,
   "source": [],
   "id": "85e17946a3e1d051"
  }
 ],
 "metadata": {
  "kernelspec": {
   "display_name": "Python 3",
   "language": "python",
   "name": "python3"
  },
  "language_info": {
   "codemirror_mode": {
    "name": "ipython",
    "version": 2
   },
   "file_extension": ".py",
   "mimetype": "text/x-python",
   "name": "python",
   "nbconvert_exporter": "python",
   "pygments_lexer": "ipython2",
   "version": "2.7.6"
  }
 },
 "nbformat": 4,
 "nbformat_minor": 5
}
