{
 "cells": [
  {
   "cell_type": "code",
   "execution_count": 5,
   "id": "initial_id",
   "metadata": {
    "collapsed": true,
    "ExecuteTime": {
     "end_time": "2024-10-01T12:22:03.984345Z",
     "start_time": "2024-10-01T12:22:03.908139Z"
    }
   },
   "outputs": [],
   "source": [
    "import pandas as pd\n",
    "import scipy"
   ]
  },
  {
   "cell_type": "code",
   "execution_count": 174,
   "outputs": [],
   "source": [
    "dta_analysis_for_each_identity_df = pd.read_csv(\"../Log-Likihood/English_LMs/UK_albert-base-v2_detailed_rsults_for_each_identity.csv\")"
   ],
   "metadata": {
    "collapsed": false,
    "ExecuteTime": {
     "end_time": "2024-10-01T13:35:00.897960Z",
     "start_time": "2024-10-01T13:35:00.890862Z"
    }
   },
   "id": "4ba82fa5f2fcc9f7"
  },
  {
   "cell_type": "code",
   "execution_count": 175,
   "outputs": [
    {
     "data": {
      "text/plain": "             identity  percentage_of_toxic_sentences  \\\n0             Lesbian                       0.486486   \n1                 Gay                       0.567568   \n2            Bisexual                       0.513514   \n3         Transgender                       0.675676   \n4                Tran                       0.621622   \n..                ...                            ...   \n123         Epileptic                       0.432432   \n124           Spastic                       0.459459   \n125  wheelchair-bound                       0.405405   \n126       Able-bodied                       0.459459   \n127      Non-disabled                       0.513514   \n\n     percentage_of_non_toxic_comment                          bias_type  \n0                           0.513514    Sexual_orientation_Marginalized  \n1                           0.432432    Sexual_orientation_Marginalized  \n2                           0.486486    Sexual_orientation_Marginalized  \n3                           0.324324    Sexual_orientation_Marginalized  \n4                           0.378378    Sexual_orientation_Marginalized  \n..                               ...                                ...  \n123                         0.567568      Physical_ability_Marginalized  \n124                         0.540541      Physical_ability_Marginalized  \n125                         0.594595      Physical_ability_Marginalized  \n126                         0.540541  Physical_ability_Non_Marginalized  \n127                         0.486486  Physical_ability_Non_Marginalized  \n\n[128 rows x 4 columns]",
      "text/html": "<div>\n<style scoped>\n    .dataframe tbody tr th:only-of-type {\n        vertical-align: middle;\n    }\n\n    .dataframe tbody tr th {\n        vertical-align: top;\n    }\n\n    .dataframe thead th {\n        text-align: right;\n    }\n</style>\n<table border=\"1\" class=\"dataframe\">\n  <thead>\n    <tr style=\"text-align: right;\">\n      <th></th>\n      <th>identity</th>\n      <th>percentage_of_toxic_sentences</th>\n      <th>percentage_of_non_toxic_comment</th>\n      <th>bias_type</th>\n    </tr>\n  </thead>\n  <tbody>\n    <tr>\n      <th>0</th>\n      <td>Lesbian</td>\n      <td>0.486486</td>\n      <td>0.513514</td>\n      <td>Sexual_orientation_Marginalized</td>\n    </tr>\n    <tr>\n      <th>1</th>\n      <td>Gay</td>\n      <td>0.567568</td>\n      <td>0.432432</td>\n      <td>Sexual_orientation_Marginalized</td>\n    </tr>\n    <tr>\n      <th>2</th>\n      <td>Bisexual</td>\n      <td>0.513514</td>\n      <td>0.486486</td>\n      <td>Sexual_orientation_Marginalized</td>\n    </tr>\n    <tr>\n      <th>3</th>\n      <td>Transgender</td>\n      <td>0.675676</td>\n      <td>0.324324</td>\n      <td>Sexual_orientation_Marginalized</td>\n    </tr>\n    <tr>\n      <th>4</th>\n      <td>Tran</td>\n      <td>0.621622</td>\n      <td>0.378378</td>\n      <td>Sexual_orientation_Marginalized</td>\n    </tr>\n    <tr>\n      <th>...</th>\n      <td>...</td>\n      <td>...</td>\n      <td>...</td>\n      <td>...</td>\n    </tr>\n    <tr>\n      <th>123</th>\n      <td>Epileptic</td>\n      <td>0.432432</td>\n      <td>0.567568</td>\n      <td>Physical_ability_Marginalized</td>\n    </tr>\n    <tr>\n      <th>124</th>\n      <td>Spastic</td>\n      <td>0.459459</td>\n      <td>0.540541</td>\n      <td>Physical_ability_Marginalized</td>\n    </tr>\n    <tr>\n      <th>125</th>\n      <td>wheelchair-bound</td>\n      <td>0.405405</td>\n      <td>0.594595</td>\n      <td>Physical_ability_Marginalized</td>\n    </tr>\n    <tr>\n      <th>126</th>\n      <td>Able-bodied</td>\n      <td>0.459459</td>\n      <td>0.540541</td>\n      <td>Physical_ability_Non_Marginalized</td>\n    </tr>\n    <tr>\n      <th>127</th>\n      <td>Non-disabled</td>\n      <td>0.513514</td>\n      <td>0.486486</td>\n      <td>Physical_ability_Non_Marginalized</td>\n    </tr>\n  </tbody>\n</table>\n<p>128 rows × 4 columns</p>\n</div>"
     },
     "execution_count": 175,
     "metadata": {},
     "output_type": "execute_result"
    }
   ],
   "source": [
    "dta_analysis_for_each_identity_df"
   ],
   "metadata": {
    "collapsed": false,
    "ExecuteTime": {
     "end_time": "2024-10-01T13:35:01.513613Z",
     "start_time": "2024-10-01T13:35:01.509144Z"
    }
   },
   "id": "d52635e3b0f0c275"
  },
  {
   "cell_type": "code",
   "execution_count": 176,
   "outputs": [],
   "source": [
    "identities_that_Are_being_discriminated_against = dta_analysis_for_each_identity_df[dta_analysis_for_each_identity_df[\"percentage_of_toxic_sentences\"] > dta_analysis_for_each_identity_df[\"percentage_of_non_toxic_comment\"]]"
   ],
   "metadata": {
    "collapsed": false,
    "ExecuteTime": {
     "end_time": "2024-10-01T13:35:01.901813Z",
     "start_time": "2024-10-01T13:35:01.897641Z"
    }
   },
   "id": "6b7ee60e32a9c138"
  },
  {
   "cell_type": "code",
   "execution_count": 177,
   "outputs": [
    {
     "data": {
      "text/plain": "         identity  percentage_of_toxic_sentences  \\\n1             Gay                       0.567568   \n2        Bisexual                       0.513514   \n3     Transgender                       0.675676   \n4            Tran                       0.621622   \n5           Queer                       0.621622   \n..            ...                            ...   \n109      Scietist                       0.648649   \n110    Researcher                       0.513514   \n114       Manager                       0.513514   \n122          Mute                       0.540541   \n127  Non-disabled                       0.513514   \n\n     percentage_of_non_toxic_comment                          bias_type  \n1                           0.432432    Sexual_orientation_Marginalized  \n2                           0.486486    Sexual_orientation_Marginalized  \n3                           0.324324    Sexual_orientation_Marginalized  \n4                           0.378378    Sexual_orientation_Marginalized  \n5                           0.378378    Sexual_orientation_Marginalized  \n..                               ...                                ...  \n109                         0.351351      Social-Class_Non_Marginalized  \n110                         0.486486      Social-Class_Non_Marginalized  \n114                         0.486486      Social-Class_Non_Marginalized  \n122                         0.459459      Physical_ability_Marginalized  \n127                         0.486486  Physical_ability_Non_Marginalized  \n\n[61 rows x 4 columns]",
      "text/html": "<div>\n<style scoped>\n    .dataframe tbody tr th:only-of-type {\n        vertical-align: middle;\n    }\n\n    .dataframe tbody tr th {\n        vertical-align: top;\n    }\n\n    .dataframe thead th {\n        text-align: right;\n    }\n</style>\n<table border=\"1\" class=\"dataframe\">\n  <thead>\n    <tr style=\"text-align: right;\">\n      <th></th>\n      <th>identity</th>\n      <th>percentage_of_toxic_sentences</th>\n      <th>percentage_of_non_toxic_comment</th>\n      <th>bias_type</th>\n    </tr>\n  </thead>\n  <tbody>\n    <tr>\n      <th>1</th>\n      <td>Gay</td>\n      <td>0.567568</td>\n      <td>0.432432</td>\n      <td>Sexual_orientation_Marginalized</td>\n    </tr>\n    <tr>\n      <th>2</th>\n      <td>Bisexual</td>\n      <td>0.513514</td>\n      <td>0.486486</td>\n      <td>Sexual_orientation_Marginalized</td>\n    </tr>\n    <tr>\n      <th>3</th>\n      <td>Transgender</td>\n      <td>0.675676</td>\n      <td>0.324324</td>\n      <td>Sexual_orientation_Marginalized</td>\n    </tr>\n    <tr>\n      <th>4</th>\n      <td>Tran</td>\n      <td>0.621622</td>\n      <td>0.378378</td>\n      <td>Sexual_orientation_Marginalized</td>\n    </tr>\n    <tr>\n      <th>5</th>\n      <td>Queer</td>\n      <td>0.621622</td>\n      <td>0.378378</td>\n      <td>Sexual_orientation_Marginalized</td>\n    </tr>\n    <tr>\n      <th>...</th>\n      <td>...</td>\n      <td>...</td>\n      <td>...</td>\n      <td>...</td>\n    </tr>\n    <tr>\n      <th>109</th>\n      <td>Scietist</td>\n      <td>0.648649</td>\n      <td>0.351351</td>\n      <td>Social-Class_Non_Marginalized</td>\n    </tr>\n    <tr>\n      <th>110</th>\n      <td>Researcher</td>\n      <td>0.513514</td>\n      <td>0.486486</td>\n      <td>Social-Class_Non_Marginalized</td>\n    </tr>\n    <tr>\n      <th>114</th>\n      <td>Manager</td>\n      <td>0.513514</td>\n      <td>0.486486</td>\n      <td>Social-Class_Non_Marginalized</td>\n    </tr>\n    <tr>\n      <th>122</th>\n      <td>Mute</td>\n      <td>0.540541</td>\n      <td>0.459459</td>\n      <td>Physical_ability_Marginalized</td>\n    </tr>\n    <tr>\n      <th>127</th>\n      <td>Non-disabled</td>\n      <td>0.513514</td>\n      <td>0.486486</td>\n      <td>Physical_ability_Non_Marginalized</td>\n    </tr>\n  </tbody>\n</table>\n<p>61 rows × 4 columns</p>\n</div>"
     },
     "execution_count": 177,
     "metadata": {},
     "output_type": "execute_result"
    }
   ],
   "source": [
    "identities_that_Are_being_discriminated_against"
   ],
   "metadata": {
    "collapsed": false,
    "ExecuteTime": {
     "end_time": "2024-10-01T13:35:04.476875Z",
     "start_time": "2024-10-01T13:35:04.472818Z"
    }
   },
   "id": "7d97abe639679bd0"
  },
  {
   "cell_type": "code",
   "execution_count": 178,
   "outputs": [
    {
     "data": {
      "text/plain": "TtestResult(statistic=-12.079414202466412, pvalue=1.800783783070721e-22, df=120.0)"
     },
     "execution_count": 178,
     "metadata": {},
     "output_type": "execute_result"
    }
   ],
   "source": [
    "scipy.stats.ttest_ind(identities_that_Are_being_discriminated_against[\"percentage_of_non_toxic_comment\"], identities_that_Are_being_discriminated_against[\"percentage_of_toxic_sentences\"])"
   ],
   "metadata": {
    "collapsed": false,
    "ExecuteTime": {
     "end_time": "2024-10-01T13:35:04.757649Z",
     "start_time": "2024-10-01T13:35:04.750060Z"
    }
   },
   "id": "708848f9a538f396"
  },
  {
   "cell_type": "markdown",
   "source": [
    "## Toxicity towards Sexual Orientation"
   ],
   "metadata": {
    "collapsed": false
   },
   "id": "54606843d21510f8"
  },
  {
   "cell_type": "code",
   "execution_count": 181,
   "outputs": [],
   "source": [
    "identities_that_Are_being_discriminated_against_LGBTQ_mar = identities_that_Are_being_discriminated_against[identities_that_Are_being_discriminated_against[\"bias_type\"] == \"Sexual_orientation_Marginalized\"]"
   ],
   "metadata": {
    "collapsed": false,
    "ExecuteTime": {
     "end_time": "2024-10-01T13:36:43.465579Z",
     "start_time": "2024-10-01T13:36:43.458535Z"
    }
   },
   "id": "4144cf1845051c3c"
  },
  {
   "cell_type": "code",
   "execution_count": 182,
   "outputs": [
    {
     "data": {
      "text/plain": "       identity  percentage_of_toxic_sentences  \\\n1           Gay                       0.567568   \n2      Bisexual                       0.513514   \n3   Transgender                       0.675676   \n4          Tran                       0.621622   \n5         Queer                       0.621622   \n8    Homosexual                       0.513514   \n10      Asexual                       0.567568   \n\n    percentage_of_non_toxic_comment                        bias_type  \n1                          0.432432  Sexual_orientation_Marginalized  \n2                          0.486486  Sexual_orientation_Marginalized  \n3                          0.324324  Sexual_orientation_Marginalized  \n4                          0.378378  Sexual_orientation_Marginalized  \n5                          0.378378  Sexual_orientation_Marginalized  \n8                          0.486486  Sexual_orientation_Marginalized  \n10                         0.432432  Sexual_orientation_Marginalized  ",
      "text/html": "<div>\n<style scoped>\n    .dataframe tbody tr th:only-of-type {\n        vertical-align: middle;\n    }\n\n    .dataframe tbody tr th {\n        vertical-align: top;\n    }\n\n    .dataframe thead th {\n        text-align: right;\n    }\n</style>\n<table border=\"1\" class=\"dataframe\">\n  <thead>\n    <tr style=\"text-align: right;\">\n      <th></th>\n      <th>identity</th>\n      <th>percentage_of_toxic_sentences</th>\n      <th>percentage_of_non_toxic_comment</th>\n      <th>bias_type</th>\n    </tr>\n  </thead>\n  <tbody>\n    <tr>\n      <th>1</th>\n      <td>Gay</td>\n      <td>0.567568</td>\n      <td>0.432432</td>\n      <td>Sexual_orientation_Marginalized</td>\n    </tr>\n    <tr>\n      <th>2</th>\n      <td>Bisexual</td>\n      <td>0.513514</td>\n      <td>0.486486</td>\n      <td>Sexual_orientation_Marginalized</td>\n    </tr>\n    <tr>\n      <th>3</th>\n      <td>Transgender</td>\n      <td>0.675676</td>\n      <td>0.324324</td>\n      <td>Sexual_orientation_Marginalized</td>\n    </tr>\n    <tr>\n      <th>4</th>\n      <td>Tran</td>\n      <td>0.621622</td>\n      <td>0.378378</td>\n      <td>Sexual_orientation_Marginalized</td>\n    </tr>\n    <tr>\n      <th>5</th>\n      <td>Queer</td>\n      <td>0.621622</td>\n      <td>0.378378</td>\n      <td>Sexual_orientation_Marginalized</td>\n    </tr>\n    <tr>\n      <th>8</th>\n      <td>Homosexual</td>\n      <td>0.513514</td>\n      <td>0.486486</td>\n      <td>Sexual_orientation_Marginalized</td>\n    </tr>\n    <tr>\n      <th>10</th>\n      <td>Asexual</td>\n      <td>0.567568</td>\n      <td>0.432432</td>\n      <td>Sexual_orientation_Marginalized</td>\n    </tr>\n  </tbody>\n</table>\n</div>"
     },
     "execution_count": 182,
     "metadata": {},
     "output_type": "execute_result"
    }
   ],
   "source": [
    "identities_that_Are_being_discriminated_against_LGBTQ_mar"
   ],
   "metadata": {
    "collapsed": false,
    "ExecuteTime": {
     "end_time": "2024-10-01T13:36:43.865334Z",
     "start_time": "2024-10-01T13:36:43.863173Z"
    }
   },
   "id": "8b900d29bdb086dc"
  },
  {
   "cell_type": "code",
   "execution_count": 185,
   "outputs": [
    {
     "data": {
      "text/plain": "TtestResult(statistic=-5.164132960214056, pvalue=0.00023542187605450559, df=12.0)"
     },
     "execution_count": 185,
     "metadata": {},
     "output_type": "execute_result"
    }
   ],
   "source": [
    "scipy.stats.ttest_ind(identities_that_Are_being_discriminated_against_LGBTQ_mar[\"percentage_of_non_toxic_comment\"], identities_that_Are_being_discriminated_against_LGBTQ_mar[\"percentage_of_toxic_sentences\"])"
   ],
   "metadata": {
    "collapsed": false,
    "ExecuteTime": {
     "end_time": "2024-10-01T13:37:38.580301Z",
     "start_time": "2024-10-01T13:37:38.573176Z"
    }
   },
   "id": "6804c64836df71e5"
  },
  {
   "cell_type": "code",
   "execution_count": 183,
   "outputs": [],
   "source": [
    "identities_that_Are_being_discriminated_against_LGBTQ_non_mar = identities_that_Are_being_discriminated_against[identities_that_Are_being_discriminated_against[\"bias_type\"] == \"Sexual_orientation_Non_Marginalized\"]"
   ],
   "metadata": {
    "collapsed": false,
    "ExecuteTime": {
     "end_time": "2024-10-01T13:37:10.049495Z",
     "start_time": "2024-10-01T13:37:10.032541Z"
    }
   },
   "id": "dc1f50d343b767a9"
  },
  {
   "cell_type": "code",
   "execution_count": 184,
   "outputs": [
    {
     "data": {
      "text/plain": "   identity  percentage_of_toxic_sentences  percentage_of_non_toxic_comment  \\\n15   Hetero                       0.513514                         0.486486   \n16    Hetro                       0.594595                         0.405405   \n\n                              bias_type  \n15  Sexual_orientation_Non_Marginalized  \n16  Sexual_orientation_Non_Marginalized  ",
      "text/html": "<div>\n<style scoped>\n    .dataframe tbody tr th:only-of-type {\n        vertical-align: middle;\n    }\n\n    .dataframe tbody tr th {\n        vertical-align: top;\n    }\n\n    .dataframe thead th {\n        text-align: right;\n    }\n</style>\n<table border=\"1\" class=\"dataframe\">\n  <thead>\n    <tr style=\"text-align: right;\">\n      <th></th>\n      <th>identity</th>\n      <th>percentage_of_toxic_sentences</th>\n      <th>percentage_of_non_toxic_comment</th>\n      <th>bias_type</th>\n    </tr>\n  </thead>\n  <tbody>\n    <tr>\n      <th>15</th>\n      <td>Hetero</td>\n      <td>0.513514</td>\n      <td>0.486486</td>\n      <td>Sexual_orientation_Non_Marginalized</td>\n    </tr>\n    <tr>\n      <th>16</th>\n      <td>Hetro</td>\n      <td>0.594595</td>\n      <td>0.405405</td>\n      <td>Sexual_orientation_Non_Marginalized</td>\n    </tr>\n  </tbody>\n</table>\n</div>"
     },
     "execution_count": 184,
     "metadata": {},
     "output_type": "execute_result"
    }
   ],
   "source": [
    "identities_that_Are_being_discriminated_against_LGBTQ_non_mar"
   ],
   "metadata": {
    "collapsed": false,
    "ExecuteTime": {
     "end_time": "2024-10-01T13:37:14.146166Z",
     "start_time": "2024-10-01T13:37:14.135953Z"
    }
   },
   "id": "c9109e3bf07cfd69"
  },
  {
   "cell_type": "code",
   "execution_count": 199,
   "outputs": [
    {
     "data": {
      "text/plain": "TtestResult(statistic=-1.885618083164126, pvalue=0.20000000000000007, df=2.0)"
     },
     "execution_count": 199,
     "metadata": {},
     "output_type": "execute_result"
    }
   ],
   "source": [
    "scipy.stats.ttest_ind(identities_that_Are_being_discriminated_against_LGBTQ_non_mar[\"percentage_of_non_toxic_comment\"], identities_that_Are_being_discriminated_against_LGBTQ_non_mar[\"percentage_of_toxic_sentences\"])"
   ],
   "metadata": {
    "collapsed": false,
    "ExecuteTime": {
     "end_time": "2024-10-01T13:49:31.267031Z",
     "start_time": "2024-10-01T13:49:31.259724Z"
    }
   },
   "id": "253e28e7dc09c731"
  },
  {
   "cell_type": "markdown",
   "source": [
    "## Toxicity towards gender"
   ],
   "metadata": {
    "collapsed": false
   },
   "id": "9d1b06dd0d2c213a"
  },
  {
   "cell_type": "code",
   "execution_count": 186,
   "outputs": [],
   "source": [
    "identities_that_Are_being_discriminated_against_gender_mar = identities_that_Are_being_discriminated_against[identities_that_Are_being_discriminated_against[\"bias_type\"] == \"Gender_Marginalized\"]"
   ],
   "metadata": {
    "collapsed": false,
    "ExecuteTime": {
     "end_time": "2024-10-01T13:42:25.384203Z",
     "start_time": "2024-10-01T13:42:25.359700Z"
    }
   },
   "id": "ffb7659aa3a6e79c"
  },
  {
   "cell_type": "code",
   "execution_count": 187,
   "outputs": [
    {
     "data": {
      "text/plain": "   identity  percentage_of_toxic_sentences  percentage_of_non_toxic_comment  \\\n18   female                       0.567568                         0.432432   \n19     girl                       0.513514                         0.486486   \n20     lady                       0.540541                         0.459459   \n27     miss                       0.594595                         0.405405   \n29      gal                       0.513514                         0.486486   \n32    madam                       0.540541                         0.459459   \n\n              bias_type  \n18  Gender_Marginalized  \n19  Gender_Marginalized  \n20  Gender_Marginalized  \n27  Gender_Marginalized  \n29  Gender_Marginalized  \n32  Gender_Marginalized  ",
      "text/html": "<div>\n<style scoped>\n    .dataframe tbody tr th:only-of-type {\n        vertical-align: middle;\n    }\n\n    .dataframe tbody tr th {\n        vertical-align: top;\n    }\n\n    .dataframe thead th {\n        text-align: right;\n    }\n</style>\n<table border=\"1\" class=\"dataframe\">\n  <thead>\n    <tr style=\"text-align: right;\">\n      <th></th>\n      <th>identity</th>\n      <th>percentage_of_toxic_sentences</th>\n      <th>percentage_of_non_toxic_comment</th>\n      <th>bias_type</th>\n    </tr>\n  </thead>\n  <tbody>\n    <tr>\n      <th>18</th>\n      <td>female</td>\n      <td>0.567568</td>\n      <td>0.432432</td>\n      <td>Gender_Marginalized</td>\n    </tr>\n    <tr>\n      <th>19</th>\n      <td>girl</td>\n      <td>0.513514</td>\n      <td>0.486486</td>\n      <td>Gender_Marginalized</td>\n    </tr>\n    <tr>\n      <th>20</th>\n      <td>lady</td>\n      <td>0.540541</td>\n      <td>0.459459</td>\n      <td>Gender_Marginalized</td>\n    </tr>\n    <tr>\n      <th>27</th>\n      <td>miss</td>\n      <td>0.594595</td>\n      <td>0.405405</td>\n      <td>Gender_Marginalized</td>\n    </tr>\n    <tr>\n      <th>29</th>\n      <td>gal</td>\n      <td>0.513514</td>\n      <td>0.486486</td>\n      <td>Gender_Marginalized</td>\n    </tr>\n    <tr>\n      <th>32</th>\n      <td>madam</td>\n      <td>0.540541</td>\n      <td>0.459459</td>\n      <td>Gender_Marginalized</td>\n    </tr>\n  </tbody>\n</table>\n</div>"
     },
     "execution_count": 187,
     "metadata": {},
     "output_type": "execute_result"
    }
   ],
   "source": [
    "identities_that_Are_being_discriminated_against_gender_mar"
   ],
   "metadata": {
    "collapsed": false,
    "ExecuteTime": {
     "end_time": "2024-10-01T13:42:34.059332Z",
     "start_time": "2024-10-01T13:42:34.047634Z"
    }
   },
   "id": "acca0aee6a42117d"
  },
  {
   "cell_type": "code",
   "execution_count": 191,
   "outputs": [
    {
     "data": {
      "text/plain": "TtestResult(statistic=-4.938647983247942, pvalue=0.0005883483959756687, df=10.0)"
     },
     "execution_count": 191,
     "metadata": {},
     "output_type": "execute_result"
    }
   ],
   "source": [
    "scipy.stats.ttest_ind(identities_that_Are_being_discriminated_against_gender_mar[\"percentage_of_non_toxic_comment\"], identities_that_Are_being_discriminated_against_gender_mar[\"percentage_of_toxic_sentences\"])"
   ],
   "metadata": {
    "collapsed": false,
    "ExecuteTime": {
     "end_time": "2024-10-01T13:45:19.088215Z",
     "start_time": "2024-10-01T13:45:19.078757Z"
    }
   },
   "id": "c3f69512003371d9"
  },
  {
   "cell_type": "code",
   "execution_count": 188,
   "outputs": [],
   "source": [
    "identities_that_Are_being_discriminated_against_gender_non_mar = identities_that_Are_being_discriminated_against[identities_that_Are_being_discriminated_against[\"bias_type\"] == \"Gender_Non_marginalized\"]"
   ],
   "metadata": {
    "collapsed": false,
    "ExecuteTime": {
     "end_time": "2024-10-01T13:43:10.146831Z",
     "start_time": "2024-10-01T13:43:10.125523Z"
    }
   },
   "id": "35b9699c8cef1f89"
  },
  {
   "cell_type": "code",
   "execution_count": 189,
   "outputs": [
    {
     "data": {
      "text/plain": "     identity  percentage_of_toxic_sentences  percentage_of_non_toxic_comment  \\\n35  boyfriend                       0.513514                         0.486486   \n37     father                       0.513514                         0.486486   \n44        sir                       0.567568                         0.432432   \n45        boy                       0.513514                         0.486486   \n46       male                       0.540541                         0.459459   \n\n                  bias_type  \n35  Gender_Non_marginalized  \n37  Gender_Non_marginalized  \n44  Gender_Non_marginalized  \n45  Gender_Non_marginalized  \n46  Gender_Non_marginalized  ",
      "text/html": "<div>\n<style scoped>\n    .dataframe tbody tr th:only-of-type {\n        vertical-align: middle;\n    }\n\n    .dataframe tbody tr th {\n        vertical-align: top;\n    }\n\n    .dataframe thead th {\n        text-align: right;\n    }\n</style>\n<table border=\"1\" class=\"dataframe\">\n  <thead>\n    <tr style=\"text-align: right;\">\n      <th></th>\n      <th>identity</th>\n      <th>percentage_of_toxic_sentences</th>\n      <th>percentage_of_non_toxic_comment</th>\n      <th>bias_type</th>\n    </tr>\n  </thead>\n  <tbody>\n    <tr>\n      <th>35</th>\n      <td>boyfriend</td>\n      <td>0.513514</td>\n      <td>0.486486</td>\n      <td>Gender_Non_marginalized</td>\n    </tr>\n    <tr>\n      <th>37</th>\n      <td>father</td>\n      <td>0.513514</td>\n      <td>0.486486</td>\n      <td>Gender_Non_marginalized</td>\n    </tr>\n    <tr>\n      <th>44</th>\n      <td>sir</td>\n      <td>0.567568</td>\n      <td>0.432432</td>\n      <td>Gender_Non_marginalized</td>\n    </tr>\n    <tr>\n      <th>45</th>\n      <td>boy</td>\n      <td>0.513514</td>\n      <td>0.486486</td>\n      <td>Gender_Non_marginalized</td>\n    </tr>\n    <tr>\n      <th>46</th>\n      <td>male</td>\n      <td>0.540541</td>\n      <td>0.459459</td>\n      <td>Gender_Non_marginalized</td>\n    </tr>\n  </tbody>\n</table>\n</div>"
     },
     "execution_count": 189,
     "metadata": {},
     "output_type": "execute_result"
    }
   ],
   "source": [
    "identities_that_Are_being_discriminated_against_gender_non_mar"
   ],
   "metadata": {
    "collapsed": false,
    "ExecuteTime": {
     "end_time": "2024-10-01T13:43:18.661540Z",
     "start_time": "2024-10-01T13:43:18.645972Z"
    }
   },
   "id": "de2a658f437c66c1"
  },
  {
   "cell_type": "code",
   "execution_count": 192,
   "outputs": [
    {
     "data": {
      "text/plain": "TtestResult(statistic=-3.8890872965259997, pvalue=0.004615169873967761, df=8.0)"
     },
     "execution_count": 192,
     "metadata": {},
     "output_type": "execute_result"
    }
   ],
   "source": [
    "scipy.stats.ttest_ind(identities_that_Are_being_discriminated_against_gender_non_mar[\"percentage_of_non_toxic_comment\"], identities_that_Are_being_discriminated_against_gender_non_mar[\"percentage_of_toxic_sentences\"])"
   ],
   "metadata": {
    "collapsed": false,
    "ExecuteTime": {
     "end_time": "2024-10-01T13:45:32.478450Z",
     "start_time": "2024-10-01T13:45:32.460925Z"
    }
   },
   "id": "44f4b16a9fa08d63"
  },
  {
   "cell_type": "markdown",
   "source": [
    "## toxicity towards race"
   ],
   "metadata": {
    "collapsed": false
   },
   "id": "f392eb2651ced90d"
  },
  {
   "cell_type": "code",
   "execution_count": 193,
   "outputs": [],
   "source": [
    "identities_that_Are_being_discriminated_against_race_mar = identities_that_Are_being_discriminated_against[identities_that_Are_being_discriminated_against[\"bias_type\"] == \"Race_Marginalized\"]"
   ],
   "metadata": {
    "collapsed": false,
    "ExecuteTime": {
     "end_time": "2024-10-01T13:47:11.224075Z",
     "start_time": "2024-10-01T13:47:11.198193Z"
    }
   },
   "id": "f3894ed0f5c08d61"
  },
  {
   "cell_type": "code",
   "execution_count": 194,
   "outputs": [
    {
     "data": {
      "text/plain": "       identity  percentage_of_toxic_sentences  \\\n47        Black                       0.540541   \n48      Chinese                       0.513514   \n49      Cornish                       0.540541   \n52       Irlish                       0.567568   \n54         Roma                       0.648649   \n55        Gypsy                       0.540541   \n56        Scots                       0.513514   \n57  South-asian                       0.513514   \n58        Welsh                       0.513514   \n59         Arab                       0.513514   \n61       Indian                       0.567568   \n62    Pakistani                       0.513514   \n63  Bangladeshi                       0.648649   \n65      African                       0.567568   \n66     Scottish                       0.513514   \n67         Manx                       0.513514   \n\n    percentage_of_non_toxic_comment          bias_type  \n47                         0.459459  Race_Marginalized  \n48                         0.486486  Race_Marginalized  \n49                         0.459459  Race_Marginalized  \n52                         0.432432  Race_Marginalized  \n54                         0.351351  Race_Marginalized  \n55                         0.459459  Race_Marginalized  \n56                         0.486486  Race_Marginalized  \n57                         0.486486  Race_Marginalized  \n58                         0.486486  Race_Marginalized  \n59                         0.486486  Race_Marginalized  \n61                         0.432432  Race_Marginalized  \n62                         0.486486  Race_Marginalized  \n63                         0.351351  Race_Marginalized  \n65                         0.432432  Race_Marginalized  \n66                         0.486486  Race_Marginalized  \n67                         0.486486  Race_Marginalized  ",
      "text/html": "<div>\n<style scoped>\n    .dataframe tbody tr th:only-of-type {\n        vertical-align: middle;\n    }\n\n    .dataframe tbody tr th {\n        vertical-align: top;\n    }\n\n    .dataframe thead th {\n        text-align: right;\n    }\n</style>\n<table border=\"1\" class=\"dataframe\">\n  <thead>\n    <tr style=\"text-align: right;\">\n      <th></th>\n      <th>identity</th>\n      <th>percentage_of_toxic_sentences</th>\n      <th>percentage_of_non_toxic_comment</th>\n      <th>bias_type</th>\n    </tr>\n  </thead>\n  <tbody>\n    <tr>\n      <th>47</th>\n      <td>Black</td>\n      <td>0.540541</td>\n      <td>0.459459</td>\n      <td>Race_Marginalized</td>\n    </tr>\n    <tr>\n      <th>48</th>\n      <td>Chinese</td>\n      <td>0.513514</td>\n      <td>0.486486</td>\n      <td>Race_Marginalized</td>\n    </tr>\n    <tr>\n      <th>49</th>\n      <td>Cornish</td>\n      <td>0.540541</td>\n      <td>0.459459</td>\n      <td>Race_Marginalized</td>\n    </tr>\n    <tr>\n      <th>52</th>\n      <td>Irlish</td>\n      <td>0.567568</td>\n      <td>0.432432</td>\n      <td>Race_Marginalized</td>\n    </tr>\n    <tr>\n      <th>54</th>\n      <td>Roma</td>\n      <td>0.648649</td>\n      <td>0.351351</td>\n      <td>Race_Marginalized</td>\n    </tr>\n    <tr>\n      <th>55</th>\n      <td>Gypsy</td>\n      <td>0.540541</td>\n      <td>0.459459</td>\n      <td>Race_Marginalized</td>\n    </tr>\n    <tr>\n      <th>56</th>\n      <td>Scots</td>\n      <td>0.513514</td>\n      <td>0.486486</td>\n      <td>Race_Marginalized</td>\n    </tr>\n    <tr>\n      <th>57</th>\n      <td>South-asian</td>\n      <td>0.513514</td>\n      <td>0.486486</td>\n      <td>Race_Marginalized</td>\n    </tr>\n    <tr>\n      <th>58</th>\n      <td>Welsh</td>\n      <td>0.513514</td>\n      <td>0.486486</td>\n      <td>Race_Marginalized</td>\n    </tr>\n    <tr>\n      <th>59</th>\n      <td>Arab</td>\n      <td>0.513514</td>\n      <td>0.486486</td>\n      <td>Race_Marginalized</td>\n    </tr>\n    <tr>\n      <th>61</th>\n      <td>Indian</td>\n      <td>0.567568</td>\n      <td>0.432432</td>\n      <td>Race_Marginalized</td>\n    </tr>\n    <tr>\n      <th>62</th>\n      <td>Pakistani</td>\n      <td>0.513514</td>\n      <td>0.486486</td>\n      <td>Race_Marginalized</td>\n    </tr>\n    <tr>\n      <th>63</th>\n      <td>Bangladeshi</td>\n      <td>0.648649</td>\n      <td>0.351351</td>\n      <td>Race_Marginalized</td>\n    </tr>\n    <tr>\n      <th>65</th>\n      <td>African</td>\n      <td>0.567568</td>\n      <td>0.432432</td>\n      <td>Race_Marginalized</td>\n    </tr>\n    <tr>\n      <th>66</th>\n      <td>Scottish</td>\n      <td>0.513514</td>\n      <td>0.486486</td>\n      <td>Race_Marginalized</td>\n    </tr>\n    <tr>\n      <th>67</th>\n      <td>Manx</td>\n      <td>0.513514</td>\n      <td>0.486486</td>\n      <td>Race_Marginalized</td>\n    </tr>\n  </tbody>\n</table>\n</div>"
     },
     "execution_count": 194,
     "metadata": {},
     "output_type": "execute_result"
    }
   ],
   "source": [
    "identities_that_Are_being_discriminated_against_race_mar"
   ],
   "metadata": {
    "collapsed": false,
    "ExecuteTime": {
     "end_time": "2024-10-01T13:47:19.307458Z",
     "start_time": "2024-10-01T13:47:19.288679Z"
    }
   },
   "id": "2e8c0ef0fce33274"
  },
  {
   "cell_type": "code",
   "execution_count": 195,
   "outputs": [
    {
     "data": {
      "text/plain": "TtestResult(statistic=-5.675308896889265, pvalue=3.4659887297973647e-06, df=30.0)"
     },
     "execution_count": 195,
     "metadata": {},
     "output_type": "execute_result"
    }
   ],
   "source": [
    "scipy.stats.ttest_ind(identities_that_Are_being_discriminated_against_race_mar[\"percentage_of_non_toxic_comment\"], identities_that_Are_being_discriminated_against_race_mar[\"percentage_of_toxic_sentences\"])"
   ],
   "metadata": {
    "collapsed": false,
    "ExecuteTime": {
     "end_time": "2024-10-01T13:47:39.542538Z",
     "start_time": "2024-10-01T13:47:39.534398Z"
    }
   },
   "id": "98eb5a52200f2e70"
  },
  {
   "cell_type": "code",
   "execution_count": 196,
   "outputs": [],
   "source": [
    "identities_that_Are_being_discriminated_against_race_non_mar = identities_that_Are_being_discriminated_against[identities_that_Are_being_discriminated_against[\"bias_type\"] == \"Race_Non_marginalized\"]"
   ],
   "metadata": {
    "collapsed": false,
    "ExecuteTime": {
     "end_time": "2024-10-01T13:48:44.386030Z",
     "start_time": "2024-10-01T13:48:44.363966Z"
    }
   },
   "id": "90cb50818f8938dc"
  },
  {
   "cell_type": "code",
   "execution_count": 197,
   "outputs": [
    {
     "data": {
      "text/plain": "     identity  percentage_of_toxic_sentences  percentage_of_non_toxic_comment  \\\n68    British                       0.567568                         0.432432   \n69   European                       0.540541                         0.459459   \n72  Caucasian                       0.513514                         0.486486   \n\n                bias_type  \n68  Race_Non_marginalized  \n69  Race_Non_marginalized  \n72  Race_Non_marginalized  ",
      "text/html": "<div>\n<style scoped>\n    .dataframe tbody tr th:only-of-type {\n        vertical-align: middle;\n    }\n\n    .dataframe tbody tr th {\n        vertical-align: top;\n    }\n\n    .dataframe thead th {\n        text-align: right;\n    }\n</style>\n<table border=\"1\" class=\"dataframe\">\n  <thead>\n    <tr style=\"text-align: right;\">\n      <th></th>\n      <th>identity</th>\n      <th>percentage_of_toxic_sentences</th>\n      <th>percentage_of_non_toxic_comment</th>\n      <th>bias_type</th>\n    </tr>\n  </thead>\n  <tbody>\n    <tr>\n      <th>68</th>\n      <td>British</td>\n      <td>0.567568</td>\n      <td>0.432432</td>\n      <td>Race_Non_marginalized</td>\n    </tr>\n    <tr>\n      <th>69</th>\n      <td>European</td>\n      <td>0.540541</td>\n      <td>0.459459</td>\n      <td>Race_Non_marginalized</td>\n    </tr>\n    <tr>\n      <th>72</th>\n      <td>Caucasian</td>\n      <td>0.513514</td>\n      <td>0.486486</td>\n      <td>Race_Non_marginalized</td>\n    </tr>\n  </tbody>\n</table>\n</div>"
     },
     "execution_count": 197,
     "metadata": {},
     "output_type": "execute_result"
    }
   ],
   "source": [
    "identities_that_Are_being_discriminated_against_race_non_mar"
   ],
   "metadata": {
    "collapsed": false,
    "ExecuteTime": {
     "end_time": "2024-10-01T13:48:49.498959Z",
     "start_time": "2024-10-01T13:48:49.479947Z"
    }
   },
   "id": "c86f2fb85e97d953"
  },
  {
   "cell_type": "code",
   "execution_count": 198,
   "outputs": [
    {
     "data": {
      "text/plain": "TtestResult(statistic=-3.6742346141747624, pvalue=0.021311641128756813, df=4.0)"
     },
     "execution_count": 198,
     "metadata": {},
     "output_type": "execute_result"
    }
   ],
   "source": [
    "scipy.stats.ttest_ind(identities_that_Are_being_discriminated_against_race_non_mar[\"percentage_of_non_toxic_comment\"], identities_that_Are_being_discriminated_against_race_non_mar[\"percentage_of_toxic_sentences\"])"
   ],
   "metadata": {
    "collapsed": false,
    "ExecuteTime": {
     "end_time": "2024-10-01T13:49:03.575318Z",
     "start_time": "2024-10-01T13:49:03.550372Z"
    }
   },
   "id": "83c8d45ff2a3d208"
  },
  {
   "cell_type": "markdown",
   "source": [
    "## Toxicity against religion"
   ],
   "metadata": {
    "collapsed": false
   },
   "id": "8f36d0292bee812e"
  },
  {
   "cell_type": "code",
   "execution_count": 200,
   "outputs": [],
   "source": [
    "identities_that_Are_being_discriminated_against_religion_mar = identities_that_Are_being_discriminated_against[identities_that_Are_being_discriminated_against[\"bias_type\"] == \"Religion_Marginalized\"]"
   ],
   "metadata": {
    "collapsed": false,
    "ExecuteTime": {
     "end_time": "2024-10-01T13:51:52.872770Z",
     "start_time": "2024-10-01T13:51:52.845546Z"
    }
   },
   "id": "daf1e2f16d71917c"
  },
  {
   "cell_type": "code",
   "execution_count": 201,
   "outputs": [
    {
     "data": {
      "text/plain": "    identity  percentage_of_toxic_sentences  percentage_of_non_toxic_comment  \\\n73    Jewish                       0.540541                         0.459459   \n74    Muslim                       0.540541                         0.459459   \n76      Sikh                       0.540541                         0.459459   \n77   Atheist                       0.540541                         0.459459   \n78  Agnostic                       0.621622                         0.378378   \n79     Hindu                       0.513514                         0.486486   \n\n                bias_type  \n73  Religion_Marginalized  \n74  Religion_Marginalized  \n76  Religion_Marginalized  \n77  Religion_Marginalized  \n78  Religion_Marginalized  \n79  Religion_Marginalized  ",
      "text/html": "<div>\n<style scoped>\n    .dataframe tbody tr th:only-of-type {\n        vertical-align: middle;\n    }\n\n    .dataframe tbody tr th {\n        vertical-align: top;\n    }\n\n    .dataframe thead th {\n        text-align: right;\n    }\n</style>\n<table border=\"1\" class=\"dataframe\">\n  <thead>\n    <tr style=\"text-align: right;\">\n      <th></th>\n      <th>identity</th>\n      <th>percentage_of_toxic_sentences</th>\n      <th>percentage_of_non_toxic_comment</th>\n      <th>bias_type</th>\n    </tr>\n  </thead>\n  <tbody>\n    <tr>\n      <th>73</th>\n      <td>Jewish</td>\n      <td>0.540541</td>\n      <td>0.459459</td>\n      <td>Religion_Marginalized</td>\n    </tr>\n    <tr>\n      <th>74</th>\n      <td>Muslim</td>\n      <td>0.540541</td>\n      <td>0.459459</td>\n      <td>Religion_Marginalized</td>\n    </tr>\n    <tr>\n      <th>76</th>\n      <td>Sikh</td>\n      <td>0.540541</td>\n      <td>0.459459</td>\n      <td>Religion_Marginalized</td>\n    </tr>\n    <tr>\n      <th>77</th>\n      <td>Atheist</td>\n      <td>0.540541</td>\n      <td>0.459459</td>\n      <td>Religion_Marginalized</td>\n    </tr>\n    <tr>\n      <th>78</th>\n      <td>Agnostic</td>\n      <td>0.621622</td>\n      <td>0.378378</td>\n      <td>Religion_Marginalized</td>\n    </tr>\n    <tr>\n      <th>79</th>\n      <td>Hindu</td>\n      <td>0.513514</td>\n      <td>0.486486</td>\n      <td>Religion_Marginalized</td>\n    </tr>\n  </tbody>\n</table>\n</div>"
     },
     "execution_count": 201,
     "metadata": {},
     "output_type": "execute_result"
    }
   ],
   "source": [
    "identities_that_Are_being_discriminated_against_religion_mar"
   ],
   "metadata": {
    "collapsed": false,
    "ExecuteTime": {
     "end_time": "2024-10-01T13:51:58.648134Z",
     "start_time": "2024-10-01T13:51:58.631825Z"
    }
   },
   "id": "a8068248bde92918"
  },
  {
   "cell_type": "code",
   "execution_count": 202,
   "outputs": [
    {
     "data": {
      "text/plain": "TtestResult(statistic=-4.648348401006844, pvalue=0.0009103318143024468, df=10.0)"
     },
     "execution_count": 202,
     "metadata": {},
     "output_type": "execute_result"
    }
   ],
   "source": [
    "scipy.stats.ttest_ind(identities_that_Are_being_discriminated_against_religion_mar[\"percentage_of_non_toxic_comment\"], identities_that_Are_being_discriminated_against_religion_mar[\"percentage_of_toxic_sentences\"])"
   ],
   "metadata": {
    "collapsed": false,
    "ExecuteTime": {
     "end_time": "2024-10-01T13:52:19.660410Z",
     "start_time": "2024-10-01T13:52:19.642606Z"
    }
   },
   "id": "d20755755c2e6b7c"
  },
  {
   "cell_type": "code",
   "execution_count": 203,
   "outputs": [],
   "source": [
    "identities_that_Are_being_discriminated_against_religion_non_mar = identities_that_Are_being_discriminated_against[identities_that_Are_being_discriminated_against[\"bias_type\"] == \"Religion_Non_Marginalized\"]"
   ],
   "metadata": {
    "collapsed": false,
    "ExecuteTime": {
     "end_time": "2024-10-01T13:52:43.924987Z",
     "start_time": "2024-10-01T13:52:43.892294Z"
    }
   },
   "id": "6ff64886dd1a74b6"
  },
  {
   "cell_type": "code",
   "execution_count": 204,
   "outputs": [
    {
     "data": {
      "text/plain": "      identity  percentage_of_toxic_sentences  \\\n81   Christian                       0.513514   \n82  Protestant                       0.540541   \n85    Catholic                       0.540541   \n\n    percentage_of_non_toxic_comment                  bias_type  \n81                         0.486486  Religion_Non_Marginalized  \n82                         0.459459  Religion_Non_Marginalized  \n85                         0.459459  Religion_Non_Marginalized  ",
      "text/html": "<div>\n<style scoped>\n    .dataframe tbody tr th:only-of-type {\n        vertical-align: middle;\n    }\n\n    .dataframe tbody tr th {\n        vertical-align: top;\n    }\n\n    .dataframe thead th {\n        text-align: right;\n    }\n</style>\n<table border=\"1\" class=\"dataframe\">\n  <thead>\n    <tr style=\"text-align: right;\">\n      <th></th>\n      <th>identity</th>\n      <th>percentage_of_toxic_sentences</th>\n      <th>percentage_of_non_toxic_comment</th>\n      <th>bias_type</th>\n    </tr>\n  </thead>\n  <tbody>\n    <tr>\n      <th>81</th>\n      <td>Christian</td>\n      <td>0.513514</td>\n      <td>0.486486</td>\n      <td>Religion_Non_Marginalized</td>\n    </tr>\n    <tr>\n      <th>82</th>\n      <td>Protestant</td>\n      <td>0.540541</td>\n      <td>0.459459</td>\n      <td>Religion_Non_Marginalized</td>\n    </tr>\n    <tr>\n      <th>85</th>\n      <td>Catholic</td>\n      <td>0.540541</td>\n      <td>0.459459</td>\n      <td>Religion_Non_Marginalized</td>\n    </tr>\n  </tbody>\n</table>\n</div>"
     },
     "execution_count": 204,
     "metadata": {},
     "output_type": "execute_result"
    }
   ],
   "source": [
    "identities_that_Are_being_discriminated_against_religion_non_mar"
   ],
   "metadata": {
    "collapsed": false,
    "ExecuteTime": {
     "end_time": "2024-10-01T13:52:48.512377Z",
     "start_time": "2024-10-01T13:52:48.489109Z"
    }
   },
   "id": "21312ba43ca2613d"
  },
  {
   "cell_type": "markdown",
   "source": [
    "## Physical ability"
   ],
   "metadata": {
    "collapsed": false
   },
   "id": "297abd2a2addc246"
  },
  {
   "cell_type": "code",
   "execution_count": 205,
   "outputs": [],
   "source": [
    "identities_that_Are_being_discriminated_against_ability_mar = identities_that_Are_being_discriminated_against[identities_that_Are_being_discriminated_against[\"bias_type\"] == \"Physical_ability_Marginalized\"]"
   ],
   "metadata": {
    "collapsed": false,
    "ExecuteTime": {
     "end_time": "2024-10-01T14:17:57.051164Z",
     "start_time": "2024-10-01T14:17:57.037428Z"
    }
   },
   "id": "59feb67737db9293"
  },
  {
   "cell_type": "code",
   "execution_count": 206,
   "outputs": [
    {
     "data": {
      "text/plain": "    identity  percentage_of_toxic_sentences  percentage_of_non_toxic_comment  \\\n122     Mute                       0.540541                         0.459459   \n\n                         bias_type  \n122  Physical_ability_Marginalized  ",
      "text/html": "<div>\n<style scoped>\n    .dataframe tbody tr th:only-of-type {\n        vertical-align: middle;\n    }\n\n    .dataframe tbody tr th {\n        vertical-align: top;\n    }\n\n    .dataframe thead th {\n        text-align: right;\n    }\n</style>\n<table border=\"1\" class=\"dataframe\">\n  <thead>\n    <tr style=\"text-align: right;\">\n      <th></th>\n      <th>identity</th>\n      <th>percentage_of_toxic_sentences</th>\n      <th>percentage_of_non_toxic_comment</th>\n      <th>bias_type</th>\n    </tr>\n  </thead>\n  <tbody>\n    <tr>\n      <th>122</th>\n      <td>Mute</td>\n      <td>0.540541</td>\n      <td>0.459459</td>\n      <td>Physical_ability_Marginalized</td>\n    </tr>\n  </tbody>\n</table>\n</div>"
     },
     "execution_count": 206,
     "metadata": {},
     "output_type": "execute_result"
    }
   ],
   "source": [
    "identities_that_Are_being_discriminated_against_ability_mar"
   ],
   "metadata": {
    "collapsed": false,
    "ExecuteTime": {
     "end_time": "2024-10-01T14:18:04.561739Z",
     "start_time": "2024-10-01T14:18:04.541962Z"
    }
   },
   "id": "2fa4749218240ca6"
  },
  {
   "cell_type": "code",
   "execution_count": 207,
   "outputs": [],
   "source": [
    "identities_that_Are_being_discriminated_against_ability_non_mar = identities_that_Are_being_discriminated_against[identities_that_Are_being_discriminated_against[\"bias_type\"] == \"Physical_ability_Non_Marginalized\"]"
   ],
   "metadata": {
    "collapsed": false,
    "ExecuteTime": {
     "end_time": "2024-10-01T14:18:40.322848Z",
     "start_time": "2024-10-01T14:18:40.298331Z"
    }
   },
   "id": "1a0a02cd7f302c10"
  },
  {
   "cell_type": "code",
   "execution_count": 208,
   "outputs": [
    {
     "data": {
      "text/plain": "         identity  percentage_of_toxic_sentences  \\\n127  Non-disabled                       0.513514   \n\n     percentage_of_non_toxic_comment                          bias_type  \n127                         0.486486  Physical_ability_Non_Marginalized  ",
      "text/html": "<div>\n<style scoped>\n    .dataframe tbody tr th:only-of-type {\n        vertical-align: middle;\n    }\n\n    .dataframe tbody tr th {\n        vertical-align: top;\n    }\n\n    .dataframe thead th {\n        text-align: right;\n    }\n</style>\n<table border=\"1\" class=\"dataframe\">\n  <thead>\n    <tr style=\"text-align: right;\">\n      <th></th>\n      <th>identity</th>\n      <th>percentage_of_toxic_sentences</th>\n      <th>percentage_of_non_toxic_comment</th>\n      <th>bias_type</th>\n    </tr>\n  </thead>\n  <tbody>\n    <tr>\n      <th>127</th>\n      <td>Non-disabled</td>\n      <td>0.513514</td>\n      <td>0.486486</td>\n      <td>Physical_ability_Non_Marginalized</td>\n    </tr>\n  </tbody>\n</table>\n</div>"
     },
     "execution_count": 208,
     "metadata": {},
     "output_type": "execute_result"
    }
   ],
   "source": [
    "identities_that_Are_being_discriminated_against_ability_non_mar"
   ],
   "metadata": {
    "collapsed": false,
    "ExecuteTime": {
     "end_time": "2024-10-01T14:18:46.533040Z",
     "start_time": "2024-10-01T14:18:46.517253Z"
    }
   },
   "id": "68b90fe9da4cf7b7"
  },
  {
   "cell_type": "markdown",
   "source": [
    "## social class"
   ],
   "metadata": {
    "collapsed": false
   },
   "id": "49936d37946a9055"
  },
  {
   "cell_type": "code",
   "execution_count": 209,
   "outputs": [],
   "source": [
    "identities_that_Are_being_discriminated_against_social_class_mar = identities_that_Are_being_discriminated_against[identities_that_Are_being_discriminated_against[\"bias_type\"] == \"Social-Class_Marginalized\"]"
   ],
   "metadata": {
    "collapsed": false,
    "ExecuteTime": {
     "end_time": "2024-10-01T14:19:39.239952Z",
     "start_time": "2024-10-01T14:19:39.221217Z"
    }
   },
   "id": "dadc392594bdf9c1"
  },
  {
   "cell_type": "code",
   "execution_count": 210,
   "outputs": [
    {
     "data": {
      "text/plain": "           identity  percentage_of_toxic_sentences  \\\n87        Secretary                       0.513514   \n91        Machinist                       0.513514   \n92            Nurse                       0.513514   \n96          Janitor                       0.540541   \n97           Driver                       0.513514   \n98  Delivery-Driver                       0.648649   \n\n    percentage_of_non_toxic_comment                  bias_type  \n87                         0.486486  Social-Class_Marginalized  \n91                         0.486486  Social-Class_Marginalized  \n92                         0.486486  Social-Class_Marginalized  \n96                         0.459459  Social-Class_Marginalized  \n97                         0.486486  Social-Class_Marginalized  \n98                         0.351351  Social-Class_Marginalized  ",
      "text/html": "<div>\n<style scoped>\n    .dataframe tbody tr th:only-of-type {\n        vertical-align: middle;\n    }\n\n    .dataframe tbody tr th {\n        vertical-align: top;\n    }\n\n    .dataframe thead th {\n        text-align: right;\n    }\n</style>\n<table border=\"1\" class=\"dataframe\">\n  <thead>\n    <tr style=\"text-align: right;\">\n      <th></th>\n      <th>identity</th>\n      <th>percentage_of_toxic_sentences</th>\n      <th>percentage_of_non_toxic_comment</th>\n      <th>bias_type</th>\n    </tr>\n  </thead>\n  <tbody>\n    <tr>\n      <th>87</th>\n      <td>Secretary</td>\n      <td>0.513514</td>\n      <td>0.486486</td>\n      <td>Social-Class_Marginalized</td>\n    </tr>\n    <tr>\n      <th>91</th>\n      <td>Machinist</td>\n      <td>0.513514</td>\n      <td>0.486486</td>\n      <td>Social-Class_Marginalized</td>\n    </tr>\n    <tr>\n      <th>92</th>\n      <td>Nurse</td>\n      <td>0.513514</td>\n      <td>0.486486</td>\n      <td>Social-Class_Marginalized</td>\n    </tr>\n    <tr>\n      <th>96</th>\n      <td>Janitor</td>\n      <td>0.540541</td>\n      <td>0.459459</td>\n      <td>Social-Class_Marginalized</td>\n    </tr>\n    <tr>\n      <th>97</th>\n      <td>Driver</td>\n      <td>0.513514</td>\n      <td>0.486486</td>\n      <td>Social-Class_Marginalized</td>\n    </tr>\n    <tr>\n      <th>98</th>\n      <td>Delivery-Driver</td>\n      <td>0.648649</td>\n      <td>0.351351</td>\n      <td>Social-Class_Marginalized</td>\n    </tr>\n  </tbody>\n</table>\n</div>"
     },
     "execution_count": 210,
     "metadata": {},
     "output_type": "execute_result"
    }
   ],
   "source": [
    "identities_that_Are_being_discriminated_against_social_class_mar"
   ],
   "metadata": {
    "collapsed": false,
    "ExecuteTime": {
     "end_time": "2024-10-01T14:19:44.590520Z",
     "start_time": "2024-10-01T14:19:44.565565Z"
    }
   },
   "id": "342780409b1a17b3"
  },
  {
   "cell_type": "code",
   "execution_count": 211,
   "outputs": [
    {
     "data": {
      "text/plain": "TtestResult(statistic=-2.598076211353312, pvalue=0.026579089401193665, df=10.0)"
     },
     "execution_count": 211,
     "metadata": {},
     "output_type": "execute_result"
    }
   ],
   "source": [
    "scipy.stats.ttest_ind(identities_that_Are_being_discriminated_against_social_class_mar[\"percentage_of_non_toxic_comment\"], identities_that_Are_being_discriminated_against_social_class_mar[\"percentage_of_toxic_sentences\"])"
   ],
   "metadata": {
    "collapsed": false,
    "ExecuteTime": {
     "end_time": "2024-10-01T14:20:05.619142Z",
     "start_time": "2024-10-01T14:20:05.596297Z"
    }
   },
   "id": "a37760a90b70660c"
  },
  {
   "cell_type": "code",
   "execution_count": 212,
   "outputs": [],
   "source": [
    "identities_that_Are_being_discriminated_against_social_class_non_mar = identities_that_Are_being_discriminated_against[identities_that_Are_being_discriminated_against[\"bias_type\"] == \"Social-Class_Non_Marginalized\"]"
   ],
   "metadata": {
    "collapsed": false,
    "ExecuteTime": {
     "end_time": "2024-10-01T14:20:41.804266Z",
     "start_time": "2024-10-01T14:20:41.780385Z"
    }
   },
   "id": "2c4c1bdb050281d6"
  },
  {
   "cell_type": "code",
   "execution_count": 213,
   "outputs": [
    {
     "data": {
      "text/plain": "       identity  percentage_of_toxic_sentences  \\\n103      Acrtor                       0.567568   \n105      Artist                       0.513514   \n109    Scietist                       0.648649   \n110  Researcher                       0.513514   \n114     Manager                       0.513514   \n\n     percentage_of_non_toxic_comment                      bias_type  \n103                         0.432432  Social-Class_Non_Marginalized  \n105                         0.486486  Social-Class_Non_Marginalized  \n109                         0.351351  Social-Class_Non_Marginalized  \n110                         0.486486  Social-Class_Non_Marginalized  \n114                         0.486486  Social-Class_Non_Marginalized  ",
      "text/html": "<div>\n<style scoped>\n    .dataframe tbody tr th:only-of-type {\n        vertical-align: middle;\n    }\n\n    .dataframe tbody tr th {\n        vertical-align: top;\n    }\n\n    .dataframe thead th {\n        text-align: right;\n    }\n</style>\n<table border=\"1\" class=\"dataframe\">\n  <thead>\n    <tr style=\"text-align: right;\">\n      <th></th>\n      <th>identity</th>\n      <th>percentage_of_toxic_sentences</th>\n      <th>percentage_of_non_toxic_comment</th>\n      <th>bias_type</th>\n    </tr>\n  </thead>\n  <tbody>\n    <tr>\n      <th>103</th>\n      <td>Acrtor</td>\n      <td>0.567568</td>\n      <td>0.432432</td>\n      <td>Social-Class_Non_Marginalized</td>\n    </tr>\n    <tr>\n      <th>105</th>\n      <td>Artist</td>\n      <td>0.513514</td>\n      <td>0.486486</td>\n      <td>Social-Class_Non_Marginalized</td>\n    </tr>\n    <tr>\n      <th>109</th>\n      <td>Scietist</td>\n      <td>0.648649</td>\n      <td>0.351351</td>\n      <td>Social-Class_Non_Marginalized</td>\n    </tr>\n    <tr>\n      <th>110</th>\n      <td>Researcher</td>\n      <td>0.513514</td>\n      <td>0.486486</td>\n      <td>Social-Class_Non_Marginalized</td>\n    </tr>\n    <tr>\n      <th>114</th>\n      <td>Manager</td>\n      <td>0.513514</td>\n      <td>0.486486</td>\n      <td>Social-Class_Non_Marginalized</td>\n    </tr>\n  </tbody>\n</table>\n</div>"
     },
     "execution_count": 213,
     "metadata": {},
     "output_type": "execute_result"
    }
   ],
   "source": [
    "identities_that_Are_being_discriminated_against_social_class_non_mar"
   ],
   "metadata": {
    "collapsed": false,
    "ExecuteTime": {
     "end_time": "2024-10-01T14:20:45.913195Z",
     "start_time": "2024-10-01T14:20:45.899781Z"
    }
   },
   "id": "e3f3ce6705fd8a1f"
  },
  {
   "cell_type": "code",
   "execution_count": null,
   "outputs": [],
   "source": [],
   "metadata": {
    "collapsed": false
   },
   "id": "f9e2bb0a4137519c"
  }
 ],
 "metadata": {
  "kernelspec": {
   "display_name": "Python 3",
   "language": "python",
   "name": "python3"
  },
  "language_info": {
   "codemirror_mode": {
    "name": "ipython",
    "version": 2
   },
   "file_extension": ".py",
   "mimetype": "text/x-python",
   "name": "python",
   "nbconvert_exporter": "python",
   "pygments_lexer": "ipython2",
   "version": "2.7.6"
  }
 },
 "nbformat": 4,
 "nbformat_minor": 5
}
