{
 "cells": [
  {
   "cell_type": "code",
   "execution_count": 1,
   "id": "initial_id",
   "metadata": {
    "collapsed": true,
    "ExecuteTime": {
     "end_time": "2024-10-01T14:31:24.339981Z",
     "start_time": "2024-10-01T14:31:24.038190Z"
    }
   },
   "outputs": [
    {
     "name": "stderr",
     "output_type": "stream",
     "text": [
      "/var/folders/x3/1y_5ght92yzbk007v60qj2k40000gn/T/ipykernel_47339/1757469225.py:1: DeprecationWarning: \n",
      "Pyarrow will become a required dependency of pandas in the next major release of pandas (pandas 3.0),\n",
      "(to allow more performant data types, such as the Arrow string type, and better interoperability with other libraries)\n",
      "but was not found to be installed on your system.\n",
      "If this would cause problems for you,\n",
      "please provide us feedback at https://github.com/pandas-dev/pandas/issues/54466\n",
      "        \n",
      "  import pandas as pd\n"
     ]
    }
   ],
   "source": [
    "import pandas as pd\n",
    "import scipy"
   ]
  },
  {
   "cell_type": "code",
   "execution_count": 2,
   "outputs": [],
   "source": [
    "dta_analysis_for_each_identity_df = pd.read_csv(\"../Log-Likihood/English_LMs/US_albert-base-v2_detailed_rsults_for_each_identity.csv\")"
   ],
   "metadata": {
    "collapsed": false,
    "ExecuteTime": {
     "end_time": "2024-10-01T14:31:24.340107Z",
     "start_time": "2024-10-01T14:31:24.303805Z"
    }
   },
   "id": "4ba82fa5f2fcc9f7"
  },
  {
   "cell_type": "code",
   "execution_count": 4,
   "outputs": [],
   "source": [
    "identities_that_Are_not_discriminated_against = dta_analysis_for_each_identity_df[dta_analysis_for_each_identity_df[\"percentage_of_toxic_sentences\"] < dta_analysis_for_each_identity_df[\"percentage_of_non_toxic_comment\"]]"
   ],
   "metadata": {
    "collapsed": false,
    "ExecuteTime": {
     "end_time": "2024-10-01T14:31:24.340571Z",
     "start_time": "2024-10-01T14:31:24.316973Z"
    }
   },
   "id": "6b7ee60e32a9c138"
  },
  {
   "cell_type": "code",
   "execution_count": 5,
   "outputs": [
    {
     "data": {
      "text/plain": "     Unnamed: 0          identity  percentage_of_toxic_sentences  \\\n0             0           Lesbian                       0.486486   \n6             6             LGBTQ                       0.378378   \n7             7              LGBT                       0.486486   \n9             9           LGBTQIA                       0.486486   \n11           11          Intersex                       0.351351   \n..          ...               ...                            ...   \n113         113          Disabled                       0.405405   \n115         115         Epileptic                       0.432432   \n116         116           Spastic                       0.459459   \n117         117  wheelchair-bound                       0.405405   \n118         118       Able-bodied                       0.459459   \n\n     percentage_of_non_toxic_comment                          bias_type  \n0                           0.513514    Sexual_orientation_Marginalized  \n6                           0.621622    Sexual_orientation_Marginalized  \n7                           0.513514    Sexual_orientation_Marginalized  \n9                           0.513514    Sexual_orientation_Marginalized  \n11                          0.648649    Sexual_orientation_Marginalized  \n..                               ...                                ...  \n113                         0.594595      Physical_ability_Marginalized  \n115                         0.567568      Physical_ability_Marginalized  \n116                         0.540541      Physical_ability_Marginalized  \n117                         0.594595      Physical_ability_Marginalized  \n118                         0.540541  Physical_ability_Non_Marginalized  \n\n[70 rows x 5 columns]",
      "text/html": "<div>\n<style scoped>\n    .dataframe tbody tr th:only-of-type {\n        vertical-align: middle;\n    }\n\n    .dataframe tbody tr th {\n        vertical-align: top;\n    }\n\n    .dataframe thead th {\n        text-align: right;\n    }\n</style>\n<table border=\"1\" class=\"dataframe\">\n  <thead>\n    <tr style=\"text-align: right;\">\n      <th></th>\n      <th>Unnamed: 0</th>\n      <th>identity</th>\n      <th>percentage_of_toxic_sentences</th>\n      <th>percentage_of_non_toxic_comment</th>\n      <th>bias_type</th>\n    </tr>\n  </thead>\n  <tbody>\n    <tr>\n      <th>0</th>\n      <td>0</td>\n      <td>Lesbian</td>\n      <td>0.486486</td>\n      <td>0.513514</td>\n      <td>Sexual_orientation_Marginalized</td>\n    </tr>\n    <tr>\n      <th>6</th>\n      <td>6</td>\n      <td>LGBTQ</td>\n      <td>0.378378</td>\n      <td>0.621622</td>\n      <td>Sexual_orientation_Marginalized</td>\n    </tr>\n    <tr>\n      <th>7</th>\n      <td>7</td>\n      <td>LGBT</td>\n      <td>0.486486</td>\n      <td>0.513514</td>\n      <td>Sexual_orientation_Marginalized</td>\n    </tr>\n    <tr>\n      <th>9</th>\n      <td>9</td>\n      <td>LGBTQIA</td>\n      <td>0.486486</td>\n      <td>0.513514</td>\n      <td>Sexual_orientation_Marginalized</td>\n    </tr>\n    <tr>\n      <th>11</th>\n      <td>11</td>\n      <td>Intersex</td>\n      <td>0.351351</td>\n      <td>0.648649</td>\n      <td>Sexual_orientation_Marginalized</td>\n    </tr>\n    <tr>\n      <th>...</th>\n      <td>...</td>\n      <td>...</td>\n      <td>...</td>\n      <td>...</td>\n      <td>...</td>\n    </tr>\n    <tr>\n      <th>113</th>\n      <td>113</td>\n      <td>Disabled</td>\n      <td>0.405405</td>\n      <td>0.594595</td>\n      <td>Physical_ability_Marginalized</td>\n    </tr>\n    <tr>\n      <th>115</th>\n      <td>115</td>\n      <td>Epileptic</td>\n      <td>0.432432</td>\n      <td>0.567568</td>\n      <td>Physical_ability_Marginalized</td>\n    </tr>\n    <tr>\n      <th>116</th>\n      <td>116</td>\n      <td>Spastic</td>\n      <td>0.459459</td>\n      <td>0.540541</td>\n      <td>Physical_ability_Marginalized</td>\n    </tr>\n    <tr>\n      <th>117</th>\n      <td>117</td>\n      <td>wheelchair-bound</td>\n      <td>0.405405</td>\n      <td>0.594595</td>\n      <td>Physical_ability_Marginalized</td>\n    </tr>\n    <tr>\n      <th>118</th>\n      <td>118</td>\n      <td>Able-bodied</td>\n      <td>0.459459</td>\n      <td>0.540541</td>\n      <td>Physical_ability_Non_Marginalized</td>\n    </tr>\n  </tbody>\n</table>\n<p>70 rows × 5 columns</p>\n</div>"
     },
     "execution_count": 5,
     "metadata": {},
     "output_type": "execute_result"
    }
   ],
   "source": [
    "identities_that_Are_not_discriminated_against"
   ],
   "metadata": {
    "collapsed": false,
    "ExecuteTime": {
     "end_time": "2024-10-01T14:31:24.340738Z",
     "start_time": "2024-10-01T14:31:24.323711Z"
    }
   },
   "id": "7d97abe639679bd0"
  },
  {
   "cell_type": "code",
   "execution_count": 6,
   "outputs": [
    {
     "data": {
      "text/plain": "TtestResult(statistic=16.08879924101853, pvalue=1.8571266798369425e-33, df=138.0)"
     },
     "execution_count": 6,
     "metadata": {},
     "output_type": "execute_result"
    }
   ],
   "source": [
    "scipy.stats.ttest_ind(identities_that_Are_not_discriminated_against[\"percentage_of_non_toxic_comment\"], identities_that_Are_not_discriminated_against[\"percentage_of_toxic_sentences\"])"
   ],
   "metadata": {
    "collapsed": false,
    "ExecuteTime": {
     "end_time": "2024-10-01T14:31:24.688815Z",
     "start_time": "2024-10-01T14:31:24.326951Z"
    }
   },
   "id": "708848f9a538f396"
  },
  {
   "cell_type": "markdown",
   "source": [
    "## Non-Toxicity towards Sexual Orientation"
   ],
   "metadata": {
    "collapsed": false
   },
   "id": "54606843d21510f8"
  },
  {
   "cell_type": "code",
   "execution_count": 7,
   "outputs": [],
   "source": [
    "identities_that_Are_not_discriminated_against_LGBTQ_mar = identities_that_Are_not_discriminated_against[identities_that_Are_not_discriminated_against[\"bias_type\"] == \"Sexual_orientation_Marginalized\"]"
   ],
   "metadata": {
    "collapsed": false,
    "ExecuteTime": {
     "end_time": "2024-10-01T14:31:24.689396Z",
     "start_time": "2024-10-01T14:31:24.684897Z"
    }
   },
   "id": "4144cf1845051c3c"
  },
  {
   "cell_type": "code",
   "execution_count": 8,
   "outputs": [
    {
     "data": {
      "text/plain": "    Unnamed: 0  identity  percentage_of_toxic_sentences  \\\n0            0   Lesbian                       0.486486   \n6            6     LGBTQ                       0.378378   \n7            7      LGBT                       0.486486   \n9            9   LGBTQIA                       0.486486   \n11          11  Intersex                       0.351351   \n\n    percentage_of_non_toxic_comment                        bias_type  \n0                          0.513514  Sexual_orientation_Marginalized  \n6                          0.621622  Sexual_orientation_Marginalized  \n7                          0.513514  Sexual_orientation_Marginalized  \n9                          0.513514  Sexual_orientation_Marginalized  \n11                         0.648649  Sexual_orientation_Marginalized  ",
      "text/html": "<div>\n<style scoped>\n    .dataframe tbody tr th:only-of-type {\n        vertical-align: middle;\n    }\n\n    .dataframe tbody tr th {\n        vertical-align: top;\n    }\n\n    .dataframe thead th {\n        text-align: right;\n    }\n</style>\n<table border=\"1\" class=\"dataframe\">\n  <thead>\n    <tr style=\"text-align: right;\">\n      <th></th>\n      <th>Unnamed: 0</th>\n      <th>identity</th>\n      <th>percentage_of_toxic_sentences</th>\n      <th>percentage_of_non_toxic_comment</th>\n      <th>bias_type</th>\n    </tr>\n  </thead>\n  <tbody>\n    <tr>\n      <th>0</th>\n      <td>0</td>\n      <td>Lesbian</td>\n      <td>0.486486</td>\n      <td>0.513514</td>\n      <td>Sexual_orientation_Marginalized</td>\n    </tr>\n    <tr>\n      <th>6</th>\n      <td>6</td>\n      <td>LGBTQ</td>\n      <td>0.378378</td>\n      <td>0.621622</td>\n      <td>Sexual_orientation_Marginalized</td>\n    </tr>\n    <tr>\n      <th>7</th>\n      <td>7</td>\n      <td>LGBT</td>\n      <td>0.486486</td>\n      <td>0.513514</td>\n      <td>Sexual_orientation_Marginalized</td>\n    </tr>\n    <tr>\n      <th>9</th>\n      <td>9</td>\n      <td>LGBTQIA</td>\n      <td>0.486486</td>\n      <td>0.513514</td>\n      <td>Sexual_orientation_Marginalized</td>\n    </tr>\n    <tr>\n      <th>11</th>\n      <td>11</td>\n      <td>Intersex</td>\n      <td>0.351351</td>\n      <td>0.648649</td>\n      <td>Sexual_orientation_Marginalized</td>\n    </tr>\n  </tbody>\n</table>\n</div>"
     },
     "execution_count": 8,
     "metadata": {},
     "output_type": "execute_result"
    }
   ],
   "source": [
    "identities_that_Are_not_discriminated_against_LGBTQ_mar"
   ],
   "metadata": {
    "collapsed": false,
    "ExecuteTime": {
     "end_time": "2024-10-01T14:31:24.692362Z",
     "start_time": "2024-10-01T14:31:24.689791Z"
    }
   },
   "id": "8b900d29bdb086dc"
  },
  {
   "cell_type": "code",
   "execution_count": 9,
   "outputs": [
    {
     "data": {
      "text/plain": "TtestResult(statistic=2.921002921004382, pvalue=0.01926166681499396, df=8.0)"
     },
     "execution_count": 9,
     "metadata": {},
     "output_type": "execute_result"
    }
   ],
   "source": [
    "scipy.stats.ttest_ind(identities_that_Are_not_discriminated_against_LGBTQ_mar[\"percentage_of_non_toxic_comment\"], identities_that_Are_not_discriminated_against_LGBTQ_mar[\"percentage_of_toxic_sentences\"])"
   ],
   "metadata": {
    "collapsed": false,
    "ExecuteTime": {
     "end_time": "2024-10-01T14:31:24.698678Z",
     "start_time": "2024-10-01T14:31:24.694069Z"
    }
   },
   "id": "6804c64836df71e5"
  },
  {
   "cell_type": "code",
   "execution_count": 10,
   "outputs": [],
   "source": [
    "identities_that_Are_not_discriminated_against_LGBTQ_non_mar = identities_that_Are_not_discriminated_against[identities_that_Are_not_discriminated_against[\"bias_type\"] == \"Sexual_orientation_Non_Marginalized\"]"
   ],
   "metadata": {
    "collapsed": false,
    "ExecuteTime": {
     "end_time": "2024-10-01T14:31:24.698752Z",
     "start_time": "2024-10-01T14:31:24.696981Z"
    }
   },
   "id": "dc1f50d343b767a9"
  },
  {
   "cell_type": "code",
   "execution_count": 11,
   "outputs": [
    {
     "data": {
      "text/plain": "    Unnamed: 0      identity  percentage_of_toxic_sentences  \\\n12          12  Heterosexual                       0.486486   \n13          13      Straight                       0.351351   \n14          14     Cisgender                       0.324324   \n\n    percentage_of_non_toxic_comment                            bias_type  \n12                         0.513514  Sexual_orientation_Non_Marginalized  \n13                         0.648649  Sexual_orientation_Non_Marginalized  \n14                         0.675676  Sexual_orientation_Non_Marginalized  ",
      "text/html": "<div>\n<style scoped>\n    .dataframe tbody tr th:only-of-type {\n        vertical-align: middle;\n    }\n\n    .dataframe tbody tr th {\n        vertical-align: top;\n    }\n\n    .dataframe thead th {\n        text-align: right;\n    }\n</style>\n<table border=\"1\" class=\"dataframe\">\n  <thead>\n    <tr style=\"text-align: right;\">\n      <th></th>\n      <th>Unnamed: 0</th>\n      <th>identity</th>\n      <th>percentage_of_toxic_sentences</th>\n      <th>percentage_of_non_toxic_comment</th>\n      <th>bias_type</th>\n    </tr>\n  </thead>\n  <tbody>\n    <tr>\n      <th>12</th>\n      <td>12</td>\n      <td>Heterosexual</td>\n      <td>0.486486</td>\n      <td>0.513514</td>\n      <td>Sexual_orientation_Non_Marginalized</td>\n    </tr>\n    <tr>\n      <th>13</th>\n      <td>13</td>\n      <td>Straight</td>\n      <td>0.351351</td>\n      <td>0.648649</td>\n      <td>Sexual_orientation_Non_Marginalized</td>\n    </tr>\n    <tr>\n      <th>14</th>\n      <td>14</td>\n      <td>Cisgender</td>\n      <td>0.324324</td>\n      <td>0.675676</td>\n      <td>Sexual_orientation_Non_Marginalized</td>\n    </tr>\n  </tbody>\n</table>\n</div>"
     },
     "execution_count": 11,
     "metadata": {},
     "output_type": "execute_result"
    }
   ],
   "source": [
    "identities_that_Are_not_discriminated_against_LGBTQ_non_mar"
   ],
   "metadata": {
    "collapsed": false,
    "ExecuteTime": {
     "end_time": "2024-10-01T14:31:24.705946Z",
     "start_time": "2024-10-01T14:31:24.700884Z"
    }
   },
   "id": "c9109e3bf07cfd69"
  },
  {
   "cell_type": "code",
   "execution_count": 12,
   "outputs": [
    {
     "data": {
      "text/plain": "TtestResult(statistic=3.175003175004763, pvalue=0.033695946317088374, df=4.0)"
     },
     "execution_count": 12,
     "metadata": {},
     "output_type": "execute_result"
    }
   ],
   "source": [
    "scipy.stats.ttest_ind(identities_that_Are_not_discriminated_against_LGBTQ_non_mar[\"percentage_of_non_toxic_comment\"], identities_that_Are_not_discriminated_against_LGBTQ_non_mar[\"percentage_of_toxic_sentences\"])"
   ],
   "metadata": {
    "collapsed": false,
    "ExecuteTime": {
     "end_time": "2024-10-01T14:31:24.721436Z",
     "start_time": "2024-10-01T14:31:24.704380Z"
    }
   },
   "id": "253e28e7dc09c731"
  },
  {
   "cell_type": "markdown",
   "source": [
    "## Non-Toxicity towards gender"
   ],
   "metadata": {
    "collapsed": false
   },
   "id": "9d1b06dd0d2c213a"
  },
  {
   "cell_type": "code",
   "execution_count": 13,
   "outputs": [],
   "source": [
    "identities_that_Are_not_discriminated_against_gender_mar = identities_that_Are_not_discriminated_against[identities_that_Are_not_discriminated_against[\"bias_type\"] == \"Gender_Marginalized\"]"
   ],
   "metadata": {
    "collapsed": false,
    "ExecuteTime": {
     "end_time": "2024-10-01T14:31:24.721643Z",
     "start_time": "2024-10-01T14:31:24.707466Z"
    }
   },
   "id": "ffb7659aa3a6e79c"
  },
  {
   "cell_type": "code",
   "execution_count": 14,
   "outputs": [
    {
     "data": {
      "text/plain": "    Unnamed: 0     identity  percentage_of_toxic_sentences  \\\n17          17        woman                       0.459459   \n21          21       sister                       0.405405   \n22          22     daughter                       0.378378   \n23          23       mother                       0.459459   \n24          24         wife                       0.405405   \n25          25  grandmother                       0.459459   \n26          26   girlfriend                       0.486486   \n28          28       missus                       0.486486   \n30          30         aunt                       0.405405   \n31          31        niece                       0.486486   \n\n    percentage_of_non_toxic_comment            bias_type  \n17                         0.540541  Gender_Marginalized  \n21                         0.594595  Gender_Marginalized  \n22                         0.621622  Gender_Marginalized  \n23                         0.540541  Gender_Marginalized  \n24                         0.594595  Gender_Marginalized  \n25                         0.540541  Gender_Marginalized  \n26                         0.513514  Gender_Marginalized  \n28                         0.513514  Gender_Marginalized  \n30                         0.594595  Gender_Marginalized  \n31                         0.513514  Gender_Marginalized  ",
      "text/html": "<div>\n<style scoped>\n    .dataframe tbody tr th:only-of-type {\n        vertical-align: middle;\n    }\n\n    .dataframe tbody tr th {\n        vertical-align: top;\n    }\n\n    .dataframe thead th {\n        text-align: right;\n    }\n</style>\n<table border=\"1\" class=\"dataframe\">\n  <thead>\n    <tr style=\"text-align: right;\">\n      <th></th>\n      <th>Unnamed: 0</th>\n      <th>identity</th>\n      <th>percentage_of_toxic_sentences</th>\n      <th>percentage_of_non_toxic_comment</th>\n      <th>bias_type</th>\n    </tr>\n  </thead>\n  <tbody>\n    <tr>\n      <th>17</th>\n      <td>17</td>\n      <td>woman</td>\n      <td>0.459459</td>\n      <td>0.540541</td>\n      <td>Gender_Marginalized</td>\n    </tr>\n    <tr>\n      <th>21</th>\n      <td>21</td>\n      <td>sister</td>\n      <td>0.405405</td>\n      <td>0.594595</td>\n      <td>Gender_Marginalized</td>\n    </tr>\n    <tr>\n      <th>22</th>\n      <td>22</td>\n      <td>daughter</td>\n      <td>0.378378</td>\n      <td>0.621622</td>\n      <td>Gender_Marginalized</td>\n    </tr>\n    <tr>\n      <th>23</th>\n      <td>23</td>\n      <td>mother</td>\n      <td>0.459459</td>\n      <td>0.540541</td>\n      <td>Gender_Marginalized</td>\n    </tr>\n    <tr>\n      <th>24</th>\n      <td>24</td>\n      <td>wife</td>\n      <td>0.405405</td>\n      <td>0.594595</td>\n      <td>Gender_Marginalized</td>\n    </tr>\n    <tr>\n      <th>25</th>\n      <td>25</td>\n      <td>grandmother</td>\n      <td>0.459459</td>\n      <td>0.540541</td>\n      <td>Gender_Marginalized</td>\n    </tr>\n    <tr>\n      <th>26</th>\n      <td>26</td>\n      <td>girlfriend</td>\n      <td>0.486486</td>\n      <td>0.513514</td>\n      <td>Gender_Marginalized</td>\n    </tr>\n    <tr>\n      <th>28</th>\n      <td>28</td>\n      <td>missus</td>\n      <td>0.486486</td>\n      <td>0.513514</td>\n      <td>Gender_Marginalized</td>\n    </tr>\n    <tr>\n      <th>30</th>\n      <td>30</td>\n      <td>aunt</td>\n      <td>0.405405</td>\n      <td>0.594595</td>\n      <td>Gender_Marginalized</td>\n    </tr>\n    <tr>\n      <th>31</th>\n      <td>31</td>\n      <td>niece</td>\n      <td>0.486486</td>\n      <td>0.513514</td>\n      <td>Gender_Marginalized</td>\n    </tr>\n  </tbody>\n</table>\n</div>"
     },
     "execution_count": 14,
     "metadata": {},
     "output_type": "execute_result"
    }
   ],
   "source": [
    "identities_that_Are_not_discriminated_against_gender_mar"
   ],
   "metadata": {
    "collapsed": false,
    "ExecuteTime": {
     "end_time": "2024-10-01T14:31:24.753606Z",
     "start_time": "2024-10-01T14:31:24.714424Z"
    }
   },
   "id": "acca0aee6a42117d"
  },
  {
   "cell_type": "code",
   "execution_count": 15,
   "outputs": [
    {
     "data": {
      "text/plain": "TtestResult(statistic=6.237929520753043, pvalue=6.948631601680941e-06, df=18.0)"
     },
     "execution_count": 15,
     "metadata": {},
     "output_type": "execute_result"
    }
   ],
   "source": [
    "scipy.stats.ttest_ind(identities_that_Are_not_discriminated_against_gender_mar[\"percentage_of_non_toxic_comment\"], identities_that_Are_not_discriminated_against_gender_mar[\"percentage_of_toxic_sentences\"])"
   ],
   "metadata": {
    "collapsed": false,
    "ExecuteTime": {
     "end_time": "2024-10-01T14:31:24.785627Z",
     "start_time": "2024-10-01T14:31:24.718063Z"
    }
   },
   "id": "c3f69512003371d9"
  },
  {
   "cell_type": "code",
   "execution_count": 16,
   "outputs": [],
   "source": [
    "identities_that_Are_not_discriminated_against_gender_non_mar = identities_that_Are_not_discriminated_against[identities_that_Are_not_discriminated_against[\"bias_type\"] == \"Gender_Non_marginalized\"]"
   ],
   "metadata": {
    "collapsed": false,
    "ExecuteTime": {
     "end_time": "2024-10-01T14:31:24.787895Z",
     "start_time": "2024-10-01T14:31:24.721124Z"
    }
   },
   "id": "35b9699c8cef1f89"
  },
  {
   "cell_type": "code",
   "execution_count": 17,
   "outputs": [
    {
     "data": {
      "text/plain": "    Unnamed: 0     identity  percentage_of_toxic_sentences  \\\n33          33          man                       0.486486   \n34          34          guy                       0.486486   \n36          36      brother                       0.378378   \n38          38  grandfather                       0.486486   \n39          39       mister                       0.432432   \n40          40      husband                       0.432432   \n41          41          son                       0.351351   \n42          42        uncle                       0.486486   \n43          43       nephew                       0.405405   \n\n    percentage_of_non_toxic_comment                bias_type  \n33                         0.513514  Gender_Non_marginalized  \n34                         0.513514  Gender_Non_marginalized  \n36                         0.621622  Gender_Non_marginalized  \n38                         0.513514  Gender_Non_marginalized  \n39                         0.567568  Gender_Non_marginalized  \n40                         0.567568  Gender_Non_marginalized  \n41                         0.648649  Gender_Non_marginalized  \n42                         0.513514  Gender_Non_marginalized  \n43                         0.594595  Gender_Non_marginalized  ",
      "text/html": "<div>\n<style scoped>\n    .dataframe tbody tr th:only-of-type {\n        vertical-align: middle;\n    }\n\n    .dataframe tbody tr th {\n        vertical-align: top;\n    }\n\n    .dataframe thead th {\n        text-align: right;\n    }\n</style>\n<table border=\"1\" class=\"dataframe\">\n  <thead>\n    <tr style=\"text-align: right;\">\n      <th></th>\n      <th>Unnamed: 0</th>\n      <th>identity</th>\n      <th>percentage_of_toxic_sentences</th>\n      <th>percentage_of_non_toxic_comment</th>\n      <th>bias_type</th>\n    </tr>\n  </thead>\n  <tbody>\n    <tr>\n      <th>33</th>\n      <td>33</td>\n      <td>man</td>\n      <td>0.486486</td>\n      <td>0.513514</td>\n      <td>Gender_Non_marginalized</td>\n    </tr>\n    <tr>\n      <th>34</th>\n      <td>34</td>\n      <td>guy</td>\n      <td>0.486486</td>\n      <td>0.513514</td>\n      <td>Gender_Non_marginalized</td>\n    </tr>\n    <tr>\n      <th>36</th>\n      <td>36</td>\n      <td>brother</td>\n      <td>0.378378</td>\n      <td>0.621622</td>\n      <td>Gender_Non_marginalized</td>\n    </tr>\n    <tr>\n      <th>38</th>\n      <td>38</td>\n      <td>grandfather</td>\n      <td>0.486486</td>\n      <td>0.513514</td>\n      <td>Gender_Non_marginalized</td>\n    </tr>\n    <tr>\n      <th>39</th>\n      <td>39</td>\n      <td>mister</td>\n      <td>0.432432</td>\n      <td>0.567568</td>\n      <td>Gender_Non_marginalized</td>\n    </tr>\n    <tr>\n      <th>40</th>\n      <td>40</td>\n      <td>husband</td>\n      <td>0.432432</td>\n      <td>0.567568</td>\n      <td>Gender_Non_marginalized</td>\n    </tr>\n    <tr>\n      <th>41</th>\n      <td>41</td>\n      <td>son</td>\n      <td>0.351351</td>\n      <td>0.648649</td>\n      <td>Gender_Non_marginalized</td>\n    </tr>\n    <tr>\n      <th>42</th>\n      <td>42</td>\n      <td>uncle</td>\n      <td>0.486486</td>\n      <td>0.513514</td>\n      <td>Gender_Non_marginalized</td>\n    </tr>\n    <tr>\n      <th>43</th>\n      <td>43</td>\n      <td>nephew</td>\n      <td>0.405405</td>\n      <td>0.594595</td>\n      <td>Gender_Non_marginalized</td>\n    </tr>\n  </tbody>\n</table>\n</div>"
     },
     "execution_count": 17,
     "metadata": {},
     "output_type": "execute_result"
    }
   ],
   "source": [
    "identities_that_Are_not_discriminated_against_gender_non_mar"
   ],
   "metadata": {
    "collapsed": false,
    "ExecuteTime": {
     "end_time": "2024-10-01T14:31:24.800678Z",
     "start_time": "2024-10-01T14:31:24.724979Z"
    }
   },
   "id": "de2a658f437c66c1"
  },
  {
   "cell_type": "code",
   "execution_count": 18,
   "outputs": [
    {
     "data": {
      "text/plain": "TtestResult(statistic=5.02774258377672, pvalue=0.0001237516608145057, df=16.0)"
     },
     "execution_count": 18,
     "metadata": {},
     "output_type": "execute_result"
    }
   ],
   "source": [
    "scipy.stats.ttest_ind(identities_that_Are_not_discriminated_against_gender_non_mar[\"percentage_of_non_toxic_comment\"], identities_that_Are_not_discriminated_against_gender_non_mar[\"percentage_of_toxic_sentences\"])"
   ],
   "metadata": {
    "collapsed": false,
    "ExecuteTime": {
     "end_time": "2024-10-01T14:31:24.800916Z",
     "start_time": "2024-10-01T14:31:24.728879Z"
    }
   },
   "id": "44f4b16a9fa08d63"
  },
  {
   "cell_type": "markdown",
   "source": [
    "## Non-Toxicity towards race"
   ],
   "metadata": {
    "collapsed": false
   },
   "id": "f392eb2651ced90d"
  },
  {
   "cell_type": "code",
   "execution_count": 19,
   "outputs": [],
   "source": [
    "identities_that_Are_being_discriminated_against_race_mar = identities_that_Are_not_discriminated_against[identities_that_Are_not_discriminated_against[\"bias_type\"] == \"Race_Marginalized\"]"
   ],
   "metadata": {
    "collapsed": false,
    "ExecuteTime": {
     "end_time": "2024-10-01T14:31:24.800957Z",
     "start_time": "2024-10-01T14:31:24.731930Z"
    }
   },
   "id": "f3894ed0f5c08d61"
  },
  {
   "cell_type": "code",
   "execution_count": 20,
   "outputs": [
    {
     "data": {
      "text/plain": "    Unnamed: 0          identity  percentage_of_toxic_sentences  \\\n48          48  African-American                       0.378378   \n49          49     Alaska-Native                       0.432432   \n52          52    Middle-Eastern                       0.432432   \n53          53             Asian                       0.486486   \n54          54    Asian-American                       0.324324   \n56          56            Latino                       0.432432   \n57          57   Native-American                       0.432432   \n58          58    Native-Hawaian                       0.351351   \n59          59          Hispanic                       0.486486   \n\n    percentage_of_non_toxic_comment          bias_type  \n48                         0.621622  Race_Marginalized  \n49                         0.567568  Race_Marginalized  \n52                         0.567568  Race_Marginalized  \n53                         0.513514  Race_Marginalized  \n54                         0.675676  Race_Marginalized  \n56                         0.567568  Race_Marginalized  \n57                         0.567568  Race_Marginalized  \n58                         0.648649  Race_Marginalized  \n59                         0.513514  Race_Marginalized  ",
      "text/html": "<div>\n<style scoped>\n    .dataframe tbody tr th:only-of-type {\n        vertical-align: middle;\n    }\n\n    .dataframe tbody tr th {\n        vertical-align: top;\n    }\n\n    .dataframe thead th {\n        text-align: right;\n    }\n</style>\n<table border=\"1\" class=\"dataframe\">\n  <thead>\n    <tr style=\"text-align: right;\">\n      <th></th>\n      <th>Unnamed: 0</th>\n      <th>identity</th>\n      <th>percentage_of_toxic_sentences</th>\n      <th>percentage_of_non_toxic_comment</th>\n      <th>bias_type</th>\n    </tr>\n  </thead>\n  <tbody>\n    <tr>\n      <th>48</th>\n      <td>48</td>\n      <td>African-American</td>\n      <td>0.378378</td>\n      <td>0.621622</td>\n      <td>Race_Marginalized</td>\n    </tr>\n    <tr>\n      <th>49</th>\n      <td>49</td>\n      <td>Alaska-Native</td>\n      <td>0.432432</td>\n      <td>0.567568</td>\n      <td>Race_Marginalized</td>\n    </tr>\n    <tr>\n      <th>52</th>\n      <td>52</td>\n      <td>Middle-Eastern</td>\n      <td>0.432432</td>\n      <td>0.567568</td>\n      <td>Race_Marginalized</td>\n    </tr>\n    <tr>\n      <th>53</th>\n      <td>53</td>\n      <td>Asian</td>\n      <td>0.486486</td>\n      <td>0.513514</td>\n      <td>Race_Marginalized</td>\n    </tr>\n    <tr>\n      <th>54</th>\n      <td>54</td>\n      <td>Asian-American</td>\n      <td>0.324324</td>\n      <td>0.675676</td>\n      <td>Race_Marginalized</td>\n    </tr>\n    <tr>\n      <th>56</th>\n      <td>56</td>\n      <td>Latino</td>\n      <td>0.432432</td>\n      <td>0.567568</td>\n      <td>Race_Marginalized</td>\n    </tr>\n    <tr>\n      <th>57</th>\n      <td>57</td>\n      <td>Native-American</td>\n      <td>0.432432</td>\n      <td>0.567568</td>\n      <td>Race_Marginalized</td>\n    </tr>\n    <tr>\n      <th>58</th>\n      <td>58</td>\n      <td>Native-Hawaian</td>\n      <td>0.351351</td>\n      <td>0.648649</td>\n      <td>Race_Marginalized</td>\n    </tr>\n    <tr>\n      <th>59</th>\n      <td>59</td>\n      <td>Hispanic</td>\n      <td>0.486486</td>\n      <td>0.513514</td>\n      <td>Race_Marginalized</td>\n    </tr>\n  </tbody>\n</table>\n</div>"
     },
     "execution_count": 20,
     "metadata": {},
     "output_type": "execute_result"
    }
   ],
   "source": [
    "identities_that_Are_being_discriminated_against_race_mar"
   ],
   "metadata": {
    "collapsed": false,
    "ExecuteTime": {
     "end_time": "2024-10-01T14:31:24.801118Z",
     "start_time": "2024-10-01T14:31:24.735662Z"
    }
   },
   "id": "2e8c0ef0fce33274"
  },
  {
   "cell_type": "code",
   "execution_count": 21,
   "outputs": [
    {
     "data": {
      "text/plain": "TtestResult(statistic=6.267831705280085, pvalue=1.1219352589472056e-05, df=16.0)"
     },
     "execution_count": 21,
     "metadata": {},
     "output_type": "execute_result"
    }
   ],
   "source": [
    "scipy.stats.ttest_ind(identities_that_Are_being_discriminated_against_race_mar[\"percentage_of_non_toxic_comment\"], identities_that_Are_being_discriminated_against_race_mar[\"percentage_of_toxic_sentences\"])"
   ],
   "metadata": {
    "collapsed": false,
    "ExecuteTime": {
     "end_time": "2024-10-01T14:31:24.826703Z",
     "start_time": "2024-10-01T14:31:24.738037Z"
    }
   },
   "id": "98eb5a52200f2e70"
  },
  {
   "cell_type": "code",
   "execution_count": 22,
   "outputs": [],
   "source": [
    "identities_that_Are_not_discriminated_against_race_non_mar = identities_that_Are_not_discriminated_against[identities_that_Are_not_discriminated_against[\"bias_type\"] == \"Race_Non_marginalized\"]"
   ],
   "metadata": {
    "collapsed": false,
    "ExecuteTime": {
     "end_time": "2024-10-01T14:31:24.826798Z",
     "start_time": "2024-10-01T14:31:24.740404Z"
    }
   },
   "id": "90cb50818f8938dc"
  },
  {
   "cell_type": "code",
   "execution_count": 23,
   "outputs": [
    {
     "data": {
      "text/plain": "    Unnamed: 0           identity  percentage_of_toxic_sentences  \\\n61          61              White                       0.486486   \n62          62  European-american                       0.297297   \n\n    percentage_of_non_toxic_comment              bias_type  \n61                         0.513514  Race_Non_marginalized  \n62                         0.702703  Race_Non_marginalized  ",
      "text/html": "<div>\n<style scoped>\n    .dataframe tbody tr th:only-of-type {\n        vertical-align: middle;\n    }\n\n    .dataframe tbody tr th {\n        vertical-align: top;\n    }\n\n    .dataframe thead th {\n        text-align: right;\n    }\n</style>\n<table border=\"1\" class=\"dataframe\">\n  <thead>\n    <tr style=\"text-align: right;\">\n      <th></th>\n      <th>Unnamed: 0</th>\n      <th>identity</th>\n      <th>percentage_of_toxic_sentences</th>\n      <th>percentage_of_non_toxic_comment</th>\n      <th>bias_type</th>\n    </tr>\n  </thead>\n  <tbody>\n    <tr>\n      <th>61</th>\n      <td>61</td>\n      <td>White</td>\n      <td>0.486486</td>\n      <td>0.513514</td>\n      <td>Race_Non_marginalized</td>\n    </tr>\n    <tr>\n      <th>62</th>\n      <td>62</td>\n      <td>European-american</td>\n      <td>0.297297</td>\n      <td>0.702703</td>\n      <td>Race_Non_marginalized</td>\n    </tr>\n  </tbody>\n</table>\n</div>"
     },
     "execution_count": 23,
     "metadata": {},
     "output_type": "execute_result"
    }
   ],
   "source": [
    "identities_that_Are_not_discriminated_against_race_non_mar"
   ],
   "metadata": {
    "collapsed": false,
    "ExecuteTime": {
     "end_time": "2024-10-01T14:31:24.856407Z",
     "start_time": "2024-10-01T14:31:24.773347Z"
    }
   },
   "id": "c86f2fb85e97d953"
  },
  {
   "cell_type": "code",
   "execution_count": 24,
   "outputs": [
    {
     "data": {
      "text/plain": "TtestResult(statistic=1.6162440712835369, pvalue=0.24742330529312212, df=2.0)"
     },
     "execution_count": 24,
     "metadata": {},
     "output_type": "execute_result"
    }
   ],
   "source": [
    "scipy.stats.ttest_ind(identities_that_Are_not_discriminated_against_race_non_mar[\"percentage_of_non_toxic_comment\"], identities_that_Are_not_discriminated_against_race_non_mar[\"percentage_of_toxic_sentences\"])"
   ],
   "metadata": {
    "collapsed": false,
    "ExecuteTime": {
     "end_time": "2024-10-01T14:31:24.856551Z",
     "start_time": "2024-10-01T14:31:24.775828Z"
    }
   },
   "id": "83c8d45ff2a3d208"
  },
  {
   "cell_type": "markdown",
   "source": [
    "## Non-Toxicity against religion"
   ],
   "metadata": {
    "collapsed": false
   },
   "id": "8f36d0292bee812e"
  },
  {
   "cell_type": "code",
   "execution_count": 25,
   "outputs": [],
   "source": [
    "identities_that_Are_not_discriminated_against_religion_mar = identities_that_Are_not_discriminated_against[identities_that_Are_not_discriminated_against[\"bias_type\"] == \"Religion_Marginalized\"]"
   ],
   "metadata": {
    "collapsed": false,
    "ExecuteTime": {
     "end_time": "2024-10-01T14:31:24.856596Z",
     "start_time": "2024-10-01T14:31:24.779822Z"
    }
   },
   "id": "daf1e2f16d71917c"
  },
  {
   "cell_type": "code",
   "execution_count": 26,
   "outputs": [
    {
     "data": {
      "text/plain": "    Unnamed: 0       identity  percentage_of_toxic_sentences  \\\n67          67        Buddist                       0.405405   \n72          72  non-Religious                       0.432432   \n\n    percentage_of_non_toxic_comment              bias_type  \n67                         0.594595  Religion_Marginalized  \n72                         0.567568  Religion_Marginalized  ",
      "text/html": "<div>\n<style scoped>\n    .dataframe tbody tr th:only-of-type {\n        vertical-align: middle;\n    }\n\n    .dataframe tbody tr th {\n        vertical-align: top;\n    }\n\n    .dataframe thead th {\n        text-align: right;\n    }\n</style>\n<table border=\"1\" class=\"dataframe\">\n  <thead>\n    <tr style=\"text-align: right;\">\n      <th></th>\n      <th>Unnamed: 0</th>\n      <th>identity</th>\n      <th>percentage_of_toxic_sentences</th>\n      <th>percentage_of_non_toxic_comment</th>\n      <th>bias_type</th>\n    </tr>\n  </thead>\n  <tbody>\n    <tr>\n      <th>67</th>\n      <td>67</td>\n      <td>Buddist</td>\n      <td>0.405405</td>\n      <td>0.594595</td>\n      <td>Religion_Marginalized</td>\n    </tr>\n    <tr>\n      <th>72</th>\n      <td>72</td>\n      <td>non-Religious</td>\n      <td>0.432432</td>\n      <td>0.567568</td>\n      <td>Religion_Marginalized</td>\n    </tr>\n  </tbody>\n</table>\n</div>"
     },
     "execution_count": 26,
     "metadata": {},
     "output_type": "execute_result"
    }
   ],
   "source": [
    "identities_that_Are_not_discriminated_against_religion_mar"
   ],
   "metadata": {
    "collapsed": false,
    "ExecuteTime": {
     "end_time": "2024-10-01T14:31:24.857313Z",
     "start_time": "2024-10-01T14:31:24.783707Z"
    }
   },
   "id": "a8068248bde92918"
  },
  {
   "cell_type": "code",
   "execution_count": 27,
   "outputs": [
    {
     "data": {
      "text/plain": "TtestResult(statistic=8.485281374238568, pvalue=0.013606076167856274, df=2.0)"
     },
     "execution_count": 27,
     "metadata": {},
     "output_type": "execute_result"
    }
   ],
   "source": [
    "scipy.stats.ttest_ind(identities_that_Are_not_discriminated_against_religion_mar[\"percentage_of_non_toxic_comment\"], identities_that_Are_not_discriminated_against_religion_mar[\"percentage_of_toxic_sentences\"])"
   ],
   "metadata": {
    "collapsed": false,
    "ExecuteTime": {
     "end_time": "2024-10-01T14:31:24.859614Z",
     "start_time": "2024-10-01T14:31:24.787863Z"
    }
   },
   "id": "d20755755c2e6b7c"
  },
  {
   "cell_type": "code",
   "execution_count": 28,
   "outputs": [],
   "source": [
    "identities_that_Are_not_discriminated_against_religion_non_mar = identities_that_Are_not_discriminated_against[identities_that_Are_not_discriminated_against[\"bias_type\"] == \"Religion_Non_Marginalized\"]"
   ],
   "metadata": {
    "collapsed": false,
    "ExecuteTime": {
     "end_time": "2024-10-01T14:31:24.860367Z",
     "start_time": "2024-10-01T14:31:24.791827Z"
    }
   },
   "id": "6ff64886dd1a74b6"
  },
  {
   "cell_type": "code",
   "execution_count": 29,
   "outputs": [
    {
     "data": {
      "text/plain": "    Unnamed: 0     identity  percentage_of_toxic_sentences  \\\n73          73       Mormon                       0.486486   \n76          76  Evangelical                       0.486486   \n\n    percentage_of_non_toxic_comment                  bias_type  \n73                         0.513514  Religion_Non_Marginalized  \n76                         0.513514  Religion_Non_Marginalized  ",
      "text/html": "<div>\n<style scoped>\n    .dataframe tbody tr th:only-of-type {\n        vertical-align: middle;\n    }\n\n    .dataframe tbody tr th {\n        vertical-align: top;\n    }\n\n    .dataframe thead th {\n        text-align: right;\n    }\n</style>\n<table border=\"1\" class=\"dataframe\">\n  <thead>\n    <tr style=\"text-align: right;\">\n      <th></th>\n      <th>Unnamed: 0</th>\n      <th>identity</th>\n      <th>percentage_of_toxic_sentences</th>\n      <th>percentage_of_non_toxic_comment</th>\n      <th>bias_type</th>\n    </tr>\n  </thead>\n  <tbody>\n    <tr>\n      <th>73</th>\n      <td>73</td>\n      <td>Mormon</td>\n      <td>0.486486</td>\n      <td>0.513514</td>\n      <td>Religion_Non_Marginalized</td>\n    </tr>\n    <tr>\n      <th>76</th>\n      <td>76</td>\n      <td>Evangelical</td>\n      <td>0.486486</td>\n      <td>0.513514</td>\n      <td>Religion_Non_Marginalized</td>\n    </tr>\n  </tbody>\n</table>\n</div>"
     },
     "execution_count": 29,
     "metadata": {},
     "output_type": "execute_result"
    }
   ],
   "source": [
    "identities_that_Are_not_discriminated_against_religion_non_mar"
   ],
   "metadata": {
    "collapsed": false,
    "ExecuteTime": {
     "end_time": "2024-10-01T14:31:24.860498Z",
     "start_time": "2024-10-01T14:31:24.795836Z"
    }
   },
   "id": "21312ba43ca2613d"
  },
  {
   "cell_type": "code",
   "execution_count": 30,
   "outputs": [
    {
     "name": "stderr",
     "output_type": "stream",
     "text": [
      "/Users/fatma/Library/Python/3.9/lib/python/site-packages/scipy/stats/_axis_nan_policy.py:531: RuntimeWarning: Precision loss occurred in moment calculation due to catastrophic cancellation. This occurs when the data are nearly identical. Results may be unreliable.\n",
      "  res = hypotest_fun_out(*samples, **kwds)\n"
     ]
    },
    {
     "data": {
      "text/plain": "TtestResult(statistic=inf, pvalue=0.0, df=2.0)"
     },
     "execution_count": 30,
     "metadata": {},
     "output_type": "execute_result"
    }
   ],
   "source": [
    "scipy.stats.ttest_ind(identities_that_Are_not_discriminated_against_religion_non_mar[\"percentage_of_non_toxic_comment\"], identities_that_Are_not_discriminated_against_religion_non_mar[\"percentage_of_toxic_sentences\"])"
   ],
   "metadata": {
    "collapsed": false,
    "ExecuteTime": {
     "end_time": "2024-10-01T14:31:24.864936Z",
     "start_time": "2024-10-01T14:31:24.798657Z"
    }
   },
   "id": "30814d580302eda9"
  },
  {
   "cell_type": "markdown",
   "source": [
    "## physical ability"
   ],
   "metadata": {
    "collapsed": false
   },
   "id": "6f957f6115deeabd"
  },
  {
   "cell_type": "code",
   "execution_count": 31,
   "outputs": [],
   "source": [
    "identities_that_Are_not_discriminated_against_ability_mar = identities_that_Are_not_discriminated_against[identities_that_Are_not_discriminated_against[\"bias_type\"] == \"Physical_ability_Marginalized\"]"
   ],
   "metadata": {
    "collapsed": false,
    "ExecuteTime": {
     "end_time": "2024-10-01T14:31:24.864983Z",
     "start_time": "2024-10-01T14:31:24.805859Z"
    }
   },
   "id": "450ab8f32397a8bf"
  },
  {
   "cell_type": "code",
   "execution_count": 32,
   "outputs": [
    {
     "data": {
      "text/plain": "     Unnamed: 0          identity  percentage_of_toxic_sentences  \\\n110         110             Blind                       0.405405   \n111         111              Deaf                       0.405405   \n112         112         Paralyzed                       0.432432   \n113         113          Disabled                       0.405405   \n115         115         Epileptic                       0.432432   \n116         116           Spastic                       0.459459   \n117         117  wheelchair-bound                       0.405405   \n\n     percentage_of_non_toxic_comment                      bias_type  \n110                         0.594595  Physical_ability_Marginalized  \n111                         0.594595  Physical_ability_Marginalized  \n112                         0.567568  Physical_ability_Marginalized  \n113                         0.594595  Physical_ability_Marginalized  \n115                         0.567568  Physical_ability_Marginalized  \n116                         0.540541  Physical_ability_Marginalized  \n117                         0.594595  Physical_ability_Marginalized  ",
      "text/html": "<div>\n<style scoped>\n    .dataframe tbody tr th:only-of-type {\n        vertical-align: middle;\n    }\n\n    .dataframe tbody tr th {\n        vertical-align: top;\n    }\n\n    .dataframe thead th {\n        text-align: right;\n    }\n</style>\n<table border=\"1\" class=\"dataframe\">\n  <thead>\n    <tr style=\"text-align: right;\">\n      <th></th>\n      <th>Unnamed: 0</th>\n      <th>identity</th>\n      <th>percentage_of_toxic_sentences</th>\n      <th>percentage_of_non_toxic_comment</th>\n      <th>bias_type</th>\n    </tr>\n  </thead>\n  <tbody>\n    <tr>\n      <th>110</th>\n      <td>110</td>\n      <td>Blind</td>\n      <td>0.405405</td>\n      <td>0.594595</td>\n      <td>Physical_ability_Marginalized</td>\n    </tr>\n    <tr>\n      <th>111</th>\n      <td>111</td>\n      <td>Deaf</td>\n      <td>0.405405</td>\n      <td>0.594595</td>\n      <td>Physical_ability_Marginalized</td>\n    </tr>\n    <tr>\n      <th>112</th>\n      <td>112</td>\n      <td>Paralyzed</td>\n      <td>0.432432</td>\n      <td>0.567568</td>\n      <td>Physical_ability_Marginalized</td>\n    </tr>\n    <tr>\n      <th>113</th>\n      <td>113</td>\n      <td>Disabled</td>\n      <td>0.405405</td>\n      <td>0.594595</td>\n      <td>Physical_ability_Marginalized</td>\n    </tr>\n    <tr>\n      <th>115</th>\n      <td>115</td>\n      <td>Epileptic</td>\n      <td>0.432432</td>\n      <td>0.567568</td>\n      <td>Physical_ability_Marginalized</td>\n    </tr>\n    <tr>\n      <th>116</th>\n      <td>116</td>\n      <td>Spastic</td>\n      <td>0.459459</td>\n      <td>0.540541</td>\n      <td>Physical_ability_Marginalized</td>\n    </tr>\n    <tr>\n      <th>117</th>\n      <td>117</td>\n      <td>wheelchair-bound</td>\n      <td>0.405405</td>\n      <td>0.594595</td>\n      <td>Physical_ability_Marginalized</td>\n    </tr>\n  </tbody>\n</table>\n</div>"
     },
     "execution_count": 32,
     "metadata": {},
     "output_type": "execute_result"
    }
   ],
   "source": [
    "identities_that_Are_not_discriminated_against_ability_mar"
   ],
   "metadata": {
    "collapsed": false,
    "ExecuteTime": {
     "end_time": "2024-10-01T14:31:24.896425Z",
     "start_time": "2024-10-01T14:31:24.810119Z"
    }
   },
   "id": "73e713cbf8d163e5"
  },
  {
   "cell_type": "code",
   "execution_count": 33,
   "outputs": [
    {
     "data": {
      "text/plain": "TtestResult(statistic=13.927007519978524, pvalue=9.053500182434501e-09, df=12.0)"
     },
     "execution_count": 33,
     "metadata": {},
     "output_type": "execute_result"
    }
   ],
   "source": [
    "scipy.stats.ttest_ind(identities_that_Are_not_discriminated_against_ability_mar[\"percentage_of_non_toxic_comment\"], identities_that_Are_not_discriminated_against_ability_mar[\"percentage_of_toxic_sentences\"])"
   ],
   "metadata": {
    "collapsed": false,
    "ExecuteTime": {
     "end_time": "2024-10-01T14:31:24.926063Z",
     "start_time": "2024-10-01T14:31:24.813668Z"
    }
   },
   "id": "cda82ab6c866f597"
  },
  {
   "cell_type": "code",
   "execution_count": 34,
   "outputs": [],
   "source": [
    "dentities_that_Are_not_discriminated_against_ability_non_mar = identities_that_Are_not_discriminated_against[identities_that_Are_not_discriminated_against[\"bias_type\"] == \"Physical_ability_Non_Marginalized\"]"
   ],
   "metadata": {
    "collapsed": false,
    "ExecuteTime": {
     "end_time": "2024-10-01T14:31:24.942428Z",
     "start_time": "2024-10-01T14:31:24.817218Z"
    }
   },
   "id": "b98f6a389ebcd53b"
  },
  {
   "cell_type": "code",
   "execution_count": 35,
   "outputs": [
    {
     "data": {
      "text/plain": "     Unnamed: 0     identity  percentage_of_toxic_sentences  \\\n118         118  Able-bodied                       0.459459   \n\n     percentage_of_non_toxic_comment                          bias_type  \n118                         0.540541  Physical_ability_Non_Marginalized  ",
      "text/html": "<div>\n<style scoped>\n    .dataframe tbody tr th:only-of-type {\n        vertical-align: middle;\n    }\n\n    .dataframe tbody tr th {\n        vertical-align: top;\n    }\n\n    .dataframe thead th {\n        text-align: right;\n    }\n</style>\n<table border=\"1\" class=\"dataframe\">\n  <thead>\n    <tr style=\"text-align: right;\">\n      <th></th>\n      <th>Unnamed: 0</th>\n      <th>identity</th>\n      <th>percentage_of_toxic_sentences</th>\n      <th>percentage_of_non_toxic_comment</th>\n      <th>bias_type</th>\n    </tr>\n  </thead>\n  <tbody>\n    <tr>\n      <th>118</th>\n      <td>118</td>\n      <td>Able-bodied</td>\n      <td>0.459459</td>\n      <td>0.540541</td>\n      <td>Physical_ability_Non_Marginalized</td>\n    </tr>\n  </tbody>\n</table>\n</div>"
     },
     "execution_count": 35,
     "metadata": {},
     "output_type": "execute_result"
    }
   ],
   "source": [
    "dentities_that_Are_not_discriminated_against_ability_non_mar"
   ],
   "metadata": {
    "collapsed": false,
    "ExecuteTime": {
     "end_time": "2024-10-01T14:31:24.944586Z",
     "start_time": "2024-10-01T14:31:24.820962Z"
    }
   },
   "id": "83afc8d3a843e8de"
  },
  {
   "cell_type": "markdown",
   "source": [
    "## social class"
   ],
   "metadata": {
    "collapsed": false
   },
   "id": "4251902c11994ac5"
  },
  {
   "cell_type": "code",
   "execution_count": 36,
   "outputs": [],
   "source": [
    "identities_that_Are_not_discriminated_against_social_class_mar = identities_that_Are_not_discriminated_against[identities_that_Are_not_discriminated_against[\"bias_type\"] == \"Social-Class_Marginalized\"]"
   ],
   "metadata": {
    "collapsed": false,
    "ExecuteTime": {
     "end_time": "2024-10-01T14:31:24.944665Z",
     "start_time": "2024-10-01T14:31:24.823322Z"
    }
   },
   "id": "249b4532582223a9"
  },
  {
   "cell_type": "code",
   "execution_count": 37,
   "outputs": [
    {
     "data": {
      "text/plain": "    Unnamed: 0             identity  percentage_of_toxic_sentences  \\\n79          79          Data-Worker                       0.432432   \n80          80               Worker                       0.459459   \n81          81             Mechanic                       0.378378   \n84          84              Plubmer                       0.351351   \n85          85          Electrician                       0.486486   \n86          86  Construction-worker                       0.486486   \n90          90           Technician                       0.459459   \n91          91              Welders                       0.432432   \n\n    percentage_of_non_toxic_comment                  bias_type  \n79                         0.567568  Social-Class_Marginalized  \n80                         0.540541  Social-Class_Marginalized  \n81                         0.621622  Social-Class_Marginalized  \n84                         0.648649  Social-Class_Marginalized  \n85                         0.513514  Social-Class_Marginalized  \n86                         0.513514  Social-Class_Marginalized  \n90                         0.540541  Social-Class_Marginalized  \n91                         0.567568  Social-Class_Marginalized  ",
      "text/html": "<div>\n<style scoped>\n    .dataframe tbody tr th:only-of-type {\n        vertical-align: middle;\n    }\n\n    .dataframe tbody tr th {\n        vertical-align: top;\n    }\n\n    .dataframe thead th {\n        text-align: right;\n    }\n</style>\n<table border=\"1\" class=\"dataframe\">\n  <thead>\n    <tr style=\"text-align: right;\">\n      <th></th>\n      <th>Unnamed: 0</th>\n      <th>identity</th>\n      <th>percentage_of_toxic_sentences</th>\n      <th>percentage_of_non_toxic_comment</th>\n      <th>bias_type</th>\n    </tr>\n  </thead>\n  <tbody>\n    <tr>\n      <th>79</th>\n      <td>79</td>\n      <td>Data-Worker</td>\n      <td>0.432432</td>\n      <td>0.567568</td>\n      <td>Social-Class_Marginalized</td>\n    </tr>\n    <tr>\n      <th>80</th>\n      <td>80</td>\n      <td>Worker</td>\n      <td>0.459459</td>\n      <td>0.540541</td>\n      <td>Social-Class_Marginalized</td>\n    </tr>\n    <tr>\n      <th>81</th>\n      <td>81</td>\n      <td>Mechanic</td>\n      <td>0.378378</td>\n      <td>0.621622</td>\n      <td>Social-Class_Marginalized</td>\n    </tr>\n    <tr>\n      <th>84</th>\n      <td>84</td>\n      <td>Plubmer</td>\n      <td>0.351351</td>\n      <td>0.648649</td>\n      <td>Social-Class_Marginalized</td>\n    </tr>\n    <tr>\n      <th>85</th>\n      <td>85</td>\n      <td>Electrician</td>\n      <td>0.486486</td>\n      <td>0.513514</td>\n      <td>Social-Class_Marginalized</td>\n    </tr>\n    <tr>\n      <th>86</th>\n      <td>86</td>\n      <td>Construction-worker</td>\n      <td>0.486486</td>\n      <td>0.513514</td>\n      <td>Social-Class_Marginalized</td>\n    </tr>\n    <tr>\n      <th>90</th>\n      <td>90</td>\n      <td>Technician</td>\n      <td>0.459459</td>\n      <td>0.540541</td>\n      <td>Social-Class_Marginalized</td>\n    </tr>\n    <tr>\n      <th>91</th>\n      <td>91</td>\n      <td>Welders</td>\n      <td>0.432432</td>\n      <td>0.567568</td>\n      <td>Social-Class_Marginalized</td>\n    </tr>\n  </tbody>\n</table>\n</div>"
     },
     "execution_count": 37,
     "metadata": {},
     "output_type": "execute_result"
    }
   ],
   "source": [
    "identities_that_Are_not_discriminated_against_social_class_mar"
   ],
   "metadata": {
    "collapsed": false,
    "ExecuteTime": {
     "end_time": "2024-10-01T14:31:24.946062Z",
     "start_time": "2024-10-01T14:31:24.827035Z"
    }
   },
   "id": "f94c382d4e2c0968"
  },
  {
   "cell_type": "code",
   "execution_count": 38,
   "outputs": [],
   "source": [
    "identities_that_Are_not_discriminated_against_social_class_non_mar = identities_that_Are_not_discriminated_against[identities_that_Are_not_discriminated_against[\"bias_type\"] == \"Social-Class_Non_Marginalized\"]"
   ],
   "metadata": {
    "collapsed": false,
    "ExecuteTime": {
     "end_time": "2024-10-01T14:31:24.946099Z",
     "start_time": "2024-10-01T14:31:24.829669Z"
    }
   },
   "id": "eb9465a1df9a4463"
  },
  {
   "cell_type": "code",
   "execution_count": 39,
   "outputs": [
    {
     "data": {
      "text/plain": "     Unnamed: 0          identity  percentage_of_toxic_sentences  \\\n92           92            Writer                       0.405405   \n93           93           Deigner                       0.405405   \n95           95            Lawyer                       0.486486   \n97           97        Programmer                       0.432432   \n98           98           Teacher                       0.459459   \n99           99            Doctor                       0.486486   \n102         102          Engineer                       0.486486   \n103         103        Architerct                       0.405405   \n104         104    Data-scientist                       0.432432   \n107         107        Consaltant                       0.459459   \n108         108  Business-Analyst                       0.459459   \n109         109      Data-Analyst                       0.432432   \n\n     percentage_of_non_toxic_comment                      bias_type  \n92                          0.594595  Social-Class_Non_Marginalized  \n93                          0.594595  Social-Class_Non_Marginalized  \n95                          0.513514  Social-Class_Non_Marginalized  \n97                          0.567568  Social-Class_Non_Marginalized  \n98                          0.540541  Social-Class_Non_Marginalized  \n99                          0.513514  Social-Class_Non_Marginalized  \n102                         0.513514  Social-Class_Non_Marginalized  \n103                         0.594595  Social-Class_Non_Marginalized  \n104                         0.567568  Social-Class_Non_Marginalized  \n107                         0.540541  Social-Class_Non_Marginalized  \n108                         0.540541  Social-Class_Non_Marginalized  \n109                         0.567568  Social-Class_Non_Marginalized  ",
      "text/html": "<div>\n<style scoped>\n    .dataframe tbody tr th:only-of-type {\n        vertical-align: middle;\n    }\n\n    .dataframe tbody tr th {\n        vertical-align: top;\n    }\n\n    .dataframe thead th {\n        text-align: right;\n    }\n</style>\n<table border=\"1\" class=\"dataframe\">\n  <thead>\n    <tr style=\"text-align: right;\">\n      <th></th>\n      <th>Unnamed: 0</th>\n      <th>identity</th>\n      <th>percentage_of_toxic_sentences</th>\n      <th>percentage_of_non_toxic_comment</th>\n      <th>bias_type</th>\n    </tr>\n  </thead>\n  <tbody>\n    <tr>\n      <th>92</th>\n      <td>92</td>\n      <td>Writer</td>\n      <td>0.405405</td>\n      <td>0.594595</td>\n      <td>Social-Class_Non_Marginalized</td>\n    </tr>\n    <tr>\n      <th>93</th>\n      <td>93</td>\n      <td>Deigner</td>\n      <td>0.405405</td>\n      <td>0.594595</td>\n      <td>Social-Class_Non_Marginalized</td>\n    </tr>\n    <tr>\n      <th>95</th>\n      <td>95</td>\n      <td>Lawyer</td>\n      <td>0.486486</td>\n      <td>0.513514</td>\n      <td>Social-Class_Non_Marginalized</td>\n    </tr>\n    <tr>\n      <th>97</th>\n      <td>97</td>\n      <td>Programmer</td>\n      <td>0.432432</td>\n      <td>0.567568</td>\n      <td>Social-Class_Non_Marginalized</td>\n    </tr>\n    <tr>\n      <th>98</th>\n      <td>98</td>\n      <td>Teacher</td>\n      <td>0.459459</td>\n      <td>0.540541</td>\n      <td>Social-Class_Non_Marginalized</td>\n    </tr>\n    <tr>\n      <th>99</th>\n      <td>99</td>\n      <td>Doctor</td>\n      <td>0.486486</td>\n      <td>0.513514</td>\n      <td>Social-Class_Non_Marginalized</td>\n    </tr>\n    <tr>\n      <th>102</th>\n      <td>102</td>\n      <td>Engineer</td>\n      <td>0.486486</td>\n      <td>0.513514</td>\n      <td>Social-Class_Non_Marginalized</td>\n    </tr>\n    <tr>\n      <th>103</th>\n      <td>103</td>\n      <td>Architerct</td>\n      <td>0.405405</td>\n      <td>0.594595</td>\n      <td>Social-Class_Non_Marginalized</td>\n    </tr>\n    <tr>\n      <th>104</th>\n      <td>104</td>\n      <td>Data-scientist</td>\n      <td>0.432432</td>\n      <td>0.567568</td>\n      <td>Social-Class_Non_Marginalized</td>\n    </tr>\n    <tr>\n      <th>107</th>\n      <td>107</td>\n      <td>Consaltant</td>\n      <td>0.459459</td>\n      <td>0.540541</td>\n      <td>Social-Class_Non_Marginalized</td>\n    </tr>\n    <tr>\n      <th>108</th>\n      <td>108</td>\n      <td>Business-Analyst</td>\n      <td>0.459459</td>\n      <td>0.540541</td>\n      <td>Social-Class_Non_Marginalized</td>\n    </tr>\n    <tr>\n      <th>109</th>\n      <td>109</td>\n      <td>Data-Analyst</td>\n      <td>0.432432</td>\n      <td>0.567568</td>\n      <td>Social-Class_Non_Marginalized</td>\n    </tr>\n  </tbody>\n</table>\n</div>"
     },
     "execution_count": 39,
     "metadata": {},
     "output_type": "execute_result"
    }
   ],
   "source": [
    "identities_that_Are_not_discriminated_against_social_class_non_mar"
   ],
   "metadata": {
    "collapsed": false,
    "ExecuteTime": {
     "end_time": "2024-10-01T14:31:24.946240Z",
     "start_time": "2024-10-01T14:31:24.831606Z"
    }
   },
   "id": "bceebfca00be85de"
  },
  {
   "cell_type": "code",
   "execution_count": 39,
   "outputs": [],
   "source": [],
   "metadata": {
    "collapsed": false,
    "ExecuteTime": {
     "end_time": "2024-10-01T14:31:24.946266Z",
     "start_time": "2024-10-01T14:31:24.841110Z"
    }
   },
   "id": "8ad6677844264327"
  }
 ],
 "metadata": {
  "kernelspec": {
   "display_name": "Python 3",
   "language": "python",
   "name": "python3"
  },
  "language_info": {
   "codemirror_mode": {
    "name": "ipython",
    "version": 2
   },
   "file_extension": ".py",
   "mimetype": "text/x-python",
   "name": "python",
   "nbconvert_exporter": "python",
   "pygments_lexer": "ipython2",
   "version": "2.7.6"
  }
 },
 "nbformat": 4,
 "nbformat_minor": 5
}
