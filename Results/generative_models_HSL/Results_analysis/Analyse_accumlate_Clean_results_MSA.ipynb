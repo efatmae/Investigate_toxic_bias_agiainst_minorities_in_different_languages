{
 "cells": [
  {
   "cell_type": "code",
   "execution_count": 26,
   "outputs": [],
   "source": [
    "import pandas as pd\n",
    "import numpy as np\n",
    "from sklearn.metrics import roc_auc_score\n",
    "import glob"
   ],
   "metadata": {
    "collapsed": false,
    "ExecuteTime": {
     "end_time": "2024-12-05T16:13:58.373092Z",
     "start_time": "2024-12-05T16:13:58.305573Z"
    }
   },
   "id": "298eff40607e5bef"
  },
  {
   "cell_type": "code",
   "execution_count": 27,
   "outputs": [],
   "source": [
    "def analyse_and_filter_hallucination (df):\n",
    "    F1_score = 0\n",
    "    rectified_F1_score = 0\n",
    "    \n",
    "    df = pd.read_csv(df)\n",
    "    hallucinated_data = df[df[\"actual_model_prediction\"] == -1]\n",
    "    no_hallucination = len(hallucinated_data)\n",
    "    clean_data = df[df[\"actual_model_prediction\"] != -1]\n",
    "\n",
    "    if len(clean_data) > 0:\n",
    "        print(len(clean_data))\n",
    "        try:\n",
    "            F1_score = roc_auc_score(clean_data[\"Toxicity_label\"], clean_data[\"actual_model_prediction\"])\n",
    "        except ValueError:\n",
    "            print(\"Small number of clean data and one label is prenset in the y_true\")\n",
    "            F1_score = 0\n",
    "        \n",
    "        rectified_F1_score = (1-(no_hallucination/len(df))) * F1_score\n",
    "    return len(df), no_hallucination, F1_score, rectified_F1_score"
   ],
   "metadata": {
    "collapsed": false,
    "ExecuteTime": {
     "end_time": "2024-12-05T16:13:58.392768Z",
     "start_time": "2024-12-05T16:13:58.311806Z"
    }
   },
   "id": "66cfc0bae37dcd2c"
  },
  {
   "cell_type": "code",
   "execution_count": 28,
   "outputs": [],
   "source": [
    "def collect_results (clean_IFM_results,Language_folder,model_name, langauge):\n",
    "    model_names = []\n",
    "    data_gender = []\n",
    "    data_lang = []\n",
    "    instructions_langs = []\n",
    "    dataset_sizes = []\n",
    "    no_hallucinations = []\n",
    "    F1_scores = []\n",
    "    rectified_F1_scors = []\n",
    "    path = clean_IFM_results+Language_folder+model_name+\"/*.csv\"\n",
    "    for fname in glob.glob(path):\n",
    "        print(fname)\n",
    "        file_name = fname.split(\"/\")[-1]\n",
    "        data_gender_name = file_name.split(\"_\")[0]\n",
    "        model_name = file_name.split(\"_\")[3]\n",
    "        instructions_lang = file_name.split(\"_\")[4]\n",
    "        \n",
    "        df_size, no_hallucination, F1_score, rectified_F1_score = analyse_and_filter_hallucination(fname)\n",
    "        \n",
    "        model_names.append(model_name)\n",
    "        data_gender.append(data_gender_name)\n",
    "        data_lang.append(langauge)\n",
    "        instructions_langs.append(instructions_lang)\n",
    "        dataset_sizes.append(df_size)\n",
    "        no_hallucinations.append(no_hallucination)\n",
    "        F1_scores.append(F1_score)\n",
    "        rectified_F1_scors.append(rectified_F1_score)\n",
    "        \n",
    "        data_summary = pd.DataFrame({\"Model_Name\": model_names,\n",
    "                                     \"Gender\":data_gender,\n",
    "                                     \"Language\": data_lang,\n",
    "                                     \"Instructions_languation\": instructions_langs,\n",
    "                                     \"dataset_size\": dataset_sizes,\n",
    "                                     \"No_Hallucination\": no_hallucinations,\n",
    "                                     \"F1_scores\": F1_scores,\n",
    "                                     \"Rectified_F1_scors\": rectified_F1_scors})\n",
    "    return data_summary\n",
    "        "
   ],
   "metadata": {
    "collapsed": false,
    "ExecuteTime": {
     "end_time": "2024-12-05T16:13:58.418361Z",
     "start_time": "2024-12-05T16:13:58.317934Z"
    }
   },
   "id": "c436ce0e2900c473"
  },
  {
   "cell_type": "code",
   "execution_count": 29,
   "id": "initial_id",
   "metadata": {
    "collapsed": true,
    "ExecuteTime": {
     "end_time": "2024-12-05T16:13:58.418840Z",
     "start_time": "2024-12-05T16:13:58.321010Z"
    }
   },
   "outputs": [],
   "source": [
    "clean_IFM_results = \"../IFM_results_cleaning/\""
   ]
  },
  {
   "cell_type": "code",
   "execution_count": 30,
   "outputs": [],
   "source": [
    "Language_folder = \"Arabic/MSA/Clean_results/\"\n",
    "data_language = \"Arabic\""
   ],
   "metadata": {
    "collapsed": false,
    "ExecuteTime": {
     "end_time": "2024-12-05T16:13:58.418893Z",
     "start_time": "2024-12-05T16:13:58.324972Z"
    }
   },
   "id": "2d200b14cf498afc"
  },
  {
   "cell_type": "markdown",
   "source": [
    "## AceGPT"
   ],
   "metadata": {
    "collapsed": false
   },
   "id": "92c86ba9387338f4"
  },
  {
   "cell_type": "code",
   "execution_count": 31,
   "outputs": [
    {
     "name": "stdout",
     "output_type": "stream",
     "text": [
      "../IFM_results_cleaning/Arabic/MSA/Clean_results/AceGPT/Female_IFM_HSD_AceGPT_english_instructions.csv\n",
      "../IFM_results_cleaning/Arabic/MSA/Clean_results/AceGPT/Male_IFM_HSD_AceGPT_english_instructions.csv\n",
      "../IFM_results_cleaning/Arabic/MSA/Clean_results/AceGPT/NB_IFM_HSD_AceGPT_english_instructions.csv\n",
      "../IFM_results_cleaning/Arabic/MSA/Clean_results/AceGPT/NB_IFM_HSD_AceGPT_arabic_instructions.csv\n",
      "859\n",
      "../IFM_results_cleaning/Arabic/MSA/Clean_results/AceGPT/Female_IFM_HSD_AceGPT_arabic_instructions.csv\n",
      "2216\n",
      "../IFM_results_cleaning/Arabic/MSA/Clean_results/AceGPT/Male_IFM_HSD_AceGPT_arabic_instructions.csv\n",
      "737\n"
     ]
    }
   ],
   "source": [
    "Model_name = \"AceGPT\"\n",
    "collect_results_AceGPT = collect_results(clean_IFM_results,Language_folder, Model_name, data_language)\n",
    "collect_results_AceGPT.to_csv(clean_IFM_results+Language_folder+Model_name+\"/results_summary.csv\", index=False)"
   ],
   "metadata": {
    "collapsed": false,
    "ExecuteTime": {
     "end_time": "2024-12-05T16:13:58.458962Z",
     "start_time": "2024-12-05T16:13:58.328044Z"
    }
   },
   "id": "a90bda8d6691d8d5"
  },
  {
   "cell_type": "markdown",
   "source": [
    "## Jais"
   ],
   "metadata": {
    "collapsed": false
   },
   "id": "ab364782592605ab"
  },
  {
   "cell_type": "code",
   "execution_count": 32,
   "outputs": [
    {
     "name": "stdout",
     "output_type": "stream",
     "text": [
      "../IFM_results_cleaning/Arabic/MSA/Clean_results/Jais/Male_IFM_HSD_Jais_arabic_instructions.csv\n",
      "3154\n",
      "../IFM_results_cleaning/Arabic/MSA/Clean_results/Jais/Female_IFM_HSD_Jais_arabic_instructions.csv\n",
      "3303\n",
      "../IFM_results_cleaning/Arabic/MSA/Clean_results/Jais/NB_IFM_HSD_Jais_arabic_instructions.csv\n",
      "3102\n",
      "../IFM_results_cleaning/Arabic/MSA/Clean_results/Jais/Female_IFM_HSD_Jais_english_instructions.csv\n",
      "9\n",
      "Small number of clean data and one label is prenset in the y_true\n",
      "../IFM_results_cleaning/Arabic/MSA/Clean_results/Jais/NB_IFM_HSD_Jais_english_instructions.csv\n",
      "10\n",
      "../IFM_results_cleaning/Arabic/MSA/Clean_results/Jais/Male_IFM_HSD_Jais_english_instructions.csv\n",
      "19\n",
      "Small number of clean data and one label is prenset in the y_true\n"
     ]
    }
   ],
   "source": [
    "Model_name = \"Jais\"\n",
    "collect_results_jais = collect_results(clean_IFM_results,Language_folder, Model_name, data_language)\n",
    "collect_results_jais.to_csv(clean_IFM_results+Language_folder+Model_name+\"/results_summary.csv\", index=False)"
   ],
   "metadata": {
    "collapsed": false,
    "ExecuteTime": {
     "end_time": "2024-12-05T16:13:58.577793Z",
     "start_time": "2024-12-05T16:13:58.456570Z"
    }
   },
   "id": "127079ff9c76a217"
  },
  {
   "cell_type": "markdown",
   "source": [
    "## Aya"
   ],
   "metadata": {
    "collapsed": false
   },
   "id": "df72e30b11c1a396"
  },
  {
   "cell_type": "code",
   "execution_count": 33,
   "outputs": [
    {
     "name": "stdout",
     "output_type": "stream",
     "text": [
      "../IFM_results_cleaning/Arabic/MSA/Clean_results/Aya/NB_IFM_HSD_Aya_arabic_instructions.csv\n",
      "21\n",
      "../IFM_results_cleaning/Arabic/MSA/Clean_results/Aya/Male_IFM_HSD_Aya_english_instructions.csv\n",
      "1643\n",
      "../IFM_results_cleaning/Arabic/MSA/Clean_results/Aya/Female_IFM_HSD_Aya_arabic_instructions.csv\n",
      "3\n",
      "../IFM_results_cleaning/Arabic/MSA/Clean_results/Aya/Male_IFM_HSD_Aya_arabic_instructions.csv\n",
      "47\n",
      "../IFM_results_cleaning/Arabic/MSA/Clean_results/Aya/Female_IFM_HSD_Aya_english_instructions.csv\n",
      "2576\n",
      "../IFM_results_cleaning/Arabic/MSA/Clean_results/Aya/NB_IFM_HSD_Aya_english_instructions.csv\n",
      "1804\n"
     ]
    }
   ],
   "source": [
    "Model_name = \"Aya\"\n",
    "collect_results_aya = collect_results(clean_IFM_results,Language_folder, Model_name, data_language)\n",
    "collect_results_aya.to_csv(clean_IFM_results+Language_folder+Model_name+\"/results_summary.csv\", index=False)"
   ],
   "metadata": {
    "collapsed": false,
    "ExecuteTime": {
     "end_time": "2024-12-05T16:13:58.709243Z",
     "start_time": "2024-12-05T16:13:58.578414Z"
    }
   },
   "id": "f6121dcf196ff4db"
  },
  {
   "cell_type": "markdown",
   "source": [
    "## Bloomz"
   ],
   "metadata": {
    "collapsed": false
   },
   "id": "938703d686f7bbad"
  },
  {
   "cell_type": "code",
   "execution_count": 34,
   "outputs": [
    {
     "name": "stdout",
     "output_type": "stream",
     "text": [
      "../IFM_results_cleaning/Arabic/MSA/Clean_results/Bloomz/Female_IFM_HSD_Bloomz_arabic_instructions.csv\n",
      "4200\n",
      "../IFM_results_cleaning/Arabic/MSA/Clean_results/Bloomz/Male_IFM_HSD_Bloomz_arabic_instructions.csv\n",
      "4480\n",
      "../IFM_results_cleaning/Arabic/MSA/Clean_results/Bloomz/Female_IFM_HSD_Bloomz_english_instructions.csv\n",
      "4200\n",
      "../IFM_results_cleaning/Arabic/MSA/Clean_results/Bloomz/Male_IFM_HSD_Bloomz_english_instructions.csv\n",
      "4480\n",
      "../IFM_results_cleaning/Arabic/MSA/Clean_results/Bloomz/NB_IFM_HSD_Bloomz_english_instructions.csv\n",
      "4480\n",
      "../IFM_results_cleaning/Arabic/MSA/Clean_results/Bloomz/NB_IFM_HSD_Bloomz_arabic_instructions.csv\n",
      "4480\n"
     ]
    }
   ],
   "source": [
    "Model_name = \"Bloomz\"\n",
    "collect_results_bloomz = collect_results(clean_IFM_results,Language_folder, Model_name, data_language)\n",
    "collect_results_bloomz.to_csv(clean_IFM_results+Language_folder+Model_name+\"/results_summary.csv\", index=False)"
   ],
   "metadata": {
    "collapsed": false,
    "ExecuteTime": {
     "end_time": "2024-12-05T16:13:58.825176Z",
     "start_time": "2024-12-05T16:13:58.707898Z"
    }
   },
   "id": "6618c1adfc3ddbfe"
  },
  {
   "cell_type": "markdown",
   "source": [
    "## Flan-T5"
   ],
   "metadata": {
    "collapsed": false
   },
   "id": "c64583dd31576479"
  },
  {
   "cell_type": "code",
   "execution_count": 35,
   "outputs": [
    {
     "name": "stdout",
     "output_type": "stream",
     "text": [
      "../IFM_results_cleaning/Arabic/MSA/Clean_results/Flan-T5/Female_IFM_HSD_Flan-T5_arabic_instructions.csv\n",
      "../IFM_results_cleaning/Arabic/MSA/Clean_results/Flan-T5/Male_IFM_HSD_Flan-T5_arabic_instructions.csv\n",
      "../IFM_results_cleaning/Arabic/MSA/Clean_results/Flan-T5/NB_IFM_HSD_Flan-T5_english_instructions.csv\n",
      "4480\n",
      "../IFM_results_cleaning/Arabic/MSA/Clean_results/Flan-T5/Female_IFM_HSD_Flan-T5_english_instructions.csv\n",
      "4480\n",
      "../IFM_results_cleaning/Arabic/MSA/Clean_results/Flan-T5/NB_IFM_HSD_Flan-T5_arabic_instructions.csv\n",
      "../IFM_results_cleaning/Arabic/MSA/Clean_results/Flan-T5/Male_IFM_HSD_Flan-T5_english_instructions.csv\n",
      "4480\n"
     ]
    }
   ],
   "source": [
    "Model_name = \"Flan-T5\"\n",
    "collect_results_Flan_T5 = collect_results(clean_IFM_results,Language_folder, Model_name, data_language)\n",
    "collect_results_Flan_T5.to_csv(clean_IFM_results+Language_folder+Model_name+\"/results_summary.csv\", index=False)"
   ],
   "metadata": {
    "collapsed": false,
    "ExecuteTime": {
     "end_time": "2024-12-05T16:13:58.879981Z",
     "start_time": "2024-12-05T16:13:58.823758Z"
    }
   },
   "id": "dd585c25db571ac8"
  },
  {
   "cell_type": "markdown",
   "source": [
    "## InstructLLAMA"
   ],
   "metadata": {
    "collapsed": false
   },
   "id": "eb9b51e8587f5bb5"
  },
  {
   "cell_type": "code",
   "execution_count": 36,
   "outputs": [
    {
     "name": "stdout",
     "output_type": "stream",
     "text": [
      "../IFM_results_cleaning/Arabic/MSA/Clean_results/InstructLLAMA/NB_IFM_HSD_InstructLLAMA_english_instructions.csv\n",
      "2660\n",
      "../IFM_results_cleaning/Arabic/MSA/Clean_results/InstructLLAMA/Male_IFM_HSD_InstructLLAMA_arabic_instructions.csv\n",
      "2444\n",
      "../IFM_results_cleaning/Arabic/MSA/Clean_results/InstructLLAMA/Female_IFM_HSD_InstructLLAMA_arabic_instructions.csv\n",
      "2191\n",
      "../IFM_results_cleaning/Arabic/MSA/Clean_results/InstructLLAMA/Female_IFM_HSD_InstructLLAMA_english_instructions.csv\n",
      "2663\n",
      "../IFM_results_cleaning/Arabic/MSA/Clean_results/InstructLLAMA/Male_IFM_HSD_InstructLLAMA_english_instructions.csv\n",
      "2726\n",
      "../IFM_results_cleaning/Arabic/MSA/Clean_results/InstructLLAMA/NB_IFM_HSD_InstructLLAMA_arabic_instructions.csv\n",
      "2526\n"
     ]
    }
   ],
   "source": [
    "Model_name = \"InstructLLAMA\"\n",
    "collect_results_lama = collect_results(clean_IFM_results,Language_folder, Model_name, data_language)\n",
    "collect_results_lama.to_csv(clean_IFM_results+Language_folder+Model_name+\"/results_summary.csv\", index=False)"
   ],
   "metadata": {
    "collapsed": false,
    "ExecuteTime": {
     "end_time": "2024-12-05T16:13:59.006510Z",
     "start_time": "2024-12-05T16:13:58.878808Z"
    }
   },
   "id": "6949833bffd80251"
  },
  {
   "cell_type": "markdown",
   "source": [
    "## InstructMistral"
   ],
   "metadata": {
    "collapsed": false
   },
   "id": "fd7263ac97d21586"
  },
  {
   "cell_type": "code",
   "execution_count": 37,
   "outputs": [
    {
     "name": "stdout",
     "output_type": "stream",
     "text": [
      "../IFM_results_cleaning/Arabic/MSA/Clean_results/InstructMistral/NB_IFM_HSD_InstructMistral_english_instructions.csv\n",
      "../IFM_results_cleaning/Arabic/MSA/Clean_results/InstructMistral/Female_IFM_HSD_InstructMistral_arabic_instructions.csv\n",
      "4480\n",
      "../IFM_results_cleaning/Arabic/MSA/Clean_results/InstructMistral/NB_IFM_HSD_InstructMistral_arabic_instructions.csv\n",
      "4480\n",
      "../IFM_results_cleaning/Arabic/MSA/Clean_results/InstructMistral/Female_IFM_HSD_InstructMistral_english_instructions.csv\n",
      "../IFM_results_cleaning/Arabic/MSA/Clean_results/InstructMistral/Male_IFM_HSD_InstructMistral_arabic_instructions.csv\n",
      "4479\n",
      "../IFM_results_cleaning/Arabic/MSA/Clean_results/InstructMistral/Male_IFM_HSD_InstructMistral_english_instructions.csv\n"
     ]
    }
   ],
   "source": [
    "Model_name = \"InstructMistral\"\n",
    "collect_results_mistral = collect_results(clean_IFM_results,Language_folder, Model_name, data_language)\n",
    "collect_results_mistral.to_csv(clean_IFM_results+Language_folder+Model_name+\"/results_summary.csv\", index=False)"
   ],
   "metadata": {
    "collapsed": false,
    "ExecuteTime": {
     "end_time": "2024-12-05T16:13:59.131392Z",
     "start_time": "2024-12-05T16:13:59.007236Z"
    }
   },
   "id": "eff72acaa12c1bb6"
  },
  {
   "cell_type": "markdown",
   "source": [
    "## MT0"
   ],
   "metadata": {
    "collapsed": false
   },
   "id": "d94b50e28fe35c6a"
  },
  {
   "cell_type": "code",
   "execution_count": 38,
   "outputs": [
    {
     "name": "stdout",
     "output_type": "stream",
     "text": [
      "../IFM_results_cleaning/Arabic/MSA/Clean_results/MT0/Male_IFM_HSD_MT0_english_instructions.csv\n",
      "4480\n",
      "../IFM_results_cleaning/Arabic/MSA/Clean_results/MT0/NB_IFM_HSD_MT0_arabic_instructions.csv\n",
      "4431\n",
      "../IFM_results_cleaning/Arabic/MSA/Clean_results/MT0/Female_IFM_HSD_MT0_arabic_instructions.csv\n",
      "4454\n",
      "../IFM_results_cleaning/Arabic/MSA/Clean_results/MT0/Female_IFM_HSD_MT0_english_instructions.csv\n",
      "4480\n",
      "../IFM_results_cleaning/Arabic/MSA/Clean_results/MT0/NB_IFM_HSD_MT0_english_instructions.csv\n",
      "4480\n",
      "../IFM_results_cleaning/Arabic/MSA/Clean_results/MT0/Male_IFM_HSD_MT0_arabic_instructions.csv\n",
      "4445\n"
     ]
    }
   ],
   "source": [
    "Model_name = \"MT0\"\n",
    "collect_results_MT0 = collect_results(clean_IFM_results,Language_folder, Model_name, data_language)\n",
    "collect_results_MT0.to_csv(clean_IFM_results+Language_folder+Model_name+\"/results_summary.csv\", index=False)"
   ],
   "metadata": {
    "collapsed": false,
    "ExecuteTime": {
     "end_time": "2024-12-05T16:13:59.209511Z",
     "start_time": "2024-12-05T16:13:59.131646Z"
    }
   },
   "id": "7216656d0f7d6667"
  },
  {
   "cell_type": "code",
   "execution_count": 38,
   "outputs": [],
   "source": [],
   "metadata": {
    "collapsed": false,
    "ExecuteTime": {
     "end_time": "2024-12-05T16:13:59.209612Z",
     "start_time": "2024-12-05T16:13:59.195222Z"
    }
   },
   "id": "1e7c284dac2e642d"
  },
  {
   "cell_type": "code",
   "execution_count": 38,
   "outputs": [],
   "source": [],
   "metadata": {
    "collapsed": false,
    "ExecuteTime": {
     "end_time": "2024-12-05T16:13:59.209642Z",
     "start_time": "2024-12-05T16:13:59.196869Z"
    }
   },
   "id": "d51f1cb5b0bd9e9f"
  }
 ],
 "metadata": {
  "kernelspec": {
   "display_name": "Python 3",
   "language": "python",
   "name": "python3"
  },
  "language_info": {
   "codemirror_mode": {
    "name": "ipython",
    "version": 2
   },
   "file_extension": ".py",
   "mimetype": "text/x-python",
   "name": "python",
   "nbconvert_exporter": "python",
   "pygments_lexer": "ipython2",
   "version": "2.7.6"
  }
 },
 "nbformat": 4,
 "nbformat_minor": 5
}
