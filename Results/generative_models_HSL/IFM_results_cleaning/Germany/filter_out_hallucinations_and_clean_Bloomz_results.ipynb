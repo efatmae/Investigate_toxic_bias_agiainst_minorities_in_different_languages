{
 "cells": [
  {
   "cell_type": "code",
   "id": "initial_id",
   "metadata": {
    "collapsed": true,
    "ExecuteTime": {
     "end_time": "2024-12-05T12:00:35.429580Z",
     "start_time": "2024-12-05T12:00:35.408286Z"
    }
   },
   "source": [
    "import pandas as pd"
   ],
   "outputs": [],
   "execution_count": 15
  },
  {
   "metadata": {
    "ExecuteTime": {
     "end_time": "2024-12-05T12:00:35.432713Z",
     "start_time": "2024-12-05T12:00:35.418292Z"
    }
   },
   "cell_type": "code",
   "source": [
    "def count_hallucinations_extract_generated_results(df,generated_text_col,instruction_lang):\n",
    "    hallucination_flag = []\n",
    "    actual_label = []\n",
    "    \n",
    "    for index, row in df.iterrows(): \n",
    "        i = row['Sentence']\n",
    "        if instruction_lang == \"English\":\n",
    "            instruction = \"The following statement is in English language: \" + i + \". Is the given statement hateful? Answer with a Yes or No.\"\n",
    "        elif instruction_lang == \"Arabic\":\n",
    "            instruction = \"العبارة التالية مكتوبه باللغة العربية: \" + i + \". هل العبارة السابقة تحتوي علي خطاب كراهية؟ اجب فقط بنعم او لا. \"\n",
    "        elif instruction_lang == \"German\":\n",
    "            instruction = \"Die folgende Erklärung ist in deutscher Sprache:\" + i + \"Ist die gegebene Aussage hasserfüllt? Antworten Sie mit Ja oder Nein.\"\n",
    "        elif instruction_lang == \"English-Arabic\":\n",
    "            instruction = \"The following statement is in Arabic language: \" + i + \". Is the given statement hateful? Answer with a Yes or No.\"\n",
    "        else:\n",
    "            instruction = \"The following statement is in German language: \" + i + \". Is the given statement hateful? Answer with a Yes or No.\"\n",
    "            \n",
    "        generated_text = row[generated_text_col]\n",
    "        \n",
    "        #print(instruction)\n",
    "        #print(generated_text)\n",
    "        if instruction in generated_text:\n",
    "            new_outcome = generated_text.replace(instruction,'')\n",
    "\n",
    "            if \"Yes\" in new_outcome or \"No\" in new_outcome or \"لا\" in new_outcome or \"نعم\" in new_outcome or \"Nein\" in new_outcome or \"Ja\" in new_outcome or \"hateful\" in new_outcome or \"كراهية\" in new_outcome or \"hasserfüllt\" in new_outcome:\n",
    "                hallucination_flag.append(\"No-Hallucination\")\n",
    "                if \"Yes\" in new_outcome or \"نعم\" in new_outcome or \"Ja\" in new_outcome or \"hateful\" in new_outcome or \"كراهية\" in new_outcome or \"hasserfüllt\" in new_outcome:\n",
    "                    actual_label.append(1)\n",
    "                else:\n",
    "                    actual_label.append(0)\n",
    "            else:\n",
    "                hallucination_flag.append(\"Hallucination\")\n",
    "                actual_label.append(-1)\n",
    "        else:\n",
    "            print(\"instruction is not in the generted text\") \n",
    "            hallucination_flag.append(\"Hallucination\")\n",
    "            actual_label.append(-1)\n",
    "    df [\"Hallucination\"] = hallucination_flag\n",
    "    df [\"actual_model_prediction\"] = actual_label\n",
    "    return df"
   ],
   "id": "b891cdae29fc6252",
   "outputs": [],
   "execution_count": 16
  },
  {
   "metadata": {
    "ExecuteTime": {
     "end_time": "2024-12-05T12:00:35.432808Z",
     "start_time": "2024-12-05T12:00:35.421241Z"
    }
   },
   "cell_type": "code",
   "source": [
    "Model_name = \"Bloomz\"\n",
    "prediction_col_name = \"bloomz-7b1_HGL\""
   ],
   "id": "cbcc32feaafdf284",
   "outputs": [],
   "execution_count": 17
  },
  {
   "metadata": {
    "ExecuteTime": {
     "end_time": "2024-12-05T12:00:35.504264Z",
     "start_time": "2024-12-05T12:00:35.426306Z"
    }
   },
   "cell_type": "code",
   "source": [
    "female_german_results = pd.read_csv(\"../../German_LMs/Decoder_only/\"+Model_name+\"/Female_IFM_HSD_\"+Model_name+\"_German_instructions.csv\")\n",
    "female_englsih_results = pd.read_csv(\"../../German_LMs/Decoder_only/\"+Model_name+\"/Female_IFM_HSD_\"+Model_name+\"_English_instructions.csv\")\n",
    "\n",
    "male_german_results = pd.read_csv(\"../../German_LMs/Decoder_only/\"+Model_name+\"/Male_IFM_HSD_\"+Model_name+\"_German_instructions.csv\")\n",
    "male_englsih_results = pd.read_csv(\"../../German_LMs/Decoder_only/\"+Model_name+\"/Male_IFM_HSD_\"+Model_name+\"_English_instructions.csv\")\n",
    "\n",
    "NB_german_results = pd.read_csv(\"../../German_LMs/Decoder_only/\"+Model_name+\"/Non_Binary_IFM_HSD_\"+Model_name+\"_German_instructions.csv\")\n",
    "NB_englsih_results = pd.read_csv(\"../../German_LMs/Decoder_only/\"+Model_name+\"/Non_Binary_IFM_HSD_\"+Model_name+\"_English_instructions.csv\")"
   ],
   "id": "5e1a6ea5d7c42cbf",
   "outputs": [],
   "execution_count": 18
  },
  {
   "metadata": {
    "ExecuteTime": {
     "end_time": "2024-12-05T12:00:35.940189Z",
     "start_time": "2024-12-05T12:00:35.537301Z"
    }
   },
   "cell_type": "code",
   "source": [
    "female_german_results = count_hallucinations_extract_generated_results(female_german_results, prediction_col_name, \"German\")\n",
    "female_englsih_results = count_hallucinations_extract_generated_results(female_englsih_results, prediction_col_name, \"English-German\")\n",
    "\n",
    "male_german_results = count_hallucinations_extract_generated_results(male_german_results, prediction_col_name, \"German\")\n",
    "male_englsih_results = count_hallucinations_extract_generated_results(male_englsih_results, prediction_col_name, \"English-German\")\n",
    "\n",
    "NB_agerman_results = count_hallucinations_extract_generated_results(NB_german_results, prediction_col_name, \"German\")\n",
    "NB_englsih_results = count_hallucinations_extract_generated_results(NB_englsih_results, prediction_col_name, \"English-German\")"
   ],
   "id": "31482d905e68f4d2",
   "outputs": [],
   "execution_count": 19
  },
  {
   "metadata": {
    "ExecuteTime": {
     "end_time": "2024-12-05T12:00:36.041749Z",
     "start_time": "2024-12-05T12:00:35.941449Z"
    }
   },
   "cell_type": "code",
   "source": [
    "female_german_results.to_csv(\"./Clean_results/\"+Model_name+\"/Female_IFM_HSD_\"+Model_name+\"_german_instructions.csv\", index=False)\n",
    "female_englsih_results.to_csv(\"./Clean_results/\"+Model_name+\"/Female_IFM_HSD_\"+Model_name+\"_english_instructions.csv\", index=False)\n",
    "\n",
    "male_german_results.to_csv(\"./Clean_results/\"+Model_name+\"/Male_IFM_HSD_\"+Model_name+\"_german_instructions.csv\", index=False)\n",
    "male_englsih_results.to_csv(\"./Clean_results/\"+Model_name+\"/Male_IFM_HSD_\"+Model_name+\"_english_instructions.csv\", index=False)\n",
    "\n",
    "NB_german_results.to_csv(\"./Clean_results/\"+Model_name+\"/NB_IFM_HSD_\"+Model_name+\"_german_instructions.csv\", index=False)\n",
    "NB_englsih_results.to_csv(\"./Clean_results/\"+Model_name+\"/NB_IFM_HSD_\"+Model_name+\"_english_instructions.csv\", index=False)"
   ],
   "id": "22e415d56d6652a0",
   "outputs": [],
   "execution_count": 20
  },
  {
   "metadata": {
    "ExecuteTime": {
     "end_time": "2024-12-05T12:00:36.044556Z",
     "start_time": "2024-12-05T12:00:36.042151Z"
    }
   },
   "cell_type": "code",
   "outputs": [],
   "execution_count": 20,
   "source": [],
   "id": "aa8bca97cf9e5840"
  }
 ],
 "metadata": {
  "kernelspec": {
   "display_name": "Python 3",
   "language": "python",
   "name": "python3"
  },
  "language_info": {
   "codemirror_mode": {
    "name": "ipython",
    "version": 2
   },
   "file_extension": ".py",
   "mimetype": "text/x-python",
   "name": "python",
   "nbconvert_exporter": "python",
   "pygments_lexer": "ipython2",
   "version": "2.7.6"
  }
 },
 "nbformat": 4,
 "nbformat_minor": 5
}
