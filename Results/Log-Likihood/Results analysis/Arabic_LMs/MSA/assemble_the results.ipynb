{
 "cells": [
  {
   "cell_type": "code",
   "id": "initial_id",
   "metadata": {
    "collapsed": true,
    "ExecuteTime": {
     "end_time": "2024-12-10T14:36:06.746391Z",
     "start_time": "2024-12-10T14:36:06.660637Z"
    }
   },
   "source": [
    "import pandas as pd\n",
    "import scipy"
   ],
   "outputs": [],
   "execution_count": 37
  },
  {
   "cell_type": "code",
   "source": [
    "def print_SOS_bias_agaonst_specific_identity(toxic_or_not, df, identity):\n",
    "        identity_df = df[df[\"identity\"] == identity]\n",
    "        #print(\"No. entries for \"+ identity, len(identity_df))\n",
    "        group = identity_df[\"bias_type\"].values.tolist()[0]\n",
    "        No_entires = identity_df[identity_df[\"score\"] == toxic_or_not]\n",
    "        #if toxic_or_not == 1:\n",
    "        #        print(\"No. toxic entries for \"+identity,len(No_entires))\n",
    "        #else:\n",
    "         #       print(\"No. non-toxic entries for \"+identity,len(No_entires))\n",
    "        score = len(No_entires) / len(identity_df)\n",
    "        #print(identity, score)\n",
    "        return score, group"
   ],
   "metadata": {
    "collapsed": false,
    "ExecuteTime": {
     "end_time": "2024-12-10T14:36:06.771867Z",
     "start_time": "2024-12-10T14:36:06.665663Z"
    }
   },
   "id": "4c4347b0f40f99d2",
   "outputs": [],
   "execution_count": 38
  },
  {
   "cell_type": "code",
   "source": [
    "def assemble_data_in_df (df, identities):\n",
    "    prcnt_toxic_sent_aginst_identity = []\n",
    "    prcnt_non_toxic_sent_aginst_identity = []\n",
    "    groups = []\n",
    "    for i in identities:\n",
    "        toxic_score, group_toxic = print_SOS_bias_agaonst_specific_identity(1, df, i)\n",
    "        non_toxic_score, _ = print_SOS_bias_agaonst_specific_identity(0, df, i)\n",
    "        \n",
    "        \n",
    "        prcnt_toxic_sent_aginst_identity.append(toxic_score)\n",
    "        groups.append(group_toxic)\n",
    "        prcnt_non_toxic_sent_aginst_identity.append(non_toxic_score)\n",
    "        \n",
    "    dta_analysis_for_each_identity = {\"identity\": identities,\n",
    "                                  \"percentage_of_toxic_sentences\": prcnt_toxic_sent_aginst_identity,\n",
    "                                  \"percentage_of_non_toxic_comment\": prcnt_non_toxic_sent_aginst_identity,\n",
    "                                  \"bias_type\": groups}\n",
    "\n",
    "    dta_analysis_for_each_identity_df = pd.DataFrame(dta_analysis_for_each_identity)\n",
    "    \n",
    "    return dta_analysis_for_each_identity_df"
   ],
   "metadata": {
    "collapsed": false,
    "ExecuteTime": {
     "end_time": "2024-12-10T14:36:06.807325Z",
     "start_time": "2024-12-10T14:36:06.670921Z"
    }
   },
   "id": "4128e604e76adb9d",
   "outputs": [],
   "execution_count": 39
  },
  {
   "cell_type": "code",
   "execution_count": 40,
   "outputs": [],
   "source": [
    "AraBART_results_Masc = pd.read_csv(\"../../../Arabic_LMs/MSA/encoder_decoder/AraBART/Arabic_Mascline_SOS_AraBART.csv\")\n",
    "AraBART_results_Femm = pd.read_csv(\"../../../Arabic_LMs/MSA/encoder_decoder/AraBART/Arabic_Femminine_SOS_AraBART.csv\")\n",
    "AraBART_results_NB = pd.read_csv(\"../../../Arabic_LMs/MSA/encoder_decoder/AraBART/Arabic_Non_Binary_SOS_AraBART.csv\")\n",
    "\n",
    "AraAlBERT_results_Masc = pd.read_csv(\"../../../Arabic_LMs/MSA/Encoder_only/AraAlBERT/Arabic_Mascline_SOS.csv\")\n",
    "AraAlBERT_results_Femm = pd.read_csv(\"../../../Arabic_LMs/MSA/Encoder_only/AraAlBERT/Arabic_Femminine_SOS.csv\")\n",
    "AraAlBERT_results_NB = pd.read_csv(\"../../../Arabic_LMs/MSA/Encoder_only/AraAlBERT/Arabic_Non_Binary_SOS.csv\")\n",
    "\n",
    "AraBERT_results_Masc = pd.read_csv(\"../../../Arabic_LMs/MSA/Encoder_only/AraBERT/Arabic_Mascline_SOS.csv\")\n",
    "AraBERT_results_Femm = pd.read_csv(\"../../../Arabic_LMs/MSA/Encoder_only/AraBERT/Arabic_Femminine_SOS.csv\")\n",
    "AraBERT_results_NB = pd.read_csv(\"../../../Arabic_LMs/Msa/Encoder_only/AraBERT/Arabic_Non_Binary_SOS.csv\")\n",
    "\n",
    "CamelBERT_da_results_Masc = pd.read_csv(\"../../../Arabic_LMs/MSA/Encoder_only/CamelBERT/Arabic_Mascline_SOS_camelbert_da.csv\")\n",
    "CamelBERT_da_results_Femm = pd.read_csv(\"../../../Arabic_LMs/MSA/Encoder_only/CamelBERT/Arabic_Femminine_SOS_camelbert_da.csv\")\n",
    "CamelBERT_da_results_NB = pd.read_csv(\"../../../Arabic_LMs/MSA/Encoder_only/CamelBERT/Arabic_Non_Binary_SOS_camelbert_da.csv\")\n",
    "\n",
    "CamelBERT_msa_results_Masc = pd.read_csv(\"../../../Arabic_LMs/MSa/Encoder_only/CamelBERT/Arabic_Mascline_SOS_camelbert_msa.csv\")\n",
    "CamelBERT_msa_results_Femm = pd.read_csv(\"../../../Arabic_LMs/MSA/Encoder_only/CamelBERT/Arabic_Femminine_SOS_camelbert_msa.csv\")\n",
    "CamelBERT_msa_results_NB = pd.read_csv(\"../../../Arabic_LMs/MSA/Encoder_only/CamelBERT/Arabic_Non_Binary_SOS_camelbert_msa.csv\")\n",
    "\n",
    "XML_Roberta_results_Masc = pd.read_csv(\"../../../Arabic_LMs/MSA/Multilingual_LMs/Encoder_only/XLM_Roberta/Arabic_Mascline_SOS.csv\")\n",
    "XML_Roberta_results_Femm = pd.read_csv(\"../../../Arabic_LMs/MSA/Multilingual_LMs/Encoder_only/XLM_Roberta/Arabic_Femminine_SOS.csv\")\n",
    "XML_Roberta_results_NB = pd.read_csv(\"../../../Arabic_LMs/MSA/Multilingual_LMs/Encoder_only/XLM_Roberta/Arabic_Non_Binary_SOS.csv\")"
   ],
   "metadata": {
    "collapsed": false,
    "ExecuteTime": {
     "end_time": "2024-12-10T14:36:07.016564Z",
     "start_time": "2024-12-10T14:36:06.673382Z"
    }
   },
   "id": "b90cb020c328705b"
  },
  {
   "cell_type": "code",
   "execution_count": 41,
   "outputs": [],
   "source": [
    "AraBART_Arabic_identities_Masc = AraBART_results_Masc[\"identity\"].unique().tolist()\n",
    "AraBART_data_analysis_for_each_identity_masc_df_arab = assemble_data_in_df (AraBART_results_Masc, AraBART_Arabic_identities_Masc)\n",
    "#AraBART_data_analysis_for_each_identity_masc_df_arab.to_csv(\"../Log-Likihood/Arabic_LMs/arabic_msa_sixteen_detailed_rsults_for_each_identity.csv\")"
   ],
   "metadata": {
    "collapsed": false,
    "ExecuteTime": {
     "end_time": "2024-12-10T14:36:07.016797Z",
     "start_time": "2024-12-10T14:36:06.810195Z"
    }
   },
   "id": "7d524d05f9976adf"
  },
  {
   "cell_type": "code",
   "execution_count": 42,
   "outputs": [],
   "source": [
    "AraBART_data_analysis_for_each_identity_masc_df_arab = AraBART_data_analysis_for_each_identity_masc_df_arab[~AraBART_data_analysis_for_each_identity_masc_df_arab[\"bias_type\"].isin([\"Social-Class_Marginalized\", \"Social-Class_Non_Marginalized\"])]"
   ],
   "metadata": {
    "collapsed": false,
    "ExecuteTime": {
     "end_time": "2024-12-10T14:36:07.016844Z",
     "start_time": "2024-12-10T14:36:06.869846Z"
    }
   },
   "id": "a7b2acd68550f6c5"
  },
  {
   "cell_type": "code",
   "execution_count": 43,
   "outputs": [
    {
     "data": {
      "text/plain": "        identity  percentage_of_toxic_sentences  \\\n4            أصم                       0.228571   \n5   كويري-جندريا                       0.342857   \n6           عربي                       0.400000   \n7           أبكم                       0.342857   \n8        أمازيغي                       0.400000   \n..           ...                            ...   \n89          نوبي                       0.371429   \n90         يزيدي                       0.514286   \n91      لا-ثنائي                       0.542857   \n93          كفيف                       0.342857   \n94    غيري-جنسيا                       0.600000   \n\n    percentage_of_non_toxic_comment                            bias_type  \n4                          0.771429        Physical_ability_Marginalized  \n5                          0.657143                  Gender_Marginalized  \n6                          0.600000                Race_Non_marginalized  \n7                          0.657143        Physical_ability_Marginalized  \n8                          0.600000                    Race_Marginalized  \n..                              ...                                  ...  \n89                         0.628571                    Race_Marginalized  \n90                         0.485714                Religion_Marginalized  \n91                         0.457143      Sexual_orientation_Marginalized  \n93                         0.657143        Physical_ability_Marginalized  \n94                         0.400000  Sexual_orientation_Non_Marginalized  \n\n[63 rows x 4 columns]",
      "text/html": "<div>\n<style scoped>\n    .dataframe tbody tr th:only-of-type {\n        vertical-align: middle;\n    }\n\n    .dataframe tbody tr th {\n        vertical-align: top;\n    }\n\n    .dataframe thead th {\n        text-align: right;\n    }\n</style>\n<table border=\"1\" class=\"dataframe\">\n  <thead>\n    <tr style=\"text-align: right;\">\n      <th></th>\n      <th>identity</th>\n      <th>percentage_of_toxic_sentences</th>\n      <th>percentage_of_non_toxic_comment</th>\n      <th>bias_type</th>\n    </tr>\n  </thead>\n  <tbody>\n    <tr>\n      <th>4</th>\n      <td>أصم</td>\n      <td>0.228571</td>\n      <td>0.771429</td>\n      <td>Physical_ability_Marginalized</td>\n    </tr>\n    <tr>\n      <th>5</th>\n      <td>كويري-جندريا</td>\n      <td>0.342857</td>\n      <td>0.657143</td>\n      <td>Gender_Marginalized</td>\n    </tr>\n    <tr>\n      <th>6</th>\n      <td>عربي</td>\n      <td>0.400000</td>\n      <td>0.600000</td>\n      <td>Race_Non_marginalized</td>\n    </tr>\n    <tr>\n      <th>7</th>\n      <td>أبكم</td>\n      <td>0.342857</td>\n      <td>0.657143</td>\n      <td>Physical_ability_Marginalized</td>\n    </tr>\n    <tr>\n      <th>8</th>\n      <td>أمازيغي</td>\n      <td>0.400000</td>\n      <td>0.600000</td>\n      <td>Race_Marginalized</td>\n    </tr>\n    <tr>\n      <th>...</th>\n      <td>...</td>\n      <td>...</td>\n      <td>...</td>\n      <td>...</td>\n    </tr>\n    <tr>\n      <th>89</th>\n      <td>نوبي</td>\n      <td>0.371429</td>\n      <td>0.628571</td>\n      <td>Race_Marginalized</td>\n    </tr>\n    <tr>\n      <th>90</th>\n      <td>يزيدي</td>\n      <td>0.514286</td>\n      <td>0.485714</td>\n      <td>Religion_Marginalized</td>\n    </tr>\n    <tr>\n      <th>91</th>\n      <td>لا-ثنائي</td>\n      <td>0.542857</td>\n      <td>0.457143</td>\n      <td>Sexual_orientation_Marginalized</td>\n    </tr>\n    <tr>\n      <th>93</th>\n      <td>كفيف</td>\n      <td>0.342857</td>\n      <td>0.657143</td>\n      <td>Physical_ability_Marginalized</td>\n    </tr>\n    <tr>\n      <th>94</th>\n      <td>غيري-جنسيا</td>\n      <td>0.600000</td>\n      <td>0.400000</td>\n      <td>Sexual_orientation_Non_Marginalized</td>\n    </tr>\n  </tbody>\n</table>\n<p>63 rows × 4 columns</p>\n</div>"
     },
     "execution_count": 43,
     "metadata": {},
     "output_type": "execute_result"
    }
   ],
   "source": [
    "AraBART_data_analysis_for_each_identity_masc_df_arab"
   ],
   "metadata": {
    "collapsed": false,
    "ExecuteTime": {
     "end_time": "2024-12-10T14:36:07.017087Z",
     "start_time": "2024-12-10T14:36:06.874118Z"
    }
   },
   "id": "92f643e9fb847290"
  },
  {
   "cell_type": "code",
   "execution_count": null,
   "outputs": [],
   "source": [
    "AraBART_data_analysis_for_each_identity_masc_df_arab"
   ],
   "metadata": {
    "collapsed": false
   },
   "id": "6c63d1b1bcbc0e3"
  },
  {
   "cell_type": "markdown",
   "source": [
    "## Sexual orientation"
   ],
   "metadata": {
    "collapsed": false
   },
   "id": "b3d0d1cb1974247f"
  },
  {
   "cell_type": "code",
   "execution_count": 44,
   "outputs": [
    {
     "data": {
      "text/plain": "                 identity  percentage_of_toxic_sentences  \\\n13                  كويري                       0.428571   \n15            شمولي-جنسيا                       0.342857   \n16                   مثلي                       0.400000   \n21             جامع-جنسيا                       0.600000   \n26  ازدواجي-التوجه-الجنسي                       0.371429   \n42                لا-جنسي                       0.600000   \n47             مثلي-الجنس                       0.571429   \n91               لا-ثنائي                       0.542857   \n\n    percentage_of_non_toxic_comment                        bias_type  \n13                         0.571429  Sexual_orientation_Marginalized  \n15                         0.657143  Sexual_orientation_Marginalized  \n16                         0.600000  Sexual_orientation_Marginalized  \n21                         0.400000  Sexual_orientation_Marginalized  \n26                         0.628571  Sexual_orientation_Marginalized  \n42                         0.400000  Sexual_orientation_Marginalized  \n47                         0.428571  Sexual_orientation_Marginalized  \n91                         0.457143  Sexual_orientation_Marginalized  ",
      "text/html": "<div>\n<style scoped>\n    .dataframe tbody tr th:only-of-type {\n        vertical-align: middle;\n    }\n\n    .dataframe tbody tr th {\n        vertical-align: top;\n    }\n\n    .dataframe thead th {\n        text-align: right;\n    }\n</style>\n<table border=\"1\" class=\"dataframe\">\n  <thead>\n    <tr style=\"text-align: right;\">\n      <th></th>\n      <th>identity</th>\n      <th>percentage_of_toxic_sentences</th>\n      <th>percentage_of_non_toxic_comment</th>\n      <th>bias_type</th>\n    </tr>\n  </thead>\n  <tbody>\n    <tr>\n      <th>13</th>\n      <td>كويري</td>\n      <td>0.428571</td>\n      <td>0.571429</td>\n      <td>Sexual_orientation_Marginalized</td>\n    </tr>\n    <tr>\n      <th>15</th>\n      <td>شمولي-جنسيا</td>\n      <td>0.342857</td>\n      <td>0.657143</td>\n      <td>Sexual_orientation_Marginalized</td>\n    </tr>\n    <tr>\n      <th>16</th>\n      <td>مثلي</td>\n      <td>0.400000</td>\n      <td>0.600000</td>\n      <td>Sexual_orientation_Marginalized</td>\n    </tr>\n    <tr>\n      <th>21</th>\n      <td>جامع-جنسيا</td>\n      <td>0.600000</td>\n      <td>0.400000</td>\n      <td>Sexual_orientation_Marginalized</td>\n    </tr>\n    <tr>\n      <th>26</th>\n      <td>ازدواجي-التوجه-الجنسي</td>\n      <td>0.371429</td>\n      <td>0.628571</td>\n      <td>Sexual_orientation_Marginalized</td>\n    </tr>\n    <tr>\n      <th>42</th>\n      <td>لا-جنسي</td>\n      <td>0.600000</td>\n      <td>0.400000</td>\n      <td>Sexual_orientation_Marginalized</td>\n    </tr>\n    <tr>\n      <th>47</th>\n      <td>مثلي-الجنس</td>\n      <td>0.571429</td>\n      <td>0.428571</td>\n      <td>Sexual_orientation_Marginalized</td>\n    </tr>\n    <tr>\n      <th>91</th>\n      <td>لا-ثنائي</td>\n      <td>0.542857</td>\n      <td>0.457143</td>\n      <td>Sexual_orientation_Marginalized</td>\n    </tr>\n  </tbody>\n</table>\n</div>"
     },
     "execution_count": 44,
     "metadata": {},
     "output_type": "execute_result"
    }
   ],
   "source": [
    "AraBART_data_analysis_for_each_identity_masc_df_arab[AraBART_data_analysis_for_each_identity_masc_df_arab[\"bias_type\"] == \"Sexual_orientation_Marginalized\"]"
   ],
   "metadata": {
    "collapsed": false,
    "ExecuteTime": {
     "end_time": "2024-12-10T14:36:07.017200Z",
     "start_time": "2024-12-10T14:36:06.878521Z"
    }
   },
   "id": "fdcc9650dbdac674"
  },
  {
   "cell_type": "code",
   "execution_count": 45,
   "outputs": [
    {
     "data": {
      "text/plain": "0.48214285714285715"
     },
     "execution_count": 45,
     "metadata": {},
     "output_type": "execute_result"
    }
   ],
   "source": [
    "AraBART_data_analysis_for_each_identity_masc_df_arab[AraBART_data_analysis_for_each_identity_masc_df_arab[\"bias_type\"] == \"Sexual_orientation_Marginalized\"][\"percentage_of_toxic_sentences\"].mean()"
   ],
   "metadata": {
    "collapsed": false,
    "ExecuteTime": {
     "end_time": "2024-12-10T14:36:07.017252Z",
     "start_time": "2024-12-10T14:36:06.881173Z"
    }
   },
   "id": "dee295e1904fc0f2"
  },
  {
   "cell_type": "code",
   "execution_count": 46,
   "outputs": [
    {
     "data": {
      "text/plain": "      identity  percentage_of_toxic_sentences  \\\n94  غيري-جنسيا                            0.6   \n\n    percentage_of_non_toxic_comment                            bias_type  \n94                              0.4  Sexual_orientation_Non_Marginalized  ",
      "text/html": "<div>\n<style scoped>\n    .dataframe tbody tr th:only-of-type {\n        vertical-align: middle;\n    }\n\n    .dataframe tbody tr th {\n        vertical-align: top;\n    }\n\n    .dataframe thead th {\n        text-align: right;\n    }\n</style>\n<table border=\"1\" class=\"dataframe\">\n  <thead>\n    <tr style=\"text-align: right;\">\n      <th></th>\n      <th>identity</th>\n      <th>percentage_of_toxic_sentences</th>\n      <th>percentage_of_non_toxic_comment</th>\n      <th>bias_type</th>\n    </tr>\n  </thead>\n  <tbody>\n    <tr>\n      <th>94</th>\n      <td>غيري-جنسيا</td>\n      <td>0.6</td>\n      <td>0.4</td>\n      <td>Sexual_orientation_Non_Marginalized</td>\n    </tr>\n  </tbody>\n</table>\n</div>"
     },
     "execution_count": 46,
     "metadata": {},
     "output_type": "execute_result"
    }
   ],
   "source": [
    "AraBART_data_analysis_for_each_identity_masc_df_arab[AraBART_data_analysis_for_each_identity_masc_df_arab[\"bias_type\"] == \"Sexual_orientation_Non_Marginalized\"]"
   ],
   "metadata": {
    "collapsed": false,
    "ExecuteTime": {
     "end_time": "2024-12-10T14:36:07.017325Z",
     "start_time": "2024-12-10T14:36:06.884449Z"
    }
   },
   "id": "703d4b074dad3566"
  },
  {
   "cell_type": "markdown",
   "source": [
    "## Ethnicity"
   ],
   "metadata": {
    "collapsed": false
   },
   "id": "8ff5f24e1375fc21"
  },
  {
   "cell_type": "code",
   "execution_count": 47,
   "outputs": [
    {
     "data": {
      "text/plain": "       identity  percentage_of_toxic_sentences  \\\n8       أمازيغي                       0.400000   \n10       صحراوي                       0.342857   \n12       بانتوي                       0.600000   \n20         كردي                       0.400000   \n29  جنوب-افريقي                       0.542857   \n65         أسود                       0.485714   \n66       أرماني                       0.628571   \n68        بدوني                       0.457143   \n74         مهمش                       0.400000   \n75        بربري                       0.742857   \n76  جنوب-سوداني                       0.571429   \n80      أوروموي                       0.485714   \n87       بنداري                       0.428571   \n88        شركسي                       0.428571   \n89         نوبي                       0.371429   \n\n    percentage_of_non_toxic_comment          bias_type  \n8                          0.600000  Race_Marginalized  \n10                         0.657143  Race_Marginalized  \n12                         0.400000  Race_Marginalized  \n20                         0.600000  Race_Marginalized  \n29                         0.457143  Race_Marginalized  \n65                         0.514286  Race_Marginalized  \n66                         0.371429  Race_Marginalized  \n68                         0.542857  Race_Marginalized  \n74                         0.600000  Race_Marginalized  \n75                         0.257143  Race_Marginalized  \n76                         0.428571  Race_Marginalized  \n80                         0.514286  Race_Marginalized  \n87                         0.571429  Race_Marginalized  \n88                         0.571429  Race_Marginalized  \n89                         0.628571  Race_Marginalized  ",
      "text/html": "<div>\n<style scoped>\n    .dataframe tbody tr th:only-of-type {\n        vertical-align: middle;\n    }\n\n    .dataframe tbody tr th {\n        vertical-align: top;\n    }\n\n    .dataframe thead th {\n        text-align: right;\n    }\n</style>\n<table border=\"1\" class=\"dataframe\">\n  <thead>\n    <tr style=\"text-align: right;\">\n      <th></th>\n      <th>identity</th>\n      <th>percentage_of_toxic_sentences</th>\n      <th>percentage_of_non_toxic_comment</th>\n      <th>bias_type</th>\n    </tr>\n  </thead>\n  <tbody>\n    <tr>\n      <th>8</th>\n      <td>أمازيغي</td>\n      <td>0.400000</td>\n      <td>0.600000</td>\n      <td>Race_Marginalized</td>\n    </tr>\n    <tr>\n      <th>10</th>\n      <td>صحراوي</td>\n      <td>0.342857</td>\n      <td>0.657143</td>\n      <td>Race_Marginalized</td>\n    </tr>\n    <tr>\n      <th>12</th>\n      <td>بانتوي</td>\n      <td>0.600000</td>\n      <td>0.400000</td>\n      <td>Race_Marginalized</td>\n    </tr>\n    <tr>\n      <th>20</th>\n      <td>كردي</td>\n      <td>0.400000</td>\n      <td>0.600000</td>\n      <td>Race_Marginalized</td>\n    </tr>\n    <tr>\n      <th>29</th>\n      <td>جنوب-افريقي</td>\n      <td>0.542857</td>\n      <td>0.457143</td>\n      <td>Race_Marginalized</td>\n    </tr>\n    <tr>\n      <th>65</th>\n      <td>أسود</td>\n      <td>0.485714</td>\n      <td>0.514286</td>\n      <td>Race_Marginalized</td>\n    </tr>\n    <tr>\n      <th>66</th>\n      <td>أرماني</td>\n      <td>0.628571</td>\n      <td>0.371429</td>\n      <td>Race_Marginalized</td>\n    </tr>\n    <tr>\n      <th>68</th>\n      <td>بدوني</td>\n      <td>0.457143</td>\n      <td>0.542857</td>\n      <td>Race_Marginalized</td>\n    </tr>\n    <tr>\n      <th>74</th>\n      <td>مهمش</td>\n      <td>0.400000</td>\n      <td>0.600000</td>\n      <td>Race_Marginalized</td>\n    </tr>\n    <tr>\n      <th>75</th>\n      <td>بربري</td>\n      <td>0.742857</td>\n      <td>0.257143</td>\n      <td>Race_Marginalized</td>\n    </tr>\n    <tr>\n      <th>76</th>\n      <td>جنوب-سوداني</td>\n      <td>0.571429</td>\n      <td>0.428571</td>\n      <td>Race_Marginalized</td>\n    </tr>\n    <tr>\n      <th>80</th>\n      <td>أوروموي</td>\n      <td>0.485714</td>\n      <td>0.514286</td>\n      <td>Race_Marginalized</td>\n    </tr>\n    <tr>\n      <th>87</th>\n      <td>بنداري</td>\n      <td>0.428571</td>\n      <td>0.571429</td>\n      <td>Race_Marginalized</td>\n    </tr>\n    <tr>\n      <th>88</th>\n      <td>شركسي</td>\n      <td>0.428571</td>\n      <td>0.571429</td>\n      <td>Race_Marginalized</td>\n    </tr>\n    <tr>\n      <th>89</th>\n      <td>نوبي</td>\n      <td>0.371429</td>\n      <td>0.628571</td>\n      <td>Race_Marginalized</td>\n    </tr>\n  </tbody>\n</table>\n</div>"
     },
     "execution_count": 47,
     "metadata": {},
     "output_type": "execute_result"
    }
   ],
   "source": [
    "AraBART_data_analysis_for_each_identity_masc_df_arab[AraBART_data_analysis_for_each_identity_masc_df_arab[\"bias_type\"] == \"Race_Marginalized\"]"
   ],
   "metadata": {
    "collapsed": false,
    "ExecuteTime": {
     "end_time": "2024-12-10T14:36:07.017450Z",
     "start_time": "2024-12-10T14:36:06.889156Z"
    }
   },
   "id": "e294fd4d7f12a9da"
  },
  {
   "cell_type": "code",
   "execution_count": 48,
   "outputs": [
    {
     "data": {
      "text/plain": "0.48571428571428577"
     },
     "execution_count": 48,
     "metadata": {},
     "output_type": "execute_result"
    }
   ],
   "source": [
    "AraBART_data_analysis_for_each_identity_masc_df_arab[AraBART_data_analysis_for_each_identity_masc_df_arab[\"bias_type\"] == \"Race_Marginalized\"][\"percentage_of_toxic_sentences\"].mean()"
   ],
   "metadata": {
    "collapsed": false,
    "ExecuteTime": {
     "end_time": "2024-12-10T14:36:07.017494Z",
     "start_time": "2024-12-10T14:36:06.894223Z"
    }
   },
   "id": "12cbd8ec1972a1d4"
  },
  {
   "cell_type": "code",
   "execution_count": 49,
   "outputs": [
    {
     "data": {
      "text/plain": "  identity  percentage_of_toxic_sentences  percentage_of_non_toxic_comment  \\\n6     عربي                            0.4                              0.6   \n\n               bias_type  \n6  Race_Non_marginalized  ",
      "text/html": "<div>\n<style scoped>\n    .dataframe tbody tr th:only-of-type {\n        vertical-align: middle;\n    }\n\n    .dataframe tbody tr th {\n        vertical-align: top;\n    }\n\n    .dataframe thead th {\n        text-align: right;\n    }\n</style>\n<table border=\"1\" class=\"dataframe\">\n  <thead>\n    <tr style=\"text-align: right;\">\n      <th></th>\n      <th>identity</th>\n      <th>percentage_of_toxic_sentences</th>\n      <th>percentage_of_non_toxic_comment</th>\n      <th>bias_type</th>\n    </tr>\n  </thead>\n  <tbody>\n    <tr>\n      <th>6</th>\n      <td>عربي</td>\n      <td>0.4</td>\n      <td>0.6</td>\n      <td>Race_Non_marginalized</td>\n    </tr>\n  </tbody>\n</table>\n</div>"
     },
     "execution_count": 49,
     "metadata": {},
     "output_type": "execute_result"
    }
   ],
   "source": [
    "AraBART_data_analysis_for_each_identity_masc_df_arab[AraBART_data_analysis_for_each_identity_masc_df_arab[\"bias_type\"] == \"Race_Non_marginalized\"]"
   ],
   "metadata": {
    "collapsed": false,
    "ExecuteTime": {
     "end_time": "2024-12-10T14:36:07.017558Z",
     "start_time": "2024-12-10T14:36:06.896644Z"
    }
   },
   "id": "717edad2b8dce165"
  },
  {
   "cell_type": "markdown",
   "source": [
    "## Religion"
   ],
   "metadata": {
    "collapsed": false
   },
   "id": "458a32ca0f4d8f35"
  },
  {
   "cell_type": "code",
   "execution_count": 50,
   "outputs": [
    {
     "data": {
      "text/plain": "     identity  percentage_of_toxic_sentences  percentage_of_non_toxic_comment  \\\n17      أحمدي                       0.314286                         0.685714   \n18       شيعي                       0.371429                         0.628571   \n24      مسيحي                       0.571429                         0.428571   \n33      سامري                       0.428571                         0.571429   \n36       درزي                       0.485714                         0.514286   \n37     هندوسي                       0.514286                         0.485714   \n43  شاهد يهوا                       0.542857                         0.457143   \n44       بوذي                       0.285714                         0.714286   \n56      يهودي                       0.342857                         0.657143   \n59   إسماعيلي                       0.428571                         0.571429   \n69      بهائي                       0.400000                         0.600000   \n79       صوفي                       0.485714                         0.514286   \n82       قبطي                       0.400000                         0.600000   \n84      قرآني                       0.685714                         0.314286   \n90      يزيدي                       0.514286                         0.485714   \n\n                bias_type  \n17  Religion_Marginalized  \n18  Religion_Marginalized  \n24  Religion_Marginalized  \n33  Religion_Marginalized  \n36  Religion_Marginalized  \n37  Religion_Marginalized  \n43  Religion_Marginalized  \n44  Religion_Marginalized  \n56  Religion_Marginalized  \n59  Religion_Marginalized  \n69  Religion_Marginalized  \n79  Religion_Marginalized  \n82  Religion_Marginalized  \n84  Religion_Marginalized  \n90  Religion_Marginalized  ",
      "text/html": "<div>\n<style scoped>\n    .dataframe tbody tr th:only-of-type {\n        vertical-align: middle;\n    }\n\n    .dataframe tbody tr th {\n        vertical-align: top;\n    }\n\n    .dataframe thead th {\n        text-align: right;\n    }\n</style>\n<table border=\"1\" class=\"dataframe\">\n  <thead>\n    <tr style=\"text-align: right;\">\n      <th></th>\n      <th>identity</th>\n      <th>percentage_of_toxic_sentences</th>\n      <th>percentage_of_non_toxic_comment</th>\n      <th>bias_type</th>\n    </tr>\n  </thead>\n  <tbody>\n    <tr>\n      <th>17</th>\n      <td>أحمدي</td>\n      <td>0.314286</td>\n      <td>0.685714</td>\n      <td>Religion_Marginalized</td>\n    </tr>\n    <tr>\n      <th>18</th>\n      <td>شيعي</td>\n      <td>0.371429</td>\n      <td>0.628571</td>\n      <td>Religion_Marginalized</td>\n    </tr>\n    <tr>\n      <th>24</th>\n      <td>مسيحي</td>\n      <td>0.571429</td>\n      <td>0.428571</td>\n      <td>Religion_Marginalized</td>\n    </tr>\n    <tr>\n      <th>33</th>\n      <td>سامري</td>\n      <td>0.428571</td>\n      <td>0.571429</td>\n      <td>Religion_Marginalized</td>\n    </tr>\n    <tr>\n      <th>36</th>\n      <td>درزي</td>\n      <td>0.485714</td>\n      <td>0.514286</td>\n      <td>Religion_Marginalized</td>\n    </tr>\n    <tr>\n      <th>37</th>\n      <td>هندوسي</td>\n      <td>0.514286</td>\n      <td>0.485714</td>\n      <td>Religion_Marginalized</td>\n    </tr>\n    <tr>\n      <th>43</th>\n      <td>شاهد يهوا</td>\n      <td>0.542857</td>\n      <td>0.457143</td>\n      <td>Religion_Marginalized</td>\n    </tr>\n    <tr>\n      <th>44</th>\n      <td>بوذي</td>\n      <td>0.285714</td>\n      <td>0.714286</td>\n      <td>Religion_Marginalized</td>\n    </tr>\n    <tr>\n      <th>56</th>\n      <td>يهودي</td>\n      <td>0.342857</td>\n      <td>0.657143</td>\n      <td>Religion_Marginalized</td>\n    </tr>\n    <tr>\n      <th>59</th>\n      <td>إسماعيلي</td>\n      <td>0.428571</td>\n      <td>0.571429</td>\n      <td>Religion_Marginalized</td>\n    </tr>\n    <tr>\n      <th>69</th>\n      <td>بهائي</td>\n      <td>0.400000</td>\n      <td>0.600000</td>\n      <td>Religion_Marginalized</td>\n    </tr>\n    <tr>\n      <th>79</th>\n      <td>صوفي</td>\n      <td>0.485714</td>\n      <td>0.514286</td>\n      <td>Religion_Marginalized</td>\n    </tr>\n    <tr>\n      <th>82</th>\n      <td>قبطي</td>\n      <td>0.400000</td>\n      <td>0.600000</td>\n      <td>Religion_Marginalized</td>\n    </tr>\n    <tr>\n      <th>84</th>\n      <td>قرآني</td>\n      <td>0.685714</td>\n      <td>0.314286</td>\n      <td>Religion_Marginalized</td>\n    </tr>\n    <tr>\n      <th>90</th>\n      <td>يزيدي</td>\n      <td>0.514286</td>\n      <td>0.485714</td>\n      <td>Religion_Marginalized</td>\n    </tr>\n  </tbody>\n</table>\n</div>"
     },
     "execution_count": 50,
     "metadata": {},
     "output_type": "execute_result"
    }
   ],
   "source": [
    "AraBART_data_analysis_for_each_identity_masc_df_arab[AraBART_data_analysis_for_each_identity_masc_df_arab[\"bias_type\"] == \"Religion_Marginalized\"]"
   ],
   "metadata": {
    "collapsed": false,
    "ExecuteTime": {
     "end_time": "2024-12-10T14:36:07.017700Z",
     "start_time": "2024-12-10T14:36:06.906366Z"
    }
   },
   "id": "8ffec11c6b502306"
  },
  {
   "cell_type": "code",
   "execution_count": 51,
   "outputs": [
    {
     "data": {
      "text/plain": "0.45142857142857146"
     },
     "execution_count": 51,
     "metadata": {},
     "output_type": "execute_result"
    }
   ],
   "source": [
    "AraBART_data_analysis_for_each_identity_masc_df_arab[AraBART_data_analysis_for_each_identity_masc_df_arab[\"bias_type\"] == \"Religion_Marginalized\"].percentage_of_toxic_sentences.mean()"
   ],
   "metadata": {
    "collapsed": false,
    "ExecuteTime": {
     "end_time": "2024-12-10T14:36:07.017745Z",
     "start_time": "2024-12-10T14:36:06.909505Z"
    }
   },
   "id": "b81cbe8560e957e3"
  },
  {
   "cell_type": "code",
   "execution_count": 52,
   "outputs": [
    {
     "data": {
      "text/plain": "   identity  percentage_of_toxic_sentences  percentage_of_non_toxic_comment  \\\n40      سني                       0.400000                         0.600000   \n41     مسلم                       0.457143                         0.542857   \n\n                    bias_type  \n40  Religion_Non_Marginalized  \n41  Religion_Non_Marginalized  ",
      "text/html": "<div>\n<style scoped>\n    .dataframe tbody tr th:only-of-type {\n        vertical-align: middle;\n    }\n\n    .dataframe tbody tr th {\n        vertical-align: top;\n    }\n\n    .dataframe thead th {\n        text-align: right;\n    }\n</style>\n<table border=\"1\" class=\"dataframe\">\n  <thead>\n    <tr style=\"text-align: right;\">\n      <th></th>\n      <th>identity</th>\n      <th>percentage_of_toxic_sentences</th>\n      <th>percentage_of_non_toxic_comment</th>\n      <th>bias_type</th>\n    </tr>\n  </thead>\n  <tbody>\n    <tr>\n      <th>40</th>\n      <td>سني</td>\n      <td>0.400000</td>\n      <td>0.600000</td>\n      <td>Religion_Non_Marginalized</td>\n    </tr>\n    <tr>\n      <th>41</th>\n      <td>مسلم</td>\n      <td>0.457143</td>\n      <td>0.542857</td>\n      <td>Religion_Non_Marginalized</td>\n    </tr>\n  </tbody>\n</table>\n</div>"
     },
     "execution_count": 52,
     "metadata": {},
     "output_type": "execute_result"
    }
   ],
   "source": [
    "AraBART_data_analysis_for_each_identity_masc_df_arab[AraBART_data_analysis_for_each_identity_masc_df_arab[\"bias_type\"] == \"Religion_Non_Marginalized\"]"
   ],
   "metadata": {
    "collapsed": false,
    "ExecuteTime": {
     "end_time": "2024-12-10T14:36:07.017827Z",
     "start_time": "2024-12-10T14:36:06.913437Z"
    }
   },
   "id": "cca0149516620ec6"
  },
  {
   "cell_type": "markdown",
   "source": [
    "## Gender"
   ],
   "metadata": {
    "collapsed": false
   },
   "id": "3c5001bf19b4708d"
  },
  {
   "cell_type": "code",
   "execution_count": 53,
   "outputs": [
    {
     "data": {
      "text/plain": "                 identity  percentage_of_toxic_sentences  \\\n5            كويري-جندريا                       0.342857   \n30  كويري-الهويه-الجندرية                       0.400000   \n51            متعدد-الجنس                       0.685714   \n53            عابر-جندريا                       0.485714   \n61           متحول-جندريا                       0.428571   \n70        لا-ثنائي-الجندر                       0.485714   \n\n    percentage_of_non_toxic_comment            bias_type  \n5                          0.657143  Gender_Marginalized  \n30                         0.600000  Gender_Marginalized  \n51                         0.314286  Gender_Marginalized  \n53                         0.514286  Gender_Marginalized  \n61                         0.571429  Gender_Marginalized  \n70                         0.514286  Gender_Marginalized  ",
      "text/html": "<div>\n<style scoped>\n    .dataframe tbody tr th:only-of-type {\n        vertical-align: middle;\n    }\n\n    .dataframe tbody tr th {\n        vertical-align: top;\n    }\n\n    .dataframe thead th {\n        text-align: right;\n    }\n</style>\n<table border=\"1\" class=\"dataframe\">\n  <thead>\n    <tr style=\"text-align: right;\">\n      <th></th>\n      <th>identity</th>\n      <th>percentage_of_toxic_sentences</th>\n      <th>percentage_of_non_toxic_comment</th>\n      <th>bias_type</th>\n    </tr>\n  </thead>\n  <tbody>\n    <tr>\n      <th>5</th>\n      <td>كويري-جندريا</td>\n      <td>0.342857</td>\n      <td>0.657143</td>\n      <td>Gender_Marginalized</td>\n    </tr>\n    <tr>\n      <th>30</th>\n      <td>كويري-الهويه-الجندرية</td>\n      <td>0.400000</td>\n      <td>0.600000</td>\n      <td>Gender_Marginalized</td>\n    </tr>\n    <tr>\n      <th>51</th>\n      <td>متعدد-الجنس</td>\n      <td>0.685714</td>\n      <td>0.314286</td>\n      <td>Gender_Marginalized</td>\n    </tr>\n    <tr>\n      <th>53</th>\n      <td>عابر-جندريا</td>\n      <td>0.485714</td>\n      <td>0.514286</td>\n      <td>Gender_Marginalized</td>\n    </tr>\n    <tr>\n      <th>61</th>\n      <td>متحول-جندريا</td>\n      <td>0.428571</td>\n      <td>0.571429</td>\n      <td>Gender_Marginalized</td>\n    </tr>\n    <tr>\n      <th>70</th>\n      <td>لا-ثنائي-الجندر</td>\n      <td>0.485714</td>\n      <td>0.514286</td>\n      <td>Gender_Marginalized</td>\n    </tr>\n  </tbody>\n</table>\n</div>"
     },
     "execution_count": 53,
     "metadata": {},
     "output_type": "execute_result"
    }
   ],
   "source": [
    "AraBART_data_analysis_for_each_identity_masc_df_arab[AraBART_data_analysis_for_each_identity_masc_df_arab[\"bias_type\"] == \"Gender_Marginalized\"]"
   ],
   "metadata": {
    "collapsed": false,
    "ExecuteTime": {
     "end_time": "2024-12-10T14:36:07.017916Z",
     "start_time": "2024-12-10T14:36:06.917548Z"
    }
   },
   "id": "db15c2edfc8041d4"
  },
  {
   "cell_type": "code",
   "execution_count": 54,
   "outputs": [
    {
     "data": {
      "text/plain": "0.4714285714285715"
     },
     "execution_count": 54,
     "metadata": {},
     "output_type": "execute_result"
    }
   ],
   "source": [
    "AraBART_data_analysis_for_each_identity_masc_df_arab[AraBART_data_analysis_for_each_identity_masc_df_arab[\"bias_type\"] == \"Gender_Marginalized\"].percentage_of_toxic_sentences.mean()"
   ],
   "metadata": {
    "collapsed": false,
    "ExecuteTime": {
     "end_time": "2024-12-10T14:36:07.017967Z",
     "start_time": "2024-12-10T14:36:06.921025Z"
    }
   },
   "id": "1594c4c3f5c15ff0"
  },
  {
   "cell_type": "code",
   "execution_count": 55,
   "outputs": [
    {
     "data": {
      "text/plain": "        identity  percentage_of_toxic_sentences  \\\n11  ثنائي-الجندر                       0.542857   \n35  متوافق-الجنس                       0.542857   \n\n    percentage_of_non_toxic_comment                bias_type  \n11                         0.457143  Gender_Non_marginalized  \n35                         0.457143  Gender_Non_marginalized  ",
      "text/html": "<div>\n<style scoped>\n    .dataframe tbody tr th:only-of-type {\n        vertical-align: middle;\n    }\n\n    .dataframe tbody tr th {\n        vertical-align: top;\n    }\n\n    .dataframe thead th {\n        text-align: right;\n    }\n</style>\n<table border=\"1\" class=\"dataframe\">\n  <thead>\n    <tr style=\"text-align: right;\">\n      <th></th>\n      <th>identity</th>\n      <th>percentage_of_toxic_sentences</th>\n      <th>percentage_of_non_toxic_comment</th>\n      <th>bias_type</th>\n    </tr>\n  </thead>\n  <tbody>\n    <tr>\n      <th>11</th>\n      <td>ثنائي-الجندر</td>\n      <td>0.542857</td>\n      <td>0.457143</td>\n      <td>Gender_Non_marginalized</td>\n    </tr>\n    <tr>\n      <th>35</th>\n      <td>متوافق-الجنس</td>\n      <td>0.542857</td>\n      <td>0.457143</td>\n      <td>Gender_Non_marginalized</td>\n    </tr>\n  </tbody>\n</table>\n</div>"
     },
     "execution_count": 55,
     "metadata": {},
     "output_type": "execute_result"
    }
   ],
   "source": [
    "AraBART_data_analysis_for_each_identity_masc_df_arab[AraBART_data_analysis_for_each_identity_masc_df_arab[\"bias_type\"] == \"Gender_Non_marginalized\"]"
   ],
   "metadata": {
    "collapsed": false,
    "ExecuteTime": {
     "end_time": "2024-12-10T14:36:07.022994Z",
     "start_time": "2024-12-10T14:36:06.925138Z"
    }
   },
   "id": "22531e2217c89373"
  },
  {
   "cell_type": "code",
   "execution_count": 56,
   "outputs": [
    {
     "data": {
      "text/plain": "0.5428571428571428"
     },
     "execution_count": 56,
     "metadata": {},
     "output_type": "execute_result"
    }
   ],
   "source": [
    "AraBART_data_analysis_for_each_identity_masc_df_arab[AraBART_data_analysis_for_each_identity_masc_df_arab[\"bias_type\"] == \"Gender_Non_marginalized\"].percentage_of_toxic_sentences.mean()"
   ],
   "metadata": {
    "collapsed": false,
    "ExecuteTime": {
     "end_time": "2024-12-10T14:36:07.023170Z",
     "start_time": "2024-12-10T14:36:06.928109Z"
    }
   },
   "id": "1997c227e071f016"
  },
  {
   "cell_type": "markdown",
   "source": [
    "## Disability"
   ],
   "metadata": {
    "collapsed": false
   },
   "id": "cd5b5e524d7e9736"
  },
  {
   "cell_type": "code",
   "execution_count": 57,
   "outputs": [
    {
     "data": {
      "text/plain": "              identity  percentage_of_toxic_sentences  \\\n4                  أصم                       0.228571   \n7                 أبكم                       0.342857   \n32                مصاب                       0.514286   \n48    ذو-احتياجات-خاصه                       0.742857   \n49                عقيم                       0.542857   \n50         مصاب-بالعقم                       0.628571   \n52                عاجز                       0.400000   \n54                قعيد                       0.228571   \n58         متأخر-عقليا                       0.628571   \n67  متوحد،مصاب-بالتوحد                       0.542857   \n85                معاق                       0.428571   \n93                كفيف                       0.342857   \n\n    percentage_of_non_toxic_comment                      bias_type  \n4                          0.771429  Physical_ability_Marginalized  \n7                          0.657143  Physical_ability_Marginalized  \n32                         0.485714  Physical_ability_Marginalized  \n48                         0.257143  Physical_ability_Marginalized  \n49                         0.457143  Physical_ability_Marginalized  \n50                         0.371429  Physical_ability_Marginalized  \n52                         0.600000  Physical_ability_Marginalized  \n54                         0.771429  Physical_ability_Marginalized  \n58                         0.371429  Physical_ability_Marginalized  \n67                         0.457143  Physical_ability_Marginalized  \n85                         0.571429  Physical_ability_Marginalized  \n93                         0.657143  Physical_ability_Marginalized  ",
      "text/html": "<div>\n<style scoped>\n    .dataframe tbody tr th:only-of-type {\n        vertical-align: middle;\n    }\n\n    .dataframe tbody tr th {\n        vertical-align: top;\n    }\n\n    .dataframe thead th {\n        text-align: right;\n    }\n</style>\n<table border=\"1\" class=\"dataframe\">\n  <thead>\n    <tr style=\"text-align: right;\">\n      <th></th>\n      <th>identity</th>\n      <th>percentage_of_toxic_sentences</th>\n      <th>percentage_of_non_toxic_comment</th>\n      <th>bias_type</th>\n    </tr>\n  </thead>\n  <tbody>\n    <tr>\n      <th>4</th>\n      <td>أصم</td>\n      <td>0.228571</td>\n      <td>0.771429</td>\n      <td>Physical_ability_Marginalized</td>\n    </tr>\n    <tr>\n      <th>7</th>\n      <td>أبكم</td>\n      <td>0.342857</td>\n      <td>0.657143</td>\n      <td>Physical_ability_Marginalized</td>\n    </tr>\n    <tr>\n      <th>32</th>\n      <td>مصاب</td>\n      <td>0.514286</td>\n      <td>0.485714</td>\n      <td>Physical_ability_Marginalized</td>\n    </tr>\n    <tr>\n      <th>48</th>\n      <td>ذو-احتياجات-خاصه</td>\n      <td>0.742857</td>\n      <td>0.257143</td>\n      <td>Physical_ability_Marginalized</td>\n    </tr>\n    <tr>\n      <th>49</th>\n      <td>عقيم</td>\n      <td>0.542857</td>\n      <td>0.457143</td>\n      <td>Physical_ability_Marginalized</td>\n    </tr>\n    <tr>\n      <th>50</th>\n      <td>مصاب-بالعقم</td>\n      <td>0.628571</td>\n      <td>0.371429</td>\n      <td>Physical_ability_Marginalized</td>\n    </tr>\n    <tr>\n      <th>52</th>\n      <td>عاجز</td>\n      <td>0.400000</td>\n      <td>0.600000</td>\n      <td>Physical_ability_Marginalized</td>\n    </tr>\n    <tr>\n      <th>54</th>\n      <td>قعيد</td>\n      <td>0.228571</td>\n      <td>0.771429</td>\n      <td>Physical_ability_Marginalized</td>\n    </tr>\n    <tr>\n      <th>58</th>\n      <td>متأخر-عقليا</td>\n      <td>0.628571</td>\n      <td>0.371429</td>\n      <td>Physical_ability_Marginalized</td>\n    </tr>\n    <tr>\n      <th>67</th>\n      <td>متوحد،مصاب-بالتوحد</td>\n      <td>0.542857</td>\n      <td>0.457143</td>\n      <td>Physical_ability_Marginalized</td>\n    </tr>\n    <tr>\n      <th>85</th>\n      <td>معاق</td>\n      <td>0.428571</td>\n      <td>0.571429</td>\n      <td>Physical_ability_Marginalized</td>\n    </tr>\n    <tr>\n      <th>93</th>\n      <td>كفيف</td>\n      <td>0.342857</td>\n      <td>0.657143</td>\n      <td>Physical_ability_Marginalized</td>\n    </tr>\n  </tbody>\n</table>\n</div>"
     },
     "execution_count": 57,
     "metadata": {},
     "output_type": "execute_result"
    }
   ],
   "source": [
    "AraBART_data_analysis_for_each_identity_masc_df_arab[AraBART_data_analysis_for_each_identity_masc_df_arab[\"bias_type\"] == \"Physical_ability_Marginalized\"]"
   ],
   "metadata": {
    "collapsed": false,
    "ExecuteTime": {
     "end_time": "2024-12-10T14:36:07.023312Z",
     "start_time": "2024-12-10T14:36:06.932914Z"
    }
   },
   "id": "595eb659abc26a5e"
  },
  {
   "cell_type": "code",
   "execution_count": 58,
   "outputs": [
    {
     "data": {
      "text/plain": "0.4642857142857142"
     },
     "execution_count": 58,
     "metadata": {},
     "output_type": "execute_result"
    }
   ],
   "source": [
    "AraBART_data_analysis_for_each_identity_masc_df_arab[AraBART_data_analysis_for_each_identity_masc_df_arab[\"bias_type\"] == \"Physical_ability_Marginalized\"].percentage_of_toxic_sentences.mean()"
   ],
   "metadata": {
    "collapsed": false,
    "ExecuteTime": {
     "end_time": "2024-12-10T14:36:07.023369Z",
     "start_time": "2024-12-10T14:36:06.935922Z"
    }
   },
   "id": "9342ad6245a374ac"
  },
  {
   "cell_type": "code",
   "execution_count": 59,
   "outputs": [
    {
     "data": {
      "text/plain": "      identity  percentage_of_toxic_sentences  \\\n22  بدون-إعاقة                       0.514286   \n\n    percentage_of_non_toxic_comment                          bias_type  \n22                         0.485714  Physical_ability_Non_Marginalized  ",
      "text/html": "<div>\n<style scoped>\n    .dataframe tbody tr th:only-of-type {\n        vertical-align: middle;\n    }\n\n    .dataframe tbody tr th {\n        vertical-align: top;\n    }\n\n    .dataframe thead th {\n        text-align: right;\n    }\n</style>\n<table border=\"1\" class=\"dataframe\">\n  <thead>\n    <tr style=\"text-align: right;\">\n      <th></th>\n      <th>identity</th>\n      <th>percentage_of_toxic_sentences</th>\n      <th>percentage_of_non_toxic_comment</th>\n      <th>bias_type</th>\n    </tr>\n  </thead>\n  <tbody>\n    <tr>\n      <th>22</th>\n      <td>بدون-إعاقة</td>\n      <td>0.514286</td>\n      <td>0.485714</td>\n      <td>Physical_ability_Non_Marginalized</td>\n    </tr>\n  </tbody>\n</table>\n</div>"
     },
     "execution_count": 59,
     "metadata": {},
     "output_type": "execute_result"
    }
   ],
   "source": [
    "AraBART_data_analysis_for_each_identity_masc_df_arab[AraBART_data_analysis_for_each_identity_masc_df_arab[\"bias_type\"] == \"Physical_ability_Non_Marginalized\"]"
   ],
   "metadata": {
    "collapsed": false,
    "ExecuteTime": {
     "end_time": "2024-12-10T14:36:07.023448Z",
     "start_time": "2024-12-10T14:36:06.938295Z"
    }
   },
   "id": "d9d5499203d69552"
  },
  {
   "cell_type": "code",
   "execution_count": 60,
   "outputs": [],
   "source": [
    "AraBART_Arabic_intersectional_identities_femm = AraBART_results_Femm[\"identity\"].unique().tolist()\n",
    "data_analysis_for_each_identity_df_arab_intersectional = assemble_data_in_df (AraBART_results_Femm, AraBART_Arabic_intersectional_identities_femm)\n",
    "#data_analysis_for_each_identity_df_arab_intersectional.to_csv(\"../Log-Likihood/Arabic_LMs/arabic_intersectional_msa_sixteeth_rsults_for_each_identity.csv\")"
   ],
   "metadata": {
    "collapsed": false,
    "ExecuteTime": {
     "end_time": "2024-12-10T14:36:07.023482Z",
     "start_time": "2024-12-10T14:36:06.942341Z"
    }
   },
   "id": "4ec87591d74ea52a"
  },
  {
   "cell_type": "code",
   "execution_count": 61,
   "outputs": [],
   "source": [
    "data_analysis_for_each_identity_df_arab_intersectional = data_analysis_for_each_identity_df_arab_intersectional[~data_analysis_for_each_identity_df_arab_intersectional[\"bias_type\"].isin([\"Social-Class_Marginalized\", \"Social-Class_Non_Marginalized\"])]"
   ],
   "metadata": {
    "collapsed": false,
    "ExecuteTime": {
     "end_time": "2024-12-10T14:36:07.023504Z",
     "start_time": "2024-12-10T14:36:06.979538Z"
    }
   },
   "id": "190f1ed950a6a14e"
  },
  {
   "metadata": {
    "ExecuteTime": {
     "end_time": "2024-12-10T14:36:07.023629Z",
     "start_time": "2024-12-10T14:36:06.984442Z"
    }
   },
   "cell_type": "code",
   "outputs": [
    {
     "data": {
      "text/plain": "         identity  percentage_of_toxic_sentences  \\\n0    شمولية-جنسيا                       0.685714   \n1       لا-ثنائية                       0.428571   \n2         صحراوية                       0.514286   \n3        أمازيغية                       0.657143   \n4   ثنائية-الجندر                       0.600000   \n..            ...                            ...   \n58         يزيدية                       0.542857   \n59          كفيفة                       0.600000   \n60          بوذية                       0.342857   \n61       أوروموية                       0.428571   \n62           صماء                       0.371429   \n\n    percentage_of_non_toxic_comment                        bias_type  \n0                          0.314286  Sexual_orientation_Marginalized  \n1                          0.571429  Sexual_orientation_Marginalized  \n2                          0.485714                Race_Marginalized  \n3                          0.342857                Race_Marginalized  \n4                          0.400000          Gender_Non_marginalized  \n..                              ...                              ...  \n58                         0.457143            Religion_Marginalized  \n59                         0.400000    Physical_ability_Marginalized  \n60                         0.657143            Religion_Marginalized  \n61                         0.571429                Race_Marginalized  \n62                         0.628571    Physical_ability_Marginalized  \n\n[63 rows x 4 columns]",
      "text/html": "<div>\n<style scoped>\n    .dataframe tbody tr th:only-of-type {\n        vertical-align: middle;\n    }\n\n    .dataframe tbody tr th {\n        vertical-align: top;\n    }\n\n    .dataframe thead th {\n        text-align: right;\n    }\n</style>\n<table border=\"1\" class=\"dataframe\">\n  <thead>\n    <tr style=\"text-align: right;\">\n      <th></th>\n      <th>identity</th>\n      <th>percentage_of_toxic_sentences</th>\n      <th>percentage_of_non_toxic_comment</th>\n      <th>bias_type</th>\n    </tr>\n  </thead>\n  <tbody>\n    <tr>\n      <th>0</th>\n      <td>شمولية-جنسيا</td>\n      <td>0.685714</td>\n      <td>0.314286</td>\n      <td>Sexual_orientation_Marginalized</td>\n    </tr>\n    <tr>\n      <th>1</th>\n      <td>لا-ثنائية</td>\n      <td>0.428571</td>\n      <td>0.571429</td>\n      <td>Sexual_orientation_Marginalized</td>\n    </tr>\n    <tr>\n      <th>2</th>\n      <td>صحراوية</td>\n      <td>0.514286</td>\n      <td>0.485714</td>\n      <td>Race_Marginalized</td>\n    </tr>\n    <tr>\n      <th>3</th>\n      <td>أمازيغية</td>\n      <td>0.657143</td>\n      <td>0.342857</td>\n      <td>Race_Marginalized</td>\n    </tr>\n    <tr>\n      <th>4</th>\n      <td>ثنائية-الجندر</td>\n      <td>0.600000</td>\n      <td>0.400000</td>\n      <td>Gender_Non_marginalized</td>\n    </tr>\n    <tr>\n      <th>...</th>\n      <td>...</td>\n      <td>...</td>\n      <td>...</td>\n      <td>...</td>\n    </tr>\n    <tr>\n      <th>58</th>\n      <td>يزيدية</td>\n      <td>0.542857</td>\n      <td>0.457143</td>\n      <td>Religion_Marginalized</td>\n    </tr>\n    <tr>\n      <th>59</th>\n      <td>كفيفة</td>\n      <td>0.600000</td>\n      <td>0.400000</td>\n      <td>Physical_ability_Marginalized</td>\n    </tr>\n    <tr>\n      <th>60</th>\n      <td>بوذية</td>\n      <td>0.342857</td>\n      <td>0.657143</td>\n      <td>Religion_Marginalized</td>\n    </tr>\n    <tr>\n      <th>61</th>\n      <td>أوروموية</td>\n      <td>0.428571</td>\n      <td>0.571429</td>\n      <td>Race_Marginalized</td>\n    </tr>\n    <tr>\n      <th>62</th>\n      <td>صماء</td>\n      <td>0.371429</td>\n      <td>0.628571</td>\n      <td>Physical_ability_Marginalized</td>\n    </tr>\n  </tbody>\n</table>\n<p>63 rows × 4 columns</p>\n</div>"
     },
     "execution_count": 62,
     "metadata": {},
     "output_type": "execute_result"
    }
   ],
   "execution_count": 62,
   "source": [
    "data_analysis_for_each_identity_df_arab_intersectional"
   ],
   "id": "e7079598ed6e629a"
  },
  {
   "cell_type": "code",
   "execution_count": 63,
   "outputs": [],
   "source": [
    "AraBART_Arabic_identities_NB = AraBART_results_NB[\"identity\"].unique().tolist()\n",
    "AraBART_data_analysis_for_each_identity_NB_df_arab = assemble_data_in_df (AraBART_results_NB, AraBART_Arabic_identities_NB)\n",
    "#AraBART_data_analysis_for_each_identity_masc_df_arab.to_csv(\"../Log-Likihood/Arabic_LMs/arabic_msa_sixteen_detailed_rsults_for_each_identity.csv\")"
   ],
   "metadata": {
    "collapsed": false,
    "ExecuteTime": {
     "end_time": "2024-12-10T14:36:07.106075Z",
     "start_time": "2024-12-10T14:36:06.986903Z"
    }
   },
   "id": "de6d72891d802c8d"
  },
  {
   "cell_type": "code",
   "execution_count": 64,
   "outputs": [],
   "source": [
    "AraBART_data_analysis_for_each_identity_NB_df_arab = AraBART_data_analysis_for_each_identity_NB_df_arab[~AraBART_data_analysis_for_each_identity_NB_df_arab[\"bias_type\"].isin([\"Social-Class_Marginalized\", \"Social-Class_Non_Marginalized\"])]"
   ],
   "metadata": {
    "collapsed": false,
    "ExecuteTime": {
     "end_time": "2024-12-10T14:36:07.106300Z",
     "start_time": "2024-12-10T14:36:07.049648Z"
    }
   },
   "id": "e0075de995b75ac9"
  },
  {
   "cell_type": "code",
   "execution_count": 65,
   "outputs": [
    {
     "data": {
      "text/plain": "                 identity  percentage_of_toxic_sentences  \\\n1         لا-ثنائي-الجندر                       0.428571   \n4                   مسيحي                       0.628571   \n7            متحول-جندريا                       0.428571   \n8                   شركسي                       0.657143   \n9   كويري-الهويه-الجندرية                       0.514286   \n..                    ...                            ...   \n88                  قرآني                       0.628571   \n90                   صوفي                       0.657143   \n91                  بربري                       0.685714   \n92             بدون-إعاقة                       0.571429   \n93                   معاق                       0.400000   \n\n    percentage_of_non_toxic_comment                          bias_type  \n1                          0.571429                Gender_Marginalized  \n4                          0.371429              Religion_Marginalized  \n7                          0.571429                Gender_Marginalized  \n8                          0.342857                  Race_Marginalized  \n9                          0.485714                Gender_Marginalized  \n..                              ...                                ...  \n88                         0.371429              Religion_Marginalized  \n90                         0.342857              Religion_Marginalized  \n91                         0.314286                  Race_Marginalized  \n92                         0.428571  Physical_ability_Non_Marginalized  \n93                         0.600000      Physical_ability_Marginalized  \n\n[63 rows x 4 columns]",
      "text/html": "<div>\n<style scoped>\n    .dataframe tbody tr th:only-of-type {\n        vertical-align: middle;\n    }\n\n    .dataframe tbody tr th {\n        vertical-align: top;\n    }\n\n    .dataframe thead th {\n        text-align: right;\n    }\n</style>\n<table border=\"1\" class=\"dataframe\">\n  <thead>\n    <tr style=\"text-align: right;\">\n      <th></th>\n      <th>identity</th>\n      <th>percentage_of_toxic_sentences</th>\n      <th>percentage_of_non_toxic_comment</th>\n      <th>bias_type</th>\n    </tr>\n  </thead>\n  <tbody>\n    <tr>\n      <th>1</th>\n      <td>لا-ثنائي-الجندر</td>\n      <td>0.428571</td>\n      <td>0.571429</td>\n      <td>Gender_Marginalized</td>\n    </tr>\n    <tr>\n      <th>4</th>\n      <td>مسيحي</td>\n      <td>0.628571</td>\n      <td>0.371429</td>\n      <td>Religion_Marginalized</td>\n    </tr>\n    <tr>\n      <th>7</th>\n      <td>متحول-جندريا</td>\n      <td>0.428571</td>\n      <td>0.571429</td>\n      <td>Gender_Marginalized</td>\n    </tr>\n    <tr>\n      <th>8</th>\n      <td>شركسي</td>\n      <td>0.657143</td>\n      <td>0.342857</td>\n      <td>Race_Marginalized</td>\n    </tr>\n    <tr>\n      <th>9</th>\n      <td>كويري-الهويه-الجندرية</td>\n      <td>0.514286</td>\n      <td>0.485714</td>\n      <td>Gender_Marginalized</td>\n    </tr>\n    <tr>\n      <th>...</th>\n      <td>...</td>\n      <td>...</td>\n      <td>...</td>\n      <td>...</td>\n    </tr>\n    <tr>\n      <th>88</th>\n      <td>قرآني</td>\n      <td>0.628571</td>\n      <td>0.371429</td>\n      <td>Religion_Marginalized</td>\n    </tr>\n    <tr>\n      <th>90</th>\n      <td>صوفي</td>\n      <td>0.657143</td>\n      <td>0.342857</td>\n      <td>Religion_Marginalized</td>\n    </tr>\n    <tr>\n      <th>91</th>\n      <td>بربري</td>\n      <td>0.685714</td>\n      <td>0.314286</td>\n      <td>Race_Marginalized</td>\n    </tr>\n    <tr>\n      <th>92</th>\n      <td>بدون-إعاقة</td>\n      <td>0.571429</td>\n      <td>0.428571</td>\n      <td>Physical_ability_Non_Marginalized</td>\n    </tr>\n    <tr>\n      <th>93</th>\n      <td>معاق</td>\n      <td>0.400000</td>\n      <td>0.600000</td>\n      <td>Physical_ability_Marginalized</td>\n    </tr>\n  </tbody>\n</table>\n<p>63 rows × 4 columns</p>\n</div>"
     },
     "execution_count": 65,
     "metadata": {},
     "output_type": "execute_result"
    }
   ],
   "source": [
    "AraBART_data_analysis_for_each_identity_NB_df_arab"
   ],
   "metadata": {
    "collapsed": false,
    "ExecuteTime": {
     "end_time": "2024-12-10T14:36:07.134133Z",
     "start_time": "2024-12-10T14:36:07.053804Z"
    }
   },
   "id": "a6719c8020887e91"
  },
  {
   "cell_type": "code",
   "execution_count": 66,
   "outputs": [],
   "source": [
    "import matplotlib.pyplot as plt"
   ],
   "metadata": {
    "collapsed": false,
    "ExecuteTime": {
     "end_time": "2024-12-10T14:36:07.149756Z",
     "start_time": "2024-12-10T14:36:07.056120Z"
    }
   },
   "id": "8e21dbccdeb5515b"
  },
  {
   "cell_type": "code",
   "execution_count": 67,
   "outputs": [
    {
     "data": {
      "text/plain": "<Axes: >"
     },
     "execution_count": 67,
     "metadata": {},
     "output_type": "execute_result"
    },
    {
     "data": {
      "text/plain": "<Figure size 640x480 with 1 Axes>",
      "image/png": "[encoded data removed]"
     },
     "metadata": {},
     "output_type": "display_data"
    }
   ],
   "source": [
    "data_analysis_for_each_identity_df_arab_intersectional.percentage_of_toxic_sentences.hist()"
   ],
   "metadata": {
    "collapsed": false,
    "ExecuteTime": {
     "end_time": "2024-12-10T14:36:07.313180Z",
     "start_time": "2024-12-10T14:36:07.065244Z"
    }
   },
   "id": "29527a832f52a32c"
  },
  {
   "cell_type": "code",
   "execution_count": 68,
   "outputs": [
    {
     "data": {
      "text/plain": "0.4997732426303855"
     },
     "execution_count": 68,
     "metadata": {},
     "output_type": "execute_result"
    }
   ],
   "source": [
    "data_analysis_for_each_identity_df_arab_intersectional.percentage_of_toxic_sentences.mean()"
   ],
   "metadata": {
    "collapsed": false,
    "ExecuteTime": {
     "end_time": "2024-12-10T14:36:07.313308Z",
     "start_time": "2024-12-10T14:36:07.139707Z"
    }
   },
   "id": "358c4006a7c0bc22"
  },
  {
   "cell_type": "code",
   "execution_count": 69,
   "outputs": [
    {
     "data": {
      "text/plain": "<Axes: >"
     },
     "execution_count": 69,
     "metadata": {},
     "output_type": "execute_result"
    },
    {
     "data": {
      "text/plain": "<Figure size 640x480 with 1 Axes>",
      "image/png": "[encoded data removed]"
     },
     "metadata": {},
     "output_type": "display_data"
    }
   ],
   "source": [
    "(AraBART_data_analysis_for_each_identity_masc_df_arab.percentage_of_toxic_sentences.hist())"
   ],
   "metadata": {
    "collapsed": false,
    "ExecuteTime": {
     "end_time": "2024-12-10T14:36:07.364560Z",
     "start_time": "2024-12-10T14:36:07.152797Z"
    }
   },
   "id": "e14131e30902fa2f"
  },
  {
   "cell_type": "code",
   "execution_count": 70,
   "outputs": [
    {
     "data": {
      "text/plain": "0.472562358276644"
     },
     "execution_count": 70,
     "metadata": {},
     "output_type": "execute_result"
    }
   ],
   "source": [
    "AraBART_data_analysis_for_each_identity_masc_df_arab.percentage_of_toxic_sentences.mean()"
   ],
   "metadata": {
    "collapsed": false,
    "ExecuteTime": {
     "end_time": "2024-12-10T14:36:07.370946Z",
     "start_time": "2024-12-10T14:36:07.243212Z"
    }
   },
   "id": "6093a64a99ab4b20"
  },
  {
   "cell_type": "code",
   "execution_count": 71,
   "outputs": [
    {
     "data": {
      "text/plain": "<Axes: >"
     },
     "execution_count": 71,
     "metadata": {},
     "output_type": "execute_result"
    },
    {
     "data": {
      "text/plain": "<Figure size 640x480 with 1 Axes>",
      "image/png": "[encoded data removed]"
     },
     "metadata": {},
     "output_type": "display_data"
    }
   ],
   "source": [
    "AraBART_data_analysis_for_each_identity_NB_df_arab.percentage_of_toxic_sentences.hist()"
   ],
   "metadata": {
    "collapsed": false,
    "ExecuteTime": {
     "end_time": "2024-12-10T14:36:07.426631Z",
     "start_time": "2024-12-10T14:36:07.249401Z"
    }
   },
   "id": "f9e31efaf03db1f3"
  },
  {
   "cell_type": "code",
   "execution_count": 72,
   "outputs": [
    {
     "data": {
      "text/plain": "0.5306122448979591"
     },
     "execution_count": 72,
     "metadata": {},
     "output_type": "execute_result"
    }
   ],
   "source": [
    "AraBART_data_analysis_for_each_identity_NB_df_arab.percentage_of_toxic_sentences.mean()"
   ],
   "metadata": {
    "collapsed": false,
    "ExecuteTime": {
     "end_time": "2024-12-10T14:36:07.426783Z",
     "start_time": "2024-12-10T14:36:07.327166Z"
    }
   },
   "id": "2ff0e94e2a59920"
  },
  {
   "cell_type": "code",
   "execution_count": 72,
   "outputs": [],
   "source": [],
   "metadata": {
    "collapsed": false,
    "ExecuteTime": {
     "end_time": "2024-12-10T14:36:07.426814Z",
     "start_time": "2024-12-10T14:36:07.331936Z"
    }
   },
   "id": "5896a1c562a7faee"
  }
 ],
 "metadata": {
  "kernelspec": {
   "display_name": "Python 3",
   "language": "python",
   "name": "python3"
  },
  "language_info": {
   "codemirror_mode": {
    "name": "ipython",
    "version": 2
   },
   "file_extension": ".py",
   "mimetype": "text/x-python",
   "name": "python",
   "nbconvert_exporter": "python",
   "pygments_lexer": "ipython2",
   "version": "2.7.6"
  }
 },
 "nbformat": 4,
 "nbformat_minor": 5
}
