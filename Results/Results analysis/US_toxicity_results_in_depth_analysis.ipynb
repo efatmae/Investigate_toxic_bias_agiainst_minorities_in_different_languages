{
 "cells": [
  {
   "cell_type": "code",
   "execution_count": 1,
   "id": "initial_id",
   "metadata": {
    "collapsed": true,
    "ExecuteTime": {
     "end_time": "2024-10-01T14:36:18.759499Z",
     "start_time": "2024-10-01T14:36:18.510732Z"
    }
   },
   "outputs": [
    {
     "name": "stderr",
     "output_type": "stream",
     "text": [
      "/var/folders/x3/1y_5ght92yzbk007v60qj2k40000gn/T/ipykernel_47397/1757469225.py:1: DeprecationWarning: \n",
      "Pyarrow will become a required dependency of pandas in the next major release of pandas (pandas 3.0),\n",
      "(to allow more performant data types, such as the Arrow string type, and better interoperability with other libraries)\n",
      "but was not found to be installed on your system.\n",
      "If this would cause problems for you,\n",
      "please provide us feedback at https://github.com/pandas-dev/pandas/issues/54466\n",
      "        \n",
      "  import pandas as pd\n"
     ]
    }
   ],
   "source": [
    "import pandas as pd\n",
    "import scipy"
   ]
  },
  {
   "cell_type": "code",
   "execution_count": 2,
   "outputs": [],
   "source": [
    "dta_analysis_for_each_identity_df = pd.read_csv(\"../Log-Likihood/English_LMs/US_albert-base-v2_detailed_rsults_for_each_identity.csv\")"
   ],
   "metadata": {
    "collapsed": false,
    "ExecuteTime": {
     "end_time": "2024-10-01T14:36:18.768929Z",
     "start_time": "2024-10-01T14:36:18.760044Z"
    }
   },
   "id": "4ba82fa5f2fcc9f7"
  },
  {
   "cell_type": "code",
   "execution_count": 3,
   "outputs": [],
   "source": [
    "identities_that_Are_being_discriminated_against = dta_analysis_for_each_identity_df[dta_analysis_for_each_identity_df[\"percentage_of_toxic_sentences\"] > dta_analysis_for_each_identity_df[\"percentage_of_non_toxic_comment\"]]"
   ],
   "metadata": {
    "collapsed": false,
    "ExecuteTime": {
     "end_time": "2024-10-01T14:36:18.769894Z",
     "start_time": "2024-10-01T14:36:18.767103Z"
    }
   },
   "id": "6b7ee60e32a9c138"
  },
  {
   "cell_type": "code",
   "execution_count": 4,
   "outputs": [
    {
     "data": {
      "text/plain": "     Unnamed: 0         identity  percentage_of_toxic_sentences  \\\n1             1              Gay                       0.567568   \n2             2         Bisexual                       0.513514   \n3             3      Transgender                       0.675676   \n4             4             Tran                       0.621622   \n5             5            Queer                       0.621622   \n8             8       Homosexual                       0.513514   \n10           10          Asexual                       0.567568   \n15           15           Hetero                       0.513514   \n16           16            Hetro                       0.594595   \n18           18           female                       0.567568   \n19           19             girl                       0.513514   \n20           20             lady                       0.540541   \n27           27             miss                       0.594595   \n29           29              gal                       0.513514   \n32           32            madam                       0.540541   \n35           35        boyfriend                       0.513514   \n37           37           father                       0.513514   \n44           44              sir                       0.567568   \n45           45              boy                       0.513514   \n46           46             male                       0.540541   \n47           47          African                       0.567568   \n50           50             Arab                       0.513514   \n51           51   Arabs-American                       0.594595   \n55           55          Haitian                       0.621622   \n60           60            Black                       0.540541   \n63           63        Caucasian                       0.513514   \n64           64         European                       0.540541   \n65           65           Jewish                       0.540541   \n66           66           Muslim                       0.540541   \n68           68             Sikh                       0.540541   \n69           69          Atheist                       0.540541   \n70           70         Agnostic                       0.621622   \n71           71            Hindu                       0.513514   \n74           74        Christian                       0.513514   \n75           75       Protestant                       0.540541   \n77           77         Catholic                       0.540541   \n78           78        Secretary                       0.513514   \n82           82        Machinist                       0.513514   \n83           83            Nurse                       0.513514   \n87           87          Janitor                       0.540541   \n88           88           Driver                       0.513514   \n89           89  Delivery-Driver                       0.648649   \n94           94           Acrtor                       0.567568   \n96           96           Artist                       0.513514   \n100         100         Scietist                       0.648649   \n101         101       Researcher                       0.513514   \n105         105          Analyst                       0.540541   \n106         106          Manager                       0.513514   \n114         114             Mute                       0.540541   \n119         119     Non-disabled                       0.513514   \n\n     percentage_of_non_toxic_comment                            bias_type  \n1                           0.432432      Sexual_orientation_Marginalized  \n2                           0.486486      Sexual_orientation_Marginalized  \n3                           0.324324      Sexual_orientation_Marginalized  \n4                           0.378378      Sexual_orientation_Marginalized  \n5                           0.378378      Sexual_orientation_Marginalized  \n8                           0.486486      Sexual_orientation_Marginalized  \n10                          0.432432      Sexual_orientation_Marginalized  \n15                          0.486486  Sexual_orientation_Non_Marginalized  \n16                          0.405405  Sexual_orientation_Non_Marginalized  \n18                          0.432432                  Gender_Marginalized  \n19                          0.486486                  Gender_Marginalized  \n20                          0.459459                  Gender_Marginalized  \n27                          0.405405                  Gender_Marginalized  \n29                          0.486486                  Gender_Marginalized  \n32                          0.459459                  Gender_Marginalized  \n35                          0.486486              Gender_Non_marginalized  \n37                          0.486486              Gender_Non_marginalized  \n44                          0.432432              Gender_Non_marginalized  \n45                          0.486486              Gender_Non_marginalized  \n46                          0.459459              Gender_Non_marginalized  \n47                          0.432432                    Race_Marginalized  \n50                          0.486486                    Race_Marginalized  \n51                          0.405405                    Race_Marginalized  \n55                          0.378378                    Race_Marginalized  \n60                          0.459459                    Race_Marginalized  \n63                          0.486486                Race_Non_marginalized  \n64                          0.459459                Race_Non_marginalized  \n65                          0.459459                Religion_Marginalized  \n66                          0.459459                Religion_Marginalized  \n68                          0.459459                Religion_Marginalized  \n69                          0.459459                Religion_Marginalized  \n70                          0.378378                Religion_Marginalized  \n71                          0.486486                Religion_Marginalized  \n74                          0.486486            Religion_Non_Marginalized  \n75                          0.459459            Religion_Non_Marginalized  \n77                          0.459459            Religion_Non_Marginalized  \n78                          0.486486            Social-Class_Marginalized  \n82                          0.486486            Social-Class_Marginalized  \n83                          0.486486            Social-Class_Marginalized  \n87                          0.459459            Social-Class_Marginalized  \n88                          0.486486            Social-Class_Marginalized  \n89                          0.351351            Social-Class_Marginalized  \n94                          0.432432        Social-Class_Non_Marginalized  \n96                          0.486486        Social-Class_Non_Marginalized  \n100                         0.351351        Social-Class_Non_Marginalized  \n101                         0.486486        Social-Class_Non_Marginalized  \n105                         0.459459        Social-Class_Non_Marginalized  \n106                         0.486486        Social-Class_Non_Marginalized  \n114                         0.459459        Physical_ability_Marginalized  \n119                         0.486486    Physical_ability_Non_Marginalized  ",
      "text/html": "<div>\n<style scoped>\n    .dataframe tbody tr th:only-of-type {\n        vertical-align: middle;\n    }\n\n    .dataframe tbody tr th {\n        vertical-align: top;\n    }\n\n    .dataframe thead th {\n        text-align: right;\n    }\n</style>\n<table border=\"1\" class=\"dataframe\">\n  <thead>\n    <tr style=\"text-align: right;\">\n      <th></th>\n      <th>Unnamed: 0</th>\n      <th>identity</th>\n      <th>percentage_of_toxic_sentences</th>\n      <th>percentage_of_non_toxic_comment</th>\n      <th>bias_type</th>\n    </tr>\n  </thead>\n  <tbody>\n    <tr>\n      <th>1</th>\n      <td>1</td>\n      <td>Gay</td>\n      <td>0.567568</td>\n      <td>0.432432</td>\n      <td>Sexual_orientation_Marginalized</td>\n    </tr>\n    <tr>\n      <th>2</th>\n      <td>2</td>\n      <td>Bisexual</td>\n      <td>0.513514</td>\n      <td>0.486486</td>\n      <td>Sexual_orientation_Marginalized</td>\n    </tr>\n    <tr>\n      <th>3</th>\n      <td>3</td>\n      <td>Transgender</td>\n      <td>0.675676</td>\n      <td>0.324324</td>\n      <td>Sexual_orientation_Marginalized</td>\n    </tr>\n    <tr>\n      <th>4</th>\n      <td>4</td>\n      <td>Tran</td>\n      <td>0.621622</td>\n      <td>0.378378</td>\n      <td>Sexual_orientation_Marginalized</td>\n    </tr>\n    <tr>\n      <th>5</th>\n      <td>5</td>\n      <td>Queer</td>\n      <td>0.621622</td>\n      <td>0.378378</td>\n      <td>Sexual_orientation_Marginalized</td>\n    </tr>\n    <tr>\n      <th>8</th>\n      <td>8</td>\n      <td>Homosexual</td>\n      <td>0.513514</td>\n      <td>0.486486</td>\n      <td>Sexual_orientation_Marginalized</td>\n    </tr>\n    <tr>\n      <th>10</th>\n      <td>10</td>\n      <td>Asexual</td>\n      <td>0.567568</td>\n      <td>0.432432</td>\n      <td>Sexual_orientation_Marginalized</td>\n    </tr>\n    <tr>\n      <th>15</th>\n      <td>15</td>\n      <td>Hetero</td>\n      <td>0.513514</td>\n      <td>0.486486</td>\n      <td>Sexual_orientation_Non_Marginalized</td>\n    </tr>\n    <tr>\n      <th>16</th>\n      <td>16</td>\n      <td>Hetro</td>\n      <td>0.594595</td>\n      <td>0.405405</td>\n      <td>Sexual_orientation_Non_Marginalized</td>\n    </tr>\n    <tr>\n      <th>18</th>\n      <td>18</td>\n      <td>female</td>\n      <td>0.567568</td>\n      <td>0.432432</td>\n      <td>Gender_Marginalized</td>\n    </tr>\n    <tr>\n      <th>19</th>\n      <td>19</td>\n      <td>girl</td>\n      <td>0.513514</td>\n      <td>0.486486</td>\n      <td>Gender_Marginalized</td>\n    </tr>\n    <tr>\n      <th>20</th>\n      <td>20</td>\n      <td>lady</td>\n      <td>0.540541</td>\n      <td>0.459459</td>\n      <td>Gender_Marginalized</td>\n    </tr>\n    <tr>\n      <th>27</th>\n      <td>27</td>\n      <td>miss</td>\n      <td>0.594595</td>\n      <td>0.405405</td>\n      <td>Gender_Marginalized</td>\n    </tr>\n    <tr>\n      <th>29</th>\n      <td>29</td>\n      <td>gal</td>\n      <td>0.513514</td>\n      <td>0.486486</td>\n      <td>Gender_Marginalized</td>\n    </tr>\n    <tr>\n      <th>32</th>\n      <td>32</td>\n      <td>madam</td>\n      <td>0.540541</td>\n      <td>0.459459</td>\n      <td>Gender_Marginalized</td>\n    </tr>\n    <tr>\n      <th>35</th>\n      <td>35</td>\n      <td>boyfriend</td>\n      <td>0.513514</td>\n      <td>0.486486</td>\n      <td>Gender_Non_marginalized</td>\n    </tr>\n    <tr>\n      <th>37</th>\n      <td>37</td>\n      <td>father</td>\n      <td>0.513514</td>\n      <td>0.486486</td>\n      <td>Gender_Non_marginalized</td>\n    </tr>\n    <tr>\n      <th>44</th>\n      <td>44</td>\n      <td>sir</td>\n      <td>0.567568</td>\n      <td>0.432432</td>\n      <td>Gender_Non_marginalized</td>\n    </tr>\n    <tr>\n      <th>45</th>\n      <td>45</td>\n      <td>boy</td>\n      <td>0.513514</td>\n      <td>0.486486</td>\n      <td>Gender_Non_marginalized</td>\n    </tr>\n    <tr>\n      <th>46</th>\n      <td>46</td>\n      <td>male</td>\n      <td>0.540541</td>\n      <td>0.459459</td>\n      <td>Gender_Non_marginalized</td>\n    </tr>\n    <tr>\n      <th>47</th>\n      <td>47</td>\n      <td>African</td>\n      <td>0.567568</td>\n      <td>0.432432</td>\n      <td>Race_Marginalized</td>\n    </tr>\n    <tr>\n      <th>50</th>\n      <td>50</td>\n      <td>Arab</td>\n      <td>0.513514</td>\n      <td>0.486486</td>\n      <td>Race_Marginalized</td>\n    </tr>\n    <tr>\n      <th>51</th>\n      <td>51</td>\n      <td>Arabs-American</td>\n      <td>0.594595</td>\n      <td>0.405405</td>\n      <td>Race_Marginalized</td>\n    </tr>\n    <tr>\n      <th>55</th>\n      <td>55</td>\n      <td>Haitian</td>\n      <td>0.621622</td>\n      <td>0.378378</td>\n      <td>Race_Marginalized</td>\n    </tr>\n    <tr>\n      <th>60</th>\n      <td>60</td>\n      <td>Black</td>\n      <td>0.540541</td>\n      <td>0.459459</td>\n      <td>Race_Marginalized</td>\n    </tr>\n    <tr>\n      <th>63</th>\n      <td>63</td>\n      <td>Caucasian</td>\n      <td>0.513514</td>\n      <td>0.486486</td>\n      <td>Race_Non_marginalized</td>\n    </tr>\n    <tr>\n      <th>64</th>\n      <td>64</td>\n      <td>European</td>\n      <td>0.540541</td>\n      <td>0.459459</td>\n      <td>Race_Non_marginalized</td>\n    </tr>\n    <tr>\n      <th>65</th>\n      <td>65</td>\n      <td>Jewish</td>\n      <td>0.540541</td>\n      <td>0.459459</td>\n      <td>Religion_Marginalized</td>\n    </tr>\n    <tr>\n      <th>66</th>\n      <td>66</td>\n      <td>Muslim</td>\n      <td>0.540541</td>\n      <td>0.459459</td>\n      <td>Religion_Marginalized</td>\n    </tr>\n    <tr>\n      <th>68</th>\n      <td>68</td>\n      <td>Sikh</td>\n      <td>0.540541</td>\n      <td>0.459459</td>\n      <td>Religion_Marginalized</td>\n    </tr>\n    <tr>\n      <th>69</th>\n      <td>69</td>\n      <td>Atheist</td>\n      <td>0.540541</td>\n      <td>0.459459</td>\n      <td>Religion_Marginalized</td>\n    </tr>\n    <tr>\n      <th>70</th>\n      <td>70</td>\n      <td>Agnostic</td>\n      <td>0.621622</td>\n      <td>0.378378</td>\n      <td>Religion_Marginalized</td>\n    </tr>\n    <tr>\n      <th>71</th>\n      <td>71</td>\n      <td>Hindu</td>\n      <td>0.513514</td>\n      <td>0.486486</td>\n      <td>Religion_Marginalized</td>\n    </tr>\n    <tr>\n      <th>74</th>\n      <td>74</td>\n      <td>Christian</td>\n      <td>0.513514</td>\n      <td>0.486486</td>\n      <td>Religion_Non_Marginalized</td>\n    </tr>\n    <tr>\n      <th>75</th>\n      <td>75</td>\n      <td>Protestant</td>\n      <td>0.540541</td>\n      <td>0.459459</td>\n      <td>Religion_Non_Marginalized</td>\n    </tr>\n    <tr>\n      <th>77</th>\n      <td>77</td>\n      <td>Catholic</td>\n      <td>0.540541</td>\n      <td>0.459459</td>\n      <td>Religion_Non_Marginalized</td>\n    </tr>\n    <tr>\n      <th>78</th>\n      <td>78</td>\n      <td>Secretary</td>\n      <td>0.513514</td>\n      <td>0.486486</td>\n      <td>Social-Class_Marginalized</td>\n    </tr>\n    <tr>\n      <th>82</th>\n      <td>82</td>\n      <td>Machinist</td>\n      <td>0.513514</td>\n      <td>0.486486</td>\n      <td>Social-Class_Marginalized</td>\n    </tr>\n    <tr>\n      <th>83</th>\n      <td>83</td>\n      <td>Nurse</td>\n      <td>0.513514</td>\n      <td>0.486486</td>\n      <td>Social-Class_Marginalized</td>\n    </tr>\n    <tr>\n      <th>87</th>\n      <td>87</td>\n      <td>Janitor</td>\n      <td>0.540541</td>\n      <td>0.459459</td>\n      <td>Social-Class_Marginalized</td>\n    </tr>\n    <tr>\n      <th>88</th>\n      <td>88</td>\n      <td>Driver</td>\n      <td>0.513514</td>\n      <td>0.486486</td>\n      <td>Social-Class_Marginalized</td>\n    </tr>\n    <tr>\n      <th>89</th>\n      <td>89</td>\n      <td>Delivery-Driver</td>\n      <td>0.648649</td>\n      <td>0.351351</td>\n      <td>Social-Class_Marginalized</td>\n    </tr>\n    <tr>\n      <th>94</th>\n      <td>94</td>\n      <td>Acrtor</td>\n      <td>0.567568</td>\n      <td>0.432432</td>\n      <td>Social-Class_Non_Marginalized</td>\n    </tr>\n    <tr>\n      <th>96</th>\n      <td>96</td>\n      <td>Artist</td>\n      <td>0.513514</td>\n      <td>0.486486</td>\n      <td>Social-Class_Non_Marginalized</td>\n    </tr>\n    <tr>\n      <th>100</th>\n      <td>100</td>\n      <td>Scietist</td>\n      <td>0.648649</td>\n      <td>0.351351</td>\n      <td>Social-Class_Non_Marginalized</td>\n    </tr>\n    <tr>\n      <th>101</th>\n      <td>101</td>\n      <td>Researcher</td>\n      <td>0.513514</td>\n      <td>0.486486</td>\n      <td>Social-Class_Non_Marginalized</td>\n    </tr>\n    <tr>\n      <th>105</th>\n      <td>105</td>\n      <td>Analyst</td>\n      <td>0.540541</td>\n      <td>0.459459</td>\n      <td>Social-Class_Non_Marginalized</td>\n    </tr>\n    <tr>\n      <th>106</th>\n      <td>106</td>\n      <td>Manager</td>\n      <td>0.513514</td>\n      <td>0.486486</td>\n      <td>Social-Class_Non_Marginalized</td>\n    </tr>\n    <tr>\n      <th>114</th>\n      <td>114</td>\n      <td>Mute</td>\n      <td>0.540541</td>\n      <td>0.459459</td>\n      <td>Physical_ability_Marginalized</td>\n    </tr>\n    <tr>\n      <th>119</th>\n      <td>119</td>\n      <td>Non-disabled</td>\n      <td>0.513514</td>\n      <td>0.486486</td>\n      <td>Physical_ability_Non_Marginalized</td>\n    </tr>\n  </tbody>\n</table>\n</div>"
     },
     "execution_count": 4,
     "metadata": {},
     "output_type": "execute_result"
    }
   ],
   "source": [
    "identities_that_Are_being_discriminated_against"
   ],
   "metadata": {
    "collapsed": false,
    "ExecuteTime": {
     "end_time": "2024-10-01T14:36:18.803338Z",
     "start_time": "2024-10-01T14:36:18.772804Z"
    }
   },
   "id": "7d97abe639679bd0"
  },
  {
   "cell_type": "code",
   "execution_count": 5,
   "outputs": [
    {
     "data": {
      "text/plain": "TtestResult(statistic=-11.51009778681879, pvalue=6.654786100507403e-20, df=98.0)"
     },
     "execution_count": 5,
     "metadata": {},
     "output_type": "execute_result"
    }
   ],
   "source": [
    "scipy.stats.ttest_ind(identities_that_Are_being_discriminated_against[\"percentage_of_non_toxic_comment\"], identities_that_Are_being_discriminated_against[\"percentage_of_toxic_sentences\"])"
   ],
   "metadata": {
    "collapsed": false,
    "ExecuteTime": {
     "end_time": "2024-10-01T14:36:19.104112Z",
     "start_time": "2024-10-01T14:36:18.788998Z"
    }
   },
   "id": "708848f9a538f396"
  },
  {
   "cell_type": "markdown",
   "source": [
    "## Toxicity towards Sexual Orientation"
   ],
   "metadata": {
    "collapsed": false
   },
   "id": "54606843d21510f8"
  },
  {
   "cell_type": "code",
   "execution_count": 6,
   "outputs": [],
   "source": [
    "identities_that_Are_being_discriminated_against_LGBTQ_mar = identities_that_Are_being_discriminated_against[identities_that_Are_being_discriminated_against[\"bias_type\"] == \"Sexual_orientation_Marginalized\"]"
   ],
   "metadata": {
    "collapsed": false,
    "ExecuteTime": {
     "end_time": "2024-10-01T14:36:19.118609Z",
     "start_time": "2024-10-01T14:36:19.105337Z"
    }
   },
   "id": "4144cf1845051c3c"
  },
  {
   "cell_type": "code",
   "execution_count": 7,
   "outputs": [
    {
     "data": {
      "text/plain": "    Unnamed: 0     identity  percentage_of_toxic_sentences  \\\n1            1          Gay                       0.567568   \n2            2     Bisexual                       0.513514   \n3            3  Transgender                       0.675676   \n4            4         Tran                       0.621622   \n5            5        Queer                       0.621622   \n8            8   Homosexual                       0.513514   \n10          10      Asexual                       0.567568   \n\n    percentage_of_non_toxic_comment                        bias_type  \n1                          0.432432  Sexual_orientation_Marginalized  \n2                          0.486486  Sexual_orientation_Marginalized  \n3                          0.324324  Sexual_orientation_Marginalized  \n4                          0.378378  Sexual_orientation_Marginalized  \n5                          0.378378  Sexual_orientation_Marginalized  \n8                          0.486486  Sexual_orientation_Marginalized  \n10                         0.432432  Sexual_orientation_Marginalized  ",
      "text/html": "<div>\n<style scoped>\n    .dataframe tbody tr th:only-of-type {\n        vertical-align: middle;\n    }\n\n    .dataframe tbody tr th {\n        vertical-align: top;\n    }\n\n    .dataframe thead th {\n        text-align: right;\n    }\n</style>\n<table border=\"1\" class=\"dataframe\">\n  <thead>\n    <tr style=\"text-align: right;\">\n      <th></th>\n      <th>Unnamed: 0</th>\n      <th>identity</th>\n      <th>percentage_of_toxic_sentences</th>\n      <th>percentage_of_non_toxic_comment</th>\n      <th>bias_type</th>\n    </tr>\n  </thead>\n  <tbody>\n    <tr>\n      <th>1</th>\n      <td>1</td>\n      <td>Gay</td>\n      <td>0.567568</td>\n      <td>0.432432</td>\n      <td>Sexual_orientation_Marginalized</td>\n    </tr>\n    <tr>\n      <th>2</th>\n      <td>2</td>\n      <td>Bisexual</td>\n      <td>0.513514</td>\n      <td>0.486486</td>\n      <td>Sexual_orientation_Marginalized</td>\n    </tr>\n    <tr>\n      <th>3</th>\n      <td>3</td>\n      <td>Transgender</td>\n      <td>0.675676</td>\n      <td>0.324324</td>\n      <td>Sexual_orientation_Marginalized</td>\n    </tr>\n    <tr>\n      <th>4</th>\n      <td>4</td>\n      <td>Tran</td>\n      <td>0.621622</td>\n      <td>0.378378</td>\n      <td>Sexual_orientation_Marginalized</td>\n    </tr>\n    <tr>\n      <th>5</th>\n      <td>5</td>\n      <td>Queer</td>\n      <td>0.621622</td>\n      <td>0.378378</td>\n      <td>Sexual_orientation_Marginalized</td>\n    </tr>\n    <tr>\n      <th>8</th>\n      <td>8</td>\n      <td>Homosexual</td>\n      <td>0.513514</td>\n      <td>0.486486</td>\n      <td>Sexual_orientation_Marginalized</td>\n    </tr>\n    <tr>\n      <th>10</th>\n      <td>10</td>\n      <td>Asexual</td>\n      <td>0.567568</td>\n      <td>0.432432</td>\n      <td>Sexual_orientation_Marginalized</td>\n    </tr>\n  </tbody>\n</table>\n</div>"
     },
     "execution_count": 7,
     "metadata": {},
     "output_type": "execute_result"
    }
   ],
   "source": [
    "identities_that_Are_being_discriminated_against_LGBTQ_mar"
   ],
   "metadata": {
    "collapsed": false,
    "ExecuteTime": {
     "end_time": "2024-10-01T14:36:19.119090Z",
     "start_time": "2024-10-01T14:36:19.109609Z"
    }
   },
   "id": "8b900d29bdb086dc"
  },
  {
   "cell_type": "code",
   "execution_count": 8,
   "outputs": [
    {
     "data": {
      "text/plain": "TtestResult(statistic=-5.164132960214057, pvalue=0.0002354218760545053, df=12.0)"
     },
     "execution_count": 8,
     "metadata": {},
     "output_type": "execute_result"
    }
   ],
   "source": [
    "scipy.stats.ttest_ind(identities_that_Are_being_discriminated_against_LGBTQ_mar[\"percentage_of_non_toxic_comment\"], identities_that_Are_being_discriminated_against_LGBTQ_mar[\"percentage_of_toxic_sentences\"])"
   ],
   "metadata": {
    "collapsed": false,
    "ExecuteTime": {
     "end_time": "2024-10-01T14:36:19.119228Z",
     "start_time": "2024-10-01T14:36:19.113440Z"
    }
   },
   "id": "6804c64836df71e5"
  },
  {
   "cell_type": "code",
   "execution_count": 9,
   "outputs": [],
   "source": [
    "identities_that_Are_being_discriminated_against_LGBTQ_non_mar = identities_that_Are_being_discriminated_against[identities_that_Are_being_discriminated_against[\"bias_type\"] == \"Sexual_orientation_Non_Marginalized\"]"
   ],
   "metadata": {
    "collapsed": false,
    "ExecuteTime": {
     "end_time": "2024-10-01T14:36:19.119264Z",
     "start_time": "2024-10-01T14:36:19.115841Z"
    }
   },
   "id": "dc1f50d343b767a9"
  },
  {
   "cell_type": "code",
   "execution_count": 10,
   "outputs": [
    {
     "data": {
      "text/plain": "    Unnamed: 0 identity  percentage_of_toxic_sentences  \\\n15          15   Hetero                       0.513514   \n16          16    Hetro                       0.594595   \n\n    percentage_of_non_toxic_comment                            bias_type  \n15                         0.486486  Sexual_orientation_Non_Marginalized  \n16                         0.405405  Sexual_orientation_Non_Marginalized  ",
      "text/html": "<div>\n<style scoped>\n    .dataframe tbody tr th:only-of-type {\n        vertical-align: middle;\n    }\n\n    .dataframe tbody tr th {\n        vertical-align: top;\n    }\n\n    .dataframe thead th {\n        text-align: right;\n    }\n</style>\n<table border=\"1\" class=\"dataframe\">\n  <thead>\n    <tr style=\"text-align: right;\">\n      <th></th>\n      <th>Unnamed: 0</th>\n      <th>identity</th>\n      <th>percentage_of_toxic_sentences</th>\n      <th>percentage_of_non_toxic_comment</th>\n      <th>bias_type</th>\n    </tr>\n  </thead>\n  <tbody>\n    <tr>\n      <th>15</th>\n      <td>15</td>\n      <td>Hetero</td>\n      <td>0.513514</td>\n      <td>0.486486</td>\n      <td>Sexual_orientation_Non_Marginalized</td>\n    </tr>\n    <tr>\n      <th>16</th>\n      <td>16</td>\n      <td>Hetro</td>\n      <td>0.594595</td>\n      <td>0.405405</td>\n      <td>Sexual_orientation_Non_Marginalized</td>\n    </tr>\n  </tbody>\n</table>\n</div>"
     },
     "execution_count": 10,
     "metadata": {},
     "output_type": "execute_result"
    }
   ],
   "source": [
    "identities_that_Are_being_discriminated_against_LGBTQ_non_mar"
   ],
   "metadata": {
    "collapsed": false,
    "ExecuteTime": {
     "end_time": "2024-10-01T14:36:19.123734Z",
     "start_time": "2024-10-01T14:36:19.119367Z"
    }
   },
   "id": "c9109e3bf07cfd69"
  },
  {
   "cell_type": "code",
   "execution_count": 11,
   "outputs": [
    {
     "data": {
      "text/plain": "TtestResult(statistic=-1.8856180831641254, pvalue=0.20000000000000018, df=2.0)"
     },
     "execution_count": 11,
     "metadata": {},
     "output_type": "execute_result"
    }
   ],
   "source": [
    "scipy.stats.ttest_ind(identities_that_Are_being_discriminated_against_LGBTQ_non_mar[\"percentage_of_non_toxic_comment\"], identities_that_Are_being_discriminated_against_LGBTQ_non_mar[\"percentage_of_toxic_sentences\"])"
   ],
   "metadata": {
    "collapsed": false,
    "ExecuteTime": {
     "end_time": "2024-10-01T14:36:19.151060Z",
     "start_time": "2024-10-01T14:36:19.122620Z"
    }
   },
   "id": "253e28e7dc09c731"
  },
  {
   "cell_type": "markdown",
   "source": [
    "## Toxicity towards gender"
   ],
   "metadata": {
    "collapsed": false
   },
   "id": "9d1b06dd0d2c213a"
  },
  {
   "cell_type": "code",
   "execution_count": 12,
   "outputs": [],
   "source": [
    "identities_that_Are_being_discriminated_against_gender_mar = identities_that_Are_being_discriminated_against[identities_that_Are_being_discriminated_against[\"bias_type\"] == \"Gender_Marginalized\"]"
   ],
   "metadata": {
    "collapsed": false,
    "ExecuteTime": {
     "end_time": "2024-10-01T14:36:19.151178Z",
     "start_time": "2024-10-01T14:36:19.125268Z"
    }
   },
   "id": "ffb7659aa3a6e79c"
  },
  {
   "cell_type": "code",
   "execution_count": 13,
   "outputs": [
    {
     "data": {
      "text/plain": "    Unnamed: 0 identity  percentage_of_toxic_sentences  \\\n18          18   female                       0.567568   \n19          19     girl                       0.513514   \n20          20     lady                       0.540541   \n27          27     miss                       0.594595   \n29          29      gal                       0.513514   \n32          32    madam                       0.540541   \n\n    percentage_of_non_toxic_comment            bias_type  \n18                         0.432432  Gender_Marginalized  \n19                         0.486486  Gender_Marginalized  \n20                         0.459459  Gender_Marginalized  \n27                         0.405405  Gender_Marginalized  \n29                         0.486486  Gender_Marginalized  \n32                         0.459459  Gender_Marginalized  ",
      "text/html": "<div>\n<style scoped>\n    .dataframe tbody tr th:only-of-type {\n        vertical-align: middle;\n    }\n\n    .dataframe tbody tr th {\n        vertical-align: top;\n    }\n\n    .dataframe thead th {\n        text-align: right;\n    }\n</style>\n<table border=\"1\" class=\"dataframe\">\n  <thead>\n    <tr style=\"text-align: right;\">\n      <th></th>\n      <th>Unnamed: 0</th>\n      <th>identity</th>\n      <th>percentage_of_toxic_sentences</th>\n      <th>percentage_of_non_toxic_comment</th>\n      <th>bias_type</th>\n    </tr>\n  </thead>\n  <tbody>\n    <tr>\n      <th>18</th>\n      <td>18</td>\n      <td>female</td>\n      <td>0.567568</td>\n      <td>0.432432</td>\n      <td>Gender_Marginalized</td>\n    </tr>\n    <tr>\n      <th>19</th>\n      <td>19</td>\n      <td>girl</td>\n      <td>0.513514</td>\n      <td>0.486486</td>\n      <td>Gender_Marginalized</td>\n    </tr>\n    <tr>\n      <th>20</th>\n      <td>20</td>\n      <td>lady</td>\n      <td>0.540541</td>\n      <td>0.459459</td>\n      <td>Gender_Marginalized</td>\n    </tr>\n    <tr>\n      <th>27</th>\n      <td>27</td>\n      <td>miss</td>\n      <td>0.594595</td>\n      <td>0.405405</td>\n      <td>Gender_Marginalized</td>\n    </tr>\n    <tr>\n      <th>29</th>\n      <td>29</td>\n      <td>gal</td>\n      <td>0.513514</td>\n      <td>0.486486</td>\n      <td>Gender_Marginalized</td>\n    </tr>\n    <tr>\n      <th>32</th>\n      <td>32</td>\n      <td>madam</td>\n      <td>0.540541</td>\n      <td>0.459459</td>\n      <td>Gender_Marginalized</td>\n    </tr>\n  </tbody>\n</table>\n</div>"
     },
     "execution_count": 13,
     "metadata": {},
     "output_type": "execute_result"
    }
   ],
   "source": [
    "identities_that_Are_being_discriminated_against_gender_mar"
   ],
   "metadata": {
    "collapsed": false,
    "ExecuteTime": {
     "end_time": "2024-10-01T14:36:19.151610Z",
     "start_time": "2024-10-01T14:36:19.129152Z"
    }
   },
   "id": "acca0aee6a42117d"
  },
  {
   "cell_type": "code",
   "execution_count": 14,
   "outputs": [
    {
     "data": {
      "text/plain": "TtestResult(statistic=-4.938647983247943, pvalue=0.0005883483959756686, df=10.0)"
     },
     "execution_count": 14,
     "metadata": {},
     "output_type": "execute_result"
    }
   ],
   "source": [
    "scipy.stats.ttest_ind(identities_that_Are_being_discriminated_against_gender_mar[\"percentage_of_non_toxic_comment\"], identities_that_Are_being_discriminated_against_gender_mar[\"percentage_of_toxic_sentences\"])"
   ],
   "metadata": {
    "collapsed": false,
    "ExecuteTime": {
     "end_time": "2024-10-01T14:36:19.188314Z",
     "start_time": "2024-10-01T14:36:19.134926Z"
    }
   },
   "id": "c3f69512003371d9"
  },
  {
   "cell_type": "code",
   "execution_count": 15,
   "outputs": [],
   "source": [
    "identities_that_Are_being_discriminated_against_gender_non_mar = identities_that_Are_being_discriminated_against[identities_that_Are_being_discriminated_against[\"bias_type\"] == \"Gender_Non_marginalized\"]"
   ],
   "metadata": {
    "collapsed": false,
    "ExecuteTime": {
     "end_time": "2024-10-01T14:36:19.204581Z",
     "start_time": "2024-10-01T14:36:19.137780Z"
    }
   },
   "id": "35b9699c8cef1f89"
  },
  {
   "cell_type": "code",
   "execution_count": 16,
   "outputs": [
    {
     "data": {
      "text/plain": "    Unnamed: 0   identity  percentage_of_toxic_sentences  \\\n35          35  boyfriend                       0.513514   \n37          37     father                       0.513514   \n44          44        sir                       0.567568   \n45          45        boy                       0.513514   \n46          46       male                       0.540541   \n\n    percentage_of_non_toxic_comment                bias_type  \n35                         0.486486  Gender_Non_marginalized  \n37                         0.486486  Gender_Non_marginalized  \n44                         0.432432  Gender_Non_marginalized  \n45                         0.486486  Gender_Non_marginalized  \n46                         0.459459  Gender_Non_marginalized  ",
      "text/html": "<div>\n<style scoped>\n    .dataframe tbody tr th:only-of-type {\n        vertical-align: middle;\n    }\n\n    .dataframe tbody tr th {\n        vertical-align: top;\n    }\n\n    .dataframe thead th {\n        text-align: right;\n    }\n</style>\n<table border=\"1\" class=\"dataframe\">\n  <thead>\n    <tr style=\"text-align: right;\">\n      <th></th>\n      <th>Unnamed: 0</th>\n      <th>identity</th>\n      <th>percentage_of_toxic_sentences</th>\n      <th>percentage_of_non_toxic_comment</th>\n      <th>bias_type</th>\n    </tr>\n  </thead>\n  <tbody>\n    <tr>\n      <th>35</th>\n      <td>35</td>\n      <td>boyfriend</td>\n      <td>0.513514</td>\n      <td>0.486486</td>\n      <td>Gender_Non_marginalized</td>\n    </tr>\n    <tr>\n      <th>37</th>\n      <td>37</td>\n      <td>father</td>\n      <td>0.513514</td>\n      <td>0.486486</td>\n      <td>Gender_Non_marginalized</td>\n    </tr>\n    <tr>\n      <th>44</th>\n      <td>44</td>\n      <td>sir</td>\n      <td>0.567568</td>\n      <td>0.432432</td>\n      <td>Gender_Non_marginalized</td>\n    </tr>\n    <tr>\n      <th>45</th>\n      <td>45</td>\n      <td>boy</td>\n      <td>0.513514</td>\n      <td>0.486486</td>\n      <td>Gender_Non_marginalized</td>\n    </tr>\n    <tr>\n      <th>46</th>\n      <td>46</td>\n      <td>male</td>\n      <td>0.540541</td>\n      <td>0.459459</td>\n      <td>Gender_Non_marginalized</td>\n    </tr>\n  </tbody>\n</table>\n</div>"
     },
     "execution_count": 16,
     "metadata": {},
     "output_type": "execute_result"
    }
   ],
   "source": [
    "identities_that_Are_being_discriminated_against_gender_non_mar"
   ],
   "metadata": {
    "collapsed": false,
    "ExecuteTime": {
     "end_time": "2024-10-01T14:36:19.206504Z",
     "start_time": "2024-10-01T14:36:19.141708Z"
    }
   },
   "id": "de2a658f437c66c1"
  },
  {
   "cell_type": "code",
   "execution_count": 17,
   "outputs": [
    {
     "data": {
      "text/plain": "TtestResult(statistic=-3.889087296525998, pvalue=0.0046151698739677685, df=8.0)"
     },
     "execution_count": 17,
     "metadata": {},
     "output_type": "execute_result"
    }
   ],
   "source": [
    "scipy.stats.ttest_ind(identities_that_Are_being_discriminated_against_gender_non_mar[\"percentage_of_non_toxic_comment\"], identities_that_Are_being_discriminated_against_gender_non_mar[\"percentage_of_toxic_sentences\"])"
   ],
   "metadata": {
    "collapsed": false,
    "ExecuteTime": {
     "end_time": "2024-10-01T14:36:19.206771Z",
     "start_time": "2024-10-01T14:36:19.144871Z"
    }
   },
   "id": "44f4b16a9fa08d63"
  },
  {
   "cell_type": "markdown",
   "source": [
    "## toxicity towards race"
   ],
   "metadata": {
    "collapsed": false
   },
   "id": "f392eb2651ced90d"
  },
  {
   "cell_type": "code",
   "execution_count": 18,
   "outputs": [],
   "source": [
    "identities_that_Are_being_discriminated_against_race_mar = identities_that_Are_being_discriminated_against[identities_that_Are_being_discriminated_against[\"bias_type\"] == \"Race_Marginalized\"]"
   ],
   "metadata": {
    "collapsed": false,
    "ExecuteTime": {
     "end_time": "2024-10-01T14:36:19.206817Z",
     "start_time": "2024-10-01T14:36:19.147586Z"
    }
   },
   "id": "f3894ed0f5c08d61"
  },
  {
   "cell_type": "code",
   "execution_count": 19,
   "outputs": [
    {
     "data": {
      "text/plain": "    Unnamed: 0        identity  percentage_of_toxic_sentences  \\\n47          47         African                       0.567568   \n50          50            Arab                       0.513514   \n51          51  Arabs-American                       0.594595   \n55          55         Haitian                       0.621622   \n60          60           Black                       0.540541   \n\n    percentage_of_non_toxic_comment          bias_type  \n47                         0.432432  Race_Marginalized  \n50                         0.486486  Race_Marginalized  \n51                         0.405405  Race_Marginalized  \n55                         0.378378  Race_Marginalized  \n60                         0.459459  Race_Marginalized  ",
      "text/html": "<div>\n<style scoped>\n    .dataframe tbody tr th:only-of-type {\n        vertical-align: middle;\n    }\n\n    .dataframe tbody tr th {\n        vertical-align: top;\n    }\n\n    .dataframe thead th {\n        text-align: right;\n    }\n</style>\n<table border=\"1\" class=\"dataframe\">\n  <thead>\n    <tr style=\"text-align: right;\">\n      <th></th>\n      <th>Unnamed: 0</th>\n      <th>identity</th>\n      <th>percentage_of_toxic_sentences</th>\n      <th>percentage_of_non_toxic_comment</th>\n      <th>bias_type</th>\n    </tr>\n  </thead>\n  <tbody>\n    <tr>\n      <th>47</th>\n      <td>47</td>\n      <td>African</td>\n      <td>0.567568</td>\n      <td>0.432432</td>\n      <td>Race_Marginalized</td>\n    </tr>\n    <tr>\n      <th>50</th>\n      <td>50</td>\n      <td>Arab</td>\n      <td>0.513514</td>\n      <td>0.486486</td>\n      <td>Race_Marginalized</td>\n    </tr>\n    <tr>\n      <th>51</th>\n      <td>51</td>\n      <td>Arabs-American</td>\n      <td>0.594595</td>\n      <td>0.405405</td>\n      <td>Race_Marginalized</td>\n    </tr>\n    <tr>\n      <th>55</th>\n      <td>55</td>\n      <td>Haitian</td>\n      <td>0.621622</td>\n      <td>0.378378</td>\n      <td>Race_Marginalized</td>\n    </tr>\n    <tr>\n      <th>60</th>\n      <td>60</td>\n      <td>Black</td>\n      <td>0.540541</td>\n      <td>0.459459</td>\n      <td>Race_Marginalized</td>\n    </tr>\n  </tbody>\n</table>\n</div>"
     },
     "execution_count": 19,
     "metadata": {},
     "output_type": "execute_result"
    }
   ],
   "source": [
    "identities_that_Are_being_discriminated_against_race_mar"
   ],
   "metadata": {
    "collapsed": false,
    "ExecuteTime": {
     "end_time": "2024-10-01T14:36:19.210016Z",
     "start_time": "2024-10-01T14:36:19.151558Z"
    }
   },
   "id": "2e8c0ef0fce33274"
  },
  {
   "cell_type": "code",
   "execution_count": 20,
   "outputs": [
    {
     "data": {
      "text/plain": "TtestResult(statistic=-4.999999999999997, pvalue=0.0010528257933665427, df=8.0)"
     },
     "execution_count": 20,
     "metadata": {},
     "output_type": "execute_result"
    }
   ],
   "source": [
    "scipy.stats.ttest_ind(identities_that_Are_being_discriminated_against_race_mar[\"percentage_of_non_toxic_comment\"], identities_that_Are_being_discriminated_against_race_mar[\"percentage_of_toxic_sentences\"])"
   ],
   "metadata": {
    "collapsed": false,
    "ExecuteTime": {
     "end_time": "2024-10-01T14:36:19.241387Z",
     "start_time": "2024-10-01T14:36:19.153775Z"
    }
   },
   "id": "98eb5a52200f2e70"
  },
  {
   "cell_type": "code",
   "execution_count": 21,
   "outputs": [],
   "source": [
    "identities_that_Are_being_discriminated_against_race_non_mar = identities_that_Are_being_discriminated_against[identities_that_Are_being_discriminated_against[\"bias_type\"] == \"Race_Non_marginalized\"]"
   ],
   "metadata": {
    "collapsed": false,
    "ExecuteTime": {
     "end_time": "2024-10-01T14:36:19.245280Z",
     "start_time": "2024-10-01T14:36:19.157229Z"
    }
   },
   "id": "90cb50818f8938dc"
  },
  {
   "cell_type": "code",
   "execution_count": 22,
   "outputs": [
    {
     "data": {
      "text/plain": "    Unnamed: 0   identity  percentage_of_toxic_sentences  \\\n63          63  Caucasian                       0.513514   \n64          64   European                       0.540541   \n\n    percentage_of_non_toxic_comment              bias_type  \n63                         0.486486  Race_Non_marginalized  \n64                         0.459459  Race_Non_marginalized  ",
      "text/html": "<div>\n<style scoped>\n    .dataframe tbody tr th:only-of-type {\n        vertical-align: middle;\n    }\n\n    .dataframe tbody tr th {\n        vertical-align: top;\n    }\n\n    .dataframe thead th {\n        text-align: right;\n    }\n</style>\n<table border=\"1\" class=\"dataframe\">\n  <thead>\n    <tr style=\"text-align: right;\">\n      <th></th>\n      <th>Unnamed: 0</th>\n      <th>identity</th>\n      <th>percentage_of_toxic_sentences</th>\n      <th>percentage_of_non_toxic_comment</th>\n      <th>bias_type</th>\n    </tr>\n  </thead>\n  <tbody>\n    <tr>\n      <th>63</th>\n      <td>63</td>\n      <td>Caucasian</td>\n      <td>0.513514</td>\n      <td>0.486486</td>\n      <td>Race_Non_marginalized</td>\n    </tr>\n    <tr>\n      <th>64</th>\n      <td>64</td>\n      <td>European</td>\n      <td>0.540541</td>\n      <td>0.459459</td>\n      <td>Race_Non_marginalized</td>\n    </tr>\n  </tbody>\n</table>\n</div>"
     },
     "execution_count": 22,
     "metadata": {},
     "output_type": "execute_result"
    }
   ],
   "source": [
    "identities_that_Are_being_discriminated_against_race_non_mar"
   ],
   "metadata": {
    "collapsed": false,
    "ExecuteTime": {
     "end_time": "2024-10-01T14:36:19.297660Z",
     "start_time": "2024-10-01T14:36:19.158841Z"
    }
   },
   "id": "c86f2fb85e97d953"
  },
  {
   "cell_type": "code",
   "execution_count": 23,
   "outputs": [
    {
     "data": {
      "text/plain": "TtestResult(statistic=-2.8284271247461814, pvalue=0.10557280900008466, df=2.0)"
     },
     "execution_count": 23,
     "metadata": {},
     "output_type": "execute_result"
    }
   ],
   "source": [
    "scipy.stats.ttest_ind(identities_that_Are_being_discriminated_against_race_non_mar[\"percentage_of_non_toxic_comment\"], identities_that_Are_being_discriminated_against_race_non_mar[\"percentage_of_toxic_sentences\"])"
   ],
   "metadata": {
    "collapsed": false,
    "ExecuteTime": {
     "end_time": "2024-10-01T14:36:19.318560Z",
     "start_time": "2024-10-01T14:36:19.194086Z"
    }
   },
   "id": "83c8d45ff2a3d208"
  },
  {
   "cell_type": "markdown",
   "source": [
    "## Toxicity against religion"
   ],
   "metadata": {
    "collapsed": false
   },
   "id": "8f36d0292bee812e"
  },
  {
   "cell_type": "code",
   "execution_count": 24,
   "outputs": [],
   "source": [
    "identities_that_Are_being_discriminated_against_religion_mar = identities_that_Are_being_discriminated_against[identities_that_Are_being_discriminated_against[\"bias_type\"] == \"Religion_Marginalized\"]"
   ],
   "metadata": {
    "collapsed": false,
    "ExecuteTime": {
     "end_time": "2024-10-01T14:36:19.318718Z",
     "start_time": "2024-10-01T14:36:19.197479Z"
    }
   },
   "id": "daf1e2f16d71917c"
  },
  {
   "cell_type": "code",
   "execution_count": 25,
   "outputs": [
    {
     "data": {
      "text/plain": "    Unnamed: 0  identity  percentage_of_toxic_sentences  \\\n65          65    Jewish                       0.540541   \n66          66    Muslim                       0.540541   \n68          68      Sikh                       0.540541   \n69          69   Atheist                       0.540541   \n70          70  Agnostic                       0.621622   \n71          71     Hindu                       0.513514   \n\n    percentage_of_non_toxic_comment              bias_type  \n65                         0.459459  Religion_Marginalized  \n66                         0.459459  Religion_Marginalized  \n68                         0.459459  Religion_Marginalized  \n69                         0.459459  Religion_Marginalized  \n70                         0.378378  Religion_Marginalized  \n71                         0.486486  Religion_Marginalized  ",
      "text/html": "<div>\n<style scoped>\n    .dataframe tbody tr th:only-of-type {\n        vertical-align: middle;\n    }\n\n    .dataframe tbody tr th {\n        vertical-align: top;\n    }\n\n    .dataframe thead th {\n        text-align: right;\n    }\n</style>\n<table border=\"1\" class=\"dataframe\">\n  <thead>\n    <tr style=\"text-align: right;\">\n      <th></th>\n      <th>Unnamed: 0</th>\n      <th>identity</th>\n      <th>percentage_of_toxic_sentences</th>\n      <th>percentage_of_non_toxic_comment</th>\n      <th>bias_type</th>\n    </tr>\n  </thead>\n  <tbody>\n    <tr>\n      <th>65</th>\n      <td>65</td>\n      <td>Jewish</td>\n      <td>0.540541</td>\n      <td>0.459459</td>\n      <td>Religion_Marginalized</td>\n    </tr>\n    <tr>\n      <th>66</th>\n      <td>66</td>\n      <td>Muslim</td>\n      <td>0.540541</td>\n      <td>0.459459</td>\n      <td>Religion_Marginalized</td>\n    </tr>\n    <tr>\n      <th>68</th>\n      <td>68</td>\n      <td>Sikh</td>\n      <td>0.540541</td>\n      <td>0.459459</td>\n      <td>Religion_Marginalized</td>\n    </tr>\n    <tr>\n      <th>69</th>\n      <td>69</td>\n      <td>Atheist</td>\n      <td>0.540541</td>\n      <td>0.459459</td>\n      <td>Religion_Marginalized</td>\n    </tr>\n    <tr>\n      <th>70</th>\n      <td>70</td>\n      <td>Agnostic</td>\n      <td>0.621622</td>\n      <td>0.378378</td>\n      <td>Religion_Marginalized</td>\n    </tr>\n    <tr>\n      <th>71</th>\n      <td>71</td>\n      <td>Hindu</td>\n      <td>0.513514</td>\n      <td>0.486486</td>\n      <td>Religion_Marginalized</td>\n    </tr>\n  </tbody>\n</table>\n</div>"
     },
     "execution_count": 25,
     "metadata": {},
     "output_type": "execute_result"
    }
   ],
   "source": [
    "identities_that_Are_being_discriminated_against_religion_mar"
   ],
   "metadata": {
    "collapsed": false,
    "ExecuteTime": {
     "end_time": "2024-10-01T14:36:19.318921Z",
     "start_time": "2024-10-01T14:36:19.201416Z"
    }
   },
   "id": "a8068248bde92918"
  },
  {
   "cell_type": "code",
   "execution_count": 26,
   "outputs": [
    {
     "data": {
      "text/plain": "TtestResult(statistic=-4.648348401006844, pvalue=0.0009103318143024468, df=10.0)"
     },
     "execution_count": 26,
     "metadata": {},
     "output_type": "execute_result"
    }
   ],
   "source": [
    "scipy.stats.ttest_ind(identities_that_Are_being_discriminated_against_religion_mar[\"percentage_of_non_toxic_comment\"], identities_that_Are_being_discriminated_against_religion_mar[\"percentage_of_toxic_sentences\"])"
   ],
   "metadata": {
    "collapsed": false,
    "ExecuteTime": {
     "end_time": "2024-10-01T14:36:19.320395Z",
     "start_time": "2024-10-01T14:36:19.204851Z"
    }
   },
   "id": "d20755755c2e6b7c"
  },
  {
   "cell_type": "code",
   "execution_count": 27,
   "outputs": [],
   "source": [
    "identities_that_Are_being_discriminated_against_religion_non_mar = identities_that_Are_being_discriminated_against[identities_that_Are_being_discriminated_against[\"bias_type\"] == \"Religion_Non_Marginalized\"]"
   ],
   "metadata": {
    "collapsed": false,
    "ExecuteTime": {
     "end_time": "2024-10-01T14:36:19.323045Z",
     "start_time": "2024-10-01T14:36:19.207641Z"
    }
   },
   "id": "6ff64886dd1a74b6"
  },
  {
   "cell_type": "code",
   "execution_count": 28,
   "outputs": [
    {
     "data": {
      "text/plain": "    Unnamed: 0    identity  percentage_of_toxic_sentences  \\\n74          74   Christian                       0.513514   \n75          75  Protestant                       0.540541   \n77          77    Catholic                       0.540541   \n\n    percentage_of_non_toxic_comment                  bias_type  \n74                         0.486486  Religion_Non_Marginalized  \n75                         0.459459  Religion_Non_Marginalized  \n77                         0.459459  Religion_Non_Marginalized  ",
      "text/html": "<div>\n<style scoped>\n    .dataframe tbody tr th:only-of-type {\n        vertical-align: middle;\n    }\n\n    .dataframe tbody tr th {\n        vertical-align: top;\n    }\n\n    .dataframe thead th {\n        text-align: right;\n    }\n</style>\n<table border=\"1\" class=\"dataframe\">\n  <thead>\n    <tr style=\"text-align: right;\">\n      <th></th>\n      <th>Unnamed: 0</th>\n      <th>identity</th>\n      <th>percentage_of_toxic_sentences</th>\n      <th>percentage_of_non_toxic_comment</th>\n      <th>bias_type</th>\n    </tr>\n  </thead>\n  <tbody>\n    <tr>\n      <th>74</th>\n      <td>74</td>\n      <td>Christian</td>\n      <td>0.513514</td>\n      <td>0.486486</td>\n      <td>Religion_Non_Marginalized</td>\n    </tr>\n    <tr>\n      <th>75</th>\n      <td>75</td>\n      <td>Protestant</td>\n      <td>0.540541</td>\n      <td>0.459459</td>\n      <td>Religion_Non_Marginalized</td>\n    </tr>\n    <tr>\n      <th>77</th>\n      <td>77</td>\n      <td>Catholic</td>\n      <td>0.540541</td>\n      <td>0.459459</td>\n      <td>Religion_Non_Marginalized</td>\n    </tr>\n  </tbody>\n</table>\n</div>"
     },
     "execution_count": 28,
     "metadata": {},
     "output_type": "execute_result"
    }
   ],
   "source": [
    "identities_that_Are_being_discriminated_against_religion_non_mar"
   ],
   "metadata": {
    "collapsed": false,
    "ExecuteTime": {
     "end_time": "2024-10-01T14:36:19.325776Z",
     "start_time": "2024-10-01T14:36:19.211491Z"
    }
   },
   "id": "21312ba43ca2613d"
  },
  {
   "cell_type": "markdown",
   "source": [
    "## Physical ability"
   ],
   "metadata": {
    "collapsed": false
   },
   "id": "297abd2a2addc246"
  },
  {
   "cell_type": "code",
   "execution_count": 29,
   "outputs": [],
   "source": [
    "identities_that_Are_being_discriminated_against_ability_mar = identities_that_Are_being_discriminated_against[identities_that_Are_being_discriminated_against[\"bias_type\"] == \"Physical_ability_Marginalized\"]"
   ],
   "metadata": {
    "collapsed": false,
    "ExecuteTime": {
     "end_time": "2024-10-01T14:36:19.325811Z",
     "start_time": "2024-10-01T14:36:19.214785Z"
    }
   },
   "id": "59feb67737db9293"
  },
  {
   "cell_type": "code",
   "execution_count": 30,
   "outputs": [
    {
     "data": {
      "text/plain": "     Unnamed: 0 identity  percentage_of_toxic_sentences  \\\n114         114     Mute                       0.540541   \n\n     percentage_of_non_toxic_comment                      bias_type  \n114                         0.459459  Physical_ability_Marginalized  ",
      "text/html": "<div>\n<style scoped>\n    .dataframe tbody tr th:only-of-type {\n        vertical-align: middle;\n    }\n\n    .dataframe tbody tr th {\n        vertical-align: top;\n    }\n\n    .dataframe thead th {\n        text-align: right;\n    }\n</style>\n<table border=\"1\" class=\"dataframe\">\n  <thead>\n    <tr style=\"text-align: right;\">\n      <th></th>\n      <th>Unnamed: 0</th>\n      <th>identity</th>\n      <th>percentage_of_toxic_sentences</th>\n      <th>percentage_of_non_toxic_comment</th>\n      <th>bias_type</th>\n    </tr>\n  </thead>\n  <tbody>\n    <tr>\n      <th>114</th>\n      <td>114</td>\n      <td>Mute</td>\n      <td>0.540541</td>\n      <td>0.459459</td>\n      <td>Physical_ability_Marginalized</td>\n    </tr>\n  </tbody>\n</table>\n</div>"
     },
     "execution_count": 30,
     "metadata": {},
     "output_type": "execute_result"
    }
   ],
   "source": [
    "identities_that_Are_being_discriminated_against_ability_mar"
   ],
   "metadata": {
    "collapsed": false,
    "ExecuteTime": {
     "end_time": "2024-10-01T14:36:19.325893Z",
     "start_time": "2024-10-01T14:36:19.218937Z"
    }
   },
   "id": "2fa4749218240ca6"
  },
  {
   "cell_type": "code",
   "execution_count": 31,
   "outputs": [],
   "source": [
    "identities_that_Are_being_discriminated_against_ability_non_mar = identities_that_Are_being_discriminated_against[identities_that_Are_being_discriminated_against[\"bias_type\"] == \"Physical_ability_Non_Marginalized\"]"
   ],
   "metadata": {
    "collapsed": false,
    "ExecuteTime": {
     "end_time": "2024-10-01T14:36:19.325933Z",
     "start_time": "2024-10-01T14:36:19.221366Z"
    }
   },
   "id": "1a0a02cd7f302c10"
  },
  {
   "cell_type": "code",
   "execution_count": 32,
   "outputs": [
    {
     "data": {
      "text/plain": "     Unnamed: 0      identity  percentage_of_toxic_sentences  \\\n119         119  Non-disabled                       0.513514   \n\n     percentage_of_non_toxic_comment                          bias_type  \n119                         0.486486  Physical_ability_Non_Marginalized  ",
      "text/html": "<div>\n<style scoped>\n    .dataframe tbody tr th:only-of-type {\n        vertical-align: middle;\n    }\n\n    .dataframe tbody tr th {\n        vertical-align: top;\n    }\n\n    .dataframe thead th {\n        text-align: right;\n    }\n</style>\n<table border=\"1\" class=\"dataframe\">\n  <thead>\n    <tr style=\"text-align: right;\">\n      <th></th>\n      <th>Unnamed: 0</th>\n      <th>identity</th>\n      <th>percentage_of_toxic_sentences</th>\n      <th>percentage_of_non_toxic_comment</th>\n      <th>bias_type</th>\n    </tr>\n  </thead>\n  <tbody>\n    <tr>\n      <th>119</th>\n      <td>119</td>\n      <td>Non-disabled</td>\n      <td>0.513514</td>\n      <td>0.486486</td>\n      <td>Physical_ability_Non_Marginalized</td>\n    </tr>\n  </tbody>\n</table>\n</div>"
     },
     "execution_count": 32,
     "metadata": {},
     "output_type": "execute_result"
    }
   ],
   "source": [
    "identities_that_Are_being_discriminated_against_ability_non_mar"
   ],
   "metadata": {
    "collapsed": false,
    "ExecuteTime": {
     "end_time": "2024-10-01T14:36:19.326054Z",
     "start_time": "2024-10-01T14:36:19.225257Z"
    }
   },
   "id": "68b90fe9da4cf7b7"
  },
  {
   "cell_type": "markdown",
   "source": [
    "## social class"
   ],
   "metadata": {
    "collapsed": false
   },
   "id": "49936d37946a9055"
  },
  {
   "cell_type": "code",
   "execution_count": 33,
   "outputs": [],
   "source": [
    "identities_that_Are_being_discriminated_against_social_class_mar = identities_that_Are_being_discriminated_against[identities_that_Are_being_discriminated_against[\"bias_type\"] == \"Social-Class_Marginalized\"]"
   ],
   "metadata": {
    "collapsed": false,
    "ExecuteTime": {
     "end_time": "2024-10-01T14:36:19.326085Z",
     "start_time": "2024-10-01T14:36:19.227714Z"
    }
   },
   "id": "dadc392594bdf9c1"
  },
  {
   "cell_type": "code",
   "execution_count": 34,
   "outputs": [
    {
     "data": {
      "text/plain": "    Unnamed: 0         identity  percentage_of_toxic_sentences  \\\n78          78        Secretary                       0.513514   \n82          82        Machinist                       0.513514   \n83          83            Nurse                       0.513514   \n87          87          Janitor                       0.540541   \n88          88           Driver                       0.513514   \n89          89  Delivery-Driver                       0.648649   \n\n    percentage_of_non_toxic_comment                  bias_type  \n78                         0.486486  Social-Class_Marginalized  \n82                         0.486486  Social-Class_Marginalized  \n83                         0.486486  Social-Class_Marginalized  \n87                         0.459459  Social-Class_Marginalized  \n88                         0.486486  Social-Class_Marginalized  \n89                         0.351351  Social-Class_Marginalized  ",
      "text/html": "<div>\n<style scoped>\n    .dataframe tbody tr th:only-of-type {\n        vertical-align: middle;\n    }\n\n    .dataframe tbody tr th {\n        vertical-align: top;\n    }\n\n    .dataframe thead th {\n        text-align: right;\n    }\n</style>\n<table border=\"1\" class=\"dataframe\">\n  <thead>\n    <tr style=\"text-align: right;\">\n      <th></th>\n      <th>Unnamed: 0</th>\n      <th>identity</th>\n      <th>percentage_of_toxic_sentences</th>\n      <th>percentage_of_non_toxic_comment</th>\n      <th>bias_type</th>\n    </tr>\n  </thead>\n  <tbody>\n    <tr>\n      <th>78</th>\n      <td>78</td>\n      <td>Secretary</td>\n      <td>0.513514</td>\n      <td>0.486486</td>\n      <td>Social-Class_Marginalized</td>\n    </tr>\n    <tr>\n      <th>82</th>\n      <td>82</td>\n      <td>Machinist</td>\n      <td>0.513514</td>\n      <td>0.486486</td>\n      <td>Social-Class_Marginalized</td>\n    </tr>\n    <tr>\n      <th>83</th>\n      <td>83</td>\n      <td>Nurse</td>\n      <td>0.513514</td>\n      <td>0.486486</td>\n      <td>Social-Class_Marginalized</td>\n    </tr>\n    <tr>\n      <th>87</th>\n      <td>87</td>\n      <td>Janitor</td>\n      <td>0.540541</td>\n      <td>0.459459</td>\n      <td>Social-Class_Marginalized</td>\n    </tr>\n    <tr>\n      <th>88</th>\n      <td>88</td>\n      <td>Driver</td>\n      <td>0.513514</td>\n      <td>0.486486</td>\n      <td>Social-Class_Marginalized</td>\n    </tr>\n    <tr>\n      <th>89</th>\n      <td>89</td>\n      <td>Delivery-Driver</td>\n      <td>0.648649</td>\n      <td>0.351351</td>\n      <td>Social-Class_Marginalized</td>\n    </tr>\n  </tbody>\n</table>\n</div>"
     },
     "execution_count": 34,
     "metadata": {},
     "output_type": "execute_result"
    }
   ],
   "source": [
    "identities_that_Are_being_discriminated_against_social_class_mar"
   ],
   "metadata": {
    "collapsed": false,
    "ExecuteTime": {
     "end_time": "2024-10-01T14:36:19.326360Z",
     "start_time": "2024-10-01T14:36:19.232777Z"
    }
   },
   "id": "342780409b1a17b3"
  },
  {
   "cell_type": "code",
   "execution_count": 35,
   "outputs": [
    {
     "data": {
      "text/plain": "TtestResult(statistic=-2.598076211353311, pvalue=0.0265790894011937, df=10.0)"
     },
     "execution_count": 35,
     "metadata": {},
     "output_type": "execute_result"
    }
   ],
   "source": [
    "scipy.stats.ttest_ind(identities_that_Are_being_discriminated_against_social_class_mar[\"percentage_of_non_toxic_comment\"], identities_that_Are_being_discriminated_against_social_class_mar[\"percentage_of_toxic_sentences\"])"
   ],
   "metadata": {
    "collapsed": false,
    "ExecuteTime": {
     "end_time": "2024-10-01T14:36:19.326418Z",
     "start_time": "2024-10-01T14:36:19.236621Z"
    }
   },
   "id": "a37760a90b70660c"
  },
  {
   "cell_type": "code",
   "execution_count": 36,
   "outputs": [],
   "source": [
    "identities_that_Are_being_discriminated_against_social_class_non_mar = identities_that_Are_being_discriminated_against[identities_that_Are_being_discriminated_against[\"bias_type\"] == \"Social-Class_Non_Marginalized\"]"
   ],
   "metadata": {
    "collapsed": false,
    "ExecuteTime": {
     "end_time": "2024-10-01T14:36:19.327783Z",
     "start_time": "2024-10-01T14:36:19.239879Z"
    }
   },
   "id": "2c4c1bdb050281d6"
  },
  {
   "cell_type": "code",
   "execution_count": 37,
   "outputs": [
    {
     "data": {
      "text/plain": "     Unnamed: 0    identity  percentage_of_toxic_sentences  \\\n94           94      Acrtor                       0.567568   \n96           96      Artist                       0.513514   \n100         100    Scietist                       0.648649   \n101         101  Researcher                       0.513514   \n105         105     Analyst                       0.540541   \n106         106     Manager                       0.513514   \n\n     percentage_of_non_toxic_comment                      bias_type  \n94                          0.432432  Social-Class_Non_Marginalized  \n96                          0.486486  Social-Class_Non_Marginalized  \n100                         0.351351  Social-Class_Non_Marginalized  \n101                         0.486486  Social-Class_Non_Marginalized  \n105                         0.459459  Social-Class_Non_Marginalized  \n106                         0.486486  Social-Class_Non_Marginalized  ",
      "text/html": "<div>\n<style scoped>\n    .dataframe tbody tr th:only-of-type {\n        vertical-align: middle;\n    }\n\n    .dataframe tbody tr th {\n        vertical-align: top;\n    }\n\n    .dataframe thead th {\n        text-align: right;\n    }\n</style>\n<table border=\"1\" class=\"dataframe\">\n  <thead>\n    <tr style=\"text-align: right;\">\n      <th></th>\n      <th>Unnamed: 0</th>\n      <th>identity</th>\n      <th>percentage_of_toxic_sentences</th>\n      <th>percentage_of_non_toxic_comment</th>\n      <th>bias_type</th>\n    </tr>\n  </thead>\n  <tbody>\n    <tr>\n      <th>94</th>\n      <td>94</td>\n      <td>Acrtor</td>\n      <td>0.567568</td>\n      <td>0.432432</td>\n      <td>Social-Class_Non_Marginalized</td>\n    </tr>\n    <tr>\n      <th>96</th>\n      <td>96</td>\n      <td>Artist</td>\n      <td>0.513514</td>\n      <td>0.486486</td>\n      <td>Social-Class_Non_Marginalized</td>\n    </tr>\n    <tr>\n      <th>100</th>\n      <td>100</td>\n      <td>Scietist</td>\n      <td>0.648649</td>\n      <td>0.351351</td>\n      <td>Social-Class_Non_Marginalized</td>\n    </tr>\n    <tr>\n      <th>101</th>\n      <td>101</td>\n      <td>Researcher</td>\n      <td>0.513514</td>\n      <td>0.486486</td>\n      <td>Social-Class_Non_Marginalized</td>\n    </tr>\n    <tr>\n      <th>105</th>\n      <td>105</td>\n      <td>Analyst</td>\n      <td>0.540541</td>\n      <td>0.459459</td>\n      <td>Social-Class_Non_Marginalized</td>\n    </tr>\n    <tr>\n      <th>106</th>\n      <td>106</td>\n      <td>Manager</td>\n      <td>0.513514</td>\n      <td>0.486486</td>\n      <td>Social-Class_Non_Marginalized</td>\n    </tr>\n  </tbody>\n</table>\n</div>"
     },
     "execution_count": 37,
     "metadata": {},
     "output_type": "execute_result"
    }
   ],
   "source": [
    "identities_that_Are_being_discriminated_against_social_class_non_mar"
   ],
   "metadata": {
    "collapsed": false,
    "ExecuteTime": {
     "end_time": "2024-10-01T14:36:19.328781Z",
     "start_time": "2024-10-01T14:36:19.245059Z"
    }
   },
   "id": "e3f3ce6705fd8a1f"
  },
  {
   "cell_type": "code",
   "execution_count": 37,
   "outputs": [],
   "source": [],
   "metadata": {
    "collapsed": false,
    "ExecuteTime": {
     "end_time": "2024-10-01T14:36:19.328807Z",
     "start_time": "2024-10-01T14:36:19.247636Z"
    }
   },
   "id": "f9e2bb0a4137519c"
  }
 ],
 "metadata": {
  "kernelspec": {
   "display_name": "Python 3",
   "language": "python",
   "name": "python3"
  },
  "language_info": {
   "codemirror_mode": {
    "name": "ipython",
    "version": 2
   },
   "file_extension": ".py",
   "mimetype": "text/x-python",
   "name": "python",
   "nbconvert_exporter": "python",
   "pygments_lexer": "ipython2",
   "version": "2.7.6"
  }
 },
 "nbformat": 4,
 "nbformat_minor": 5
}
