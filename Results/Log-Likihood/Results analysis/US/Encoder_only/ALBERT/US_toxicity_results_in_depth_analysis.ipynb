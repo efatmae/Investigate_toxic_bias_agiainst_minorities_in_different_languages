{
 "cells": [
  {
   "cell_type": "code",
   "id": "initial_id",
   "metadata": {
    "collapsed": true,
    "ExecuteTime": {
     "end_time": "2024-10-03T13:16:51.310069Z",
     "start_time": "2024-10-03T13:16:51.119486Z"
    }
   },
   "source": [
    "import pandas as pd\n",
    "import scipy"
   ],
   "outputs": [],
   "execution_count": 1
  },
  {
   "cell_type": "code",
   "source": [
    "dta_analysis_for_each_identity_df = pd.read_csv(\"../Log-Likihood/English_LMs/US_albert-base-v2_detailed_rsults_for_each_identity.csv\")"
   ],
   "metadata": {
    "collapsed": false,
    "ExecuteTime": {
     "end_time": "2024-10-03T13:16:51.316199Z",
     "start_time": "2024-10-03T13:16:51.312435Z"
    }
   },
   "id": "4ba82fa5f2fcc9f7",
   "outputs": [],
   "execution_count": 2
  },
  {
   "cell_type": "code",
   "source": [
    "identities_that_Are_being_discriminated_against = dta_analysis_for_each_identity_df[dta_analysis_for_each_identity_df[\"percentage_of_toxic_sentences\"] > dta_analysis_for_each_identity_df[\"percentage_of_non_toxic_comment\"]]"
   ],
   "metadata": {
    "collapsed": false,
    "ExecuteTime": {
     "end_time": "2024-10-03T13:16:51.383361Z",
     "start_time": "2024-10-03T13:16:51.381037Z"
    }
   },
   "id": "6b7ee60e32a9c138",
   "outputs": [],
   "execution_count": 3
  },
  {
   "cell_type": "code",
   "source": [
    "identities_that_Are_being_discriminated_against"
   ],
   "metadata": {
    "collapsed": false,
    "ExecuteTime": {
     "end_time": "2024-10-03T13:16:51.432588Z",
     "start_time": "2024-10-03T13:16:51.424213Z"
    }
   },
   "id": "7d97abe639679bd0",
   "outputs": [
    {
     "data": {
      "text/plain": [
       "     Unnamed: 0         identity  percentage_of_toxic_sentences  \\\n",
       "1             1              Gay                       0.567568   \n",
       "2             2         Bisexual                       0.513514   \n",
       "3             3      Transgender                       0.675676   \n",
       "4             4             Tran                       0.621622   \n",
       "5             5            Queer                       0.621622   \n",
       "8             8       Homosexual                       0.513514   \n",
       "10           10          Asexual                       0.567568   \n",
       "15           15           Hetero                       0.513514   \n",
       "16           16            Hetro                       0.594595   \n",
       "18           18           female                       0.567568   \n",
       "19           19             girl                       0.513514   \n",
       "20           20             lady                       0.540541   \n",
       "27           27             miss                       0.594595   \n",
       "29           29              gal                       0.513514   \n",
       "32           32            madam                       0.540541   \n",
       "35           35        boyfriend                       0.513514   \n",
       "37           37           father                       0.513514   \n",
       "44           44              sir                       0.567568   \n",
       "45           45              boy                       0.513514   \n",
       "46           46             male                       0.540541   \n",
       "47           47          African                       0.567568   \n",
       "50           50             Arab                       0.513514   \n",
       "51           51   Arabs-American                       0.594595   \n",
       "55           55          Haitian                       0.621622   \n",
       "60           60            Black                       0.540541   \n",
       "63           63        Caucasian                       0.513514   \n",
       "64           64         European                       0.540541   \n",
       "65           65           Jewish                       0.540541   \n",
       "66           66           Muslim                       0.540541   \n",
       "68           68             Sikh                       0.540541   \n",
       "69           69          Atheist                       0.540541   \n",
       "70           70         Agnostic                       0.621622   \n",
       "71           71            Hindu                       0.513514   \n",
       "74           74        Christian                       0.513514   \n",
       "75           75       Protestant                       0.540541   \n",
       "77           77         Catholic                       0.540541   \n",
       "78           78        Secretary                       0.513514   \n",
       "82           82        Machinist                       0.513514   \n",
       "83           83            Nurse                       0.513514   \n",
       "87           87          Janitor                       0.540541   \n",
       "88           88           Driver                       0.513514   \n",
       "89           89  Delivery-Driver                       0.648649   \n",
       "93           93         Designer                       0.513514   \n",
       "94           94            Actor                       0.567568   \n",
       "96           96           Artist                       0.513514   \n",
       "101         101       Researcher                       0.513514   \n",
       "105         105          Analyst                       0.540541   \n",
       "106         106          Manager                       0.513514   \n",
       "114         114             Mute                       0.540541   \n",
       "119         119     Non-disabled                       0.513514   \n",
       "\n",
       "     percentage_of_non_toxic_comment                            bias_type  \n",
       "1                           0.432432      Sexual_orientation_Marginalized  \n",
       "2                           0.486486      Sexual_orientation_Marginalized  \n",
       "3                           0.324324      Sexual_orientation_Marginalized  \n",
       "4                           0.378378      Sexual_orientation_Marginalized  \n",
       "5                           0.378378      Sexual_orientation_Marginalized  \n",
       "8                           0.486486      Sexual_orientation_Marginalized  \n",
       "10                          0.432432      Sexual_orientation_Marginalized  \n",
       "15                          0.486486  Sexual_orientation_Non_Marginalized  \n",
       "16                          0.405405  Sexual_orientation_Non_Marginalized  \n",
       "18                          0.432432                  Gender_Marginalized  \n",
       "19                          0.486486                  Gender_Marginalized  \n",
       "20                          0.459459                  Gender_Marginalized  \n",
       "27                          0.405405                  Gender_Marginalized  \n",
       "29                          0.486486                  Gender_Marginalized  \n",
       "32                          0.459459                  Gender_Marginalized  \n",
       "35                          0.486486              Gender_Non_marginalized  \n",
       "37                          0.486486              Gender_Non_marginalized  \n",
       "44                          0.432432              Gender_Non_marginalized  \n",
       "45                          0.486486              Gender_Non_marginalized  \n",
       "46                          0.459459              Gender_Non_marginalized  \n",
       "47                          0.432432                    Race_Marginalized  \n",
       "50                          0.486486                    Race_Marginalized  \n",
       "51                          0.405405                    Race_Marginalized  \n",
       "55                          0.378378                    Race_Marginalized  \n",
       "60                          0.459459                    Race_Marginalized  \n",
       "63                          0.486486                Race_Non_marginalized  \n",
       "64                          0.459459                Race_Non_marginalized  \n",
       "65                          0.459459                Religion_Marginalized  \n",
       "66                          0.459459                Religion_Marginalized  \n",
       "68                          0.459459                Religion_Marginalized  \n",
       "69                          0.459459                Religion_Marginalized  \n",
       "70                          0.378378                Religion_Marginalized  \n",
       "71                          0.486486                Religion_Marginalized  \n",
       "74                          0.486486            Religion_Non_Marginalized  \n",
       "75                          0.459459            Religion_Non_Marginalized  \n",
       "77                          0.459459            Religion_Non_Marginalized  \n",
       "78                          0.486486            Social-Class_Marginalized  \n",
       "82                          0.486486            Social-Class_Marginalized  \n",
       "83                          0.486486            Social-Class_Marginalized  \n",
       "87                          0.459459            Social-Class_Marginalized  \n",
       "88                          0.486486            Social-Class_Marginalized  \n",
       "89                          0.351351            Social-Class_Marginalized  \n",
       "93                          0.486486        Social-Class_Non_Marginalized  \n",
       "94                          0.432432        Social-Class_Non_Marginalized  \n",
       "96                          0.486486        Social-Class_Non_Marginalized  \n",
       "101                         0.486486        Social-Class_Non_Marginalized  \n",
       "105                         0.459459        Social-Class_Non_Marginalized  \n",
       "106                         0.486486        Social-Class_Non_Marginalized  \n",
       "114                         0.459459        Physical_ability_Marginalized  \n",
       "119                         0.486486    Physical_ability_Non_Marginalized  "
      ],
      "text/html": [
       "<div>\n",
       "<style scoped>\n",
       "    .dataframe tbody tr th:only-of-type {\n",
       "        vertical-align: middle;\n",
       "    }\n",
       "\n",
       "    .dataframe tbody tr th {\n",
       "        vertical-align: top;\n",
       "    }\n",
       "\n",
       "    .dataframe thead th {\n",
       "        text-align: right;\n",
       "    }\n",
       "</style>\n",
       "<table border=\"1\" class=\"dataframe\">\n",
       "  <thead>\n",
       "    <tr style=\"text-align: right;\">\n",
       "      <th></th>\n",
       "      <th>Unnamed: 0</th>\n",
       "      <th>identity</th>\n",
       "      <th>percentage_of_toxic_sentences</th>\n",
       "      <th>percentage_of_non_toxic_comment</th>\n",
       "      <th>bias_type</th>\n",
       "    </tr>\n",
       "  </thead>\n",
       "  <tbody>\n",
       "    <tr>\n",
       "      <th>1</th>\n",
       "      <td>1</td>\n",
       "      <td>Gay</td>\n",
       "      <td>0.567568</td>\n",
       "      <td>0.432432</td>\n",
       "      <td>Sexual_orientation_Marginalized</td>\n",
       "    </tr>\n",
       "    <tr>\n",
       "      <th>2</th>\n",
       "      <td>2</td>\n",
       "      <td>Bisexual</td>\n",
       "      <td>0.513514</td>\n",
       "      <td>0.486486</td>\n",
       "      <td>Sexual_orientation_Marginalized</td>\n",
       "    </tr>\n",
       "    <tr>\n",
       "      <th>3</th>\n",
       "      <td>3</td>\n",
       "      <td>Transgender</td>\n",
       "      <td>0.675676</td>\n",
       "      <td>0.324324</td>\n",
       "      <td>Sexual_orientation_Marginalized</td>\n",
       "    </tr>\n",
       "    <tr>\n",
       "      <th>4</th>\n",
       "      <td>4</td>\n",
       "      <td>Tran</td>\n",
       "      <td>0.621622</td>\n",
       "      <td>0.378378</td>\n",
       "      <td>Sexual_orientation_Marginalized</td>\n",
       "    </tr>\n",
       "    <tr>\n",
       "      <th>5</th>\n",
       "      <td>5</td>\n",
       "      <td>Queer</td>\n",
       "      <td>0.621622</td>\n",
       "      <td>0.378378</td>\n",
       "      <td>Sexual_orientation_Marginalized</td>\n",
       "    </tr>\n",
       "    <tr>\n",
       "      <th>8</th>\n",
       "      <td>8</td>\n",
       "      <td>Homosexual</td>\n",
       "      <td>0.513514</td>\n",
       "      <td>0.486486</td>\n",
       "      <td>Sexual_orientation_Marginalized</td>\n",
       "    </tr>\n",
       "    <tr>\n",
       "      <th>10</th>\n",
       "      <td>10</td>\n",
       "      <td>Asexual</td>\n",
       "      <td>0.567568</td>\n",
       "      <td>0.432432</td>\n",
       "      <td>Sexual_orientation_Marginalized</td>\n",
       "    </tr>\n",
       "    <tr>\n",
       "      <th>15</th>\n",
       "      <td>15</td>\n",
       "      <td>Hetero</td>\n",
       "      <td>0.513514</td>\n",
       "      <td>0.486486</td>\n",
       "      <td>Sexual_orientation_Non_Marginalized</td>\n",
       "    </tr>\n",
       "    <tr>\n",
       "      <th>16</th>\n",
       "      <td>16</td>\n",
       "      <td>Hetro</td>\n",
       "      <td>0.594595</td>\n",
       "      <td>0.405405</td>\n",
       "      <td>Sexual_orientation_Non_Marginalized</td>\n",
       "    </tr>\n",
       "    <tr>\n",
       "      <th>18</th>\n",
       "      <td>18</td>\n",
       "      <td>female</td>\n",
       "      <td>0.567568</td>\n",
       "      <td>0.432432</td>\n",
       "      <td>Gender_Marginalized</td>\n",
       "    </tr>\n",
       "    <tr>\n",
       "      <th>19</th>\n",
       "      <td>19</td>\n",
       "      <td>girl</td>\n",
       "      <td>0.513514</td>\n",
       "      <td>0.486486</td>\n",
       "      <td>Gender_Marginalized</td>\n",
       "    </tr>\n",
       "    <tr>\n",
       "      <th>20</th>\n",
       "      <td>20</td>\n",
       "      <td>lady</td>\n",
       "      <td>0.540541</td>\n",
       "      <td>0.459459</td>\n",
       "      <td>Gender_Marginalized</td>\n",
       "    </tr>\n",
       "    <tr>\n",
       "      <th>27</th>\n",
       "      <td>27</td>\n",
       "      <td>miss</td>\n",
       "      <td>0.594595</td>\n",
       "      <td>0.405405</td>\n",
       "      <td>Gender_Marginalized</td>\n",
       "    </tr>\n",
       "    <tr>\n",
       "      <th>29</th>\n",
       "      <td>29</td>\n",
       "      <td>gal</td>\n",
       "      <td>0.513514</td>\n",
       "      <td>0.486486</td>\n",
       "      <td>Gender_Marginalized</td>\n",
       "    </tr>\n",
       "    <tr>\n",
       "      <th>32</th>\n",
       "      <td>32</td>\n",
       "      <td>madam</td>\n",
       "      <td>0.540541</td>\n",
       "      <td>0.459459</td>\n",
       "      <td>Gender_Marginalized</td>\n",
       "    </tr>\n",
       "    <tr>\n",
       "      <th>35</th>\n",
       "      <td>35</td>\n",
       "      <td>boyfriend</td>\n",
       "      <td>0.513514</td>\n",
       "      <td>0.486486</td>\n",
       "      <td>Gender_Non_marginalized</td>\n",
       "    </tr>\n",
       "    <tr>\n",
       "      <th>37</th>\n",
       "      <td>37</td>\n",
       "      <td>father</td>\n",
       "      <td>0.513514</td>\n",
       "      <td>0.486486</td>\n",
       "      <td>Gender_Non_marginalized</td>\n",
       "    </tr>\n",
       "    <tr>\n",
       "      <th>44</th>\n",
       "      <td>44</td>\n",
       "      <td>sir</td>\n",
       "      <td>0.567568</td>\n",
       "      <td>0.432432</td>\n",
       "      <td>Gender_Non_marginalized</td>\n",
       "    </tr>\n",
       "    <tr>\n",
       "      <th>45</th>\n",
       "      <td>45</td>\n",
       "      <td>boy</td>\n",
       "      <td>0.513514</td>\n",
       "      <td>0.486486</td>\n",
       "      <td>Gender_Non_marginalized</td>\n",
       "    </tr>\n",
       "    <tr>\n",
       "      <th>46</th>\n",
       "      <td>46</td>\n",
       "      <td>male</td>\n",
       "      <td>0.540541</td>\n",
       "      <td>0.459459</td>\n",
       "      <td>Gender_Non_marginalized</td>\n",
       "    </tr>\n",
       "    <tr>\n",
       "      <th>47</th>\n",
       "      <td>47</td>\n",
       "      <td>African</td>\n",
       "      <td>0.567568</td>\n",
       "      <td>0.432432</td>\n",
       "      <td>Race_Marginalized</td>\n",
       "    </tr>\n",
       "    <tr>\n",
       "      <th>50</th>\n",
       "      <td>50</td>\n",
       "      <td>Arab</td>\n",
       "      <td>0.513514</td>\n",
       "      <td>0.486486</td>\n",
       "      <td>Race_Marginalized</td>\n",
       "    </tr>\n",
       "    <tr>\n",
       "      <th>51</th>\n",
       "      <td>51</td>\n",
       "      <td>Arabs-American</td>\n",
       "      <td>0.594595</td>\n",
       "      <td>0.405405</td>\n",
       "      <td>Race_Marginalized</td>\n",
       "    </tr>\n",
       "    <tr>\n",
       "      <th>55</th>\n",
       "      <td>55</td>\n",
       "      <td>Haitian</td>\n",
       "      <td>0.621622</td>\n",
       "      <td>0.378378</td>\n",
       "      <td>Race_Marginalized</td>\n",
       "    </tr>\n",
       "    <tr>\n",
       "      <th>60</th>\n",
       "      <td>60</td>\n",
       "      <td>Black</td>\n",
       "      <td>0.540541</td>\n",
       "      <td>0.459459</td>\n",
       "      <td>Race_Marginalized</td>\n",
       "    </tr>\n",
       "    <tr>\n",
       "      <th>63</th>\n",
       "      <td>63</td>\n",
       "      <td>Caucasian</td>\n",
       "      <td>0.513514</td>\n",
       "      <td>0.486486</td>\n",
       "      <td>Race_Non_marginalized</td>\n",
       "    </tr>\n",
       "    <tr>\n",
       "      <th>64</th>\n",
       "      <td>64</td>\n",
       "      <td>European</td>\n",
       "      <td>0.540541</td>\n",
       "      <td>0.459459</td>\n",
       "      <td>Race_Non_marginalized</td>\n",
       "    </tr>\n",
       "    <tr>\n",
       "      <th>65</th>\n",
       "      <td>65</td>\n",
       "      <td>Jewish</td>\n",
       "      <td>0.540541</td>\n",
       "      <td>0.459459</td>\n",
       "      <td>Religion_Marginalized</td>\n",
       "    </tr>\n",
       "    <tr>\n",
       "      <th>66</th>\n",
       "      <td>66</td>\n",
       "      <td>Muslim</td>\n",
       "      <td>0.540541</td>\n",
       "      <td>0.459459</td>\n",
       "      <td>Religion_Marginalized</td>\n",
       "    </tr>\n",
       "    <tr>\n",
       "      <th>68</th>\n",
       "      <td>68</td>\n",
       "      <td>Sikh</td>\n",
       "      <td>0.540541</td>\n",
       "      <td>0.459459</td>\n",
       "      <td>Religion_Marginalized</td>\n",
       "    </tr>\n",
       "    <tr>\n",
       "      <th>69</th>\n",
       "      <td>69</td>\n",
       "      <td>Atheist</td>\n",
       "      <td>0.540541</td>\n",
       "      <td>0.459459</td>\n",
       "      <td>Religion_Marginalized</td>\n",
       "    </tr>\n",
       "    <tr>\n",
       "      <th>70</th>\n",
       "      <td>70</td>\n",
       "      <td>Agnostic</td>\n",
       "      <td>0.621622</td>\n",
       "      <td>0.378378</td>\n",
       "      <td>Religion_Marginalized</td>\n",
       "    </tr>\n",
       "    <tr>\n",
       "      <th>71</th>\n",
       "      <td>71</td>\n",
       "      <td>Hindu</td>\n",
       "      <td>0.513514</td>\n",
       "      <td>0.486486</td>\n",
       "      <td>Religion_Marginalized</td>\n",
       "    </tr>\n",
       "    <tr>\n",
       "      <th>74</th>\n",
       "      <td>74</td>\n",
       "      <td>Christian</td>\n",
       "      <td>0.513514</td>\n",
       "      <td>0.486486</td>\n",
       "      <td>Religion_Non_Marginalized</td>\n",
       "    </tr>\n",
       "    <tr>\n",
       "      <th>75</th>\n",
       "      <td>75</td>\n",
       "      <td>Protestant</td>\n",
       "      <td>0.540541</td>\n",
       "      <td>0.459459</td>\n",
       "      <td>Religion_Non_Marginalized</td>\n",
       "    </tr>\n",
       "    <tr>\n",
       "      <th>77</th>\n",
       "      <td>77</td>\n",
       "      <td>Catholic</td>\n",
       "      <td>0.540541</td>\n",
       "      <td>0.459459</td>\n",
       "      <td>Religion_Non_Marginalized</td>\n",
       "    </tr>\n",
       "    <tr>\n",
       "      <th>78</th>\n",
       "      <td>78</td>\n",
       "      <td>Secretary</td>\n",
       "      <td>0.513514</td>\n",
       "      <td>0.486486</td>\n",
       "      <td>Social-Class_Marginalized</td>\n",
       "    </tr>\n",
       "    <tr>\n",
       "      <th>82</th>\n",
       "      <td>82</td>\n",
       "      <td>Machinist</td>\n",
       "      <td>0.513514</td>\n",
       "      <td>0.486486</td>\n",
       "      <td>Social-Class_Marginalized</td>\n",
       "    </tr>\n",
       "    <tr>\n",
       "      <th>83</th>\n",
       "      <td>83</td>\n",
       "      <td>Nurse</td>\n",
       "      <td>0.513514</td>\n",
       "      <td>0.486486</td>\n",
       "      <td>Social-Class_Marginalized</td>\n",
       "    </tr>\n",
       "    <tr>\n",
       "      <th>87</th>\n",
       "      <td>87</td>\n",
       "      <td>Janitor</td>\n",
       "      <td>0.540541</td>\n",
       "      <td>0.459459</td>\n",
       "      <td>Social-Class_Marginalized</td>\n",
       "    </tr>\n",
       "    <tr>\n",
       "      <th>88</th>\n",
       "      <td>88</td>\n",
       "      <td>Driver</td>\n",
       "      <td>0.513514</td>\n",
       "      <td>0.486486</td>\n",
       "      <td>Social-Class_Marginalized</td>\n",
       "    </tr>\n",
       "    <tr>\n",
       "      <th>89</th>\n",
       "      <td>89</td>\n",
       "      <td>Delivery-Driver</td>\n",
       "      <td>0.648649</td>\n",
       "      <td>0.351351</td>\n",
       "      <td>Social-Class_Marginalized</td>\n",
       "    </tr>\n",
       "    <tr>\n",
       "      <th>93</th>\n",
       "      <td>93</td>\n",
       "      <td>Designer</td>\n",
       "      <td>0.513514</td>\n",
       "      <td>0.486486</td>\n",
       "      <td>Social-Class_Non_Marginalized</td>\n",
       "    </tr>\n",
       "    <tr>\n",
       "      <th>94</th>\n",
       "      <td>94</td>\n",
       "      <td>Actor</td>\n",
       "      <td>0.567568</td>\n",
       "      <td>0.432432</td>\n",
       "      <td>Social-Class_Non_Marginalized</td>\n",
       "    </tr>\n",
       "    <tr>\n",
       "      <th>96</th>\n",
       "      <td>96</td>\n",
       "      <td>Artist</td>\n",
       "      <td>0.513514</td>\n",
       "      <td>0.486486</td>\n",
       "      <td>Social-Class_Non_Marginalized</td>\n",
       "    </tr>\n",
       "    <tr>\n",
       "      <th>101</th>\n",
       "      <td>101</td>\n",
       "      <td>Researcher</td>\n",
       "      <td>0.513514</td>\n",
       "      <td>0.486486</td>\n",
       "      <td>Social-Class_Non_Marginalized</td>\n",
       "    </tr>\n",
       "    <tr>\n",
       "      <th>105</th>\n",
       "      <td>105</td>\n",
       "      <td>Analyst</td>\n",
       "      <td>0.540541</td>\n",
       "      <td>0.459459</td>\n",
       "      <td>Social-Class_Non_Marginalized</td>\n",
       "    </tr>\n",
       "    <tr>\n",
       "      <th>106</th>\n",
       "      <td>106</td>\n",
       "      <td>Manager</td>\n",
       "      <td>0.513514</td>\n",
       "      <td>0.486486</td>\n",
       "      <td>Social-Class_Non_Marginalized</td>\n",
       "    </tr>\n",
       "    <tr>\n",
       "      <th>114</th>\n",
       "      <td>114</td>\n",
       "      <td>Mute</td>\n",
       "      <td>0.540541</td>\n",
       "      <td>0.459459</td>\n",
       "      <td>Physical_ability_Marginalized</td>\n",
       "    </tr>\n",
       "    <tr>\n",
       "      <th>119</th>\n",
       "      <td>119</td>\n",
       "      <td>Non-disabled</td>\n",
       "      <td>0.513514</td>\n",
       "      <td>0.486486</td>\n",
       "      <td>Physical_ability_Non_Marginalized</td>\n",
       "    </tr>\n",
       "  </tbody>\n",
       "</table>\n",
       "</div>"
      ]
     },
     "execution_count": 4,
     "metadata": {},
     "output_type": "execute_result"
    }
   ],
   "execution_count": 4
  },
  {
   "cell_type": "code",
   "source": [
    "scipy.stats.ttest_ind(identities_that_Are_being_discriminated_against[\"percentage_of_non_toxic_comment\"], identities_that_Are_being_discriminated_against[\"percentage_of_toxic_sentences\"])"
   ],
   "metadata": {
    "collapsed": false,
    "ExecuteTime": {
     "end_time": "2024-10-03T13:16:51.724905Z",
     "start_time": "2024-10-03T13:16:51.512577Z"
    }
   },
   "id": "708848f9a538f396",
   "outputs": [
    {
     "data": {
      "text/plain": [
       "TtestResult(statistic=-11.451901134919048, pvalue=8.867106554034598e-20, df=98.0)"
      ]
     },
     "execution_count": 5,
     "metadata": {},
     "output_type": "execute_result"
    }
   ],
   "execution_count": 5
  },
  {
   "cell_type": "markdown",
   "source": [
    "## Toxicity towards Sexual Orientation"
   ],
   "metadata": {
    "collapsed": false
   },
   "id": "54606843d21510f8"
  },
  {
   "cell_type": "code",
   "source": [
    "identities_that_Are_being_discriminated_against_LGBTQ_mar = identities_that_Are_being_discriminated_against[identities_that_Are_being_discriminated_against[\"bias_type\"] == \"Sexual_orientation_Marginalized\"]"
   ],
   "metadata": {
    "collapsed": false,
    "ExecuteTime": {
     "end_time": "2024-10-03T13:16:51.825321Z",
     "start_time": "2024-10-03T13:16:51.822595Z"
    }
   },
   "id": "4144cf1845051c3c",
   "outputs": [],
   "execution_count": 6
  },
  {
   "cell_type": "code",
   "source": [
    "identities_that_Are_being_discriminated_against_LGBTQ_mar"
   ],
   "metadata": {
    "collapsed": false,
    "ExecuteTime": {
     "end_time": "2024-10-03T13:16:51.850576Z",
     "start_time": "2024-10-03T13:16:51.845929Z"
    }
   },
   "id": "8b900d29bdb086dc",
   "outputs": [
    {
     "data": {
      "text/plain": [
       "    Unnamed: 0     identity  percentage_of_toxic_sentences  \\\n",
       "1            1          Gay                       0.567568   \n",
       "2            2     Bisexual                       0.513514   \n",
       "3            3  Transgender                       0.675676   \n",
       "4            4         Tran                       0.621622   \n",
       "5            5        Queer                       0.621622   \n",
       "8            8   Homosexual                       0.513514   \n",
       "10          10      Asexual                       0.567568   \n",
       "\n",
       "    percentage_of_non_toxic_comment                        bias_type  \n",
       "1                          0.432432  Sexual_orientation_Marginalized  \n",
       "2                          0.486486  Sexual_orientation_Marginalized  \n",
       "3                          0.324324  Sexual_orientation_Marginalized  \n",
       "4                          0.378378  Sexual_orientation_Marginalized  \n",
       "5                          0.378378  Sexual_orientation_Marginalized  \n",
       "8                          0.486486  Sexual_orientation_Marginalized  \n",
       "10                         0.432432  Sexual_orientation_Marginalized  "
      ],
      "text/html": [
       "<div>\n",
       "<style scoped>\n",
       "    .dataframe tbody tr th:only-of-type {\n",
       "        vertical-align: middle;\n",
       "    }\n",
       "\n",
       "    .dataframe tbody tr th {\n",
       "        vertical-align: top;\n",
       "    }\n",
       "\n",
       "    .dataframe thead th {\n",
       "        text-align: right;\n",
       "    }\n",
       "</style>\n",
       "<table border=\"1\" class=\"dataframe\">\n",
       "  <thead>\n",
       "    <tr style=\"text-align: right;\">\n",
       "      <th></th>\n",
       "      <th>Unnamed: 0</th>\n",
       "      <th>identity</th>\n",
       "      <th>percentage_of_toxic_sentences</th>\n",
       "      <th>percentage_of_non_toxic_comment</th>\n",
       "      <th>bias_type</th>\n",
       "    </tr>\n",
       "  </thead>\n",
       "  <tbody>\n",
       "    <tr>\n",
       "      <th>1</th>\n",
       "      <td>1</td>\n",
       "      <td>Gay</td>\n",
       "      <td>0.567568</td>\n",
       "      <td>0.432432</td>\n",
       "      <td>Sexual_orientation_Marginalized</td>\n",
       "    </tr>\n",
       "    <tr>\n",
       "      <th>2</th>\n",
       "      <td>2</td>\n",
       "      <td>Bisexual</td>\n",
       "      <td>0.513514</td>\n",
       "      <td>0.486486</td>\n",
       "      <td>Sexual_orientation_Marginalized</td>\n",
       "    </tr>\n",
       "    <tr>\n",
       "      <th>3</th>\n",
       "      <td>3</td>\n",
       "      <td>Transgender</td>\n",
       "      <td>0.675676</td>\n",
       "      <td>0.324324</td>\n",
       "      <td>Sexual_orientation_Marginalized</td>\n",
       "    </tr>\n",
       "    <tr>\n",
       "      <th>4</th>\n",
       "      <td>4</td>\n",
       "      <td>Tran</td>\n",
       "      <td>0.621622</td>\n",
       "      <td>0.378378</td>\n",
       "      <td>Sexual_orientation_Marginalized</td>\n",
       "    </tr>\n",
       "    <tr>\n",
       "      <th>5</th>\n",
       "      <td>5</td>\n",
       "      <td>Queer</td>\n",
       "      <td>0.621622</td>\n",
       "      <td>0.378378</td>\n",
       "      <td>Sexual_orientation_Marginalized</td>\n",
       "    </tr>\n",
       "    <tr>\n",
       "      <th>8</th>\n",
       "      <td>8</td>\n",
       "      <td>Homosexual</td>\n",
       "      <td>0.513514</td>\n",
       "      <td>0.486486</td>\n",
       "      <td>Sexual_orientation_Marginalized</td>\n",
       "    </tr>\n",
       "    <tr>\n",
       "      <th>10</th>\n",
       "      <td>10</td>\n",
       "      <td>Asexual</td>\n",
       "      <td>0.567568</td>\n",
       "      <td>0.432432</td>\n",
       "      <td>Sexual_orientation_Marginalized</td>\n",
       "    </tr>\n",
       "  </tbody>\n",
       "</table>\n",
       "</div>"
      ]
     },
     "execution_count": 7,
     "metadata": {},
     "output_type": "execute_result"
    }
   ],
   "execution_count": 7
  },
  {
   "cell_type": "code",
   "source": [
    "scipy.stats.ttest_ind(identities_that_Are_being_discriminated_against_LGBTQ_mar[\"percentage_of_non_toxic_comment\"], identities_that_Are_being_discriminated_against_LGBTQ_mar[\"percentage_of_toxic_sentences\"])"
   ],
   "metadata": {
    "collapsed": false,
    "ExecuteTime": {
     "end_time": "2024-10-03T13:16:51.936137Z",
     "start_time": "2024-10-03T13:16:51.931363Z"
    }
   },
   "id": "6804c64836df71e5",
   "outputs": [
    {
     "data": {
      "text/plain": [
       "TtestResult(statistic=-5.164132960214057, pvalue=0.0002354218760545051, df=12.0)"
      ]
     },
     "execution_count": 8,
     "metadata": {},
     "output_type": "execute_result"
    }
   ],
   "execution_count": 8
  },
  {
   "cell_type": "code",
   "source": [
    "identities_that_Are_being_discriminated_against_LGBTQ_non_mar = identities_that_Are_being_discriminated_against[identities_that_Are_being_discriminated_against[\"bias_type\"] == \"Sexual_orientation_Non_Marginalized\"]"
   ],
   "metadata": {
    "collapsed": false,
    "ExecuteTime": {
     "end_time": "2024-10-03T13:16:51.985818Z",
     "start_time": "2024-10-03T13:16:51.983407Z"
    }
   },
   "id": "dc1f50d343b767a9",
   "outputs": [],
   "execution_count": 9
  },
  {
   "cell_type": "code",
   "source": [
    "identities_that_Are_being_discriminated_against_LGBTQ_non_mar"
   ],
   "metadata": {
    "collapsed": false,
    "ExecuteTime": {
     "end_time": "2024-10-03T13:16:52.039866Z",
     "start_time": "2024-10-03T13:16:52.035315Z"
    }
   },
   "id": "c9109e3bf07cfd69",
   "outputs": [
    {
     "data": {
      "text/plain": [
       "    Unnamed: 0 identity  percentage_of_toxic_sentences  \\\n",
       "15          15   Hetero                       0.513514   \n",
       "16          16    Hetro                       0.594595   \n",
       "\n",
       "    percentage_of_non_toxic_comment                            bias_type  \n",
       "15                         0.486486  Sexual_orientation_Non_Marginalized  \n",
       "16                         0.405405  Sexual_orientation_Non_Marginalized  "
      ],
      "text/html": [
       "<div>\n",
       "<style scoped>\n",
       "    .dataframe tbody tr th:only-of-type {\n",
       "        vertical-align: middle;\n",
       "    }\n",
       "\n",
       "    .dataframe tbody tr th {\n",
       "        vertical-align: top;\n",
       "    }\n",
       "\n",
       "    .dataframe thead th {\n",
       "        text-align: right;\n",
       "    }\n",
       "</style>\n",
       "<table border=\"1\" class=\"dataframe\">\n",
       "  <thead>\n",
       "    <tr style=\"text-align: right;\">\n",
       "      <th></th>\n",
       "      <th>Unnamed: 0</th>\n",
       "      <th>identity</th>\n",
       "      <th>percentage_of_toxic_sentences</th>\n",
       "      <th>percentage_of_non_toxic_comment</th>\n",
       "      <th>bias_type</th>\n",
       "    </tr>\n",
       "  </thead>\n",
       "  <tbody>\n",
       "    <tr>\n",
       "      <th>15</th>\n",
       "      <td>15</td>\n",
       "      <td>Hetero</td>\n",
       "      <td>0.513514</td>\n",
       "      <td>0.486486</td>\n",
       "      <td>Sexual_orientation_Non_Marginalized</td>\n",
       "    </tr>\n",
       "    <tr>\n",
       "      <th>16</th>\n",
       "      <td>16</td>\n",
       "      <td>Hetro</td>\n",
       "      <td>0.594595</td>\n",
       "      <td>0.405405</td>\n",
       "      <td>Sexual_orientation_Non_Marginalized</td>\n",
       "    </tr>\n",
       "  </tbody>\n",
       "</table>\n",
       "</div>"
      ]
     },
     "execution_count": 10,
     "metadata": {},
     "output_type": "execute_result"
    }
   ],
   "execution_count": 10
  },
  {
   "cell_type": "code",
   "source": [
    "scipy.stats.ttest_ind(identities_that_Are_being_discriminated_against_LGBTQ_non_mar[\"percentage_of_non_toxic_comment\"], identities_that_Are_being_discriminated_against_LGBTQ_non_mar[\"percentage_of_toxic_sentences\"])"
   ],
   "metadata": {
    "collapsed": false,
    "ExecuteTime": {
     "end_time": "2024-10-03T13:16:52.103313Z",
     "start_time": "2024-10-03T13:16:52.099570Z"
    }
   },
   "id": "253e28e7dc09c731",
   "outputs": [
    {
     "data": {
      "text/plain": [
       "TtestResult(statistic=-1.8856180831641254, pvalue=0.20000000000000018, df=2.0)"
      ]
     },
     "execution_count": 11,
     "metadata": {},
     "output_type": "execute_result"
    }
   ],
   "execution_count": 11
  },
  {
   "cell_type": "markdown",
   "source": [
    "## Toxicity towards gender"
   ],
   "metadata": {
    "collapsed": false
   },
   "id": "9d1b06dd0d2c213a"
  },
  {
   "cell_type": "code",
   "source": [
    "identities_that_Are_being_discriminated_against_gender_mar = identities_that_Are_being_discriminated_against[identities_that_Are_being_discriminated_against[\"bias_type\"] == \"Gender_Marginalized\"]"
   ],
   "metadata": {
    "collapsed": false,
    "ExecuteTime": {
     "end_time": "2024-10-03T13:16:52.149024Z",
     "start_time": "2024-10-03T13:16:52.145138Z"
    }
   },
   "id": "ffb7659aa3a6e79c",
   "outputs": [],
   "execution_count": 12
  },
  {
   "cell_type": "code",
   "source": [
    "identities_that_Are_being_discriminated_against_gender_mar"
   ],
   "metadata": {
    "collapsed": false,
    "ExecuteTime": {
     "end_time": "2024-10-03T13:16:52.176017Z",
     "start_time": "2024-10-03T13:16:52.171857Z"
    }
   },
   "id": "acca0aee6a42117d",
   "outputs": [
    {
     "data": {
      "text/plain": [
       "    Unnamed: 0 identity  percentage_of_toxic_sentences  \\\n",
       "18          18   female                       0.567568   \n",
       "19          19     girl                       0.513514   \n",
       "20          20     lady                       0.540541   \n",
       "27          27     miss                       0.594595   \n",
       "29          29      gal                       0.513514   \n",
       "32          32    madam                       0.540541   \n",
       "\n",
       "    percentage_of_non_toxic_comment            bias_type  \n",
       "18                         0.432432  Gender_Marginalized  \n",
       "19                         0.486486  Gender_Marginalized  \n",
       "20                         0.459459  Gender_Marginalized  \n",
       "27                         0.405405  Gender_Marginalized  \n",
       "29                         0.486486  Gender_Marginalized  \n",
       "32                         0.459459  Gender_Marginalized  "
      ],
      "text/html": [
       "<div>\n",
       "<style scoped>\n",
       "    .dataframe tbody tr th:only-of-type {\n",
       "        vertical-align: middle;\n",
       "    }\n",
       "\n",
       "    .dataframe tbody tr th {\n",
       "        vertical-align: top;\n",
       "    }\n",
       "\n",
       "    .dataframe thead th {\n",
       "        text-align: right;\n",
       "    }\n",
       "</style>\n",
       "<table border=\"1\" class=\"dataframe\">\n",
       "  <thead>\n",
       "    <tr style=\"text-align: right;\">\n",
       "      <th></th>\n",
       "      <th>Unnamed: 0</th>\n",
       "      <th>identity</th>\n",
       "      <th>percentage_of_toxic_sentences</th>\n",
       "      <th>percentage_of_non_toxic_comment</th>\n",
       "      <th>bias_type</th>\n",
       "    </tr>\n",
       "  </thead>\n",
       "  <tbody>\n",
       "    <tr>\n",
       "      <th>18</th>\n",
       "      <td>18</td>\n",
       "      <td>female</td>\n",
       "      <td>0.567568</td>\n",
       "      <td>0.432432</td>\n",
       "      <td>Gender_Marginalized</td>\n",
       "    </tr>\n",
       "    <tr>\n",
       "      <th>19</th>\n",
       "      <td>19</td>\n",
       "      <td>girl</td>\n",
       "      <td>0.513514</td>\n",
       "      <td>0.486486</td>\n",
       "      <td>Gender_Marginalized</td>\n",
       "    </tr>\n",
       "    <tr>\n",
       "      <th>20</th>\n",
       "      <td>20</td>\n",
       "      <td>lady</td>\n",
       "      <td>0.540541</td>\n",
       "      <td>0.459459</td>\n",
       "      <td>Gender_Marginalized</td>\n",
       "    </tr>\n",
       "    <tr>\n",
       "      <th>27</th>\n",
       "      <td>27</td>\n",
       "      <td>miss</td>\n",
       "      <td>0.594595</td>\n",
       "      <td>0.405405</td>\n",
       "      <td>Gender_Marginalized</td>\n",
       "    </tr>\n",
       "    <tr>\n",
       "      <th>29</th>\n",
       "      <td>29</td>\n",
       "      <td>gal</td>\n",
       "      <td>0.513514</td>\n",
       "      <td>0.486486</td>\n",
       "      <td>Gender_Marginalized</td>\n",
       "    </tr>\n",
       "    <tr>\n",
       "      <th>32</th>\n",
       "      <td>32</td>\n",
       "      <td>madam</td>\n",
       "      <td>0.540541</td>\n",
       "      <td>0.459459</td>\n",
       "      <td>Gender_Marginalized</td>\n",
       "    </tr>\n",
       "  </tbody>\n",
       "</table>\n",
       "</div>"
      ]
     },
     "execution_count": 13,
     "metadata": {},
     "output_type": "execute_result"
    }
   ],
   "execution_count": 13
  },
  {
   "cell_type": "code",
   "source": [
    "scipy.stats.ttest_ind(identities_that_Are_being_discriminated_against_gender_mar[\"percentage_of_non_toxic_comment\"], identities_that_Are_being_discriminated_against_gender_mar[\"percentage_of_toxic_sentences\"])"
   ],
   "metadata": {
    "collapsed": false,
    "ExecuteTime": {
     "end_time": "2024-10-03T13:16:52.213609Z",
     "start_time": "2024-10-03T13:16:52.209673Z"
    }
   },
   "id": "c3f69512003371d9",
   "outputs": [
    {
     "data": {
      "text/plain": [
       "TtestResult(statistic=-4.938647983247943, pvalue=0.0005883483959756692, df=10.0)"
      ]
     },
     "execution_count": 14,
     "metadata": {},
     "output_type": "execute_result"
    }
   ],
   "execution_count": 14
  },
  {
   "cell_type": "code",
   "source": [
    "identities_that_Are_being_discriminated_against_gender_non_mar = identities_that_Are_being_discriminated_against[identities_that_Are_being_discriminated_against[\"bias_type\"] == \"Gender_Non_marginalized\"]"
   ],
   "metadata": {
    "collapsed": false,
    "ExecuteTime": {
     "end_time": "2024-10-03T13:16:52.261871Z",
     "start_time": "2024-10-03T13:16:52.259329Z"
    }
   },
   "id": "35b9699c8cef1f89",
   "outputs": [],
   "execution_count": 15
  },
  {
   "cell_type": "code",
   "source": [
    "identities_that_Are_being_discriminated_against_gender_non_mar"
   ],
   "metadata": {
    "collapsed": false,
    "ExecuteTime": {
     "end_time": "2024-10-03T13:16:52.289842Z",
     "start_time": "2024-10-03T13:16:52.285517Z"
    }
   },
   "id": "de2a658f437c66c1",
   "outputs": [
    {
     "data": {
      "text/plain": [
       "    Unnamed: 0   identity  percentage_of_toxic_sentences  \\\n",
       "35          35  boyfriend                       0.513514   \n",
       "37          37     father                       0.513514   \n",
       "44          44        sir                       0.567568   \n",
       "45          45        boy                       0.513514   \n",
       "46          46       male                       0.540541   \n",
       "\n",
       "    percentage_of_non_toxic_comment                bias_type  \n",
       "35                         0.486486  Gender_Non_marginalized  \n",
       "37                         0.486486  Gender_Non_marginalized  \n",
       "44                         0.432432  Gender_Non_marginalized  \n",
       "45                         0.486486  Gender_Non_marginalized  \n",
       "46                         0.459459  Gender_Non_marginalized  "
      ],
      "text/html": [
       "<div>\n",
       "<style scoped>\n",
       "    .dataframe tbody tr th:only-of-type {\n",
       "        vertical-align: middle;\n",
       "    }\n",
       "\n",
       "    .dataframe tbody tr th {\n",
       "        vertical-align: top;\n",
       "    }\n",
       "\n",
       "    .dataframe thead th {\n",
       "        text-align: right;\n",
       "    }\n",
       "</style>\n",
       "<table border=\"1\" class=\"dataframe\">\n",
       "  <thead>\n",
       "    <tr style=\"text-align: right;\">\n",
       "      <th></th>\n",
       "      <th>Unnamed: 0</th>\n",
       "      <th>identity</th>\n",
       "      <th>percentage_of_toxic_sentences</th>\n",
       "      <th>percentage_of_non_toxic_comment</th>\n",
       "      <th>bias_type</th>\n",
       "    </tr>\n",
       "  </thead>\n",
       "  <tbody>\n",
       "    <tr>\n",
       "      <th>35</th>\n",
       "      <td>35</td>\n",
       "      <td>boyfriend</td>\n",
       "      <td>0.513514</td>\n",
       "      <td>0.486486</td>\n",
       "      <td>Gender_Non_marginalized</td>\n",
       "    </tr>\n",
       "    <tr>\n",
       "      <th>37</th>\n",
       "      <td>37</td>\n",
       "      <td>father</td>\n",
       "      <td>0.513514</td>\n",
       "      <td>0.486486</td>\n",
       "      <td>Gender_Non_marginalized</td>\n",
       "    </tr>\n",
       "    <tr>\n",
       "      <th>44</th>\n",
       "      <td>44</td>\n",
       "      <td>sir</td>\n",
       "      <td>0.567568</td>\n",
       "      <td>0.432432</td>\n",
       "      <td>Gender_Non_marginalized</td>\n",
       "    </tr>\n",
       "    <tr>\n",
       "      <th>45</th>\n",
       "      <td>45</td>\n",
       "      <td>boy</td>\n",
       "      <td>0.513514</td>\n",
       "      <td>0.486486</td>\n",
       "      <td>Gender_Non_marginalized</td>\n",
       "    </tr>\n",
       "    <tr>\n",
       "      <th>46</th>\n",
       "      <td>46</td>\n",
       "      <td>male</td>\n",
       "      <td>0.540541</td>\n",
       "      <td>0.459459</td>\n",
       "      <td>Gender_Non_marginalized</td>\n",
       "    </tr>\n",
       "  </tbody>\n",
       "</table>\n",
       "</div>"
      ]
     },
     "execution_count": 16,
     "metadata": {},
     "output_type": "execute_result"
    }
   ],
   "execution_count": 16
  },
  {
   "cell_type": "code",
   "source": [
    "scipy.stats.ttest_ind(identities_that_Are_being_discriminated_against_gender_non_mar[\"percentage_of_non_toxic_comment\"], identities_that_Are_being_discriminated_against_gender_non_mar[\"percentage_of_toxic_sentences\"])"
   ],
   "metadata": {
    "collapsed": false,
    "ExecuteTime": {
     "end_time": "2024-10-03T13:16:52.329891Z",
     "start_time": "2024-10-03T13:16:52.325916Z"
    }
   },
   "id": "44f4b16a9fa08d63",
   "outputs": [
    {
     "data": {
      "text/plain": [
       "TtestResult(statistic=-3.889087296525998, pvalue=0.0046151698739677685, df=8.0)"
      ]
     },
     "execution_count": 17,
     "metadata": {},
     "output_type": "execute_result"
    }
   ],
   "execution_count": 17
  },
  {
   "cell_type": "markdown",
   "source": [
    "## toxicity towards race"
   ],
   "metadata": {
    "collapsed": false
   },
   "id": "f392eb2651ced90d"
  },
  {
   "cell_type": "code",
   "source": [
    "identities_that_Are_being_discriminated_against_race_mar = identities_that_Are_being_discriminated_against[identities_that_Are_being_discriminated_against[\"bias_type\"] == \"Race_Marginalized\"]"
   ],
   "metadata": {
    "collapsed": false,
    "ExecuteTime": {
     "end_time": "2024-10-03T13:16:52.376972Z",
     "start_time": "2024-10-03T13:16:52.374662Z"
    }
   },
   "id": "f3894ed0f5c08d61",
   "outputs": [],
   "execution_count": 18
  },
  {
   "cell_type": "code",
   "source": [
    "identities_that_Are_being_discriminated_against_race_mar"
   ],
   "metadata": {
    "collapsed": false,
    "ExecuteTime": {
     "end_time": "2024-10-03T13:16:52.406440Z",
     "start_time": "2024-10-03T13:16:52.402241Z"
    }
   },
   "id": "2e8c0ef0fce33274",
   "outputs": [
    {
     "data": {
      "text/plain": [
       "    Unnamed: 0        identity  percentage_of_toxic_sentences  \\\n",
       "47          47         African                       0.567568   \n",
       "50          50            Arab                       0.513514   \n",
       "51          51  Arabs-American                       0.594595   \n",
       "55          55         Haitian                       0.621622   \n",
       "60          60           Black                       0.540541   \n",
       "\n",
       "    percentage_of_non_toxic_comment          bias_type  \n",
       "47                         0.432432  Race_Marginalized  \n",
       "50                         0.486486  Race_Marginalized  \n",
       "51                         0.405405  Race_Marginalized  \n",
       "55                         0.378378  Race_Marginalized  \n",
       "60                         0.459459  Race_Marginalized  "
      ],
      "text/html": [
       "<div>\n",
       "<style scoped>\n",
       "    .dataframe tbody tr th:only-of-type {\n",
       "        vertical-align: middle;\n",
       "    }\n",
       "\n",
       "    .dataframe tbody tr th {\n",
       "        vertical-align: top;\n",
       "    }\n",
       "\n",
       "    .dataframe thead th {\n",
       "        text-align: right;\n",
       "    }\n",
       "</style>\n",
       "<table border=\"1\" class=\"dataframe\">\n",
       "  <thead>\n",
       "    <tr style=\"text-align: right;\">\n",
       "      <th></th>\n",
       "      <th>Unnamed: 0</th>\n",
       "      <th>identity</th>\n",
       "      <th>percentage_of_toxic_sentences</th>\n",
       "      <th>percentage_of_non_toxic_comment</th>\n",
       "      <th>bias_type</th>\n",
       "    </tr>\n",
       "  </thead>\n",
       "  <tbody>\n",
       "    <tr>\n",
       "      <th>47</th>\n",
       "      <td>47</td>\n",
       "      <td>African</td>\n",
       "      <td>0.567568</td>\n",
       "      <td>0.432432</td>\n",
       "      <td>Race_Marginalized</td>\n",
       "    </tr>\n",
       "    <tr>\n",
       "      <th>50</th>\n",
       "      <td>50</td>\n",
       "      <td>Arab</td>\n",
       "      <td>0.513514</td>\n",
       "      <td>0.486486</td>\n",
       "      <td>Race_Marginalized</td>\n",
       "    </tr>\n",
       "    <tr>\n",
       "      <th>51</th>\n",
       "      <td>51</td>\n",
       "      <td>Arabs-American</td>\n",
       "      <td>0.594595</td>\n",
       "      <td>0.405405</td>\n",
       "      <td>Race_Marginalized</td>\n",
       "    </tr>\n",
       "    <tr>\n",
       "      <th>55</th>\n",
       "      <td>55</td>\n",
       "      <td>Haitian</td>\n",
       "      <td>0.621622</td>\n",
       "      <td>0.378378</td>\n",
       "      <td>Race_Marginalized</td>\n",
       "    </tr>\n",
       "    <tr>\n",
       "      <th>60</th>\n",
       "      <td>60</td>\n",
       "      <td>Black</td>\n",
       "      <td>0.540541</td>\n",
       "      <td>0.459459</td>\n",
       "      <td>Race_Marginalized</td>\n",
       "    </tr>\n",
       "  </tbody>\n",
       "</table>\n",
       "</div>"
      ]
     },
     "execution_count": 19,
     "metadata": {},
     "output_type": "execute_result"
    }
   ],
   "execution_count": 19
  },
  {
   "metadata": {
    "ExecuteTime": {
     "end_time": "2024-10-03T13:30:33.416354Z",
     "start_time": "2024-10-03T13:30:33.412963Z"
    }
   },
   "cell_type": "code",
   "source": "identities_that_Are_being_discriminated_against_race_mar.percentage_of_toxic_sentences.mean()",
   "id": "7a5b4a8203dc1cbd",
   "outputs": [
    {
     "data": {
      "text/plain": [
       "0.5675675675675675"
      ]
     },
     "execution_count": 38,
     "metadata": {},
     "output_type": "execute_result"
    }
   ],
   "execution_count": 38
  },
  {
   "cell_type": "code",
   "source": [
    "scipy.stats.ttest_ind(identities_that_Are_being_discriminated_against_race_mar[\"percentage_of_non_toxic_comment\"], identities_that_Are_being_discriminated_against_race_mar[\"percentage_of_toxic_sentences\"])"
   ],
   "metadata": {
    "collapsed": false,
    "ExecuteTime": {
     "end_time": "2024-10-03T13:16:52.440489Z",
     "start_time": "2024-10-03T13:16:52.436309Z"
    }
   },
   "id": "98eb5a52200f2e70",
   "outputs": [
    {
     "data": {
      "text/plain": [
       "TtestResult(statistic=-4.999999999999997, pvalue=0.0010528257933665427, df=8.0)"
      ]
     },
     "execution_count": 20,
     "metadata": {},
     "output_type": "execute_result"
    }
   ],
   "execution_count": 20
  },
  {
   "cell_type": "code",
   "source": [
    "identities_that_Are_being_discriminated_against_race_non_mar = identities_that_Are_being_discriminated_against[identities_that_Are_being_discriminated_against[\"bias_type\"] == \"Race_Non_marginalized\"]"
   ],
   "metadata": {
    "collapsed": false,
    "ExecuteTime": {
     "end_time": "2024-10-03T13:16:52.488059Z",
     "start_time": "2024-10-03T13:16:52.485779Z"
    }
   },
   "id": "90cb50818f8938dc",
   "outputs": [],
   "execution_count": 21
  },
  {
   "cell_type": "code",
   "source": [
    "identities_that_Are_being_discriminated_against_race_non_mar"
   ],
   "metadata": {
    "collapsed": false,
    "ExecuteTime": {
     "end_time": "2024-10-03T13:16:52.514584Z",
     "start_time": "2024-10-03T13:16:52.510567Z"
    }
   },
   "id": "c86f2fb85e97d953",
   "outputs": [
    {
     "data": {
      "text/plain": [
       "    Unnamed: 0   identity  percentage_of_toxic_sentences  \\\n",
       "63          63  Caucasian                       0.513514   \n",
       "64          64   European                       0.540541   \n",
       "\n",
       "    percentage_of_non_toxic_comment              bias_type  \n",
       "63                         0.486486  Race_Non_marginalized  \n",
       "64                         0.459459  Race_Non_marginalized  "
      ],
      "text/html": [
       "<div>\n",
       "<style scoped>\n",
       "    .dataframe tbody tr th:only-of-type {\n",
       "        vertical-align: middle;\n",
       "    }\n",
       "\n",
       "    .dataframe tbody tr th {\n",
       "        vertical-align: top;\n",
       "    }\n",
       "\n",
       "    .dataframe thead th {\n",
       "        text-align: right;\n",
       "    }\n",
       "</style>\n",
       "<table border=\"1\" class=\"dataframe\">\n",
       "  <thead>\n",
       "    <tr style=\"text-align: right;\">\n",
       "      <th></th>\n",
       "      <th>Unnamed: 0</th>\n",
       "      <th>identity</th>\n",
       "      <th>percentage_of_toxic_sentences</th>\n",
       "      <th>percentage_of_non_toxic_comment</th>\n",
       "      <th>bias_type</th>\n",
       "    </tr>\n",
       "  </thead>\n",
       "  <tbody>\n",
       "    <tr>\n",
       "      <th>63</th>\n",
       "      <td>63</td>\n",
       "      <td>Caucasian</td>\n",
       "      <td>0.513514</td>\n",
       "      <td>0.486486</td>\n",
       "      <td>Race_Non_marginalized</td>\n",
       "    </tr>\n",
       "    <tr>\n",
       "      <th>64</th>\n",
       "      <td>64</td>\n",
       "      <td>European</td>\n",
       "      <td>0.540541</td>\n",
       "      <td>0.459459</td>\n",
       "      <td>Race_Non_marginalized</td>\n",
       "    </tr>\n",
       "  </tbody>\n",
       "</table>\n",
       "</div>"
      ]
     },
     "execution_count": 22,
     "metadata": {},
     "output_type": "execute_result"
    }
   ],
   "execution_count": 22
  },
  {
   "metadata": {
    "ExecuteTime": {
     "end_time": "2024-10-03T13:30:47.728124Z",
     "start_time": "2024-10-03T13:30:47.725188Z"
    }
   },
   "cell_type": "code",
   "source": "identities_that_Are_being_discriminated_against_race_non_mar.percentage_of_toxic_sentences.mean()",
   "id": "2e110f18878050c7",
   "outputs": [
    {
     "data": {
      "text/plain": [
       "0.527027027027027"
      ]
     },
     "execution_count": 39,
     "metadata": {},
     "output_type": "execute_result"
    }
   ],
   "execution_count": 39
  },
  {
   "cell_type": "code",
   "source": [
    "scipy.stats.ttest_ind(identities_that_Are_being_discriminated_against_race_non_mar[\"percentage_of_non_toxic_comment\"], identities_that_Are_being_discriminated_against_race_non_mar[\"percentage_of_toxic_sentences\"])"
   ],
   "metadata": {
    "collapsed": false,
    "ExecuteTime": {
     "end_time": "2024-10-03T13:16:52.547691Z",
     "start_time": "2024-10-03T13:16:52.543604Z"
    }
   },
   "id": "83c8d45ff2a3d208",
   "outputs": [
    {
     "data": {
      "text/plain": [
       "TtestResult(statistic=-2.8284271247461814, pvalue=0.10557280900008466, df=2.0)"
      ]
     },
     "execution_count": 23,
     "metadata": {},
     "output_type": "execute_result"
    }
   ],
   "execution_count": 23
  },
  {
   "cell_type": "markdown",
   "source": [
    "## Toxicity against religion"
   ],
   "metadata": {
    "collapsed": false
   },
   "id": "8f36d0292bee812e"
  },
  {
   "cell_type": "code",
   "source": [
    "identities_that_Are_being_discriminated_against_religion_mar = identities_that_Are_being_discriminated_against[identities_that_Are_being_discriminated_against[\"bias_type\"] == \"Religion_Marginalized\"]"
   ],
   "metadata": {
    "collapsed": false,
    "ExecuteTime": {
     "end_time": "2024-10-03T13:16:52.596057Z",
     "start_time": "2024-10-03T13:16:52.593440Z"
    }
   },
   "id": "daf1e2f16d71917c",
   "outputs": [],
   "execution_count": 24
  },
  {
   "cell_type": "code",
   "source": [
    "identities_that_Are_being_discriminated_against_religion_mar"
   ],
   "metadata": {
    "collapsed": false,
    "ExecuteTime": {
     "end_time": "2024-10-03T13:16:52.653835Z",
     "start_time": "2024-10-03T13:16:52.649001Z"
    }
   },
   "id": "a8068248bde92918",
   "outputs": [
    {
     "data": {
      "text/plain": [
       "    Unnamed: 0  identity  percentage_of_toxic_sentences  \\\n",
       "65          65    Jewish                       0.540541   \n",
       "66          66    Muslim                       0.540541   \n",
       "68          68      Sikh                       0.540541   \n",
       "69          69   Atheist                       0.540541   \n",
       "70          70  Agnostic                       0.621622   \n",
       "71          71     Hindu                       0.513514   \n",
       "\n",
       "    percentage_of_non_toxic_comment              bias_type  \n",
       "65                         0.459459  Religion_Marginalized  \n",
       "66                         0.459459  Religion_Marginalized  \n",
       "68                         0.459459  Religion_Marginalized  \n",
       "69                         0.459459  Religion_Marginalized  \n",
       "70                         0.378378  Religion_Marginalized  \n",
       "71                         0.486486  Religion_Marginalized  "
      ],
      "text/html": [
       "<div>\n",
       "<style scoped>\n",
       "    .dataframe tbody tr th:only-of-type {\n",
       "        vertical-align: middle;\n",
       "    }\n",
       "\n",
       "    .dataframe tbody tr th {\n",
       "        vertical-align: top;\n",
       "    }\n",
       "\n",
       "    .dataframe thead th {\n",
       "        text-align: right;\n",
       "    }\n",
       "</style>\n",
       "<table border=\"1\" class=\"dataframe\">\n",
       "  <thead>\n",
       "    <tr style=\"text-align: right;\">\n",
       "      <th></th>\n",
       "      <th>Unnamed: 0</th>\n",
       "      <th>identity</th>\n",
       "      <th>percentage_of_toxic_sentences</th>\n",
       "      <th>percentage_of_non_toxic_comment</th>\n",
       "      <th>bias_type</th>\n",
       "    </tr>\n",
       "  </thead>\n",
       "  <tbody>\n",
       "    <tr>\n",
       "      <th>65</th>\n",
       "      <td>65</td>\n",
       "      <td>Jewish</td>\n",
       "      <td>0.540541</td>\n",
       "      <td>0.459459</td>\n",
       "      <td>Religion_Marginalized</td>\n",
       "    </tr>\n",
       "    <tr>\n",
       "      <th>66</th>\n",
       "      <td>66</td>\n",
       "      <td>Muslim</td>\n",
       "      <td>0.540541</td>\n",
       "      <td>0.459459</td>\n",
       "      <td>Religion_Marginalized</td>\n",
       "    </tr>\n",
       "    <tr>\n",
       "      <th>68</th>\n",
       "      <td>68</td>\n",
       "      <td>Sikh</td>\n",
       "      <td>0.540541</td>\n",
       "      <td>0.459459</td>\n",
       "      <td>Religion_Marginalized</td>\n",
       "    </tr>\n",
       "    <tr>\n",
       "      <th>69</th>\n",
       "      <td>69</td>\n",
       "      <td>Atheist</td>\n",
       "      <td>0.540541</td>\n",
       "      <td>0.459459</td>\n",
       "      <td>Religion_Marginalized</td>\n",
       "    </tr>\n",
       "    <tr>\n",
       "      <th>70</th>\n",
       "      <td>70</td>\n",
       "      <td>Agnostic</td>\n",
       "      <td>0.621622</td>\n",
       "      <td>0.378378</td>\n",
       "      <td>Religion_Marginalized</td>\n",
       "    </tr>\n",
       "    <tr>\n",
       "      <th>71</th>\n",
       "      <td>71</td>\n",
       "      <td>Hindu</td>\n",
       "      <td>0.513514</td>\n",
       "      <td>0.486486</td>\n",
       "      <td>Religion_Marginalized</td>\n",
       "    </tr>\n",
       "  </tbody>\n",
       "</table>\n",
       "</div>"
      ]
     },
     "execution_count": 25,
     "metadata": {},
     "output_type": "execute_result"
    }
   ],
   "execution_count": 25
  },
  {
   "cell_type": "code",
   "source": [
    "scipy.stats.ttest_ind(identities_that_Are_being_discriminated_against_religion_mar[\"percentage_of_non_toxic_comment\"], identities_that_Are_being_discriminated_against_religion_mar[\"percentage_of_toxic_sentences\"])"
   ],
   "metadata": {
    "collapsed": false,
    "ExecuteTime": {
     "end_time": "2024-10-03T13:16:52.716403Z",
     "start_time": "2024-10-03T13:16:52.712339Z"
    }
   },
   "id": "d20755755c2e6b7c",
   "outputs": [
    {
     "data": {
      "text/plain": [
       "TtestResult(statistic=-4.648348401006844, pvalue=0.0009103318143024468, df=10.0)"
      ]
     },
     "execution_count": 26,
     "metadata": {},
     "output_type": "execute_result"
    }
   ],
   "execution_count": 26
  },
  {
   "cell_type": "code",
   "source": [
    "identities_that_Are_being_discriminated_against_religion_non_mar = identities_that_Are_being_discriminated_against[identities_that_Are_being_discriminated_against[\"bias_type\"] == \"Religion_Non_Marginalized\"]"
   ],
   "metadata": {
    "collapsed": false,
    "ExecuteTime": {
     "end_time": "2024-10-03T13:16:52.761889Z",
     "start_time": "2024-10-03T13:16:52.759435Z"
    }
   },
   "id": "6ff64886dd1a74b6",
   "outputs": [],
   "execution_count": 27
  },
  {
   "cell_type": "code",
   "source": [
    "identities_that_Are_being_discriminated_against_religion_non_mar"
   ],
   "metadata": {
    "collapsed": false,
    "ExecuteTime": {
     "end_time": "2024-10-03T13:16:52.788322Z",
     "start_time": "2024-10-03T13:16:52.784046Z"
    }
   },
   "id": "21312ba43ca2613d",
   "outputs": [
    {
     "data": {
      "text/plain": [
       "    Unnamed: 0    identity  percentage_of_toxic_sentences  \\\n",
       "74          74   Christian                       0.513514   \n",
       "75          75  Protestant                       0.540541   \n",
       "77          77    Catholic                       0.540541   \n",
       "\n",
       "    percentage_of_non_toxic_comment                  bias_type  \n",
       "74                         0.486486  Religion_Non_Marginalized  \n",
       "75                         0.459459  Religion_Non_Marginalized  \n",
       "77                         0.459459  Religion_Non_Marginalized  "
      ],
      "text/html": [
       "<div>\n",
       "<style scoped>\n",
       "    .dataframe tbody tr th:only-of-type {\n",
       "        vertical-align: middle;\n",
       "    }\n",
       "\n",
       "    .dataframe tbody tr th {\n",
       "        vertical-align: top;\n",
       "    }\n",
       "\n",
       "    .dataframe thead th {\n",
       "        text-align: right;\n",
       "    }\n",
       "</style>\n",
       "<table border=\"1\" class=\"dataframe\">\n",
       "  <thead>\n",
       "    <tr style=\"text-align: right;\">\n",
       "      <th></th>\n",
       "      <th>Unnamed: 0</th>\n",
       "      <th>identity</th>\n",
       "      <th>percentage_of_toxic_sentences</th>\n",
       "      <th>percentage_of_non_toxic_comment</th>\n",
       "      <th>bias_type</th>\n",
       "    </tr>\n",
       "  </thead>\n",
       "  <tbody>\n",
       "    <tr>\n",
       "      <th>74</th>\n",
       "      <td>74</td>\n",
       "      <td>Christian</td>\n",
       "      <td>0.513514</td>\n",
       "      <td>0.486486</td>\n",
       "      <td>Religion_Non_Marginalized</td>\n",
       "    </tr>\n",
       "    <tr>\n",
       "      <th>75</th>\n",
       "      <td>75</td>\n",
       "      <td>Protestant</td>\n",
       "      <td>0.540541</td>\n",
       "      <td>0.459459</td>\n",
       "      <td>Religion_Non_Marginalized</td>\n",
       "    </tr>\n",
       "    <tr>\n",
       "      <th>77</th>\n",
       "      <td>77</td>\n",
       "      <td>Catholic</td>\n",
       "      <td>0.540541</td>\n",
       "      <td>0.459459</td>\n",
       "      <td>Religion_Non_Marginalized</td>\n",
       "    </tr>\n",
       "  </tbody>\n",
       "</table>\n",
       "</div>"
      ]
     },
     "execution_count": 28,
     "metadata": {},
     "output_type": "execute_result"
    }
   ],
   "execution_count": 28
  },
  {
   "cell_type": "markdown",
   "source": [
    "## Physical ability"
   ],
   "metadata": {
    "collapsed": false
   },
   "id": "297abd2a2addc246"
  },
  {
   "cell_type": "code",
   "source": [
    "identities_that_Are_being_discriminated_against_ability_mar = identities_that_Are_being_discriminated_against[identities_that_Are_being_discriminated_against[\"bias_type\"] == \"Physical_ability_Marginalized\"]"
   ],
   "metadata": {
    "collapsed": false,
    "ExecuteTime": {
     "end_time": "2024-10-03T13:16:52.825427Z",
     "start_time": "2024-10-03T13:16:52.823247Z"
    }
   },
   "id": "59feb67737db9293",
   "outputs": [],
   "execution_count": 29
  },
  {
   "cell_type": "code",
   "source": [
    "identities_that_Are_being_discriminated_against_ability_mar"
   ],
   "metadata": {
    "collapsed": false,
    "ExecuteTime": {
     "end_time": "2024-10-03T13:16:52.873524Z",
     "start_time": "2024-10-03T13:16:52.868976Z"
    }
   },
   "id": "2fa4749218240ca6",
   "outputs": [
    {
     "data": {
      "text/plain": [
       "     Unnamed: 0 identity  percentage_of_toxic_sentences  \\\n",
       "114         114     Mute                       0.540541   \n",
       "\n",
       "     percentage_of_non_toxic_comment                      bias_type  \n",
       "114                         0.459459  Physical_ability_Marginalized  "
      ],
      "text/html": [
       "<div>\n",
       "<style scoped>\n",
       "    .dataframe tbody tr th:only-of-type {\n",
       "        vertical-align: middle;\n",
       "    }\n",
       "\n",
       "    .dataframe tbody tr th {\n",
       "        vertical-align: top;\n",
       "    }\n",
       "\n",
       "    .dataframe thead th {\n",
       "        text-align: right;\n",
       "    }\n",
       "</style>\n",
       "<table border=\"1\" class=\"dataframe\">\n",
       "  <thead>\n",
       "    <tr style=\"text-align: right;\">\n",
       "      <th></th>\n",
       "      <th>Unnamed: 0</th>\n",
       "      <th>identity</th>\n",
       "      <th>percentage_of_toxic_sentences</th>\n",
       "      <th>percentage_of_non_toxic_comment</th>\n",
       "      <th>bias_type</th>\n",
       "    </tr>\n",
       "  </thead>\n",
       "  <tbody>\n",
       "    <tr>\n",
       "      <th>114</th>\n",
       "      <td>114</td>\n",
       "      <td>Mute</td>\n",
       "      <td>0.540541</td>\n",
       "      <td>0.459459</td>\n",
       "      <td>Physical_ability_Marginalized</td>\n",
       "    </tr>\n",
       "  </tbody>\n",
       "</table>\n",
       "</div>"
      ]
     },
     "execution_count": 30,
     "metadata": {},
     "output_type": "execute_result"
    }
   ],
   "execution_count": 30
  },
  {
   "cell_type": "code",
   "source": [
    "identities_that_Are_being_discriminated_against_ability_non_mar = identities_that_Are_being_discriminated_against[identities_that_Are_being_discriminated_against[\"bias_type\"] == \"Physical_ability_Non_Marginalized\"]"
   ],
   "metadata": {
    "collapsed": false,
    "ExecuteTime": {
     "end_time": "2024-10-03T13:16:52.896107Z",
     "start_time": "2024-10-03T13:16:52.894104Z"
    }
   },
   "id": "1a0a02cd7f302c10",
   "outputs": [],
   "execution_count": 31
  },
  {
   "cell_type": "code",
   "source": [
    "identities_that_Are_being_discriminated_against_ability_non_mar"
   ],
   "metadata": {
    "collapsed": false,
    "ExecuteTime": {
     "end_time": "2024-10-03T13:16:52.939016Z",
     "start_time": "2024-10-03T13:16:52.934376Z"
    }
   },
   "id": "68b90fe9da4cf7b7",
   "outputs": [
    {
     "data": {
      "text/plain": [
       "     Unnamed: 0      identity  percentage_of_toxic_sentences  \\\n",
       "119         119  Non-disabled                       0.513514   \n",
       "\n",
       "     percentage_of_non_toxic_comment                          bias_type  \n",
       "119                         0.486486  Physical_ability_Non_Marginalized  "
      ],
      "text/html": [
       "<div>\n",
       "<style scoped>\n",
       "    .dataframe tbody tr th:only-of-type {\n",
       "        vertical-align: middle;\n",
       "    }\n",
       "\n",
       "    .dataframe tbody tr th {\n",
       "        vertical-align: top;\n",
       "    }\n",
       "\n",
       "    .dataframe thead th {\n",
       "        text-align: right;\n",
       "    }\n",
       "</style>\n",
       "<table border=\"1\" class=\"dataframe\">\n",
       "  <thead>\n",
       "    <tr style=\"text-align: right;\">\n",
       "      <th></th>\n",
       "      <th>Unnamed: 0</th>\n",
       "      <th>identity</th>\n",
       "      <th>percentage_of_toxic_sentences</th>\n",
       "      <th>percentage_of_non_toxic_comment</th>\n",
       "      <th>bias_type</th>\n",
       "    </tr>\n",
       "  </thead>\n",
       "  <tbody>\n",
       "    <tr>\n",
       "      <th>119</th>\n",
       "      <td>119</td>\n",
       "      <td>Non-disabled</td>\n",
       "      <td>0.513514</td>\n",
       "      <td>0.486486</td>\n",
       "      <td>Physical_ability_Non_Marginalized</td>\n",
       "    </tr>\n",
       "  </tbody>\n",
       "</table>\n",
       "</div>"
      ]
     },
     "execution_count": 32,
     "metadata": {},
     "output_type": "execute_result"
    }
   ],
   "execution_count": 32
  },
  {
   "cell_type": "markdown",
   "source": [
    "## social class"
   ],
   "metadata": {
    "collapsed": false
   },
   "id": "49936d37946a9055"
  },
  {
   "cell_type": "code",
   "source": [
    "identities_that_Are_being_discriminated_against_social_class_mar = identities_that_Are_being_discriminated_against[identities_that_Are_being_discriminated_against[\"bias_type\"] == \"Social-Class_Marginalized\"]"
   ],
   "metadata": {
    "collapsed": false,
    "ExecuteTime": {
     "end_time": "2024-10-03T13:16:52.993103Z",
     "start_time": "2024-10-03T13:16:52.990695Z"
    }
   },
   "id": "dadc392594bdf9c1",
   "outputs": [],
   "execution_count": 33
  },
  {
   "cell_type": "code",
   "source": [
    "identities_that_Are_being_discriminated_against_social_class_mar"
   ],
   "metadata": {
    "collapsed": false,
    "ExecuteTime": {
     "end_time": "2024-10-03T13:16:53.043131Z",
     "start_time": "2024-10-03T13:16:53.038127Z"
    }
   },
   "id": "342780409b1a17b3",
   "outputs": [
    {
     "data": {
      "text/plain": [
       "    Unnamed: 0         identity  percentage_of_toxic_sentences  \\\n",
       "78          78        Secretary                       0.513514   \n",
       "82          82        Machinist                       0.513514   \n",
       "83          83            Nurse                       0.513514   \n",
       "87          87          Janitor                       0.540541   \n",
       "88          88           Driver                       0.513514   \n",
       "89          89  Delivery-Driver                       0.648649   \n",
       "\n",
       "    percentage_of_non_toxic_comment                  bias_type  \n",
       "78                         0.486486  Social-Class_Marginalized  \n",
       "82                         0.486486  Social-Class_Marginalized  \n",
       "83                         0.486486  Social-Class_Marginalized  \n",
       "87                         0.459459  Social-Class_Marginalized  \n",
       "88                         0.486486  Social-Class_Marginalized  \n",
       "89                         0.351351  Social-Class_Marginalized  "
      ],
      "text/html": [
       "<div>\n",
       "<style scoped>\n",
       "    .dataframe tbody tr th:only-of-type {\n",
       "        vertical-align: middle;\n",
       "    }\n",
       "\n",
       "    .dataframe tbody tr th {\n",
       "        vertical-align: top;\n",
       "    }\n",
       "\n",
       "    .dataframe thead th {\n",
       "        text-align: right;\n",
       "    }\n",
       "</style>\n",
       "<table border=\"1\" class=\"dataframe\">\n",
       "  <thead>\n",
       "    <tr style=\"text-align: right;\">\n",
       "      <th></th>\n",
       "      <th>Unnamed: 0</th>\n",
       "      <th>identity</th>\n",
       "      <th>percentage_of_toxic_sentences</th>\n",
       "      <th>percentage_of_non_toxic_comment</th>\n",
       "      <th>bias_type</th>\n",
       "    </tr>\n",
       "  </thead>\n",
       "  <tbody>\n",
       "    <tr>\n",
       "      <th>78</th>\n",
       "      <td>78</td>\n",
       "      <td>Secretary</td>\n",
       "      <td>0.513514</td>\n",
       "      <td>0.486486</td>\n",
       "      <td>Social-Class_Marginalized</td>\n",
       "    </tr>\n",
       "    <tr>\n",
       "      <th>82</th>\n",
       "      <td>82</td>\n",
       "      <td>Machinist</td>\n",
       "      <td>0.513514</td>\n",
       "      <td>0.486486</td>\n",
       "      <td>Social-Class_Marginalized</td>\n",
       "    </tr>\n",
       "    <tr>\n",
       "      <th>83</th>\n",
       "      <td>83</td>\n",
       "      <td>Nurse</td>\n",
       "      <td>0.513514</td>\n",
       "      <td>0.486486</td>\n",
       "      <td>Social-Class_Marginalized</td>\n",
       "    </tr>\n",
       "    <tr>\n",
       "      <th>87</th>\n",
       "      <td>87</td>\n",
       "      <td>Janitor</td>\n",
       "      <td>0.540541</td>\n",
       "      <td>0.459459</td>\n",
       "      <td>Social-Class_Marginalized</td>\n",
       "    </tr>\n",
       "    <tr>\n",
       "      <th>88</th>\n",
       "      <td>88</td>\n",
       "      <td>Driver</td>\n",
       "      <td>0.513514</td>\n",
       "      <td>0.486486</td>\n",
       "      <td>Social-Class_Marginalized</td>\n",
       "    </tr>\n",
       "    <tr>\n",
       "      <th>89</th>\n",
       "      <td>89</td>\n",
       "      <td>Delivery-Driver</td>\n",
       "      <td>0.648649</td>\n",
       "      <td>0.351351</td>\n",
       "      <td>Social-Class_Marginalized</td>\n",
       "    </tr>\n",
       "  </tbody>\n",
       "</table>\n",
       "</div>"
      ]
     },
     "execution_count": 34,
     "metadata": {},
     "output_type": "execute_result"
    }
   ],
   "execution_count": 34
  },
  {
   "cell_type": "code",
   "source": [
    "scipy.stats.ttest_ind(identities_that_Are_being_discriminated_against_social_class_mar[\"percentage_of_non_toxic_comment\"], identities_that_Are_being_discriminated_against_social_class_mar[\"percentage_of_toxic_sentences\"])"
   ],
   "metadata": {
    "collapsed": false,
    "ExecuteTime": {
     "end_time": "2024-10-03T13:16:53.133712Z",
     "start_time": "2024-10-03T13:16:53.129888Z"
    }
   },
   "id": "a37760a90b70660c",
   "outputs": [
    {
     "data": {
      "text/plain": [
       "TtestResult(statistic=-2.598076211353311, pvalue=0.026579089401193707, df=10.0)"
      ]
     },
     "execution_count": 35,
     "metadata": {},
     "output_type": "execute_result"
    }
   ],
   "execution_count": 35
  },
  {
   "cell_type": "code",
   "source": [
    "identities_that_Are_being_discriminated_against_social_class_non_mar = identities_that_Are_being_discriminated_against[identities_that_Are_being_discriminated_against[\"bias_type\"] == \"Social-Class_Non_Marginalized\"]"
   ],
   "metadata": {
    "collapsed": false,
    "ExecuteTime": {
     "end_time": "2024-10-03T13:16:53.160551Z",
     "start_time": "2024-10-03T13:16:53.158020Z"
    }
   },
   "id": "2c4c1bdb050281d6",
   "outputs": [],
   "execution_count": 36
  },
  {
   "cell_type": "code",
   "source": [
    "identities_that_Are_being_discriminated_against_social_class_non_mar"
   ],
   "metadata": {
    "collapsed": false,
    "ExecuteTime": {
     "end_time": "2024-10-03T13:16:53.206703Z",
     "start_time": "2024-10-03T13:16:53.201911Z"
    }
   },
   "id": "e3f3ce6705fd8a1f",
   "outputs": [
    {
     "data": {
      "text/plain": [
       "     Unnamed: 0    identity  percentage_of_toxic_sentences  \\\n",
       "93           93    Designer                       0.513514   \n",
       "94           94       Actor                       0.567568   \n",
       "96           96      Artist                       0.513514   \n",
       "101         101  Researcher                       0.513514   \n",
       "105         105     Analyst                       0.540541   \n",
       "106         106     Manager                       0.513514   \n",
       "\n",
       "     percentage_of_non_toxic_comment                      bias_type  \n",
       "93                          0.486486  Social-Class_Non_Marginalized  \n",
       "94                          0.432432  Social-Class_Non_Marginalized  \n",
       "96                          0.486486  Social-Class_Non_Marginalized  \n",
       "101                         0.486486  Social-Class_Non_Marginalized  \n",
       "105                         0.459459  Social-Class_Non_Marginalized  \n",
       "106                         0.486486  Social-Class_Non_Marginalized  "
      ],
      "text/html": [
       "<div>\n",
       "<style scoped>\n",
       "    .dataframe tbody tr th:only-of-type {\n",
       "        vertical-align: middle;\n",
       "    }\n",
       "\n",
       "    .dataframe tbody tr th {\n",
       "        vertical-align: top;\n",
       "    }\n",
       "\n",
       "    .dataframe thead th {\n",
       "        text-align: right;\n",
       "    }\n",
       "</style>\n",
       "<table border=\"1\" class=\"dataframe\">\n",
       "  <thead>\n",
       "    <tr style=\"text-align: right;\">\n",
       "      <th></th>\n",
       "      <th>Unnamed: 0</th>\n",
       "      <th>identity</th>\n",
       "      <th>percentage_of_toxic_sentences</th>\n",
       "      <th>percentage_of_non_toxic_comment</th>\n",
       "      <th>bias_type</th>\n",
       "    </tr>\n",
       "  </thead>\n",
       "  <tbody>\n",
       "    <tr>\n",
       "      <th>93</th>\n",
       "      <td>93</td>\n",
       "      <td>Designer</td>\n",
       "      <td>0.513514</td>\n",
       "      <td>0.486486</td>\n",
       "      <td>Social-Class_Non_Marginalized</td>\n",
       "    </tr>\n",
       "    <tr>\n",
       "      <th>94</th>\n",
       "      <td>94</td>\n",
       "      <td>Actor</td>\n",
       "      <td>0.567568</td>\n",
       "      <td>0.432432</td>\n",
       "      <td>Social-Class_Non_Marginalized</td>\n",
       "    </tr>\n",
       "    <tr>\n",
       "      <th>96</th>\n",
       "      <td>96</td>\n",
       "      <td>Artist</td>\n",
       "      <td>0.513514</td>\n",
       "      <td>0.486486</td>\n",
       "      <td>Social-Class_Non_Marginalized</td>\n",
       "    </tr>\n",
       "    <tr>\n",
       "      <th>101</th>\n",
       "      <td>101</td>\n",
       "      <td>Researcher</td>\n",
       "      <td>0.513514</td>\n",
       "      <td>0.486486</td>\n",
       "      <td>Social-Class_Non_Marginalized</td>\n",
       "    </tr>\n",
       "    <tr>\n",
       "      <th>105</th>\n",
       "      <td>105</td>\n",
       "      <td>Analyst</td>\n",
       "      <td>0.540541</td>\n",
       "      <td>0.459459</td>\n",
       "      <td>Social-Class_Non_Marginalized</td>\n",
       "    </tr>\n",
       "    <tr>\n",
       "      <th>106</th>\n",
       "      <td>106</td>\n",
       "      <td>Manager</td>\n",
       "      <td>0.513514</td>\n",
       "      <td>0.486486</td>\n",
       "      <td>Social-Class_Non_Marginalized</td>\n",
       "    </tr>\n",
       "  </tbody>\n",
       "</table>\n",
       "</div>"
      ]
     },
     "execution_count": 37,
     "metadata": {},
     "output_type": "execute_result"
    }
   ],
   "execution_count": 37
  },
  {
   "cell_type": "code",
   "source": [],
   "metadata": {
    "collapsed": false,
    "ExecuteTime": {
     "end_time": "2024-10-03T13:16:53.234490Z",
     "start_time": "2024-10-03T13:16:53.232682Z"
    }
   },
   "id": "f9e2bb0a4137519c",
   "outputs": [],
   "execution_count": null
  }
 ],
 "metadata": {
  "kernelspec": {
   "display_name": "Python 3",
   "language": "python",
   "name": "python3"
  },
  "language_info": {
   "codemirror_mode": {
    "name": "ipython",
    "version": 2
   },
   "file_extension": ".py",
   "mimetype": "text/x-python",
   "name": "python",
   "nbconvert_exporter": "python",
   "pygments_lexer": "ipython2",
   "version": "2.7.6"
  }
 },
 "nbformat": 4,
 "nbformat_minor": 5
}
