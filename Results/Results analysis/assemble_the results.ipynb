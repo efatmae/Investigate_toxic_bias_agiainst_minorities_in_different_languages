{
 "cells": [
  {
   "cell_type": "code",
   "execution_count": 1,
   "id": "initial_id",
   "metadata": {
    "collapsed": true,
    "ExecuteTime": {
     "end_time": "2024-10-01T14:01:09.319603Z",
     "start_time": "2024-10-01T14:01:09.037618Z"
    }
   },
   "outputs": [
    {
     "name": "stderr",
     "output_type": "stream",
     "text": [
      "/var/folders/x3/1y_5ght92yzbk007v60qj2k40000gn/T/ipykernel_47144/1757469225.py:1: DeprecationWarning: \n",
      "Pyarrow will become a required dependency of pandas in the next major release of pandas (pandas 3.0),\n",
      "(to allow more performant data types, such as the Arrow string type, and better interoperability with other libraries)\n",
      "but was not found to be installed on your system.\n",
      "If this would cause problems for you,\n",
      "please provide us feedback at https://github.com/pandas-dev/pandas/issues/54466\n",
      "        \n",
      "  import pandas as pd\n"
     ]
    }
   ],
   "source": [
    "import pandas as pd\n",
    "import scipy"
   ]
  },
  {
   "cell_type": "code",
   "execution_count": 2,
   "outputs": [],
   "source": [
    " def print_SOS_bias_agaonst_specific_identity(toxic_or_not, df, identity):\n",
    "        identity_df = df[df[\"identity\"] == identity]\n",
    "        #print(\"No. entries for \"+ identity, len(identity_df))\n",
    "        group = identity_df[\"bias_type\"].values.tolist()[0]\n",
    "        No_entires = identity_df[identity_df[\"score\"] == toxic_or_not]\n",
    "        #if toxic_or_not == 1:\n",
    "        #        print(\"No. toxic entries for \"+identity,len(No_entires))\n",
    "        #else:\n",
    "         #       print(\"No. non-toxic entries for \"+identity,len(No_entires))\n",
    "        score = len(No_entires) / len(identity_df)\n",
    "        #print(identity, score)\n",
    "        return score, group"
   ],
   "metadata": {
    "collapsed": false,
    "ExecuteTime": {
     "end_time": "2024-10-01T14:01:09.454031Z",
     "start_time": "2024-10-01T14:01:09.450157Z"
    }
   },
   "id": "4c4347b0f40f99d2"
  },
  {
   "cell_type": "code",
   "execution_count": 3,
   "outputs": [],
   "source": [
    "UK_data = pd.read_csv(\"../Log-Likihood/English_LMs/UK_SOS_albert-base-v2.csv\")"
   ],
   "metadata": {
    "collapsed": false,
    "ExecuteTime": {
     "end_time": "2024-10-01T14:01:09.866449Z",
     "start_time": "2024-10-01T14:01:09.855468Z"
    }
   },
   "id": "22f367807639e29f"
  },
  {
   "cell_type": "code",
   "execution_count": 4,
   "outputs": [],
   "source": [
    "US_data =  pd.read_csv(\"../Log-Likihood/English_LMs/US_SOS_albert-base-v2.csv\")"
   ],
   "metadata": {
    "collapsed": false,
    "ExecuteTime": {
     "end_time": "2024-10-01T14:01:10.149192Z",
     "start_time": "2024-10-01T14:01:10.137306Z"
    }
   },
   "id": "e0ee18fb66278959"
  },
  {
   "cell_type": "code",
   "execution_count": 5,
   "outputs": [],
   "source": [
    "Arabic_data =  pd.read_csv(\"../Log-Likihood/Arabic_LMs/Arabic_Mascline_SOS_bert-base-arabic-camelbert-msa-sixteenth.csv\")"
   ],
   "metadata": {
    "collapsed": false,
    "ExecuteTime": {
     "end_time": "2024-10-01T14:01:10.427227Z",
     "start_time": "2024-10-01T14:01:10.414876Z"
    }
   },
   "id": "167f5c5f5ab4078"
  },
  {
   "cell_type": "code",
   "execution_count": 6,
   "outputs": [],
   "source": [
    "Arabic_intersectionality_data =  pd.read_csv(\"../Log-Likihood/Arabic_LMs/Arabic_Femminine_SOS_bert-base-arabic-camelbert-msa-sixteenth.csv\")"
   ],
   "metadata": {
    "collapsed": false,
    "ExecuteTime": {
     "end_time": "2024-10-01T14:01:10.750142Z",
     "start_time": "2024-10-01T14:01:10.728559Z"
    }
   },
   "id": "e7da63a38d02bf83"
  },
  {
   "cell_type": "code",
   "execution_count": 7,
   "outputs": [],
   "source": [
    "def assemble_data_in_df (df, identities):\n",
    "    prcnt_toxic_sent_aginst_identity = []\n",
    "    prcnt_non_toxic_sent_aginst_identity = []\n",
    "    groups = []\n",
    "    for i in identities:\n",
    "        toxic_score, group_toxic = print_SOS_bias_agaonst_specific_identity(1, df, i)\n",
    "        non_toxic_score, _ = print_SOS_bias_agaonst_specific_identity(0, df, i)\n",
    "        \n",
    "        \n",
    "        prcnt_toxic_sent_aginst_identity.append(toxic_score)\n",
    "        groups.append(group_toxic)\n",
    "        prcnt_non_toxic_sent_aginst_identity.append(non_toxic_score)\n",
    "        \n",
    "    dta_analysis_for_each_identity = {\"identity\": identities,\n",
    "                                  \"percentage_of_toxic_sentences\": prcnt_toxic_sent_aginst_identity,\n",
    "                                  \"percentage_of_non_toxic_comment\": prcnt_non_toxic_sent_aginst_identity,\n",
    "                                  \"bias_type\": groups}\n",
    "\n",
    "    dta_analysis_for_each_identity_df = pd.DataFrame(dta_analysis_for_each_identity)\n",
    "    \n",
    "    return dta_analysis_for_each_identity_df"
   ],
   "metadata": {
    "collapsed": false,
    "ExecuteTime": {
     "end_time": "2024-10-01T14:01:11.084145Z",
     "start_time": "2024-10-01T14:01:11.080187Z"
    }
   },
   "id": "4128e604e76adb9d"
  },
  {
   "cell_type": "code",
   "execution_count": 8,
   "outputs": [],
   "source": [
    "identities = UK_data[\"identity\"].unique().tolist()\n",
    "data_analysis_for_each_identity_df_UK = assemble_data_in_df (UK_data, identities)"
   ],
   "metadata": {
    "collapsed": false,
    "ExecuteTime": {
     "end_time": "2024-10-01T14:01:11.888664Z",
     "start_time": "2024-10-01T14:01:11.779731Z"
    }
   },
   "id": "f14abdc51cae1819"
  },
  {
   "cell_type": "code",
   "execution_count": 9,
   "outputs": [],
   "source": [
    "data_analysis_for_each_identity_df_UK.to_csv(\"../Log-Likihood/English_LMs/UK_albert-base-v2_detailed_rsults_for_each_identity.csv\")"
   ],
   "metadata": {
    "collapsed": false,
    "ExecuteTime": {
     "end_time": "2024-10-01T14:01:12.085243Z",
     "start_time": "2024-10-01T14:01:12.079941Z"
    }
   },
   "id": "f7c8dc46d2702ef5"
  },
  {
   "cell_type": "code",
   "execution_count": 13,
   "outputs": [],
   "source": [
    "US_identities = US_data[\"identity\"].unique().tolist()\n",
    "data_analysis_for_each_identity_df_US = assemble_data_in_df (US_data, US_identities)\n",
    "data_analysis_for_each_identity_df_US.to_csv(\"../Log-Likihood/English_LMs/US_albert-base-v2_detailed_rsults_for_each_identity.csv\")"
   ],
   "metadata": {
    "collapsed": false,
    "ExecuteTime": {
     "end_time": "2024-10-01T14:31:08.299964Z",
     "start_time": "2024-10-01T14:31:08.209424Z"
    }
   },
   "id": "f34ead323e9f51a5"
  },
  {
   "cell_type": "code",
   "execution_count": 11,
   "outputs": [],
   "source": [
    "Arabic_identities = Arabic_data[\"identity\"].unique().tolist()\n",
    "data_analysis_for_each_identity_df_arab = assemble_data_in_df (Arabic_data, Arabic_identities)\n",
    "data_analysis_for_each_identity_df_arab.to_csv(\"../Log-Likihood/Arabic_LMs/arabic_albert-base-v2_detailed_rsults_for_each_identity.csv\")"
   ],
   "metadata": {
    "collapsed": false,
    "ExecuteTime": {
     "end_time": "2024-10-01T14:03:59.718871Z",
     "start_time": "2024-10-01T14:03:59.613744Z"
    }
   },
   "id": "7d524d05f9976adf"
  },
  {
   "cell_type": "code",
   "execution_count": 12,
   "outputs": [],
   "source": [
    "Arabic_intersectional_identities = Arabic_intersectionality_data[\"identity\"].unique().tolist()\n",
    "data_analysis_for_each_identity_df_arab_intersectional = assemble_data_in_df (Arabic_intersectionality_data, Arabic_intersectional_identities)\n",
    "data_analysis_for_each_identity_df_arab_intersectional.to_csv(\"../Log-Likihood/Arabic_LMs/arabic_intersectional_albert-base-v2_detailed_rsults_for_each_identity.csv\")"
   ],
   "metadata": {
    "collapsed": false,
    "ExecuteTime": {
     "end_time": "2024-10-01T14:05:13.131095Z",
     "start_time": "2024-10-01T14:05:13.024535Z"
    }
   },
   "id": "4ec87591d74ea52a"
  },
  {
   "cell_type": "code",
   "execution_count": null,
   "outputs": [],
   "source": [],
   "metadata": {
    "collapsed": false
   },
   "id": "3f529d2d1e8d778f"
  }
 ],
 "metadata": {
  "kernelspec": {
   "display_name": "Python 3",
   "language": "python",
   "name": "python3"
  },
  "language_info": {
   "codemirror_mode": {
    "name": "ipython",
    "version": 2
   },
   "file_extension": ".py",
   "mimetype": "text/x-python",
   "name": "python",
   "nbconvert_exporter": "python",
   "pygments_lexer": "ipython2",
   "version": "2.7.6"
  }
 },
 "nbformat": 4,
 "nbformat_minor": 5
}
